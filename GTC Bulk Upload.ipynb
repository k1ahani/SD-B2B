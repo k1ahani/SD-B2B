{
 "cells": [
  {
   "cell_type": "code",
   "execution_count": 2,
   "id": "31fe1032-a1ba-4ea5-8650-690d3b69387b",
   "metadata": {},
   "outputs": [],
   "source": [
    "import requests\n",
    "# import json\n",
    "from pathlib import Path\n",
    "from tqdm.auto import tqdm\n",
    "from tqdm.utils import CallbackIOWrapper"
   ]
  },
  {
   "cell_type": "code",
   "execution_count": 3,
   "id": "b8bb81b2-ff6c-49cf-847d-7f6a1873b393",
   "metadata": {},
   "outputs": [],
   "source": [
    "DOMAIN = \"https://qa-selfdecode.com\"\n",
    "auth_token = \"Token ###\"\n",
    "\n",
    "headers = {\"Accept\": \"application/json\",\n",
    "           \"Content-Type\": \"application/json\",\n",
    "           \"Authorization\": auth_token}"
   ]
  },
  {
   "cell_type": "code",
   "execution_count": 4,
   "id": "8a7385a4-2ae6-402f-b657-5f8e4d393184",
   "metadata": {},
   "outputs": [],
   "source": [
    "def bulk_upload_creation(filename):\n",
    "    url = f\"{DOMAIN}/service/genome-files/bulk-upload/\"\n",
    "    \n",
    "    payload = {\"filename\": filename}\n",
    "    \n",
    "    response = requests.post(url,\n",
    "                             json=payload,\n",
    "                             headers=headers)\n",
    "    response.raise_for_status()\n",
    "    print(\"Bulk_upload_id\",response.json()['id'],\"created successfully.\")\n",
    "    return response.json()[\"id\"], response.json()[\"url\"]"
   ]
  },
  {
   "cell_type": "code",
   "execution_count": 5,
   "id": "e2e3fae6-5200-4065-8291-18d4dc9cf04f",
   "metadata": {},
   "outputs": [],
   "source": [
    "def upload_file(file_path, upload_url):\n",
    "    file_size = Path(file_path).stat().st_size\n",
    "    \n",
    "    with open(file_path, \"rb\") as f:\n",
    "        with tqdm(total=file_size, unit=\"B\", unit_scale=True, unit_divisor=1024, desc=file_path) as t:\n",
    "            wrapped_file = CallbackIOWrapper(t.update, f, \"read\")\n",
    "            response = requests.put(upload_url,\n",
    "                                    data=wrapped_file)\n",
    "            response.raise_for_status()"
   ]
  },
  {
   "cell_type": "code",
   "execution_count": 6,
   "id": "0c1a26ee-d1c5-4f38-89c1-e3335e8d0d59",
   "metadata": {},
   "outputs": [],
   "source": [
    "def finish_bulk_upload(upload_id):\n",
    "    url = f\"{DOMAIN}/service/genome-files/bulk-upload/{upload_id}/\"\n",
    "    \n",
    "    response = requests.delete(url,\n",
    "                               headers=headers)\n",
    "    response.raise_for_status()\n",
    "    print(f\"Bulk_upload_id {upload_id} finished successfully.\")"
   ]
  },
  {
   "cell_type": "code",
   "execution_count": 7,
   "id": "a60a4409-e777-4ffc-9243-9f87821c60fd",
   "metadata": {},
   "outputs": [],
   "source": [
    "def bulk_upload_status(upload_id):\n",
    "    url = f\"{DOMAIN}/service/genome-files/bulk-upload/{upload_id}/\"\n",
    "    \n",
    "    response = requests.get(url,\n",
    "                               headers=headers)\n",
    "    response.raise_for_status()\n",
    "    return response.json()"
   ]
  },
  {
   "cell_type": "markdown",
   "id": "e2d04aa0-298f-41b2-9607-2c34ef055945",
   "metadata": {},
   "source": [
    "# Commands"
   ]
  },
  {
   "cell_type": "code",
   "execution_count": 1,
   "id": "352da2b7-ee82-4757-a95e-d7e773bfa520",
   "metadata": {},
   "outputs": [],
   "source": [
    "bulk_upload_file = 'GI_batch1.zip'"
   ]
  },
  {
   "cell_type": "code",
   "execution_count": null,
   "id": "aaefe4fc-b87b-4b51-9b3b-ebbfe9451686",
   "metadata": {},
   "outputs": [],
   "source": [
    "bulk_upload(bulk_upload_file)"
   ]
  }
 ],
 "metadata": {
  "kernelspec": {
   "display_name": "Python 3 (ipykernel)",
   "language": "python",
   "name": "python3"
  },
  "language_info": {
   "codemirror_mode": {
    "name": "ipython",
    "version": 3
   },
   "file_extension": ".py",
   "mimetype": "text/x-python",
   "name": "python",
   "nbconvert_exporter": "python",
   "pygments_lexer": "ipython3",
   "version": "3.9.16"
  }
 },
 "nbformat": 4,
 "nbformat_minor": 5
}
