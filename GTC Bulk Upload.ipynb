{
 "cells": [
  {
   "cell_type": "markdown",
   "id": "46387e84-bfe8-4f40-aec6-d2d838ce116d",
   "metadata": {},
   "source": [
    "# Libraries import"
   ]
  },
  {
   "cell_type": "code",
   "execution_count": 21,
   "id": "31fe1032-a1ba-4ea5-8650-690d3b69387b",
   "metadata": {},
   "outputs": [],
   "source": [
    "import requests\n",
    "from pathlib import Path\n",
    "from tqdm.auto import tqdm\n",
    "from tqdm.utils import CallbackIOWrapper\n",
    "import zipfile"
   ]
  },
  {
   "cell_type": "markdown",
   "id": "2541095b-3770-442f-92f5-085018bc1b3a",
   "metadata": {},
   "source": [
    "# Functions definition"
   ]
  },
  {
   "cell_type": "code",
   "execution_count": 19,
   "id": "5bae7970-4cb5-42a5-b094-5e27a3a08c40",
   "metadata": {},
   "outputs": [],
   "source": [
    "def check_bulk_upload_file(filename):\n",
    "    if Path(filename).suffix != \".zip\":\n",
    "        raise Exception(\"Bulk_upload file should be a zipped file\")\n",
    "    with zipfile.ZipFile(bulk_upload_file) as z:\n",
    "        if not any(\"manifest\" in x.lower() for x in z.namelist()):\n",
    "            Exception(\"Manifest file missing from the zip file\")"
   ]
  },
  {
   "cell_type": "code",
   "execution_count": 1,
   "id": "8a7385a4-2ae6-402f-b657-5f8e4d393184",
   "metadata": {},
   "outputs": [],
   "source": [
    "def bulk_upload_creation(filename):\n",
    "    url = f\"{DOMAIN}/service/genome-files/bulk-upload/\"\n",
    "    \n",
    "    payload = {\"filename\": filename}\n",
    "    \n",
    "    response = requests.post(url,\n",
    "                             json=payload,\n",
    "                             headers=headers)\n",
    "    response.raise_for_status()\n",
    "    print(\"Bulk_upload_id\",response.json()['id'],\"created successfully.\")\n",
    "    return response.json()[\"id\"], response.json()[\"url\"]"
   ]
  },
  {
   "cell_type": "code",
   "execution_count": 5,
   "id": "e2e3fae6-5200-4065-8291-18d4dc9cf04f",
   "metadata": {},
   "outputs": [],
   "source": [
    "def upload_file(file_path, upload_url):\n",
    "    file_size = Path(file_path).stat().st_size\n",
    "    \n",
    "    with open(file_path, \"rb\") as f:\n",
    "        with tqdm(total=file_size, unit=\"B\", unit_scale=True, unit_divisor=1024, desc=file_path) as t:\n",
    "            wrapped_file = CallbackIOWrapper(t.update, f, \"read\")\n",
    "            response = requests.put(upload_url,\n",
    "                                    data=wrapped_file)\n",
    "            response.raise_for_status()"
   ]
  },
  {
   "cell_type": "code",
   "execution_count": 6,
   "id": "0c1a26ee-d1c5-4f38-89c1-e3335e8d0d59",
   "metadata": {},
   "outputs": [],
   "source": [
    "def finish_bulk_upload(upload_id):\n",
    "    url = f\"{DOMAIN}/service/genome-files/bulk-upload/{upload_id}/\"\n",
    "    \n",
    "    response = requests.delete(url,\n",
    "                               headers=headers)\n",
    "    response.raise_for_status()\n",
    "    print(f\"Bulk_upload_id {upload_id} finished successfully.\")"
   ]
  },
  {
   "cell_type": "code",
   "execution_count": 7,
   "id": "a60a4409-e777-4ffc-9243-9f87821c60fd",
   "metadata": {},
   "outputs": [],
   "source": [
    "def bulk_upload_status(upload_id):\n",
    "    url = f\"{DOMAIN}/service/genome-files/bulk-upload/{upload_id}/\"\n",
    "    \n",
    "    response = requests.get(url,\n",
    "                               headers=headers)\n",
    "    response.raise_for_status()\n",
    "    return response.json()"
   ]
  },
  {
   "cell_type": "code",
   "execution_count": null,
   "id": "0c5e5655-7a02-4caa-91a6-ccb08b21f004",
   "metadata": {},
   "outputs": [],
   "source": [
    "def bulk_upload(filename):\n",
    "    check_bulk_upload_file(filename)\n",
    "    upload_id, upload_url = bulk_upload_creation(filename)\n",
    "    upload_file(filename, upload_url)\n",
    "    finish_bulk_upload(upload_id)\n",
    "    return upload_id"
   ]
  },
  {
   "cell_type": "markdown",
   "id": "fa290170-dc04-4dd3-8cd0-dc920236710b",
   "metadata": {},
   "source": [
    "# Variables setup"
   ]
  },
  {
   "cell_type": "code",
   "execution_count": 3,
   "id": "b8bb81b2-ff6c-49cf-847d-7f6a1873b393",
   "metadata": {},
   "outputs": [],
   "source": [
    "DOMAIN = \"https://qa-selfdecode.com\"\n",
    "auth_token = \"Token ###\"\n",
    "\n",
    "headers = {\"Accept\": \"application/json\",\n",
    "           \"Content-Type\": \"application/json\",\n",
    "           \"Authorization\": auth_token}"
   ]
  },
  {
   "cell_type": "code",
   "execution_count": 7,
   "id": "352da2b7-ee82-4757-a95e-d7e773bfa520",
   "metadata": {},
   "outputs": [],
   "source": [
    "bulk_upload_file = 'GI_batch1.zip'"
   ]
  },
  {
   "cell_type": "markdown",
   "id": "5982535d-bce8-45c6-b2d7-0619c21d6827",
   "metadata": {},
   "source": [
    "_Notes:_\n",
    "- The file to be uploaded must be a zipped file (.zip)\n",
    "- The zipped file must include the GTC files and a _manifest_ file\n",
    "- The _manifest_ file must:\n",
    "  - Have \"manifest\" in its name\n",
    "  - Be comma or white-space delimited (.csv or .txt)\n",
    "  - Have column names in first row\n",
    "  - have _'sample_id'_, _'call_rate'_, and _'filename'_ columns, where _'sample_id'_ would be the barcode"
   ]
  },
  {
   "cell_type": "markdown",
   "id": "e2d04aa0-298f-41b2-9607-2c34ef055945",
   "metadata": {},
   "source": [
    "# Commands"
   ]
  },
  {
   "cell_type": "markdown",
   "id": "24023aea-69e3-485b-ac11-0735a2da0efe",
   "metadata": {},
   "source": [
    "## Upload bulk file"
   ]
  },
  {
   "cell_type": "code",
   "execution_count": null,
   "id": "aaefe4fc-b87b-4b51-9b3b-ebbfe9451686",
   "metadata": {},
   "outputs": [],
   "source": [
    "upload_id = bulk_upload(bulk_upload_file)"
   ]
  },
  {
   "cell_type": "markdown",
   "id": "040dbb70-ad72-4026-a701-fd3976c456b9",
   "metadata": {},
   "source": [
    "## Check upload status"
   ]
  },
  {
   "cell_type": "code",
   "execution_count": null,
   "id": "7888c853-0a49-4d64-b6fa-0028845d9cca",
   "metadata": {},
   "outputs": [],
   "source": [
    "bulk_upload_status(upload_id)"
   ]
  }
 ],
 "metadata": {
  "kernelspec": {
   "display_name": "Python 3 (ipykernel)",
   "language": "python",
   "name": "python3"
  },
  "language_info": {
   "codemirror_mode": {
    "name": "ipython",
    "version": 3
   },
   "file_extension": ".py",
   "mimetype": "text/x-python",
   "name": "python",
   "nbconvert_exporter": "python",
   "pygments_lexer": "ipython3",
   "version": "3.9.16"
  }
 },
 "nbformat": 4,
 "nbformat_minor": 5
}
