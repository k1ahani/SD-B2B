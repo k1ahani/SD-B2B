{
 "cells": [
  {
   "cell_type": "markdown",
   "id": "a5fd8fe8-3ecb-4959-b280-dca6ae073ed6",
   "metadata": {},
   "source": [
    "# Config"
   ]
  },
  {
   "cell_type": "markdown",
   "id": "197f8ee3-6d5c-497d-8707-fac3373db111",
   "metadata": {},
   "source": [
    "## Libraries"
   ]
  },
  {
   "cell_type": "code",
   "execution_count": 26,
   "id": "a3efa04f-f7e8-498f-90fc-c2f1f13b68b6",
   "metadata": {},
   "outputs": [],
   "source": [
    "import pandas as pd\n",
    "import requests\n",
    "import json\n",
    "import plotly.graph_objects as go\n",
    "from IPython.core.display import HTML"
   ]
  },
  {
   "cell_type": "markdown",
   "id": "e0e42126-e4cd-44af-bbc7-f98a71f534fd",
   "metadata": {},
   "source": [
    "## Environment"
   ]
  },
  {
   "cell_type": "code",
   "execution_count": 2,
   "id": "e4dbe9ee-bef0-421c-9078-94b8601c61e5",
   "metadata": {},
   "outputs": [],
   "source": [
    "domains = {\n",
    "    \"dev\": \"https://dev-selfdecode.com\",\n",
    "    \"qa\": \"https://qa-selfdecode.com\",\n",
    "    \"qa-b2b\": \"https://qa-b2b.selfdecode.com\",\n",
    "    \"prod\": \"https://selfdecode.com\",\n",
    "    \"prod-eu\": \"https://eu.selfdecode.com\"\n",
    "}"
   ]
  },
  {
   "cell_type": "code",
   "execution_count": 3,
   "id": "2c025632-2c98-4f04-9570-6bb43934c4c9",
   "metadata": {},
   "outputs": [],
   "source": [
    "tokens = pd.read_csv('tokens2.csv', index_col=['company', 'env'])"
   ]
  },
  {
   "cell_type": "code",
   "execution_count": 85,
   "id": "a3ce32e4-33cb-43a3-88b8-e8f837ece7bb",
   "metadata": {},
   "outputs": [],
   "source": [
    "env = 'qa'\n",
    "company = 'arquimea'\n",
    "language = 'es'\n",
    "\n",
    "DOMAIN = domains[env]\n",
    "auth_token = \"Token \" + tokens.loc[company, env].item()\n",
    "cookies = {\"sd-lang\": language}\n",
    "\n",
    "headers = {\"Accept\": \"application/json\",\n",
    "           \"Content-Type\": \"application/json\",\n",
    "           \"Authorization\": auth_token}"
   ]
  },
  {
   "cell_type": "markdown",
   "id": "3e3559eb-21a8-4e81-ba19-dfeb3fd9c389",
   "metadata": {},
   "source": [
    "# Profile"
   ]
  },
  {
   "cell_type": "code",
   "execution_count": 12,
   "id": "de0b693e-3a45-40d9-9196-17262668c291",
   "metadata": {},
   "outputs": [],
   "source": [
    "def get_profiles(profile_id=''):\n",
    "    url = f\"{DOMAIN}/service/profiles/profile/{profile_id}\"\n",
    "    \n",
    "    response = requests.get(url,\n",
    "                            headers = headers)\n",
    "    response.raise_for_status()\n",
    "    return response.json()"
   ]
  },
  {
   "cell_type": "code",
   "execution_count": 86,
   "id": "4d900aef-103e-4d5b-b855-f74c2897a03f",
   "metadata": {
    "scrolled": true,
    "tags": []
   },
   "outputs": [
    {
     "data": {
      "text/html": [
       "<div>\n",
       "<style scoped>\n",
       "    .dataframe tbody tr th:only-of-type {\n",
       "        vertical-align: middle;\n",
       "    }\n",
       "\n",
       "    .dataframe tbody tr th {\n",
       "        vertical-align: top;\n",
       "    }\n",
       "\n",
       "    .dataframe thead th {\n",
       "        text-align: right;\n",
       "    }\n",
       "</style>\n",
       "<table border=\"1\" class=\"dataframe\">\n",
       "  <thead>\n",
       "    <tr style=\"text-align: right;\">\n",
       "      <th></th>\n",
       "      <th>id</th>\n",
       "      <th>user_id</th>\n",
       "      <th>name</th>\n",
       "      <th>ethnicity</th>\n",
       "      <th>secondary_ethnicity</th>\n",
       "      <th>sex</th>\n",
       "      <th>birth_day</th>\n",
       "      <th>birth_month</th>\n",
       "      <th>birth_year</th>\n",
       "      <th>has_data_missing</th>\n",
       "      <th>dna_sample_id</th>\n",
       "      <th>is_v2</th>\n",
       "      <th>created_at</th>\n",
       "      <th>email</th>\n",
       "      <th>height</th>\n",
       "      <th>weight</th>\n",
       "      <th>created_by_migration</th>\n",
       "    </tr>\n",
       "  </thead>\n",
       "  <tbody>\n",
       "    <tr>\n",
       "      <th>0</th>\n",
       "      <td>cfb252fc-503b-458d-a2b6-14f73e27df20</td>\n",
       "      <td>cc81c558-0484-47cf-85a4-53a97ce1da0b</td>\n",
       "      <td>David Fernández (2022-11-03T12:55:54.680448)</td>\n",
       "      <td>White or European</td>\n",
       "      <td>None</td>\n",
       "      <td>Male</td>\n",
       "      <td>17.0</td>\n",
       "      <td>9.0</td>\n",
       "      <td>1976</td>\n",
       "      <td>False</td>\n",
       "      <td>None</td>\n",
       "      <td>True</td>\n",
       "      <td>1.667480e+09</td>\n",
       "      <td>davidf.76+epi@gmail.com</td>\n",
       "      <td>180.0</td>\n",
       "      <td>86.0</td>\n",
       "      <td>False</td>\n",
       "    </tr>\n",
       "    <tr>\n",
       "      <th>1</th>\n",
       "      <td>58aabe53-47b6-4d20-9088-e0375f3d6d60</td>\n",
       "      <td>cc81c558-0484-47cf-85a4-53a97ce1da0b</td>\n",
       "      <td>Test Arq</td>\n",
       "      <td>White or European</td>\n",
       "      <td>None</td>\n",
       "      <td>Male</td>\n",
       "      <td>NaN</td>\n",
       "      <td>NaN</td>\n",
       "      <td>1976</td>\n",
       "      <td>False</td>\n",
       "      <td>None</td>\n",
       "      <td>True</td>\n",
       "      <td>1.669631e+09</td>\n",
       "      <td>davidf.76+testA@gmail.com</td>\n",
       "      <td>180.0</td>\n",
       "      <td>85.5</td>\n",
       "      <td>False</td>\n",
       "    </tr>\n",
       "    <tr>\n",
       "      <th>2</th>\n",
       "      <td>8aa45745-0442-43cb-9057-16c1977785d4</td>\n",
       "      <td>cc81c558-0484-47cf-85a4-53a97ce1da0b</td>\n",
       "      <td>Carlos M M (2023-03-08T16:43:54.221674500)</td>\n",
       "      <td>White or European</td>\n",
       "      <td>None</td>\n",
       "      <td>Female</td>\n",
       "      <td>12.0</td>\n",
       "      <td>2.0</td>\n",
       "      <td>1994</td>\n",
       "      <td>False</td>\n",
       "      <td>None</td>\n",
       "      <td>True</td>\n",
       "      <td>1.678294e+09</td>\n",
       "      <td>cmartin@arquimea.com</td>\n",
       "      <td>180.0</td>\n",
       "      <td>85.5</td>\n",
       "      <td>False</td>\n",
       "    </tr>\n",
       "    <tr>\n",
       "      <th>3</th>\n",
       "      <td>b27f62dc-7c67-4b12-985d-20be15f982f6</td>\n",
       "      <td>cc81c558-0484-47cf-85a4-53a97ce1da0b</td>\n",
       "      <td>Carlos Martin Mateos (2023-03-13T12:19:42.7174...</td>\n",
       "      <td>White or European</td>\n",
       "      <td>None</td>\n",
       "      <td>Female</td>\n",
       "      <td>22.0</td>\n",
       "      <td>3.0</td>\n",
       "      <td>1994</td>\n",
       "      <td>False</td>\n",
       "      <td>None</td>\n",
       "      <td>True</td>\n",
       "      <td>1.678710e+09</td>\n",
       "      <td>cmartin+1@arquimea.com</td>\n",
       "      <td>175.0</td>\n",
       "      <td>70.0</td>\n",
       "      <td>False</td>\n",
       "    </tr>\n",
       "    <tr>\n",
       "      <th>4</th>\n",
       "      <td>32d882ae-ea07-4bd0-96c2-4acd531129cd</td>\n",
       "      <td>cc81c558-0484-47cf-85a4-53a97ce1da0b</td>\n",
       "      <td>Carlos MArtin Mate (2023-03-16T11:54:46.148680...</td>\n",
       "      <td>White or European</td>\n",
       "      <td>None</td>\n",
       "      <td>Female</td>\n",
       "      <td>12.0</td>\n",
       "      <td>2.0</td>\n",
       "      <td>1994</td>\n",
       "      <td>False</td>\n",
       "      <td>None</td>\n",
       "      <td>True</td>\n",
       "      <td>1.678968e+09</td>\n",
       "      <td>cmartin+2@arquimea.com</td>\n",
       "      <td>180.0</td>\n",
       "      <td>80.0</td>\n",
       "      <td>False</td>\n",
       "    </tr>\n",
       "  </tbody>\n",
       "</table>\n",
       "</div>"
      ],
      "text/plain": [
       "                                     id                               user_id  \\\n",
       "0  cfb252fc-503b-458d-a2b6-14f73e27df20  cc81c558-0484-47cf-85a4-53a97ce1da0b   \n",
       "1  58aabe53-47b6-4d20-9088-e0375f3d6d60  cc81c558-0484-47cf-85a4-53a97ce1da0b   \n",
       "2  8aa45745-0442-43cb-9057-16c1977785d4  cc81c558-0484-47cf-85a4-53a97ce1da0b   \n",
       "3  b27f62dc-7c67-4b12-985d-20be15f982f6  cc81c558-0484-47cf-85a4-53a97ce1da0b   \n",
       "4  32d882ae-ea07-4bd0-96c2-4acd531129cd  cc81c558-0484-47cf-85a4-53a97ce1da0b   \n",
       "\n",
       "                                                name          ethnicity  \\\n",
       "0       David Fernández (2022-11-03T12:55:54.680448)  White or European   \n",
       "1                                           Test Arq  White or European   \n",
       "2         Carlos M M (2023-03-08T16:43:54.221674500)  White or European   \n",
       "3  Carlos Martin Mateos (2023-03-13T12:19:42.7174...  White or European   \n",
       "4  Carlos MArtin Mate (2023-03-16T11:54:46.148680...  White or European   \n",
       "\n",
       "  secondary_ethnicity     sex  birth_day  birth_month  birth_year  \\\n",
       "0                None    Male       17.0          9.0        1976   \n",
       "1                None    Male        NaN          NaN        1976   \n",
       "2                None  Female       12.0          2.0        1994   \n",
       "3                None  Female       22.0          3.0        1994   \n",
       "4                None  Female       12.0          2.0        1994   \n",
       "\n",
       "   has_data_missing dna_sample_id  is_v2    created_at  \\\n",
       "0             False          None   True  1.667480e+09   \n",
       "1             False          None   True  1.669631e+09   \n",
       "2             False          None   True  1.678294e+09   \n",
       "3             False          None   True  1.678710e+09   \n",
       "4             False          None   True  1.678968e+09   \n",
       "\n",
       "                       email  height  weight  created_by_migration  \n",
       "0    davidf.76+epi@gmail.com   180.0    86.0                 False  \n",
       "1  davidf.76+testA@gmail.com   180.0    85.5                 False  \n",
       "2       cmartin@arquimea.com   180.0    85.5                 False  \n",
       "3     cmartin+1@arquimea.com   175.0    70.0                 False  \n",
       "4     cmartin+2@arquimea.com   180.0    80.0                 False  "
      ]
     },
     "execution_count": 86,
     "metadata": {},
     "output_type": "execute_result"
    }
   ],
   "source": [
    "profiles_df = pd.json_normalize(get_profiles())\n",
    "profiles_df"
   ]
  },
  {
   "cell_type": "code",
   "execution_count": 87,
   "id": "f40c1b85-d9ee-469c-82ff-4f9db6893649",
   "metadata": {},
   "outputs": [
    {
     "data": {
      "text/plain": [
       "'cfb252fc-503b-458d-a2b6-14f73e27df20'"
      ]
     },
     "execution_count": 87,
     "metadata": {},
     "output_type": "execute_result"
    }
   ],
   "source": [
    "profile_id = profiles_df.iloc[0]['id']\n",
    "profile_id"
   ]
  },
  {
   "cell_type": "markdown",
   "id": "20ca879a-1f72-4750-9d1d-224f1fa169ed",
   "metadata": {},
   "source": [
    "# Reports"
   ]
  },
  {
   "cell_type": "markdown",
   "id": "e75cd3e5-4f93-49ab-bc55-b7388d7da4c0",
   "metadata": {},
   "source": [
    "## Report structure"
   ]
  },
  {
   "cell_type": "code",
   "execution_count": 5,
   "id": "6b3eb153-a030-4669-8b1e-0a0bdc3a26c9",
   "metadata": {},
   "outputs": [],
   "source": [
    "report_structure = {\"sections\": [{\"name\": \"Salud Mental\",\n",
    "                                  \"reports\": [{\"id\": \"07a6a195-826e-4118-8179-2d9e72ff0069\",\n",
    "                                               \"name\": \"Memoria\"},\n",
    "                                              {\"id\": \"e525cc4d-5e3d-4858-bac8-276d7e3e72ce\",\n",
    "                                               \"name\": \"Deterioro Cognitivo\"},\n",
    "                                              {\"id\": \"305b4f9d-6895-48e2-be8b-161819ce5b9b\",\n",
    "                                               \"name\": \"Stress\"},\n",
    "                                              {\"id\": \"588dfca3-5087-4c7c-9ef5-543393789062\",\n",
    "                                               \"name\": \"Adicciones\"},\n",
    "                                              {\"id\": \"70f4835b-2eab-462e-9261-20bba8159419\",\n",
    "                                               \"name\": \"Atención\"},\n",
    "                                              {\"id\": \"4523567c-4440-43e2-b029-ea3dbf3f908d\",\n",
    "                                               \"name\": \"Velocidad de procesamiento\"}]},\n",
    "                                 {\"name\": \"Cardiovascular\",\n",
    "                                  \"reports\": [{\"id\": \"ff4f5b07-89fe-4a02-a151-60ff0de8b721\",\n",
    "                                               \"name\": \"Sensibilidad a la Sal\"},\n",
    "                                              {\"id\": \"eafcc215-e36d-4493-bfd5-62bae419ee4b\",\n",
    "                                               \"name\": \"Endurecimiento Arterial\"},\n",
    "                                              {\"id\": \"6d7eb27c-ccc7-4ee0-af55-30913ec48462\",\n",
    "                                               \"name\": \"Palpitaciones\"}]},\n",
    "                                 {\"name\": \"Bienestar y Descanso\",\n",
    "                                  \"reports\": [{\"id\": \"6ba15dec-a7ef-448f-9bd9-21c054f49c0e\",\n",
    "                                               \"name\": \"Fatiga\"},\n",
    "                                              {\"id\": \"3c443790-ac9c-471f-a60c-a04f6464320f\",\n",
    "                                               \"name\": \"Dolor cronico\"},\n",
    "                                              {\"id\": \"39bd8e00-5c1b-4280-9618-81baa829a740\",\n",
    "                                               \"name\": \"Insomnio\"},\n",
    "                                              {\"id\": \"557a683d-bd9a-4840-a652-084651677a28\",\n",
    "                                               \"name\": \"Apnea del Sueño\"},\n",
    "                                              {\"id\": \"b9dc7199-1f56-4344-b9b3-8c978bcff206\",\n",
    "                                               \"name\": \"Somnolencia diurna\"}]},\n",
    "                                 {\"name\": \"Sistema Urinario\",\n",
    "                                  \"reports\": [\n",
    "                                      {\"id\": \"12479cf0-736c-47b5-abe8-40c765cb1164\",\n",
    "                                       \"name\": \"Vejiga hiperactiva\"},\n",
    "                                      {\"id\": \"ccfec08f-3a76-40c6-ae88-407761311b0d\",\n",
    "                                       \"name\": \"Infecciones Urinarias de repetición\"}]}]}"
   ]
  },
  {
   "cell_type": "markdown",
   "id": "36dbeabc-6c0c-42fe-af76-fb1f94622f8b",
   "metadata": {
    "tags": []
   },
   "source": [
    "## Generate missing reports for selected profile"
   ]
  },
  {
   "cell_type": "code",
   "execution_count": 11,
   "id": "2a7f9cac-1860-4a87-9e27-603a9cd54808",
   "metadata": {},
   "outputs": [],
   "source": [
    "def get_profile_reports(profile_id, report_id=None):\n",
    "    url = f\"{DOMAIN}/service/reports/profile-report/?profile_id={profile_id}\"\n",
    "    \n",
    "    if report_id:\n",
    "        url = url + '&report_id=' + report_id\n",
    "        \n",
    "    response = requests.get(url,\n",
    "                            headers=headers)\n",
    "    response.raise_for_status()\n",
    "    return response.json()"
   ]
  },
  {
   "cell_type": "code",
   "execution_count": 80,
   "id": "b8be5e75-69fe-4ee1-af2e-3aa651237e85",
   "metadata": {
    "scrolled": true,
    "tags": []
   },
   "outputs": [
    {
     "data": {
      "text/plain": [
       "[]"
      ]
     },
     "execution_count": 80,
     "metadata": {},
     "output_type": "execute_result"
    }
   ],
   "source": [
    "profile_reports = get_profile_reports(profile_id)\n",
    "profile_reports"
   ]
  },
  {
   "cell_type": "code",
   "execution_count": 82,
   "id": "1da14cd9-4773-4b1c-97ff-38175a8bbee5",
   "metadata": {
    "scrolled": true,
    "tags": []
   },
   "outputs": [
    {
     "data": {
      "text/plain": [
       "['07a6a195-826e-4118-8179-2d9e72ff0069',\n",
       " 'e525cc4d-5e3d-4858-bac8-276d7e3e72ce',\n",
       " '305b4f9d-6895-48e2-be8b-161819ce5b9b',\n",
       " '588dfca3-5087-4c7c-9ef5-543393789062',\n",
       " '70f4835b-2eab-462e-9261-20bba8159419',\n",
       " '4523567c-4440-43e2-b029-ea3dbf3f908d',\n",
       " 'ff4f5b07-89fe-4a02-a151-60ff0de8b721',\n",
       " 'eafcc215-e36d-4493-bfd5-62bae419ee4b',\n",
       " '6d7eb27c-ccc7-4ee0-af55-30913ec48462',\n",
       " '6ba15dec-a7ef-448f-9bd9-21c054f49c0e',\n",
       " '3c443790-ac9c-471f-a60c-a04f6464320f',\n",
       " '39bd8e00-5c1b-4280-9618-81baa829a740',\n",
       " '557a683d-bd9a-4840-a652-084651677a28',\n",
       " 'b9dc7199-1f56-4344-b9b3-8c978bcff206',\n",
       " '12479cf0-736c-47b5-abe8-40c765cb1164',\n",
       " 'ccfec08f-3a76-40c6-ae88-407761311b0d']"
      ]
     },
     "execution_count": 82,
     "metadata": {},
     "output_type": "execute_result"
    }
   ],
   "source": [
    "reports_to_generate = []\n",
    "for section in report_structure['sections']:\n",
    "    for report in section['reports']:\n",
    "        if not any(profile_report.get('report_id') == report['id']\n",
    "                   for profile_report in profile_reports):\n",
    "            reports_to_generate.append(report['id'])\n",
    "\n",
    "reports_to_generate"
   ]
  },
  {
   "cell_type": "code",
   "execution_count": 18,
   "id": "40e880dc-cc13-429e-9b6a-fa9f2ca5ec62",
   "metadata": {},
   "outputs": [],
   "source": [
    "def generate_profile_reports(profile_id, report_ids):\n",
    "    url = f\"{DOMAIN}/service/reports/profile-report/\"\n",
    "    \n",
    "    payload = []\n",
    "    for report_id in report_ids:\n",
    "        payload_dict = {'profile_id': profile_id, 'report_id': report_id}\n",
    "        payload.append(payload_dict)\n",
    "    response = requests.post(url,\n",
    "                            json=payload,\n",
    "                            headers=headers)\n",
    "    response.raise_for_status()\n",
    "    return response.json()"
   ]
  },
  {
   "cell_type": "code",
   "execution_count": 83,
   "id": "f56506ba-0f2e-4e26-aa9f-5a97f44d7247",
   "metadata": {
    "scrolled": true,
    "tags": []
   },
   "outputs": [
    {
     "data": {
      "text/plain": [
       "[{'id': '4ac0505f-b85d-4d8f-a1fe-5ece778530d9',\n",
       "  'profile_id': '4d8b2526-fe5f-4403-a884-8c8f121727db',\n",
       "  'report_id': '07a6a195-826e-4118-8179-2d9e72ff0069',\n",
       "  'status': 'processing',\n",
       "  'fail_notice_viewed': False,\n",
       "  'version': '1.0.0',\n",
       "  'purchased': False,\n",
       "  'is_readable': True,\n",
       "  'has_read': True,\n",
       "  'was_generated': False,\n",
       "  'is_new': False,\n",
       "  'last_generated_at': None},\n",
       " {'id': 'c9d20b16-d5c6-4fd4-8887-9ef2b65314b6',\n",
       "  'profile_id': '4d8b2526-fe5f-4403-a884-8c8f121727db',\n",
       "  'report_id': 'e525cc4d-5e3d-4858-bac8-276d7e3e72ce',\n",
       "  'status': 'processing',\n",
       "  'fail_notice_viewed': False,\n",
       "  'version': '1.0.0',\n",
       "  'purchased': False,\n",
       "  'is_readable': True,\n",
       "  'has_read': True,\n",
       "  'was_generated': False,\n",
       "  'is_new': False,\n",
       "  'last_generated_at': None},\n",
       " {'id': '43b484a8-42e0-4add-8563-5b1daa3838a6',\n",
       "  'profile_id': '4d8b2526-fe5f-4403-a884-8c8f121727db',\n",
       "  'report_id': '305b4f9d-6895-48e2-be8b-161819ce5b9b',\n",
       "  'status': 'processing',\n",
       "  'fail_notice_viewed': False,\n",
       "  'version': '1.0.0',\n",
       "  'purchased': False,\n",
       "  'is_readable': True,\n",
       "  'has_read': True,\n",
       "  'was_generated': False,\n",
       "  'is_new': False,\n",
       "  'last_generated_at': None},\n",
       " {'id': '65275312-87a3-4b95-a5e9-34a2fcf8a726',\n",
       "  'profile_id': '4d8b2526-fe5f-4403-a884-8c8f121727db',\n",
       "  'report_id': '588dfca3-5087-4c7c-9ef5-543393789062',\n",
       "  'status': 'processing',\n",
       "  'fail_notice_viewed': False,\n",
       "  'version': '1.0.0',\n",
       "  'purchased': False,\n",
       "  'is_readable': True,\n",
       "  'has_read': True,\n",
       "  'was_generated': False,\n",
       "  'is_new': False,\n",
       "  'last_generated_at': None},\n",
       " {'id': '516ad465-b098-423f-b9bf-edda2e248149',\n",
       "  'profile_id': '4d8b2526-fe5f-4403-a884-8c8f121727db',\n",
       "  'report_id': '70f4835b-2eab-462e-9261-20bba8159419',\n",
       "  'status': 'processing',\n",
       "  'fail_notice_viewed': False,\n",
       "  'version': '1.0.0',\n",
       "  'purchased': False,\n",
       "  'is_readable': True,\n",
       "  'has_read': True,\n",
       "  'was_generated': False,\n",
       "  'is_new': False,\n",
       "  'last_generated_at': None},\n",
       " {'id': '5b58bc71-da48-4051-9a19-9e754c46819b',\n",
       "  'profile_id': '4d8b2526-fe5f-4403-a884-8c8f121727db',\n",
       "  'report_id': '4523567c-4440-43e2-b029-ea3dbf3f908d',\n",
       "  'status': 'processing',\n",
       "  'fail_notice_viewed': False,\n",
       "  'version': '1.0.0',\n",
       "  'purchased': False,\n",
       "  'is_readable': True,\n",
       "  'has_read': True,\n",
       "  'was_generated': False,\n",
       "  'is_new': False,\n",
       "  'last_generated_at': None},\n",
       " {'id': '1ac95ff5-3df9-4525-b487-0fec0ff93153',\n",
       "  'profile_id': '4d8b2526-fe5f-4403-a884-8c8f121727db',\n",
       "  'report_id': 'ff4f5b07-89fe-4a02-a151-60ff0de8b721',\n",
       "  'status': 'processing',\n",
       "  'fail_notice_viewed': False,\n",
       "  'version': '1.0.0',\n",
       "  'purchased': False,\n",
       "  'is_readable': True,\n",
       "  'has_read': True,\n",
       "  'was_generated': False,\n",
       "  'is_new': False,\n",
       "  'last_generated_at': None},\n",
       " {'id': '8dccbc53-2a42-4553-9806-6d947a912992',\n",
       "  'profile_id': '4d8b2526-fe5f-4403-a884-8c8f121727db',\n",
       "  'report_id': 'eafcc215-e36d-4493-bfd5-62bae419ee4b',\n",
       "  'status': 'processing',\n",
       "  'fail_notice_viewed': False,\n",
       "  'version': '1.0.0',\n",
       "  'purchased': False,\n",
       "  'is_readable': True,\n",
       "  'has_read': True,\n",
       "  'was_generated': False,\n",
       "  'is_new': False,\n",
       "  'last_generated_at': None},\n",
       " {'id': '204411e8-7fff-4557-ab50-3b31f315a816',\n",
       "  'profile_id': '4d8b2526-fe5f-4403-a884-8c8f121727db',\n",
       "  'report_id': '6d7eb27c-ccc7-4ee0-af55-30913ec48462',\n",
       "  'status': 'processing',\n",
       "  'fail_notice_viewed': False,\n",
       "  'version': '1.0.0',\n",
       "  'purchased': False,\n",
       "  'is_readable': True,\n",
       "  'has_read': True,\n",
       "  'was_generated': False,\n",
       "  'is_new': False,\n",
       "  'last_generated_at': None},\n",
       " {'id': '7d8ad803-dd2f-4a71-839a-afb8c7b079b3',\n",
       "  'profile_id': '4d8b2526-fe5f-4403-a884-8c8f121727db',\n",
       "  'report_id': '6ba15dec-a7ef-448f-9bd9-21c054f49c0e',\n",
       "  'status': 'processing',\n",
       "  'fail_notice_viewed': False,\n",
       "  'version': '1.0.0',\n",
       "  'purchased': False,\n",
       "  'is_readable': True,\n",
       "  'has_read': True,\n",
       "  'was_generated': False,\n",
       "  'is_new': False,\n",
       "  'last_generated_at': None},\n",
       " {'id': '173a8062-f078-4ec8-899b-22a9f15cea82',\n",
       "  'profile_id': '4d8b2526-fe5f-4403-a884-8c8f121727db',\n",
       "  'report_id': '3c443790-ac9c-471f-a60c-a04f6464320f',\n",
       "  'status': 'processing',\n",
       "  'fail_notice_viewed': False,\n",
       "  'version': '1.0.0',\n",
       "  'purchased': False,\n",
       "  'is_readable': True,\n",
       "  'has_read': True,\n",
       "  'was_generated': False,\n",
       "  'is_new': False,\n",
       "  'last_generated_at': None},\n",
       " {'id': 'a2655175-b107-4d7e-bc6f-b6bca3130f8e',\n",
       "  'profile_id': '4d8b2526-fe5f-4403-a884-8c8f121727db',\n",
       "  'report_id': '39bd8e00-5c1b-4280-9618-81baa829a740',\n",
       "  'status': 'processing',\n",
       "  'fail_notice_viewed': False,\n",
       "  'version': '1.0.0',\n",
       "  'purchased': False,\n",
       "  'is_readable': True,\n",
       "  'has_read': True,\n",
       "  'was_generated': False,\n",
       "  'is_new': False,\n",
       "  'last_generated_at': None},\n",
       " {'id': '55cb8814-14fe-4eff-99a7-b34a8f6bb4d1',\n",
       "  'profile_id': '4d8b2526-fe5f-4403-a884-8c8f121727db',\n",
       "  'report_id': '557a683d-bd9a-4840-a652-084651677a28',\n",
       "  'status': 'processing',\n",
       "  'fail_notice_viewed': False,\n",
       "  'version': '1.0.0',\n",
       "  'purchased': False,\n",
       "  'is_readable': True,\n",
       "  'has_read': True,\n",
       "  'was_generated': False,\n",
       "  'is_new': False,\n",
       "  'last_generated_at': None},\n",
       " {'id': 'a865bdda-b6de-4441-bbe5-fc461c772b33',\n",
       "  'profile_id': '4d8b2526-fe5f-4403-a884-8c8f121727db',\n",
       "  'report_id': 'b9dc7199-1f56-4344-b9b3-8c978bcff206',\n",
       "  'status': 'processing',\n",
       "  'fail_notice_viewed': False,\n",
       "  'version': '1.0.0',\n",
       "  'purchased': False,\n",
       "  'is_readable': True,\n",
       "  'has_read': True,\n",
       "  'was_generated': False,\n",
       "  'is_new': False,\n",
       "  'last_generated_at': None},\n",
       " {'id': 'aed72e74-1f1b-4341-bee4-7b4f2c863683',\n",
       "  'profile_id': '4d8b2526-fe5f-4403-a884-8c8f121727db',\n",
       "  'report_id': '12479cf0-736c-47b5-abe8-40c765cb1164',\n",
       "  'status': 'processing',\n",
       "  'fail_notice_viewed': False,\n",
       "  'version': '1.0.0',\n",
       "  'purchased': False,\n",
       "  'is_readable': True,\n",
       "  'has_read': True,\n",
       "  'was_generated': False,\n",
       "  'is_new': False,\n",
       "  'last_generated_at': None},\n",
       " {'id': 'c412374c-34bb-4840-8af2-3ecb1c9cf7a0',\n",
       "  'profile_id': '4d8b2526-fe5f-4403-a884-8c8f121727db',\n",
       "  'report_id': 'ccfec08f-3a76-40c6-ae88-407761311b0d',\n",
       "  'status': 'processing',\n",
       "  'fail_notice_viewed': False,\n",
       "  'version': '1.0.0',\n",
       "  'purchased': False,\n",
       "  'is_readable': True,\n",
       "  'has_read': True,\n",
       "  'was_generated': False,\n",
       "  'is_new': False,\n",
       "  'last_generated_at': None}]"
      ]
     },
     "execution_count": 83,
     "metadata": {},
     "output_type": "execute_result"
    }
   ],
   "source": [
    "generate_profile_reports(profile_id, reports_to_generate)"
   ]
  },
  {
   "cell_type": "markdown",
   "id": "1c72d776-49d7-4622-b4eb-f11e3e9dd205",
   "metadata": {},
   "source": [
    "# Render bundled report"
   ]
  },
  {
   "cell_type": "code",
   "execution_count": 39,
   "id": "d2eb2440-55ea-413e-a82e-98e31a783d80",
   "metadata": {},
   "outputs": [],
   "source": [
    "def get_profile_trait(profile_report_id):\n",
    "    url = f\"{DOMAIN}/service/reports/profile-trait/?profile_report_id={profile_report_id}\"\n",
    "    response = requests.get(url,\n",
    "                            headers=headers,\n",
    "                            cookies=cookies)\n",
    "    response.raise_for_status()\n",
    "    return response.json()"
   ]
  },
  {
   "cell_type": "code",
   "execution_count": 40,
   "id": "d1c77bc0-1d00-4262-ac9d-df403f4a24e1",
   "metadata": {},
   "outputs": [],
   "source": [
    "def get_profile_recommendation(profile_report_id):\n",
    "    url = f\"{DOMAIN}/service/reports/profile-recommendation/?profile_report_id={profile_report_id}\"\n",
    "    response = requests.get(url,\n",
    "                            headers=headers,\n",
    "                            cookies=cookies)\n",
    "    response.raise_for_status()\n",
    "    return response.json()"
   ]
  },
  {
   "cell_type": "code",
   "execution_count": 41,
   "id": "f715e14c-15f2-481d-ba52-0a64f40e105b",
   "metadata": {},
   "outputs": [],
   "source": [
    "def get_profile_recommendation_trait(profile_report_id):\n",
    "    url = f\"{DOMAIN}/service/reports/profile-recommendation-trait/?profile_report_id={profile_report_id}\"\n",
    "    response = requests.get(url,\n",
    "                            headers=headers,\n",
    "                            cookies=cookies)\n",
    "    response.raise_for_status()\n",
    "    return response.json()"
   ]
  },
  {
   "cell_type": "code",
   "execution_count": 99,
   "id": "917f347b-b0f1-458b-9c91-bcbc07480805",
   "metadata": {},
   "outputs": [
    {
     "data": {
      "text/html": [
       "<h2>Salud Mental</h2>"
      ],
      "text/plain": [
       "<IPython.core.display.HTML object>"
      ]
     },
     "metadata": {},
     "output_type": "display_data"
    },
    {
     "data": {
      "text/html": [
       "<h3>Memoria</h3>\n",
       "Your score: 0.850574712643678<br>\n",
       "Memoria probablemente elevada<br>\n",
       "<h4>Summary</h4>\n",
       "<br>\n",
       "<h4>Genética de la Memoria</h4>\n",
       "<p><strong>El rendimiento de la memoria</strong> se refiere a lo bien que el cerebro almacena y recuerda informaci&oacute;n [<a href=\"https://www.ncbi.nlm.nih.gov/pmc/articles/PMC6705795/\"><u>R</u></a>].</p>\r\n",
       "\r\n",
       "<p>&nbsp;</p>\r\n",
       "\r\n",
       "<p><span style=\"color:#000000\">Alrededor del 30-60% de las diferencias en la memoria de las personas pueden deberse a la gen&eacute;tica. Los genes que intervienen en la memoria pueden influir en [</span><a href=\"https://pubmed.ncbi.nlm.nih.gov/8527064/\" style=\"text-decoration:none\"><span style=\"color:#1155cc\"><u>R</u></span></a><span style=\"color:#000000\">, </span><a href=\"https://www.nature.com/articles/tp201481\" style=\"text-decoration:none\"><span style=\"color:#1155cc\"><u>R</u></span></a><span style=\"color:#000000\">, </span><a href=\"https://www.ncbi.nlm.nih.gov/pmc/articles/PMC4032603/\" style=\"text-decoration:none\"><span style=\"color:#1155cc\"><u>R</u></span></a><span style=\"color:#000000\">, </span><a href=\"https://www.ncbi.nlm.nih.gov/pmc/articles/PMC2821174/\" style=\"text-decoration:none\"><span style=\"color:#1155cc\"><u>R</u></span></a><span style=\"color:#000000\">, </span><a href=\"https://www.ncbi.nlm.nih.gov/pmc/articles/PMC7297728/\" style=\"text-decoration:none\"><span style=\"color:#1155cc\"><u>R</u></span></a><span style=\"color:#000000\">, </span><a href=\"https://pubmed.ncbi.nlm.nih.gov/17470457/\" style=\"text-decoration:none\"><span style=\"color:#1155cc\"><u>R</u></span></a><span style=\"color:#000000\">]:</span></p>\r\n",
       "\r\n",
       "<ul>\r\n",
       "\t<li style=\"list-style-type:disc\"><span style=\"color:#000000\">Crecimiento y desarrollo de las c&eacute;lulas cerebrales</span></li>\r\n",
       "\t<li style=\"list-style-type:disc\"><span style=\"color:#000000\">Comunicaci&oacute;n de las c&eacute;lulas cerebrales</span></li>\r\n",
       "</ul>\r\n",
       "\r\n",
       "<p><span style=\"color:#000000\">Las formas de aumentar el rendimiento de la memoria incluyen [</span><a href=\"https://www.mayoclinic.org/healthy-lifestyle/healthy-aging/in-depth/memory-loss/art-20046518\" style=\"text-decoration:none\"><span style=\"color:#1155cc\"><u>R</u></span></a><span style=\"color:#000000\">, </span><a href=\"https://pubmed.ncbi.nlm.nih.gov/21818703/\" style=\"text-decoration:none\"><span style=\"color:#1155cc\"><u>R</u></span></a><span style=\"color:#000000\">, </span><a href=\"https://pubmed.ncbi.nlm.nih.gov/11691982/\" style=\"text-decoration:none\"><span style=\"color:#1155cc\"><u>R</u></span></a><span style=\"color:#000000\">, </span><a href=\"https://www.ncbi.nlm.nih.gov/pmc/articles/PMC4956662/\" style=\"text-decoration:none\"><span style=\"color:#1155cc\"><u>R</u></span></a><span style=\"color:#000000\">]:</span></p>\r\n",
       "\r\n",
       "<ul>\r\n",
       "\t<li style=\"list-style-type:disc\"><span style=\"color:#000000\">Hacer ejercicio f&iacute;sico con regularidad</span></li>\r\n",
       "\t<li style=\"list-style-type:disc\"><span style=\"color:#000000\">Obtener entre 7 y 9 horas de sue&ntilde;o de calidad cada noche</span></li>\r\n",
       "\t<li style=\"list-style-type:disc\"><span style=\"color:#000000\">Resolver rompecabezas, aprender nuevas habilidades, probar el entrenamiento cognitivo</span></li>\r\n",
       "\t<li style=\"list-style-type:disc\"><span style=\"color:#000000\">Pasar tiempo con la familia y los amigos</span></li>\r\n",
       "\t<li style=\"list-style-type:disc\"><span style=\"color:#000000\">Llevar una dieta saludable</span></li>\r\n",
       "</ul><br>\n",
       "<br>\n",
       "<h4>Recommendations</h4>"
      ],
      "text/plain": [
       "<IPython.core.display.HTML object>"
      ]
     },
     "metadata": {},
     "output_type": "display_data"
    },
    {
     "data": {
      "text/html": [
       "<h5>Optimize Sleep</h5>\n",
       "Try to get 7-8 h of good-quality sleep every night.<br>\n",
       "<table>\n",
       "<tr>\n",
       "<th>Type</th>\n",
       "<th>Effect</th>\n",
       "<th>Evidence</th>\n",
       "</tr>\n",
       "<tr>\n",
       "<td>lifestyle</td>\n",
       "<td>0.8</td>\n",
       "<td>1.0</td>\n",
       "</tr>\n",
       "</table>\n",
       "<p><a href=\"https://selfhacked.com/blog/health-benefits-sleep/\" style=\"text-decoration:none\"><span style=\"color:#1155cc\"><strong><u>Sleep</u></strong></span></a><span style=\"color:#000000\"><strong> supports your body and mind</strong></span><span style=\"color:#000000\">. More precisely, sleep helps:</span></p>\r\n",
       "\r\n",
       "<ul>\r\n",
       "\t<li style=\"list-style-type:disc\"><span style=\"color:#000000\">Support brain health [</span><a href=\"https://www.ncbi.nlm.nih.gov/pmc/articles/PMC3880190/\" style=\"text-decoration:none\"><span style=\"color:#1155cc\"><u>R</u></span></a><span style=\"color:#000000\">, </span><a href=\"https://www.ncbi.nlm.nih.gov/pubmed/24136944/\" style=\"text-decoration:none\"><span style=\"color:#1155cc\"><u>R</u></span></a><span style=\"color:#000000\">]</span></li>\r\n",
       "\t<li style=\"list-style-type:disc\"><span style=\"color:#000000\">Maintain a healthy weight and appetite [</span><a href=\"https://www.ncbi.nlm.nih.gov/pubmed/24892893\" style=\"text-decoration:none\"><span style=\"color:#1155cc\"><u>R</u></span></a><span style=\"color:#000000\">, </span><a href=\"https://www.ncbi.nlm.nih.gov/pmc/articles/PMC4394987/\" style=\"text-decoration:none\"><span style=\"color:#1155cc\"><u>R</u></span></a><span style=\"color:#000000\">, </span><a href=\"https://www.ncbi.nlm.nih.gov/pmc/articles/PMC535701/\" style=\"text-decoration:none\"><span style=\"color:#1155cc\"><u>R</u></span></a><span style=\"color:#000000\">]</span></li>\r\n",
       "\t<li style=\"list-style-type:disc\"><span style=\"color:#000000\">Regulate blood pressure [</span><a href=\"https://www.ncbi.nlm.nih.gov/pubmed/16585410/\" style=\"text-decoration:none\"><span style=\"color:#1155cc\"><u>R</u></span></a><span style=\"color:#000000\">, </span><a href=\"https://www.ncbi.nlm.nih.gov/pmc/articles/PMC2845795/\" style=\"text-decoration:none\"><span style=\"color:#1155cc\"><u>R</u></span></a><span style=\"color:#000000\">]</span></li>\r\n",
       "\t<li style=\"list-style-type:disc\"><span style=\"color:#000000\">Balance blood sugar [</span><a href=\"https://www.ncbi.nlm.nih.gov/pmc/articles/PMC3767932/\" style=\"text-decoration:none\"><span style=\"color:#1155cc\"><u>R</u></span></a><span style=\"color:#000000\">, </span><a href=\"https://www.ncbi.nlm.nih.gov/pmc/articles/PMC2927933/\" style=\"text-decoration:none\"><span style=\"color:#1155cc\"><u>R</u></span></a><span style=\"color:#000000\">]</span></li>\r\n",
       "</ul>\r\n",
       "\r\n",
       "<p><span style=\"color:#000000\">Ways to sleep better include [</span><a href=\"https://www.mayoclinic.org/healthy-lifestyle/adult-health/in-depth/sleep/art-20048379\" style=\"text-decoration:none\"><span style=\"color:#1155cc\"><u>R</u></span></a><span style=\"color:#000000\">]:</span></p>\r\n",
       "\r\n",
       "<ul>\r\n",
       "\t<li style=\"list-style-type:disc\"><span style=\"color:#000000\">Reducing your bright light exposure (screen time) in the evenings</span></li>\r\n",
       "\t<li style=\"list-style-type:disc\"><span style=\"color:#000000\">Sticking to a regular sleep schedule</span></li>\r\n",
       "\t<li style=\"list-style-type:disc\"><span style=\"color:#000000\">Avoiding hunger or large meals before bed</span></li>\r\n",
       "\t<li style=\"list-style-type:disc\"><span style=\"color:#000000\">Avoiding nicotine, caffeine, and alcohol before bed</span></li>\r\n",
       "\t<li style=\"list-style-type:disc\"><span style=\"color:#000000\">Maintaining a sleep area that&rsquo;s cool, dark, and quiet</span></li>\r\n",
       "</ul><br>\n"
      ],
      "text/plain": [
       "<IPython.core.display.HTML object>"
      ]
     },
     "metadata": {},
     "output_type": "display_data"
    },
    {
     "data": {
      "text/html": [
       "<h5>Exercise</h5>\n",
       "Exercise regularly.<br>\n",
       "<table>\n",
       "<tr>\n",
       "<th>Type</th>\n",
       "<th>Effect</th>\n",
       "<th>Evidence</th>\n",
       "</tr>\n",
       "<tr>\n",
       "<td>lifestyle</td>\n",
       "<td>0.6</td>\n",
       "<td>0.8</td>\n",
       "</tr>\n",
       "</table>\n",
       "<p style=\"text-align:justify\"><a href=\"https://selfhacked.com/blog/top-14-proven-health-benefits-exercise-references-mechanisms/\" style=\"text-decoration:none\"><span style=\"color:#1155cc\"><strong><u>Exercise</u></strong></span></a><span style=\"color:#000000\"><strong> can do wonders for your health.</strong></span><span style=\"color:#000000\"> It can help you lose weight, improve your heart health, boost your mood, and more [</span><a href=\"https://medlineplus.gov/benefitsofexercise.html\" style=\"text-decoration:none\"><span style=\"color:#1155cc\"><u>R</u></span></a><span style=\"color:#000000\">].</span></p>\r\n",
       "\r\n",
       "<p>&nbsp;</p>\r\n",
       "\r\n",
       "<p style=\"text-align:justify\"><span style=\"color:#000000\">There are many ways you can be active. You can walk, run, swim, dance, or play team sports. </span><span style=\"color:#000000\"><strong>Everything counts, and it&#39;s never too late to start!</strong></span></p>\r\n",
       "\r\n",
       "<p><br />\r\n",
       "<span style=\"color:#000000\">Try getting a mix of cardio (at least 150 min/week) and strength training (2 times/week) [</span><a href=\"https://health.gov/sites/default/files/2019-09/Physical_Activity_Guidelines_2nd_edition.pdf#page=56\" style=\"text-decoration:none\"><span style=\"color:#1155cc\"><u>R</u></span></a><span style=\"color:#000000\">].</span></p><br>\n"
      ],
      "text/plain": [
       "<IPython.core.display.HTML object>"
      ]
     },
     "metadata": {},
     "output_type": "display_data"
    },
    {
     "data": {
      "text/html": [
       "<h5>Relaxation Techniques</h5>\n",
       "Practice relaxation techniques.<br>\n",
       "<table>\n",
       "<tr>\n",
       "<th>Type</th>\n",
       "<th>Effect</th>\n",
       "<th>Evidence</th>\n",
       "</tr>\n",
       "<tr>\n",
       "<td>lifestyle</td>\n",
       "<td>0.6</td>\n",
       "<td>0.8</td>\n",
       "</tr>\n",
       "</table>\n",
       "<p style=\"text-align:justify\"><span style=\"color:#000000\"><strong>We all get stressed from time to time.</strong></span></p>\r\n",
       "\r\n",
       "<p>&nbsp;</p>\r\n",
       "\r\n",
       "<p style=\"text-align:justify\"><a href=\"https://selfhacked.com/blog/63-factors-raising-stress-cortisol-level-backed-science/\" style=\"text-decoration:none\"><span style=\"color:#1155cc\"><u>Stress</u></span></a><span style=\"color:#000000\"> can help you deal with a challenge or avoid danger. However,</span><span style=\"color:#000000\"><strong> it&rsquo;s not healthy to be stressed for a long time</strong></span><span style=\"color:#000000\"> [</span><a href=\"https://www.ncbi.nlm.nih.gov/books/NBK541120/\" style=\"text-decoration:none\"><span style=\"color:#1155cc\"><u>R</u></span></a><span style=\"color:#000000\">, </span><a href=\"https://www.ncbi.nlm.nih.gov/pmc/articles/PMC2568977/\" style=\"text-decoration:none\"><span style=\"color:#1155cc\"><u>R</u></span></a><span style=\"color:#000000\">].</span></p>\r\n",
       "\r\n",
       "<p>&nbsp;</p>\r\n",
       "\r\n",
       "<p style=\"text-align:justify\"><span style=\"color:#000000\"><strong>Relaxation techniques such as </strong></span><a href=\"https://selfhacked.com/blog/health-benefits-yoga/\" style=\"text-decoration:none\"><span style=\"color:#1155cc\"><strong><u>yoga</u></strong></span></a><span style=\"color:#000000\"><strong> and </strong></span><a href=\"https://selfhacked.com/blog/meditation/\" style=\"text-decoration:none\"><span style=\"color:#1155cc\"><strong><u>meditation</u></strong></span></a><span style=\"color:#000000\"><strong> can relieve stress in different ways</strong></span><span style=\"color:#000000\">. Most of them focus on breathing and help you get rid of negative thoughts and emotions [</span><a href=\"https://www.mayoclinic.org/healthy-lifestyle/stress-management/in-depth/relaxation-technique/art-20045368\" style=\"text-decoration:none\"><span style=\"color:#1155cc\"><u>R</u></span></a><span style=\"color:#000000\">].</span></p>\r\n",
       "\r\n",
       "<p>&nbsp;</p>\r\n",
       "\r\n",
       "<p><span style=\"color:#000000\">A form of meditation called </span><span style=\"color:#000000\"><strong>mindfulness</strong></span><span style=\"color:#000000\"> helps to focus attention. It allows people to acknowledge their thoughts, feelings, and sensations without any judgment [</span><a href=\"https://www.mayoclinic.org/healthy-lifestyle/consumer-health/in-depth/mindfulness-exercises/art-20046356\" style=\"text-decoration:none\"><span style=\"color:#1155cc\"><u>R</u></span><span style=\"color:#000000\">].</span><span style=\"color:#1155cc\"><u>&nbsp;</u></span></a></p>\r\n",
       "\r\n",
       "<p><span style=\"color:#000000\">&nbsp;</span></p>\r\n",
       "\r\n",
       "<p style=\"text-align:justify\"><span style=\"color:#000000\">People use relaxation techniques to help with conditions like [</span><a href=\"https://www.ncbi.nlm.nih.gov/books/NBK513238/\" style=\"text-decoration:none\"><span style=\"color:#1155cc\"><u>R</u></span></a><span style=\"color:#000000\">, </span><a href=\"https://www.mayoclinic.org/healthy-lifestyle/consumer-health/in-depth/mindfulness-exercises/art-20046356\" style=\"text-decoration:none\"><span style=\"color:#1155cc\"><u>R</u></span></a><span style=\"color:#000000\">, </span><a href=\"https://pubmed.ncbi.nlm.nih.gov/32406186/\" style=\"text-decoration:none\"><span style=\"color:#1155cc\"><u>R</u></span></a><span style=\"color:#000000\">, </span><a href=\"https://www.ncbi.nlm.nih.gov/labs/pmc/articles/PMC2719552/\" style=\"text-decoration:none\"><span style=\"color:#1155cc\"><u>R</u></span></a><span style=\"color:#000000\">]:</span></p>\r\n",
       "\r\n",
       "<ul>\r\n",
       "\t<li style=\"list-style-type:disc\"><span style=\"color:#000000\">Anxiety&nbsp;</span></li>\r\n",
       "\t<li style=\"list-style-type:disc\"><span style=\"color:#000000\">Depression</span></li>\r\n",
       "\t<li style=\"list-style-type:disc\"><span style=\"color:#000000\">Chronic pain</span></li>\r\n",
       "\t<li style=\"list-style-type:disc\"><span style=\"color:#000000\">ADHD</span></li>\r\n",
       "</ul><br>\n"
      ],
      "text/plain": [
       "<IPython.core.display.HTML object>"
      ]
     },
     "metadata": {},
     "output_type": "display_data"
    },
    {
     "data": {
      "text/html": [
       "<h5>Cognitive Training</h5>\n",
       "Practice cognitive training techniques.<br>\n",
       "<table>\n",
       "<tr>\n",
       "<th>Type</th>\n",
       "<th>Effect</th>\n",
       "<th>Evidence</th>\n",
       "</tr>\n",
       "<tr>\n",
       "<td>lifestyle</td>\n",
       "<td>0.4</td>\n",
       "<td>0.6</td>\n",
       "</tr>\n",
       "</table>\n",
       "<p><span style=\"color:#000000\"><strong>Cognitive training </strong></span><span style=\"color:#000000\">programs guide you through challenging tasks. They aim to support some cognitive functions, including [</span><a href=\"https://www.cochrane.org/CD013069/DEMENTIA_cognitive-training-people-mild-moderate-dementia\" style=\"text-decoration:none\"><span style=\"color:#1155cc\"><u>R</u></span></a><span style=\"color:#000000\">]:</span></p>\r\n",
       "\r\n",
       "<ul>\r\n",
       "\t<li style=\"list-style-type:disc\"><span style=\"color:#000000\">Memory</span></li>\r\n",
       "\t<li style=\"list-style-type:disc\"><span style=\"color:#000000\">Attention</span></li>\r\n",
       "\t<li style=\"list-style-type:disc\"><span style=\"color:#000000\">Problem-solving skills&nbsp;</span></li>\r\n",
       "</ul>\r\n",
       "\r\n",
       "<p><span style=\"color:#000000\"><strong>Some scientists like to think of the brain as a muscle</strong></span><span style=\"color:#000000\">. They say people should &ldquo;use it or lose it.&rdquo; In line with this, cognitive training can be considered &ldquo;brain exercise.&rdquo; It is often provided through computer programs [</span><a href=\"https://pubmed.ncbi.nlm.nih.gov/31154013/\" style=\"text-decoration:none\"><span style=\"color:#1155cc\"><u>R</u></span></a><span style=\"color:#000000\">, </span><a href=\"https://pubmed.ncbi.nlm.nih.gov/30864187/\" style=\"text-decoration:none\"><span style=\"color:#1155cc\"><u>R</u></span></a><span style=\"color:#000000\">].</span></p><br>\n"
      ],
      "text/plain": [
       "<IPython.core.display.HTML object>"
      ]
     },
     "metadata": {},
     "output_type": "display_data"
    },
    {
     "data": {
      "text/html": [
       "<h5>Avoid Cigarette Smoke</h5>\n",
       "Avoid cigarette smoke.<br>\n",
       "<table>\n",
       "<tr>\n",
       "<th>Type</th>\n",
       "<th>Effect</th>\n",
       "<th>Evidence</th>\n",
       "</tr>\n",
       "<tr>\n",
       "<td>lifestyle</td>\n",
       "<td>0.4</td>\n",
       "<td>0.6</td>\n",
       "</tr>\n",
       "</table>\n",
       "<p style=\"text-align:justify\"><span style=\"color:#000000\">You already know that tobacco is not great for your health. </span><span style=\"color:#000000\"><strong>Smoking affects your entire body.</strong></span><span style=\"color:#000000\"> It can damage your brain, heart, lungs, and more [</span><a href=\"https://pubmed.ncbi.nlm.nih.gov/11980288/\" style=\"text-decoration:none\"><span style=\"color:#1155cc\"><u>R</u></span></a><span style=\"color:#000000\">].</span></p>\r\n",
       "\r\n",
       "<p>&nbsp;</p>\r\n",
       "\r\n",
       "<p style=\"text-align:justify\"><span style=\"color:#000000\">And even if you&rsquo;re not a smoker, </span><span style=\"color:#000000\"><strong>secondhand smoke can cause health issues similar to smoking </strong></span><span style=\"color:#000000\">[</span><a href=\"https://www.ncbi.nlm.nih.gov/pmc/articles/PMC4595077/\" style=\"text-decoration:none\"><span style=\"color:#1155cc\"><u>R</u></span></a><span style=\"color:#000000\">, </span><a href=\"https://www.ncbi.nlm.nih.gov/pmc/articles/PMC2553398/\" style=\"text-decoration:none\"><span style=\"color:#1155cc\"><u>R</u></span></a><span style=\"color:#000000\">].</span></p>\r\n",
       "\r\n",
       "<p><br />\r\n",
       "<span style=\"color:#000000\">But, there&rsquo;s good news: </span><span style=\"color:#000000\"><strong>avoiding cigarette smoke can reverse many of its negative effects</strong></span><span style=\"color:#000000\">. It&rsquo;s a great way to dramatically improve your health [</span><a href=\"https://www.ncbi.nlm.nih.gov/books/NBK555590/\" style=\"text-decoration:none\"><span style=\"color:#1155cc\"><u>R</u></span></a><span style=\"color:#000000\">].</span></p><br>\n"
      ],
      "text/plain": [
       "<IPython.core.display.HTML object>"
      ]
     },
     "metadata": {},
     "output_type": "display_data"
    },
    {
     "data": {
      "text/html": [
       "<h5>Mediterranean Diet</h5>\n",
       "Consider following the Mediterranean diet.<br>\n",
       "<table>\n",
       "<tr>\n",
       "<th>Type</th>\n",
       "<th>Effect</th>\n",
       "<th>Evidence</th>\n",
       "</tr>\n",
       "<tr>\n",
       "<td>dietary</td>\n",
       "<td>0.4</td>\n",
       "<td>0.6</td>\n",
       "</tr>\n",
       "</table>\n",
       "<p style=\"text-align:justify\"><span style=\"color:#000000\">The </span><a href=\"https://selfhacked.com/blog/14-mediterranean-diet-health-benefits-food-list/\" style=\"text-decoration:none\"><span style=\"color:#1155cc\"><u>Mediterranean diet</u></span></a><span style=\"color:#000000\"> is based on the traditional cuisine from the Mediterranean region. It&rsquo;s rich in foods like [</span><a href=\"https://www.ncbi.nlm.nih.gov/pmc/articles/PMC6466433/\" style=\"text-decoration:none\"><span style=\"color:#1155cc\"><u>R</u></span></a><span style=\"color:#000000\">]:</span></p>\r\n",
       "\r\n",
       "<ul>\r\n",
       "\t<li style=\"list-style-type:disc\"><span style=\"color:#000000\">Fruits and vegetables</span></li>\r\n",
       "\t<li style=\"list-style-type:disc\"><span style=\"color:#000000\">Whole grains</span></li>\r\n",
       "\t<li style=\"list-style-type:disc\"><span style=\"color:#000000\">Healthy fats (fish and </span><a href=\"https://selfhacked.com/blog/olive-oil/\" style=\"text-decoration:none\"><span style=\"color:#1155cc\"><u>olive oil</u></span></a><span style=\"color:#000000\">)</span></li>\r\n",
       "</ul>\r\n",
       "\r\n",
       "<p style=\"text-align:justify\"><span style=\"color:#000000\">Red meat consumption is limited and dairy is eaten in moderation.</span></p><br>\n"
      ],
      "text/plain": [
       "<IPython.core.display.HTML object>"
      ]
     },
     "metadata": {},
     "output_type": "display_data"
    },
    {
     "data": {
      "text/html": [
       "<h5>Coffee</h5>\n",
       "Drink a moderate amount of coffee.<br>\n",
       "<table>\n",
       "<tr>\n",
       "<th>Type</th>\n",
       "<th>Effect</th>\n",
       "<th>Evidence</th>\n",
       "</tr>\n",
       "<tr>\n",
       "<td>dietary</td>\n",
       "<td>0.4</td>\n",
       "<td>0.6</td>\n",
       "</tr>\n",
       "</table>\n",
       "<p style=\"text-align:justify\"><span style=\"color:#000000\">People drink coffee for an energy and mood boost. </span><a href=\"https://selfhacked.com/blog/caffeine-benefits/\" style=\"text-decoration:none\"><span style=\"color:#1155cc\"><u>Caffeine</u></span></a><span style=\"color:#000000\"> is the main ingredient responsible for these effects [</span><a href=\"https://www.ncbi.nlm.nih.gov/pubmed/20888549\" style=\"text-decoration:none\"><span style=\"color:#1155cc\"><u>R</u></span></a><span style=\"color:#000000\">, </span><a href=\"https://www.ncbi.nlm.nih.gov/books/NBK519490/\" style=\"text-decoration:none\"><span style=\"color:#1155cc\"><u>R</u></span></a><span style=\"color:#000000\">].</span></p>\r\n",
       "\r\n",
       "<p>&nbsp;</p>\r\n",
       "\r\n",
       "<p style=\"text-align:justify\"><span style=\"color:#000000\">Drinking moderate amounts of coffee may also [</span><a href=\"https://www.ncbi.nlm.nih.gov/pmc/articles/PMC5696634/\" style=\"text-decoration:none\"><span style=\"color:#1155cc\"><u>R</u></span></a><span style=\"color:#000000\">, </span><a href=\"https://pubmed.ncbi.nlm.nih.gov/29474816/\" style=\"text-decoration:none\"><span style=\"color:#1155cc\"><u>R</u></span></a><span style=\"color:#000000\">, </span><a href=\"https://www.ncbi.nlm.nih.gov/pmc/articles/PMC6544578/\" style=\"text-decoration:none\"><span style=\"color:#1155cc\"><u>R</u></span></a><span style=\"color:#000000\">]:</span></p>\r\n",
       "\r\n",
       "<ul>\r\n",
       "\t<li style=\"list-style-type:disc\"><span style=\"color:#000000\">Improve heart health</span></li>\r\n",
       "\t<li style=\"list-style-type:disc\"><span style=\"color:#000000\">Improve mood</span></li>\r\n",
       "\t<li style=\"list-style-type:disc\"><span style=\"color:#000000\">Help reduce blood sugar</span></li>\r\n",
       "</ul><br>\n"
      ],
      "text/plain": [
       "<IPython.core.display.HTML object>"
      ]
     },
     "metadata": {},
     "output_type": "display_data"
    },
    {
     "data": {
      "text/html": [
       "<h5>Iron</h5>\n",
       "Consider getting more iron from food or supplements.<br>\n",
       "<table>\n",
       "<tr>\n",
       "<th>Type</th>\n",
       "<th>Effect</th>\n",
       "<th>Evidence</th>\n",
       "</tr>\n",
       "<tr>\n",
       "<td>supplement</td>\n",
       "<td>0.4</td>\n",
       "<td>0.6</td>\n",
       "</tr>\n",
       "</table>\n",
       "<p><a href=\"https://selfhacked.com/blog/iron-balance-blood-test-iron-deficiency-anemia-overload/\" style=\"text-decoration:none\"><span style=\"color:#1155cc\"><strong><u>Iron</u></strong></span></a><span style=\"color:#000000\"><strong> </strong></span><span style=\"color:#000000\">(Fe) is an essential mineral. It helps make </span><a href=\"https://selfhacked.com/blog/hemoglobin-good-bad-lab-tests-normal-values-reference-ranges/\" style=\"text-decoration:none\"><span style=\"color:#1155cc\"><u>hemoglobin</u></span></a><span style=\"color:#000000\">, a protein that carries oxygen to cells. In this way, iron </span><span style=\"color:#000000\"><strong>increases energy</strong></span><span style=\"color:#000000\"> and supports </span><span style=\"color:#000000\"><strong>brain and immune system function</strong></span><span style=\"color:#000000\"> [</span><a href=\"https://www.ncbi.nlm.nih.gov/pmc/articles/PMC3999603/\" style=\"text-decoration:none\"><span style=\"color:#1155cc\"><u>R</u></span></a><span style=\"color:#000000\">, </span><a href=\"https://www.ncbi.nlm.nih.gov/pmc/articles/PMC4086762/\" style=\"text-decoration:none\"><span style=\"color:#1155cc\"><u>R</u></span></a><span style=\"color:#000000\">, </span><a href=\"https://www.ncbi.nlm.nih.gov/books/NBK540969/\" style=\"text-decoration:none\"><span style=\"color:#1155cc\"><u>R</u></span></a><span style=\"color:#000000\">].</span></p>\r\n",
       "\r\n",
       "<p>&nbsp;</p>\r\n",
       "\r\n",
       "<p><span style=\"color:#000000\">Foods rich in iron include [</span><a href=\"https://ods.od.nih.gov/factsheets/Iron-HealthProfessional/\" style=\"text-decoration:none\"><span style=\"color:#1155cc\"><u>R</u></span></a><span style=\"color:#000000\">]:</span></p>\r\n",
       "\r\n",
       "<ul>\r\n",
       "\t<li style=\"list-style-type:disc\"><span style=\"color:#000000\">Oysters</span></li>\r\n",
       "\t<li style=\"list-style-type:disc\"><span style=\"color:#000000\">White beans</span></li>\r\n",
       "\t<li style=\"list-style-type:disc\"><span style=\"color:#000000\">Beef</span></li>\r\n",
       "\t<li style=\"list-style-type:disc\"><span style=\"color:#000000\">Chocolate</span></li>\r\n",
       "\t<li style=\"list-style-type:disc\"><span style=\"color:#000000\">Spinach</span></li>\r\n",
       "\t<li style=\"list-style-type:disc\"><span style=\"color:#000000\">Fortified cereals</span></li>\r\n",
       "</ul>\r\n",
       "\r\n",
       "<p><span style=\"color:#000000\"><strong>Women </strong></span><span style=\"color:#000000\">should be getting </span><span style=\"color:#000000\"><strong>8-18 mg</strong></span><span style=\"color:#000000\"> of iron per day, while </span><span style=\"color:#000000\"><strong>men </strong></span><span style=\"color:#000000\">should be getting</span><span style=\"color:#000000\"><strong> 8 mg</strong></span><span style=\"color:#000000\"> [</span><a href=\"https://ods.od.nih.gov/factsheets/Iron-HealthProfessional/\" style=\"text-decoration:none\"><span style=\"color:#1155cc\"><u>R</u></span></a><span style=\"color:#000000\">].</span></p>\r\n",
       "\r\n",
       "<p>&nbsp;</p>\r\n",
       "\r\n",
       "<p><span style=\"color:#000000\">Groups at risk of iron deficiency include [</span><a href=\"https://www.mayoclinic.org/diseases-conditions/iron-deficiency-anemia/symptoms-causes/syc-20355034\" style=\"text-decoration:none\"><span style=\"color:#1155cc\"><u>R</u></span></a><span style=\"color:#000000\">]:</span></p>\r\n",
       "\r\n",
       "<ul>\r\n",
       "\t<li style=\"list-style-type:disc\"><span style=\"color:#000000\">Women</span></li>\r\n",
       "\t<li style=\"list-style-type:disc\"><span style=\"color:#000000\">Children</span></li>\r\n",
       "\t<li style=\"list-style-type:disc\"><span style=\"color:#000000\">Vegetarians</span></li>\r\n",
       "\t<li style=\"list-style-type:disc\"><span style=\"color:#000000\">Routine blood donors</span></li>\r\n",
       "</ul><br>\n"
      ],
      "text/plain": [
       "<IPython.core.display.HTML object>"
      ]
     },
     "metadata": {},
     "output_type": "display_data"
    },
    {
     "data": {
      "text/html": [
       "<h5>Bacopa</h5>\n",
       "Consider supplementing with bacopa.<br>\n",
       "<table>\n",
       "<tr>\n",
       "<th>Type</th>\n",
       "<th>Effect</th>\n",
       "<th>Evidence</th>\n",
       "</tr>\n",
       "<tr>\n",
       "<td>supplement</td>\n",
       "<td>0.4</td>\n",
       "<td>0.6</td>\n",
       "</tr>\n",
       "</table>\n",
       "<p><a href=\"https://selfhacked.com/blog/bacopa-monnieri-4/\" style=\"text-decoration:none\"><span style=\"color:#1155cc\"><u>Bacopa</u></span></a><span style=\"color:#000000\"> (</span><span style=\"color:#000000\"><em>Bacopa monnieri</em></span><span style=\"color:#000000\">) grows as a weed in the rice fields of East Asia and the US [</span><a href=\"https://www.ncbi.nlm.nih.gov/labs/pmc/articles/PMC3746283/\" style=\"text-decoration:none\"><span style=\"color:#1155cc\"><u>R</u></span></a><span style=\"color:#000000\">].&nbsp;</span></p>\r\n",
       "\r\n",
       "<p><br />\r\n",
       "<span style=\"color:#000000\">Bacopa is used in Ayurveda (Indian traditional medicine) to support cognition [</span><a href=\"https://www.ncbi.nlm.nih.gov/pmc/articles/PMC3746283/\" style=\"text-decoration:none\"><span style=\"color:#1155cc\"><u>R</u></span></a><span style=\"color:#000000\">].</span></p><br>\n"
      ],
      "text/plain": [
       "<IPython.core.display.HTML object>"
      ]
     },
     "metadata": {},
     "output_type": "display_data"
    },
    {
     "data": {
      "text/html": [
       "<h5>Pycnogenol</h5>\n",
       "Consider supplementing with pycnogenol.<br>\n",
       "<table>\n",
       "<tr>\n",
       "<th>Type</th>\n",
       "<th>Effect</th>\n",
       "<th>Evidence</th>\n",
       "</tr>\n",
       "<tr>\n",
       "<td>supplement</td>\n",
       "<td>0.4</td>\n",
       "<td>0.4</td>\n",
       "</tr>\n",
       "</table>\n",
       "<p><span style=\"color:#000000\"><strong>Pycnogenol comes from the bark of pine trees that grow in the Mediterranean</strong> [</span><a href=\"https://pubmed.ncbi.nlm.nih.gov/11996210/\" style=\"text-decoration:none\"><span style=\"color:#1155cc\"><u>R</u></span></a><span style=\"color:#000000\">, </span><a href=\"https://medlineplus.gov/druginfo/natural/1019.html\" style=\"text-decoration:none\"><span style=\"color:#1155cc\"><u>R</u></span></a><span style=\"color:#000000\">].</span></p>\r\n",
       "\r\n",
       "<p>&nbsp;</p>\r\n",
       "\r\n",
       "<p><span style=\"color:#000000\">It may improve [</span><a href=\"https://pubmed.ncbi.nlm.nih.gov/24247188/\" style=\"text-decoration:none\"><span style=\"color:#1155cc\"><u>R</u></span></a><span style=\"color:#000000\">, </span><a href=\"https://pubmed.ncbi.nlm.nih.gov/20549654/\" style=\"text-decoration:none\"><span style=\"color:#1155cc\"><u>R</u></span></a><span style=\"color:#000000\">, </span><a href=\"https://pubmed.ncbi.nlm.nih.gov/24675223/\" style=\"text-decoration:none\"><span style=\"color:#1155cc\"><u>R</u></span></a><span style=\"color:#000000\">, </span><a href=\"https://pubmed.ncbi.nlm.nih.gov/18386255/\" style=\"text-decoration:none\"><span style=\"color:#1155cc\"><u>R</u></span></a><span style=\"color:#000000\">, </span><a href=\"https://pubmed.ncbi.nlm.nih.gov/19017467/\" style=\"text-decoration:none\"><span style=\"color:#1155cc\"><u>R</u></span></a><span style=\"color:#000000\">, </span><a href=\"https://pubmed.ncbi.nlm.nih.gov/28255210/\" style=\"text-decoration:none\"><span style=\"color:#1155cc\"><u>R</u></span></a><span style=\"color:#000000\">]:&nbsp;</span></p>\r\n",
       "\r\n",
       "<ul>\r\n",
       "\t<li style=\"list-style-type:disc\"><span style=\"color:#000000\">Athletic performance</span></li>\r\n",
       "\t<li style=\"list-style-type:disc\"><span style=\"color:#000000\">Seasonal allergies</span></li>\r\n",
       "\t<li style=\"list-style-type:disc\"><span style=\"color:#000000\">Cognitive function</span></li>\r\n",
       "\t<li style=\"list-style-type:disc\"><span style=\"color:#000000\">Joint health</span></li>\r\n",
       "\t<li style=\"list-style-type:disc\"><span style=\"color:#000000\">Varicose veins</span></li>\r\n",
       "</ul><br>\n"
      ],
      "text/plain": [
       "<IPython.core.display.HTML object>"
      ]
     },
     "metadata": {},
     "output_type": "display_data"
    },
    {
     "data": {
      "text/html": [
       "<h5>Choline</h5>\n",
       "Consider supplementing with choline.<br>\n",
       "<table>\n",
       "<tr>\n",
       "<th>Type</th>\n",
       "<th>Effect</th>\n",
       "<th>Evidence</th>\n",
       "</tr>\n",
       "<tr>\n",
       "<td>supplement</td>\n",
       "<td>0.4</td>\n",
       "<td>0.4</td>\n",
       "</tr>\n",
       "</table>\n",
       "<p><a href=\"https://selfhacked.com/blog/top-18-scientific-health-benefits-choline-cdp-choline-alpha-gpc/\" style=\"text-decoration:none\"><span style=\"color:#1155cc\"><strong><u>Choline</u></strong></span></a><span style=\"color:#000000\"><strong> </strong></span><span style=\"color:#000000\">is a nutrient required for optimal health. Although the body makes some, we need to get choline from our diets to avoid deficiency [</span><a href=\"https://www.ncbi.nlm.nih.gov/pmc/articles/PMC2782876/\" style=\"text-decoration:none\"><span style=\"color:#1155cc\"><u>R</u></span></a><span style=\"color:#000000\">].</span></p>\r\n",
       "\r\n",
       "<p>&nbsp;</p>\r\n",
       "\r\n",
       "<p><span style=\"color:#000000\">It plays key roles in supporting [</span><a href=\"https://www.ncbi.nlm.nih.gov/pubmed/30332744\" style=\"text-decoration:none\"><span style=\"color:#1155cc\"><u>R</u></span></a><span style=\"color:#000000\">,</span><a href=\"https://www.ncbi.nlm.nih.gov/pubmed/20446114\" style=\"text-decoration:none\"><span style=\"color:#000000\"> </span><span style=\"color:#1155cc\"><u>R</u></span></a><span style=\"color:#000000\">]:</span></p>\r\n",
       "\r\n",
       "<ul>\r\n",
       "\t<li style=\"list-style-type:disc\"><span style=\"color:#000000\">DNA production</span></li>\r\n",
       "\t<li style=\"list-style-type:disc\"><span style=\"color:#000000\">Cell structure and function</span></li>\r\n",
       "\t<li style=\"list-style-type:disc\"><span style=\"color:#000000\">Brain, nerve, and heart health</span></li>\r\n",
       "</ul><br>\n"
      ],
      "text/plain": [
       "<IPython.core.display.HTML object>"
      ]
     },
     "metadata": {},
     "output_type": "display_data"
    },
    {
     "data": {
      "text/html": [
       "<h5>Soy Isoflavones</h5>\n",
       "Consider supplementing with soy isoflavones<br>\n",
       "<table>\n",
       "<tr>\n",
       "<th>Type</th>\n",
       "<th>Effect</th>\n",
       "<th>Evidence</th>\n",
       "</tr>\n",
       "<tr>\n",
       "<td>supplement</td>\n",
       "<td>0.4</td>\n",
       "<td>0.4</td>\n",
       "</tr>\n",
       "</table>\n",
       "<p style=\"text-align:justify\"><span style=\"color:#000000\"><strong>Soy is a common food in many cuisines around the world</strong></span><span style=\"color:#000000\">, especially Asian cuisines [</span><a href=\"https://www.nccih.nih.gov/health/soy\" style=\"text-decoration:none\"><span style=\"color:#1155cc\"><u>R</u></span></a><span style=\"color:#000000\">].</span></p>\r\n",
       "\r\n",
       "<p>&nbsp;</p>\r\n",
       "\r\n",
       "<p style=\"text-align:justify\"><span style=\"color:#000000\">Soy is a great source of [</span><a href=\"https://pubmed.ncbi.nlm.nih.gov/1649210/\" style=\"text-decoration:none\"><span style=\"color:#1155cc\"><u>R</u></span></a><span style=\"color:#000000\">,</span><a href=\"https://www.ncbi.nlm.nih.gov/pmc/articles/PMC3916987/\" style=\"text-decoration:none\"><span style=\"color:#000000\"> </span><span style=\"color:#1155cc\"><u>R</u></span></a><span style=\"color:#000000\">]:</span></p>\r\n",
       "\r\n",
       "<ul>\r\n",
       "\t<li style=\"list-style-type:disc\"><span style=\"color:#000000\">Plant-based protein</span></li>\r\n",
       "\t<li style=\"list-style-type:disc\"><span style=\"color:#000000\">Fiber</span></li>\r\n",
       "\t<li style=\"list-style-type:disc\"><span style=\"color:#000000\">Omega-3 fats</span></li>\r\n",
       "\t<li style=\"list-style-type:disc\"><span style=\"color:#000000\">Antioxidants (isoflavones)</span></li>\r\n",
       "</ul>\r\n",
       "\r\n",
       "<p><span style=\"color:#000000\">Soy-isoflavones are antioxidants that are similar to the hormone estrogen. That&acute;s why they are commonly called phytoestrogens [</span><a href=\"https://pubmed.ncbi.nlm.nih.gov/16596804/\" style=\"text-decoration:none\"><span style=\"color:#1155cc\"><u>R</u></span></a><span style=\"color:#000000\">,</span><a href=\"https://pubmed.ncbi.nlm.nih.gov/18158825/\" style=\"text-decoration:none\"><span style=\"color:#000000\"> </span><span style=\"color:#1155cc\"><u>R</u></span></a><span style=\"color:#000000\">].</span></p>\r\n",
       "\r\n",
       "<p>&nbsp;</p>\r\n",
       "\r\n",
       "<p style=\"text-align:justify\"><span style=\"color:#000000\">Soy isoflavones are available as supplements.</span></p>\r\n",
       "\r\n",
       "<p>&nbsp;</p><br>\n"
      ],
      "text/plain": [
       "<IPython.core.display.HTML object>"
      ]
     },
     "metadata": {},
     "output_type": "display_data"
    },
    {
     "data": {
      "text/html": [
       "<h5>Cocoa</h5>\n",
       "Add more cocoa to your food or drinks.<br>\n",
       "<table>\n",
       "<tr>\n",
       "<th>Type</th>\n",
       "<th>Effect</th>\n",
       "<th>Evidence</th>\n",
       "</tr>\n",
       "<tr>\n",
       "<td>dietary</td>\n",
       "<td>0.4</td>\n",
       "<td>0.4</td>\n",
       "</tr>\n",
       "</table>\n",
       "<p><a href=\"https://selfhacked.com/blog/chocolate-health-benefits/\" style=\"text-decoration:none\"><span style=\"color:#1155cc\"><u>Cocoa</u></span></a><span style=\"color:#000000\"> comes from the beans of the </span><span style=\"color:#000000\"><em>Theobroma cacao</em></span><span style=\"color:#000000\"> tree. It&rsquo;s often used for making chocolate, hot chocolate, and pastries. People have also used it as a medicine for over a thousand years [</span><a href=\"https://www.ncbi.nlm.nih.gov/pmc/articles/PMC4696435/\" style=\"text-decoration:none\"><span style=\"color:#1155cc\"><u>R</u></span></a><span style=\"color:#000000\">,</span><a href=\"https://www.ncbi.nlm.nih.gov/pubmed/10917925\" style=\"text-decoration:none\"><span style=\"color:#000000\"> </span><span style=\"color:#1155cc\"><u>R</u></span></a><span style=\"color:#000000\">].</span></p>\r\n",
       "\r\n",
       "<p>&nbsp;</p>\r\n",
       "\r\n",
       "<p><span style=\"color:#000000\">Cocoa contains flavanols and other active components that may help [</span><a href=\"https://www.ncbi.nlm.nih.gov/pubmed/10917925\" style=\"text-decoration:none\"><span style=\"color:#1155cc\"><u>R</u></span></a><span style=\"color:#000000\">,</span><a href=\"https://www.ncbi.nlm.nih.gov/pmc/articles/PMC4696435/\" style=\"text-decoration:none\"><span style=\"color:#000000\"> </span><span style=\"color:#1155cc\"><u>R</u></span></a><span style=\"color:#000000\">,</span><a href=\"https://www.ncbi.nlm.nih.gov/pmc/articles/PMC3820066/\" style=\"text-decoration:none\"><span style=\"color:#000000\"> </span><span style=\"color:#1155cc\"><u>R</u></span></a><span style=\"color:#000000\">,</span><a href=\"https://pubmed.ncbi.nlm.nih.gov/25646334/\" style=\"text-decoration:none\"><span style=\"color:#000000\"> </span><span style=\"color:#1155cc\"><u>R</u></span></a><span style=\"color:#000000\">]:</span></p>\r\n",
       "\r\n",
       "<ul>\r\n",
       "\t<li style=\"list-style-type:disc\"><span style=\"color:#000000\">Control weight&nbsp;</span></li>\r\n",
       "\t<li style=\"list-style-type:disc\"><span style=\"color:#000000\">Lower fatigue</span></li>\r\n",
       "\t<li style=\"list-style-type:disc\"><span style=\"color:#000000\">Boost mood</span></li>\r\n",
       "\t<li style=\"list-style-type:disc\"><span style=\"color:#000000\">Improve digestion</span></li>\r\n",
       "\t<li style=\"list-style-type:disc\"><span style=\"color:#000000\">Balance blood sugar</span></li>\r\n",
       "\t<li style=\"list-style-type:disc\"><span style=\"color:#000000\">Support heart health</span></li>\r\n",
       "</ul><br>\n"
      ],
      "text/plain": [
       "<IPython.core.display.HTML object>"
      ]
     },
     "metadata": {},
     "output_type": "display_data"
    },
    {
     "data": {
      "text/html": [
       "<h5>Blueberries</h5>\n",
       "Eat more blueberries.<br>\n",
       "<table>\n",
       "<tr>\n",
       "<th>Type</th>\n",
       "<th>Effect</th>\n",
       "<th>Evidence</th>\n",
       "</tr>\n",
       "<tr>\n",
       "<td>dietary</td>\n",
       "<td>0.4</td>\n",
       "<td>0.4</td>\n",
       "</tr>\n",
       "</table>\n",
       "<p><a href=\"https://selfhacked.com/blog/blueberries-health-benefits/\" style=\"text-decoration:none\"><span style=\"color:#1155cc\"><u>Blueberries</u></span></a><span style=\"color:#000000\"> are enjoyed all around the world for their sweet taste and nutritional benefits. They may support [</span><a href=\"https://www.ncbi.nlm.nih.gov/labs/pmc/articles/PMC7442370/\" style=\"text-decoration:none\"><span style=\"color:#1155cc\"><u>R</u></span></a><span style=\"color:#000000\">]:</span></p>\r\n",
       "\r\n",
       "<ul>\r\n",
       "\t<li style=\"list-style-type:disc\"><span style=\"color:#000000\">Heart health</span></li>\r\n",
       "\t<li style=\"list-style-type:disc\"><span style=\"color:#000000\">Cognitive function</span></li>\r\n",
       "\t<li style=\"list-style-type:disc\"><span style=\"color:#000000\">Normal blood sugar levels</span></li>\r\n",
       "</ul><br>\n"
      ],
      "text/plain": [
       "<IPython.core.display.HTML object>"
      ]
     },
     "metadata": {},
     "output_type": "display_data"
    },
    {
     "data": {
      "text/html": [
       "<h5>Aromatherapy</h5>\n",
       "Ask your doctor about aromatherapy.<br>\n",
       "<table>\n",
       "<tr>\n",
       "<th>Type</th>\n",
       "<th>Effect</th>\n",
       "<th>Evidence</th>\n",
       "</tr>\n",
       "<tr>\n",
       "<td>lifestyle</td>\n",
       "<td>0.2</td>\n",
       "<td>0.4</td>\n",
       "</tr>\n",
       "</table>\n",
       "<p><span style=\"color:#000000\">Aromatherapy uses concentrated plant extracts known as </span><span style=\"color:#000000\"><em>essential oils.</em></span><span style=\"color:#000000\"> They can be inhaled using a diffuser (a device that releases small amounts of oil into the air) or applied to the skin using a roller. Essential oils can also be found in products such as [</span><a href=\"https://www.mayoclinic.org/healthy-lifestyle/consumer-health/expert-answers/aromatherapy/faq-20058566\" style=\"text-decoration:none\"><span style=\"color:#1155cc\"><u>R</u></span></a><span style=\"color:#000000\">]:</span></p>\r\n",
       "\r\n",
       "<ul>\r\n",
       "\t<li style=\"list-style-type:disc\"><span style=\"color:#000000\">Massage oils</span></li>\r\n",
       "\t<li style=\"list-style-type:disc\"><span style=\"color:#000000\">Lotions</span></li>\r\n",
       "\t<li style=\"list-style-type:disc\"><span style=\"color:#000000\">Bath salts</span></li>\r\n",
       "</ul>\r\n",
       "\r\n",
       "<p><span style=\"color:#000000\">Common essential oils used in aromatherapy are made from Roman chamomile, peppermint, and lavender [</span><a href=\"https://www.nccih.nih.gov/health/aromatherapy\" style=\"text-decoration:none\"><span style=\"color:#1155cc\"><u>R</u></span><span style=\"color:#000000\">,</span></a><a href=\"https://pubmed.ncbi.nlm.nih.gov/28107335/\" style=\"text-decoration:none\"><span style=\"color:#000000\"> </span><span style=\"color:#1155cc\"><u>R</u></span></a><span style=\"color:#000000\">].</span></p>\r\n",
       "\r\n",
       "<p>&nbsp;</p>\r\n",
       "\r\n",
       "<p><span style=\"color:#000000\">Although they are natural compounds, essential oils can be harmful if not used properly. Tips for using them safely include [</span><a href=\"https://pubmed.ncbi.nlm.nih.gov/28107335/\" style=\"text-decoration:none\"><span style=\"color:#1155cc\"><u>R</u></span></a><span style=\"color:#000000\">,</span><a href=\"https://www.ncbi.nlm.nih.gov/pmc/articles/PMC7520654/\" style=\"text-decoration:none\"><span style=\"color:#000000\"> </span><span style=\"color:#1155cc\"><u>R</u></span></a><span style=\"color:#000000\">]:</span></p>\r\n",
       "\r\n",
       "<ul>\r\n",
       "\t<li style=\"list-style-type:disc\"><span style=\"color:#000000\">Diluting them properly using a plant-based carrier oil (such as olive oil or almond oil)</span></li>\r\n",
       "\t<li style=\"list-style-type:disc\"><span style=\"color:#000000\">Using diffusers in a well-ventilated area for a maximum of 1 hour</span></li>\r\n",
       "\t<li style=\"list-style-type:disc\"><span style=\"color:#000000\">If using on the skin, testing a small area first and waiting a day before using more</span></li>\r\n",
       "\t<li style=\"list-style-type:disc\"><span style=\"color:#000000\">Keeping essential oils away from candles or other heat sources</span></li>\r\n",
       "</ul>\r\n",
       "\r\n",
       "<p><span style=\"color:#000000\">Aromatherapy may help [</span><a href=\"https://www.mayoclinic.org/healthy-lifestyle/consumer-health/expert-answers/aromatherapy/faq-20058566\" style=\"text-decoration:none\"><span style=\"color:#1155cc\"><u>R</u></span></a><span style=\"color:#000000\">,</span><a href=\"https://pubmed.ncbi.nlm.nih.gov/32663929/\" style=\"text-decoration:none\"><span style=\"color:#000000\"> </span><span style=\"color:#1155cc\"><u>R</u></span></a><span style=\"color:#000000\">,</span><a href=\"https://pubmed.ncbi.nlm.nih.gov/33131627/\" style=\"text-decoration:none\"><span style=\"color:#000000\"> </span><span style=\"color:#1155cc\"><u>R</u></span></a><span style=\"color:#000000\">]:</span></p>\r\n",
       "\r\n",
       "<ul>\r\n",
       "\t<li style=\"list-style-type:disc\"><span style=\"color:#000000\">Relieve stress and anxiety</span></li>\r\n",
       "\t<li style=\"list-style-type:disc\"><span style=\"color:#000000\">Improve sleep quality</span></li>\r\n",
       "\t<li style=\"list-style-type:disc\"><span style=\"color:#000000\">Reduce pain</span></li>\r\n",
       "</ul><br>\n"
      ],
      "text/plain": [
       "<IPython.core.display.HTML object>"
      ]
     },
     "metadata": {},
     "output_type": "display_data"
    },
    {
     "data": {
      "text/html": [
       "<h5>Soy Isoflavones</h5>\n",
       "<br>\n",
       "<table>\n",
       "<tr>\n",
       "<th>Type</th>\n",
       "<th>Effect</th>\n",
       "<th>Evidence</th>\n",
       "</tr>\n",
       "<tr>\n",
       "<td>supplement</td>\n",
       "<td>0.0</td>\n",
       "<td>0.0</td>\n",
       "</tr>\n",
       "</table>\n",
       "<p>&nbsp; &nbsp;&nbsp;</p><br>\n"
      ],
      "text/plain": [
       "<IPython.core.display.HTML object>"
      ]
     },
     "metadata": {},
     "output_type": "display_data"
    },
    {
     "data": {
      "text/html": [
       "<h5>Grapes</h5>\n",
       "<br>\n",
       "<table>\n",
       "<tr>\n",
       "<th>Type</th>\n",
       "<th>Effect</th>\n",
       "<th>Evidence</th>\n",
       "</tr>\n",
       "<tr>\n",
       "<td>dietary</td>\n",
       "<td>0.0</td>\n",
       "<td>0.0</td>\n",
       "</tr>\n",
       "</table>\n",
       "<p>&nbsp; &nbsp;</p><br>\n"
      ],
      "text/plain": [
       "<IPython.core.display.HTML object>"
      ]
     },
     "metadata": {},
     "output_type": "display_data"
    },
    {
     "data": {
      "text/html": [
       "<h5>Grape Polyphenols</h5>\n",
       "<br>\n",
       "<table>\n",
       "<tr>\n",
       "<th>Type</th>\n",
       "<th>Effect</th>\n",
       "<th>Evidence</th>\n",
       "</tr>\n",
       "<tr>\n",
       "<td>supplement</td>\n",
       "<td>0.0</td>\n",
       "<td>0.0</td>\n",
       "</tr>\n",
       "</table>\n",
       "<p>&nbsp; &nbsp;&nbsp;</p><br>\n"
      ],
      "text/plain": [
       "<IPython.core.display.HTML object>"
      ]
     },
     "metadata": {},
     "output_type": "display_data"
    },
    {
     "data": {
      "text/html": [
       "<h5>Mediterranean Diet</h5>\n",
       "<br>\n",
       "<table>\n",
       "<tr>\n",
       "<th>Type</th>\n",
       "<th>Effect</th>\n",
       "<th>Evidence</th>\n",
       "</tr>\n",
       "<tr>\n",
       "<td>dietary</td>\n",
       "<td>0.0</td>\n",
       "<td>0.0</td>\n",
       "</tr>\n",
       "</table>\n",
       "<p>&nbsp; &nbsp;</p><br>\n"
      ],
      "text/plain": [
       "<IPython.core.display.HTML object>"
      ]
     },
     "metadata": {},
     "output_type": "display_data"
    },
    {
     "data": {
      "text/html": [
       "<h5>Dark Chocolate</h5>\n",
       "<br>\n",
       "<table>\n",
       "<tr>\n",
       "<th>Type</th>\n",
       "<th>Effect</th>\n",
       "<th>Evidence</th>\n",
       "</tr>\n",
       "<tr>\n",
       "<td>dietary</td>\n",
       "<td>0.0</td>\n",
       "<td>0.0</td>\n",
       "</tr>\n",
       "</table>\n",
       "<p>&nbsp; &nbsp;&nbsp;</p><br>\n"
      ],
      "text/plain": [
       "<IPython.core.display.HTML object>"
      ]
     },
     "metadata": {},
     "output_type": "display_data"
    },
    {
     "data": {
      "text/html": [
       "<h5>Cocoa</h5>\n",
       "<br>\n",
       "<table>\n",
       "<tr>\n",
       "<th>Type</th>\n",
       "<th>Effect</th>\n",
       "<th>Evidence</th>\n",
       "</tr>\n",
       "<tr>\n",
       "<td>dietary</td>\n",
       "<td>0.0</td>\n",
       "<td>0.0</td>\n",
       "</tr>\n",
       "</table>\n",
       "<p>&nbsp; &nbsp;&nbsp;</p><br>\n"
      ],
      "text/plain": [
       "<IPython.core.display.HTML object>"
      ]
     },
     "metadata": {},
     "output_type": "display_data"
    },
    {
     "data": {
      "text/html": [
       "<h5>Coffee</h5>\n",
       "<br>\n",
       "<table>\n",
       "<tr>\n",
       "<th>Type</th>\n",
       "<th>Effect</th>\n",
       "<th>Evidence</th>\n",
       "</tr>\n",
       "<tr>\n",
       "<td>dietary</td>\n",
       "<td>0.0</td>\n",
       "<td>0.0</td>\n",
       "</tr>\n",
       "</table>\n",
       "<p>&nbsp; &nbsp;&nbsp;</p><br>\n"
      ],
      "text/plain": [
       "<IPython.core.display.HTML object>"
      ]
     },
     "metadata": {},
     "output_type": "display_data"
    },
    {
     "data": {
      "text/html": [
       "<h5>Caffeine</h5>\n",
       "<br>\n",
       "<table>\n",
       "<tr>\n",
       "<th>Type</th>\n",
       "<th>Effect</th>\n",
       "<th>Evidence</th>\n",
       "</tr>\n",
       "<tr>\n",
       "<td>supplement</td>\n",
       "<td>0.0</td>\n",
       "<td>0.0</td>\n",
       "</tr>\n",
       "</table>\n",
       "<p>&nbsp; &nbsp;&nbsp;</p><br>\n"
      ],
      "text/plain": [
       "<IPython.core.display.HTML object>"
      ]
     },
     "metadata": {},
     "output_type": "display_data"
    },
    {
     "data": {
      "text/html": [
       "<h5>Boron</h5>\n",
       "<br>\n",
       "<table>\n",
       "<tr>\n",
       "<th>Type</th>\n",
       "<th>Effect</th>\n",
       "<th>Evidence</th>\n",
       "</tr>\n",
       "<tr>\n",
       "<td>supplement</td>\n",
       "<td>0.0</td>\n",
       "<td>0.0</td>\n",
       "</tr>\n",
       "</table>\n",
       "<p>&nbsp; &nbsp;</p><br>\n"
      ],
      "text/plain": [
       "<IPython.core.display.HTML object>"
      ]
     },
     "metadata": {},
     "output_type": "display_data"
    },
    {
     "data": {
      "text/html": [
       "<h5>Bacopa</h5>\n",
       "<br>\n",
       "<table>\n",
       "<tr>\n",
       "<th>Type</th>\n",
       "<th>Effect</th>\n",
       "<th>Evidence</th>\n",
       "</tr>\n",
       "<tr>\n",
       "<td>supplement</td>\n",
       "<td>0.0</td>\n",
       "<td>0.0</td>\n",
       "</tr>\n",
       "</table>\n",
       "<p>&nbsp; &nbsp;</p><br>\n"
      ],
      "text/plain": [
       "<IPython.core.display.HTML object>"
      ]
     },
     "metadata": {},
     "output_type": "display_data"
    },
    {
     "data": {
      "text/html": [
       "<h5>Pycnogenol</h5>\n",
       "<br>\n",
       "<table>\n",
       "<tr>\n",
       "<th>Type</th>\n",
       "<th>Effect</th>\n",
       "<th>Evidence</th>\n",
       "</tr>\n",
       "<tr>\n",
       "<td>supplement</td>\n",
       "<td>0.0</td>\n",
       "<td>0.0</td>\n",
       "</tr>\n",
       "</table>\n",
       "<p>&nbsp; &nbsp; &nbsp;</p><br>\n"
      ],
      "text/plain": [
       "<IPython.core.display.HTML object>"
      ]
     },
     "metadata": {},
     "output_type": "display_data"
    },
    {
     "data": {
      "text/html": [
       "<h5>Enzogenol</h5>\n",
       "<br>\n",
       "<table>\n",
       "<tr>\n",
       "<th>Type</th>\n",
       "<th>Effect</th>\n",
       "<th>Evidence</th>\n",
       "</tr>\n",
       "<tr>\n",
       "<td>supplement</td>\n",
       "<td>0.0</td>\n",
       "<td>0.0</td>\n",
       "</tr>\n",
       "</table>\n",
       "<p>&nbsp; &nbsp;&nbsp;</p><br>\n"
      ],
      "text/plain": [
       "<IPython.core.display.HTML object>"
      ]
     },
     "metadata": {},
     "output_type": "display_data"
    },
    {
     "data": {
      "text/html": [
       "<h5>Choline</h5>\n",
       "<br>\n",
       "<table>\n",
       "<tr>\n",
       "<th>Type</th>\n",
       "<th>Effect</th>\n",
       "<th>Evidence</th>\n",
       "</tr>\n",
       "<tr>\n",
       "<td>supplement</td>\n",
       "<td>0.0</td>\n",
       "<td>0.0</td>\n",
       "</tr>\n",
       "</table>\n",
       "<p>&nbsp; &nbsp;</p><br>\n"
      ],
      "text/plain": [
       "<IPython.core.display.HTML object>"
      ]
     },
     "metadata": {},
     "output_type": "display_data"
    },
    {
     "data": {
      "text/html": [
       "<h5>Iron</h5>\n",
       "<br>\n",
       "<table>\n",
       "<tr>\n",
       "<th>Type</th>\n",
       "<th>Effect</th>\n",
       "<th>Evidence</th>\n",
       "</tr>\n",
       "<tr>\n",
       "<td>supplement</td>\n",
       "<td>0.0</td>\n",
       "<td>0.0</td>\n",
       "</tr>\n",
       "</table>\n",
       "<p>&nbsp; &nbsp;&nbsp;</p><br>\n"
      ],
      "text/plain": [
       "<IPython.core.display.HTML object>"
      ]
     },
     "metadata": {},
     "output_type": "display_data"
    },
    {
     "data": {
      "text/html": [
       "<h5>Dietary Iron</h5>\n",
       "<br>\n",
       "<table>\n",
       "<tr>\n",
       "<th>Type</th>\n",
       "<th>Effect</th>\n",
       "<th>Evidence</th>\n",
       "</tr>\n",
       "<tr>\n",
       "<td>dietary</td>\n",
       "<td>0.0</td>\n",
       "<td>0.0</td>\n",
       "</tr>\n",
       "</table>\n",
       "<p>&nbsp; &nbsp;</p><br>\n"
      ],
      "text/plain": [
       "<IPython.core.display.HTML object>"
      ]
     },
     "metadata": {},
     "output_type": "display_data"
    },
    {
     "data": {
      "text/html": [
       "<h5>Ginkgo</h5>\n",
       "<br>\n",
       "<table>\n",
       "<tr>\n",
       "<th>Type</th>\n",
       "<th>Effect</th>\n",
       "<th>Evidence</th>\n",
       "</tr>\n",
       "<tr>\n",
       "<td>supplement</td>\n",
       "<td>0.0</td>\n",
       "<td>0.0</td>\n",
       "</tr>\n",
       "</table>\n",
       "<p>&nbsp; &nbsp;</p><br>\n"
      ],
      "text/plain": [
       "<IPython.core.display.HTML object>"
      ]
     },
     "metadata": {},
     "output_type": "display_data"
    },
    {
     "data": {
      "text/html": [
       "<h5>L-Tyrosine</h5>\n",
       "<br>\n",
       "<table>\n",
       "<tr>\n",
       "<th>Type</th>\n",
       "<th>Effect</th>\n",
       "<th>Evidence</th>\n",
       "</tr>\n",
       "<tr>\n",
       "<td>supplement</td>\n",
       "<td>0.0</td>\n",
       "<td>0.0</td>\n",
       "</tr>\n",
       "</table>\n",
       "<p>&nbsp; &nbsp;&nbsp;</p><br>\n"
      ],
      "text/plain": [
       "<IPython.core.display.HTML object>"
      ]
     },
     "metadata": {},
     "output_type": "display_data"
    },
    {
     "data": {
      "text/html": [
       "<h5>Guarana</h5>\n",
       "<br>\n",
       "<table>\n",
       "<tr>\n",
       "<th>Type</th>\n",
       "<th>Effect</th>\n",
       "<th>Evidence</th>\n",
       "</tr>\n",
       "<tr>\n",
       "<td>dietary</td>\n",
       "<td>0.0</td>\n",
       "<td>0.0</td>\n",
       "</tr>\n",
       "</table>\n",
       "<p>&nbsp; &nbsp;&nbsp;</p><br>\n"
      ],
      "text/plain": [
       "<IPython.core.display.HTML object>"
      ]
     },
     "metadata": {},
     "output_type": "display_data"
    },
    {
     "data": {
      "text/html": [
       "<h5>Lemon Balm</h5>\n",
       "<br>\n",
       "<table>\n",
       "<tr>\n",
       "<th>Type</th>\n",
       "<th>Effect</th>\n",
       "<th>Evidence</th>\n",
       "</tr>\n",
       "<tr>\n",
       "<td>supplement</td>\n",
       "<td>0.0</td>\n",
       "<td>0.0</td>\n",
       "</tr>\n",
       "</table>\n",
       "<p>&nbsp; &nbsp;</p><br>\n"
      ],
      "text/plain": [
       "<IPython.core.display.HTML object>"
      ]
     },
     "metadata": {},
     "output_type": "display_data"
    },
    {
     "data": {
      "text/html": [
       "<h5>Rosemary</h5>\n",
       "<br>\n",
       "<table>\n",
       "<tr>\n",
       "<th>Type</th>\n",
       "<th>Effect</th>\n",
       "<th>Evidence</th>\n",
       "</tr>\n",
       "<tr>\n",
       "<td>supplement</td>\n",
       "<td>0.0</td>\n",
       "<td>0.0</td>\n",
       "</tr>\n",
       "</table>\n",
       "<p>&nbsp; &nbsp;</p><br>\n"
      ],
      "text/plain": [
       "<IPython.core.display.HTML object>"
      ]
     },
     "metadata": {},
     "output_type": "display_data"
    },
    {
     "data": {
      "text/html": [
       "<h5>Citicoline</h5>\n",
       "<br>\n",
       "<table>\n",
       "<tr>\n",
       "<th>Type</th>\n",
       "<th>Effect</th>\n",
       "<th>Evidence</th>\n",
       "</tr>\n",
       "<tr>\n",
       "<td>supplement</td>\n",
       "<td>0.0</td>\n",
       "<td>0.0</td>\n",
       "</tr>\n",
       "</table>\n",
       "<p>&nbsp; &nbsp;</p><br>\n"
      ],
      "text/plain": [
       "<IPython.core.display.HTML object>"
      ]
     },
     "metadata": {},
     "output_type": "display_data"
    },
    {
     "data": {
      "text/html": [
       "<h5>L-Theanine</h5>\n",
       "<br>\n",
       "<table>\n",
       "<tr>\n",
       "<th>Type</th>\n",
       "<th>Effect</th>\n",
       "<th>Evidence</th>\n",
       "</tr>\n",
       "<tr>\n",
       "<td>supplement</td>\n",
       "<td>0.0</td>\n",
       "<td>0.0</td>\n",
       "</tr>\n",
       "</table>\n",
       "<p>&nbsp; &nbsp;</p><br>\n"
      ],
      "text/plain": [
       "<IPython.core.display.HTML object>"
      ]
     },
     "metadata": {},
     "output_type": "display_data"
    },
    {
     "data": {
      "text/html": [
       "<h5>Serine</h5>\n",
       "<br>\n",
       "<table>\n",
       "<tr>\n",
       "<th>Type</th>\n",
       "<th>Effect</th>\n",
       "<th>Evidence</th>\n",
       "</tr>\n",
       "<tr>\n",
       "<td>supplement</td>\n",
       "<td>0.0</td>\n",
       "<td>0.0</td>\n",
       "</tr>\n",
       "</table>\n",
       "<p>&nbsp; &nbsp;</p><br>\n"
      ],
      "text/plain": [
       "<IPython.core.display.HTML object>"
      ]
     },
     "metadata": {},
     "output_type": "display_data"
    },
    {
     "data": {
      "text/html": [
       "<h5>Black Seed</h5>\n",
       "<br>\n",
       "<table>\n",
       "<tr>\n",
       "<th>Type</th>\n",
       "<th>Effect</th>\n",
       "<th>Evidence</th>\n",
       "</tr>\n",
       "<tr>\n",
       "<td>supplement</td>\n",
       "<td>0.0</td>\n",
       "<td>0.0</td>\n",
       "</tr>\n",
       "</table>\n",
       "<p>&nbsp; &nbsp;</p><br>\n"
      ],
      "text/plain": [
       "<IPython.core.display.HTML object>"
      ]
     },
     "metadata": {},
     "output_type": "display_data"
    },
    {
     "data": {
      "text/html": [
       "<h5>Huperzine A</h5>\n",
       "<br>\n",
       "<table>\n",
       "<tr>\n",
       "<th>Type</th>\n",
       "<th>Effect</th>\n",
       "<th>Evidence</th>\n",
       "</tr>\n",
       "<tr>\n",
       "<td>supplement</td>\n",
       "<td>0.0</td>\n",
       "<td>0.0</td>\n",
       "</tr>\n",
       "</table>\n",
       "<p>&nbsp; &nbsp;</p><br>\n"
      ],
      "text/plain": [
       "<IPython.core.display.HTML object>"
      ]
     },
     "metadata": {},
     "output_type": "display_data"
    },
    {
     "data": {
      "text/html": [
       "<h5>Zinc</h5>\n",
       "<br>\n",
       "<table>\n",
       "<tr>\n",
       "<th>Type</th>\n",
       "<th>Effect</th>\n",
       "<th>Evidence</th>\n",
       "</tr>\n",
       "<tr>\n",
       "<td>supplement</td>\n",
       "<td>0.0</td>\n",
       "<td>0.0</td>\n",
       "</tr>\n",
       "</table>\n",
       "<p>&nbsp; &nbsp;</p><br>\n"
      ],
      "text/plain": [
       "<IPython.core.display.HTML object>"
      ]
     },
     "metadata": {},
     "output_type": "display_data"
    },
    {
     "data": {
      "text/html": [
       "<h5>Vinpocetine</h5>\n",
       "<br>\n",
       "<table>\n",
       "<tr>\n",
       "<th>Type</th>\n",
       "<th>Effect</th>\n",
       "<th>Evidence</th>\n",
       "</tr>\n",
       "<tr>\n",
       "<td>supplement</td>\n",
       "<td>0.0</td>\n",
       "<td>0.0</td>\n",
       "</tr>\n",
       "</table>\n",
       "<p>&nbsp; &nbsp;</p><br>\n"
      ],
      "text/plain": [
       "<IPython.core.display.HTML object>"
      ]
     },
     "metadata": {},
     "output_type": "display_data"
    },
    {
     "data": {
      "text/html": [
       "<h5>American Ginseng</h5>\n",
       "<br>\n",
       "<table>\n",
       "<tr>\n",
       "<th>Type</th>\n",
       "<th>Effect</th>\n",
       "<th>Evidence</th>\n",
       "</tr>\n",
       "<tr>\n",
       "<td>supplement</td>\n",
       "<td>0.0</td>\n",
       "<td>0.0</td>\n",
       "</tr>\n",
       "</table>\n",
       "<p>&nbsp; &nbsp;</p><br>\n"
      ],
      "text/plain": [
       "<IPython.core.display.HTML object>"
      ]
     },
     "metadata": {},
     "output_type": "display_data"
    },
    {
     "data": {
      "text/html": [
       "<h5>Ashwagandha</h5>\n",
       "<br>\n",
       "<table>\n",
       "<tr>\n",
       "<th>Type</th>\n",
       "<th>Effect</th>\n",
       "<th>Evidence</th>\n",
       "</tr>\n",
       "<tr>\n",
       "<td>supplement</td>\n",
       "<td>0.0</td>\n",
       "<td>0.0</td>\n",
       "</tr>\n",
       "</table>\n",
       "<p>&nbsp; &nbsp;</p><br>\n"
      ],
      "text/plain": [
       "<IPython.core.display.HTML object>"
      ]
     },
     "metadata": {},
     "output_type": "display_data"
    },
    {
     "data": {
      "text/html": [
       "<h5>Avena Sativa</h5>\n",
       "<br>\n",
       "<table>\n",
       "<tr>\n",
       "<th>Type</th>\n",
       "<th>Effect</th>\n",
       "<th>Evidence</th>\n",
       "</tr>\n",
       "<tr>\n",
       "<td>supplement</td>\n",
       "<td>0.0</td>\n",
       "<td>0.0</td>\n",
       "</tr>\n",
       "</table>\n",
       "<p>&nbsp;&nbsp;</p><br>\n"
      ],
      "text/plain": [
       "<IPython.core.display.HTML object>"
      ]
     },
     "metadata": {},
     "output_type": "display_data"
    },
    {
     "data": {
      "text/html": [
       "<h5>Cognitive Training</h5>\n",
       "<br>\n",
       "<table>\n",
       "<tr>\n",
       "<th>Type</th>\n",
       "<th>Effect</th>\n",
       "<th>Evidence</th>\n",
       "</tr>\n",
       "<tr>\n",
       "<td>lifestyle</td>\n",
       "<td>0.0</td>\n",
       "<td>0.0</td>\n",
       "</tr>\n",
       "</table>\n",
       "<p>&nbsp; &nbsp;&nbsp;</p><br>\n"
      ],
      "text/plain": [
       "<IPython.core.display.HTML object>"
      ]
     },
     "metadata": {},
     "output_type": "display_data"
    },
    {
     "data": {
      "text/html": [
       "<h5>Optimize Sleep</h5>\n",
       "<br>\n",
       "<table>\n",
       "<tr>\n",
       "<th>Type</th>\n",
       "<th>Effect</th>\n",
       "<th>Evidence</th>\n",
       "</tr>\n",
       "<tr>\n",
       "<td>lifestyle</td>\n",
       "<td>0.0</td>\n",
       "<td>0.0</td>\n",
       "</tr>\n",
       "</table>\n",
       "<p>&nbsp; &nbsp;</p><br>\n"
      ],
      "text/plain": [
       "<IPython.core.display.HTML object>"
      ]
     },
     "metadata": {},
     "output_type": "display_data"
    },
    {
     "data": {
      "text/html": [
       "<h5>Napping</h5>\n",
       "<br>\n",
       "<table>\n",
       "<tr>\n",
       "<th>Type</th>\n",
       "<th>Effect</th>\n",
       "<th>Evidence</th>\n",
       "</tr>\n",
       "<tr>\n",
       "<td>lifestyle</td>\n",
       "<td>0.0</td>\n",
       "<td>0.0</td>\n",
       "</tr>\n",
       "</table>\n",
       "<p>&nbsp; &nbsp;&nbsp;</p><br>\n"
      ],
      "text/plain": [
       "<IPython.core.display.HTML object>"
      ]
     },
     "metadata": {},
     "output_type": "display_data"
    },
    {
     "data": {
      "text/html": [
       "<h5>Exercise</h5>\n",
       "<br>\n",
       "<table>\n",
       "<tr>\n",
       "<th>Type</th>\n",
       "<th>Effect</th>\n",
       "<th>Evidence</th>\n",
       "</tr>\n",
       "<tr>\n",
       "<td>lifestyle</td>\n",
       "<td>0.0</td>\n",
       "<td>0.0</td>\n",
       "</tr>\n",
       "</table>\n",
       "<p>&nbsp; &nbsp;&nbsp;</p><br>\n"
      ],
      "text/plain": [
       "<IPython.core.display.HTML object>"
      ]
     },
     "metadata": {},
     "output_type": "display_data"
    },
    {
     "data": {
      "text/html": [
       "<h5>Cardio</h5>\n",
       "<br>\n",
       "<table>\n",
       "<tr>\n",
       "<th>Type</th>\n",
       "<th>Effect</th>\n",
       "<th>Evidence</th>\n",
       "</tr>\n",
       "<tr>\n",
       "<td>lifestyle</td>\n",
       "<td>0.0</td>\n",
       "<td>0.0</td>\n",
       "</tr>\n",
       "</table>\n",
       "<p>&nbsp; &nbsp;&nbsp;</p><br>\n"
      ],
      "text/plain": [
       "<IPython.core.display.HTML object>"
      ]
     },
     "metadata": {},
     "output_type": "display_data"
    },
    {
     "data": {
      "text/html": [
       "<h5>Mind-Body Exercise</h5>\n",
       "<br>\n",
       "<table>\n",
       "<tr>\n",
       "<th>Type</th>\n",
       "<th>Effect</th>\n",
       "<th>Evidence</th>\n",
       "</tr>\n",
       "<tr>\n",
       "<td>lifestyle</td>\n",
       "<td>0.0</td>\n",
       "<td>0.0</td>\n",
       "</tr>\n",
       "</table>\n",
       "<p>&nbsp; &nbsp; &nbsp;</p><br>\n"
      ],
      "text/plain": [
       "<IPython.core.display.HTML object>"
      ]
     },
     "metadata": {},
     "output_type": "display_data"
    },
    {
     "data": {
      "text/html": [
       "<h5>Tai Chi</h5>\n",
       "<br>\n",
       "<table>\n",
       "<tr>\n",
       "<th>Type</th>\n",
       "<th>Effect</th>\n",
       "<th>Evidence</th>\n",
       "</tr>\n",
       "<tr>\n",
       "<td>lifestyle</td>\n",
       "<td>0.0</td>\n",
       "<td>0.0</td>\n",
       "</tr>\n",
       "</table>\n",
       "<p>&nbsp; &nbsp;</p><br>\n"
      ],
      "text/plain": [
       "<IPython.core.display.HTML object>"
      ]
     },
     "metadata": {},
     "output_type": "display_data"
    },
    {
     "data": {
      "text/html": [
       "<h5>Relaxation Techniques</h5>\n",
       "<br>\n",
       "<table>\n",
       "<tr>\n",
       "<th>Type</th>\n",
       "<th>Effect</th>\n",
       "<th>Evidence</th>\n",
       "</tr>\n",
       "<tr>\n",
       "<td>lifestyle</td>\n",
       "<td>0.0</td>\n",
       "<td>0.0</td>\n",
       "</tr>\n",
       "</table>\n",
       "<p>&nbsp; &nbsp;</p><br>\n"
      ],
      "text/plain": [
       "<IPython.core.display.HTML object>"
      ]
     },
     "metadata": {},
     "output_type": "display_data"
    },
    {
     "data": {
      "text/html": [
       "<h5>Yoga</h5>\n",
       "<br>\n",
       "<table>\n",
       "<tr>\n",
       "<th>Type</th>\n",
       "<th>Effect</th>\n",
       "<th>Evidence</th>\n",
       "</tr>\n",
       "<tr>\n",
       "<td>lifestyle</td>\n",
       "<td>0.0</td>\n",
       "<td>0.0</td>\n",
       "</tr>\n",
       "</table>\n",
       "<p>&nbsp;&nbsp;</p><br>\n"
      ],
      "text/plain": [
       "<IPython.core.display.HTML object>"
      ]
     },
     "metadata": {},
     "output_type": "display_data"
    },
    {
     "data": {
      "text/html": [
       "<h5>Meditation</h5>\n",
       "<br>\n",
       "<table>\n",
       "<tr>\n",
       "<th>Type</th>\n",
       "<th>Effect</th>\n",
       "<th>Evidence</th>\n",
       "</tr>\n",
       "<tr>\n",
       "<td>lifestyle</td>\n",
       "<td>0.0</td>\n",
       "<td>0.0</td>\n",
       "</tr>\n",
       "</table>\n",
       "<p>&nbsp; &nbsp;</p><br>\n"
      ],
      "text/plain": [
       "<IPython.core.display.HTML object>"
      ]
     },
     "metadata": {},
     "output_type": "display_data"
    },
    {
     "data": {
      "text/html": [
       "<h5>Avoid Cigarette Smoke</h5>\n",
       "<br>\n",
       "<table>\n",
       "<tr>\n",
       "<th>Type</th>\n",
       "<th>Effect</th>\n",
       "<th>Evidence</th>\n",
       "</tr>\n",
       "<tr>\n",
       "<td>lifestyle</td>\n",
       "<td>0.0</td>\n",
       "<td>0.0</td>\n",
       "</tr>\n",
       "</table>\n",
       "<p>&nbsp; &nbsp;</p><br>\n"
      ],
      "text/plain": [
       "<IPython.core.display.HTML object>"
      ]
     },
     "metadata": {},
     "output_type": "display_data"
    },
    {
     "data": {
      "text/html": [
       "<h5>Aromatherapy</h5>\n",
       "<br>\n",
       "<table>\n",
       "<tr>\n",
       "<th>Type</th>\n",
       "<th>Effect</th>\n",
       "<th>Evidence</th>\n",
       "</tr>\n",
       "<tr>\n",
       "<td>lifestyle</td>\n",
       "<td>0.0</td>\n",
       "<td>0.0</td>\n",
       "</tr>\n",
       "</table>\n",
       "<p>&nbsp; &nbsp;</p><br>\n"
      ],
      "text/plain": [
       "<IPython.core.display.HTML object>"
      ]
     },
     "metadata": {},
     "output_type": "display_data"
    },
    {
     "data": {
      "text/html": [
       "<h5>Blueberries</h5>\n",
       "<br>\n",
       "<table>\n",
       "<tr>\n",
       "<th>Type</th>\n",
       "<th>Effect</th>\n",
       "<th>Evidence</th>\n",
       "</tr>\n",
       "<tr>\n",
       "<td>dietary</td>\n",
       "<td>0.0</td>\n",
       "<td>0.0</td>\n",
       "</tr>\n",
       "</table>\n",
       "<p>&nbsp; &nbsp;</p><br>\n"
      ],
      "text/plain": [
       "<IPython.core.display.HTML object>"
      ]
     },
     "metadata": {},
     "output_type": "display_data"
    },
    {
     "data": {
      "text/html": [
       "<h5>Antioxidant Supplements</h5>\n",
       "<br>\n",
       "<table>\n",
       "<tr>\n",
       "<th>Type</th>\n",
       "<th>Effect</th>\n",
       "<th>Evidence</th>\n",
       "</tr>\n",
       "<tr>\n",
       "<td>supplement</td>\n",
       "<td>0.0</td>\n",
       "<td>0.0</td>\n",
       "</tr>\n",
       "</table>\n",
       "<p>&nbsp; &nbsp;</p><br>\n"
      ],
      "text/plain": [
       "<IPython.core.display.HTML object>"
      ]
     },
     "metadata": {},
     "output_type": "display_data"
    },
    {
     "data": {
      "text/html": [
       "<h3>Deterioro Cognitivo</h3>\n",
       "Your score: 0.0708812260536398<br>\n",
       "Less likely to  have cognitive decline<br>\n",
       "<h4>Summary</h4>\n",
       "<br>\n",
       "<h4>Factores de Riesgo y Genética</h4>\n",
       "<p><span style=\"color:#000000\">El deterioro cognitivo leve es una parte normal del envejecimiento que puede afectar a funciones cognitivas como la memoria, la atenci&oacute;n y la resoluci&oacute;n de problemas.</span></p>\r\n",
       "\r\n",
       "<p>&nbsp;</p>\r\n",
       "\r\n",
       "<p><span style=\"color:#000000\">Alrededor </span><span style=\"color:#000000\"><strong>del 60-70%</strong></span><span style=\"color:#000000\"> de las diferencias en el deterioro cognitivo de las personas pueden provenir de la gen&eacute;tica [</span><a href=\"https://www.nia.nih.gov/news/gene-connection-age-related-cognitive-decline-confirmed-mouse-study#:~:text=Studies%20suggest%20up%20to%2060,are%20attributable%20to%20genetic%20factors.\" style=\"text-decoration:none\"><span style=\"color:#1155cc\"><u>R</u></span></a><span style=\"color:#000000\">].</span></p>\r\n",
       "\r\n",
       "<p>&nbsp;</p>\r\n",
       "\r\n",
       "<p><span style=\"color:#000000\">Otros factores de riesgo para el deterioro cognitivo incluyen [</span><a href=\"https://www.mayoclinic.org/diseases-conditions/mild-cognitive-impairment/symptoms-causes/syc-20354578\" style=\"text-decoration:none\"><span style=\"color:#1155cc\"><u>R</u></span></a><span style=\"color:#000000\">]:</span></p>\r\n",
       "\r\n",
       "<ul>\r\n",
       "\t<li style=\"list-style-type:disc\"><span style=\"color:#000000\">Edad avanzada</span></li>\r\n",
       "\t<li style=\"list-style-type:disc\"><span style=\"color:#000000\">Sexo femenino</span></li>\r\n",
       "\t<li style=\"list-style-type:disc\"><span style=\"color:#000000\">Factores del estilo de vida como fumar y estar inactivo</span></li>\r\n",
       "\t<li style=\"list-style-type:disc\"><span style=\"color:#000000\">Nivel educativo m&aacute;s bajo</span></li>\r\n",
       "</ul>\r\n",
       "\r\n",
       "<p><span style=\"color:#000000\">Diferentes condiciones de salud pueden influir en el deterioro cognitivo, incluyendo el colesterol y la presi&oacute;n arterial altos [</span><a href=\"https://www.mayoclinic.org/diseases-conditions/mild-cognitive-impairment/symptoms-causes/syc-20354578\" style=\"text-decoration:none\"><span style=\"color:#1155cc\"><u>R</u></span></a><span style=\"color:#000000\">].</span></p>\r\n",
       "\r\n",
       "<p>&nbsp;</p><br>\n",
       "<br>\n",
       "<h4>Recommendations</h4>"
      ],
      "text/plain": [
       "<IPython.core.display.HTML object>"
      ]
     },
     "metadata": {},
     "output_type": "display_data"
    },
    {
     "data": {
      "text/html": [
       "<h5>Ejercicio</h5>\n",
       "Haga ejercicio regularmente.<br>\n",
       "<table>\n",
       "<tr>\n",
       "<th>Type</th>\n",
       "<th>Effect</th>\n",
       "<th>Evidence</th>\n",
       "</tr>\n",
       "<tr>\n",
       "<td>lifestyle</td>\n",
       "<td>0.8</td>\n",
       "<td>1.0</td>\n",
       "</tr>\n",
       "</table>\n",
       "<p style=\"text-align:justify\"><span style=\"color:#000000\">El </span><a href=\"https://health.selfdecode.com/blog/top-14-proven-health-benefits-exercise-references-mechanisms/\" style=\"text-decoration:none\"><span style=\"color:#1155cc\"><strong><u>ejercicio</u></strong></span></a><span style=\"color:#000000\"><strong> puede hacer maravillas por su salud.</strong></span><span style=\"color:#000000\"> Puede ayudarle a perder peso, mejorar la salud de su coraz&oacute;n, aumentar su salud y m&aacute;s [</span><a href=\"https://medlineplus.gov/benefitsofexercise.html\" style=\"text-decoration:none\"><span style=\"color:#1155cc\"><u>R</u></span></a><span style=\"color:#000000\">].</span></p>\r\n",
       "\r\n",
       "<p style=\"text-align:justify\"><span style=\"color:#000000\">Hay muchas maneras de estar activo. Puede caminar, correr, levantar pesas, bailar o practicar deportes de equipo. </span><span style=\"color:#000000\"><strong>&iexcl;Todo cuenta, y nunca estarde para empezar!</strong></span></p>\r\n",
       "\r\n",
       "<p><br />\r\n",
       "<span style=\"color:#000000\">Intente realizar una combinaci&oacute;n de cardio (al menos 150 minutos/semana) y entrenamiento de fuerza (2 veces/semana) [</span><a href=\"https://health.gov/sites/default/files/2019-09/Physical_Activity_Guidelines_2nd_edition.pdf#page=56\" style=\"text-decoration:none\"><span style=\"color:#1155cc\"><u>R</u></span></a><span style=\"color:#000000\">].</span></p><br>\n"
      ],
      "text/plain": [
       "<IPython.core.display.HTML object>"
      ]
     },
     "metadata": {},
     "output_type": "display_data"
    },
    {
     "data": {
      "text/html": [
       "<h5>Actividad Cognitiva</h5>\n",
       "Trate de mantener su cerebro activo.<br>\n",
       "<table>\n",
       "<tr>\n",
       "<th>Type</th>\n",
       "<th>Effect</th>\n",
       "<th>Evidence</th>\n",
       "</tr>\n",
       "<tr>\n",
       "<td>lifestyle</td>\n",
       "<td>0.8</td>\n",
       "<td>0.8</td>\n",
       "</tr>\n",
       "</table>\n",
       "<p><span style=\"color:#000000\">A algunos cient&iacute;ficos les gusta pensar en el cerebro como un m&uacute;sculo. Dicen que si no se usa, se atrofia [</span><a href=\"https://pubmed.ncbi.nlm.nih.gov/31154013/\" style=\"text-decoration:none\"><span style=\"color:#1155cc\"><u>R</u></span></a><span style=\"color:#000000\">].</span></p>\r\n",
       "\r\n",
       "<p>&nbsp;</p>\r\n",
       "\r\n",
       "<p><span style=\"color:#000000\">De acuerdocon esto, mantener el cerebro estimulado puede ayudar a mantener la capacidad cognitiva [</span><a href=\"https://www.ncbi.nlm.nih.gov/labs/pmc/articles/PMC5881687/\" style=\"text-decoration:none\"><span style=\"color:#1155cc\"><u>R</u></span></a><span style=\"color:#000000\">].</span></p>\r\n",
       "\r\n",
       "<p>&nbsp;</p>\r\n",
       "\r\n",
       "<p><span style=\"color:#000000\">Hay muchas maneras de mantener el cerebro activo. Incluyen [</span><a href=\"https://www.nia.nih.gov/health/cognitive-health-and-older-adults\" style=\"text-decoration:none\"><span style=\"color:#0000ff\"><u>R</u></span></a><span style=\"color:#000000\">,</span><a href=\"https://www.mayoclinic.org/diseases-conditions/dementia/symptoms-causes/syc-20352013\" style=\"text-decoration:none\"><span style=\"color:#0000ff\"><u> R</u></span></a><span style=\"color:#000000\">,</span><a href=\"https://www.ncbi.nlm.nih.gov/labs/pmc/articles/PMC5881687/\" style=\"text-decoration:none\"><span style=\"color:#0000ff\"><u> R</u></span></a><span style=\"color:#000000\">,</span><a href=\"https://www.ncbi.nlm.nih.gov/labs/pmc/articles/PMC3583091/\" style=\"text-decoration:none\"><span style=\"color:#0000ff\"><u> R</u></span></a><span style=\"color:#000000\">,</span><a href=\"https://www.ncbi.nlm.nih.gov/labs/pmc/articles/PMC6174231/\" style=\"text-decoration:none\"><span style=\"color:#0000ff\"><u> R</u></span></a><span style=\"color:#000000\">]:</span></p>\r\n",
       "\r\n",
       "<ul>\r\n",
       "\t<li style=\"list-style-type:disc\"><span style=\"color:#000000\">Leer un libro</span></li>\r\n",
       "\t<li style=\"list-style-type:disc\"><span style=\"color:#000000\">Resolver un rompecabezas de palabras o n&uacute;meros (por ejemplo, crucigrama, Sudoku)</span></li>\r\n",
       "\t<li style=\"list-style-type:disc\"><span style=\"color:#000000\">Completar un rompecabezas</span></li>\r\n",
       "\t<li style=\"list-style-type:disc\"><span style=\"color:#000000\">Aprender un nuevo idioma</span></li>\r\n",
       "</ul><br>\n"
      ],
      "text/plain": [
       "<IPython.core.display.HTML object>"
      ]
     },
     "metadata": {},
     "output_type": "display_data"
    },
    {
     "data": {
      "text/html": [
       "<h5>Cardio</h5>\n",
       "Incluya cardio en su rutina de ejercicios.<br>\n",
       "<table>\n",
       "<tr>\n",
       "<th>Type</th>\n",
       "<th>Effect</th>\n",
       "<th>Evidence</th>\n",
       "</tr>\n",
       "<tr>\n",
       "<td>lifestyle</td>\n",
       "<td>0.6</td>\n",
       "<td>0.8</td>\n",
       "</tr>\n",
       "</table>\n",
       "<p><span style=\"color:#000000\">El cardio, abreviatura de ejercicio cardiovascular, es cualquier tipo de actividad f&iacute;sica que aumenta temporalmente su ritmo card&iacute;aco. Los ejemplos incluyen </span><span style=\"color:#000000\"><strong>correr, montar en bicicleta, nadar, y la marcha atl&eacute;tica</strong></span><span style=\"color:#000000\">.&nbsp;</span></p>\r\n",
       "\r\n",
       "<p><span style=\"color:#000000\">El ejercicio cardiovascular habitual tiene muchos beneficios para su salud en general. Puede ayudar a reducir su riesgo de enfermedades card&iacute;acas y diabetes, favorecer la p&eacute;rdida de peso, y mejorar su estado de &aacute;nimo y niveles de energ&iacute;a. Para aprovechar al m&aacute;ximo el cardio, trate de practicarlo durante </span><span style=\"color:#000000\"><strong>al menos 30 minutos, 3-5 veces a la semana</strong></span><span style=\"color:#000000\">.</span></p>\r\n",
       "\r\n",
       "<p>&nbsp;</p><br>\n"
      ],
      "text/plain": [
       "<IPython.core.display.HTML object>"
      ]
     },
     "metadata": {},
     "output_type": "display_data"
    },
    {
     "data": {
      "text/html": [
       "<h5>Entrenamiento de Fuerza</h5>\n",
       "Incluya entrenamiento de fuerza en su rutina de ejercicios.<br>\n",
       "<table>\n",
       "<tr>\n",
       "<th>Type</th>\n",
       "<th>Effect</th>\n",
       "<th>Evidence</th>\n",
       "</tr>\n",
       "<tr>\n",
       "<td>lifestyle</td>\n",
       "<td>0.6</td>\n",
       "<td>0.8</td>\n",
       "</tr>\n",
       "</table>\n",
       "<p style=\"text-align:justify\"><span style=\"color:#000000\">El entrenamiento de fuerza, tambi&eacute;n llamado entrenamiento </span><span style=\"color:#000000\"><em>anaer&oacute;bico</em></span><span style=\"color:#000000\">, es toda actividad que contrae los m&uacute;sculos contra una resistencia externa durante cortos per&iacute;odos de tiempo. Esto ayuda a ganar fuerza, tono y masa muscular. Algunos ejemplos son [</span><a href=\"https://www.ncbi.nlm.nih.gov/pmc/articles/PMC5329739/\" style=\"text-decoration:none\"><span style=\"color:#1155cc\"><u>R</u></span></a><span style=\"color:#000000\">]:</span></p>\r\n",
       "\r\n",
       "<ul>\r\n",
       "\t<li style=\"list-style-type:disc\"><span style=\"color:#000000\">Pesas</span></li>\r\n",
       "\t<li style=\"list-style-type:disc\"><span style=\"color:#000000\">Calistenia (flexiones, planchas, abdominales, etc.)</span></li>\r\n",
       "</ul>\r\n",
       "\r\n",
       "<p><span style=\"color:#000000\">Los expertos recomiendan practicar entrenamiento de fuerza al menos 2 veces por semana [</span><a href=\"https://health.gov/sites/default/files/2019-09/Physical_Activity_Guidelines_2nd_edition.pdf#page=56\" style=\"text-decoration:none\"><span style=\"color:#1155cc\"><u>R</u></span></a><span style=\"color:#000000\">].</span></p>\r\n",
       "\r\n",
       "<p>&nbsp;</p><br>\n"
      ],
      "text/plain": [
       "<IPython.core.display.HTML object>"
      ]
     },
     "metadata": {},
     "output_type": "display_data"
    },
    {
     "data": {
      "text/html": [
       "<h5>Evitar el Humo del Cigarrillo</h5>\n",
       "Evite el humo del cigarrillo.<br>\n",
       "<table>\n",
       "<tr>\n",
       "<th>Type</th>\n",
       "<th>Effect</th>\n",
       "<th>Evidence</th>\n",
       "</tr>\n",
       "<tr>\n",
       "<td>lifestyle</td>\n",
       "<td>0.6</td>\n",
       "<td>0.8</td>\n",
       "</tr>\n",
       "</table>\n",
       "<p style=\"text-align:justify\"><span style=\"color:#000000\">Ya sabe que el tabaco no es bueno para su salud. </span><span style=\"color:#000000\"><strong>Fumar afecta a todo el cuerpo.</strong></span><span style=\"color:#000000\"> Puede da&ntilde;ar su cerebro, coraz&oacute;n, pulmones, y m&aacute;s [</span><a href=\"https://pubmed.ncbi.nlm.nih.gov/11980288/\" style=\"text-decoration:none\"><span style=\"color:#1155cc\"><u>R</u></span></a><span style=\"color:#000000\">].</span></p>\r\n",
       "\r\n",
       "<p>&nbsp;</p>\r\n",
       "\r\n",
       "<p style=\"text-align:justify\"><span style=\"color:#000000\">Incluso si no fuma,</span><span style=\"color:#000000\"><strong>&nbsp; procure evitar el tabaquismo pasivo. Puede causar problemas de salud similares a fumar </strong></span><span style=\"color:#000000\">[</span><a href=\"https://www.ncbi.nlm.nih.gov/pmc/articles/PMC4595077/\" style=\"text-decoration:none\"><span style=\"color:#0000ff\"><u>R</u></span></a><span style=\"color:#000000\">,</span><a href=\"https://www.ncbi.nlm.nih.gov/pmc/articles/PMC2553398/\" style=\"text-decoration:none\"><span style=\"color:#0000ff\"><u> R</u></span></a><span style=\"color:#000000\">].</span></p>\r\n",
       "\r\n",
       "<p><br />\r\n",
       "<span style=\"color:#000000\">Pero, hay buenas noticias: evitar el </span><span style=\"color:#000000\"><strong>humo del cigarrillo puede revertir muchos de sus efectos negativos</strong></span><span style=\"color:#000000\">. Es una excelente manera de mejorar considerablemente su salud [</span><a href=\"https://www.ncbi.nlm.nih.gov/books/NBK555590/\" style=\"text-decoration:none\"><span style=\"color:#1155cc\"><u>R</u></span></a><span style=\"color:#000000\">].</span></p><br>\n"
      ],
      "text/plain": [
       "<IPython.core.display.HTML object>"
      ]
     },
     "metadata": {},
     "output_type": "display_data"
    },
    {
     "data": {
      "text/html": [
       "<h5>Optimizar las Horas de Sueño</h5>\n",
       "Trate de obtener al menos 7 h de sueño de buena calidad todas las noches.<br>\n",
       "<table>\n",
       "<tr>\n",
       "<th>Type</th>\n",
       "<th>Effect</th>\n",
       "<th>Evidence</th>\n",
       "</tr>\n",
       "<tr>\n",
       "<td>lifestyle</td>\n",
       "<td>0.6</td>\n",
       "<td>0.8</td>\n",
       "</tr>\n",
       "</table>\n",
       "<p><span style=\"color:#000000\"><strong>El </strong></span><a href=\"https://health.selfdecode.com/blog/health-benefits-sleep/\" style=\"text-decoration:none\"><span style=\"color:#1155cc\"><strong><u>sue&ntilde;o</u></strong></span></a><span style=\"color:#000000\"><strong> apoya su cuerpo y mente</strong></span><span style=\"color:#000000\">. M&aacute;s precisamente, el sue&ntilde;o ayuda a:</span></p>\r\n",
       "\r\n",
       "<ul>\r\n",
       "\t<li style=\"list-style-type:disc\"><span style=\"color:#000000\">Mejorar la salud del cerebro [</span><a href=\"https://www.ncbi.nlm.nih.gov/pmc/articles/PMC3880190/\" style=\"text-decoration:none\"><span style=\"color:#0000ff\"><u>R</u></span></a><span style=\"color:#000000\">, </span><a href=\"https://www.ncbi.nlm.nih.gov/pubmed/24136944/\" style=\"text-decoration:none\"><span style=\"color:#0000ff\"><u>R</u></span></a><span style=\"color:#000000\">]</span></li>\r\n",
       "\t<li style=\"list-style-type:disc\"><span style=\"color:#000000\">Mantener un peso y apetito saludables [</span><a href=\"https://www.ncbi.nlm.nih.gov/pubmed/24892893\" style=\"text-decoration:none\"><span style=\"color:#0000ff\"><u>R</u></span></a><span style=\"color:#000000\">, </span><a href=\"https://www.ncbi.nlm.nih.gov/pmc/articles/PMC4394987/\" style=\"text-decoration:none\"><span style=\"color:#0000ff\"><u>R</u></span></a><span style=\"color:#000000\">, </span><a href=\"https://www.ncbi.nlm.nih.gov/pmc/articles/PMC535701/\" style=\"text-decoration:none\"><span style=\"color:#0000ff\"><u>R</u></span></a><span style=\"color:#000000\">]</span></li>\r\n",
       "\t<li style=\"list-style-type:disc\"><span style=\"color:#000000\">Regular la presi&oacute;n arterial [</span><a href=\"https://www.ncbi.nlm.nih.gov/pubmed/16585410/\" style=\"text-decoration:none\"><span style=\"color:#0000ff\"><u>R</u></span></a><span style=\"color:#000000\">, </span><a href=\"https://www.ncbi.nlm.nih.gov/pmc/articles/PMC2845795/\" style=\"text-decoration:none\"><span style=\"color:#0000ff\"><u>R</u></span></a><span style=\"color:#000000\">]</span></li>\r\n",
       "\t<li style=\"list-style-type:disc\"><span style=\"color:#000000\">Equilibrar el az&uacute;car en sangre [</span><a href=\"https://www.ncbi.nlm.nih.gov/pmc/articles/PMC3767932/\" style=\"text-decoration:none\"><span style=\"color:#0000ff\"><u>R</u></span></a><span style=\"color:#000000\">, </span><a href=\"https://www.ncbi.nlm.nih.gov/pmc/articles/PMC2927933/\" style=\"text-decoration:none\"><span style=\"color:#0000ff\"><u>R</u></span></a><span style=\"color:#000000\">]</span></li>\r\n",
       "</ul>\r\n",
       "\r\n",
       "<p><span style=\"color:#000000\">Los expertos dicen que todo el mundo deber&iacute;a dormir </span><span style=\"color:#000000\"><strong>al menos 7 horas</strong></span><span style=\"color:#000000\"> de buena calidad cada noche [</span><a href=\"https://www.mayoclinic.org/healthy-lifestyle/adult-health/in-depth/sleep/art-20048379\" style=\"text-decoration:none\"><span style=\"color:#1155cc\"><u>R</u></span></a><span style=\"color:#000000\">].</span></p>\r\n",
       "\r\n",
       "<p>&nbsp;</p><br>\n"
      ],
      "text/plain": [
       "<IPython.core.display.HTML object>"
      ]
     },
     "metadata": {},
     "output_type": "display_data"
    },
    {
     "data": {
      "text/html": [
       "<h5>Entrenamiento Cognitivo</h5>\n",
       "Practique técnicas de entrenamiento cognitivo.<br>\n",
       "<table>\n",
       "<tr>\n",
       "<th>Type</th>\n",
       "<th>Effect</th>\n",
       "<th>Evidence</th>\n",
       "</tr>\n",
       "<tr>\n",
       "<td>lifestyle</td>\n",
       "<td>0.6</td>\n",
       "<td>0.8</td>\n",
       "</tr>\n",
       "</table>\n",
       "<p><span style=\"color:#000000\">Los</span><span style=\"color:#000000\"><strong> </strong></span><span style=\"color:#000000\">programas de </span><span style=\"color:#000000\"><strong>entrenamiento cognitivo</strong></span><span style=\"color:#000000\"> le gu&iacute;an a trav&eacute;s de tareas desafiantes. Su objetivo es mejorar algunos asepctos de la funci&oacute;n cognitiva, incluyendo [</span><a href=\"https://www.cochrane.org/CD013069/DEMENTIA_cognitive-training-people-mild-moderate-dementia\" style=\"text-decoration:none\"><span style=\"color:#1155cc\"><u>R</u></span></a><span style=\"color:#000000\">]:</span></p>\r\n",
       "\r\n",
       "<ul>\r\n",
       "\t<li style=\"list-style-type:disc\"><span style=\"color:#000000\">Memoria</span></li>\r\n",
       "\t<li style=\"list-style-type:disc\"><span style=\"color:#000000\">Atenci&oacute;n</span></li>\r\n",
       "\t<li style=\"list-style-type:disc\"><span style=\"color:#000000\">Habilidades para resolver problemas&nbsp;</span></li>\r\n",
       "</ul>\r\n",
       "\r\n",
       "<p><span style=\"color:#000000\"><strong>A algunos cient&iacute;ficos les gusta pensar en el cerebro como un m&uacute;sculo</strong></span><span style=\"color:#000000\">. Dicen que si no se usa, se atrofia. De acuerdo con esto, el entrenamiento cognitivo puede considerarse &quot;ejercicio cerebral&quot;. A menudo se proporciona a trav&eacute;s de programas inform&aacute;ticos [</span><a href=\"https://pubmed.ncbi.nlm.nih.gov/31154013/\" style=\"text-decoration:none\"><span style=\"color:#0000ff\"><u>R</u></span></a><span style=\"color:#000000\">, </span><a href=\"https://pubmed.ncbi.nlm.nih.gov/30864187/\" style=\"text-decoration:none\"><span style=\"color:#0000ff\"><u>R</u></span></a><span style=\"color:#000000\">].</span></p>\r\n",
       "\r\n",
       "<p>&nbsp;</p><br>\n"
      ],
      "text/plain": [
       "<IPython.core.display.HTML object>"
      ]
     },
     "metadata": {},
     "output_type": "display_data"
    },
    {
     "data": {
      "text/html": [
       "<h5>Técnicas de Relajación</h5>\n",
       "Practique técnicas de relajación.<br>\n",
       "<table>\n",
       "<tr>\n",
       "<th>Type</th>\n",
       "<th>Effect</th>\n",
       "<th>Evidence</th>\n",
       "</tr>\n",
       "<tr>\n",
       "<td>lifestyle</td>\n",
       "<td>0.6</td>\n",
       "<td>0.6</td>\n",
       "</tr>\n",
       "</table>\n",
       "<p><span style=\"color:#000000\"><strong>Todos nos estresamos de vez en cuando.</strong></span></p>\r\n",
       "\r\n",
       "<p>&nbsp;</p>\r\n",
       "\r\n",
       "<p><span style=\"color:#000000\">El </span><a href=\"https://selfhacked.com/blog/63-factors-raising-stress-cortisol-level-backed-science/\" style=\"text-decoration:none\"><span style=\"color:#1155cc\"><u>estr&eacute;s</u></span></a><span style=\"color:#000000\"> puede ayudarle a afrontar un desaf&iacute;o o evitar el peligro. Sin embargo,</span><span style=\"color:#000000\"><strong> no es saludable estar estresado durante mucho tiempo</strong></span><span style=\"color:#000000\"> [</span><a href=\"https://www.ncbi.nlm.nih.gov/books/NBK541120/\" style=\"text-decoration:none\"><span style=\"color:#0000ff\"><u>R</u></span></a><span style=\"color:#000000\">,</span><a href=\"https://www.ncbi.nlm.nih.gov/pmc/articles/PMC2568977/\" style=\"text-decoration:none\"><span style=\"color:#0000ff\"><u> R</u></span></a><span style=\"color:#000000\">].</span></p>\r\n",
       "\r\n",
       "<p>&nbsp;</p>\r\n",
       "\r\n",
       "<p><span style=\"color:#000000\"><strong>Las t&eacute;cnicas de relajaci&oacute;n como el </strong></span><a href=\"https://selfhacked.com/blog/health-benefits-yoga/\" style=\"text-decoration:none\"><span style=\"color:#1155cc\"><strong><u>yoga</u></strong></span></a><span style=\"color:#000000\"><strong> y la </strong></span><a href=\"https://selfhacked.com/blog/meditation/\" style=\"text-decoration:none\"><span style=\"color:#1155cc\"><strong><u>meditaci&oacute;n</u></strong></span></a><span style=\"color:#000000\"><strong> pueden aliviar el estr&eacute;s de diferentes maneras</strong></span><span style=\"color:#000000\">. La mayor&iacute;a de ellas se centran en la respiraci&oacute;n y le ayudan a deshacerse de los pensamientos negativos y las emociones [</span><a href=\"https://www.mayoclinic.org/healthy-lifestyle/stress-management/in-depth/relaxation-technique/art-20045368\" style=\"text-decoration:none\"><span style=\"color:#1155cc\"><u>R</u></span></a><span style=\"color:#000000\">].</span></p>\r\n",
       "\r\n",
       "<p>&nbsp;</p>\r\n",
       "\r\n",
       "<p><span style=\"color:#000000\">Las personas usan t&eacute;cnicas de relajaci&oacute;n para mejorar enfermedades como [</span><a href=\"https://www.ncbi.nlm.nih.gov/books/NBK513238/\" style=\"text-decoration:none\"><span style=\"color:#0000ff\"><u>R</u></span></a><span style=\"color:#000000\">, </span><a href=\"https://www.mayoclinic.org/healthy-lifestyle/consumer-health/in-depth/mindfulness-exercises/art-20046356\" style=\"text-decoration:none\"><span style=\"color:#0000ff\"><u>R</u></span></a><span style=\"color:#000000\">, </span><a href=\"https://pubmed.ncbi.nlm.nih.gov/32406186/\" style=\"text-decoration:none\"><span style=\"color:#0000ff\"><u>R</u></span></a><span style=\"color:#000000\">]:</span></p>\r\n",
       "\r\n",
       "<ul>\r\n",
       "\t<li style=\"list-style-type:disc\"><span style=\"color:#000000\">Ansiedad&nbsp;</span></li>\r\n",
       "\t<li style=\"list-style-type:disc\"><span style=\"color:#000000\">Depresi&oacute;n</span></li>\r\n",
       "\t<li style=\"list-style-type:disc\"><span style=\"color:#000000\">Dolor cr&oacute;nico</span></li>\r\n",
       "</ul>\r\n",
       "\r\n",
       "<p>&nbsp;</p><br>\n"
      ],
      "text/plain": [
       "<IPython.core.display.HTML object>"
      ]
     },
     "metadata": {},
     "output_type": "display_data"
    },
    {
     "data": {
      "text/html": [
       "<h5>Dieta Mediterránea</h5>\n",
       "Considere seguir la dieta Mediterránea.<br>\n",
       "<table>\n",
       "<tr>\n",
       "<th>Type</th>\n",
       "<th>Effect</th>\n",
       "<th>Evidence</th>\n",
       "</tr>\n",
       "<tr>\n",
       "<td>dietary</td>\n",
       "<td>0.6</td>\n",
       "<td>0.6</td>\n",
       "</tr>\n",
       "</table>\n",
       "<p style=\"text-align:justify\"><span style=\"color:#000000\">La </span><a href=\"https://health.selfdecode.com/blog/14-mediterranean-diet-health-benefits-food-list/\" style=\"text-decoration:none\"><span style=\"color:#0000ff\"><u>dieta mediterr&aacute;nea </u></span></a><span style=\"color:#000000\">se basa en la cocina tradicional de la regi&oacute;n mediterr&aacute;nea. Es rica en alimentos como [</span><a href=\"https://www.ncbi.nlm.nih.gov/pmc/articles/PMC6466433/\" style=\"text-decoration:none\"><span style=\"color:#1155cc\"><u>R</u></span></a><span style=\"color:#000000\">]:</span></p>\r\n",
       "\r\n",
       "<ul>\r\n",
       "\t<li style=\"list-style-type:disc\"><span style=\"color:#000000\">Frutas y verduras</span></li>\r\n",
       "\t<li style=\"list-style-type:disc\"><span style=\"color:#000000\">Cereales integrales</span></li>\r\n",
       "\t<li style=\"list-style-type:disc\"><span style=\"color:#000000\">Grasas saludables (pescado y </span><span style=\"color:#1155cc\"><u>aceite de oliva</u></span><span style=\"color:#000000\">)</span></li>\r\n",
       "</ul>\r\n",
       "\r\n",
       "<p style=\"text-align:justify\"><span style=\"color:#000000\">El consumo de carne roja es limitado y los productos l&aacute;cteos se consumen con moderaci&oacute;n.</span></p>\r\n",
       "\r\n",
       "<p>&nbsp;</p><br>\n"
      ],
      "text/plain": [
       "<IPython.core.display.HTML object>"
      ]
     },
     "metadata": {},
     "output_type": "display_data"
    },
    {
     "data": {
      "text/html": [
       "<h5>Vitaminas B</h5>\n",
       "Consuma más vitaminas B de los alimentos y suplementos.<br>\n",
       "<table>\n",
       "<tr>\n",
       "<th>Type</th>\n",
       "<th>Effect</th>\n",
       "<th>Evidence</th>\n",
       "</tr>\n",
       "<tr>\n",
       "<td>dietary</td>\n",
       "<td>0.6</td>\n",
       "<td>0.6</td>\n",
       "</tr>\n",
       "</table>\n",
       "<p><span style=\"color:#000000\">Las vitaminas B ayudan al cuerpo a funcionar correctamente. Dos ejemplos son la </span><a href=\"https://supplements.selfdecode.com/blog/16-proven-benefits-vitamin-b9-folate-folic-acid/\" style=\"text-decoration:none\"><span style=\"color:#1155cc\"><strong><u>vitamina B9</u></strong></span></a><span style=\"color:#000000\">&nbsp; (</span><span style=\"color:#000000\"><strong>folato</strong></span><span style=\"color:#000000\">) y la </span><a href=\"https://supplements.selfdecode.com/blog/vitamin-b12/\" style=\"text-decoration:none\"><span style=\"color:#1155cc\"><strong><u>vitamina B12.</u></strong></span></a><span style=\"color:#000000\"> Desempe&ntilde;an papeles esenciales en [</span><a href=\"https://www.ncbi.nlm.nih.gov/pmc/articles/PMC4772032/\" style=\"text-decoration:none\"><span style=\"color:#0000ff\"><u>R</u></span></a><span style=\"color:#000000\">, </span><a href=\"https://www.ncbi.nlm.nih.gov/pmc/articles/PMC5353360/\" style=\"text-decoration:none\"><span style=\"color:#0000ff\"><u>R</u></span></a><span style=\"color:#000000\">, </span><a href=\"https://ods.od.nih.gov/factsheets/Folate-HealthProfessional/\" style=\"text-decoration:none\"><span style=\"color:#0000ff\"><u>R</u></span></a><span style=\"color:#000000\">, </span><a href=\"https://ods.od.nih.gov/factsheets/VitaminB12-HealthProfessional/\" style=\"text-decoration:none\"><span style=\"color:#0000ff\"><u>R</u></span></a><span style=\"color:#000000\">]:</span></p>\r\n",
       "\r\n",
       "<ul>\r\n",
       "\t<li style=\"list-style-type:disc\"><span style=\"color:#000000\">Formaci&oacute;n del ADN</span></li>\r\n",
       "\t<li style=\"list-style-type:disc\"><span style=\"color:#000000\">Metabolismo</span></li>\r\n",
       "\t<li style=\"list-style-type:disc\"><span style=\"color:#000000\">Producci&oacute;n de energ&iacute;a</span></li>\r\n",
       "</ul>\r\n",
       "\r\n",
       "<p><span style=\"color:#000000\">Usted puede obtener estas vitaminas de [</span><a href=\"https://www.ncbi.nlm.nih.gov/pmc/articles/PMC5731688/\" style=\"text-decoration:none\"><span style=\"color:#0000ff\"><u>R</u></span></a><span style=\"color:#000000\">, </span><a href=\"https://ods.od.nih.gov/factsheets/Folate-HealthProfessional/\" style=\"text-decoration:none\"><span style=\"color:#0000ff\"><u>R</u></span></a><span style=\"color:#000000\">, </span><a href=\"https://www.ncbi.nlm.nih.gov/books/NBK114318\" style=\"text-decoration:none\"><span style=\"color:#0000ff\"><u>R</u></span></a><span style=\"color:#000000\">, </span><a href=\"https://ods.od.nih.gov/factsheets/VitaminB12-HealthProfessional/\" style=\"text-decoration:none\"><span style=\"color:#0000ff\"><u>R</u></span></a><span style=\"color:#000000\">, </span><a href=\"https://pubmed.ncbi.nlm.nih.gov/17959839/\" style=\"text-decoration:none\"><span style=\"color:#0000ff\"><u>R</u></span></a><span style=\"color:#000000\">]:&nbsp;</span></p>\r\n",
       "\r\n",
       "<ul>\r\n",
       "\t<li style=\"list-style-type:disc\"><span style=\"color:#000000\">Productos de origen animal&nbsp;</span></li>\r\n",
       "\t<li style=\"list-style-type:disc\"><span style=\"color:#000000\">Verduras de hoja verde</span></li>\r\n",
       "\t<li style=\"list-style-type:disc\"><span style=\"color:#000000\">C&iacute;tricos</span></li>\r\n",
       "\t<li style=\"list-style-type:disc\"><span style=\"color:#000000\">Alimentos enriquecidos&nbsp;</span></li>\r\n",
       "\t<li style=\"list-style-type:disc\"><span style=\"color:#000000\">Suplementos</span></li>\r\n",
       "</ul><br>\n"
      ],
      "text/plain": [
       "<IPython.core.display.HTML object>"
      ]
     },
     "metadata": {},
     "output_type": "display_data"
    },
    {
     "data": {
      "text/html": [
       "<h5>Musicoterapia</h5>\n",
       "Considere probar la musicoterapia.<br>\n",
       "<table>\n",
       "<tr>\n",
       "<th>Type</th>\n",
       "<th>Effect</th>\n",
       "<th>Evidence</th>\n",
       "</tr>\n",
       "<tr>\n",
       "<td>lifestyle</td>\n",
       "<td>0.6</td>\n",
       "<td>0.6</td>\n",
       "</tr>\n",
       "</table>\n",
       "<h3><span style=\"color:#000000\">La </span><a href=\"https://health.selfdecode.com/blog/20-scientifically-proven-health-benefits-music-blood-pressure-insomnia/\" style=\"text-decoration:none\"><span style=\"color:#0000ff\"><u>musicoterapia</u></span></a><span style=\"color:#000000\"> es una forma de terapia que consiste en tocar, componer y/o escuchar m&uacute;sica. Se puede aplicar individualmente o en grupos y puede no requerir la presencia de un terapeuta [</span><a href=\"https://www.ncbi.nlm.nih.gov/pmc/articles/PMC6486188/\" style=\"text-decoration:none\"><span style=\"color:#1155cc\"><u>R</u></span></a><span style=\"color:#000000\">].</span></h3>\r\n",
       "\r\n",
       "<p><br />\r\n",
       "<span style=\"color:#000000\">La musicoterapia proporciona herramientas para la relajaci&oacute;n corporal y las im&aacute;genes positivas. Su objetivo es mejorar la comunicaci&oacute;n, la calidad de vida, y el bienestar [</span><a href=\"https://pubmed.ncbi.nlm.nih.gov/27094452/\" style=\"text-decoration:none\"><span style=\"color:#0000ff\"><u>R</u></span></a><span style=\"color:#000000\">, </span><a href=\"https://www.ncbi.nlm.nih.gov/pmc/articles/PMC6486188/\" style=\"text-decoration:none\"><span style=\"color:#0000ff\"><u>R</u></span></a><span style=\"color:#000000\">].</span></p><br>\n"
      ],
      "text/plain": [
       "<IPython.core.display.HTML object>"
      ]
     },
     "metadata": {},
     "output_type": "display_data"
    },
    {
     "data": {
      "text/html": [
       "<h5>Actividad Social</h5>\n",
       "Manténgase socialmente activo.<br>\n",
       "<table>\n",
       "<tr>\n",
       "<th>Type</th>\n",
       "<th>Effect</th>\n",
       "<th>Evidence</th>\n",
       "</tr>\n",
       "<tr>\n",
       "<td>lifestyle</td>\n",
       "<td>0.6</td>\n",
       "<td>0.6</td>\n",
       "</tr>\n",
       "</table>\n",
       "<p><span style=\"color:#000000\">Las actividades sociales implican actividades f&iacute;sicas y mentales con otras personas que usted disfruta y encuentra interesantes. Hay muchas maneras de mantenerse socialmente activo y mantener el bienestar social a medida que envejece.</span></p>\r\n",
       "\r\n",
       "<p>&nbsp;</p>\r\n",
       "\r\n",
       "<p><span style=\"color:#000000\">La ciencia ha demostrado que un estilo de vida socialmente activo [</span><a href=\"https://www.nia.nih.gov/health/participating-activities-you-enjoy-you-age\" style=\"text-decoration:none\"><span style=\"color:#1155cc\"><u>R</u></span></a><span style=\"color:#000000\">]:</span></p>\r\n",
       "\r\n",
       "<ul>\r\n",
       "\t<li style=\"list-style-type:disc\"><span style=\"color:#000000\">Le hace menos propenso a desarrollar ciertas enfermedades cr&oacute;nicas.</span></li>\r\n",
       "\t<li style=\"list-style-type:disc\"><span style=\"color:#000000\">Puede favorecer una vida m&aacute;s larga.</span></li>\r\n",
       "\t<li style=\"list-style-type:disc\"><span style=\"color:#000000\">Puede mejorar el estado de &aacute;nimo y la salud mental.</span></li>\r\n",
       "\t<li style=\"list-style-type:disc\"><span style=\"color:#000000\">Puede mejorar la memoria y otros aspectos de la cognici&oacute;n.</span></li>\r\n",
       "</ul><br>\n"
      ],
      "text/plain": [
       "<IPython.core.display.HTML object>"
      ]
     },
     "metadata": {},
     "output_type": "display_data"
    },
    {
     "data": {
      "text/html": [
       "<h5>Evitar la Contaminación del Aire</h5>\n",
       "Evite las áreas con alta contaminación del aire.<br>\n",
       "<table>\n",
       "<tr>\n",
       "<th>Type</th>\n",
       "<th>Effect</th>\n",
       "<th>Evidence</th>\n",
       "</tr>\n",
       "<tr>\n",
       "<td>lifestyle</td>\n",
       "<td>0.6</td>\n",
       "<td>0.6</td>\n",
       "</tr>\n",
       "</table>\n",
       "<p><span style=\"color:#000000\"><strong>Si bien la vida en la ciudad es conveniente de muchas maneras, conlleva algunos riesgos para la salud. </strong></span><span style=\"color:#000000\">&nbsp;Los autom&oacute;viles, las f&aacute;bricas y otras fuentes aumentan la </span><a href=\"https://selfhacked.com/blog/top-17-negative-health-effects-pollution/\" style=\"text-decoration:none\"><span style=\"color:#0000ff\"><u>contaminaci&oacute;n</u></span></a><span style=\"color:#000000\"> del aire&nbsp; [</span><a href=\"https://www.niehs.nih.gov/health/topics/agents/air-pollution/index.cfm\" style=\"text-decoration:none\"><span style=\"color:#1155cc\"><u>R</u></span></a><span style=\"color:#000000\">].</span></p>\r\n",
       "\r\n",
       "<p><span style=\"color:#000000\">La contaminaci&oacute;n del aire juega un papel en [</span><a href=\"https://www.niehs.nih.gov/health/topics/agents/air-pollution/index.cfm\" style=\"text-decoration:none\"><span style=\"color:#0000ff\"><u>R</u></span></a><span style=\"color:#000000\">, </span><a href=\"https://www.ncbi.nlm.nih.gov/pmc/articles/PMC7044178/\" style=\"text-decoration:none\"><span style=\"color:#0000ff\"><u>R</u></span></a><span style=\"color:#000000\">, </span><a href=\"https://pubmed.ncbi.nlm.nih.gov/25635985/\" style=\"text-decoration:none\"><span style=\"color:#0000ff\"><u>R</u></span></a><span style=\"color:#000000\">, </span><a href=\"https://www.ncbi.nlm.nih.gov/pmc/articles/PMC6266153/\" style=\"text-decoration:none\"><span style=\"color:#0000ff\"><u>R</u></span></a><span style=\"color:#000000\">, </span><a href=\"https://pubmed.ncbi.nlm.nih.gov/31391220/\" style=\"text-decoration:none\"><span style=\"color:#0000ff\"><u>R</u></span></a><span style=\"color:#000000\">]:</span></p>\r\n",
       "\r\n",
       "<ul>\r\n",
       "\t<li style=\"list-style-type:disc\"><span style=\"color:#000000\">Enfermedades pulmonares</span></li>\r\n",
       "\t<li style=\"list-style-type:disc\"><span style=\"color:#000000\">Enfermedades card&iacute;acas</span></li>\r\n",
       "\t<li style=\"list-style-type:disc\"><span style=\"color:#000000\">Diabetes</span></li>\r\n",
       "\t<li style=\"list-style-type:disc\"><span style=\"color:#000000\">Alergias</span></li>\r\n",
       "</ul><br>\n"
      ],
      "text/plain": [
       "<IPython.core.display.HTML object>"
      ]
     },
     "metadata": {},
     "output_type": "display_data"
    },
    {
     "data": {
      "text/html": [
       "<h5>Estimulación Nerviosa</h5>\n",
       "Pregunte a su médico acerca de la estimulación nerviosa.<br>\n",
       "<table>\n",
       "<tr>\n",
       "<th>Type</th>\n",
       "<th>Effect</th>\n",
       "<th>Evidence</th>\n",
       "</tr>\n",
       "<tr>\n",
       "<td>lifestyle</td>\n",
       "<td>0.6</td>\n",
       "<td>0.6</td>\n",
       "</tr>\n",
       "</table>\n",
       "<p><span style=\"color:#000000\">Muchas estrategias de estimulaci&oacute;n nerviosa utilizan campos magn&eacute;ticos o corrientes el&eacute;ctricas. Algunos ejemplos son </span><a href=\"https://www.ncbi.nlm.nih.gov/pmc/articles/PMC4097946/\" style=\"text-decoration:none\"><span style=\"color:#0000ff\"><u>R</u></span></a><span style=\"color:#000000\">,</span><a href=\"https://www.ncbi.nlm.nih.gov/books/NBK332920/\" style=\"text-decoration:none\"><span style=\"color:#0000ff\"><u> R</u></span></a><span style=\"color:#000000\">,</span><a href=\"https://www.ncbi.nlm.nih.gov/books/NBK537188/\" style=\"text-decoration:none\"><span style=\"color:#0000ff\"><u> R</u></span></a><span style=\"color:#000000\">]:</span></p>\r\n",
       "\r\n",
       "<ul>\r\n",
       "\t<li style=\"list-style-type:disc\"><span style=\"color:#1155cc\"><u>Estimulaci&oacute;n </u></span><a href=\"https://health.selfdecode.com/blog/tens-units-how-to-use/\" style=\"text-decoration:none\"><span style=\"color:#1155cc\"><u>nerviosa el&eacute;ctrica trancut&aacute;nea</u></span></a><span style=\"color:#000000\"> (TENS, siglas en ingl&eacute;s)&nbsp;</span></li>\r\n",
       "\t<li style=\"list-style-type:disc\"><span style=\"color:#000000\">Estimulaci&oacute;n el&eacute;ctrica neuromuscular (NMES)</span></li>\r\n",
       "\t<li style=\"list-style-type:disc\"><span style=\"color:#000000\">Estimulaci&oacute;n magn&eacute;tica craneal (EMT)</span></li>\r\n",
       "\t<li style=\"list-style-type:disc\"><span style=\"color:#000000\">Estimulaci&oacute;n transcraneal de corriente continua (tDCS, siglas en ingl&eacute;s)</span></li>\r\n",
       "</ul>\r\n",
       "\r\n",
       "<p><span style=\"color:#000000\">La estimulaci&oacute;n nerviosa puede mejorar [</span><a href=\"https://www.ncbi.nlm.nih.gov/pmc/articles/PMC3883821/\" style=\"text-decoration:none\"><span style=\"color:#0000ff\"><u>R</u></span></a><span style=\"color:#000000\">, </span><a href=\"https://www.ncbi.nlm.nih.gov/pmc/articles/PMC6600066/\" style=\"text-decoration:none\"><span style=\"color:#0000ff\"><u>R</u></span></a><span style=\"color:#000000\">, </span><a href=\"https://pubmed.ncbi.nlm.nih.gov/26615114/\" style=\"text-decoration:none\"><span style=\"color:#0000ff\"><u>R</u></span></a><span style=\"color:#000000\">, </span><a href=\"https://www.ncbi.nlm.nih.gov/pmc/articles/PMC4186747/\" style=\"text-decoration:none\"><span style=\"color:#0000ff\"><u>R</u></span></a><span style=\"color:#000000\">, </span><a href=\"https://pubmed.ncbi.nlm.nih.gov/34432674/\" style=\"text-decoration:none\"><span style=\"color:#0000ff\"><u>R</u></span></a><span style=\"color:#000000\">, </span><a href=\"https://www.ncbi.nlm.nih.gov/pmc/articles/PMC6317253/\" style=\"text-decoration:none\"><span style=\"color:#0000ff\"><u>R</u></span></a><span style=\"color:#000000\">]:</span></p>\r\n",
       "\r\n",
       "<ul>\r\n",
       "\t<li style=\"list-style-type:disc\"><span style=\"color:#000000\">Estado de &aacute;nimo</span></li>\r\n",
       "\t<li style=\"list-style-type:disc\"><span style=\"color:#000000\">Dolor</span></li>\r\n",
       "\t<li style=\"list-style-type:disc\"><span style=\"color:#000000\">Convulsiones&nbsp;</span></li>\r\n",
       "\t<li style=\"list-style-type:disc\"><span style=\"color:#000000\">Frecuencia card&iacute;aca</span></li>\r\n",
       "\t<li style=\"list-style-type:disc\"><span style=\"color:#000000\">Funci&oacute;n cognitiva</span></li>\r\n",
       "</ul><br>\n"
      ],
      "text/plain": [
       "<IPython.core.display.HTML object>"
      ]
     },
     "metadata": {},
     "output_type": "display_data"
    },
    {
     "data": {
      "text/html": [
       "<h5>Citicolina</h5>\n",
       "Considere tomar suplementos con citicolina.<br>\n",
       "<table>\n",
       "<tr>\n",
       "<th>Type</th>\n",
       "<th>Effect</th>\n",
       "<th>Evidence</th>\n",
       "</tr>\n",
       "<tr>\n",
       "<td>supplement</td>\n",
       "<td>0.6</td>\n",
       "<td>0.6</td>\n",
       "</tr>\n",
       "</table>\n",
       "<p><span style=\"color:#212121\"><span style=\"background-color:#ffffff\"><em>La CDP-colina</em></span></span><span style=\"color:#212121\"><span style=\"background-color:#ffffff\"> es una mol&eacute;cula que el cuerpo produce de forma natural. Es importante para la estructura y funci&oacute;n celular. Tambi&eacute;n contribuye a la producci&oacute;n del mensajero qu&iacute;mico </span></span><a href=\"https://selfhacked.com/blog/acetylcholine/?seg_id=56f9120c3cf53c0c2f4eb86832ff093d/.2704.1644863900535\" style=\"text-decoration:none\"><span style=\"color:#1155cc\"><span style=\"background-color:#ffffff\"><u>acetilcolina</u></span></span></a><span style=\"color:#212121\"><span style=\"background-color:#ffffff\"> </span></span><span style=\"color:#212121\">[</span><a href=\"https://pubmed.ncbi.nlm.nih.gov/7869846/\" style=\"text-decoration:none\"><span style=\"color:#0000ff\"><u>R</u></span></a><span style=\"color:#212121\">, </span><a href=\"https://pubmed.ncbi.nlm.nih.gov/28417449/\" style=\"text-decoration:none\"><span style=\"color:#0000ff\"><u>R</u></span></a><span style=\"color:#212121\">].</span></p>\r\n",
       "\r\n",
       "<p>&nbsp;</p>\r\n",
       "\r\n",
       "<p><span style=\"color:#212121\"><span style=\"background-color:#ffffff\">La forma en la que la CDP-colina se toma como suplemento se llama </span></span><a href=\"https://supplements.selfdecode.com/blog/citicoline/\" style=\"text-decoration:none\"><span style=\"color:#1155cc\"><span style=\"background-color:#ffffff\"><em><u>citicolina</u></em></span></span></a><span style=\"color:#212121\"><span style=\"background-color:#ffffff\">. Puede mejorar la salud del cerebro y los ojos. Tambi&eacute;n puede ayudar con las adicciones a las drogas</span></span><span style=\"color:#212121\"> [</span><a href=\"https://pubmed.ncbi.nlm.nih.gov/7869846/\" style=\"text-decoration:none\"><span style=\"color:#0000ff\"><u>R</u></span></a><span style=\"color:#212121\">, </span><a href=\"https://pubmed.ncbi.nlm.nih.gov/28417449/\" style=\"text-decoration:none\"><span style=\"color:#0000ff\"><u>R</u></span></a><span style=\"color:#212121\">].</span></p>\r\n",
       "\r\n",
       "<p>&nbsp;</p><br>\n"
      ],
      "text/plain": [
       "<IPython.core.display.HTML object>"
      ]
     },
     "metadata": {},
     "output_type": "display_data"
    },
    {
     "data": {
      "text/html": [
       "<h5>Tai Chi</h5>\n",
       "Intente practicar tai chi.<br>\n",
       "<table>\n",
       "<tr>\n",
       "<th>Type</th>\n",
       "<th>Effect</th>\n",
       "<th>Evidence</th>\n",
       "</tr>\n",
       "<tr>\n",
       "<td>lifestyle</td>\n",
       "<td>0.4</td>\n",
       "<td>0.6</td>\n",
       "</tr>\n",
       "</table>\n",
       "<p><span style=\"color:#000000\"><strong>El tai chi implica movimientos suaves y respiraci&oacute;n para fortalecer y relajar la mente y el cuerpo.</strong></span><span style=\"color:#000000\"> Practicar tai chi puede ayudar a [</span><a href=\"https://www.mayoclinic.org/diseases-conditions/osteoarthritis/diagnosis-treatment/drc-20351930\" style=\"text-decoration:none\"><span style=\"color:#0000ff\"><u>R</u></span></a><span style=\"color:#000000\">, </span><a href=\"https://pubmed.ncbi.nlm.nih.gov/28661865/\" style=\"text-decoration:none\"><span style=\"color:#0000ff\"><u>R</u></span></a><span style=\"color:#000000\">, </span><a href=\"https://pubmed.ncbi.nlm.nih.gov/24078491/\" style=\"text-decoration:none\"><span style=\"color:#0000ff\"><u>R</u></span></a><span style=\"color:#000000\">]:</span></p>\r\n",
       "\r\n",
       "<ul>\r\n",
       "\t<li style=\"list-style-type:disc\"><span style=\"color:#000000\">Controlar el dolor</span></li>\r\n",
       "\t<li style=\"list-style-type:disc\"><span style=\"color:#000000\">Mejorar el estado f&iacute;sico</span></li>\r\n",
       "\t<li style=\"list-style-type:disc\"><span style=\"color:#000000\">Aumentar el bienestar</span></li>\r\n",
       "\t<li style=\"list-style-type:disc\"><span style=\"color:#000000\">Mejorar el sue&ntilde;o y el estado de &aacute;nimo</span></li>\r\n",
       "</ul><br>\n"
      ],
      "text/plain": [
       "<IPython.core.display.HTML object>"
      ]
     },
     "metadata": {},
     "output_type": "display_data"
    },
    {
     "data": {
      "text/html": [
       "<h5>Cacao</h5>\n",
       "Intente añadir cacao a su dieta.<br>\n",
       "<table>\n",
       "<tr>\n",
       "<th>Type</th>\n",
       "<th>Effect</th>\n",
       "<th>Evidence</th>\n",
       "</tr>\n",
       "<tr>\n",
       "<td>dietary</td>\n",
       "<td>0.4</td>\n",
       "<td>0.6</td>\n",
       "</tr>\n",
       "</table>\n",
       "<p><span style=\"color:#000000\">El </span><a href=\"https://supplements.selfdecode.com/blog/chocolate-health-benefits/\" style=\"text-decoration:none\"><span style=\"color:#1155cc\"><u>cacao</u></span></a><span style=\"color:#000000\"> proviene de los granos del &aacute;rbol </span><span style=\"color:#000000\"><em>Theobroma cacao</em></span><span style=\"color:#000000\">. A menudo se usa para hacer chocolate, chocolate caliente o a la taza y pasteles. Las personas tambi&eacute;n lo usan como medicina desde hace m&aacute;s de mil a&ntilde;os [</span><a href=\"https://www.ncbi.nlm.nih.gov/pmc/articles/PMC4696435/\" style=\"text-decoration:none\"><span style=\"color:#0000ff\"><u>R</u></span></a><span style=\"color:#000000\">, </span><a href=\"https://www.ncbi.nlm.nih.gov/pubmed/10917925\" style=\"text-decoration:none\"><span style=\"color:#1155cc\"><u>R</u></span></a><span style=\"color:#000000\">].</span></p>\r\n",
       "\r\n",
       "<p>&nbsp;</p>\r\n",
       "\r\n",
       "<p><span style=\"color:#000000\">El cacao contiene flavanoles y otros componentes activos que pueden ayudar a [</span><a href=\"https://pubmed.ncbi.nlm.nih.gov/10917925/\" style=\"text-decoration:none\"><span style=\"color:#0000ff\"><u>R</u></span></a><span style=\"color:#000000\">, </span><a href=\"https://www.ncbi.nlm.nih.gov/pmc/articles/PMC4696435/\" style=\"text-decoration:none\"><span style=\"color:#0000ff\"><u>R</u></span></a><span style=\"color:#000000\">, </span><a href=\"https://www.ncbi.nlm.nih.gov/pmc/articles/PMC3820066/\" style=\"text-decoration:none\"><span style=\"color:#0000ff\"><u>R</u></span></a><span style=\"color:#000000\">,</span><span style=\"color:#1155cc\"><u> </u></span><a href=\"https://www.ncbi.nlm.nih.gov/pubmed/10917925\" style=\"text-decoration:none\"><span style=\"color:#1155cc\"><u>R</u></span></a><span style=\"color:#000000\">]:</span><a href=\"https://www.ncbi.nlm.nih.gov/pmc/articles/PMC3820066/\" style=\"text-decoration:none\"><span style=\"color:#1155cc\"><u>&nbsp;</u></span></a></p>\r\n",
       "\r\n",
       "<ul>\r\n",
       "\t<li style=\"list-style-type:disc\"><span style=\"color:#000000\">Proteger el cerebro</span></li>\r\n",
       "\t<li style=\"list-style-type:disc\"><span style=\"color:#000000\">Reducir la fatiga</span></li>\r\n",
       "\t<li style=\"list-style-type:disc\"><span style=\"color:#000000\">Mejorar el estado de &aacute;nimo</span></li>\r\n",
       "\t<li style=\"list-style-type:disc\"><span style=\"color:#000000\">Mejorar la digesti&oacute;n</span></li>\r\n",
       "\t<li style=\"list-style-type:disc\"><span style=\"color:#000000\">Equilibrar el az&uacute;car en la sangre</span></li>\r\n",
       "\t<li style=\"list-style-type:disc\"><span style=\"color:#000000\">Mejorar la salud del coraz&oacute;n</span></li>\r\n",
       "</ul><br>\n"
      ],
      "text/plain": [
       "<IPython.core.display.HTML object>"
      ]
     },
     "metadata": {},
     "output_type": "display_data"
    },
    {
     "data": {
      "text/html": [
       "<h5>Té</h5>\n",
       "Beba más té.<br>\n",
       "<table>\n",
       "<tr>\n",
       "<th>Type</th>\n",
       "<th>Effect</th>\n",
       "<th>Evidence</th>\n",
       "</tr>\n",
       "<tr>\n",
       "<td>dietary</td>\n",
       "<td>0.4</td>\n",
       "<td>0.6</td>\n",
       "</tr>\n",
       "</table>\n",
       "<p><span style=\"color:#000000\">El t&eacute; </span><a href=\"https://supplements.selfdecode.com/blog/green-tea/\" style=\"text-decoration:none\"><span style=\"color:#0000ff\"><u>verde</u></span></a><span style=\"color:#000000\">, negro y oolong se obtienen de la misma planta (</span><span style=\"color:#000000\"><em>Camellia sinensis</em></span><span style=\"color:#000000\">). Esta planta se procesa de diferentes maneras para hacer cada tipo de t&eacute; [</span><a href=\"https://www.ncbi.nlm.nih.gov/pmc/articles/PMC4055352/\" style=\"text-decoration:none\"><span style=\"color:#0000ff\"><u>R</u></span></a><span style=\"color:#000000\">, </span><a href=\"https://www.nccih.nih.gov/health/green-tea\" style=\"text-decoration:none\"><span style=\"color:#0000ff\"><u>R</u></span></a><span style=\"color:#000000\">].</span></p>\r\n",
       "\r\n",
       "<p>&nbsp;</p>\r\n",
       "\r\n",
       "<p><span style=\"color:#000000\">El t&eacute; contiene antioxidantes llamados polifenoles, que pueden ayudar a promover [</span><a href=\"https://www.ncbi.nlm.nih.gov/pmc/articles/PMC4055352/\" style=\"text-decoration:none\"><span style=\"color:#0000ff\"><u>R</u></span></a><span style=\"color:#000000\">, </span><a href=\"https://pubmed.ncbi.nlm.nih.gov/16855537/\" style=\"text-decoration:none\"><span style=\"color:#0000ff\"><u>R</u></span></a><span style=\"color:#000000\">, </span><a href=\"https://pubmed.ncbi.nlm.nih.gov/19668087/\" style=\"text-decoration:none\"><span style=\"color:#0000ff\"><u>R</u></span></a><span style=\"color:#000000\">, </span><a href=\"https://www.ncbi.nlm.nih.gov/pmc/articles/PMC5728912/\" style=\"text-decoration:none\"><span style=\"color:#0000ff\"><u>R</u></span></a><span style=\"color:#000000\">,</span><a href=\"https://www.ncbi.nlm.nih.gov/pmc/articles/PMC5371490/\" style=\"text-decoration:none\"><span style=\"color:#0000ff\"><u> R</u></span></a><span style=\"color:#000000\">]:</span></p>\r\n",
       "\r\n",
       "<ul>\r\n",
       "\t<li style=\"list-style-type:disc\"><span style=\"color:#000000\">Salud del coraz&oacute;n</span></li>\r\n",
       "\t<li style=\"list-style-type:disc\"><span style=\"color:#000000\">Niveles saludables de az&uacute;car en la sangre</span></li>\r\n",
       "\t<li style=\"list-style-type:disc\"><span style=\"color:#000000\">Salud &oacute;sea</span></li>\r\n",
       "</ul><br>\n"
      ],
      "text/plain": [
       "<IPython.core.display.HTML object>"
      ]
     },
     "metadata": {},
     "output_type": "display_data"
    },
    {
     "data": {
      "text/html": [
       "<h5>Pescado</h5>\n",
       "Coma más pescado.<br>\n",
       "<table>\n",
       "<tr>\n",
       "<th>Type</th>\n",
       "<th>Effect</th>\n",
       "<th>Evidence</th>\n",
       "</tr>\n",
       "<tr>\n",
       "<td>dietary</td>\n",
       "<td>0.4</td>\n",
       "<td>0.6</td>\n",
       "</tr>\n",
       "</table>\n",
       "<p><span style=\"color:#000000\"><strong>El pescado es una gran fuente de </strong></span><a href=\"https://supplements.selfdecode.com/blog/fish-oil-top-22-science-based-health-benefits-of-fish-oil/\" style=\"text-decoration:none\"><span style=\"color:#1155cc\"><strong><u>omega-3</u></strong></span></a><span style=\"color:#000000\"><strong>, prote&iacute;nas y otros nutrientes esenciales</strong></span><span style=\"color:#000000\">. Los omega-3 del pescado (EPA y DHA) son algunas de las grasas m&aacute;s saludables que podemos comer. Ayudan a reducir la inflamaci&oacute;n y </span><span style=\"color:#000000\"><strong>protegen el coraz&oacute;n, el cerebro y los ojos </strong></span><span style=\"color:#000000\">[</span><a href=\"https://ods.od.nih.gov/factsheets/Omega3Fatty%20AcidsandHealth-HealthProfessional/\" style=\"text-decoration:none\"><span style=\"color:#0000ff\"><u>R</u></span></a><span style=\"color:#000000\">, </span><a href=\"https://ods.od.nih.gov/factsheets/Omega3FattyAcids-HealthProfessional/\" style=\"text-decoration:none\"><span style=\"color:#0000ff\"><u>R</u></span></a><span style=\"color:#000000\">, </span><a href=\"https://www.ncbi.nlm.nih.gov/pmc/articles/PMC4404917/\" style=\"text-decoration:none\"><span style=\"color:#0000ff\"><u>R</u></span></a><span style=\"color:#000000\">].</span></p>\r\n",
       "\r\n",
       "<p>&nbsp;</p>\r\n",
       "\r\n",
       "<p style=\"text-align:justify\"><span style=\"color:#000000\"><strong>Los pescados azules son ricos en EPA y DHA. </strong></span><span style=\"color:#000000\">Incluyen [</span><a href=\"https://ods.od.nih.gov/factsheets/Omega3FattyAcids-HealthProfessional/\" style=\"text-decoration:none\"><span style=\"color:#1155cc\"><u>R</u></span></a><span style=\"color:#000000\">]:</span></p>\r\n",
       "\r\n",
       "<ul>\r\n",
       "\t<li style=\"list-style-type:disc\"><span style=\"color:#000000\">Salm&oacute;n</span></li>\r\n",
       "\t<li style=\"list-style-type:disc\"><span style=\"color:#000000\">At&uacute;n</span></li>\r\n",
       "\t<li style=\"list-style-type:disc\"><span style=\"color:#000000\">Arenque</span></li>\r\n",
       "\t<li style=\"list-style-type:disc\"><span style=\"color:#000000\">Sardinas</span></li>\r\n",
       "</ul>\r\n",
       "\r\n",
       "<p><span style=\"color:#000000\">Para una protecci&oacute;n &oacute;ptima, trate de consumir al menos </span><span style=\"color:#000000\"><strong>dos raciones de pescado azul por semana. </strong></span><span style=\"color:#000000\">&nbsp;Existen suplementos de aceite de pescado para aquellos que no comen pescado regularmente [</span><a href=\"https://ods.od.nih.gov/factsheets/Omega3FattyAcids-HealthProfessional/\" style=\"text-decoration:none\"><span style=\"color:#1155cc\"><u>R</u></span></a><span style=\"color:#000000\">].</span></p>\r\n",
       "\r\n",
       "<p>&nbsp;</p><br>\n"
      ],
      "text/plain": [
       "<IPython.core.display.HTML object>"
      ]
     },
     "metadata": {},
     "output_type": "display_data"
    },
    {
     "data": {
      "text/html": [
       "<h5>Ginkgo</h5>\n",
       "Considere tomar suplementos con extracto de hoja de ginkgo.<br>\n",
       "<table>\n",
       "<tr>\n",
       "<th>Type</th>\n",
       "<th>Effect</th>\n",
       "<th>Evidence</th>\n",
       "</tr>\n",
       "<tr>\n",
       "<td>supplement</td>\n",
       "<td>0.4</td>\n",
       "<td>0.6</td>\n",
       "</tr>\n",
       "</table>\n",
       "<p style=\"text-align:justify\"><span style=\"color:#000000\">El </span><a href=\"https://supplements.selfdecode.com/blog/ginkgo-biloba/\" style=\"text-decoration:none\"><span style=\"color:#1155cc\"><u>ginkgo</u></span></a><span style=\"color:#000000\"> (</span><span style=\"color:#000000\"><em>Ginkgo biloba</em></span><span style=\"color:#000000\">) es un &aacute;rbol ancestral utilizado en la medicina tradicional china [</span><a href=\"https://www.nccih.nih.gov/health/ginkgo\" style=\"text-decoration:none\"><span style=\"color:#0000ff\"><u>R</u></span></a><span style=\"color:#000000\">,</span><a href=\"https://www.ncbi.nlm.nih.gov/books/NBK541024/\" style=\"text-decoration:none\"><span style=\"color:#0000ff\"><u> R</u></span></a><span style=\"color:#000000\">].</span></p>\r\n",
       "\r\n",
       "<p>&nbsp;</p>\r\n",
       "\r\n",
       "<p style=\"text-align:justify\"><span style=\"color:#000000\">Seg&uacute;n evidencia limitada, el extracto de hoja de ginkgo puede ayudar con [</span><a href=\"https://www.nccih.nih.gov/health/ginkgo\" style=\"text-decoration:none\"><span style=\"color:#0000ff\"><u>R</u></span></a><span style=\"color:#000000\">, </span><a href=\"https://www.ncbi.nlm.nih.gov/pmc/articles/PMC5084772/\" style=\"text-decoration:none\"><span style=\"color:#0000ff\"><u>R</u></span></a><span style=\"color:#000000\">, </span><a href=\"https://pubmed.ncbi.nlm.nih.gov/23538078/\" style=\"text-decoration:none\"><span style=\"color:#0000ff\"><u>R</u></span></a><span style=\"color:#000000\">, </span><a href=\"https://www.ncbi.nlm.nih.gov/labs/pmc/articles/PMC3065445/\" style=\"text-decoration:none\"><span style=\"color:#0000ff\"><u>R</u></span></a><span style=\"color:#000000\">]:</span></p>\r\n",
       "\r\n",
       "<ul>\r\n",
       "\t<li style=\"list-style-type:disc\"><span style=\"color:#000000\">Ansiedad</span></li>\r\n",
       "\t<li style=\"list-style-type:disc\"><span style=\"color:#000000\">Demencia</span></li>\r\n",
       "\t<li style=\"list-style-type:disc\"><span style=\"color:#000000\">Problemas oculares</span></li>\r\n",
       "\t<li style=\"list-style-type:disc\"><span style=\"color:#000000\">Problemas de los vasos sangu&iacute;neos</span></li>\r\n",
       "\t<li style=\"list-style-type:disc\"><span style=\"color:#000000\">Vit&iacute;ligo</span></li>\r\n",
       "</ul><br>\n"
      ],
      "text/plain": [
       "<IPython.core.display.HTML object>"
      ]
     },
     "metadata": {},
     "output_type": "display_data"
    },
    {
     "data": {
      "text/html": [
       "<h5>Probióticos</h5>\n",
       "Considere tomar suplementos con probióticos.<br>\n",
       "<table>\n",
       "<tr>\n",
       "<th>Type</th>\n",
       "<th>Effect</th>\n",
       "<th>Evidence</th>\n",
       "</tr>\n",
       "<tr>\n",
       "<td>supplement</td>\n",
       "<td>0.4</td>\n",
       "<td>0.6</td>\n",
       "</tr>\n",
       "</table>\n",
       "<p style=\"text-align:justify\"><span style=\"color:#000000\"><strong>Las </strong></span><a href=\"https://supplements.selfdecode.com/blog/a1probiotics-good-bacteria/\" style=\"text-decoration:none\"><span style=\"color:#1155cc\"><strong><u>bacterias probi&oacute;ticas</u></strong></span></a><span style=\"color:#000000\"><strong> son bacterias &quot;buenas&quot; que se encuentran principalmente en el intestino grueso.</strong></span><span style=\"color:#000000\">&nbsp; Apoyan su cuerpo y mente al [</span><a href=\"https://pubmed.ncbi.nlm.nih.gov/29581563/\" style=\"text-decoration:none\"><span style=\"color:#0000ff\"><u>R</u></span></a><span style=\"color:#000000\">, </span><a href=\"https://www.ncbi.nlm.nih.gov/pmc/articles/PMC4045285/\" style=\"text-decoration:none\"><span style=\"color:#0000ff\"><u>R</u></span></a><span style=\"color:#000000\">, </span><a href=\"https://www.ncbi.nlm.nih.gov/pmc/articles/PMC6047317/\" style=\"text-decoration:none\"><span style=\"color:#0000ff\"><u>R</u></span></a><span style=\"color:#000000\">, </span><a href=\"https://pubmed.ncbi.nlm.nih.gov/30292888/\" style=\"text-decoration:none\"><span style=\"color:#0000ff\"><u>R</u></span></a><span style=\"color:#000000\">, </span><a href=\"https://www.ncbi.nlm.nih.gov/pmc/articles/PMC5707719/\" style=\"text-decoration:none\"><span style=\"color:#0000ff\"><u>R</u></span></a><span style=\"color:#000000\">, </span><a href=\"https://www.ncbi.nlm.nih.gov/pmc/articles/PMC5102282/\" style=\"text-decoration:none\"><span style=\"color:#0000ff\"><u>R</u></span></a><span style=\"color:#000000\">, </span><a href=\"https://pubmed.ncbi.nlm.nih.gov/26987497/\" style=\"text-decoration:none\"><span style=\"color:#0000ff\"><u>R</u></span></a><span style=\"color:#000000\">, </span><a href=\"https://www.ncbi.nlm.nih.gov/pmc/articles/PMC4735031/\" style=\"text-decoration:none\"><span style=\"color:#0000ff\"><u>R</u></span></a><span style=\"color:#000000\">]:</span></p>\r\n",
       "\r\n",
       "<ul>\r\n",
       "\t<li style=\"list-style-type:disc\"><span style=\"color:#000000\">Mantener la salud intestinal</span></li>\r\n",
       "\t<li style=\"list-style-type:disc\"><span style=\"color:#000000\">Favorecer un sistema inmunol&oacute;gico saludable</span></li>\r\n",
       "\t<li style=\"list-style-type:disc\"><span style=\"color:#000000\">Mejorar su estado de &aacute;nimo</span></li>\r\n",
       "\t<li style=\"list-style-type:disc\"><span style=\"color:#000000\">Mantener niveles saludables de az&uacute;car en la sangre</span></li>\r\n",
       "</ul><br>\n"
      ],
      "text/plain": [
       "<IPython.core.display.HTML object>"
      ]
     },
     "metadata": {},
     "output_type": "display_data"
    },
    {
     "data": {
      "text/html": [
       "<h5>Acetil-L-carnitina</h5>\n",
       "Considere tomar suplementos con acetil-L-carnitina.<br>\n",
       "<table>\n",
       "<tr>\n",
       "<th>Type</th>\n",
       "<th>Effect</th>\n",
       "<th>Evidence</th>\n",
       "</tr>\n",
       "<tr>\n",
       "<td>supplement</td>\n",
       "<td>0.4</td>\n",
       "<td>0.6</td>\n",
       "</tr>\n",
       "</table>\n",
       "<p><span style=\"color:#000000\"><strong>La </strong></span><a href=\"https://selfhacked.com/blog/carnitine-top-18-science-based-health-effects-carnitine/\" style=\"text-decoration:none\"><span style=\"color:#1155cc\"><strong><u>carnitina</u></strong></span></a><span style=\"color:#000000\"><strong> es un componente esencial de las prote&iacute;nas (amino&aacute;cido). </strong></span><span style=\"color:#000000\">Se presenta en muchas formas, como la acetil-L-carnitina [</span><a href=\"https://ods.od.nih.gov/factsheets/Carnitine-HealthProfessional/\" style=\"text-decoration:none\"><span style=\"color:#0000ff\"><u>R</u></span></a><span style=\"color:#000000\">, </span><a href=\"https://www.ncbi.nlm.nih.gov/labs/pmc/articles/PMC5872767/\" style=\"text-decoration:none\"><span style=\"color:#0000ff\"><u>R</u></span></a><span style=\"color:#000000\">, </span><a href=\"https://pubmed.ncbi.nlm.nih.gov/22333562/\" style=\"text-decoration:none\"><span style=\"color:#0000ff\"><u>R</u></span></a><span style=\"color:#000000\">].</span></p>\r\n",
       "\r\n",
       "<p>&nbsp;</p>\r\n",
       "\r\n",
       "<p><span style=\"color:#000000\">La </span><a href=\"https://supplements.selfdecode.com/blog/acetyl-l-carnitine/\" style=\"text-decoration:none\"><span style=\"color:#1155cc\"><u>acetil-L-carnitina</u></span></a><span style=\"color:#000000\"> puede ayudar con [</span><a href=\"https://www.ncbi.nlm.nih.gov/pmc/articles/PMC6498091/\" style=\"text-decoration:none\"><span style=\"color:#0000ff\"><u>R</u></span></a><span style=\"color:#000000\">, </span><a href=\"https://pubmed.ncbi.nlm.nih.gov/29076953/\" style=\"text-decoration:none\"><span style=\"color:#0000ff\"><u>R</u></span></a><span style=\"color:#000000\">, </span><a href=\"https://pubmed.ncbi.nlm.nih.gov/18978503/\" style=\"text-decoration:none\"><span style=\"color:#0000ff\"><u>R</u></span></a><span style=\"color:#000000\">]:</span></p>\r\n",
       "\r\n",
       "<ul>\r\n",
       "\t<li style=\"list-style-type:disc\"><span style=\"color:#000000\">Da&ntilde;o en los nervios</span></li>\r\n",
       "\t<li style=\"list-style-type:disc\"><span style=\"color:#000000\">Problemas del estado de &aacute;nimo</span></li>\r\n",
       "\t<li style=\"list-style-type:disc\"><span style=\"color:#000000\">Deterioro cognitivo</span></li>\r\n",
       "</ul>\r\n",
       "\r\n",
       "<p><span style=\"color:#000000\">Los m&eacute;dicos tambi&eacute;n est&aacute;n estudiando su efecto potencial sobre la adicci&oacute;n a las drogas [</span><a href=\"https://pubmed.ncbi.nlm.nih.gov/18978503/\" style=\"text-decoration:none\"><span style=\"color:#1155cc\"><u>R</u></span></a><span style=\"color:#000000\">].</span></p>\r\n",
       "\r\n",
       "<p>&nbsp;</p><br>\n"
      ],
      "text/plain": [
       "<IPython.core.display.HTML object>"
      ]
     },
     "metadata": {},
     "output_type": "display_data"
    },
    {
     "data": {
      "text/html": [
       "<h5>Ácidos Grasos Omega-3</h5>\n",
       "Considere tomar suplementos con omega-3.<br>\n",
       "<table>\n",
       "<tr>\n",
       "<th>Type</th>\n",
       "<th>Effect</th>\n",
       "<th>Evidence</th>\n",
       "</tr>\n",
       "<tr>\n",
       "<td>supplement</td>\n",
       "<td>0.4</td>\n",
       "<td>0.4</td>\n",
       "</tr>\n",
       "</table>\n",
       "<p style=\"text-align:justify\"><span style=\"color:#000000\"><strong>Los </strong></span><a href=\"https://supplements.selfdecode.com/blog/fish-oil-top-22-science-based-health-benefits-of-fish-oil/\" style=\"text-decoration:none\"><span style=\"color:#1155cc\"><strong><u>&aacute;cidos grasos omega-3</u></strong></span></a><span style=\"color:#000000\"><strong> son algunas de las grasas m&aacute;s saludables que podemos comer. Ayudan a reducir la inflamaci&oacute;n y protegen el</strong></span><span style=\"color:#000000\"> </span><span style=\"color:#000000\"><strong>coraz&oacute;n, el cerebro y los ojos. </strong></span><span style=\"color:#000000\">&nbsp;Nuestro cuerpo produce menos omega-3 de los que necesitamos para una salud &oacute;ptima, por lo que es importante obtener suficientes a trav&eacute;s de alimentos o suplementos [</span><a href=\"https://ods.od.nih.gov/factsheets/Omega3Fatty%20AcidsandHealth-HealthProfessional/\" style=\"text-decoration:none\"><span style=\"color:#0000ff\"><u>R</u></span></a><span style=\"color:#000000\">, </span><a href=\"https://ods.od.nih.gov/factsheets/Omega3FattyAcids-HealthProfessional/\" style=\"text-decoration:none\"><span style=\"color:#0000ff\"><u>R</u></span></a><span style=\"color:#000000\">, </span><a href=\"https://www.ncbi.nlm.nih.gov/pmc/articles/PMC4404917/\" style=\"text-decoration:none\"><span style=\"color:#0000ff\"><u>R</u></span></a><span style=\"color:#000000\">].</span></p>\r\n",
       "\r\n",
       "<p>&nbsp;</p>\r\n",
       "\r\n",
       "<p style=\"text-align:justify\"><span style=\"color:#000000\">Hay tres tipos principales de omega-3: ALA, EPA y DHA [</span><a href=\"https://ods.od.nih.gov/factsheets/Omega3FattyAcids-HealthProfessional/\" style=\"text-decoration:none\"><span style=\"color:#0000ff\"><u>R</u></span></a><span style=\"color:#000000\">, </span><a href=\"https://pubmed.ncbi.nlm.nih.gov/18072818/\" style=\"text-decoration:none\"><span style=\"color:#0000ff\"><u>R</u></span></a><span style=\"color:#000000\">, </span><a href=\"https://pubmed.ncbi.nlm.nih.gov/34505026/\" style=\"text-decoration:none\"><span style=\"color:#0000ff\"><u>R</u></span></a><span style=\"color:#000000\">].</span></p>\r\n",
       "\r\n",
       "<p>&nbsp;</p>\r\n",
       "\r\n",
       "<p style=\"text-align:justify\"><span style=\"color:#000000\"><strong>Los pescados azules son ricos en EPA y DHA. </strong></span><span style=\"color:#000000\">Incluyen [</span><a href=\"https://ods.od.nih.gov/factsheets/Omega3FattyAcids-HealthProfessional/\" style=\"text-decoration:none\"><span style=\"color:#1155cc\"><u>R</u></span></a><span style=\"color:#000000\">]:</span></p>\r\n",
       "\r\n",
       "<ul>\r\n",
       "\t<li style=\"list-style-type:disc\"><span style=\"color:#000000\">Salm&oacute;n</span></li>\r\n",
       "\t<li style=\"list-style-type:disc\"><span style=\"color:#000000\">At&uacute;n</span></li>\r\n",
       "\t<li style=\"list-style-type:disc\"><span style=\"color:#000000\">Arenque</span></li>\r\n",
       "\t<li style=\"list-style-type:disc\"><span style=\"color:#000000\">Sardinas</span></li>\r\n",
       "</ul>\r\n",
       "\r\n",
       "<p><span style=\"color:#000000\">Para una protecci&oacute;n &oacute;ptima, trate de consumir al menos </span><span style=\"color:#000000\"><strong>dos raciones de pescado azul por semana. </strong></span><span style=\"color:#000000\">Existen suplementos de aceite de pescado para aquellos que no comen pescado habitualmente [</span><a href=\"https://ods.od.nih.gov/factsheets/Omega3FattyAcids-HealthProfessional/\" style=\"text-decoration:none\"><span style=\"color:#1155cc\"><u>R</u></span></a><span style=\"color:#000000\">].</span></p>\r\n",
       "\r\n",
       "<p>&nbsp;</p><br>\n"
      ],
      "text/plain": [
       "<IPython.core.display.HTML object>"
      ]
     },
     "metadata": {},
     "output_type": "display_data"
    },
    {
     "data": {
      "text/html": [
       "<h5>Café</h5>\n",
       "Beba una cantidad moderada de café.<br>\n",
       "<table>\n",
       "<tr>\n",
       "<th>Type</th>\n",
       "<th>Effect</th>\n",
       "<th>Evidence</th>\n",
       "</tr>\n",
       "<tr>\n",
       "<td>dietary</td>\n",
       "<td>0.4</td>\n",
       "<td>0.4</td>\n",
       "</tr>\n",
       "</table>\n",
       "<p><span style=\"color:#000000\">Las personas beben caf&eacute; para aumentar la energ&iacute;a y mejorar el estado de &aacute;nimo. La </span><a href=\"https://supplements.selfdecode.com/blog/caffeine-benefits/\" style=\"text-decoration:none\"><span style=\"color:#1155cc\"><u>cafe&iacute;na</u></span></a><span style=\"color:#000000\"> es el principal ingrediente responsable de estos efectos [</span><a href=\"https://pubmed.ncbi.nlm.nih.gov/20888549/\" style=\"text-decoration:none\"><span style=\"color:#0000ff\"><u>R</u></span></a><span style=\"color:#000000\">, </span><a href=\"https://www.ncbi.nlm.nih.gov/books/NBK519490/\" style=\"text-decoration:none\"><span style=\"color:#1155cc\"><u>R</u></span></a><span style=\"color:#000000\">].</span></p>\r\n",
       "\r\n",
       "<p>&nbsp;</p>\r\n",
       "\r\n",
       "<p><span style=\"color:#000000\">Beber cantidades moderadas de caf&eacute; tambi&eacute;n puede [</span><a href=\"https://www.ncbi.nlm.nih.gov/pmc/articles/PMC5696634/\" style=\"text-decoration:none\"><span style=\"color:#0000ff\"><u>R</u></span></a><span style=\"color:#000000\">, </span><a href=\"https://pubmed.ncbi.nlm.nih.gov/29474816/\" style=\"text-decoration:none\"><span style=\"color:#0000ff\"><u>R</u></span></a><span style=\"color:#000000\">, </span><a href=\"https://www.ncbi.nlm.nih.gov/pmc/articles/PMC5696634/\" style=\"text-decoration:none\"><span style=\"color:#1155cc\"><u>R</u></span></a><span style=\"color:#000000\">]:</span><a href=\"https://pubmed.ncbi.nlm.nih.gov/29474816/\" style=\"text-decoration:none\"><span style=\"color:#1155cc\"><u>&nbsp;</u></span></a></p>\r\n",
       "\r\n",
       "<ul>\r\n",
       "\t<li style=\"list-style-type:disc\"><span style=\"color:#000000\">Mejorar la salud del coraz&oacute;n</span></li>\r\n",
       "\t<li style=\"list-style-type:disc\"><span style=\"color:#000000\">Apoyar la cognici&oacute;n</span></li>\r\n",
       "\t<li style=\"list-style-type:disc\"><span style=\"color:#000000\">Ayudar a reducir el az&uacute;car en la sangre</span></li>\r\n",
       "</ul><br>\n"
      ],
      "text/plain": [
       "<IPython.core.display.HTML object>"
      ]
     },
     "metadata": {},
     "output_type": "display_data"
    },
    {
     "data": {
      "text/html": [
       "<h5>Limitar el Consumo de Alcohol</h5>\n",
       "Trate de limitar su consumo de alcohol.<br>\n",
       "<table>\n",
       "<tr>\n",
       "<th>Type</th>\n",
       "<th>Effect</th>\n",
       "<th>Evidence</th>\n",
       "</tr>\n",
       "<tr>\n",
       "<td>dietary</td>\n",
       "<td>0.4</td>\n",
       "<td>0.4</td>\n",
       "</tr>\n",
       "</table>\n",
       "<p style=\"text-align:justify\"><span style=\"color:#000000\">Muchas personas beben alcohol en su tiempo libre. Para algunos, el alcohol puede mejorar temporalmente su estado de &aacute;nimo y estado mental [</span><a href=\"https://pubmed.ncbi.nlm.nih.gov/4053968/\" style=\"text-decoration:none\"><span style=\"color:#1155cc\"><u>R</u></span></a><span style=\"color:#000000\">].</span></p>\r\n",
       "\r\n",
       "<p>&nbsp;</p>\r\n",
       "\r\n",
       "<p><span style=\"color:#000000\"><strong>Los expertos est&aacute;n de acuerdo en que tomar 1-2 bebidas por d&iacute;a probablemente no cause da&ntilde;o. Sin embargo, el consumo excesivo de alcohol es malo para su salud </strong></span><span style=\"color:#000000\">[</span><a href=\"https://www.mayoclinic.org/healthy-lifestyle/nutrition-and-healthy-eating/in-depth/alcohol/art-20044551\" style=\"text-decoration:none\"><span style=\"color:#1155cc\"><u>R</u></span></a><span style=\"color:#000000\">].</span></p>\r\n",
       "\r\n",
       "<p>&nbsp;</p><br>\n"
      ],
      "text/plain": [
       "<IPython.core.display.HTML object>"
      ]
     },
     "metadata": {},
     "output_type": "display_data"
    },
    {
     "data": {
      "text/html": [
       "<h5>Danza</h5>\n",
       "Intente tomar clases de baile.<br>\n",
       "<table>\n",
       "<tr>\n",
       "<th>Type</th>\n",
       "<th>Effect</th>\n",
       "<th>Evidence</th>\n",
       "</tr>\n",
       "<tr>\n",
       "<td>lifestyle</td>\n",
       "<td>0.4</td>\n",
       "<td>0.4</td>\n",
       "</tr>\n",
       "</table>\n",
       "<p><span style=\"color:#000000\"><strong>Bailar implica mover su cuerpo al ritmo de la m&uacute;sica</strong></span><span style=\"color:#000000\">. Muchas personas toman clases de baile para aprender varios estilos de baile y mejorar sus habilidades. Algunos ejemplos son:</span></p>\r\n",
       "\r\n",
       "<ul>\r\n",
       "\t<li style=\"list-style-type:disc\"><span style=\"color:#000000\">Ballet</span></li>\r\n",
       "\t<li style=\"list-style-type:disc\"><span style=\"color:#000000\">Zumba</span></li>\r\n",
       "\t<li style=\"list-style-type:disc\"><span style=\"color:#000000\">Danza del vientre</span></li>\r\n",
       "\t<li style=\"list-style-type:disc\"><span style=\"color:#000000\">Hip hop</span></li>\r\n",
       "\t<li style=\"list-style-type:disc\"><span style=\"color:#000000\">Salsa</span></li>\r\n",
       "</ul>\r\n",
       "\r\n",
       "<p>&nbsp;</p>\r\n",
       "\r\n",
       "<p><span style=\"color:#000000\"><strong>Bailar es una actividad divertida, creativa y relajante</strong></span><span style=\"color:#000000\">. Tambi&eacute;n puede proporcionar una variedad de beneficios para la salud, mejorando la salud de su coraz&oacute;n, la salud del cerebro, el estado f&iacute;sico y m&aacute;s.</span></p>\r\n",
       "\r\n",
       "<p>&nbsp;</p><br>\n"
      ],
      "text/plain": [
       "<IPython.core.display.HTML object>"
      ]
     },
     "metadata": {},
     "output_type": "display_data"
    },
    {
     "data": {
      "text/html": [
       "<h5>Yoga</h5>\n",
       "Intente practicar yoga.<br>\n",
       "<table>\n",
       "<tr>\n",
       "<th>Type</th>\n",
       "<th>Effect</th>\n",
       "<th>Evidence</th>\n",
       "</tr>\n",
       "<tr>\n",
       "<td>lifestyle</td>\n",
       "<td>0.4</td>\n",
       "<td>0.4</td>\n",
       "</tr>\n",
       "</table>\n",
       "<p><span style=\"color:#000000\"><strong>El </strong></span><a href=\"https://selfdecode.com/blog/health-benefits-yoga/\" style=\"text-decoration:none\"><span style=\"color:#1155cc\"><strong><u>yoga</u></strong></span></a><span style=\"color:#000000\"><strong> combina t&eacute;cnicas de respiraci&oacute;n, estiramiento y relajaci&oacute;n.</strong></span><span style=\"color:#000000\"> Practicar yoga puede ayudar a [</span><a href=\"https://www.mayoclinic.org/healthy-lifestyle/stress-management/in-depth/yoga/art-20044733\" style=\"text-decoration:none\"><span style=\"color:#0000ff\"><u>R</u></span></a><span style=\"color:#000000\">, </span><a href=\"https://pubmed.ncbi.nlm.nih.gov/26181573/\" style=\"text-decoration:none\"><span style=\"color:#0000ff\"><u>R</u></span></a><span style=\"color:#000000\">, </span><a href=\"https://www.ncbi.nlm.nih.gov/pmc/articles/PMC3447533/\" style=\"text-decoration:none\"><span style=\"color:#0000ff\"><u>R</u></span></a><span style=\"color:#000000\">, </span><a href=\"https://www.ncbi.nlm.nih.gov/pmc/articles/PMC5540331/\" style=\"text-decoration:none\"><span style=\"color:#0000ff\"><u>R</u></span></a><span style=\"color:#000000\">]:</span></p>\r\n",
       "\r\n",
       "<ul>\r\n",
       "\t<li style=\"list-style-type:disc\"><span style=\"color:#000000\">Reducir el </span><a href=\"https://selfdecode.com/blog/63-factors-raising-stress-cortisol-level-backed-science/\" style=\"text-decoration:none\"><span style=\"color:#0000ff\"><u>estr&eacute;s</u></span></a></li>\r\n",
       "\t<li style=\"list-style-type:disc\"><span style=\"color:#000000\">Mejorar el estado f&iacute;sico&nbsp;</span></li>\r\n",
       "\t<li style=\"list-style-type:disc\"><span style=\"color:#000000\">Reducir la presi&oacute;n arterial</span></li>\r\n",
       "\t<li style=\"list-style-type:disc\"><span style=\"color:#000000\">Mejorar la salud del cerebro</span></li>\r\n",
       "\t<li style=\"list-style-type:disc\"><span style=\"color:#000000\">Controlar el dolor</span></li>\r\n",
       "</ul><br>\n"
      ],
      "text/plain": [
       "<IPython.core.display.HTML object>"
      ]
     },
     "metadata": {},
     "output_type": "display_data"
    },
    {
     "data": {
      "text/html": [
       "<h5>Arteterapia</h5>\n",
       "Intente practicar arteterapia.<br>\n",
       "<table>\n",
       "<tr>\n",
       "<th>Type</th>\n",
       "<th>Effect</th>\n",
       "<th>Evidence</th>\n",
       "</tr>\n",
       "<tr>\n",
       "<td>lifestyle</td>\n",
       "<td>0.4</td>\n",
       "<td>0.4</td>\n",
       "</tr>\n",
       "</table>\n",
       "<p><span style=\"color:#000000\">La arteterapia es un tipo de terapia que fomenta la libre autoexpresi&oacute;n y reflexi&oacute;n a trav&eacute;s de [</span><a href=\"https://www.ncbi.nlm.nih.gov/pubmed/25478139\" style=\"text-decoration:none\"><span style=\"color:#1155cc\"><u>R</u></span></a><span style=\"color:#000000\">]:</span></p>\r\n",
       "\r\n",
       "<ul>\r\n",
       "\t<li style=\"list-style-type:disc\"><span style=\"color:#000000\">Pintura</span></li>\r\n",
       "\t<li style=\"list-style-type:disc\"><span style=\"color:#000000\">Dibujo</span></li>\r\n",
       "\t<li style=\"list-style-type:disc\"><span style=\"color:#000000\">Modelado de arcilla&nbsp;</span></li>\r\n",
       "</ul>\r\n",
       "\r\n",
       "<p><span style=\"color:#000000\">La arteterapia se utiliza para mejorar [</span><a href=\"https://www.mayoclinic.org/healthy-lifestyle/consumer-health/in-depth/mindfulness-exercises/art-20046356\" style=\"text-decoration:none\"><span style=\"color:#1155cc\"><u>R</u></span></a><span style=\"color:#000000\">]:</span></p>\r\n",
       "\r\n",
       "<ul>\r\n",
       "\t<li style=\"list-style-type:disc\"><span style=\"color:#000000\">Autoestima</span></li>\r\n",
       "\t<li style=\"list-style-type:disc\"><span style=\"color:#000000\">Autoconciencia</span></li>\r\n",
       "\t<li style=\"list-style-type:disc\"><span style=\"color:#000000\">Resiliencia emocional</span></li>\r\n",
       "\t<li style=\"list-style-type:disc\"><span style=\"color:#000000\">Habilidades sociales</span></li>\r\n",
       "</ul><br>\n"
      ],
      "text/plain": [
       "<IPython.core.display.HTML object>"
      ]
     },
     "metadata": {},
     "output_type": "display_data"
    },
    {
     "data": {
      "text/html": [
       "<h5>Suplementos de Arándanos</h5>\n",
       "Considere tomar suplementos de arándanos.<br>\n",
       "<table>\n",
       "<tr>\n",
       "<th>Type</th>\n",
       "<th>Effect</th>\n",
       "<th>Evidence</th>\n",
       "</tr>\n",
       "<tr>\n",
       "<td>supplement</td>\n",
       "<td>0.4</td>\n",
       "<td>0.4</td>\n",
       "</tr>\n",
       "</table>\n",
       "<p><span style=\"color:#000000\">Los </span><a href=\"https://supplements.selfdecode.com/blog/blueberries-health-benefits/\" style=\"text-decoration:none\"><span style=\"color:#1155cc\"><u>ar&aacute;ndanos</u></span></a><span style=\"color:#000000\"> se disfrutan en todo el mundo por su sabor dulce y beneficios nutricionales. Pueden promover [</span><a href=\"https://www.ncbi.nlm.nih.gov/labs/pmc/articles/PMC7442370/\" style=\"text-decoration:none\"><span style=\"color:#1155cc\"><u>R</u></span></a><span style=\"color:#000000\">]:</span></p>\r\n",
       "\r\n",
       "<ul>\r\n",
       "\t<li style=\"list-style-type:disc\"><span style=\"color:#000000\">Salud del coraz&oacute;n</span></li>\r\n",
       "\t<li style=\"list-style-type:disc\"><span style=\"color:#000000\">Funci&oacute;n cognitiva</span></li>\r\n",
       "\t<li style=\"list-style-type:disc\"><span style=\"color:#000000\">Niveles normales de az&uacute;car en la sangre</span></li>\r\n",
       "</ul>\r\n",
       "\r\n",
       "<p><span style=\"color:#000000\">Adem&aacute;s de comerlos como fruta, las personas pueden tomar diferentes suplementos de ar&aacute;ndanos, como </span><span style=\"color:#000000\"><strong>polvo o extracto de ar&aacute;ndanos</strong></span><span style=\"color:#000000\">.</span></p><br>\n"
      ],
      "text/plain": [
       "<IPython.core.display.HTML object>"
      ]
     },
     "metadata": {},
     "output_type": "display_data"
    },
    {
     "data": {
      "text/html": [
       "<h5>Acupuntura</h5>\n",
       "Discuta la acupuntura con su médico.<br>\n",
       "<table>\n",
       "<tr>\n",
       "<th>Type</th>\n",
       "<th>Effect</th>\n",
       "<th>Evidence</th>\n",
       "</tr>\n",
       "<tr>\n",
       "<td>lifestyle</td>\n",
       "<td>0.4</td>\n",
       "<td>0.4</td>\n",
       "</tr>\n",
       "</table>\n",
       "<p><span style=\"color:#000000\"><strong>La </strong></span><a href=\"https://health.selfdecode.com/blog/what-is-acupuncture-how-does-it-work/\" style=\"text-decoration:none\"><span style=\"color:#1155cc\"><strong><u>acupuntura</u></strong></span></a><span style=\"color:#000000\"><strong> es parte de la medicina tradicional china. Consiste en insertar agujas finas en puntos espec&iacute;ficos del cuerpo.</strong></span><span style=\"color:#000000\"> Las personas la usan principalmente para [</span><a href=\"https://www.mayoclinic.org/tests-procedures/acupuncture/about/pac-20392763\" style=\"text-decoration:none\"><span style=\"color:#0000ff\"><u>R</u></span></a><span style=\"color:#000000\">, </span><a href=\"https://www.ncbi.nlm.nih.gov/pmc/articles/PMC4036643/\" style=\"text-decoration:none\"><span style=\"color:#0000ff\"><u>R</u></span></a><span style=\"color:#000000\">, </span><a href=\"https://www.ncbi.nlm.nih.gov/pmc/articles/PMC3156618/\" style=\"text-decoration:none\"><span style=\"color:#0000ff\"><u>R</u></span></a><span style=\"color:#000000\">,</span><a href=\"https://pubmed.ncbi.nlm.nih.gov/16625560/\" style=\"text-decoration:none\"><span style=\"color:#0000ff\"><u> R</u></span></a><span style=\"color:#000000\">]:</span></p>\r\n",
       "\r\n",
       "<ul>\r\n",
       "\t<li style=\"list-style-type:disc\"><span style=\"color:#000000\">Aliviar el dolor</span></li>\r\n",
       "\t<li style=\"list-style-type:disc\"><span style=\"color:#000000\">Mejorar la calidad del sue&ntilde;o</span></li>\r\n",
       "\t<li style=\"list-style-type:disc\"><span style=\"color:#000000\">Aliviar las alergias</span></li>\r\n",
       "\t<li style=\"list-style-type:disc\"><span style=\"color:#000000\">Reducir las n&aacute;useas</span></li>\r\n",
       "</ul><br>\n"
      ],
      "text/plain": [
       "<IPython.core.display.HTML object>"
      ]
     },
     "metadata": {},
     "output_type": "display_data"
    },
    {
     "data": {
      "text/html": [
       "<h5>Luteína</h5>\n",
       "Consuma más luteína de los alimentos y suplementos.<br>\n",
       "<table>\n",
       "<tr>\n",
       "<th>Type</th>\n",
       "<th>Effect</th>\n",
       "<th>Evidence</th>\n",
       "</tr>\n",
       "<tr>\n",
       "<td>dietary</td>\n",
       "<td>0.2</td>\n",
       "<td>0.6</td>\n",
       "</tr>\n",
       "</table>\n",
       "<p><span style=\"color:#000000\">La lute&iacute;na es un pigmento antioxidante.</span></p>\r\n",
       "\r\n",
       "<p>&nbsp;</p>\r\n",
       "\r\n",
       "<p><span style=\"color:#000000\">Puede ayudar a promover la funci&oacute;n de los ojos, el cerebro, la piel y m&aacute;s [</span><a href=\"https://www.ncbi.nlm.nih.gov/labs/pmc/articles/PMC7352796/\" style=\"text-decoration:none\"><span style=\"color:#0000ff\"><u>R</u></span></a><span style=\"color:#000000\">, </span><a href=\"https://pubmed.ncbi.nlm.nih.gov/27918775/\" style=\"text-decoration:none\"><span style=\"color:#0000ff\"><u>R</u></span></a><span style=\"color:#000000\">, </span><a href=\"https://pubmed.ncbi.nlm.nih.gov/30231532/\" style=\"text-decoration:none\"><span style=\"color:#0000ff\"><u>R</u></span></a><span style=\"color:#000000\">].</span></p>\r\n",
       "\r\n",
       "<p>&nbsp;</p><br>\n"
      ],
      "text/plain": [
       "<IPython.core.display.HTML object>"
      ]
     },
     "metadata": {},
     "output_type": "display_data"
    },
    {
     "data": {
      "text/html": [
       "<h5>Fosfatidilserina</h5>\n",
       "Oración resumida: Considere tomar suplementos con fosfatidilserina.<br>\n",
       "<table>\n",
       "<tr>\n",
       "<th>Type</th>\n",
       "<th>Effect</th>\n",
       "<th>Evidence</th>\n",
       "</tr>\n",
       "<tr>\n",
       "<td>supplement</td>\n",
       "<td>0.4</td>\n",
       "<td>0.4</td>\n",
       "</tr>\n",
       "</table>\n",
       "<p><span style=\"color:#000000\">La </span><a href=\"https://supplements.selfdecode.com/blog/phosphatidylserine/\" style=\"text-decoration:none\"><span style=\"color:#1155cc\"><u>fosfatidilserina</u></span></a><span style=\"color:#000000\"> es un componente importante de todas las membranas celulares. Se encuentra en grandes cantidades en el cerebro y ayuda a promover la funci&oacute;n cerebral.</span></p>\r\n",
       "\r\n",
       "<p>&nbsp;</p>\r\n",
       "\r\n",
       "<p><span style=\"color:#000000\">Las personas usan fosfatidilserina como suplemento para mejorar la concentraci&oacute;n, la memoria y el estado de &aacute;nimo.</span></p>\r\n",
       "\r\n",
       "<p>&nbsp;</p><br>\n"
      ],
      "text/plain": [
       "<IPython.core.display.HTML object>"
      ]
     },
     "metadata": {},
     "output_type": "display_data"
    },
    {
     "data": {
      "text/html": [
       "<h5>Vitamina D</h5>\n",
       "Obtenga más vitamina D de la luz solar o suplementos.<br>\n",
       "<table>\n",
       "<tr>\n",
       "<th>Type</th>\n",
       "<th>Effect</th>\n",
       "<th>Evidence</th>\n",
       "</tr>\n",
       "<tr>\n",
       "<td>supplement</td>\n",
       "<td>0.2</td>\n",
       "<td>0.6</td>\n",
       "</tr>\n",
       "</table>\n",
       "<p><span style=\"color:#000000\"><strong>Su cuerpo necesita </strong></span><a href=\"https://labs.selfdecode.com/blog/35proven-health-benefits-vitamin-d-part-1/\" style=\"text-decoration:none\"><span style=\"color:#0000ff\"><strong><u>vitamina D</u></strong></span></a><span style=\"color:#000000\"><strong> para tener huesos fuertes</strong></span><span style=\"color:#000000\">. La vitamina D tambi&eacute;n jinterviene en [</span><a href=\"https://ods.od.nih.gov/factsheets/VitaminD-HealthProfessional/\" style=\"text-decoration:none\"><span style=\"color:#1155cc\"><u>R</u></span></a><span style=\"color:#000000\">]:</span></p>\r\n",
       "\r\n",
       "<ul>\r\n",
       "\t<li style=\"list-style-type:disc\"><span style=\"color:#000000\">Estado de &aacute;nimo</span></li>\r\n",
       "\t<li style=\"list-style-type:disc\"><span style=\"color:#000000\">Inmunidad</span></li>\r\n",
       "\t<li style=\"list-style-type:disc\"><span style=\"color:#000000\">Salud del coraz&oacute;n</span></li>\r\n",
       "\t<li style=\"list-style-type:disc\"><span style=\"color:#000000\">Control del az&uacute;car en la sangre</span></li>\r\n",
       "</ul>\r\n",
       "\r\n",
       "<p><span style=\"color:#000000\"><strong>La </strong></span><a href=\"https://selfhacked.com/blog/avoiding-sun-will-kill-14-proven-science-based-health-benefits-sun/\" style=\"text-decoration:none\"><span style=\"color:#1155cc\"><strong><u>luz solar</u></strong></span></a><span style=\"color:#000000\"><strong> es nuestra principal fuente de vitamina D.</strong></span><span style=\"color:#000000\">&nbsp; Los expertos recomiendan recibir al menos </span><span style=\"color:#000000\"><strong>5-15 minutos de sol al mediod&iacute;a, 2-3 veces por semana</strong></span><span style=\"color:#000000\">. Las personas con piel m&aacute;s oscura y las que viven en latitudes altas pueden necesitar per&iacute;odos m&aacute;s largos de exposici&oacute;n al sol [</span><a href=\"https://www.ncbi.nlm.nih.gov/pmc/articles/PMC2290997/\" style=\"text-decoration:none\"><span style=\"color:#0000ff\"><u>R</u></span></a><span style=\"color:#000000\">,</span><a href=\"https://www.ncbi.nlm.nih.gov/pmc/articles/PMC7049620/\" style=\"text-decoration:none\"><span style=\"color:#0000ff\"><u> R</u></span></a><span style=\"color:#000000\">].</span></p>\r\n",
       "\r\n",
       "<p>&nbsp;</p>\r\n",
       "\r\n",
       "<p><span style=\"color:#000000\">Los alimentos como el pescado, los huevos y la leche fortificada proporcionan peque&ntilde;as cantidades de vitamina D. </span><span style=\"color:#000000\"><strong>Las personas con falta de vitamina D deben plantearse tomar un suplemento</strong></span><span style=\"color:#000000\"> [</span><a href=\"https://ods.od.nih.gov/factsheets/VitaminD-HealthProfessional/\" style=\"text-decoration:none\"><span style=\"color:#1155cc\"><u>R</u></span></a><span style=\"color:#000000\">].</span></p>\r\n",
       "\r\n",
       "<p>&nbsp;</p>\r\n",
       "\r\n",
       "<p>&nbsp;</p><br>\n"
      ],
      "text/plain": [
       "<IPython.core.display.HTML object>"
      ]
     },
     "metadata": {},
     "output_type": "display_data"
    },
    {
     "data": {
      "text/html": [
       "<h5>Homotaurina</h5>\n",
       "Considere tomar suplementos con homotaurina.<br>\n",
       "<table>\n",
       "<tr>\n",
       "<th>Type</th>\n",
       "<th>Effect</th>\n",
       "<th>Evidence</th>\n",
       "</tr>\n",
       "<tr>\n",
       "<td>supplement</td>\n",
       "<td>0.2</td>\n",
       "<td>0.4</td>\n",
       "</tr>\n",
       "</table>\n",
       "<p><span style=\"color:#000000\">La homotaurina es un amino&aacute;cido que se encuentra en algunas algas marinas. Las personas usan una versi&oacute;n sint&eacute;tica de homotaurina como suplemento para la enfermedad de Alzheimer, el deterioro cognitivo y m&aacute;s. Sin embargo, la evidencia para justificar estos usos es limitada.</span></p>\r\n",
       "\r\n",
       "<p>&nbsp;</p>\r\n",
       "\r\n",
       "<p><span style=\"color:#000000\">Supuestamente, la homotaurina ayuda a prevenir la formaci&oacute;n de placas da&ntilde;inas en el cerebro y los vasos sangu&iacute;neos.</span></p>\r\n",
       "\r\n",
       "<p>&nbsp;</p><br>\n"
      ],
      "text/plain": [
       "<IPython.core.display.HTML object>"
      ]
     },
     "metadata": {},
     "output_type": "display_data"
    },
    {
     "data": {
      "text/html": [
       "<h5>Lúpulo</h5>\n",
       "Considere tomar suplementos con lúpulo.<br>\n",
       "<table>\n",
       "<tr>\n",
       "<th>Type</th>\n",
       "<th>Effect</th>\n",
       "<th>Evidence</th>\n",
       "</tr>\n",
       "<tr>\n",
       "<td>supplement</td>\n",
       "<td>0.2</td>\n",
       "<td>0.4</td>\n",
       "</tr>\n",
       "</table>\n",
       "<p><span style=\"color:#000000\">El </span><a href=\"https://content.selfdecode.com/blog/hops-16-promising-benefits-side-effects/\" style=\"text-decoration:none\"><span style=\"color:#1155cc\"><u>l&uacute;pulo</u></span></a><span style=\"color:#000000\"> (</span><span style=\"color:#000000\"><em>Humulus lupulus</em></span><span style=\"color:#000000\"> L.) es una planta trepadora perteneciente a la misma familia que el c&aacute;&ntilde;amo. Sus flores femeninas se usan para dar sabor y amargura a la cerveza [</span><a href=\"https://pubmed.ncbi.nlm.nih.gov/18308492/\" style=\"text-decoration:none\"><span style=\"color:#0000ff\"><u>R</u></span></a><span style=\"color:#000000\">, </span><a href=\"https://www.ncbi.nlm.nih.gov/pubmed/25708386\" style=\"text-decoration:none\"><span style=\"color:#1155cc\"><u>R</u></span></a><span style=\"color:#000000\">].</span></p>\r\n",
       "\r\n",
       "<p>&nbsp;</p>\r\n",
       "\r\n",
       "<p><span style=\"color:#000000\">Los extractos y &aacute;cidos amargos del l&uacute;pulo se utilizan como suplementos para [</span><a href=\"https://www.ncbi.nlm.nih.gov/pubmed/18308492\" style=\"text-decoration:none\"><span style=\"color:#1155cc\"><u>R</u></span></a><span style=\"color:#000000\">]:</span></p>\r\n",
       "\r\n",
       "<ul>\r\n",
       "\t<li style=\"list-style-type:disc\"><span style=\"color:#000000\">Insomnio</span></li>\r\n",
       "\t<li style=\"list-style-type:disc\"><span style=\"color:#000000\">Trastornos de ansiedad</span></li>\r\n",
       "\t<li style=\"list-style-type:disc\"><span style=\"color:#000000\">S&iacute;ntomas menop&aacute;usicos</span></li>\r\n",
       "\t<li style=\"list-style-type:disc\"><span style=\"color:#000000\">Deterioro cognitivo</span></li>\r\n",
       "</ul><br>\n"
      ],
      "text/plain": [
       "<IPython.core.display.HTML object>"
      ]
     },
     "metadata": {},
     "output_type": "display_data"
    },
    {
     "data": {
      "text/html": [
       "<h5>Extracto de Corteza de Pino</h5>\n",
       "Considere tomar suplementos con extracto de corteza de pino (pycnogenol).<br>\n",
       "<table>\n",
       "<tr>\n",
       "<th>Type</th>\n",
       "<th>Effect</th>\n",
       "<th>Evidence</th>\n",
       "</tr>\n",
       "<tr>\n",
       "<td>supplement</td>\n",
       "<td>0.2</td>\n",
       "<td>0.4</td>\n",
       "</tr>\n",
       "</table>\n",
       "<p><span style=\"color:#000000\"><strong>El </strong></span><a href=\"https://supplements.selfdecode.com/blog/pycnogenol-pine-bark-extract-health-benefits/\" style=\"text-decoration:none\"><span style=\"color:#0000ff\"><strong><u>pycnogenol</u></strong></span></a><span style=\"color:#1155cc\"><strong> </strong></span><span style=\"color:#000000\"><strong>o extracto de corteza de pino proviene de la corteza de unos pinos que crecen en el Mediterr&aacute;neo </strong></span><span style=\"color:#000000\">[</span><a href=\"https://pubmed.ncbi.nlm.nih.gov/11996210/\" style=\"text-decoration:none\"><span style=\"color:#0000ff\"><u>R</u></span></a><span style=\"color:#000000\">,</span><a href=\"https://medlineplus.gov/druginfo/natural/1019.html\" style=\"text-decoration:none\"><span style=\"color:#0000ff\"><u> R</u></span></a><span style=\"color:#000000\">].</span></p>\r\n",
       "\r\n",
       "<p>&nbsp;</p>\r\n",
       "\r\n",
       "<p><span style=\"color:#000000\">Puede mejorar [</span><a href=\"https://pubmed.ncbi.nlm.nih.gov/24247188/\" style=\"text-decoration:none\"><span style=\"color:#0000ff\"><u>R</u></span></a><span style=\"color:#000000\">, </span><a href=\"https://pubmed.ncbi.nlm.nih.gov/20549654/\" style=\"text-decoration:none\"><span style=\"color:#0000ff\"><u>R</u></span></a><span style=\"color:#000000\">, </span><a href=\"https://pubmed.ncbi.nlm.nih.gov/24675223/\" style=\"text-decoration:none\"><span style=\"color:#0000ff\"><u>R</u></span></a><span style=\"color:#000000\">, </span><a href=\"https://pubmed.ncbi.nlm.nih.gov/18386255/\" style=\"text-decoration:none\"><span style=\"color:#0000ff\"><u>R</u></span></a><span style=\"color:#000000\">, </span><a href=\"https://pubmed.ncbi.nlm.nih.gov/19017467/\" style=\"text-decoration:none\"><span style=\"color:#0000ff\"><u>R</u></span></a><span style=\"color:#000000\">, </span><a href=\"https://pubmed.ncbi.nlm.nih.gov/28255210/\" style=\"text-decoration:none\"><span style=\"color:#0000ff\"><u>R</u></span></a><span style=\"color:#000000\">]:</span></p>\r\n",
       "\r\n",
       "<ul>\r\n",
       "\t<li style=\"list-style-type:disc\"><span style=\"color:#000000\">Rendimiento atl&eacute;tico</span></li>\r\n",
       "\t<li style=\"list-style-type:disc\"><span style=\"color:#000000\">Alergias estacionales</span></li>\r\n",
       "\t<li style=\"list-style-type:disc\"><span style=\"color:#000000\">Funci&oacute;n cognitiva</span></li>\r\n",
       "\t<li style=\"list-style-type:disc\"><span style=\"color:#000000\">Salud de las articulaciones</span></li>\r\n",
       "\t<li style=\"list-style-type:disc\"><span style=\"color:#000000\">Varices</span></li>\r\n",
       "</ul><br>\n"
      ],
      "text/plain": [
       "<IPython.core.display.HTML object>"
      ]
     },
     "metadata": {},
     "output_type": "display_data"
    },
    {
     "data": {
      "text/html": [
       "<h5>Bifidobacterium Breve</h5>\n",
       "Considere tomar suplementos con Bifidobacterium breve.<br>\n",
       "<table>\n",
       "<tr>\n",
       "<th>Type</th>\n",
       "<th>Effect</th>\n",
       "<th>Evidence</th>\n",
       "</tr>\n",
       "<tr>\n",
       "<td>supplement</td>\n",
       "<td>0.2</td>\n",
       "<td>0.4</td>\n",
       "</tr>\n",
       "</table>\n",
       "<p><span style=\"color:#000000\">El </span><a href=\"https://supplements.selfdecode.com/blog/b-breve/\" style=\"text-decoration:none\"><span style=\"color:#1155cc\"><em><u>Bifidobacterium breve</u></em></span></a><span style=\"color:#000000\"> es una especie probi&oacute;tica que se encuentra en la leche materna humana y el aparato gastrointestinal de beb&eacute;s y adultos. A medida que un individuo envejece, la poblaci&oacute;n total de </span><span style=\"color:#000000\"><em>B. breve</em></span><span style=\"color:#000000\"> de su intestino disminuye [</span><a href=\"http://journal.frontiersin.org/article/10.3389/fmicb.2016.01204/full\" style=\"text-decoration:none\"><span style=\"color:#1155cc\"><u>R</u></span></a><span style=\"color:#000000\">].</span></p>\r\n",
       "\r\n",
       "<p>&nbsp;</p>\r\n",
       "\r\n",
       "<p><span style=\"color:#000000\">Las personas usan </span><span style=\"color:#000000\"><em>B. breve</em></span><span style=\"color:#000000\"> como suplemento para mejorar la salud de la piel y combatir alergias e infecciones [</span><a href=\"https://www.ncbi.nlm.nih.gov/pmc/articles/PMC4965514/\" style=\"text-decoration:none\"><span style=\"color:#0000ff\"><u>R</u></span></a><span style=\"color:#000000\">, </span><a href=\"https://www.ncbi.nlm.nih.gov/pubmed/27590263\" style=\"text-decoration:none\"><span style=\"color:#0000ff\"><u>R</u></span></a><span style=\"color:#000000\">, </span><a href=\"https://www.ncbi.nlm.nih.gov/pubmed/15269618\" style=\"text-decoration:none\"><span style=\"color:#0000ff\"><u>R</u></span></a><span style=\"color:#000000\">].</span></p>\r\n",
       "\r\n",
       "<p>&nbsp;</p><br>\n"
      ],
      "text/plain": [
       "<IPython.core.display.HTML object>"
      ]
     },
     "metadata": {},
     "output_type": "display_data"
    },
    {
     "data": {
      "text/html": [
       "<h5>Lactobacillus Plantarum</h5>\n",
       "Considere tomar suplementos con Lactobacillus plantarum.<br>\n",
       "<table>\n",
       "<tr>\n",
       "<th>Type</th>\n",
       "<th>Effect</th>\n",
       "<th>Evidence</th>\n",
       "</tr>\n",
       "<tr>\n",
       "<td>supplement</td>\n",
       "<td>0.2</td>\n",
       "<td>0.4</td>\n",
       "</tr>\n",
       "</table>\n",
       "<p><span style=\"color:#000000\">El </span><a href=\"https://supplements.selfdecode.com/blog/l-plantarum/\" style=\"text-decoration:none\"><span style=\"color:#1155cc\"><em><u>Lactobacillus plantarum</u></em></span></a><span style=\"color:#000000\"> es una bacteria </span><a href=\"https://supplements.selfdecode.com/blog/a1probiotics-good-bacteria/\" style=\"text-decoration:none\"><span style=\"color:#1155cc\"><u>probi&oacute;tica</u></span></a><span style=\"color:#000000\"> que se encuentra en muchos productos vegetales fermentados como el chucrut, los encurtidos, las aceitunas en salmuera y el kimchi coreano [</span><a href=\"https://www.ncbi.nlm.nih.gov/pmc/articles/PMC4705246/\" style=\"text-decoration:none\"><span style=\"color:#1155cc\"><u>R</u></span></a><span style=\"color:#000000\">].</span></p>\r\n",
       "\r\n",
       "<p>&nbsp;</p>\r\n",
       "\r\n",
       "<p><span style=\"color:#000000\">Las personas toman suplementos de </span><span style=\"color:#000000\"><em>L. plantarum</em></span><span style=\"color:#000000\"> para mejorar [</span><a href=\"https://pubmed.ncbi.nlm.nih.gov/9815476/\" style=\"text-decoration:none\"><span style=\"color:#0000ff\"><u>R</u></span></a><span style=\"color:#000000\">, </span><a href=\"https://pubmed.ncbi.nlm.nih.gov/26428734/\" style=\"text-decoration:none\"><span style=\"color:#0000ff\"><u>R</u></span></a><span style=\"color:#000000\">, </span><a href=\"https://pubmed.ncbi.nlm.nih.gov/15507864/\" style=\"text-decoration:none\"><span style=\"color:#0000ff\"><u>R</u></span></a><span style=\"color:#000000\">, </span><a href=\"https://pubmed.ncbi.nlm.nih.gov/23017585/\" style=\"text-decoration:none\"><span style=\"color:#0000ff\"><u>R</u></span></a><span style=\"color:#000000\">]:</span></p>\r\n",
       "\r\n",
       "<ul>\r\n",
       "\t<li style=\"list-style-type:disc\"><span style=\"color:#000000\">Diarrea</span></li>\r\n",
       "\t<li style=\"list-style-type:disc\"><span style=\"color:#000000\">Aspecto de la piel</span></li>\r\n",
       "\t<li style=\"list-style-type:disc\"><span style=\"color:#000000\">IBD</span></li>\r\n",
       "\t<li style=\"list-style-type:disc\"><span style=\"color:#000000\">Colesterol alto</span></li>\r\n",
       "</ul><br>\n"
      ],
      "text/plain": [
       "<IPython.core.display.HTML object>"
      ]
     },
     "metadata": {},
     "output_type": "display_data"
    },
    {
     "data": {
      "text/html": [
       "<h5>Lactobacillus Rhamnosus</h5>\n",
       "Considere tomar suplementos con Lactobacillus rhamnosus.<br>\n",
       "<table>\n",
       "<tr>\n",
       "<th>Type</th>\n",
       "<th>Effect</th>\n",
       "<th>Evidence</th>\n",
       "</tr>\n",
       "<tr>\n",
       "<td>supplement</td>\n",
       "<td>0.2</td>\n",
       "<td>0.4</td>\n",
       "</tr>\n",
       "</table>\n",
       "<p><span style=\"color:#000000\">El </span><a href=\"https://supplements.selfdecode.com/blog/l-rhamnosus/\" style=\"text-decoration:none\"><span style=\"color:#1155cc\"><em><u>Lactobacillus rhamnosus</u></em></span></a><span style=\"color:#000000\"> es una bacteria </span><a href=\"https://supplements.selfdecode.com/blog/a1probiotics-good-bacteria/\" style=\"text-decoration:none\"><span style=\"color:#0000ff\"><u>probi&oacute;tica</u></span></a><span style=\"color:#000000\"> que forma parte de la flora intestinal normal. Varios alimentos pueden contener </span><span style=\"color:#000000\"><em>L. rhamnosus</em></span><span style=\"color:#000000\">, incluyendo el yogur, el queso y las legumbres fermentadas [</span><a href=\"https://www.ncbi.nlm.nih.gov/pmc/articles/PMC4155824/\" style=\"text-decoration:none\"><span style=\"color:#0000ff\"><u>R</u></span></a><span style=\"color:#000000\">, </span><a href=\"https://www.ncbi.nlm.nih.gov/pmc/articles/PMC6048217/\" style=\"text-decoration:none\"><span style=\"color:#0000ff\"><u>R</u></span></a><span style=\"color:#000000\">].</span></p>\r\n",
       "\r\n",
       "<p>&nbsp;</p>\r\n",
       "\r\n",
       "<p><span style=\"color:#000000\">Las personas toman suplementos de</span><span style=\"color:#000000\"><em> L. rhamnosus</em></span><span style=\"color:#000000\"> para equilibrar su sistema inmunol&oacute;gico y ayudar con infecciones, alergias, y dermatitis [</span><a href=\"https://www.ncbi.nlm.nih.gov/pmc/articles/PMC4155824/\" style=\"text-decoration:none\"><span style=\"color:#1155cc\"><u>R</u></span></a><span style=\"color:#000000\">].</span></p>\r\n",
       "\r\n",
       "<p>&nbsp;</p><br>\n"
      ],
      "text/plain": [
       "<IPython.core.display.HTML object>"
      ]
     },
     "metadata": {},
     "output_type": "display_data"
    },
    {
     "data": {
      "text/html": [
       "<h5>Hierbabuena</h5>\n",
       "Considere tomar suplementos con hierbabuena.<br>\n",
       "<table>\n",
       "<tr>\n",
       "<th>Type</th>\n",
       "<th>Effect</th>\n",
       "<th>Evidence</th>\n",
       "</tr>\n",
       "<tr>\n",
       "<td>supplement</td>\n",
       "<td>0.2</td>\n",
       "<td>0.2</td>\n",
       "</tr>\n",
       "</table>\n",
       "<p><span style=\"color:#000000\">La hierbabuena (</span><span style=\"color:#000000\"><em>Mentha spicata</em></span><span style=\"color:#000000\">) es una hierba arom&aacute;tica que se usa para dar sabor a los alimentos e infusiones [</span><a href=\"https://www.ncbi.nlm.nih.gov/labs/pmc/articles/PMC6854165/\" style=\"text-decoration:none\"><span style=\"color:#1155cc\"><u>R</u></span></a><span style=\"color:#000000\">].</span></p>\r\n",
       "\r\n",
       "<p>&nbsp;</p>\r\n",
       "\r\n",
       "<p><span style=\"color:#000000\">Las personas tambi&eacute;n usan hierbabuena para ayudar con [</span><a href=\"https://pubmed.ncbi.nlm.nih.gov/34087400/\" style=\"text-decoration:none\"><span style=\"color:#0000ff\"><u>R</u></span></a><span style=\"color:#000000\">, </span><a href=\"https://pubmed.ncbi.nlm.nih.gov/22435615/\" style=\"text-decoration:none\"><span style=\"color:#0000ff\"><u>R</u></span></a><span style=\"color:#000000\">, </span><a href=\"https://pubmed.ncbi.nlm.nih.gov/17310494/\" style=\"text-decoration:none\"><span style=\"color:#0000ff\"><u>R</u></span></a><span style=\"color:#000000\">, </span><a href=\"https://pubmed.ncbi.nlm.nih.gov/34087400/\" style=\"text-decoration:none\"><span style=\"color:#1155cc\"><u>R</u></span></a><span style=\"color:#000000\">]:</span></p>\r\n",
       "\r\n",
       "<ul>\r\n",
       "\t<li style=\"list-style-type:disc\"><span style=\"color:#000000\">Problemas digestivos</span></li>\r\n",
       "\t<li style=\"list-style-type:disc\"><span style=\"color:#000000\">Tos y problemas respiratorios&nbsp;</span></li>\r\n",
       "\t<li style=\"list-style-type:disc\"><span style=\"color:#000000\">Deterioro cognitivo</span></li>\r\n",
       "</ul><br>\n"
      ],
      "text/plain": [
       "<IPython.core.display.HTML object>"
      ]
     },
     "metadata": {},
     "output_type": "display_data"
    },
    {
     "data": {
      "text/html": [
       "<h5>Lion's Mane</h5>\n",
       "Consider supplementing with lion’s mane.<br>\n",
       "<table>\n",
       "<tr>\n",
       "<th>Type</th>\n",
       "<th>Effect</th>\n",
       "<th>Evidence</th>\n",
       "</tr>\n",
       "<tr>\n",
       "<td>supplement</td>\n",
       "<td>0.2</td>\n",
       "<td>0.2</td>\n",
       "</tr>\n",
       "</table>\n",
       "<p><a href=\"https://supplements.selfdecode.com/blog/all-about-lions-mane/\" style=\"text-decoration:none\"><span style=\"color:#1155cc\"><u>Lion&rsquo;s mane</u></span></a><span style=\"color:#000000\"> (</span><span style=\"color:#000000\"><em>Hericium erinaceus</em></span><span style=\"color:#000000\">), also known as yamabushitake or houtou, is an edible mushroom that looks like a white pompom. It has been used in traditional Chinese and Japanese medicine for centuries. People also consume it as a </span><span style=\"color:#000000\"><strong>meat substitute</strong></span><span style=\"color:#000000\">, as it has a similar texture to crab meat when cooked [</span><a href=\"http://www.ncbi.nlm.nih.gov/pubmed/23735479\" style=\"text-decoration:none\"><span style=\"color:#1155cc\"><u>R</u></span></a><span style=\"color:#000000\">,</span><a href=\"https://www.ncbi.nlm.nih.gov/pubmed/28087447\" style=\"text-decoration:none\"><span style=\"color:#000000\"> </span><span style=\"color:#1155cc\"><u>R</u></span></a><span style=\"color:#000000\">, </span><a href=\"http://www.ncbi.nlm.nih.gov/pubmed/25070597\" style=\"text-decoration:none\"><span style=\"color:#1155cc\"><u>R</u></span></a><span style=\"color:#000000\">,</span><a href=\"http://www.ncbi.nlm.nih.gov/pubmed/23735479\" style=\"text-decoration:none\"><span style=\"color:#000000\"> </span><span style=\"color:#1155cc\"><u>R</u></span></a><span style=\"color:#000000\">,</span><a href=\"https://www.ncbi.nlm.nih.gov/pmc/articles/PMC5237458/\" style=\"text-decoration:none\"><span style=\"color:#000000\"> </span><span style=\"color:#1155cc\"><u>R</u></span></a><span style=\"color:#000000\">].</span></p>\r\n",
       "\r\n",
       "<p><span style=\"color:#000000\">Lion&#39;s mane may have health benefits as [</span><a href=\"https://www.ncbi.nlm.nih.gov/pubmed/26244378\" style=\"text-decoration:none\"><span style=\"color:#1155cc\"><u>R</u></span></a><span style=\"color:#000000\">]:</span></p>\r\n",
       "\r\n",
       "<ul>\r\n",
       "\t<li style=\"list-style-type:disc\"><span style=\"color:#000000\">Anti-inflammatory</span></li>\r\n",
       "\t<li style=\"list-style-type:disc\"><span style=\"color:#000000\">Antioxidant</span></li>\r\n",
       "\t<li style=\"list-style-type:disc\"><span style=\"color:#000000\">Immune-booster</span></li>\r\n",
       "</ul>\r\n",
       "\r\n",
       "<p><span style=\"color:#000000\">People use it to improve [</span><a href=\"https://www.ncbi.nlm.nih.gov/pubmed/26244378\" style=\"text-decoration:none\"><span style=\"color:#1155cc\"><u>R</u></span></a><span style=\"color:#000000\">,</span><a href=\"https://www.ncbi.nlm.nih.gov/pubmed/28087447\" style=\"text-decoration:none\"><span style=\"color:#000000\"> </span><span style=\"color:#1155cc\"><u>R</u></span></a><span style=\"color:#000000\">]:</span></p>\r\n",
       "\r\n",
       "<ul>\r\n",
       "\t<li style=\"list-style-type:disc\"><span style=\"color:#000000\">Cognitive function</span></li>\r\n",
       "\t<li style=\"list-style-type:disc\"><span style=\"color:#000000\">Anxiety&nbsp;</span></li>\r\n",
       "\t<li style=\"list-style-type:disc\"><span style=\"color:#000000\">Depression</span></li>\r\n",
       "</ul><br>\n"
      ],
      "text/plain": [
       "<IPython.core.display.HTML object>"
      ]
     },
     "metadata": {},
     "output_type": "display_data"
    },
    {
     "data": {
      "text/html": [
       "<h5>Fruits And Vegetables</h5>\n",
       "<br>\n",
       "<table>\n",
       "<tr>\n",
       "<th>Type</th>\n",
       "<th>Effect</th>\n",
       "<th>Evidence</th>\n",
       "</tr>\n",
       "<tr>\n",
       "<td>dietary</td>\n",
       "<td>0.0</td>\n",
       "<td>0.0</td>\n",
       "</tr>\n",
       "</table>\n",
       "<p>&nbsp; &nbsp;</p><br>\n"
      ],
      "text/plain": [
       "<IPython.core.display.HTML object>"
      ]
     },
     "metadata": {},
     "output_type": "display_data"
    },
    {
     "data": {
      "text/html": [
       "<h5>Intermittent Fasting</h5>\n",
       "<br>\n",
       "<table>\n",
       "<tr>\n",
       "<th>Type</th>\n",
       "<th>Effect</th>\n",
       "<th>Evidence</th>\n",
       "</tr>\n",
       "<tr>\n",
       "<td>lifestyle</td>\n",
       "<td>0.0</td>\n",
       "<td>0.0</td>\n",
       "</tr>\n",
       "</table>\n",
       "<p>&nbsp; &nbsp;</p><br>\n"
      ],
      "text/plain": [
       "<IPython.core.display.HTML object>"
      ]
     },
     "metadata": {},
     "output_type": "display_data"
    },
    {
     "data": {
      "text/html": [
       "<h5>Dietary Omega-3 Fatty Acids</h5>\n",
       "<br>\n",
       "<table>\n",
       "<tr>\n",
       "<th>Type</th>\n",
       "<th>Effect</th>\n",
       "<th>Evidence</th>\n",
       "</tr>\n",
       "<tr>\n",
       "<td>dietary</td>\n",
       "<td>0.0</td>\n",
       "<td>0.0</td>\n",
       "</tr>\n",
       "</table>\n",
       "<p>&nbsp; &nbsp; &nbsp;</p><br>\n"
      ],
      "text/plain": [
       "<IPython.core.display.HTML object>"
      ]
     },
     "metadata": {},
     "output_type": "display_data"
    },
    {
     "data": {
      "text/html": [
       "<h5>Saffron</h5>\n",
       "<br>\n",
       "<table>\n",
       "<tr>\n",
       "<th>Type</th>\n",
       "<th>Effect</th>\n",
       "<th>Evidence</th>\n",
       "</tr>\n",
       "<tr>\n",
       "<td>supplement</td>\n",
       "<td>0.0</td>\n",
       "<td>0.0</td>\n",
       "</tr>\n",
       "</table>\n",
       "<p>&nbsp; &nbsp;</p><br>\n"
      ],
      "text/plain": [
       "<IPython.core.display.HTML object>"
      ]
     },
     "metadata": {},
     "output_type": "display_data"
    },
    {
     "data": {
      "text/html": [
       "<h5>Pyrroloquinoline Quinone (PQQ)</h5>\n",
       "Consider supplementing pyrroloquinoline quinone.<br>\n",
       "<table>\n",
       "<tr>\n",
       "<th>Type</th>\n",
       "<th>Effect</th>\n",
       "<th>Evidence</th>\n",
       "</tr>\n",
       "<tr>\n",
       "<td>supplement</td>\n",
       "<td>0.0</td>\n",
       "<td>0.0</td>\n",
       "</tr>\n",
       "</table>\n",
       "<p><span style=\"color:#000000\">Pyrroloquinoline quinone (PQQ), also known as methoxatin, is a compound that helps enzymes work better. PQQ is also involved in the production of new mitochondrias. By doing so, PQQ helps improve [</span><a href=\"https://www.ncbi.nlm.nih.gov/pmc/articles/PMC8533503/\" style=\"text-decoration:none\"><span style=\"color:#1155cc\"><u>R</u></span></a><span style=\"color:#000000\">,</span><a href=\"https://pubmed.ncbi.nlm.nih.gov/26168402/\" style=\"text-decoration:none\"><span style=\"color:#000000\"> </span><span style=\"color:#1155cc\"><u>R</u></span></a><span style=\"color:#000000\">]:</span></p>\r\n",
       "\r\n",
       "<ul>\r\n",
       "\t<li style=\"list-style-type:disc\"><span style=\"color:#000000\">Energy levels</span></li>\r\n",
       "\t<li style=\"list-style-type:disc\"><span style=\"color:#000000\">Antioxidant protection</span></li>\r\n",
       "\t<li style=\"list-style-type:disc\"><span style=\"color:#000000\">Growth</span></li>\r\n",
       "\t<li style=\"list-style-type:disc\"><span style=\"color:#000000\">Reproduction</span></li>\r\n",
       "</ul><br>\n"
      ],
      "text/plain": [
       "<IPython.core.display.HTML object>"
      ]
     },
     "metadata": {},
     "output_type": "display_data"
    },
    {
     "data": {
      "text/html": [
       "<h5>Spermidine</h5>\n",
       "<br>\n",
       "<table>\n",
       "<tr>\n",
       "<th>Type</th>\n",
       "<th>Effect</th>\n",
       "<th>Evidence</th>\n",
       "</tr>\n",
       "<tr>\n",
       "<td>supplement</td>\n",
       "<td>0.0</td>\n",
       "<td>0.0</td>\n",
       "</tr>\n",
       "</table>\n",
       "<p>&nbsp;&nbsp;</p><br>\n"
      ],
      "text/plain": [
       "<IPython.core.display.HTML object>"
      ]
     },
     "metadata": {},
     "output_type": "display_data"
    },
    {
     "data": {
      "text/html": [
       "<h5>Video Games</h5>\n",
       "<br>\n",
       "<table>\n",
       "<tr>\n",
       "<th>Type</th>\n",
       "<th>Effect</th>\n",
       "<th>Evidence</th>\n",
       "</tr>\n",
       "<tr>\n",
       "<td>lifestyle</td>\n",
       "<td>0.0</td>\n",
       "<td>0.0</td>\n",
       "</tr>\n",
       "</table>\n",
       "<p>&nbsp;&nbsp;</p><br>\n"
      ],
      "text/plain": [
       "<IPython.core.display.HTML object>"
      ]
     },
     "metadata": {},
     "output_type": "display_data"
    },
    {
     "data": {
      "text/html": [
       "<h5>Acupressure</h5>\n",
       "<br>\n",
       "<table>\n",
       "<tr>\n",
       "<th>Type</th>\n",
       "<th>Effect</th>\n",
       "<th>Evidence</th>\n",
       "</tr>\n",
       "<tr>\n",
       "<td>lifestyle</td>\n",
       "<td>0.0</td>\n",
       "<td>0.0</td>\n",
       "</tr>\n",
       "</table>\n",
       "<p>&nbsp; &nbsp;</p><br>\n"
      ],
      "text/plain": [
       "<IPython.core.display.HTML object>"
      ]
     },
     "metadata": {},
     "output_type": "display_data"
    },
    {
     "data": {
      "text/html": [
       "<h3>Estrés</h3>\n",
       "Your score: 0.982758620689655<br>\n",
       "Capacidad baja de manejar el estrés.<br>\n",
       "<h4>Summary</h4>\n",
       "<br>\n",
       "<h4>Sobre el Estrés</h4>\n",
       "<p><span style=\"color:#000000\">Algunas personas pueden decirle que el estr&eacute;s est&aacute; en su cabeza, pero eso no es cierto. </span><span style=\"color:#000000\"><strong>El estr&eacute;s es una reacci&oacute;n de todo el cuerpo</strong></span><span style=\"color:#000000\"> [</span><a href=\"https://www.ncbi.nlm.nih.gov/pmc/articles/PMC3079864/\" style=\"text-decoration:none\"><span style=\"color:#1155cc\"><u>R</u></span></a><span style=\"color:#000000\">, </span><a href=\"https://www.ncbi.nlm.nih.gov/books/NBK541120/\" style=\"text-decoration:none\"><span style=\"color:#1155cc\"><u>R</u></span></a><span style=\"color:#000000\">].</span></p>\r\n",
       "\r\n",
       "<p>&nbsp;</p>\r\n",
       "\r\n",
       "<p><span style=\"color:#000000\">El estr&eacute;s est&aacute; controlado por una red de regiones cerebrales, gl&aacute;ndulas y hormonas. Esta red se llama </span><span style=\"color:#000000\"><em>eje hipotal&aacute;mico-pituitario-adrenal </em></span><span style=\"color:#000000\">(</span><span style=\"color:#000000\"><em>HPA</em></span><span style=\"color:#000000\">) [</span><a href=\"https://www.ncbi.nlm.nih.gov/books/NBK541120/\" style=\"text-decoration:none\"><span style=\"color:#1155cc\"><u>R</u></span></a><span style=\"color:#000000\">, </span><a href=\"https://www.ncbi.nlm.nih.gov/pmc/articles/PMC3860380/\" style=\"text-decoration:none\"><span style=\"color:#1155cc\"><u>R</u></span></a><span style=\"color:#000000\">, </span><a href=\"https://www.ncbi.nlm.nih.gov/pmc/articles/PMC4867107/\" style=\"text-decoration:none\"><span style=\"color:#1155cc\"><u>R</u></span></a><span style=\"color:#000000\">].</span></p>\r\n",
       "\r\n",
       "<p>&nbsp;</p>\r\n",
       "\r\n",
       "<p><span style=\"color:#000000\">El eje HPA hace que su cuerpo libere </span><a href=\"https://selfhacked.com/blog/epinephrine/\" style=\"text-decoration:none\"><span style=\"color:#1155cc\"><u>epinefrina</u></span></a><span style=\"color:#000000\"> (adrenalina), </span><a href=\"https://selfhacked.com/blog/norepinephrine-stress-hormone/\" style=\"text-decoration:none\"><span style=\"color:#1155cc\"><u>norepinefrina</u></span></a><span style=\"color:#000000\"> (noradrenalina) y </span><a href=\"https://selfhacked.com/blog/need-know-cortisol-health-effects/\" style=\"text-decoration:none\"><span style=\"color:#1155cc\"><u>cortisol</u></span></a><span style=\"color:#000000\">. Estas son las tres principales hormonas del estr&eacute;s [</span><a href=\"https://www.ncbi.nlm.nih.gov/books/NBK541120/\" style=\"text-decoration:none\"><span style=\"color:#1155cc\"><u>R</u></span></a><span style=\"color:#000000\">].</span></p>\r\n",
       "\r\n",
       "<p>&nbsp;</p>\r\n",
       "\r\n",
       "<p><span style=\"color:#000000\"><strong>Se supone que la respuesta al estr&eacute;s prepara su cuerpo para el peligro</strong></span><span style=\"color:#000000\">. Disminuye la inmunidad, la digesti&oacute;n y la recuperaci&oacute;n, por lo que hay m&aacute;s energ&iacute;a disponible para la reacci&oacute;n de &quot;lucha o huida&quot;. Una vez pasado el peligro, el cuerpo vuelve a la normalidad [</span><a href=\"https://www.ncbi.nlm.nih.gov/books/NBK541120/\" style=\"text-decoration:none\"><span style=\"color:#1155cc\"><u>R</u></span></a><span style=\"color:#000000\">].</span></p>\r\n",
       "\r\n",
       "<p>&nbsp;</p>\r\n",
       "\r\n",
       "<p><span style=\"color:#000000\">En otras palabras, </span><span style=\"color:#000000\"><strong>es natural sentirse estresado algunas veces</strong></span><span style=\"color:#000000\">. El estr&eacute;s solo se convierte en un problema cuando comienza a interferir con su vida diaria [</span><a href=\"https://www.mayoclinic.org/healthy-lifestyle/stress-management/basics/stress-basics/hlv-20049495\" style=\"text-decoration:none\"><span style=\"color:#1155cc\"><u>R</u></span></a><span style=\"color:#000000\">].</span></p>\r\n",
       "\r\n",
       "<p>&nbsp;</p>\r\n",
       "\r\n",
       "<p><span style=\"color:#000000\">Esto se debe a que el estr&eacute;s intenso o prolongado podr&iacute;a contribuir a [</span><a href=\"https://www.ncbi.nlm.nih.gov/pmc/articles/PMC5579396/\" style=\"text-decoration:none\"><span style=\"color:#1155cc\"><u>R</u></span></a><span style=\"color:#000000\">, </span><a href=\"https://www.ncbi.nlm.nih.gov/pmc/articles/PMC2568977/\" style=\"text-decoration:none\"><span style=\"color:#1155cc\"><u>R</u></span></a><span style=\"color:#000000\">]:</span></p>\r\n",
       "\r\n",
       "<ul>\r\n",
       "\t<li style=\"list-style-type:disc\"><span style=\"color:#000000\">Depresi&oacute;n</span></li>\r\n",
       "\t<li style=\"list-style-type:disc\"><span style=\"color:#000000\">Ansiedad</span></li>\r\n",
       "\t<li style=\"list-style-type:disc\"><span style=\"color:#000000\">Problemas de memoria</span></li>\r\n",
       "\t<li style=\"list-style-type:disc\"><span style=\"color:#000000\">Infecciones</span></li>\r\n",
       "\t<li style=\"list-style-type:disc\"><span style=\"color:#000000\">Problemas del coraz&oacute;n</span></li>\r\n",
       "\t<li style=\"list-style-type:disc\"><span style=\"color:#000000\">Problemas intestinales</span></li>\r\n",
       "</ul>\r\n",
       "\r\n",
       "<p>&nbsp;</p>\r\n",
       "\r\n",
       "<p><span style=\"color:#000000\"><strong>Sin embargo, no todo el mundo responde al estr&eacute;s de la misma manera</strong></span><span style=\"color:#000000\">. Algunas personas parecen trabajar mejor bajo presi&oacute;n. Otras necesitan de un ambiente mucho m&aacute;s tranquilo para estar en su mejor momento [</span><a href=\"https://www.ncbi.nlm.nih.gov/pmc/articles/PMC6301766/\" style=\"text-decoration:none\"><span style=\"color:#1155cc\"><u>R</u></span></a><span style=\"color:#000000\">].</span></p>\r\n",
       "\r\n",
       "<p>&nbsp;</p>\r\n",
       "\r\n",
       "<p><span style=\"color:#000000\"><strong>Hasta el 45% de las diferencias en la forma en que percibimos el estr&eacute;s podr&iacute;an atribuirse a la gen&eacute;tica</strong></span><span style=\"color:#000000\">. Los genes implicados influyen en [</span><a href=\"https://pubmed.ncbi.nlm.nih.gov/16393364/\" style=\"text-decoration:none\"><span style=\"color:#1155cc\"><u>R</u></span></a><span style=\"color:#000000\">, </span><a href=\"https://www.ncbi.nlm.nih.gov/pmc/articles/PMC3181835/\" style=\"text-decoration:none\"><span style=\"color:#1155cc\"><u>R</u></span></a><span style=\"color:#000000\">, </span><a href=\"https://www.ncbi.nlm.nih.gov/pmc/articles/PMC6301766/\" style=\"text-decoration:none\"><span style=\"color:#1155cc\"><u>R</u></span></a><span style=\"color:#000000\">]:</span></p>\r\n",
       "\r\n",
       "<ul>\r\n",
       "\t<li style=\"list-style-type:disc\"><span style=\"color:#000000\">Hormonas del estr&eacute;s como el cortisol (</span><a href=\"https://selfdecode.com/gene/nr3c1/\" style=\"text-decoration:none\"><span style=\"color:#1155cc\"><em><u>NR3C1</u></em></span></a><span style=\"color:#000000\">, </span><a href=\"https://selfdecode.com/gene/ace/\" style=\"text-decoration:none\"><span style=\"color:#1155cc\"><em><u>ACE</u></em></span></a><span style=\"color:#000000\">, </span><a href=\"https://selfdecode.com/gene/znf366/\" style=\"text-decoration:none\"><span style=\"color:#1155cc\"><em><u>ZNF366</u></em></span></a><span style=\"color:#000000\">)</span></li>\r\n",
       "\t<li style=\"list-style-type:disc\"><span style=\"color:#000000\">Sustancias qu&iacute;micas cerebrales relajantes (</span><a href=\"https://selfdecode.com/gene/gabra6/\" style=\"text-decoration:none\"><span style=\"color:#1155cc\"><em><u>GABRA6</u></em></span></a><span style=\"color:#000000\">, </span><a href=\"https://selfdecode.com/gene/oprm1/\" style=\"text-decoration:none\"><span style=\"color:#1155cc\"><em><u>OPRM1</u></em></span></a><span style=\"color:#000000\">)</span></li>\r\n",
       "\t<li style=\"list-style-type:disc\"><span style=\"color:#000000\">Funci&oacute;n cerebral (</span><a href=\"https://selfdecode.com/gene/bdnf/\" style=\"text-decoration:none\"><span style=\"color:#1155cc\"><em><u>BDNF</u></em></span></a><span style=\"color:#000000\">)</span></li>\r\n",
       "</ul><br>\n",
       "<br>\n",
       "<h4>Recommendations</h4>"
      ],
      "text/plain": [
       "<IPython.core.display.HTML object>"
      ]
     },
     "metadata": {},
     "output_type": "display_data"
    },
    {
     "data": {
      "text/html": [
       "<h5>Psicoterapia</h5>\n",
       "Consulte con su médico sobre la psicoterapia.<br>\n",
       "<table>\n",
       "<tr>\n",
       "<th>Type</th>\n",
       "<th>Effect</th>\n",
       "<th>Evidence</th>\n",
       "</tr>\n",
       "<tr>\n",
       "<td>lifestyle</td>\n",
       "<td>0.8</td>\n",
       "<td>1.0</td>\n",
       "</tr>\n",
       "</table>\n",
       "<p><span style=\"color:#000000\"><strong>La psicoterapia (terapia de conversaci&oacute;n) implica hablar sobre su salud con un terapeuta profesional</strong></span><span style=\"color:#000000\">. Puede ayudar a mejorar la forma en la que reacciona frente a determinadas experiencias [</span><a href=\"https://www.ncbi.nlm.nih.gov/pmc/articles/PMC5509639/\" style=\"text-decoration:none\"><span style=\"color:#1155cc\"><u>R</u></span></a><span style=\"color:#000000\">, </span><a href=\"https://www.ncbi.nlm.nih.gov/pmc/articles/PMC6448000/\" style=\"text-decoration:none\"><span style=\"color:#1155cc\"><u>R</u></span></a><span style=\"color:#000000\">].</span></p>\r\n",
       "\r\n",
       "<p>&nbsp;</p>\r\n",
       "\r\n",
       "<p><span style=\"color:#000000\"><strong>La psicoterapia es una gran manera de mejorar muchas enfermedades, </strong></span><span style=\"color:#000000\">que incluyen [</span><a href=\"https://www.ncbi.nlm.nih.gov/pmc/articles/PMC6448000/\" style=\"text-decoration:none\"><span style=\"color:#1155cc\"><u>R</u></span></a><span style=\"color:#000000\">, </span><a href=\"https://www.ncbi.nlm.nih.gov/pmc/articles/PMC5509639/\" style=\"text-decoration:none\"><span style=\"color:#1155cc\"><u>R</u></span></a><span style=\"color:#000000\">, </span><a href=\"https://www.mayoclinic.org/tests-procedures/cognitive-behavioral-therapy/about/pac-20384610\" style=\"text-decoration:none\"><span style=\"color:#1155cc\"><u>R</u></span></a><span style=\"color:#000000\">, </span><a href=\"https://pubmed.ncbi.nlm.nih.gov/11349476/\" style=\"text-decoration:none\"><span style=\"color:#1155cc\"><u>R</u></span></a><span style=\"color:#000000\">]:</span></p>\r\n",
       "\r\n",
       "<ul>\r\n",
       "\t<li style=\"list-style-type:disc\"><span style=\"color:#000000\">Depresi&oacute;n</span></li>\r\n",
       "\t<li style=\"list-style-type:disc\"><span style=\"color:#000000\">Trastornos de ansiedad</span></li>\r\n",
       "\t<li style=\"list-style-type:disc\"><span style=\"color:#000000\">TEPT</span></li>\r\n",
       "\t<li style=\"list-style-type:disc\"><span style=\"color:#000000\">TOC</span></li>\r\n",
       "\t<li style=\"list-style-type:disc\"><span style=\"color:#000000\">Trastorno por abuso de sustancias</span></li>\r\n",
       "\t<li style=\"list-style-type:disc\"><span style=\"color:#000000\">Trastorno bipolar</span></li>\r\n",
       "</ul>\r\n",
       "\r\n",
       "<p><br />\r\n",
       "<span style=\"color:#000000\"><strong>La terapia cognitivo-conductual (TCC)</strong></span><span style=\"color:#000000\"> es un tipo de psicoterapia. La TCC tiene como objetivo cambiar la forma en la que piensa sobre su vida y sobre usted mismo. Mediante la TCC, un terapeuta puede ayudarlo a desarrollar estrategias de afrontamiento saludables [</span><a href=\"https://www.mayoclinic.org/tests-procedures/cognitive-behavioral-therapy/about/pac-20384610\" style=\"text-decoration:none\"><span style=\"color:#1155cc\"><u>R</u></span></a><span style=\"color:#000000\">].</span></p><br>\n"
      ],
      "text/plain": [
       "<IPython.core.display.HTML object>"
      ]
     },
     "metadata": {},
     "output_type": "display_data"
    },
    {
     "data": {
      "text/html": [
       "<h5>Pasiflora Morada</h5>\n",
       "Considere usar suplementos con pasiflora morada.<br>\n",
       "<table>\n",
       "<tr>\n",
       "<th>Type</th>\n",
       "<th>Effect</th>\n",
       "<th>Evidence</th>\n",
       "</tr>\n",
       "<tr>\n",
       "<td>supplement</td>\n",
       "<td>0.6</td>\n",
       "<td>0.6</td>\n",
       "</tr>\n",
       "</table>\n",
       "<p><span style=\"color:#000000\">La </span><a href=\"https://content.selfdecode.com/blog/passion-flower-benefits/\" style=\"text-decoration:none\"><span style=\"color:#1155cc\"><u>pasiflora</u></span></a><span style=\"color:#000000\"> morada (</span><span style=\"color:#000000\"><em>Passiflora incarnata) </em></span><span style=\"color:#000000\">es</span><span style=\"color:#000000\"><em> </em></span><span style=\"color:#000000\">una planta trepadora usada en la medicina tradicional [</span><a href=\"https://nccih.nih.gov/health/passionflower\" style=\"text-decoration:none\"><span style=\"color:#1155cc\"><u>R</u></span></a><span style=\"color:#000000\">].</span></p>\r\n",
       "\r\n",
       "<p><br />\r\n",
       "<span style=\"color:#000000\">Esta planta es rica en compuestos que relajan la mente. </span><span style=\"color:#000000\"><strong>Podr&iacute;a ayudar con los problemas para dormir, estr&eacute;s y ansiedad </strong></span><span style=\"color:#000000\">[</span><a href=\"https://pubmed.ncbi.nlm.nih.gov/28407638/\" style=\"text-decoration:none\"><span style=\"color:#1155cc\"><u>R</u></span></a><span style=\"color:#000000\">, </span><a href=\"https://www.ncbi.nlm.nih.gov/pmc/articles/PMC5217504/\" style=\"text-decoration:none\"><span style=\"color:#1155cc\"><u>R</u></span></a><span style=\"color:#000000\">, </span><a href=\"https://www.ncbi.nlm.nih.gov/pubmed/21294203/\" style=\"text-decoration:none\"><span style=\"color:#1155cc\"><u>R</u></span></a><span style=\"color:#000000\">]. </span></p><br>\n"
      ],
      "text/plain": [
       "<IPython.core.display.HTML object>"
      ]
     },
     "metadata": {},
     "output_type": "display_data"
    },
    {
     "data": {
      "text/html": [
       "<h5>L-Teanina</h5>\n",
       "Considere tomar suplementos con L-teanina.<br>\n",
       "<table>\n",
       "<tr>\n",
       "<th>Type</th>\n",
       "<th>Effect</th>\n",
       "<th>Evidence</th>\n",
       "</tr>\n",
       "<tr>\n",
       "<td>supplement</td>\n",
       "<td>0.6</td>\n",
       "<td>0.4</td>\n",
       "</tr>\n",
       "</table>\n",
       "<p><span style=\"color:#000000\"><strong>La L-teanina es un amino&aacute;cido que se encuentra en el t&eacute; negro y el </strong></span><a href=\"http://selfhacked.com/blog/green-tea/\" style=\"text-decoration:none\"><span style=\"color:#1155cc\"><strong><u>t&eacute; verde</u></strong></span></a><span style=\"color:#000000\"> [</span><a href=\"https://www.ncbi.nlm.nih.gov/pubmed/18296328\" style=\"text-decoration:none\"><span style=\"color:#1155cc\"><u>R</u></span></a><span style=\"color:#000000\">].</span></p>\r\n",
       "\r\n",
       "<p>&nbsp;</p>\r\n",
       "\r\n",
       "<p><span style=\"color:#000000\">Las personas toman L-teanina como suplemento para [</span><a href=\"https://www.ncbi.nlm.nih.gov/pmc/articles/PMC6836118/\" style=\"text-decoration:none\"><span style=\"color:#1155cc\"><u>R</u></span></a><span style=\"color:#000000\">, </span><a href=\"https://www.ncbi.nlm.nih.gov/pmc/articles/PMC3049752/\" style=\"text-decoration:none\"><span style=\"color:#1155cc\"><u>R</u></span></a><span style=\"color:#000000\">, </span><a href=\"https://pubmed.ncbi.nlm.nih.gov/24051231/\" style=\"text-decoration:none\"><span style=\"color:#1155cc\"><u>R</u></span></a><span style=\"color:#000000\">, </span><a href=\"https://pubmed.ncbi.nlm.nih.gov/28566632/\" style=\"text-decoration:none\"><span style=\"color:#1155cc\"><u>R</u></span></a><span style=\"color:#000000\">]:</span></p>\r\n",
       "\r\n",
       "<ul>\r\n",
       "\t<li style=\"list-style-type:disc\"><span style=\"color:#000000\">Mejorar la cognici&oacute;n</span></li>\r\n",
       "\t<li style=\"list-style-type:disc\"><span style=\"color:#000000\">Aumentar la inmunidad</span></li>\r\n",
       "\t<li style=\"list-style-type:disc\"><span style=\"color:#000000\">Aliviar la ansiedad y el estr&eacute;s</span></li>\r\n",
       "</ul><br>\n"
      ],
      "text/plain": [
       "<IPython.core.display.HTML object>"
      ]
     },
     "metadata": {},
     "output_type": "display_data"
    },
    {
     "data": {
      "text/html": [
       "<h5>Valeriana</h5>\n",
       "Considere tomar suplementos con valeriana.<br>\n",
       "<table>\n",
       "<tr>\n",
       "<th>Type</th>\n",
       "<th>Effect</th>\n",
       "<th>Evidence</th>\n",
       "</tr>\n",
       "<tr>\n",
       "<td>supplement</td>\n",
       "<td>0.6</td>\n",
       "<td>0.4</td>\n",
       "</tr>\n",
       "</table>\n",
       "<p><span style=\"color:#000000\"><strong>La </strong></span><a href=\"https://www.selfhacked.com/blog/valerian-root/\" style=\"text-decoration:none\"><span style=\"color:#1155cc\"><strong><u>ra&iacute;z de valeriana</u></strong></span></a><span style=\"color:#000000\"><strong> es una hierba medicinal con propiedades relajantes</strong></span><span style=\"color:#000000\">. Las personas la utilizan para mejorar [</span><a href=\"https://ods.od.nih.gov/factsheets/Valerian-HealthProfessional/\" style=\"text-decoration:none\"><span style=\"color:#1155cc\"><u>R</u></span></a><span style=\"color:#000000\">, </span><a href=\"https://pubmed.ncbi.nlm.nih.gov/17145239/\" style=\"text-decoration:none\"><span style=\"color:#1155cc\"><u>R</u></span></a><span style=\"color:#000000\">, </span><a href=\"https://www.ncbi.nlm.nih.gov/pmc/articles/PMC5564656/\" style=\"text-decoration:none\"><span style=\"color:#1155cc\"><u>R</u></span></a><span style=\"color:#000000\">, </span><a href=\"https://pubmed.ncbi.nlm.nih.gov/17054208/\" style=\"text-decoration:none\"><span style=\"color:#1155cc\"><u>R</u></span></a><span style=\"color:#000000\">, </span><a href=\"https://pubmed.ncbi.nlm.nih.gov/32523884/\" style=\"text-decoration:none\"><span style=\"color:#1155cc\"><u>R</u></span></a><span style=\"color:#000000\">]:</span></p>\r\n",
       "\r\n",
       "<ul>\r\n",
       "\t<li style=\"list-style-type:disc\"><span style=\"color:#000000\">Sue&ntilde;o</span></li>\r\n",
       "\t<li style=\"list-style-type:disc\"><span style=\"color:#000000\">Convulsiones</span></li>\r\n",
       "\t<li style=\"list-style-type:disc\"><span style=\"color:#000000\">Ansiedad</span></li>\r\n",
       "\t<li style=\"list-style-type:disc\"><span style=\"color:#000000\">Dolores de cabeza</span></li>\r\n",
       "</ul><br>\n"
      ],
      "text/plain": [
       "<IPython.core.display.HTML object>"
      ]
     },
     "metadata": {},
     "output_type": "display_data"
    },
    {
     "data": {
      "text/html": [
       "<h5>Ejercicio</h5>\n",
       "Realice ejercicio con regularidad.<br>\n",
       "<table>\n",
       "<tr>\n",
       "<th>Type</th>\n",
       "<th>Effect</th>\n",
       "<th>Evidence</th>\n",
       "</tr>\n",
       "<tr>\n",
       "<td>lifestyle</td>\n",
       "<td>0.4</td>\n",
       "<td>0.6</td>\n",
       "</tr>\n",
       "</table>\n",
       "<p style=\"text-align:justify\"><span style=\"color:#000000\"><strong>El</strong></span><a href=\"https://selfhacked.com/blog/top-14-proven-health-benefits-exercise-references-mechanisms/\" style=\"text-decoration:none\"><span style=\"color:#000000\"><strong> </strong></span><span style=\"color:#1155cc\"><strong><u>ejercicio</u></strong></span></a><span style=\"color:#000000\"> </span><span style=\"color:#000000\"><strong>puede hacer maravillas por su salud</strong></span><span style=\"color:#000000\">. Puede ayudarlo a perder peso, optimizar la salud de su coraz&oacute;n, mejorar su estado de &aacute;nimo y m&aacute;s [</span><a href=\"https://medlineplus.gov/benefitsofexercise.html\" style=\"text-decoration:none\"><span style=\"color:#1155cc\"><u>R</u></span></a><span style=\"color:#000000\">].</span></p>\r\n",
       "\r\n",
       "<p><br />\r\n",
       "<span style=\"color:#000000\">Existen diversas maneras de mantenerse activo. Puede caminar, correr, nadar, bailar o practicar deportes en equipo </span><span style=\"color:#000000\"><strong>&iexcl;Todo cuenta y nunca es tarde para empezar!</strong></span></p><br>\n"
      ],
      "text/plain": [
       "<IPython.core.display.HTML object>"
      ]
     },
     "metadata": {},
     "output_type": "display_data"
    },
    {
     "data": {
      "text/html": [
       "<h5>Pasar Tiempo en la Naturaleza</h5>\n",
       "Pase más tiempo en la naturaleza.<br>\n",
       "<table>\n",
       "<tr>\n",
       "<th>Type</th>\n",
       "<th>Effect</th>\n",
       "<th>Evidence</th>\n",
       "</tr>\n",
       "<tr>\n",
       "<td>lifestyle</td>\n",
       "<td>0.6</td>\n",
       "<td>0.4</td>\n",
       "</tr>\n",
       "</table>\n",
       "<p><span style=\"color:#000000\"><strong>Pasar m&aacute;s de 2 horas al aire libre cada semana est&aacute; relacionado con una mejor salud y bienestar</strong></span><span style=\"color:#000000\"> [</span><a href=\"https://www.ncbi.nlm.nih.gov/pmc/articles/PMC6565732/\" style=\"text-decoration:none\"><span style=\"color:#1155cc\"><u>R</u></span></a><span style=\"color:#000000\">].&nbsp;</span></p>\r\n",
       "\r\n",
       "<p>&nbsp;</p>\r\n",
       "\r\n",
       "<p><span style=\"color:#000000\">Las personas que pasan m&aacute;s tiempo en la naturaleza tienden a tener menores probabilidades de [</span><a href=\"https://pubmed.ncbi.nlm.nih.gov/24771608/\" style=\"text-decoration:none\"><span style=\"color:#1155cc\"><u>R</u></span></a><span style=\"color:#000000\">, </span><a href=\"https://pubmed.ncbi.nlm.nih.gov/24026544/\" style=\"text-decoration:none\"><span style=\"color:#1155cc\"><u>R</u></span></a><span style=\"color:#000000\">, </span><a href=\"https://www.ncbi.nlm.nih.gov/pmc/articles/PMC4497305/\" style=\"text-decoration:none\"><span style=\"color:#1155cc\"><u>R</u></span></a><span style=\"color:#000000\">, </span><a href=\"https://pubmed.ncbi.nlm.nih.gov/23587672/\" style=\"text-decoration:none\"><span style=\"color:#1155cc\"><u>R</u></span></a><span style=\"color:#000000\">]:</span></p>\r\n",
       "\r\n",
       "<ul>\r\n",
       "\t<li style=\"list-style-type:disc\"><span style=\"color:#000000\">Obesidad</span></li>\r\n",
       "\t<li style=\"list-style-type:disc\"><span style=\"color:#000000\">Diabetes</span></li>\r\n",
       "\t<li style=\"list-style-type:disc\"><span style=\"color:#000000\">Enfermedades cardiovasculares</span></li>\r\n",
       "\t<li style=\"list-style-type:disc\"><span style=\"color:#000000\">Enfermedades de salud mental</span></li>\r\n",
       "</ul>\r\n",
       "\r\n",
       "<p>&nbsp;</p>\r\n",
       "\r\n",
       "<p><span style=\"color:#000000\">Para estar en contacto con la naturaleza, usted puede [</span><a href=\"https://pubmed.ncbi.nlm.nih.gov/29604546/\" style=\"text-decoration:none\"><span style=\"color:#1155cc\"><u>R</u></span></a><span style=\"color:#000000\">, </span><a href=\"https://pubmed.ncbi.nlm.nih.gov/27199417/\" style=\"text-decoration:none\"><span style=\"color:#1155cc\"><u>R</u></span></a><span style=\"color:#000000\">]:</span></p>\r\n",
       "\r\n",
       "<ul>\r\n",
       "\t<li style=\"list-style-type:disc\"><span style=\"color:#000000\">Ir a caminar</span></li>\r\n",
       "\t<li style=\"list-style-type:disc\"><span style=\"color:#000000\">Ir en bicicleta o acampar</span></li>\r\n",
       "\t<li style=\"list-style-type:disc\"><span style=\"color:#000000\">Estar en un jard&iacute;n</span></li>\r\n",
       "\t<li style=\"list-style-type:disc\"><span style=\"color:#000000\">Visitar un parque</span></li>\r\n",
       "</ul><br>\n"
      ],
      "text/plain": [
       "<IPython.core.display.HTML object>"
      ]
     },
     "metadata": {},
     "output_type": "display_data"
    },
    {
     "data": {
      "text/html": [
       "<h5>Melatonina</h5>\n",
       "Considere tomar suplementos con melatonina.<br>\n",
       "<table>\n",
       "<tr>\n",
       "<th>Type</th>\n",
       "<th>Effect</th>\n",
       "<th>Evidence</th>\n",
       "</tr>\n",
       "<tr>\n",
       "<td>supplement</td>\n",
       "<td>0.4</td>\n",
       "<td>0.6</td>\n",
       "</tr>\n",
       "</table>\n",
       "<p><span style=\"color:#000000\"><strong>La </strong></span><a href=\"https://selfhacked.com/blog/melatonin/\" style=\"text-decoration:none\"><span style=\"color:#1155cc\"><strong><u>melatonina</u></strong></span></a><span style=\"color:#000000\"><strong> es una hormona importante que promueve el sue&ntilde;o. </strong></span><span style=\"color:#000000\">La luz por la noche, especialmente la luz brillante, anula la producci&oacute;n de melatonina [</span><a href=\"https://www.ncbi.nlm.nih.gov/pmc/articles/PMC3047226/\" style=\"text-decoration:none\"><span style=\"color:#1155cc\"><u>R</u></span></a><span style=\"color:#000000\">, </span><a href=\"https://www.ncbi.nlm.nih.gov/pmc/articles/PMC3462291\" style=\"text-decoration:none\"><span style=\"color:#1155cc\"><u>R</u></span></a><span style=\"color:#000000\">].</span></p>\r\n",
       "\r\n",
       "<p><br />\r\n",
       "<span style=\"color:#000000\">Su cuerpo produce melatonina por s&iacute; mismo. Sin embargo, algunas personas toman suplementos de melatonina para ayudarles a dormir. Podr&iacute;a ayudar en particular con el jet lag [</span><a href=\"https://www.ncbi.nlm.nih.gov/pubmed/15582288\" style=\"text-decoration:none\"><span style=\"color:#1155cc\"><u>R</u></span></a><span style=\"color:#000000\">, </span><a href=\"https://www.ncbi.nlm.nih.gov/pmc/articles/PMC3656905/\" style=\"text-decoration:none\"><span style=\"color:#1155cc\"><u>R</u></span></a><span style=\"color:#000000\">, </span><a href=\"https://pubmed.ncbi.nlm.nih.gov/12076414/\" style=\"text-decoration:none\"><span style=\"color:#1155cc\"><u>R</u></span></a><span style=\"color:#000000\">].</span></p><br>\n"
      ],
      "text/plain": [
       "<IPython.core.display.HTML object>"
      ]
     },
     "metadata": {},
     "output_type": "display_data"
    },
    {
     "data": {
      "text/html": [
       "<h5>Rodiola</h5>\n",
       "Considere tomar suplementos con rodiola.<br>\n",
       "<table>\n",
       "<tr>\n",
       "<th>Type</th>\n",
       "<th>Effect</th>\n",
       "<th>Evidence</th>\n",
       "</tr>\n",
       "<tr>\n",
       "<td>supplement</td>\n",
       "<td>0.4</td>\n",
       "<td>0.4</td>\n",
       "</tr>\n",
       "</table>\n",
       "<p><span style=\"color:#000000\">La </span><a href=\"https://selfhacked.com/blog/rhodiola/\" style=\"text-decoration:none\"><span style=\"color:#1155cc\"><u>rodiola</u></span></a><span style=\"color:#000000\"> (</span><span style=\"color:#000000\"><em>Rhodiola rosea</em></span><span style=\"color:#000000\">) es una planta medicinal que crece en las monta&ntilde;as de Europa oriental y Asia [</span><a href=\"https://pubmed.ncbi.nlm.nih.gov/20378318/\" style=\"text-decoration:none\"><span style=\"color:#1155cc\"><u>R</u></span></a><span style=\"color:#000000\">].</span></p>\r\n",
       "\r\n",
       "<p>&nbsp;</p>\r\n",
       "\r\n",
       "<p><span style=\"color:#000000\"><strong>La rodiola es un </strong></span><span style=\"color:#000000\"><strong><em>adapt&oacute;geno</em></strong></span><span style=\"color:#000000\"><strong>, lo que significa que supuestamente lo ayuda a adaptarse al estr&eacute;s.</strong></span><span style=\"color:#000000\"> Seg&uacute;n investigaciones preliminares, esta hierba podr&iacute;a ayudar con [</span><a href=\"https://www.ncbi.nlm.nih.gov/pmc/articles/PMC3991026/\" style=\"text-decoration:none\"><span style=\"color:#1155cc\"><u>R</u></span></a><span style=\"color:#000000\">, </span><a href=\"https://pubmed.ncbi.nlm.nih.gov/11081987/\" style=\"text-decoration:none\"><span style=\"color:#1155cc\"><u>R</u></span></a><span style=\"color:#000000\">, </span><a href=\"https://www.ncbi.nlm.nih.gov/pmc/articles/PMC5370380/\" style=\"text-decoration:none\"><span style=\"color:#1155cc\"><u>R</u></span></a><span style=\"color:#000000\">, </span><a href=\"https://pubmed.ncbi.nlm.nih.gov/27013349/\" style=\"text-decoration:none\"><span style=\"color:#1155cc\"><u>R</u></span></a><span style=\"color:#000000\">]:</span></p>\r\n",
       "\r\n",
       "<ul>\r\n",
       "\t<li style=\"list-style-type:disc\"><span style=\"color:#000000\">Fatiga</span></li>\r\n",
       "\t<li style=\"list-style-type:disc\"><span style=\"color:#000000\">Agotamiento</span></li>\r\n",
       "\t<li style=\"list-style-type:disc\"><span style=\"color:#000000\">Des&aacute;nimo</span></li>\r\n",
       "</ul><br>\n"
      ],
      "text/plain": [
       "<IPython.core.display.HTML object>"
      ]
     },
     "metadata": {},
     "output_type": "display_data"
    },
    {
     "data": {
      "text/html": [
       "<h5>Técnicas de Relajación</h5>\n",
       "Practique técnicas de relajación.<br>\n",
       "<table>\n",
       "<tr>\n",
       "<th>Type</th>\n",
       "<th>Effect</th>\n",
       "<th>Evidence</th>\n",
       "</tr>\n",
       "<tr>\n",
       "<td>lifestyle</td>\n",
       "<td>0.8</td>\n",
       "<td>0.8</td>\n",
       "</tr>\n",
       "</table>\n",
       "<p style=\"text-align:justify\"><span style=\"color:#000000\"><strong>Todos nos estresamos de vez en cuando.</strong></span></p>\r\n",
       "\r\n",
       "<p>&nbsp;</p>\r\n",
       "\r\n",
       "<p style=\"text-align:justify\"><span style=\"color:#000000\">El </span><a href=\"https://selfhacked.com/blog/63-factors-raising-stress-cortisol-level-backed-science/\" style=\"text-decoration:none\"><span style=\"color:#1155cc\"><u>estr&eacute;s</u></span></a><span style=\"color:#000000\"> tiene un lado positivo &mdash; puede ayudarlo a lidiar con un desaf&iacute;o o evitar el peligro. Sin embargo,</span><span style=\"color:#000000\"><strong> no es saludable estar estresado durante un tiempo prolongado</strong></span><span style=\"color:#000000\"> [</span><a href=\"https://www.ncbi.nlm.nih.gov/books/NBK541120/\" style=\"text-decoration:none\"><span style=\"color:#1155cc\"><u>R</u></span></a><span style=\"color:#000000\">, </span><a href=\"https://www.ncbi.nlm.nih.gov/pmc/articles/PMC2568977/\" style=\"text-decoration:none\"><span style=\"color:#1155cc\"><u>R</u></span></a><span style=\"color:#000000\">].</span></p>\r\n",
       "\r\n",
       "<p>&nbsp;</p>\r\n",
       "\r\n",
       "<p style=\"text-align:justify\"><span style=\"color:#000000\"><strong>Las t&eacute;cnicas de relajaci&oacute;n, como el </strong></span><a href=\"https://selfhacked.com/blog/health-benefits-yoga/\" style=\"text-decoration:none\"><span style=\"color:#1155cc\"><strong><u>yoga</u></strong></span></a><span style=\"color:#000000\"><strong> y la </strong></span><a href=\"https://selfhacked.com/blog/meditation/\" style=\"text-decoration:none\"><span style=\"color:#1155cc\"><strong><u>meditaci&oacute;n</u></strong></span></a><span style=\"color:#000000\"><strong>, pueden aliviar el estr&eacute;s de diferentes formas.</strong></span><span style=\"color:#000000\"> La mayor&iacute;a de ellas se centran en respirar y ayudan a deshacerse de los pensamientos y emociones negativas [</span><a href=\"https://www.mayoclinic.org/healthy-lifestyle/stress-management/in-depth/relaxation-technique/art-20045368\" style=\"text-decoration:none\"><span style=\"color:#1155cc\"><u>R</u></span></a><span style=\"color:#000000\">].</span></p>\r\n",
       "\r\n",
       "<p>&nbsp;</p>\r\n",
       "\r\n",
       "<p style=\"text-align:justify\"><span style=\"color:#000000\">Las personas usan t&eacute;cnicas de relajaci&oacute;n para mejorar enfermedades como [</span><a href=\"https://www.ncbi.nlm.nih.gov/books/NBK513238/\" style=\"text-decoration:none\"><span style=\"color:#1155cc\"><u>R</u></span></a><span style=\"color:#000000\">, </span><a href=\"https://www.mayoclinic.org/healthy-lifestyle/consumer-health/in-depth/mindfulness-exercises/art-20046356\" style=\"text-decoration:none\"><span style=\"color:#1155cc\"><u>R</u></span></a><span style=\"color:#000000\">, </span><a href=\"https://pubmed.ncbi.nlm.nih.gov/32406186/\" style=\"text-decoration:none\"><span style=\"color:#1155cc\"><u>R</u></span></a><span style=\"color:#000000\">]:</span></p>\r\n",
       "\r\n",
       "<ul>\r\n",
       "\t<li style=\"list-style-type:disc\"><span style=\"color:#000000\">Ansiedad&nbsp;</span></li>\r\n",
       "\t<li style=\"list-style-type:disc\"><span style=\"color:#000000\">Depresi&oacute;n&nbsp;</span></li>\r\n",
       "\t<li style=\"list-style-type:disc\"><span style=\"color:#000000\">Dolor cr&oacute;nico</span></li>\r\n",
       "</ul><br>\n"
      ],
      "text/plain": [
       "<IPython.core.display.HTML object>"
      ]
     },
     "metadata": {},
     "output_type": "display_data"
    },
    {
     "data": {
      "text/html": [
       "<h5>Triptófano</h5>\n",
       "Obtenga más triptófano de alimentos o suplementos.<br>\n",
       "<table>\n",
       "<tr>\n",
       "<th>Type</th>\n",
       "<th>Effect</th>\n",
       "<th>Evidence</th>\n",
       "</tr>\n",
       "<tr>\n",
       "<td>supplement</td>\n",
       "<td>0.4</td>\n",
       "<td>0.6</td>\n",
       "</tr>\n",
       "</table>\n",
       "<p><span style=\"color:#000000\">El </span><a href=\"https://selfhacked.com/blog/tryptophan-health-benefits-tryptophan-deficiency/\" style=\"text-decoration:none\"><span style=\"color:#1155cc\"><u>tript&oacute;fano</u></span></a><span style=\"color:#000000\"> es un amino&aacute;cido. Su cuerpo lo usa para producir prote&iacute;nas y algunas hormonas. </span><span style=\"color:#000000\"><strong>Los seres humanos no pueden producir tript&oacute;fano, por lo que debemos obtenerlo de alimentos ricos en prote&iacute;nas</strong></span><span style=\"color:#000000\"> [</span><a href=\"https://www.ncbi.nlm.nih.gov/books/NBK234922/\" style=\"text-decoration:none\"><span style=\"color:#1155cc\"><u>R</u></span></a><span style=\"color:#000000\">, </span><a href=\"https://www.ncbi.nlm.nih.gov/pmc/articles/PMC2908021/\" style=\"text-decoration:none\"><span style=\"color:#1155cc\"><u>R</u></span></a><span style=\"color:#000000\">].</span></p>\r\n",
       "\r\n",
       "<p>&nbsp;</p>\r\n",
       "\r\n",
       "<p><span style=\"color:#000000\">Su cuerpo utiliza el tript&oacute;fano para producir </span><a href=\"https://selfhacked.com/blog/serotonin-definition-function/\" style=\"text-decoration:none\"><span style=\"color:#1155cc\"><u>serotonina</u></span></a><span style=\"color:#000000\"> y </span><a href=\"https://selfhacked.com/blog/melatonin-benefits/\" style=\"text-decoration:none\"><span style=\"color:#1155cc\"><u>melatonina</u></span></a><span style=\"color:#000000\">. </span><span style=\"color:#000000\"><strong>Estos qu&iacute;micos cerebrales son importantes para el estado de &aacute;nimo y el sue&ntilde;o</strong></span><span style=\"color:#000000\"> [</span><a href=\"https://www.ncbi.nlm.nih.gov/pmc/articles/PMC2908021/\" style=\"text-decoration:none\"><span style=\"color:#1155cc\"><u>R</u></span></a><span style=\"color:#000000\">, </span><a href=\"https://www.ncbi.nlm.nih.gov/pmc/articles/PMC5102894/\" style=\"text-decoration:none\"><span style=\"color:#1155cc\"><u>R</u></span></a><span style=\"color:#000000\">].</span></p>\r\n",
       "\r\n",
       "<p>&nbsp;</p>\r\n",
       "\r\n",
       "<p><span style=\"color:#000000\">Un adulto promedio necesita por lo menos </span><span style=\"color:#000000\"><strong>250-425 mg</strong></span><span style=\"color:#000000\"> de tript&oacute;fano al d&iacute;a, que es la cantidad que puede obtener de [</span><a href=\"https://www.ncbi.nlm.nih.gov/pmc/articles/PMC2908021/\" style=\"text-decoration:none\"><span style=\"color:#1155cc\"><u>R</u></span></a><span style=\"color:#000000\">]:</span></p>\r\n",
       "\r\n",
       "<ul>\r\n",
       "\t<li style=\"list-style-type:disc\"><span style=\"color:#000000\">Medio kilo de pavo o pollo</span></li>\r\n",
       "\t<li style=\"list-style-type:disc\"><span style=\"color:#000000\">Medio litro de leche</span></li>\r\n",
       "\t<li style=\"list-style-type:disc\"><span style=\"color:#000000\">30 gramos de at&uacute;n enlatado</span></li>\r\n",
       "\t<li style=\"list-style-type:disc\"><span style=\"color:#000000\">150 gramos de avena</span></li>\r\n",
       "</ul>\r\n",
       "\r\n",
       "<p><br />\r\n",
       "<span style=\"color:#000000\">Otros alimentos con alto contenido de tript&oacute;fano son el </span><span style=\"color:#000000\"><strong>queso cheddar, el man&iacute;, las semillas de calabaza y los mariscos</strong></span><span style=\"color:#000000\">. La mayor&iacute;a de las personas obtienen suficiente tript&oacute;fano de su alimentaci&oacute;n, pero tambi&eacute;n hay suplementos disponibles [</span><a href=\"https://www.ncbi.nlm.nih.gov/pmc/articles/PMC2908021/\" style=\"text-decoration:none\"><span style=\"color:#1155cc\"><u>R</u></span></a><span style=\"color:#000000\">, </span><a href=\"https://fdc.nal.usda.gov/\" style=\"text-decoration:none\"><span style=\"color:#1155cc\"><u>R</u></span></a><span style=\"color:#000000\">].</span></p><br>\n"
      ],
      "text/plain": [
       "<IPython.core.display.HTML object>"
      ]
     },
     "metadata": {},
     "output_type": "display_data"
    },
    {
     "data": {
      "text/html": [
       "<h5>Omega-3</h5>\n",
       "Considere tomar suplementos con omega-3.<br>\n",
       "<table>\n",
       "<tr>\n",
       "<th>Type</th>\n",
       "<th>Effect</th>\n",
       "<th>Evidence</th>\n",
       "</tr>\n",
       "<tr>\n",
       "<td>supplement</td>\n",
       "<td>0.4</td>\n",
       "<td>0.4</td>\n",
       "</tr>\n",
       "</table>\n",
       "<p style=\"text-align:justify\"><span style=\"color:#000000\"><strong>Los </strong></span><a href=\"https://selfhacked.com/blog/fish-oil-top-22-science-based-health-benefits-of-fish-oil/\" style=\"text-decoration:none\"><span style=\"color:#1155cc\"><strong><u>&aacute;cidos grasos omega-3</u></strong></span></a><span style=\"color:#000000\"><strong> son algunas de las grasas m&aacute;s saludables que podemos consumir. Ayudan a reducir la inflamaci&oacute;n y protegen el coraz&oacute;n, el cerebro y los ojos.</strong></span><span style=\"color:#000000\"> Nuestros cuerpos producen menos omega-3 de los que necesitamos para una salud &oacute;ptima, por lo que es importante obtener los necesarios a trav&eacute;s de los alimentos o suplementos [</span><a href=\"https://ods.od.nih.gov/factsheets/Omega3Fatty%20AcidsandHealth-HealthProfessional/\" style=\"text-decoration:none\"><span style=\"color:#1155cc\"><u>R</u></span></a><span style=\"color:#000000\">, </span><a href=\"https://ods.od.nih.gov/factsheets/Omega3FattyAcids-HealthProfessional/\" style=\"text-decoration:none\"><span style=\"color:#1155cc\"><u>R</u></span></a><span style=\"color:#000000\">, </span><a href=\"https://www.ncbi.nlm.nih.gov/pmc/articles/PMC4404917/\" style=\"text-decoration:none\"><span style=\"color:#1155cc\"><u>R</u></span></a><span style=\"color:#000000\">].</span></p>\r\n",
       "\r\n",
       "<p>&nbsp;</p>\r\n",
       "\r\n",
       "<p style=\"text-align:justify\"><span style=\"color:#000000\">Existen tres tipos principales de omega-3: ALA, EPA y DHA. </span><span style=\"color:#000000\"><strong>El EPA y DHA son vitales para la cognici&oacute;n y salud mental</strong></span><span style=\"color:#000000\"> [</span><a href=\"https://ods.od.nih.gov/factsheets/Omega3FattyAcids-HealthProfessional/\" style=\"text-decoration:none\"><span style=\"color:#1155cc\"><u>R</u></span></a><span style=\"color:#000000\">, </span><a href=\"https://pubmed.ncbi.nlm.nih.gov/18072818/\" style=\"text-decoration:none\"><span style=\"color:#1155cc\"><u>R</u></span><span style=\"color:#000000\">]</span></a><span style=\"color:#000000\">.</span></p>\r\n",
       "\r\n",
       "<p>&nbsp;</p>\r\n",
       "\r\n",
       "<p style=\"text-align:justify\"><span style=\"color:#000000\"><strong>Los pescados azules son ricos en EPA y DHA</strong></span><span style=\"color:#000000\">. Estos incluyen [</span><a href=\"https://ods.od.nih.gov/factsheets/Omega3FattyAcids-HealthProfessional/\" style=\"text-decoration:none\"><span style=\"color:#1155cc\"><u>R</u></span></a><span style=\"color:#000000\">]:</span></p>\r\n",
       "\r\n",
       "<ul>\r\n",
       "\t<li style=\"list-style-type:disc\"><span style=\"color:#000000\">Salm&oacute;n</span></li>\r\n",
       "\t<li style=\"list-style-type:disc\"><span style=\"color:#000000\">At&uacute;n</span></li>\r\n",
       "\t<li style=\"list-style-type:disc\"><span style=\"color:#000000\">Arenque</span></li>\r\n",
       "\t<li style=\"list-style-type:disc\"><span style=\"color:#000000\">Sardinas</span></li>\r\n",
       "</ul>\r\n",
       "\r\n",
       "<p><br />\r\n",
       "<span style=\"color:#000000\">Para una protecci&oacute;n &oacute;ptima, trate de consumir al menos </span><span style=\"color:#000000\"><strong>dos porciones de pescados azules por semana</strong></span><span style=\"color:#000000\">. Los suplementos de aceite de pescado se encuentran disponibles para quienes no comen pescado habitualmente [</span><a href=\"https://ods.od.nih.gov/factsheets/Omega3FattyAcids-HealthProfessional/\" style=\"text-decoration:none\"><span style=\"color:#1155cc\"><u>R</u></span></a><span style=\"color:#000000\">].</span></p><br>\n"
      ],
      "text/plain": [
       "<IPython.core.display.HTML object>"
      ]
     },
     "metadata": {},
     "output_type": "display_data"
    },
    {
     "data": {
      "text/html": [
       "<h5>Masajes</h5>\n",
       "Considere recibir un masaje.<br>\n",
       "<table>\n",
       "<tr>\n",
       "<th>Type</th>\n",
       "<th>Effect</th>\n",
       "<th>Evidence</th>\n",
       "</tr>\n",
       "<tr>\n",
       "<td>lifestyle</td>\n",
       "<td>0.6</td>\n",
       "<td>0.6</td>\n",
       "</tr>\n",
       "</table>\n",
       "<p><span style=\"color:#000000\"><strong>Si alguna vez ha recibido un </strong></span><a href=\"https://selfhacked.com/blog/massage-health-benefits/\" style=\"text-decoration:none\"><span style=\"color:#1155cc\"><strong><u>masaje </u></strong></span></a><span style=\"color:#000000\"><strong>profesional, probablemente sepa cu&aacute;nto bien puede hacer</strong></span><span style=\"color:#000000\">. Los masajes pueden ayudar con [</span><a href=\"https://www.nccih.nih.gov/health/massage-therapy-what-you-need-to-know\" style=\"text-decoration:none\"><span style=\"color:#1155cc\"><u>R</u></span></a><span style=\"color:#000000\">, </span><a href=\"https://pubmed.ncbi.nlm.nih.gov/32977216/\" style=\"text-decoration:none\"><span style=\"color:#1155cc\"><u>R</u></span></a><span style=\"color:#000000\">, </span><a href=\"https://pubmed.ncbi.nlm.nih.gov/27025688/\" style=\"text-decoration:none\"><span style=\"color:#1155cc\"><u>R</u></span></a><span style=\"color:#000000\">]:</span></p>\r\n",
       "\r\n",
       "<ul>\r\n",
       "\t<li style=\"list-style-type:disc\"><span style=\"color:#000000\">Ansiedad</span></li>\r\n",
       "\t<li style=\"list-style-type:disc\"><span style=\"color:#000000\">Dolor</span></li>\r\n",
       "\t<li style=\"list-style-type:disc\"><span style=\"color:#000000\">Fatiga</span></li>\r\n",
       "</ul><br>\n"
      ],
      "text/plain": [
       "<IPython.core.display.HTML object>"
      ]
     },
     "metadata": {},
     "output_type": "display_data"
    },
    {
     "data": {
      "text/html": [
       "<h5>CBD</h5>\n",
       "Considere usar suplementos con CBD.<br>\n",
       "<table>\n",
       "<tr>\n",
       "<th>Type</th>\n",
       "<th>Effect</th>\n",
       "<th>Evidence</th>\n",
       "</tr>\n",
       "<tr>\n",
       "<td>drug</td>\n",
       "<td>0.6</td>\n",
       "<td>0.4</td>\n",
       "</tr>\n",
       "</table>\n",
       "<p><span style=\"color:#000000\"><strong>El </strong></span><a href=\"https://selfhacked.com/blog/cannabidiol-cbd/\" style=\"text-decoration:none\"><span style=\"color:#1155cc\"><strong><u>cannabidiol</u></strong></span></a><span style=\"color:#000000\"><strong> (CBD) es un compuesto que se encuentra en el cannabis</strong></span><span style=\"color:#000000\">. A diferencia de su primo THC, </span><span style=\"color:#000000\"><strong>el CBD no es psicoactivo y no puede hacerle &ldquo;volar&rdquo; o &ldquo;colocarse&rdquo;</strong></span><span style=\"color:#000000\"> [</span><a href=\"https://www.ncbi.nlm.nih.gov/books/NBK556048/\" style=\"text-decoration:none\"><span style=\"color:#1155cc\"><u>R</u></span></a><span style=\"color:#000000\">].</span></p>\r\n",
       "\r\n",
       "<p>&nbsp;</p>\r\n",
       "\r\n",
       "<p><span style=\"color:#000000\">Las personas usan el CBD para:</span></p>\r\n",
       "\r\n",
       "<ul>\r\n",
       "\t<li style=\"list-style-type:disc\"><span style=\"color:#000000\">Disminuir la ansiedad [</span><a href=\"https://www.ncbi.nlm.nih.gov/pubmed/20829306/\" style=\"text-decoration:none\"><span style=\"color:#1155cc\"><u>R</u></span></a><span style=\"color:#000000\">, </span><a href=\"https://www.ncbi.nlm.nih.gov/pubmed/22729452\" style=\"text-decoration:none\"><span style=\"color:#1155cc\"><u>R</u></span></a><span style=\"color:#000000\">]</span></li>\r\n",
       "\t<li style=\"list-style-type:disc\"><span style=\"color:#000000\">Aliviar el dolor [</span><a href=\"https://www.ncbi.nlm.nih.gov/pmc/articles/PMC7204604/\" style=\"text-decoration:none\"><span style=\"color:#1155cc\"><u>R</u></span></a><span style=\"color:#000000\">, </span><a href=\"https://www.ncbi.nlm.nih.gov/pmc/articles/PMC5922297/\" style=\"text-decoration:none\"><span style=\"color:#1155cc\"><u>R</u></span></a><span style=\"color:#000000\">, </span><a href=\"https://www.ncbi.nlm.nih.gov/pmc/articles/PMC2430692/\" style=\"text-decoration:none\"><span style=\"color:#1155cc\"><u>R</u></span></a><span style=\"color:#000000\">]</span></li>\r\n",
       "\t<li style=\"list-style-type:disc\"><span style=\"color:#000000\">Prevenir convulsiones [</span><a href=\"https://pubmed.ncbi.nlm.nih.gov/30194563/\" style=\"text-decoration:none\"><span style=\"color:#1155cc\"><u>R</u></span></a><span style=\"color:#000000\">]</span></li>\r\n",
       "\t<li style=\"list-style-type:disc\"><span style=\"color:#000000\">Mejorar la calidad del sue&ntilde;o [</span><a href=\"https://pubmed.ncbi.nlm.nih.gov/28349316/\" style=\"text-decoration:none\"><span style=\"color:#1155cc\"><u>R</u></span></a><span style=\"color:#000000\">] </span></li>\r\n",
       "</ul><br>\n"
      ],
      "text/plain": [
       "<IPython.core.display.HTML object>"
      ]
     },
     "metadata": {},
     "output_type": "display_data"
    },
    {
     "data": {
      "text/html": [
       "<h5>Toronjil</h5>\n",
       "Considere tomar suplementos con toronjil.<br>\n",
       "<table>\n",
       "<tr>\n",
       "<th>Type</th>\n",
       "<th>Effect</th>\n",
       "<th>Evidence</th>\n",
       "</tr>\n",
       "<tr>\n",
       "<td>supplement</td>\n",
       "<td>0.6</td>\n",
       "<td>0.4</td>\n",
       "</tr>\n",
       "</table>\n",
       "<p style=\"text-align:justify\"><span style=\"color:#000000\">El </span><a href=\"https://selfhacked.com/blog/amazing-health-benefits-of-lemon-balm-with-side-effects/\" style=\"text-decoration:none\"><span style=\"color:#1155cc\"><strong><u>toronjil</u></strong></span></a><span style=\"color:#000000\"> (</span><span style=\"color:#000000\"><em>Melissa officinalis</em></span><span style=\"color:#000000\">) es una hierba utilizada en la jardiner&iacute;a y la medicina tradicional. </span><span style=\"color:#000000\"><strong>Es rico en antioxidantes y componentes relajantes </strong></span><span style=\"color:#000000\">[</span><a href=\"https://www.ncbi.nlm.nih.gov/pmc/articles/PMC5871149/\" style=\"text-decoration:none\"><span style=\"color:#1155cc\"><u>R</u></span></a><span style=\"color:#000000\">, </span><a href=\"https://pubmed.ncbi.nlm.nih.gov/27167460/\" style=\"text-decoration:none\"><span style=\"color:#1155cc\"><u>R</u></span></a><span style=\"color:#000000\">].</span></p>\r\n",
       "\r\n",
       "<p>&nbsp;</p>\r\n",
       "\r\n",
       "<p style=\"text-align:justify\"><span style=\"color:#000000\">Las personas usan toronjil como t&eacute; o suplemento para [</span><a href=\"https://pubmed.ncbi.nlm.nih.gov/27167460/\" style=\"text-decoration:none\"><span style=\"color:#1155cc\"><u>R</u></span></a><span style=\"color:#000000\">, </span><a href=\"https://pubmed.ncbi.nlm.nih.gov/25680840/\" style=\"text-decoration:none\"><span style=\"color:#1155cc\"><u>R</u></span></a><span style=\"color:#000000\">, </span><a href=\"https://pubmed.ncbi.nlm.nih.gov/15272110/\" style=\"text-decoration:none\"><span style=\"color:#1155cc\"><u>R</u></span></a><span style=\"color:#000000\">, </span><a href=\"https://www.ncbi.nlm.nih.gov/pmc/articles/PMC3230760/\" style=\"text-decoration:none\"><span style=\"color:#1155cc\"><u>R</u></span></a><span style=\"color:#000000\">]:</span></p>\r\n",
       "\r\n",
       "<ul>\r\n",
       "\t<li style=\"list-style-type:disc\"><span style=\"color:#000000\">Calmar la ansiedad</span></li>\r\n",
       "\t<li style=\"list-style-type:disc\"><span style=\"color:#000000\">Mejorar la calidad del sue&ntilde;o</span></li>\r\n",
       "\t<li style=\"list-style-type:disc\"><span style=\"color:#000000\">Disminuir el estr&eacute;s</span></li>\r\n",
       "</ul><br>\n"
      ],
      "text/plain": [
       "<IPython.core.display.HTML object>"
      ]
     },
     "metadata": {},
     "output_type": "display_data"
    },
    {
     "data": {
      "text/html": [
       "<h5>Ginkgo</h5>\n",
       "Considere tomar suplementos con ginkgo.<br>\n",
       "<table>\n",
       "<tr>\n",
       "<th>Type</th>\n",
       "<th>Effect</th>\n",
       "<th>Evidence</th>\n",
       "</tr>\n",
       "<tr>\n",
       "<td>supplement</td>\n",
       "<td>0.4</td>\n",
       "<td>0.4</td>\n",
       "</tr>\n",
       "</table>\n",
       "<p style=\"text-align:justify\"><span style=\"color:#000000\">El </span><a href=\"https://selfhacked.com/blog/ginkgo-biloba/\" style=\"text-decoration:none\"><span style=\"color:#1155cc\"><u>ginkgo</u></span></a><span style=\"color:#000000\"> (</span><span style=\"color:#000000\"><em>Ginkgo biloba</em></span><span style=\"color:#000000\">) es un &aacute;rbol ancestral utilizado en la medicina tradicional china [</span><a href=\"https://www.nccih.nih.gov/health/ginkgo\" style=\"text-decoration:none\"><span style=\"color:#1155cc\"><u>R</u></span></a><span style=\"color:#000000\">, </span><a href=\"https://www.ncbi.nlm.nih.gov/books/NBK541024/\" style=\"text-decoration:none\"><span style=\"color:#1155cc\"><u>R</u></span></a><span style=\"color:#000000\">].</span></p>\r\n",
       "\r\n",
       "<p>&nbsp;</p>\r\n",
       "\r\n",
       "<p style=\"text-align:justify\"><span style=\"color:#000000\">De acuerdo con evidencia limitada, el extracto de hoja de ginkgo podr&iacute;a ayudar con [</span><a href=\"https://www.nccih.nih.gov/health/ginkgo\" style=\"text-decoration:none\"><span style=\"color:#1155cc\"><u>R</u></span></a><span style=\"color:#000000\">, </span><a href=\"https://www.ncbi.nlm.nih.gov/pmc/articles/PMC5084772/\" style=\"text-decoration:none\"><span style=\"color:#1155cc\"><u>R</u></span></a><span style=\"color:#000000\">, </span><a href=\"https://pubmed.ncbi.nlm.nih.gov/23538078/\" style=\"text-decoration:none\"><span style=\"color:#1155cc\"><u>R</u></span></a><span style=\"color:#000000\">]:&nbsp;</span></p>\r\n",
       "\r\n",
       "<ul>\r\n",
       "\t<li style=\"list-style-type:disc\"><span style=\"color:#000000\">Ansiedad</span></li>\r\n",
       "\t<li style=\"list-style-type:disc\"><span style=\"color:#000000\">Demencia</span></li>\r\n",
       "\t<li style=\"list-style-type:disc\"><span style=\"color:#000000\">Problemas oculares</span></li>\r\n",
       "\t<li style=\"list-style-type:disc\"><span style=\"color:#000000\">Problemas de los vasos sangu&iacute;neos</span></li>\r\n",
       "\t<li style=\"list-style-type:disc\"><span style=\"color:#000000\">V&eacute;rtigo</span></li>\r\n",
       "</ul><br>\n"
      ],
      "text/plain": [
       "<IPython.core.display.HTML object>"
      ]
     },
     "metadata": {},
     "output_type": "display_data"
    },
    {
     "data": {
      "text/html": [
       "<h5>Evitar el Humo del Cigarrillo</h5>\n",
       "Evite el humo del cigarrillo.<br>\n",
       "<table>\n",
       "<tr>\n",
       "<th>Type</th>\n",
       "<th>Effect</th>\n",
       "<th>Evidence</th>\n",
       "</tr>\n",
       "<tr>\n",
       "<td>lifestyle</td>\n",
       "<td>0.4</td>\n",
       "<td>0.6</td>\n",
       "</tr>\n",
       "</table>\n",
       "<p style=\"text-align:justify\"><span style=\"color:#000000\">Es probable que ya sepa que el tabaco no es bueno para su salud. </span><span style=\"color:#000000\"><strong>Fumar afecta a todo su cuerpo</strong></span><span style=\"color:#000000\">. Puede da&ntilde;ar su cerebro, coraz&oacute;n, pulmones y m&aacute;s [</span><a href=\"https://pubmed.ncbi.nlm.nih.gov/11980288/\" style=\"text-decoration:none\"><span style=\"color:#1155cc\"><u>R</u></span></a><span style=\"color:#000000\">].</span></p>\r\n",
       "\r\n",
       "<p>&nbsp;</p>\r\n",
       "\r\n",
       "<p style=\"text-align:justify\"><span style=\"color:#000000\">E incluso si no fuma, </span><span style=\"color:#000000\"><strong>el</strong></span><span style=\"color:#000000\"><strong> </strong></span><span style=\"color:#000000\"><strong>tabaquismo pasivo puede producir problemas de salud similares a los del tabaquismo activo </strong></span><span style=\"color:#000000\">[</span><a href=\"https://www.ncbi.nlm.nih.gov/pmc/articles/PMC4595077/\" style=\"text-decoration:none\"><span style=\"color:#1155cc\"><u>R</u></span></a><span style=\"color:#000000\">].</span></p>\r\n",
       "\r\n",
       "<p><br />\r\n",
       "<span style=\"color:#000000\">Pero hay buenas noticias: </span><span style=\"color:#000000\"><strong>dejar de fumar puede revertir muchos de sus efectos negativos. </strong></span><span style=\"color:#000000\">Es una gran manera de mejorar considerablemente su salud [</span><a href=\"https://www.ncbi.nlm.nih.gov/books/NBK555590/\" style=\"text-decoration:none\"><span style=\"color:#1155cc\"><u>R</u></span></a><span style=\"color:#000000\">].</span></p><br>\n"
      ],
      "text/plain": [
       "<IPython.core.display.HTML object>"
      ]
     },
     "metadata": {},
     "output_type": "display_data"
    },
    {
     "data": {
      "text/html": [
       "<h5>Probióticos</h5>\n",
       "Considere tomar suplementos con probióticos.<br>\n",
       "<table>\n",
       "<tr>\n",
       "<th>Type</th>\n",
       "<th>Effect</th>\n",
       "<th>Evidence</th>\n",
       "</tr>\n",
       "<tr>\n",
       "<td>supplement</td>\n",
       "<td>0.4</td>\n",
       "<td>0.6</td>\n",
       "</tr>\n",
       "</table>\n",
       "<p style=\"text-align:justify\"><span style=\"color:#000000\"><strong>Las bacterias probi&oacute;ticas son bacterias &quot;buenas&quot; que se encuentran principalmente en el intestino grueso</strong></span><span style=\"color:#000000\">. Mantienen su cuerpo y mente al [</span><a href=\"https://pubmed.ncbi.nlm.nih.gov/29581563/\" style=\"text-decoration:none\"><span style=\"color:#1155cc\"><u>R</u></span></a><span style=\"color:#000000\">, </span><a href=\"https://www.ncbi.nlm.nih.gov/pmc/articles/PMC4045285/\" style=\"text-decoration:none\"><span style=\"color:#1155cc\"><u>R</u></span></a><span style=\"color:#000000\">, </span><a href=\"https://www.ncbi.nlm.nih.gov/pmc/articles/PMC6047317/\" style=\"text-decoration:none\"><span style=\"color:#1155cc\"><u>R</u></span></a><span style=\"color:#000000\">, </span><a href=\"https://pubmed.ncbi.nlm.nih.gov/30292888/\" style=\"text-decoration:none\"><span style=\"color:#1155cc\"><u>R</u></span></a><span style=\"color:#000000\">, </span><a href=\"https://www.ncbi.nlm.nih.gov/pmc/articles/PMC5707719/\" style=\"text-decoration:none\"><span style=\"color:#1155cc\"><u>R</u></span></a><span style=\"color:#000000\">, </span><a href=\"https://www.ncbi.nlm.nih.gov/pmc/articles/PMC5102282/\" style=\"text-decoration:none\"><span style=\"color:#1155cc\"><u>R</u></span></a><span style=\"color:#000000\">, </span><a href=\"https://pubmed.ncbi.nlm.nih.gov/26987497/\" style=\"text-decoration:none\"><span style=\"color:#1155cc\"><u>R</u></span></a><span style=\"color:#000000\">]:</span></p>\r\n",
       "\r\n",
       "<ul>\r\n",
       "\t<li style=\"list-style-type:disc\"><span style=\"color:#000000\">Mejorar la salud intestinal</span></li>\r\n",
       "\t<li style=\"list-style-type:disc\"><span style=\"color:#000000\">Equilibrar el sistema inmunol&oacute;gico</span></li>\r\n",
       "\t<li style=\"list-style-type:disc\"><span style=\"color:#000000\">Luchar contra las bacterias &quot;malas&quot;</span></li>\r\n",
       "\t<li style=\"list-style-type:disc\"><span style=\"color:#000000\">Mejorar su estado de &aacute;nimo</span></li>\r\n",
       "\t<li style=\"list-style-type:disc\"><span style=\"color:#000000\">Controlar el az&uacute;car en la sangre</span></li>\r\n",
       "</ul><br>\n"
      ],
      "text/plain": [
       "<IPython.core.display.HTML object>"
      ]
     },
     "metadata": {},
     "output_type": "display_data"
    },
    {
     "data": {
      "text/html": [
       "<h5>Ashwagandha</h5>\n",
       "Considere tomar suplementos con ashwagandha.<br>\n",
       "<table>\n",
       "<tr>\n",
       "<th>Type</th>\n",
       "<th>Effect</th>\n",
       "<th>Evidence</th>\n",
       "</tr>\n",
       "<tr>\n",
       "<td>supplement</td>\n",
       "<td>0.4</td>\n",
       "<td>0.4</td>\n",
       "</tr>\n",
       "</table>\n",
       "<p><span style=\"color:#000000\">La </span><a href=\"https://selfhacked.com/blog/59-proven-scientific-benefits-ashwagandha-references/\" style=\"text-decoration:none\"><span style=\"color:#1155cc\"><strong><u>ashwagandha</u></strong></span></a><span style=\"color:#000000\"> (</span><span style=\"color:#000000\"><em>Withania somnifera</em></span><span style=\"color:#000000\">) es una hierba utilizada en la medicina tradicional de la India [</span><a href=\"https://www.ncbi.nlm.nih.gov/pmc/articles/PMC6750292/\" style=\"text-decoration:none\"><span style=\"color:#1155cc\"><u>R</u></span></a><span style=\"color:#000000\">, </span><a href=\"https://www.ncbi.nlm.nih.gov/pmc/articles/PMC3252722/\" style=\"text-decoration:none\"><span style=\"color:#1155cc\"><u>R</u></span></a><span style=\"color:#000000\">].&nbsp;</span></p>\r\n",
       "\r\n",
       "<p><span style=\"color:#000000\">Esta hierba es conocida como </span><span style=\"color:#000000\"><em>adapt&oacute;geno</em></span><span style=\"color:#000000\"> ya que ayuda a las personas a adaptarse al estr&eacute;s [</span><a href=\"https://www.ncbi.nlm.nih.gov/pmc/articles/PMC6750292/\" style=\"text-decoration:none\"><span style=\"color:#1155cc\"><u>R</u></span></a><span style=\"color:#000000\">, </span><a href=\"https://www.ncbi.nlm.nih.gov/pmc/articles/PMC3252722/\" style=\"text-decoration:none\"><span style=\"color:#1155cc\"><u>R</u></span></a><span style=\"color:#000000\">].</span></p>\r\n",
       "\r\n",
       "<p>&nbsp;</p><br>\n"
      ],
      "text/plain": [
       "<IPython.core.display.HTML object>"
      ]
     },
     "metadata": {},
     "output_type": "display_data"
    },
    {
     "data": {
      "text/html": [
       "<h5>Lactobacillus Plantarum</h5>\n",
       "Consider supplementing with lactobacillus plantarum.<br>\n",
       "<table>\n",
       "<tr>\n",
       "<th>Type</th>\n",
       "<th>Effect</th>\n",
       "<th>Evidence</th>\n",
       "</tr>\n",
       "<tr>\n",
       "<td>supplement</td>\n",
       "<td>0.0</td>\n",
       "<td>0.0</td>\n",
       "</tr>\n",
       "</table>\n",
       "<p>&nbsp;&nbsp;</p><br>\n"
      ],
      "text/plain": [
       "<IPython.core.display.HTML object>"
      ]
     },
     "metadata": {},
     "output_type": "display_data"
    },
    {
     "data": {
      "text/html": [
       "<h5>Bifidobacterium Bifidum</h5>\n",
       "Consider supplementing with bifidobacterium bifidum.<br>\n",
       "<table>\n",
       "<tr>\n",
       "<th>Type</th>\n",
       "<th>Effect</th>\n",
       "<th>Evidence</th>\n",
       "</tr>\n",
       "<tr>\n",
       "<td>supplement</td>\n",
       "<td>0.0</td>\n",
       "<td>0.0</td>\n",
       "</tr>\n",
       "</table>\n",
       "<p>&nbsp;&nbsp;</p><br>\n"
      ],
      "text/plain": [
       "<IPython.core.display.HTML object>"
      ]
     },
     "metadata": {},
     "output_type": "display_data"
    },
    {
     "data": {
      "text/html": [
       "<h5>Lactobacillus Gasseri</h5>\n",
       "Consider supplementing with lactobacillus gasseri.<br>\n",
       "<table>\n",
       "<tr>\n",
       "<th>Type</th>\n",
       "<th>Effect</th>\n",
       "<th>Evidence</th>\n",
       "</tr>\n",
       "<tr>\n",
       "<td>supplement</td>\n",
       "<td>0.0</td>\n",
       "<td>0.0</td>\n",
       "</tr>\n",
       "</table>\n",
       "<p>&nbsp;&nbsp;</p><br>\n"
      ],
      "text/plain": [
       "<IPython.core.display.HTML object>"
      ]
     },
     "metadata": {},
     "output_type": "display_data"
    },
    {
     "data": {
      "text/html": [
       "<h5>Lactobacillus Casei</h5>\n",
       "Consider supplementing with lactobacillus casei.<br>\n",
       "<table>\n",
       "<tr>\n",
       "<th>Type</th>\n",
       "<th>Effect</th>\n",
       "<th>Evidence</th>\n",
       "</tr>\n",
       "<tr>\n",
       "<td>supplement</td>\n",
       "<td>0.0</td>\n",
       "<td>0.0</td>\n",
       "</tr>\n",
       "</table>\n",
       "<p>&nbsp;&nbsp;</p><br>\n"
      ],
      "text/plain": [
       "<IPython.core.display.HTML object>"
      ]
     },
     "metadata": {},
     "output_type": "display_data"
    },
    {
     "data": {
      "text/html": [
       "<h5>Cognitive-Behavioral Therapy (CBT)</h5>\n",
       "Discuss cognitive-behavioral therapy with your doctor<br>\n",
       "<table>\n",
       "<tr>\n",
       "<th>Type</th>\n",
       "<th>Effect</th>\n",
       "<th>Evidence</th>\n",
       "</tr>\n",
       "<tr>\n",
       "<td>lifestyle</td>\n",
       "<td>1.0</td>\n",
       "<td>1.0</td>\n",
       "</tr>\n",
       "</table>\n",
       "<p><span style=\"color:#000000\"><strong>Cognitive-behavioral therapy (CBT)</strong></span><span style=\"color:#000000\"> is a type of talk therapy. CBT aims to change the way you think about your life and yourself. Through CBT, a therapist can help you develop healthy coping mechanisms [</span><a href=\"https://www.mayoclinic.org/tests-procedures/cognitive-behavioral-therapy/about/pac-20384610\" style=\"text-decoration:none\"><span style=\"color:#1155cc\"><u>R</u></span></a><span style=\"color:#000000\">].</span></p>\r\n",
       "\r\n",
       "<p>&nbsp;</p>\r\n",
       "\r\n",
       "<p><span style=\"color:#000000\">CBT may help improve mood disorders such as [</span><a href=\"https://pubmed.ncbi.nlm.nih.gov/35156100/\" style=\"text-decoration:none\"><span style=\"color:#1155cc\"><u>R</u></span></a><span style=\"color:#000000\">, </span><a href=\"https://pubmed.ncbi.nlm.nih.gov/31004323/\" style=\"text-decoration:none\"><span style=\"color:#1155cc\"><u>R</u></span></a><span style=\"color:#000000\">, </span><a href=\"https://pubmed.ncbi.nlm.nih.gov/29451967/\" style=\"text-decoration:none\"><span style=\"color:#1155cc\"><u>R</u></span></a><span style=\"color:#000000\">, </span><a href=\"https://pubmed.ncbi.nlm.nih.gov/25613661/\" style=\"text-decoration:none\"><span style=\"color:#1155cc\"><u>R</u></span></a><span style=\"color:#000000\">]:</span></p>\r\n",
       "\r\n",
       "<ul>\r\n",
       "\t<li style=\"list-style-type:disc\"><span style=\"color:#000000\">Insomnia</span></li>\r\n",
       "\t<li style=\"list-style-type:disc\"><span style=\"color:#000000\">Depression</span></li>\r\n",
       "\t<li style=\"list-style-type:disc\"><span style=\"color:#000000\">Anxiety disorders</span></li>\r\n",
       "\t<li style=\"list-style-type:disc\"><span style=\"color:#000000\">Obsessive-compulsive tendencies</span></li>\r\n",
       "</ul><br>\n"
      ],
      "text/plain": [
       "<IPython.core.display.HTML object>"
      ]
     },
     "metadata": {},
     "output_type": "display_data"
    },
    {
     "data": {
      "text/html": [
       "<h5>Music Therapy</h5>\n",
       "Discuss music therapy with your doctor<br>\n",
       "<table>\n",
       "<tr>\n",
       "<th>Type</th>\n",
       "<th>Effect</th>\n",
       "<th>Evidence</th>\n",
       "</tr>\n",
       "<tr>\n",
       "<td>lifestyle</td>\n",
       "<td>0.4</td>\n",
       "<td>0.4</td>\n",
       "</tr>\n",
       "</table>\n",
       "<p><a href=\"https://health.selfdecode.com/blog/20-scientifically-proven-health-benefits-music-blood-pressure-insomnia/\" style=\"text-decoration:none\"><span style=\"color:#1155cc\"><u>Music</u></span></a><span style=\"color:#000000\"> therapy is a form of therapy that involves making, reflecting on, and/or listening to music. It can be applied individually or in groups and may not require the presence of a therapist [</span><a href=\"https://www.ncbi.nlm.nih.gov/pmc/articles/PMC6486188/\" style=\"text-decoration:none\"><span style=\"color:#1155cc\"><u>R</u></span></a><span style=\"color:#000000\">].</span></p>\r\n",
       "\r\n",
       "<p>&nbsp;</p>\r\n",
       "\r\n",
       "<p><span style=\"color:#000000\">Music therapy provides tools for body relaxation and positive imagery. It aims to improve communication, quality of life, and well‐being [</span><a href=\"https://pubmed.ncbi.nlm.nih.gov/27094452/\" style=\"text-decoration:none\"><span style=\"color:#1155cc\"><u>R</u></span></a><span style=\"color:#000000\">, </span><a href=\"https://www.ncbi.nlm.nih.gov/pmc/articles/PMC6486188/\" style=\"text-decoration:none\"><span style=\"color:#1155cc\"><u>R</u></span></a><span style=\"color:#000000\">].</span></p><br>\n"
      ],
      "text/plain": [
       "<IPython.core.display.HTML object>"
      ]
     },
     "metadata": {},
     "output_type": "display_data"
    },
    {
     "data": {
      "text/html": [
       "<h5>Pet Therapy</h5>\n",
       "Discuss animal-assisted therapy with your doctor<br>\n",
       "<table>\n",
       "<tr>\n",
       "<th>Type</th>\n",
       "<th>Effect</th>\n",
       "<th>Evidence</th>\n",
       "</tr>\n",
       "<tr>\n",
       "<td>lifestyle</td>\n",
       "<td>0.6</td>\n",
       "<td>0.6</td>\n",
       "</tr>\n",
       "</table>\n",
       "<p><span style=\"color:#000000\">Animal-assisted therapy, also known as</span><span style=\"color:#000000\"><strong> pet therapy, </strong></span><span style=\"color:#000000\">involves human-animal interaction to foster physical and emotional healing and provide social support. This therapy may use different animals, such as [</span><a href=\"https://pubmed.ncbi.nlm.nih.gov/29882342/\" style=\"text-decoration:none\"><span style=\"color:#1155cc\"><u>R</u></span></a><span style=\"color:#000000\">, </span><a href=\"https://pubmed.ncbi.nlm.nih.gov/30396626/\" style=\"text-decoration:none\"><span style=\"color:#1155cc\"><u>R</u></span></a><span style=\"color:#000000\">]:</span></p>\r\n",
       "\r\n",
       "<ul>\r\n",
       "\t<li style=\"list-style-type:disc\"><span style=\"color:#000000\">Dogs</span></li>\r\n",
       "\t<li style=\"list-style-type:disc\"><span style=\"color:#000000\">Horses</span></li>\r\n",
       "\t<li style=\"list-style-type:disc\"><span style=\"color:#000000\">Dolphins</span></li>\r\n",
       "</ul>\r\n",
       "\r\n",
       "<p><span style=\"color:#000000\">Animal-assisted therapy may involve touching, playing, grooming, and talking with the animal [</span><a href=\"https://pubmed.ncbi.nlm.nih.gov/29882342/\" style=\"text-decoration:none\"><span style=\"color:#1155cc\"><u>R</u></span></a><span style=\"color:#000000\">].</span></p><br>\n"
      ],
      "text/plain": [
       "<IPython.core.display.HTML object>"
      ]
     },
     "metadata": {},
     "output_type": "display_data"
    },
    {
     "data": {
      "text/html": [
       "<h5>Art Therapy</h5>\n",
       "Consider practicing art therapy<br>\n",
       "<table>\n",
       "<tr>\n",
       "<th>Type</th>\n",
       "<th>Effect</th>\n",
       "<th>Evidence</th>\n",
       "</tr>\n",
       "<tr>\n",
       "<td>lifestyle</td>\n",
       "<td>0.6</td>\n",
       "<td>0.6</td>\n",
       "</tr>\n",
       "</table>\n",
       "<p><span style=\"color:#000000\">Art therapy is a type of therapy that encourages free self-expression and reflection through [</span><a href=\"https://www.ncbi.nlm.nih.gov/pubmed/25478139\" style=\"text-decoration:none\"><span style=\"color:#1155cc\"><u>R</u></span></a><span style=\"color:#000000\">]:</span></p>\r\n",
       "\r\n",
       "<ul>\r\n",
       "\t<li style=\"list-style-type:disc\"><span style=\"color:#000000\">Painting</span></li>\r\n",
       "\t<li style=\"list-style-type:disc\"><span style=\"color:#000000\">Drawing</span></li>\r\n",
       "\t<li style=\"list-style-type:disc\"><span style=\"color:#000000\">Clay modeling&nbsp;</span></li>\r\n",
       "</ul>\r\n",
       "\r\n",
       "<p><span style=\"color:#000000\">Art therapy is used to improve [</span><a href=\"https://www.mayoclinic.org/healthy-lifestyle/consumer-health/in-depth/mindfulness-exercises/art-20046356\" style=\"text-decoration:none\"><span style=\"color:#1155cc\"><u>R</u></span></a><span style=\"color:#000000\">]:</span></p>\r\n",
       "\r\n",
       "<ul>\r\n",
       "\t<li style=\"list-style-type:disc\"><span style=\"color:#000000\">Self-esteem</span></li>\r\n",
       "\t<li style=\"list-style-type:disc\"><span style=\"color:#000000\">Self-awareness</span></li>\r\n",
       "\t<li style=\"list-style-type:disc\"><span style=\"color:#000000\">Emotional resilience</span></li>\r\n",
       "\t<li style=\"list-style-type:disc\"><span style=\"color:#000000\">Social skills</span></li>\r\n",
       "</ul><br>\n"
      ],
      "text/plain": [
       "<IPython.core.display.HTML object>"
      ]
     },
     "metadata": {},
     "output_type": "display_data"
    },
    {
     "data": {
      "text/html": [
       "<h5>Mindfulness</h5>\n",
       "Practice mindfulness<br>\n",
       "<table>\n",
       "<tr>\n",
       "<th>Type</th>\n",
       "<th>Effect</th>\n",
       "<th>Evidence</th>\n",
       "</tr>\n",
       "<tr>\n",
       "<td>lifestyle</td>\n",
       "<td>0.6</td>\n",
       "<td>0.8</td>\n",
       "</tr>\n",
       "</table>\n",
       "<p style=\"text-align:justify\"><span style=\"color:#000000\"><strong>Mindfulness is the practice of being aware of the present moment.</strong></span><span style=\"color:#000000\"> When practicing mindfulness, a person acknowledges their thoughts, feelings, and sensations without any judgment [</span><a href=\"https://www.mayoclinic.org/healthy-lifestyle/consumer-health/in-depth/mindfulness-exercises/art-20046356\" style=\"text-decoration:none\"><span style=\"color:#1155cc\"><u>R</u></span></a><span style=\"color:#000000\">].</span></p>\r\n",
       "\r\n",
       "<p>&nbsp;</p>\r\n",
       "\r\n",
       "<p style=\"text-align:justify\"><span style=\"color:#000000\">Mindfulness and other types of </span><a href=\"https://health.selfdecode.com/blog/meditation/\" style=\"text-decoration:none\"><span style=\"color:#1155cc\"><u>meditation</u></span></a><span style=\"color:#000000\"> may improve [</span><a href=\"https://www.mayoclinic.org/healthy-lifestyle/consumer-health/in-depth/mindfulness-exercises/art-20046356\" style=\"text-decoration:none\"><span style=\"color:#1155cc\"><u>R</u></span></a><span style=\"color:#000000\">]:</span></p>\r\n",
       "\r\n",
       "<ul>\r\n",
       "\t<li style=\"list-style-type:disc\"><span style=\"color:#000000\">Stress and anxiety</span></li>\r\n",
       "\t<li style=\"list-style-type:disc\"><span style=\"color:#000000\">Low mood</span></li>\r\n",
       "\t<li style=\"list-style-type:disc\"><span style=\"color:#000000\">Sleep disturbances</span></li>\r\n",
       "\t<li style=\"list-style-type:disc\"><span style=\"color:#000000\">Pain</span></li>\r\n",
       "\t<li style=\"list-style-type:disc\"><span style=\"color:#000000\">High blood pressure</span></li>\r\n",
       "</ul><br>\n"
      ],
      "text/plain": [
       "<IPython.core.display.HTML object>"
      ]
     },
     "metadata": {},
     "output_type": "display_data"
    },
    {
     "data": {
      "text/html": [
       "<h5>Progressive Muscle Relaxation</h5>\n",
       "Practice progressive muscle relaxation.<br>\n",
       "<table>\n",
       "<tr>\n",
       "<th>Type</th>\n",
       "<th>Effect</th>\n",
       "<th>Evidence</th>\n",
       "</tr>\n",
       "<tr>\n",
       "<td>lifestyle</td>\n",
       "<td>0.4</td>\n",
       "<td>0.4</td>\n",
       "</tr>\n",
       "</table>\n",
       "<p style=\"text-align:justify\"><span style=\"color:#000000\"><strong>Progressive muscle relaxation is a relaxation technique focused on releasing muscle tension.</strong></span><span style=\"color:#000000\"> In this technique, you focus on tensing and relaxing different parts of your body, one after the other, to relieve stress </span><a href=\"https://www.mayoclinic.org/healthy-lifestyle/stress-management/in-depth/relaxation-technique/art-20045368\" style=\"text-decoration:none\"><span style=\"color:#1155cc\"><u>R</u></span></a><span style=\"color:#000000\">, </span><a href=\"https://pubmed.ncbi.nlm.nih.gov/33310052/\" style=\"text-decoration:none\"><span style=\"color:#1155cc\"><u>R</u></span></a><span style=\"color:#000000\">].</span></p>\r\n",
       "\r\n",
       "<p style=\"text-align:justify\">&nbsp;</p>\r\n",
       "\r\n",
       "<p style=\"text-align:justify\"><span style=\"color:#000000\">It is common to start with the toes and slowly work your way up to the neck and head. Try to focus on a single muscle group at a time (for example, the calf muscles). Tense these muscles for 5-10 seconds, then relax for 20-30 seconds before moving on to the next muscle group [</span><a href=\"https://www.mayoclinic.org/healthy-lifestyle/stress-management/in-depth/relaxation-technique/art-20045368\" style=\"text-decoration:none\"><span style=\"color:#1155cc\"><u>R</u></span></a><span style=\"color:#000000\">, </span><a href=\"https://pubmed.ncbi.nlm.nih.gov/33310052/\" style=\"text-decoration:none\"><span style=\"color:#1155cc\"><u>R</u></span></a><span style=\"color:#000000\">].</span></p><br>\n"
      ],
      "text/plain": [
       "<IPython.core.display.HTML object>"
      ]
     },
     "metadata": {},
     "output_type": "display_data"
    },
    {
     "data": {
      "text/html": [
       "<h5>Biofeedback</h5>\n",
       "Ask your doctor about biofeedback.<br>\n",
       "<table>\n",
       "<tr>\n",
       "<th>Type</th>\n",
       "<th>Effect</th>\n",
       "<th>Evidence</th>\n",
       "</tr>\n",
       "<tr>\n",
       "<td>lifestyle</td>\n",
       "<td>0.4</td>\n",
       "<td>0.6</td>\n",
       "</tr>\n",
       "</table>\n",
       "<p style=\"text-align:justify\"><span style=\"color:#000000\"><strong>Biofeedback </strong></span><span style=\"color:#000000\">is a kind of</span><span style=\"color:#000000\"><strong> </strong></span><span style=\"color:#000000\">&ldquo;</span><span style=\"color:#000000\"><strong>brain training</strong></span><span style=\"color:#000000\">&rdquo;</span><span style=\"color:#000000\"><strong> </strong></span><span style=\"color:#000000\">in which sensors are attached to your body. They detect information like your heart rate, temperature, and breathing rate. By seeing this information, you may be better able to control these functions [</span><a href=\"http://ncbi.nlm.nih.gov/books/NBK553075/\" style=\"text-decoration:none\"><span style=\"color:#1155cc\"><u>R</u></span></a><span style=\"color:#000000\">, </span><a href=\"https://www.mayoclinic.org/tests-procedures/biofeedback/about/pac-20384664\" style=\"text-decoration:none\"><span style=\"color:#1155cc\"><u>R</u></span></a><span style=\"color:#000000\">].</span></p>\r\n",
       "\r\n",
       "<p>&nbsp;</p>\r\n",
       "\r\n",
       "<p style=\"text-align:justify\"><span style=\"color:#000000\">Biofeedback is often used to help with [</span><a href=\"https://www.ncbi.nlm.nih.gov/books/NBK553075/\" style=\"text-decoration:none\"><span style=\"color:#1155cc\"><u>R</u></span></a><span style=\"color:#000000\">]:</span></p>\r\n",
       "\r\n",
       "<ul>\r\n",
       "\t<li style=\"list-style-type:disc\"><span style=\"color:#000000\">Gut problems</span></li>\r\n",
       "\t<li style=\"list-style-type:disc\"><span style=\"color:#000000\">Chronic pain</span></li>\r\n",
       "\t<li style=\"list-style-type:disc\"><span style=\"color:#000000\">Migraines</span></li>\r\n",
       "\t<li style=\"list-style-type:disc\"><span style=\"color:#000000\">Insomnia</span></li>\r\n",
       "</ul><br>\n"
      ],
      "text/plain": [
       "<IPython.core.display.HTML object>"
      ]
     },
     "metadata": {},
     "output_type": "display_data"
    },
    {
     "data": {
      "text/html": [
       "<h5>Guided Imagery</h5>\n",
       "Try guided imagery<br>\n",
       "<table>\n",
       "<tr>\n",
       "<th>Type</th>\n",
       "<th>Effect</th>\n",
       "<th>Evidence</th>\n",
       "</tr>\n",
       "<tr>\n",
       "<td>lifestyle</td>\n",
       "<td>0.4</td>\n",
       "<td>0.6</td>\n",
       "</tr>\n",
       "</table>\n",
       "<p><span style=\"color:#000000\">Guided imagery is a relaxation technique that involves visualizing positive, peaceful settings. Guided imagery aims to [</span><a href=\"https://pubmed.ncbi.nlm.nih.gov/33131625/\" style=\"text-decoration:none\"><span style=\"color:#1155cc\"><u>R</u></span></a><span style=\"color:#000000\">, </span><a href=\"https://www.ncbi.nlm.nih.gov/pmc/articles/PMC1343583/\" style=\"text-decoration:none\"><span style=\"color:#1155cc\"><u>R</u></span></a><span style=\"color:#000000\">]:</span></p>\r\n",
       "\r\n",
       "<ul>\r\n",
       "\t<li style=\"list-style-type:disc\"><span style=\"color:#000000\">Improve mind-body connection&nbsp;</span></li>\r\n",
       "\t<li style=\"list-style-type:disc\"><span style=\"color:#000000\">Enhance well-being</span></li>\r\n",
       "\t<li style=\"list-style-type:disc\"><span style=\"color:#000000\">Reduce stress and anxiety</span></li>\r\n",
       "\t<li style=\"list-style-type:disc\"><span style=\"color:#000000\">Improve immunity</span></li>\r\n",
       "</ul><br>\n"
      ],
      "text/plain": [
       "<IPython.core.display.HTML object>"
      ]
     },
     "metadata": {},
     "output_type": "display_data"
    },
    {
     "data": {
      "text/html": [
       "<h5>Autogenic Training</h5>\n",
       "Ask your doctor about autogenic training.<br>\n",
       "<table>\n",
       "<tr>\n",
       "<th>Type</th>\n",
       "<th>Effect</th>\n",
       "<th>Evidence</th>\n",
       "</tr>\n",
       "<tr>\n",
       "<td>lifestyle</td>\n",
       "<td>0.4</td>\n",
       "<td>0.6</td>\n",
       "</tr>\n",
       "</table>\n",
       "<p><span style=\"color:#000000\">Autogenic training is a relaxation technique that a person may carry out on their own from the beginning [</span><a href=\"https://pubmed.ncbi.nlm.nih.gov/7811786/\" style=\"text-decoration:none\"><span style=\"color:#1155cc\"><u>R</u></span></a><span style=\"color:#000000\">, </span><a href=\"https://pubmed.ncbi.nlm.nih.gov/10859603/\" style=\"text-decoration:none\"><span style=\"color:#1155cc\"><u>R</u></span></a><span style=\"color:#000000\">].</span></p>\r\n",
       "\r\n",
       "<p>&nbsp;</p>\r\n",
       "\r\n",
       "<p><span style=\"color:#000000\">Autogenic training uses 6 exercises that take the mind&rsquo;s attention to bodily sensations such as warmth and heaviness. The exercises involve guided imagery and verbal cues (e.g. &quot;My arm is very heavy&quot;) to [</span><a href=\"https://pubmed.ncbi.nlm.nih.gov/7811786/\" style=\"text-decoration:none\"><span style=\"color:#1155cc\"><u>R</u></span></a><span style=\"color:#000000\">, </span><a href=\"https://pubmed.ncbi.nlm.nih.gov/10859603/\" style=\"text-decoration:none\"><span style=\"color:#1155cc\"><u>R</u></span></a><span style=\"color:#000000\">]:</span></p>\r\n",
       "\r\n",
       "<ul>\r\n",
       "\t<li style=\"list-style-type:disc\"><span style=\"color:#000000\">Relax the body</span></li>\r\n",
       "\t<li style=\"list-style-type:disc\"><span style=\"color:#000000\">Quiet and calm the mind</span></li>\r\n",
       "\t<li style=\"list-style-type:disc\"><span style=\"color:#000000\">Increase energy</span></li>\r\n",
       "</ul><br>\n"
      ],
      "text/plain": [
       "<IPython.core.display.HTML object>"
      ]
     },
     "metadata": {},
     "output_type": "display_data"
    },
    {
     "data": {
      "text/html": [
       "<h5>Yoga</h5>\n",
       "Practice yoga<br>\n",
       "<table>\n",
       "<tr>\n",
       "<th>Type</th>\n",
       "<th>Effect</th>\n",
       "<th>Evidence</th>\n",
       "</tr>\n",
       "<tr>\n",
       "<td>lifestyle</td>\n",
       "<td>0.6</td>\n",
       "<td>0.8</td>\n",
       "</tr>\n",
       "</table>\n",
       "<p style=\"text-align:justify\"><a href=\"https://health.selfdecode.com/blog/health-benefits-yoga/\" style=\"text-decoration:none\"><span style=\"color:#1155cc\"><strong><u>Yoga</u></strong></span></a><span style=\"color:#000000\"><strong> combines breathing, stretching, and relaxation techniques.</strong></span><span style=\"color:#000000\"> Practicing yoga may help [</span><a href=\"https://www.mayoclinic.org/healthy-lifestyle/stress-management/in-depth/yoga/art-20044733\" style=\"text-decoration:none\"><span style=\"color:#1155cc\"><u>R</u></span></a><span style=\"color:#000000\">,</span><a href=\"https://pubmed.ncbi.nlm.nih.gov/26181573/\" style=\"text-decoration:none\"><span style=\"color:#000000\"> </span><span style=\"color:#1155cc\"><u>R</u></span></a><span style=\"color:#000000\">,</span><a href=\"https://www.ncbi.nlm.nih.gov/pmc/articles/PMC3447533/\" style=\"text-decoration:none\"><span style=\"color:#000000\"> </span><span style=\"color:#1155cc\"><u>R</u></span></a><span style=\"color:#000000\">]:</span></p>\r\n",
       "\r\n",
       "<ul>\r\n",
       "\t<li style=\"list-style-type:disc\"><span style=\"color:#000000\">Reduce</span><a href=\"https://selfhacked.com/blog/63-factors-raising-stress-cortisol-level-backed-science/\" style=\"text-decoration:none\"><span style=\"color:#000000\"> </span><span style=\"color:#1155cc\"><u>stress</u></span></a></li>\r\n",
       "\t<li style=\"list-style-type:disc\"><span style=\"color:#000000\">Improve fitness</span></li>\r\n",
       "\t<li style=\"list-style-type:disc\"><span style=\"color:#000000\">Lower blood pressure</span></li>\r\n",
       "\t<li style=\"list-style-type:disc\"><span style=\"color:#000000\">Manage pain</span></li>\r\n",
       "</ul><br>\n"
      ],
      "text/plain": [
       "<IPython.core.display.HTML object>"
      ]
     },
     "metadata": {},
     "output_type": "display_data"
    },
    {
     "data": {
      "text/html": [
       "<h5>Tai Chi</h5>\n",
       "Practice tai chi<br>\n",
       "<table>\n",
       "<tr>\n",
       "<th>Type</th>\n",
       "<th>Effect</th>\n",
       "<th>Evidence</th>\n",
       "</tr>\n",
       "<tr>\n",
       "<td>lifestyle</td>\n",
       "<td>0.6</td>\n",
       "<td>0.8</td>\n",
       "</tr>\n",
       "</table>\n",
       "<p><span style=\"color:#000000\"><strong>Tai chi involves gentle movements and breathing to strengthen and relax the mind and body.</strong></span><span style=\"color:#000000\"> Practicing tai chi may help [</span><a href=\"https://www.mayoclinic.org/diseases-conditions/osteoarthritis/diagnosis-treatment/drc-20351930\" style=\"text-decoration:none\"><span style=\"color:#1155cc\"><u>R</u></span></a><span style=\"color:#000000\">, </span><a href=\"https://pubmed.ncbi.nlm.nih.gov/28661865/\" style=\"text-decoration:none\"><span style=\"color:#1155cc\"><u>R</u></span></a><span style=\"color:#000000\">, </span><a href=\"https://pubmed.ncbi.nlm.nih.gov/24078491/\" style=\"text-decoration:none\"><span style=\"color:#1155cc\"><u>R</u></span></a><span style=\"color:#000000\">]:</span></p>\r\n",
       "\r\n",
       "<ul>\r\n",
       "\t<li style=\"list-style-type:disc\"><span style=\"color:#000000\">Manage pain</span></li>\r\n",
       "\t<li style=\"list-style-type:disc\"><span style=\"color:#000000\">Improve fitness</span></li>\r\n",
       "\t<li style=\"list-style-type:disc\"><span style=\"color:#000000\">Increase well-being</span></li>\r\n",
       "\t<li style=\"list-style-type:disc\"><span style=\"color:#000000\">Improve sleep and mood</span></li>\r\n",
       "</ul><br>\n"
      ],
      "text/plain": [
       "<IPython.core.display.HTML object>"
      ]
     },
     "metadata": {},
     "output_type": "display_data"
    },
    {
     "data": {
      "text/html": [
       "<h5>Aromatherapy</h5>\n",
       "Ask your doctor about aromatherapy<br>\n",
       "<table>\n",
       "<tr>\n",
       "<th>Type</th>\n",
       "<th>Effect</th>\n",
       "<th>Evidence</th>\n",
       "</tr>\n",
       "<tr>\n",
       "<td>lifestyle</td>\n",
       "<td>0.6</td>\n",
       "<td>0.6</td>\n",
       "</tr>\n",
       "</table>\n",
       "<p><span style=\"color:#000000\">Aromatherapy uses concentrated plant extracts known as </span><span style=\"color:#000000\"><em>essential oils.</em></span><span style=\"color:#000000\"> They can be inhaled using a diffuser (a device that releases small amounts of oil into the air) or applied to the skin using a roller. Essential oils can also be found in products such as [</span><a href=\"https://www.mayoclinic.org/healthy-lifestyle/consumer-health/expert-answers/aromatherapy/faq-20058566\" style=\"text-decoration:none\"><span style=\"color:#1155cc\"><u>R</u></span></a><span style=\"color:#000000\">]:</span></p>\r\n",
       "\r\n",
       "<ul>\r\n",
       "\t<li style=\"list-style-type:disc\"><span style=\"color:#000000\">Massage oils</span></li>\r\n",
       "\t<li style=\"list-style-type:disc\"><span style=\"color:#000000\">Lotions</span></li>\r\n",
       "\t<li style=\"list-style-type:disc\"><span style=\"color:#000000\">Bath salts</span></li>\r\n",
       "</ul>\r\n",
       "\r\n",
       "<p><span style=\"color:#000000\">Common essential oils used in aromatherapy are made from Roman chamomile, peppermint, and lavender [</span><a href=\"https://www.nccih.nih.gov/health/aromatherapy\" style=\"text-decoration:none\"><span style=\"color:#1155cc\"><u>R</u></span><span style=\"color:#000000\">, </span></a><a href=\"https://pubmed.ncbi.nlm.nih.gov/28107335/\" style=\"text-decoration:none\"><span style=\"color:#1155cc\"><u>R</u></span></a><span style=\"color:#000000\">].</span></p>\r\n",
       "\r\n",
       "<p>&nbsp;</p>\r\n",
       "\r\n",
       "<p><span style=\"color:#000000\">Although they are made from plants, essential oils can be harmful if not used properly. Tips for using them safely include [</span><a href=\"https://pubmed.ncbi.nlm.nih.gov/28107335/\" style=\"text-decoration:none\"><span style=\"color:#1155cc\"><u>R</u></span></a><span style=\"color:#000000\">, </span><a href=\"https://www.ncbi.nlm.nih.gov/pmc/articles/PMC7520654/\" style=\"text-decoration:none\"><span style=\"color:#1155cc\"><u>R</u></span></a><span style=\"color:#000000\">]:</span></p>\r\n",
       "\r\n",
       "<ul>\r\n",
       "\t<li style=\"list-style-type:disc\"><span style=\"color:#000000\">Diluting them properly using a plant-based carrier oil (such as olive oil or almond oil)</span></li>\r\n",
       "\t<li style=\"list-style-type:disc\"><span style=\"color:#000000\">Using diffusers in a well-ventilated area for a maximum of 1 hour</span></li>\r\n",
       "\t<li style=\"list-style-type:disc\"><span style=\"color:#000000\">If using on the skin, testing a small area first and waiting a day before using more</span></li>\r\n",
       "\t<li style=\"list-style-type:disc\"><span style=\"color:#000000\">Keeping essential oils away from candles or other heat sources</span></li>\r\n",
       "</ul>\r\n",
       "\r\n",
       "<p><span style=\"color:#000000\">Aromatherapy may help [</span><a href=\"https://www.mayoclinic.org/healthy-lifestyle/consumer-health/expert-answers/aromatherapy/faq-20058566\" style=\"text-decoration:none\"><span style=\"color:#1155cc\"><u>R</u></span></a><span style=\"color:#000000\">, </span><a href=\"https://pubmed.ncbi.nlm.nih.gov/32663929/\" style=\"text-decoration:none\"><span style=\"color:#1155cc\"><u>R</u></span></a><span style=\"color:#000000\">, </span><a href=\"https://pubmed.ncbi.nlm.nih.gov/33131627/\" style=\"text-decoration:none\"><span style=\"color:#1155cc\"><u>R</u></span></a><span style=\"color:#000000\">]:</span></p>\r\n",
       "\r\n",
       "<ul>\r\n",
       "\t<li style=\"list-style-type:disc\"><span style=\"color:#000000\">Relieve stress and anxiety</span></li>\r\n",
       "\t<li style=\"list-style-type:disc\"><span style=\"color:#000000\">Improve sleep quality</span></li>\r\n",
       "\t<li style=\"list-style-type:disc\"><span style=\"color:#000000\">Reduce pain</span></li>\r\n",
       "</ul><br>\n"
      ],
      "text/plain": [
       "<IPython.core.display.HTML object>"
      ]
     },
     "metadata": {},
     "output_type": "display_data"
    },
    {
     "data": {
      "text/html": [
       "<h5>Reflexology</h5>\n",
       "Try reflexology on your own or through a reflexologist<br>\n",
       "<table>\n",
       "<tr>\n",
       "<th>Type</th>\n",
       "<th>Effect</th>\n",
       "<th>Evidence</th>\n",
       "</tr>\n",
       "<tr>\n",
       "<td>lifestyle</td>\n",
       "<td>0.6</td>\n",
       "<td>0.6</td>\n",
       "</tr>\n",
       "</table>\n",
       "<p><span style=\"color:#000000\"><strong>Reflexology </strong></span><span style=\"color:#000000\">is the practice of applying pressure to specific parts of your feet or hands. It&rsquo;s theorized that by pressing on these areas, you can relieve tension from other parts of the body [</span><a href=\"https://www.mayoclinic.org/healthy-lifestyle/consumer-health/expert-answers/what-is-reflexology/faq-20058139\" style=\"text-decoration:none\"><span style=\"color:#1155cc\"><u>R</u></span></a><span style=\"color:#000000\">].&nbsp;</span></p>\r\n",
       "\r\n",
       "<p>&nbsp;</p>\r\n",
       "\r\n",
       "<p><span style=\"color:#000000\">People mainly use reflexology to help with stress and anxiety. It may also help with pain and sleep problems [</span><a href=\"https://www.mayoclinic.org/healthy-lifestyle/consumer-health/expert-answers/what-is-reflexology/faq-20058139\" style=\"text-decoration:none\"><span style=\"color:#1155cc\"><u>R</u></span></a><span style=\"color:#000000\">].</span></p><br>\n"
      ],
      "text/plain": [
       "<IPython.core.display.HTML object>"
      ]
     },
     "metadata": {},
     "output_type": "display_data"
    },
    {
     "data": {
      "text/html": [
       "<h5>Curcumin</h5>\n",
       "Consider supplementing with curcumin<br>\n",
       "<table>\n",
       "<tr>\n",
       "<th>Type</th>\n",
       "<th>Effect</th>\n",
       "<th>Evidence</th>\n",
       "</tr>\n",
       "<tr>\n",
       "<td>supplement</td>\n",
       "<td>0.6</td>\n",
       "<td>0.4</td>\n",
       "</tr>\n",
       "</table>\n",
       "<p>&nbsp;</p>\r\n",
       "\r\n",
       "<p><a href=\"https://supplements.selfdecode.com/blog/curcumin-cures-top-15-scientifically-proven-health-benefits-with-references/\" style=\"text-decoration:none\"><span style=\"color:#1155cc\"><strong><u>Turmeric</u></strong></span></a><span style=\"color:#000000\"><strong> is a yellow spice from India. It may reduce inflammation and</strong></span><a href=\"https://health.selfdecode.com/blog/oxidative-stress-101/\" style=\"text-decoration:none\"><span style=\"color:#1155cc\"><strong><u> oxidative stress</u></strong></span></a><span style=\"color:#000000\"> [</span><a href=\"https://www.nccih.nih.gov/health/turmeric\" style=\"text-decoration:none\"><span style=\"color:#1155cc\"><u>R</u></span></a><span style=\"color:#000000\">].</span></p>\r\n",
       "\r\n",
       "<p>&nbsp;</p>\r\n",
       "\r\n",
       "<p><span style=\"color:#000000\">The most important active compound in turmeric is </span><span style=\"color:#000000\"><strong>curcumin. </strong></span><span style=\"color:#000000\">People use curcumin for [</span><a href=\"https://pubmed.ncbi.nlm.nih.gov/27789120/\" style=\"text-decoration:none\"><span style=\"color:#1155cc\"><u>R</u></span></a><span style=\"color:#000000\">,</span><a href=\"https://pubmed.ncbi.nlm.nih.gov/25046624/\" style=\"text-decoration:none\"><span style=\"color:#000000\"> </span><span style=\"color:#1155cc\"><u>R</u></span></a><span style=\"color:#000000\">,</span><a href=\"https://www.ncbi.nlm.nih.gov/pmc/articles/PMC5664031/\" style=\"text-decoration:none\"><span style=\"color:#000000\"> </span><span style=\"color:#1155cc\"><u>R</u></span></a><span style=\"color:#000000\">,</span><a href=\"https://pubmed.ncbi.nlm.nih.gov/28928074/\" style=\"text-decoration:none\"><span style=\"color:#000000\"> </span><span style=\"color:#1155cc\"><u>R</u></span></a><span style=\"color:#000000\">,</span><a href=\"https://pubmed.ncbi.nlm.nih.gov/29348389/\" style=\"text-decoration:none\"><span style=\"color:#000000\"> </span><span style=\"color:#1155cc\"><u>R</u></span></a><span style=\"color:#000000\">,</span><a href=\"https://pubmed.ncbi.nlm.nih.gov/30653773/\" style=\"text-decoration:none\"><span style=\"color:#000000\"> </span><span style=\"color:#1155cc\"><u>R</u></span></a><span style=\"color:#000000\">]:</span></p>\r\n",
       "\r\n",
       "<ul>\r\n",
       "\t<li style=\"list-style-type:disc\"><span style=\"color:#000000\">Joint pain</span></li>\r\n",
       "\t<li style=\"list-style-type:disc\"><span style=\"color:#000000\">Hay fever</span></li>\r\n",
       "\t<li style=\"list-style-type:disc\"><span style=\"color:#000000\">Mood</span></li>\r\n",
       "\t<li style=\"list-style-type:disc\"><span style=\"color:#000000\">High blood sugar</span></li>\r\n",
       "\t<li style=\"list-style-type:disc\"><span style=\"color:#000000\">Gut health</span></li>\r\n",
       "\t<li style=\"list-style-type:disc\"><span style=\"color:#000000\">Liver health</span></li>\r\n",
       "</ul><br>\n"
      ],
      "text/plain": [
       "<IPython.core.display.HTML object>"
      ]
     },
     "metadata": {},
     "output_type": "display_data"
    },
    {
     "data": {
      "text/html": [
       "<h5>Hops</h5>\n",
       "Consider supplementing with hops<br>\n",
       "<table>\n",
       "<tr>\n",
       "<th>Type</th>\n",
       "<th>Effect</th>\n",
       "<th>Evidence</th>\n",
       "</tr>\n",
       "<tr>\n",
       "<td>supplement</td>\n",
       "<td>0.4</td>\n",
       "<td>0.4</td>\n",
       "</tr>\n",
       "</table>\n",
       "<p><a href=\"https://content.selfdecode.com/blog/hops-16-promising-benefits-side-effects/\" style=\"text-decoration:none\"><span style=\"color:#1155cc\"><u>Hops</u></span></a><span style=\"color:#000000\"> are the female flowers of hop (Humulus lupulus L.), a climbing plant belonging to the same family as hemp [</span><a href=\"https://www.ncbi.nlm.nih.gov/pubmed/18308492\" style=\"text-decoration:none\"><span style=\"color:#1155cc\"><u>R</u></span></a><span style=\"color:#000000\">, </span><a href=\"https://www.ncbi.nlm.nih.gov/pubmed/25708386\" style=\"text-decoration:none\"><span style=\"color:#1155cc\"><u>R</u></span></a><span style=\"color:#000000\">].</span></p>\r\n",
       "\r\n",
       "<p>&nbsp;</p>\r\n",
       "\r\n",
       "<p><span style=\"color:#000000\">All the flavor, aroma, and bitterness of beer comes from hops. They are also used in supplements for [</span><a href=\"https://www.ncbi.nlm.nih.gov/pubmed/18308492\" style=\"text-decoration:none\"><span style=\"color:#1155cc\"><u>R</u></span></a><span style=\"color:#000000\">]:</span></p>\r\n",
       "\r\n",
       "<ul>\r\n",
       "\t<li style=\"list-style-type:disc\"><span style=\"color:#000000\">Insomnia</span></li>\r\n",
       "\t<li style=\"list-style-type:disc\"><span style=\"color:#000000\">Anxiety disorders</span></li>\r\n",
       "\t<li style=\"list-style-type:disc\"><span style=\"color:#000000\">Menopausal symptoms</span></li>\r\n",
       "</ul><br>\n"
      ],
      "text/plain": [
       "<IPython.core.display.HTML object>"
      ]
     },
     "metadata": {},
     "output_type": "display_data"
    },
    {
     "data": {
      "text/html": [
       "<h5>Vitamin C</h5>\n",
       "Consider supplementing with vitamin C<br>\n",
       "<table>\n",
       "<tr>\n",
       "<th>Type</th>\n",
       "<th>Effect</th>\n",
       "<th>Evidence</th>\n",
       "</tr>\n",
       "<tr>\n",
       "<td>supplement</td>\n",
       "<td>0.4</td>\n",
       "<td>0.4</td>\n",
       "</tr>\n",
       "</table>\n",
       "<p><a href=\"https://supplements.selfdecode.com/blog/need-know-vitamin-c-32-science-based-health-benefits/\" style=\"text-decoration:none\"><span style=\"color:#1155cc\"><u>Vitamin C</u></span></a><span style=\"color:#000000\"> is an essential nutrient. This means that our bodies can&rsquo;t produce it on their own, so we have to get it from food or supplements [</span><a href=\"https://ods.od.nih.gov/factsheets/VitaminC-HealthProfessional/\" style=\"text-decoration:none\"><span style=\"color:#1155cc\"><u>R</u></span></a><span style=\"color:#000000\">].&nbsp;</span></p>\r\n",
       "\r\n",
       "<p>&nbsp;</p>\r\n",
       "\r\n",
       "<p><span style=\"color:#000000\">Vitamin C has antioxidant properties. It supports immunity, heart health, and wound healing [</span><a href=\"https://ods.od.nih.gov/factsheets/VitaminC-HealthProfessional/\" style=\"text-decoration:none\"><span style=\"color:#1155cc\"><u>R</u></span></a><span style=\"color:#000000\">, </span><a href=\"https://www.ncbi.nlm.nih.gov/labs/pmc/articles/PMC3783921/\" style=\"text-decoration:none\"><span style=\"color:#1155cc\"><u>R</u></span></a><span style=\"color:#000000\">].</span></p>\r\n",
       "\r\n",
       "<p>&nbsp;</p>\r\n",
       "\r\n",
       "<p><span style=\"color:#000000\">Vitamin C deficiency is called </span><span style=\"color:#000000\"><em>scurvy.</em></span><span style=\"color:#000000\"> In the past, many sailors suffered from it [</span><a href=\"https://pubmed.ncbi.nlm.nih.gov/23183299/\" style=\"text-decoration:none\"><span style=\"color:#1155cc\"><u>R</u></span></a><span style=\"color:#000000\">].</span></p><br>\n"
      ],
      "text/plain": [
       "<IPython.core.display.HTML object>"
      ]
     },
     "metadata": {},
     "output_type": "display_data"
    },
    {
     "data": {
      "text/html": [
       "<h5>L-Arginine and L-Lysine</h5>\n",
       "Consider supplementing with L-arginine and L-lysine<br>\n",
       "<table>\n",
       "<tr>\n",
       "<th>Type</th>\n",
       "<th>Effect</th>\n",
       "<th>Evidence</th>\n",
       "</tr>\n",
       "<tr>\n",
       "<td>supplement</td>\n",
       "<td>0.4</td>\n",
       "<td>0.4</td>\n",
       "</tr>\n",
       "</table>\n",
       "<p style=\"text-align:justify\"><a href=\"https://supplements.selfdecode.com/blog/l-arginine/\" style=\"text-decoration:none\"><span style=\"color:#1155cc\"><strong><u>L-arginine</u></strong></span></a><span style=\"color:#000000\"> </span><span style=\"color:#000000\"><strong>and </strong></span><a href=\"https://supplements.selfdecode.com/blog/lysine-health-benefits/\" style=\"text-decoration:none\"><span style=\"color:#1155cc\"><strong><u>L-lysine</u></strong></span></a><span style=\"color:#000000\"><strong> are building blocks for proteins in our bodies </strong></span><span style=\"color:#000000\">[</span><a href=\"https://pubmed.ncbi.nlm.nih.gov/27660594/\" style=\"text-decoration:none\"><span style=\"color:#1155cc\"><u>R</u></span></a><span style=\"color:#000000\">].</span></p>\r\n",
       "\r\n",
       "<p style=\"text-align:justify\">&nbsp;</p>\r\n",
       "\r\n",
       "<p style=\"text-align:justify\"><span style=\"color:#000000\">All major protein sources, including meat, fish, dairy, and beans, have L-arginine and L-lysine. People also take them as supplements [</span><a href=\"https://ods.od.nih.gov/factsheets/ExerciseAndAthleticPerformance-HealthProfessional/#arginine\" style=\"text-decoration:none\"><span style=\"color:#1155cc\"><u>R</u></span></a><span style=\"color:#000000\">, </span><a href=\"https://pubmed.ncbi.nlm.nih.gov/11077135/\" style=\"text-decoration:none\"><span style=\"color:#1155cc\"><u>R</u></span></a><span style=\"color:#000000\">, </span><a href=\"https://pubmed.ncbi.nlm.nih.gov/16140428/\" style=\"text-decoration:none\"><span style=\"color:#1155cc\"><u>R</u></span></a><span style=\"color:#000000\">, </span><a href=\"https://www.ncbi.nlm.nih.gov/pmc/articles/PMC6267392/\" style=\"text-decoration:none\"><span style=\"color:#1155cc\"><u>R</u></span></a><span style=\"color:#000000\">, </span><a href=\"https://www.ncbi.nlm.nih.gov/pmc/articles/PMC1493753/\" style=\"text-decoration:none\"><span style=\"color:#1155cc\"><u>R</u></span></a><span style=\"color:#000000\">, </span><a href=\"https://pubmed.ncbi.nlm.nih.gov/11157331/\" style=\"text-decoration:none\"><span style=\"color:#1155cc\"><u>R</u></span><span style=\"color:#000000\">, </span></a><a href=\"https://www.mayoclinic.org/drugs-supplements-l-arginine/art-20364681\" style=\"text-decoration:none\"><span style=\"color:#1155cc\"><u>R</u></span><span style=\"color:#000000\">]</span></a><span style=\"color:#000000\">.</span></p>\r\n",
       "\r\n",
       "<p style=\"text-align:justify\">&nbsp;</p>\r\n",
       "\r\n",
       "<p style=\"text-align:justify\"><span style=\"color:#000000\">L-arginine supports healthy blood vessels by releasing a compound called </span><a href=\"https://selfdecode.com/chemical/nitric-oxide/\" style=\"text-decoration:none\"><span style=\"color:#1155cc\"><u>nitric oxide</u></span></a><span style=\"color:#000000\">. It also plays important roles in [</span><a href=\"https://www.mayoclinic.org/drugs-supplements-l-arginine/art-20364681\" style=\"text-decoration:none\"><span style=\"color:#1155cc\"><u>R</u></span></a><span style=\"color:#000000\">, </span><a href=\"https://pubmed.ncbi.nlm.nih.gov/27660594/\" style=\"text-decoration:none\"><span style=\"color:#1155cc\"><u>R</u></span></a><span style=\"color:#000000\">, </span><a href=\"https://ods.od.nih.gov/factsheets/ExerciseAndAthleticPerformance-HealthProfessional/#arginine\" style=\"text-decoration:none\"><span style=\"color:#1155cc\"><u>R</u></span></a><span style=\"color:#000000\">, </span><a href=\"https://pubmed.ncbi.nlm.nih.gov/11077135/\" style=\"text-decoration:none\"><span style=\"color:#1155cc\"><u>R</u></span></a><span style=\"color:#000000\">, </span><a href=\"https://www.ncbi.nlm.nih.gov/pmc/articles/PMC1493753/\" style=\"text-decoration:none\"><span style=\"color:#1155cc\"><u>R</u></span></a><span style=\"color:#000000\">, </span><a href=\"https://pubmed.ncbi.nlm.nih.gov/30770070/\" style=\"text-decoration:none\"><span style=\"color:#1155cc\"><u>R</u></span></a><span style=\"color:#000000\">]:</span></p>\r\n",
       "\r\n",
       "<ul>\r\n",
       "\t<li style=\"list-style-type:disc\"><span style=\"color:#000000\">Heart health</span></li>\r\n",
       "\t<li style=\"list-style-type:disc\"><span style=\"color:#000000\">Blood pressure control</span></li>\r\n",
       "\t<li style=\"list-style-type:disc\"><span style=\"color:#000000\">Immune function</span></li>\r\n",
       "\t<li style=\"list-style-type:disc\"><span style=\"color:#000000\">Muscle growth</span></li>\r\n",
       "\t<li style=\"list-style-type:disc\"><span style=\"color:#000000\">Sexual function</span></li>\r\n",
       "</ul>\r\n",
       "\r\n",
       "<p><span style=\"color:#000000\">L-lysine is crucial to produce energy from fats. It is also important for [</span><a href=\"https://academic.oup.com/jn/article/137/6/1642S/4664934\" style=\"text-decoration:none\"><span style=\"color:#1155cc\"><u>R</u></span></a><span style=\"color:#000000\">, </span><a href=\"https://pubmed.ncbi.nlm.nih.gov/1904695/\" style=\"text-decoration:none\"><span style=\"color:#1155cc\"><u>R</u></span></a><span style=\"color:#000000\">, </span><a href=\"https://pubmed.ncbi.nlm.nih.gov/16857008/\" style=\"text-decoration:none\"><span style=\"color:#1155cc\"><u>R</u></span></a><span style=\"color:#000000\">, </span><a href=\"https://pubmed.ncbi.nlm.nih.gov/6401379/\" style=\"text-decoration:none\"><span style=\"color:#1155cc\"><u>R</u></span></a><span style=\"color:#000000\">]:</span></p>\r\n",
       "\r\n",
       "<ul>\r\n",
       "\t<li style=\"list-style-type:disc\"><span style=\"color:#000000\">Metabolism</span></li>\r\n",
       "\t<li style=\"list-style-type:disc\"><span style=\"color:#000000\">Collagen production</span></li>\r\n",
       "\t<li style=\"list-style-type:disc\"><span style=\"color:#000000\">Gene activity</span></li>\r\n",
       "</ul><br>\n"
      ],
      "text/plain": [
       "<IPython.core.display.HTML object>"
      ]
     },
     "metadata": {},
     "output_type": "display_data"
    },
    {
     "data": {
      "text/html": [
       "<h5>Magnolia and Phellodendron</h5>\n",
       "Consider supplementing with magnolia and phellodendron<br>\n",
       "<table>\n",
       "<tr>\n",
       "<th>Type</th>\n",
       "<th>Effect</th>\n",
       "<th>Evidence</th>\n",
       "</tr>\n",
       "<tr>\n",
       "<td>supplement</td>\n",
       "<td>0.4</td>\n",
       "<td>0.4</td>\n",
       "</tr>\n",
       "</table>\n",
       "<p><a href=\"https://supplements.selfdecode.com/blog/health-benefits-magnolia-bark/\" style=\"text-decoration:none\"><span style=\"color:#1155cc\"><u>Magnolia</u></span></a><span style=\"color:#000000\"> (</span><span style=\"color:#000000\"><em>Magnolia</em></span><span style=\"color:#000000\"> </span><span style=\"color:#000000\"><em>officinalis</em></span><span style=\"color:#000000\">) and Phellodendron (</span><span style=\"color:#000000\"><em>Phellodendron amurense</em></span><span style=\"color:#000000\">) barks and their active constituents, honokiol and berberine, have a long history of use in traditional Chinese medicine. They are commonly used for reducing &ldquo;stagnation of Qi&rdquo; or stress and anxiety [</span><a href=\"https://www.ncbi.nlm.nih.gov/pmc/articles/PMC3750820/\" style=\"text-decoration:none\"><span style=\"color:#1155cc\"><u>R</u></span></a><span style=\"color:#000000\">, </span><a href=\"https://www.ncbi.nlm.nih.gov/pubmed/18093712\" style=\"text-decoration:none\"><span style=\"color:#1155cc\"><u>R</u></span></a><span style=\"color:#000000\">, </span><a href=\"https://www.ncbi.nlm.nih.gov/pubmed/21518336\" style=\"text-decoration:none\"><span style=\"color:#1155cc\"><u>R</u></span></a><span style=\"color:#000000\">, </span><a href=\"https://www.ncbi.nlm.nih.gov/pubmed/11186252\" style=\"text-decoration:none\"><span style=\"color:#1155cc\"><u>R</u></span></a><span style=\"color:#000000\">, </span><a href=\"https://pubmed.ncbi.nlm.nih.gov/25725264/\" style=\"text-decoration:none\"><span style=\"color:#1155cc\"><u>R</u></span></a><span style=\"color:#000000\">].</span></p>\r\n",
       "\r\n",
       "<p>&nbsp;</p>\r\n",
       "\r\n",
       "<p><span style=\"color:#000000\">The combination of magnolia and phellodendron may offer a greater benefit compared to the individual herbs [</span><a href=\"https://www.ncbi.nlm.nih.gov/pmc/articles/PMC3750820/\" style=\"text-decoration:none\"><span style=\"color:#1155cc\"><u>R</u></span></a><span style=\"color:#000000\">].</span></p><br>\n"
      ],
      "text/plain": [
       "<IPython.core.display.HTML object>"
      ]
     },
     "metadata": {},
     "output_type": "display_data"
    },
    {
     "data": {
      "text/html": [
       "<h5>Kanna</h5>\n",
       "Consider supplementing with Kanna (Sceletium tortuosum)<br>\n",
       "<table>\n",
       "<tr>\n",
       "<th>Type</th>\n",
       "<th>Effect</th>\n",
       "<th>Evidence</th>\n",
       "</tr>\n",
       "<tr>\n",
       "<td>supplement</td>\n",
       "<td>0.4</td>\n",
       "<td>0.2</td>\n",
       "</tr>\n",
       "</table>\n",
       "<p><span style=\"color:#000000\">Kanna or </span><a href=\"https://supplements.selfdecode.com/blog/sceletium-tortuosum/\" style=\"text-decoration:none\"><span style=\"color:#1155cc\"><em><u>Sceletium tortuosum</u></em></span></a><span style=\"color:#000000\"> is a South African herb. It is traditionally used to support emotional and mental well-being by native South African people [</span><a href=\"https://www.ncbi.nlm.nih.gov/pmc/articles/PMC3828542/\" style=\"text-decoration:none\"><span style=\"color:#1155cc\"><u>R</u></span></a><span style=\"color:#000000\">].</span></p><br>\n"
      ],
      "text/plain": [
       "<IPython.core.display.HTML object>"
      ]
     },
     "metadata": {},
     "output_type": "display_data"
    },
    {
     "data": {
      "text/html": [
       "<h5>Caralluma Fimbriata</h5>\n",
       "Consider supplementing with caralluma fimbriata<br>\n",
       "<table>\n",
       "<tr>\n",
       "<th>Type</th>\n",
       "<th>Effect</th>\n",
       "<th>Evidence</th>\n",
       "</tr>\n",
       "<tr>\n",
       "<td>supplement</td>\n",
       "<td>0.4</td>\n",
       "<td>0.2</td>\n",
       "</tr>\n",
       "</table>\n",
       "<p><a href=\"https://supplements.selfdecode.com/blog/caralluma-fimbriata/\" style=\"text-decoration:none\"><span style=\"color:#1155cc\"><em><u>Caralluma fimbriata</u></em></span></a><span style=\"color:#000000\"> is a cactus-like plant. It is native to India and Africa, where it is traditionally used to reduce appetite and thirst in times of famine and long hunts. </span><span style=\"color:#000000\"><em>Caralluma fimbriata </em></span><span style=\"color:#000000\">is also used to [</span><a href=\"https://www.ncbi.nlm.nih.gov/pubmed/17097761\" style=\"text-decoration:none\"><span style=\"color:#1155cc\"><u>R</u></span></a><span style=\"color:#000000\">]:</span></p>\r\n",
       "\r\n",
       "<ul>\r\n",
       "\t<li style=\"list-style-type:disc\"><span style=\"color:#000000\">Boost energy</span></li>\r\n",
       "\t<li style=\"list-style-type:disc\"><span style=\"color:#000000\">Lower blood sugar</span></li>\r\n",
       "\t<li style=\"list-style-type:disc\"><span style=\"color:#000000\">Control weight&nbsp;</span></li>\r\n",
       "</ul>\r\n",
       "\r\n",
       "<p><span style=\"color:#000000\">People consume it raw, cooked with spices, or preserved in chutneys and pickles [</span><a href=\"https://www.ncbi.nlm.nih.gov/pubmed/17097761\" style=\"text-decoration:none\"><span style=\"color:#1155cc\"><u>R</u></span></a><span style=\"color:#000000\">].</span></p><br>\n"
      ],
      "text/plain": [
       "<IPython.core.display.HTML object>"
      ]
     },
     "metadata": {},
     "output_type": "display_data"
    },
    {
     "data": {
      "text/html": [
       "<h5>Saffron</h5>\n",
       "Consider supplementing with saffron<br>\n",
       "<table>\n",
       "<tr>\n",
       "<th>Type</th>\n",
       "<th>Effect</th>\n",
       "<th>Evidence</th>\n",
       "</tr>\n",
       "<tr>\n",
       "<td>supplement</td>\n",
       "<td>0.4</td>\n",
       "<td>0.2</td>\n",
       "</tr>\n",
       "</table>\n",
       "<p><a href=\"https://supplements.selfdecode.com/blog/saffron/\" style=\"text-decoration:none\"><span style=\"color:#1155cc\"><strong><u>Saffron</u></strong></span></a><span style=\"color:#000000\"><strong> is a yellow spice</strong></span><span style=\"color:#000000\"> </span><span style=\"color:#000000\"><strong>praised for its color, taste, and potential health benefits</strong></span><span style=\"color:#000000\"><em> </em></span><span style=\"color:#000000\">[</span><a href=\"https://www.ncbi.nlm.nih.gov/pmc/articles/PMC4599112/\" style=\"text-decoration:none\"><span style=\"color:#1155cc\"><u>R</u></span></a><span style=\"color:#000000\">].</span></p>\r\n",
       "\r\n",
       "<p>&nbsp;</p>\r\n",
       "\r\n",
       "<p><span style=\"color:#000000\"><strong>Saffron is rich in antioxidants such as </strong></span><span style=\"color:#000000\"><strong><em>crocin</em></strong></span><span style=\"color:#000000\"><strong>.</strong></span><span style=\"color:#000000\"> Researchers are looking into its potential benefits for [</span><a href=\"https://www.ncbi.nlm.nih.gov/pmc/articles/PMC4599112/\" style=\"text-decoration:none\"><span style=\"color:#1155cc\"><u>R</u></span></a><span style=\"color:#000000\">, </span><a href=\"https://www.ncbi.nlm.nih.gov/pmc/articles/PMC6567082/\" style=\"text-decoration:none\"><span style=\"color:#1155cc\"><u>R</u></span></a><span style=\"color:#000000\">, </span><a href=\"https://www.ncbi.nlm.nih.gov/pmc/articles/PMC3466873/\" style=\"text-decoration:none\"><span style=\"color:#1155cc\"><u>R</u></span></a><span style=\"color:#000000\">, </span><a href=\"https://pubmed.ncbi.nlm.nih.gov/33078480/\" style=\"text-decoration:none\"><span style=\"color:#1155cc\"><u>R</u></span></a><span style=\"color:#000000\">]:</span></p>\r\n",
       "\r\n",
       "<ul>\r\n",
       "\t<li style=\"list-style-type:disc\"><span style=\"color:#000000\">Gut conditions</span></li>\r\n",
       "\t<li style=\"list-style-type:disc\"><span style=\"color:#000000\">Heart health</span></li>\r\n",
       "\t<li style=\"list-style-type:disc\"><span style=\"color:#000000\">Mental health</span></li>\r\n",
       "</ul><br>\n"
      ],
      "text/plain": [
       "<IPython.core.display.HTML object>"
      ]
     },
     "metadata": {},
     "output_type": "display_data"
    },
    {
     "data": {
      "text/html": [
       "<h5>5-HTP</h5>\n",
       "Consider supplementing with 5-HTP<br>\n",
       "<table>\n",
       "<tr>\n",
       "<th>Type</th>\n",
       "<th>Effect</th>\n",
       "<th>Evidence</th>\n",
       "</tr>\n",
       "<tr>\n",
       "<td>supplement</td>\n",
       "<td>0.2</td>\n",
       "<td>0.2</td>\n",
       "</tr>\n",
       "</table>\n",
       "<p style=\"text-align:justify\"><a href=\"https://supplements.selfdecode.com/blog/5-htp-serotonin-depression-risks-benefits/\" style=\"text-decoration:none\"><span style=\"color:#1155cc\"><strong><u>5-HTP</u></strong></span></a><span style=\"color:#000000\"><strong> is a building block for the &ldquo;happiness hormone&rdquo; </strong></span><a href=\"https://health.selfdecode.com/blog/serotonin-deficiency/\" style=\"text-decoration:none\"><span style=\"color:#1155cc\"><strong><u>serotonin</u></strong></span></a><span style=\"color:#000000\">. 5-HTP and serotonin help make </span><a href=\"https://supplements.selfdecode.com/blog/melatonin/\" style=\"text-decoration:none\"><span style=\"color:#1155cc\"><u>melatonin</u></span></a><span style=\"color:#000000\">, a hormone that promotes sleep [</span><a href=\"https://www.ncbi.nlm.nih.gov/pmc/articles/PMC7796270/\" style=\"text-decoration:none\"><span style=\"color:#1155cc\"><u>R</u></span></a><span style=\"color:#000000\">].</span></p>\r\n",
       "\r\n",
       "<p>&nbsp;</p>\r\n",
       "\r\n",
       "<p style=\"text-align:justify\"><span style=\"color:#000000\"><strong>People mainly use 5-HTP as a mood-boosting supplement </strong></span><span style=\"color:#000000\">[</span><a href=\"https://www.ncbi.nlm.nih.gov/pmc/articles/PMC7796270/\" style=\"text-decoration:none\"><span style=\"color:#1155cc\"><u>R</u></span></a><span style=\"color:#000000\">, </span><a href=\"https://pubmed.ncbi.nlm.nih.gov/11869656/\" style=\"text-decoration:none\"><span style=\"color:#1155cc\"><u>R</u></span></a><span style=\"color:#000000\">]. According to early research, it may also:</span></p>\r\n",
       "\r\n",
       "<ul>\r\n",
       "\t<li style=\"list-style-type:disc\"><span style=\"color:#000000\">Reduce appetite [</span><a href=\"https://www.ncbi.nlm.nih.gov/pmc/articles/PMC5256178/\" style=\"text-decoration:none\"><span style=\"color:#1155cc\"><u>R</u></span></a><span style=\"color:#000000\">, </span><a href=\"https://pubmed.ncbi.nlm.nih.gov/9705024/\" style=\"text-decoration:none\"><span style=\"color:#1155cc\"><u>R</u></span></a><span style=\"color:#000000\">, </span><a href=\"https://pubmed.ncbi.nlm.nih.gov/2468734/\" style=\"text-decoration:none\"><span style=\"color:#1155cc\"><u>R</u></span></a><span style=\"color:#000000\">]</span></li>\r\n",
       "\t<li style=\"list-style-type:disc\"><span style=\"color:#000000\">Help with chronic pain and fatigue [</span><a href=\"https://www.ncbi.nlm.nih.gov/pmc/articles/PMC5029758/\" style=\"text-decoration:none\"><span style=\"color:#1155cc\"><u>R</u></span></a><span style=\"color:#000000\">, </span><a href=\"https://pubmed.ncbi.nlm.nih.gov/2193835/\" style=\"text-decoration:none\"><span style=\"color:#1155cc\"><u>R</u></span></a><span style=\"color:#000000\">, </span><a href=\"https://pubmed.ncbi.nlm.nih.gov/1521674/\" style=\"text-decoration:none\"><span style=\"color:#1155cc\"><u>R</u></span></a><span style=\"color:#000000\">]</span></li>\r\n",
       "\t<li style=\"list-style-type:disc\"><span style=\"color:#000000\">Improve sleep quality [</span><a href=\"https://www.ncbi.nlm.nih.gov/pmc/articles/PMC7796270/\" style=\"text-decoration:none\"><span style=\"color:#1155cc\"><u>R</u></span></a><span style=\"color:#000000\">, </span><a href=\"https://pubmed.ncbi.nlm.nih.gov/19417589/\" style=\"text-decoration:none\"><span style=\"color:#1155cc\"><u>R</u></span></a><span style=\"color:#000000\">]</span></li>\r\n",
       "</ul><br>\n"
      ],
      "text/plain": [
       "<IPython.core.display.HTML object>"
      ]
     },
     "metadata": {},
     "output_type": "display_data"
    },
    {
     "data": {
      "text/html": [
       "<h3>Adicciones</h3>\n",
       "Your score: 0.657088122605364<br>\n",
       "Mayor probabilidad de tener adicciones<br>\n",
       "<h4>Summary</h4>\n",
       "<br>\n",
       "<h4>Sobre la Adicción</h4>\n",
       "<p style=\"text-align:justify\"><span style=\"color:#000000\">La </span><span style=\"color:#000000\"><em>adicci&oacute;n</em></span><span style=\"color:#000000\"> se define como la dependencia a un comportamiento o sustancia. Los investigadores creen que casi todo lo que puede estimular a una persona puede acabar provocando una adicci&oacute;n. Esto ocurre cuando algo que primero se hace por costumbre acaba convirti&eacute;ndose en una obligaci&oacute;n</span><span style=\"color:#000000\"><em> </em></span><span style=\"color:#000000\">[</span><a href=\"https://www.ncbi.nlm.nih.gov/pmc/articles/PMC3354400/\" style=\"text-decoration:none\"><span style=\"color:#1155cc\"><u>R</u></span></a><span style=\"color:#000000\">].</span></p>\r\n",
       "\r\n",
       "<p>&nbsp;</p>\r\n",
       "\r\n",
       "<p><span style=\"color:#000000\">Las cosas a las que la gente puede volverse adicta incluyen [</span><a href=\"https://www.ncbi.nlm.nih.gov/pmc/articles/PMC3354400/\" style=\"text-decoration:none\"><span style=\"color:#1155cc\"><u>R</u></span></a><span style=\"color:#000000\">]:</span></p>\r\n",
       "\r\n",
       "<ul>\r\n",
       "\t<li style=\"list-style-type:disc\"><span style=\"color:#000000\">Juego o apuestas</span></li>\r\n",
       "\t<li style=\"list-style-type:disc\"><span style=\"color:#000000\">Tecnolog&iacute;a (por ejemplo, internet, videojuegos, tel&eacute;fono)&nbsp;</span></li>\r\n",
       "\t<li style=\"list-style-type:disc\"><span style=\"color:#000000\">Ejercicio</span></li>\r\n",
       "\t<li style=\"list-style-type:disc\"><span style=\"color:#000000\">Sexo</span></li>\r\n",
       "\t<li style=\"list-style-type:disc\"><span style=\"color:#000000\">Compras</span></li>\r\n",
       "\t<li style=\"list-style-type:disc\"><span style=\"color:#000000\">Sustancias</span></li>\r\n",
       "</ul>\r\n",
       "\r\n",
       "<p style=\"text-align:justify\"><span style=\"color:#000000\">El cerebro tiene sistemas incorporados para sentir placer y recompensa. Por ejemplo, cuando se tiene una experiencia agradable, se activan los sistemas de dopamina. Estos sistemas recompensan los comportamientos que nos ayudan a sobrevivir y reproducirnos, como por ejemplo comer y tener relaciones sexuales. Ante esto, nos sentimos motivados para volver a realizar estos comportamientos [</span><a href=\"https://www.ncbi.nlm.nih.gov/books/NBK424849/\" style=\"text-decoration:none\"><span style=\"color:#1155cc\"><u>R</u></span></a><span style=\"color:#000000\">, </span><a href=\"https://www.ncbi.nlm.nih.gov/labs/pmc/articles/PMC3032992/\" style=\"text-decoration:none\"><span style=\"color:#1155cc\"><u>R</u></span></a><span style=\"color:#000000\">].</span></p>\r\n",
       "\r\n",
       "<p>&nbsp;</p>\r\n",
       "\r\n",
       "<p style=\"text-align:justify\"><span style=\"color:#000000\">Sin embargo, muchas sustancias y comportamientos adictivos tambi&eacute;n pueden activar el sistema de la dopamina. Esto puede provocar cambios en partes del cerebro que refuerzan los h&aacute;bitos relacionados con el consumo de drogas. En las personas con adicci&oacute;n a las drogas, el mero hecho de estar cerca de una determinada persona u objeto puede desencadenar el impulso de consumir una droga&nbsp; [</span><a href=\"https://pubmed.ncbi.nlm.nih.gov/31905114/\" style=\"text-decoration:none\"><span style=\"color:#1155cc\"><u>R</u></span></a><span style=\"color:#000000\">, </span><a href=\"https://www.ncbi.nlm.nih.gov/books/NBK424849/\" style=\"text-decoration:none\"><span style=\"color:#1155cc\"><u>R</u></span></a><span style=\"color:#000000\">, </span><a href=\"https://www.ncbi.nlm.nih.gov/pmc/articles/PMC3354400/\" style=\"text-decoration:none\"><span style=\"color:#1155cc\"><u>R</u></span></a><span style=\"color:#000000\">].</span></p>\r\n",
       "\r\n",
       "<p>&nbsp;</p>\r\n",
       "\r\n",
       "<p style=\"text-align:justify\"><span style=\"color:#000000\">El </span><span style=\"color:#000000\"><em>trastorno por consumo de sustancias</em></span><span style=\"color:#000000\"> es el t&eacute;rmino m&eacute;dico utilizado para la adicci&oacute;n a las drogas. Entre las sustancias a las que las personas pueden volverse adictas se incluye</span><span style=\"color:#000000\"><em> </em></span><span style=\"color:#000000\">[</span><a href=\"https://www.mayoclinic.org/diseases-conditions/drug-addiction/symptoms-causes/syc-20365112\" style=\"text-decoration:none\"><span style=\"color:#1155cc\"><u>R</u></span></a><span style=\"color:#000000\">]:</span></p>\r\n",
       "\r\n",
       "<ul>\r\n",
       "\t<li style=\"list-style-type:disc\"><span style=\"color:#000000\">Tabaco</span></li>\r\n",
       "\t<li style=\"list-style-type:disc\"><span style=\"color:#000000\">Alcohol</span></li>\r\n",
       "\t<li style=\"list-style-type:disc\"><span style=\"color:#000000\">Cannabis</span></li>\r\n",
       "\t<li style=\"list-style-type:disc\"><span style=\"color:#000000\">Opi&aacute;ceos (por ejemplo, hero&iacute;na, morfina, code&iacute;na)</span></li>\r\n",
       "\t<li style=\"list-style-type:disc\"><span style=\"color:#000000\">Estimulantes (por ejemplo, anfetaminas, metanfetamina, coca&iacute;na)</span></li>\r\n",
       "</ul>\r\n",
       "\r\n",
       "<p style=\"text-align:justify\"><span style=\"color:#000000\"><strong>Hasta 1 de cada 10 estadounidenses puede sufrir un trastorno por consumo de sustancias en alg&uacute;n momento de su vida. Es m&aacute;s, s&oacute;lo 1 de cada 4 de estas personas buscar&aacute; tratamiento </strong></span><span style=\"color:#000000\">[</span><a href=\"https://www.nih.gov/news-events/news-releases/10-percent-us-adults-have-drug-use-disorder-some-point-their-lives\" style=\"text-decoration:none\"><span style=\"color:#1155cc\"><u>R</u></span></a><span style=\"color:#000000\">].</span></p>\r\n",
       "\r\n",
       "<p>&nbsp;</p>\r\n",
       "\r\n",
       "<p><span style=\"color:#000000\">La adicci&oacute;n puede tener graves consecuencias. Puede contribuir a [</span><a href=\"https://www.mayoclinic.org/diseases-conditions/drug-addiction/symptoms-causes/syc-20365112\" style=\"text-decoration:none\"><span style=\"color:#1155cc\"><u>R</u></span></a><span style=\"color:#000000\">]:</span></p>\r\n",
       "\r\n",
       "<ul>\r\n",
       "\t<li style=\"list-style-type:disc\"><span style=\"color:#000000\">Accidentes de tr&aacute;fico</span></li>\r\n",
       "\t<li style=\"list-style-type:disc\"><span style=\"color:#000000\">Enfermedades infecciosas (a trav&eacute;s de agujas compartidas o sexo inseguro)</span></li>\r\n",
       "\t<li style=\"list-style-type:disc\"><span style=\"color:#000000\">Problemas familiares o sociales</span></li>\r\n",
       "\t<li style=\"list-style-type:disc\"><span style=\"color:#000000\">Problemas laborales o escolares</span></li>\r\n",
       "\t<li style=\"list-style-type:disc\"><span style=\"color:#000000\">Problemas legales o financieros</span></li>\r\n",
       "\t<li style=\"list-style-type:disc\"><span style=\"color:#000000\">Problemas de salud mental</span></li>\r\n",
       "\t<li style=\"list-style-type:disc\"><span style=\"color:#000000\">Suicidio o sobredosis mortal</span></li>\r\n",
       "</ul>\r\n",
       "\r\n",
       "<p><span style=\"color:#000000\">Los factores de riesgo a las adicciones incluyen [</span><a href=\"https://www.mayoclinic.org/diseases-conditions/drug-addiction/symptoms-causes/syc-20365112\" style=\"text-decoration:none\"><span style=\"color:#1155cc\"><u>R</u></span></a><span style=\"color:#000000\">]:</span></p>\r\n",
       "\r\n",
       "<ul>\r\n",
       "\t<li style=\"list-style-type:disc\"><span style=\"color:#000000\">Enfermedades mentales</span></li>\r\n",
       "\t<li style=\"list-style-type:disc\"><span style=\"color:#000000\">Dificultades en la vida familiar&nbsp;</span></li>\r\n",
       "\t<li style=\"list-style-type:disc\"><span style=\"color:#000000\">Presi&oacute;n social</span></li>\r\n",
       "\t<li style=\"list-style-type:disc\"><span style=\"color:#000000\">Consumo de sustancias a una edad temprana</span></li>\r\n",
       "\t<li style=\"list-style-type:disc\"><span style=\"color:#000000\"><strong>La gen&eacute;tica</strong></span></li>\r\n",
       "</ul>\r\n",
       "\r\n",
       "<p><span style=\"color:#000000\">Superar una adicci&oacute;n incluye evitar la sustancia, el comportamiento o el desencadenante asociado. Esto es muy dif&iacute;cil. Para ayudar en este proceso, los m&eacute;dicos pueden recomendar [</span><a href=\"https://www.ncbi.nlm.nih.gov/books/NBK232966/\" style=\"text-decoration:none\"><span style=\"color:#1155cc\"><u>R</u></span></a><span style=\"color:#000000\">, </span><a href=\"https://www.ncbi.nlm.nih.gov/labs/pmc/articles/PMC2951979/\" style=\"text-decoration:none\"><span style=\"color:#1155cc\"><u>R</u></span></a><span style=\"color:#000000\">, </span><a href=\"https://www.mayoclinic.org/diseases-conditions/drug-addiction/diagnosis-treatment/drc-20365113\" style=\"text-decoration:none\"><span style=\"color:#1155cc\"><u>R</u></span></a><span style=\"color:#000000\">, </span><a href=\"https://nida.nih.gov/publications/drugfacts/treatment-approaches-drug-addiction\" style=\"text-decoration:none\"><span style=\"color:#1155cc\"><u>R</u></span></a><span style=\"color:#000000\">]:</span></p>\r\n",
       "\r\n",
       "<ul>\r\n",
       "\t<li style=\"list-style-type:disc\"><span style=\"color:#000000\">Terapia de abstinencia (por ejemplo, programas de &quot;desintoxicaci&oacute;n&quot; de drogas)</span></li>\r\n",
       "\t<li style=\"list-style-type:disc\"><span style=\"color:#000000\">Terapia de conversaci&oacute;n</span></li>\r\n",
       "\t<li style=\"list-style-type:disc\"><span style=\"color:#000000\">Medicaci&oacute;n</span></li>\r\n",
       "\t<li style=\"list-style-type:disc\"><span style=\"color:#000000\">Seguimiento a largo plazo para evitar reca&iacute;das</span></li>\r\n",
       "</ul>\r\n",
       "\r\n",
       "<p><span style=\"color:#000000\"><strong>Alrededor del 40% de las diferencias en las probabilidades de que las personas desarrollen una adicci&oacute;n pueden atribuirse a la gen&eacute;tica. </strong></span><span style=\"color:#000000\">Los genes implicados en la adicci&oacute;n pueden influir en</span><span style=\"color:#000000\"><strong> </strong></span><span style=\"color:#000000\">[</span><a href=\"https://www.ncbi.nlm.nih.gov/labs/pmc/articles/PMC3506170/\" style=\"text-decoration:none\"><span style=\"color:#1155cc\"><u>R</u></span></a><span style=\"color:#000000\">]:</span></p>\r\n",
       "\r\n",
       "<ul>\r\n",
       "\t<li style=\"list-style-type:disc\"><span style=\"color:#000000\">Habilidad para controlar los impulsos (</span><a href=\"https://selfdecode.com/app/gene/MAOA/\" style=\"text-decoration:none\"><span style=\"color:#1155cc\"><em><u>MAOA</u></em></span></a><span style=\"color:#000000\">, </span><a href=\"https://selfdecode.com/app/gene/HTR2B/\" style=\"text-decoration:none\"><span style=\"color:#1155cc\"><em><u>HTR2B</u></em></span></a><span style=\"color:#000000\">)</span></li>\r\n",
       "\t<li style=\"list-style-type:disc\"><span style=\"color:#1155cc\"><u>Dopamina</u></span><span style=\"color:#000000\"> (</span><a href=\"https://selfdecode.com/app/gene/COMT/\" style=\"text-decoration:none\"><span style=\"color:#1155cc\"><em><u>COMT</u></em></span></a><span style=\"color:#000000\">)</span></li>\r\n",
       "\t<li style=\"list-style-type:disc\"><a href=\"https://selfhacked.com/blog/serotonin-deficiency/\" style=\"text-decoration:none\"><span style=\"color:#1155cc\"><u>Serotonin</u></span></a><span style=\"color:#1155cc\"><u>a</u></span><span style=\"color:#000000\"> (</span><a href=\"https://selfdecode.com/app/gene/SLC6A4/\" style=\"text-decoration:none\"><span style=\"color:#1155cc\"><em><u>SLC6A4</u></em></span></a><span style=\"color:#000000\">)</span></li>\r\n",
       "\t<li style=\"list-style-type:disc\"><span style=\"color:#000000\">Opi&aacute;ceos (</span><a href=\"https://selfdecode.com/app/gene/OPRM1/\" style=\"text-decoration:none\"><span style=\"color:#1155cc\"><em><u>OPRM1</u></em></span></a><span style=\"color:#000000\">)</span></li>\r\n",
       "\t<li style=\"list-style-type:disc\"><span style=\"color:#000000\">Metabolismo del alcohol (</span><a href=\"https://selfdecode.com/app/gene/ALDH2/\" style=\"text-decoration:none\"><span style=\"color:#1155cc\"><em><u>ALDH2</u></em></span></a><span style=\"color:#000000\">, </span><a href=\"https://selfdecode.com/app/gene/ADH1B/\" style=\"text-decoration:none\"><span style=\"color:#1155cc\"><em><u>ADH1B</u></em></span></a><span style=\"color:#000000\">)</span></li>\r\n",
       "</ul><br>\n",
       "<br>\n",
       "<h4>Recommendations</h4>"
      ],
      "text/plain": [
       "<IPython.core.display.HTML object>"
      ]
     },
     "metadata": {},
     "output_type": "display_data"
    },
    {
     "data": {
      "text/html": [
       "<h5>Psicoterapia</h5>\n",
       "Consulte sobre la psicoterapia con su médico<br>\n",
       "<table>\n",
       "<tr>\n",
       "<th>Type</th>\n",
       "<th>Effect</th>\n",
       "<th>Evidence</th>\n",
       "</tr>\n",
       "<tr>\n",
       "<td>lifestyle</td>\n",
       "<td>1.0</td>\n",
       "<td>1.0</td>\n",
       "</tr>\n",
       "</table>\n",
       "<p><span style=\"color:#000000\"><strong>La psicoterapia (terapia conversacional) consiste en hablar sobre su salud con un terapeuta autorizado. </strong></span><span style=\"color:#000000\">Puede mejorar su forma de reaccionar ante determinadas experiencias</span><span style=\"color:#000000\"><strong> </strong></span><span style=\"color:#000000\">[</span><a href=\"https://www.ncbi.nlm.nih.gov/pmc/articles/PMC6448000/\" style=\"text-decoration:none\"><span style=\"color:#1155cc\"><u>R</u></span></a><span style=\"color:#000000\">].</span></p>\r\n",
       "\r\n",
       "<p>&nbsp;</p>\r\n",
       "\r\n",
       "<p><span style=\"color:#000000\"><strong>La terapia de conversaci&oacute;n es una gran manera de mejorar muchas condiciones, </strong></span><span style=\"color:#000000\">incluyendo [</span><a href=\"https://www.ncbi.nlm.nih.gov/pmc/articles/PMC6448000/\" style=\"text-decoration:none\"><span style=\"color:#1155cc\"><u>R</u></span></a><span style=\"color:#000000\">, </span><a href=\"https://www.ncbi.nlm.nih.gov/pmc/articles/PMC5509639/\" style=\"text-decoration:none\"><span style=\"color:#1155cc\"><u>R</u></span></a><span style=\"color:#000000\">, </span><a href=\"https://www.mayoclinic.org/tests-procedures/cognitive-behavioral-therapy/about/pac-20384610\" style=\"text-decoration:none\"><span style=\"color:#1155cc\"><u>R</u></span></a><span style=\"color:#000000\">, </span><a href=\"https://pubmed.ncbi.nlm.nih.gov/11349476/\" style=\"text-decoration:none\"><span style=\"color:#1155cc\"><u>R</u></span></a><span style=\"color:#000000\">]:</span></p>\r\n",
       "\r\n",
       "<ul>\r\n",
       "\t<li style=\"list-style-type:disc\"><span style=\"color:#000000\">Depresi&oacute;n</span></li>\r\n",
       "\t<li style=\"list-style-type:disc\"><span style=\"color:#000000\">Trastornos de ansiedad</span></li>\r\n",
       "\t<li style=\"list-style-type:disc\"><span style=\"color:#000000\">Trastorno de estr&eacute;s postraum&aacute;tico (TEPT)&nbsp;</span></li>\r\n",
       "\t<li style=\"list-style-type:disc\"><span style=\"color:#202124\"><span style=\"background-color:#ffffff\">Trastorno obsesivo-compulsivo (TOC)</span></span></li>\r\n",
       "\t<li style=\"list-style-type:disc\"><span style=\"color:#000000\">Adicciones</span></li>\r\n",
       "\t<li style=\"list-style-type:disc\"><span style=\"color:#000000\">Trastorno bipolar</span></li>\r\n",
       "</ul>\r\n",
       "\r\n",
       "<p><span style=\"color:#000000\"><strong>La terapia cognitivo-conductual (TCC) </strong></span><span style=\"color:#000000\">es un tipo de terapia conversacional. El objetivo de la TCC es cambiar la forma de pensar sobre la vida y sobre uno mismo. A trav&eacute;s de la TCC, un terapeuta puede ayudarle a desarrollar mecanismos de afrontamiento saludables</span><span style=\"color:#000000\"><strong> </strong></span><span style=\"color:#000000\">[</span><a href=\"https://www.mayoclinic.org/tests-procedures/cognitive-behavioral-therapy/about/pac-20384610\" style=\"text-decoration:none\"><span style=\"color:#1155cc\"><u>R</u></span></a><span style=\"color:#000000\">].</span></p><br>\n"
      ],
      "text/plain": [
       "<IPython.core.display.HTML object>"
      ]
     },
     "metadata": {},
     "output_type": "display_data"
    },
    {
     "data": {
      "text/html": [
       "<h5>Grupos de Apoyo</h5>\n",
       "Considere la posibilidad de unirse a un grupo de apoyo.<br>\n",
       "<table>\n",
       "<tr>\n",
       "<th>Type</th>\n",
       "<th>Effect</th>\n",
       "<th>Evidence</th>\n",
       "</tr>\n",
       "<tr>\n",
       "<td>lifestyle</td>\n",
       "<td>0.8</td>\n",
       "<td>0.8</td>\n",
       "</tr>\n",
       "</table>\n",
       "<p><span style=\"color:#212121\">Los grupos de apoyo implican que personas con dificultades similares se ayuden mutuamente. Los grupos de apoyo suelen tener lugar en un entorno informal. Durante las sesiones, las personas comparten sus </span><span style=\"color:#212121\"><span style=\"background-color:#ffffff\">[</span></span><a href=\"https://www.ncbi.nlm.nih.gov/labs/pmc/articles/PMC5047716/\" style=\"text-decoration:none\"><span style=\"color:#1155cc\"><span style=\"background-color:#ffffff\"><u>R</u></span></span></a><span style=\"color:#212121\"><span style=\"background-color:#ffffff\">]:</span></span></p>\r\n",
       "\r\n",
       "<ul>\r\n",
       "\t<li style=\"list-style-type:disc\"><span style=\"color:#212121\"><span style=\"background-color:#ffffff\">Conocimientos</span></span></li>\r\n",
       "\t<li style=\"list-style-type:disc\"><span style=\"color:#212121\"><span style=\"background-color:#ffffff\">Experiencias</span></span></li>\r\n",
       "\t<li style=\"list-style-type:disc\"><span style=\"color:#212121\"><span style=\"background-color:#ffffff\">Estrategias de afrontamiento</span></span></li>\r\n",
       "\t<li style=\"list-style-type:disc\"><span style=\"color:#212121\">Comprensi&oacute;n del proceso de recuperaci&oacute;n</span></li>\r\n",
       "</ul>\r\n",
       "\r\n",
       "<p><span style=\"color:#212121\">Los grupos de apoyo pueden ayudar a la recuperaci&oacute;n de las adicciones </span><span style=\"color:#212121\"><span style=\"background-color:#ffffff\">[</span></span><a href=\"https://www.ncbi.nlm.nih.gov/labs/pmc/articles/PMC5047716/\" style=\"text-decoration:none\"><span style=\"color:#1155cc\"><span style=\"background-color:#ffffff\"><u>R</u></span></span></a><span style=\"color:#212121\"><span style=\"background-color:#ffffff\">].</span></span></p><br>\n"
      ],
      "text/plain": [
       "<IPython.core.display.HTML object>"
      ]
     },
     "metadata": {},
     "output_type": "display_data"
    },
    {
     "data": {
      "text/html": [
       "<h5>Técnicas de Relajación</h5>\n",
       "Practique técnicas de relajación.<br>\n",
       "<table>\n",
       "<tr>\n",
       "<th>Type</th>\n",
       "<th>Effect</th>\n",
       "<th>Evidence</th>\n",
       "</tr>\n",
       "<tr>\n",
       "<td>lifestyle</td>\n",
       "<td>0.6</td>\n",
       "<td>0.6</td>\n",
       "</tr>\n",
       "</table>\n",
       "<p style=\"text-align:justify\"><span style=\"color:#000000\"><strong>Todos nos estresamos de vez en cuando.</strong></span></p>\r\n",
       "\r\n",
       "<p>&nbsp;</p>\r\n",
       "\r\n",
       "<p style=\"text-align:justify\"><span style=\"color:#000000\">El </span><span style=\"color:#1155cc\"><u>estr&eacute;s</u></span><span style=\"color:#000000\"> puede ayudarle a afrontar un reto o a evitar un peligro. Sin embargo,</span><span style=\"color:#000000\"><strong> no es saludable estar estresado durante mucho tiempo </strong></span><span style=\"color:#000000\">[</span><a href=\"https://www.ncbi.nlm.nih.gov/books/NBK541120/\" style=\"text-decoration:none\"><span style=\"color:#1155cc\"><u>R</u></span></a><span style=\"color:#000000\">, </span><a href=\"https://www.ncbi.nlm.nih.gov/pmc/articles/PMC2568977/\" style=\"text-decoration:none\"><span style=\"color:#1155cc\"><u>R</u></span></a><span style=\"color:#000000\">].</span></p>\r\n",
       "\r\n",
       "<p>&nbsp;</p>\r\n",
       "\r\n",
       "<p style=\"text-align:justify\"><span style=\"color:#000000\"><strong>Las t&eacute;cnicas de relajaci&oacute;n como el </strong></span><a href=\"https://selfhacked.com/blog/health-benefits-yoga/\" style=\"text-decoration:none\"><span style=\"color:#1155cc\"><strong><u>yoga</u></strong></span></a><span style=\"color:#000000\"><strong> y la </strong></span><a href=\"https://selfhacked.com/blog/meditation/\" style=\"text-decoration:none\"><span style=\"color:#1155cc\"><strong><u>meditaci&oacute;n</u></strong></span></a><span style=\"color:#000000\"><strong> pueden aliviar el estr&eacute;s de diferentes maneras</strong></span><span style=\"color:#000000\">. La mayor&iacute;a de ellas se centran en la respiraci&oacute;n y le ayudan a deshacerse de los pensamientos y emociones negativas [</span><a href=\"https://www.mayoclinic.org/healthy-lifestyle/stress-management/in-depth/relaxation-technique/art-20045368\" style=\"text-decoration:none\"><span style=\"color:#1155cc\"><u>R</u></span></a><span style=\"color:#000000\">].</span></p>\r\n",
       "\r\n",
       "<p>&nbsp;</p>\r\n",
       "\r\n",
       "<p style=\"text-align:justify\"><span style=\"color:#000000\">Las personas realizan t&eacute;cnicas de relajaci&oacute;n para mejorar condiciones como [</span><a href=\"https://www.ncbi.nlm.nih.gov/books/NBK513238/\" style=\"text-decoration:none\"><span style=\"color:#1155cc\"><u>R</u></span></a><span style=\"color:#000000\">, </span><a href=\"https://www.mayoclinic.org/healthy-lifestyle/consumer-health/in-depth/mindfulness-exercises/art-20046356\" style=\"text-decoration:none\"><span style=\"color:#1155cc\"><u>R</u></span></a><span style=\"color:#000000\">, </span><a href=\"https://pubmed.ncbi.nlm.nih.gov/32406186/\" style=\"text-decoration:none\"><span style=\"color:#1155cc\"><u>R</u></span></a><span style=\"color:#000000\">]:</span></p>\r\n",
       "\r\n",
       "<ul>\r\n",
       "\t<li style=\"list-style-type:disc\"><span style=\"color:#000000\">Ansiedad</span></li>\r\n",
       "\t<li style=\"list-style-type:disc\"><span style=\"color:#000000\">Depresi&oacute;n</span></li>\r\n",
       "\t<li style=\"list-style-type:disc\"><span style=\"color:#000000\">Dolor cr&oacute;nico</span></li>\r\n",
       "</ul><br>\n"
      ],
      "text/plain": [
       "<IPython.core.display.HTML object>"
      ]
     },
     "metadata": {},
     "output_type": "display_data"
    },
    {
     "data": {
      "text/html": [
       "<h5>Ejercicio</h5>\n",
       "Practique ejercicio de forma regular.<br>\n",
       "<table>\n",
       "<tr>\n",
       "<th>Type</th>\n",
       "<th>Effect</th>\n",
       "<th>Evidence</th>\n",
       "</tr>\n",
       "<tr>\n",
       "<td>lifestyle</td>\n",
       "<td>0.6</td>\n",
       "<td>0.6</td>\n",
       "</tr>\n",
       "</table>\n",
       "<p style=\"text-align:justify\"><span style=\"color:#000000\">El </span><span style=\"color:#1155cc\"><strong><u>ejercicio</u></strong></span><span style=\"color:#000000\"><strong> puede obrar milagros en su salud.</strong></span><span style=\"color:#000000\"> Puede ayudarle a perder peso, mejorar su salud card&iacute;aca, mejorar su estado de &aacute;nimo y mucho m&aacute;s [</span><a href=\"https://medlineplus.gov/benefitsofexercise.html\" style=\"text-decoration:none\"><span style=\"color:#1155cc\"><u>R</u></span></a><span style=\"color:#000000\">].</span></p>\r\n",
       "\r\n",
       "<p>&nbsp;</p>\r\n",
       "\r\n",
       "<p style=\"text-align:justify\"><span style=\"color:#000000\">Hay muchas maneras de estar activo. Puede caminar, correr, nadar, bailar o practicar deportes de equipo. </span><span style=\"color:#000000\"><strong>Todo cuenta, &iexcl;y nunca es tarde para empezar!</strong></span></p>\r\n",
       "\r\n",
       "<p>&nbsp;</p>\r\n",
       "\r\n",
       "<p style=\"text-align:justify\"><span style=\"color:#000000\">Intente hacer una mezcla de cardio (al menos 150 min/semana) y entrenamiento de fuerza (2 veces/semana) [</span><a href=\"https://health.gov/sites/default/files/2019-09/Physical_Activity_Guidelines_2nd_edition.pdf#page=56\" style=\"text-decoration:none\"><span style=\"color:#1155cc\"><u>R</u></span></a><span style=\"color:#000000\">].</span></p>\r\n",
       "\r\n",
       "<p>&nbsp;</p><br>\n"
      ],
      "text/plain": [
       "<IPython.core.display.HTML object>"
      ]
     },
     "metadata": {},
     "output_type": "display_data"
    },
    {
     "data": {
      "text/html": [
       "<h5>Aromatherapy</h5>\n",
       "<br>\n",
       "<table>\n",
       "<tr>\n",
       "<th>Type</th>\n",
       "<th>Effect</th>\n",
       "<th>Evidence</th>\n",
       "</tr>\n",
       "<tr>\n",
       "<td>lifestyle</td>\n",
       "<td>0.0</td>\n",
       "<td>0.0</td>\n",
       "</tr>\n",
       "</table>\n",
       "<p>&nbsp;&nbsp;</p><br>\n"
      ],
      "text/plain": [
       "<IPython.core.display.HTML object>"
      ]
     },
     "metadata": {},
     "output_type": "display_data"
    },
    {
     "data": {
      "text/html": [
       "<h5>Qigong</h5>\n",
       "<br>\n",
       "<table>\n",
       "<tr>\n",
       "<th>Type</th>\n",
       "<th>Effect</th>\n",
       "<th>Evidence</th>\n",
       "</tr>\n",
       "<tr>\n",
       "<td>lifestyle</td>\n",
       "<td>0.0</td>\n",
       "<td>0.0</td>\n",
       "</tr>\n",
       "</table>\n",
       "<p>&nbsp; &nbsp;</p><br>\n"
      ],
      "text/plain": [
       "<IPython.core.display.HTML object>"
      ]
     },
     "metadata": {},
     "output_type": "display_data"
    },
    {
     "data": {
      "text/html": [
       "<h5>Acupuncture</h5>\n",
       "<br>\n",
       "<table>\n",
       "<tr>\n",
       "<th>Type</th>\n",
       "<th>Effect</th>\n",
       "<th>Evidence</th>\n",
       "</tr>\n",
       "<tr>\n",
       "<td>lifestyle</td>\n",
       "<td>0.0</td>\n",
       "<td>0.0</td>\n",
       "</tr>\n",
       "</table>\n",
       "<p>&nbsp;&nbsp;</p><br>\n"
      ],
      "text/plain": [
       "<IPython.core.display.HTML object>"
      ]
     },
     "metadata": {},
     "output_type": "display_data"
    },
    {
     "data": {
      "text/html": [
       "<h5>Massage</h5>\n",
       "<br>\n",
       "<table>\n",
       "<tr>\n",
       "<th>Type</th>\n",
       "<th>Effect</th>\n",
       "<th>Evidence</th>\n",
       "</tr>\n",
       "<tr>\n",
       "<td>lifestyle</td>\n",
       "<td>0.0</td>\n",
       "<td>0.0</td>\n",
       "</tr>\n",
       "</table>\n",
       "<p>&nbsp; &nbsp;</p><br>\n"
      ],
      "text/plain": [
       "<IPython.core.display.HTML object>"
      ]
     },
     "metadata": {},
     "output_type": "display_data"
    },
    {
     "data": {
      "text/html": [
       "<h5>Keto Diet</h5>\n",
       "<br>\n",
       "<table>\n",
       "<tr>\n",
       "<th>Type</th>\n",
       "<th>Effect</th>\n",
       "<th>Evidence</th>\n",
       "</tr>\n",
       "<tr>\n",
       "<td>dietary</td>\n",
       "<td>0.0</td>\n",
       "<td>0.0</td>\n",
       "</tr>\n",
       "</table>\n",
       "<p>&nbsp; &nbsp;</p><br>\n"
      ],
      "text/plain": [
       "<IPython.core.display.HTML object>"
      ]
     },
     "metadata": {},
     "output_type": "display_data"
    },
    {
     "data": {
      "text/html": [
       "<h5>Lime Juice</h5>\n",
       "<br>\n",
       "<table>\n",
       "<tr>\n",
       "<th>Type</th>\n",
       "<th>Effect</th>\n",
       "<th>Evidence</th>\n",
       "</tr>\n",
       "<tr>\n",
       "<td>dietary</td>\n",
       "<td>0.0</td>\n",
       "<td>0.0</td>\n",
       "</tr>\n",
       "</table>\n",
       "<p>&nbsp; &nbsp;</p><br>\n"
      ],
      "text/plain": [
       "<IPython.core.display.HTML object>"
      ]
     },
     "metadata": {},
     "output_type": "display_data"
    },
    {
     "data": {
      "text/html": [
       "<h5>Contingency Management and Community Reinforcement</h5>\n",
       "<br>\n",
       "<table>\n",
       "<tr>\n",
       "<th>Type</th>\n",
       "<th>Effect</th>\n",
       "<th>Evidence</th>\n",
       "</tr>\n",
       "<tr>\n",
       "<td>lifestyle</td>\n",
       "<td>0.0</td>\n",
       "<td>0.0</td>\n",
       "</tr>\n",
       "</table>\n",
       "<p>&nbsp;&nbsp;</p><br>\n"
      ],
      "text/plain": [
       "<IPython.core.display.HTML object>"
      ]
     },
     "metadata": {},
     "output_type": "display_data"
    },
    {
     "data": {
      "text/html": [
       "<h5>Cognitive-Behavioral Therapy (CBT)</h5>\n",
       "<br>\n",
       "<table>\n",
       "<tr>\n",
       "<th>Type</th>\n",
       "<th>Effect</th>\n",
       "<th>Evidence</th>\n",
       "</tr>\n",
       "<tr>\n",
       "<td>lifestyle</td>\n",
       "<td>0.0</td>\n",
       "<td>0.0</td>\n",
       "</tr>\n",
       "</table>\n",
       "<p>&nbsp; &nbsp;</p><br>\n"
      ],
      "text/plain": [
       "<IPython.core.display.HTML object>"
      ]
     },
     "metadata": {},
     "output_type": "display_data"
    },
    {
     "data": {
      "text/html": [
       "<h5>Mindfulness</h5>\n",
       "<br>\n",
       "<table>\n",
       "<tr>\n",
       "<th>Type</th>\n",
       "<th>Effect</th>\n",
       "<th>Evidence</th>\n",
       "</tr>\n",
       "<tr>\n",
       "<td>lifestyle</td>\n",
       "<td>0.0</td>\n",
       "<td>0.0</td>\n",
       "</tr>\n",
       "</table>\n",
       "<p>&nbsp; &nbsp;</p><br>\n"
      ],
      "text/plain": [
       "<IPython.core.display.HTML object>"
      ]
     },
     "metadata": {},
     "output_type": "display_data"
    },
    {
     "data": {
      "text/html": [
       "<h5>Yoga</h5>\n",
       "<br>\n",
       "<table>\n",
       "<tr>\n",
       "<th>Type</th>\n",
       "<th>Effect</th>\n",
       "<th>Evidence</th>\n",
       "</tr>\n",
       "<tr>\n",
       "<td>lifestyle</td>\n",
       "<td>0.0</td>\n",
       "<td>0.0</td>\n",
       "</tr>\n",
       "</table>\n",
       "<p>&nbsp;&nbsp;</p><br>\n"
      ],
      "text/plain": [
       "<IPython.core.display.HTML object>"
      ]
     },
     "metadata": {},
     "output_type": "display_data"
    },
    {
     "data": {
      "text/html": [
       "<h5>Guided Imagery</h5>\n",
       "<br>\n",
       "<table>\n",
       "<tr>\n",
       "<th>Type</th>\n",
       "<th>Effect</th>\n",
       "<th>Evidence</th>\n",
       "</tr>\n",
       "<tr>\n",
       "<td>lifestyle</td>\n",
       "<td>0.0</td>\n",
       "<td>0.0</td>\n",
       "</tr>\n",
       "</table>\n",
       "<p>&nbsp; &nbsp;</p><br>\n"
      ],
      "text/plain": [
       "<IPython.core.display.HTML object>"
      ]
     },
     "metadata": {},
     "output_type": "display_data"
    },
    {
     "data": {
      "text/html": [
       "<h3>Atención</h3>\n",
       "Your score: 0.0363984674329502<br>\n",
       "Probabilidad baja de TDAH<br>\n",
       "<h4>Summary</h4>\n",
       "<br>\n",
       "<h4>Sobre la Atención</h4>\n",
       "<p><span style=\"color:#000000\">A todos nos ha costado mantenernos concentrados en una tarea importante. Sin embargo, algunas personas tienen m&aacute;s problemas para prestar </span><a href=\"https://selfhacked.com/blog/focus-attention-improve/\" style=\"text-decoration:none\"><span style=\"color:#1155cc\"><u>atenci&oacute;n</u></span></a><span style=\"color:#000000\"> que otras.</span></p>\r\n",
       "\r\n",
       "<p>&nbsp;</p>\r\n",
       "\r\n",
       "<p><span style=\"color:#000000\">La parte m&aacute;s importante del cerebro para la atenci&oacute;n y la concentraci&oacute;n es la </span><span style=\"color:#000000\"><em>corteza prefrontal</em></span><span style=\"color:#000000\">. Esta regi&oacute;n tambi&eacute;n le ayuda a planificar y resolver problemas [</span><a href=\"https://www.ncbi.nlm.nih.gov/pmc/articles/PMC2738354/\" style=\"text-decoration:none\"><span style=\"color:#1155cc\"><u>R</u></span></a><span style=\"color:#000000\">].</span></p>\r\n",
       "\r\n",
       "<p>&nbsp;</p>\r\n",
       "\r\n",
       "<p><span style=\"color:#000000\">Otras partes del cerebro ayudan a filtrar informaci&oacute;n importante sin tener que pensar en ello. Esto le permite evitar distracciones [</span><a href=\"https://www.ncbi.nlm.nih.gov/pmc/articles/PMC5716209/\" style=\"text-decoration:none\"><span style=\"color:#1155cc\"><u>R</u></span></a><span style=\"color:#000000\">].</span></p>\r\n",
       "\r\n",
       "<p>&nbsp;</p>\r\n",
       "\r\n",
       "<p><span style=\"color:#000000\"><strong>Problemas en estas regiones del cerebro pueden dificultar la concentraci&oacute;n</strong></span><span style=\"color:#000000\">. Algunas personas tienen tanta dificultad para concentrarse que interfiere con su vida diaria. Este es un signo del </span><span style=\"color:#000000\"><em>trastorno por d&eacute;ficit de atenci&oacute;n/hiperactividad</em></span><span style=\"color:#000000\"> (TDAH) [</span><a href=\"https://www.nimh.nih.gov/health/topics/attention-deficit-hyperactivity-disorder-adhd/index.shtml\" style=\"text-decoration:none\"><span style=\"color:#1155cc\"><u>R</u></span></a><span style=\"color:#000000\">].</span></p>\r\n",
       "\r\n",
       "<p>&nbsp;</p>\r\n",
       "\r\n",
       "<p><span style=\"color:#000000\"><strong>El TDAH afecta a millones de ni&ntilde;os y adolescentes en los Estados Unidos.</strong></span><span style=\"color:#000000\"> M&aacute;s ni&ntilde;os que ni&ntilde;as son diagnosticados con TDAH [</span><a href=\"https://www.nimh.nih.gov/health/statistics/attention-deficithyperactivity-disorder-adhd\" style=\"text-decoration:none\"><span style=\"color:#1155cc\"><u>R</u></span></a><span style=\"color:#000000\">].</span></p>\r\n",
       "\r\n",
       "<p>&nbsp;</p>\r\n",
       "\r\n",
       "<p><span style=\"color:#000000\">Los ni&ntilde;os y adolescentes con TDAH tienden a tener problemas en la escuela. Tambi&eacute;n pueden experimentar problemas con las relaciones [</span><a href=\"https://www.cdc.gov/ncbddd/adhd/data.html\" style=\"text-decoration:none\"><span style=\"color:#1155cc\"><u>R</u></span></a><span style=\"color:#000000\">, </span><a href=\"https://www.ncbi.nlm.nih.gov/pubmed/23427026/\" style=\"text-decoration:none\"><span style=\"color:#1155cc\"><u>R</u></span></a><span style=\"color:#000000\">, </span><a href=\"https://www.ncbi.nlm.nih.gov/pubmed/15930238\" style=\"text-decoration:none\"><span style=\"color:#1155cc\"><u>R</u></span></a><span style=\"color:#000000\">, </span><a href=\"https://www.ncbi.nlm.nih.gov/pubmed/27663939\" style=\"text-decoration:none\"><span style=\"color:#1155cc\"><u>R</u></span></a><span style=\"color:#000000\">].</span></p>\r\n",
       "\r\n",
       "<p>&nbsp;</p>\r\n",
       "\r\n",
       "<p><span style=\"color:#000000\"><strong>Los problemas de atenci&oacute;n a menudo contin&uacute;an hasta la edad adulta. </strong></span><span style=\"color:#000000\">Los adultos con TDAH son m&aacute;s propensos a experimentar [</span><a href=\"https://www.mayoclinic.org/diseases-conditions/adult-adhd/symptoms-causes/syc-20350878\" style=\"text-decoration:none\"><span style=\"color:#1155cc\"><u>R</u></span></a><span style=\"color:#000000\">]:</span></p>\r\n",
       "\r\n",
       "<ul>\r\n",
       "\t<li style=\"list-style-type:disc\"><span style=\"color:#000000\">Abuso de sustancias</span></li>\r\n",
       "\t<li style=\"list-style-type:disc\"><span style=\"color:#000000\">Accidentes automovil&iacute;sticos</span></li>\r\n",
       "\t<li style=\"list-style-type:disc\"><span style=\"color:#000000\">Problemas financieros</span></li>\r\n",
       "</ul>\r\n",
       "\r\n",
       "<p><span style=\"color:#000000\">El tratamiento para el TDAH por lo general incluye psicoterapia y medicamentos [</span><a href=\"https://www.nimh.nih.gov/health/topics/attention-deficit-hyperactivity-disorder-adhd/index.shtml\" style=\"text-decoration:none\"><span style=\"color:#1155cc\"><u>R</u></span></a><span style=\"color:#000000\">].</span></p>\r\n",
       "\r\n",
       "<p>&nbsp;</p>\r\n",
       "\r\n",
       "<p><span style=\"color:#000000\">Se desconoce la causa del TDAH. Los factores de riesgo incluyen [</span><a href=\"https://www.nimh.nih.gov/health/topics/attention-deficit-hyperactivity-disorder-adhd/index.shtml#part_145446\" style=\"text-decoration:none\"><span style=\"color:#1155cc\"><u>R</u></span></a><span style=\"color:#000000\">]:</span></p>\r\n",
       "\r\n",
       "<ul>\r\n",
       "\t<li style=\"list-style-type:disc\"><span style=\"color:#000000\">Uso de cigarrillos, drogas o alcohol durante el embarazo por parte de la madre</span></li>\r\n",
       "\t<li style=\"list-style-type:disc\"><span style=\"color:#000000\">Toxinas ambientales</span></li>\r\n",
       "\t<li style=\"list-style-type:disc\"><span style=\"color:#000000\">Lesiones cerebrales</span></li>\r\n",
       "\t<li style=\"list-style-type:disc\"><span style=\"color:#000000\">Gen&eacute;tica</span></li>\r\n",
       "</ul>\r\n",
       "\r\n",
       "<p>&nbsp;</p>\r\n",
       "\r\n",
       "<p><span style=\"color:#000000\"><strong>Hasta el 80% de las diferencias en las posibilidades de que las personas desarrollen TDAH podr&iacute;an atribuirse a la gen&eacute;tica.</strong></span><span style=\"color:#000000\"> Los genes implicados en el TDAH podr&iacute;an influir [</span><a href=\"https://www.ncbi.nlm.nih.gov/pmc/articles/PMC7046577/\" style=\"text-decoration:none\"><span style=\"color:#1155cc\"><u>R</u></span></a><span style=\"color:#000000\">, </span><a href=\"https://www.nature.com/articles/s41380-018-0070-0\" style=\"text-decoration:none\"><span style=\"color:#1155cc\"><u>R</u></span></a><span style=\"color:#000000\">, </span><a href=\"https://www.ncbi.nlm.nih.gov/pmc/articles/PMC2854824/\" style=\"text-decoration:none\"><span style=\"color:#1155cc\"><u>R</u></span></a><span style=\"color:#000000\">, </span><a href=\"https://pubmed.ncbi.nlm.nih.gov/15909295/\" style=\"text-decoration:none\"><span style=\"color:#1155cc\"><u>R</u></span></a><span style=\"color:#000000\">, </span><a href=\"https://www.ncbi.nlm.nih.gov/pmc/articles/PMC2915441/\" style=\"text-decoration:none\"><span style=\"color:#1155cc\"><u>R</u></span></a><span style=\"color:#000000\">, </span><a href=\"https://www.ncbi.nlm.nih.gov/pmc/articles/PMC6869623/\" style=\"text-decoration:none\"><span style=\"color:#1155cc\"><u>R</u></span></a><span style=\"color:#000000\">, </span><a href=\"https://www.ncbi.nlm.nih.gov/pmc/articles/PMC6869623/\" style=\"text-decoration:none\"><span style=\"color:#1155cc\"><u>R</u></span></a><span style=\"color:#000000\">]:</span></p>\r\n",
       "\r\n",
       "<ul>\r\n",
       "\t<li style=\"list-style-type:disc\"><a href=\"https://selfhacked.com/blog/dopamine/\" style=\"text-decoration:none\"><span style=\"color:#1155cc\"><u>Dopamina</u></span></a><span style=\"color:#000000\"> (</span><a href=\"https://selfdecode.com/gene/drd4/\" style=\"text-decoration:none\"><span style=\"color:#1155cc\"><em><u>DRD4</u></em></span></a><span style=\"color:#000000\">, </span><a href=\"https://selfdecode.com/gene/drd5/\" style=\"text-decoration:none\"><span style=\"color:#1155cc\"><em><u>DRD5</u></em></span></a><span style=\"color:#000000\">, </span><a href=\"https://selfdecode.com/gene/comt/\" style=\"text-decoration:none\"><span style=\"color:#1155cc\"><em><u>COMT</u></em></span></a><span style=\"color:#000000\">)</span></li>\r\n",
       "\t<li style=\"list-style-type:disc\"><a href=\"https://selfhacked.com/blog/serotonin-deficiency/\" style=\"text-decoration:none\"><span style=\"color:#1155cc\"><u>Serotonina</u></span></a><span style=\"color:#000000\"> (</span><a href=\"https://selfdecode.com/gene/htr1b/\" style=\"text-decoration:none\"><span style=\"color:#1155cc\"><em><u>HTR1B</u></em></span></a><span style=\"color:#000000\">, </span><a href=\"https://selfdecode.com/gene/slc6a4/\" style=\"text-decoration:none\"><span style=\"color:#1155cc\"><em><u>SLC6A4</u></em></span></a><span style=\"color:#000000\">, </span><a href=\"https://selfdecode.com/gene/snap25/\" style=\"text-decoration:none\"><span style=\"color:#1155cc\"><em><u>SNAP25</u></em></span></a><span style=\"color:#000000\">)</span></li>\r\n",
       "\t<li style=\"list-style-type:disc\"><span style=\"color:#000000\">Crecimiento de las c&eacute;lulas cerebrales (</span><a href=\"https://selfdecode.com/gene/baiap2/\" style=\"text-decoration:none\"><span style=\"color:#1155cc\"><em><u>BAIAP2</u></em></span></a><span style=\"color:#000000\">)</span></li>\r\n",
       "</ul><br>\n",
       "<br>\n",
       "<h4>Recommendations</h4>"
      ],
      "text/plain": [
       "<IPython.core.display.HTML object>"
      ]
     },
     "metadata": {},
     "output_type": "display_data"
    },
    {
     "data": {
      "text/html": [
       "<h5>Psicoterapia</h5>\n",
       "Consulte con su médico sobre la psicoterapia.<br>\n",
       "<table>\n",
       "<tr>\n",
       "<th>Type</th>\n",
       "<th>Effect</th>\n",
       "<th>Evidence</th>\n",
       "</tr>\n",
       "<tr>\n",
       "<td>lifestyle</td>\n",
       "<td>0.8</td>\n",
       "<td>0.8</td>\n",
       "</tr>\n",
       "</table>\n",
       "<p><span style=\"color:#000000\"><strong>La psicoterapia (terapia de conversaci&oacute;n) implica hablar sobre su salud con un terapeuta profesional</strong></span><span style=\"color:#000000\">. Puede ayudar a mejorar la forma en la que reacciona frente a determinadas experiencias [</span><a href=\"https://www.ncbi.nlm.nih.gov/pmc/articles/PMC6448000/\" style=\"text-decoration:none\"><span style=\"color:#1155cc\"><u>R</u></span></a><span style=\"color:#000000\">].</span></p>\r\n",
       "\r\n",
       "<p>&nbsp;</p>\r\n",
       "\r\n",
       "<p><span style=\"color:#000000\"><strong>La psicoterapia es una gran manera de mejorar muchas enfermedades</strong></span><span style=\"color:#000000\">, que incluyen [</span><a href=\"https://www.ncbi.nlm.nih.gov/pmc/articles/PMC6448000/\" style=\"text-decoration:none\"><span style=\"color:#1155cc\"><u>R</u></span></a><span style=\"color:#000000\">, </span><a href=\"https://www.ncbi.nlm.nih.gov/pmc/articles/PMC5509639/\" style=\"text-decoration:none\"><span style=\"color:#1155cc\"><u>R</u></span></a><span style=\"color:#000000\">, </span><a href=\"https://www.mayoclinic.org/tests-procedures/cognitive-behavioral-therapy/about/pac-20384610\" style=\"text-decoration:none\"><span style=\"color:#1155cc\"><u>R</u></span></a><span style=\"color:#000000\">, </span><a href=\"https://pubmed.ncbi.nlm.nih.gov/11349476/\" style=\"text-decoration:none\"><span style=\"color:#1155cc\"><u>R</u></span></a><span style=\"color:#000000\">, </span><a href=\"https://pubmed.ncbi.nlm.nih.gov/28504540/\" style=\"text-decoration:none\"><span style=\"color:#1155cc\"><u>R</u></span></a><span style=\"color:#000000\">]:</span></p>\r\n",
       "\r\n",
       "<ul>\r\n",
       "\t<li style=\"list-style-type:disc\"><span style=\"color:#000000\">Depresi&oacute;n</span></li>\r\n",
       "\t<li style=\"list-style-type:disc\"><span style=\"color:#000000\">Trastornos de ansiedad</span></li>\r\n",
       "\t<li style=\"list-style-type:disc\"><span style=\"color:#000000\">TEPT</span></li>\r\n",
       "\t<li style=\"list-style-type:disc\"><span style=\"color:#000000\">TOC</span></li>\r\n",
       "\t<li style=\"list-style-type:disc\"><span style=\"color:#000000\">Trastorno por abuso de sustancias</span></li>\r\n",
       "\t<li style=\"list-style-type:disc\"><span style=\"color:#000000\">Trastorno bipolar</span></li>\r\n",
       "\t<li style=\"list-style-type:disc\"><span style=\"color:#000000\">TDAH</span></li>\r\n",
       "</ul>\r\n",
       "\r\n",
       "<p>&nbsp;</p>\r\n",
       "\r\n",
       "<p><span style=\"color:#000000\"><strong>La terapia cognitivo-conductual (TCC)</strong></span><span style=\"color:#000000\"> es un tipo de psicoterapia. La TCC tiene como objetivo cambiar la forma en que piensa sobre su vida y sobre usted mismo. A trav&eacute;s de la TCC, un terapeuta puede ayudarlo a desarrollar mecanismos de afrontamiento saludables [</span><a href=\"https://www.mayoclinic.org/tests-procedures/cognitive-behavioral-therapy/about/pac-20384610\" style=\"text-decoration:none\"><span style=\"color:#1155cc\"><u>R</u></span></a><span style=\"color:#000000\">].</span></p><br>\n"
      ],
      "text/plain": [
       "<IPython.core.display.HTML object>"
      ]
     },
     "metadata": {},
     "output_type": "display_data"
    },
    {
     "data": {
      "text/html": [
       "<h5>Optimizar las Horas de Sueño</h5>\n",
       "Intente obtener 7-8 horas de sueño de buena calidad todas las noches.<br>\n",
       "<table>\n",
       "<tr>\n",
       "<th>Type</th>\n",
       "<th>Effect</th>\n",
       "<th>Evidence</th>\n",
       "</tr>\n",
       "<tr>\n",
       "<td>lifestyle</td>\n",
       "<td>0.8</td>\n",
       "<td>0.6</td>\n",
       "</tr>\n",
       "</table>\n",
       "<p><span style=\"color:#000000\"><strong>El </strong></span><a href=\"https://selfhacked.com/blog/health-benefits-sleep/\" style=\"text-decoration:none\"><span style=\"color:#0000ff\"><strong><u>sue&ntilde;o</u></strong></span></a><span style=\"color:#000000\"><strong> ayuda a su cuerpo y mente</strong></span><span style=\"color:#000000\">. M&aacute;s precisamente, dormir ayuda a:</span></p>\r\n",
       "\r\n",
       "<ul>\r\n",
       "\t<li style=\"list-style-type:disc\"><span style=\"color:#000000\">Mejorar la salud del cerebro [</span><a href=\"https://www.ncbi.nlm.nih.gov/pmc/articles/PMC3880190/\" style=\"text-decoration:none\"><span style=\"color:#1155cc\"><u>R</u></span></a><span style=\"color:#000000\">, </span><a href=\"https://www.ncbi.nlm.nih.gov/pubmed/24136944/\" style=\"text-decoration:none\"><span style=\"color:#1155cc\"><u>R</u></span></a><span style=\"color:#000000\">]</span></li>\r\n",
       "\t<li style=\"list-style-type:disc\"><span style=\"color:#000000\">Mantener un peso y apetito saludables [</span><a href=\"https://www.ncbi.nlm.nih.gov/pubmed/24892893\" style=\"text-decoration:none\"><span style=\"color:#1155cc\"><u>R</u></span></a><span style=\"color:#000000\">, </span><a href=\"https://www.ncbi.nlm.nih.gov/pmc/articles/PMC4394987/\" style=\"text-decoration:none\"><span style=\"color:#1155cc\"><u>R</u></span></a><span style=\"color:#000000\">, </span><a href=\"https://www.ncbi.nlm.nih.gov/pmc/articles/PMC535701/\" style=\"text-decoration:none\"><span style=\"color:#1155cc\"><u>R</u></span></a><span style=\"color:#000000\">]</span></li>\r\n",
       "\t<li style=\"list-style-type:disc\"><span style=\"color:#000000\">Regular la presi&oacute;n arterial [</span><a href=\"https://www.ncbi.nlm.nih.gov/pubmed/16585410/\" style=\"text-decoration:none\"><span style=\"color:#1155cc\"><u>R</u></span></a><span style=\"color:#000000\">, </span><a href=\"https://www.ncbi.nlm.nih.gov/pmc/articles/PMC2845795/\" style=\"text-decoration:none\"><span style=\"color:#1155cc\"><u>R</u></span></a><span style=\"color:#000000\">]</span></li>\r\n",
       "\t<li style=\"list-style-type:disc\"><span style=\"color:#000000\">Equilibrar el az&uacute;car en la sangre [</span><a href=\"https://www.ncbi.nlm.nih.gov/pmc/articles/PMC3767932/\" style=\"text-decoration:none\"><span style=\"color:#1155cc\"><u>R</u></span></a><span style=\"color:#000000\">, </span><a href=\"https://www.ncbi.nlm.nih.gov/pmc/articles/PMC2927933/\" style=\"text-decoration:none\"><span style=\"color:#1155cc\"><u>R</u></span></a><span style=\"color:#000000\">]</span></li>\r\n",
       "</ul>\r\n",
       "\r\n",
       "<p>&nbsp;</p>\r\n",
       "\r\n",
       "<p><span style=\"color:#000000\">Las formas para dormir mejor incluyen [</span><a href=\"https://www.mayoclinic.org/healthy-lifestyle/adult-health/in-depth/sleep/art-20048379\" style=\"text-decoration:none\"><span style=\"color:#1155cc\"><u>R</u></span></a><span style=\"color:#000000\">]:</span></p>\r\n",
       "\r\n",
       "<ul>\r\n",
       "\t<li style=\"list-style-type:disc\"><span style=\"color:#000000\">Reducir la exposici&oacute;n a la luz brillante (tiempo de pantalla) por la noche</span></li>\r\n",
       "\t<li style=\"list-style-type:disc\"><span style=\"color:#000000\">Cumplir con un horario de sue&ntilde;o regular</span></li>\r\n",
       "\t<li style=\"list-style-type:disc\"><span style=\"color:#000000\">Evitar el hambre o las comidas abundantes antes de acostarse</span></li>\r\n",
       "\t<li style=\"list-style-type:disc\"><span style=\"color:#000000\">Evitar la nicotina, la cafe&iacute;na y el alcohol antes de acostarse</span></li>\r\n",
       "\t<li style=\"list-style-type:disc\"><span style=\"color:#000000\">Mantener el &aacute;rea para dormir fresca, oscura y silenciosa</span></li>\r\n",
       "</ul><br>\n"
      ],
      "text/plain": [
       "<IPython.core.display.HTML object>"
      ]
     },
     "metadata": {},
     "output_type": "display_data"
    },
    {
     "data": {
      "text/html": [
       "<h5>Café</h5>\n",
       "Beba una cantidad moderada de café.<br>\n",
       "<table>\n",
       "<tr>\n",
       "<th>Type</th>\n",
       "<th>Effect</th>\n",
       "<th>Evidence</th>\n",
       "</tr>\n",
       "<tr>\n",
       "<td>dietary</td>\n",
       "<td>0.4</td>\n",
       "<td>0.6</td>\n",
       "</tr>\n",
       "</table>\n",
       "<p style=\"text-align:justify\"><span style=\"color:#000000\">Las personas beben caf&eacute; para mejorar la energ&iacute;a y el estado de &aacute;nimo. La </span><a href=\"https://selfhacked.com/blog/caffeine-benefits/\" style=\"text-decoration:none\"><span style=\"color:#1155cc\"><u>cafe&iacute;na</u></span></a><span style=\"color:#000000\"> es el principal ingrediente responsable de estos efectos [</span><a href=\"https://www.ncbi.nlm.nih.gov/pubmed/20888549\" style=\"text-decoration:none\"><span style=\"color:#1155cc\"><u>R</u></span></a><span style=\"color:#000000\">, </span><a href=\"https://www.ncbi.nlm.nih.gov/books/NBK519490/\" style=\"text-decoration:none\"><span style=\"color:#1155cc\"><u>R</u></span></a><span style=\"color:#000000\">].</span></p>\r\n",
       "\r\n",
       "<p>&nbsp;</p>\r\n",
       "\r\n",
       "<p style=\"text-align:justify\"><span style=\"color:#000000\">Beber cantidades moderadas de caf&eacute; tambi&eacute;n podr&iacute;a [</span><a href=\"https://www.ncbi.nlm.nih.gov/pmc/articles/PMC5696634/\" style=\"text-decoration:none\"><span style=\"color:#1155cc\"><u>R</u></span></a><span style=\"color:#000000\">, </span><a href=\"https://pubmed.ncbi.nlm.nih.gov/29474816/\" style=\"text-decoration:none\"><span style=\"color:#1155cc\"><u>R</u></span></a><span style=\"color:#000000\">, </span><a href=\"https://www.ncbi.nlm.nih.gov/pmc/articles/PMC6544578/\" style=\"text-decoration:none\"><span style=\"color:#1155cc\"><u>R</u></span></a><span style=\"color:#000000\">]:</span></p>\r\n",
       "\r\n",
       "<ul>\r\n",
       "\t<li style=\"list-style-type:disc\"><span style=\"color:#000000\">Mejorar la salud cardiovascular</span></li>\r\n",
       "\t<li style=\"list-style-type:disc\"><span style=\"color:#000000\">Mejorar el estado de &aacute;nimo</span></li>\r\n",
       "\t<li style=\"list-style-type:disc\"><span style=\"color:#000000\">Ayudar a reducir los niveles de az&uacute;car en la sangre</span></li>\r\n",
       "</ul><br>\n"
      ],
      "text/plain": [
       "<IPython.core.display.HTML object>"
      ]
     },
     "metadata": {},
     "output_type": "display_data"
    },
    {
     "data": {
      "text/html": [
       "<h5>Té</h5>\n",
       "Beba más té o considere tomar suplementos con L-teanina.<br>\n",
       "<table>\n",
       "<tr>\n",
       "<th>Type</th>\n",
       "<th>Effect</th>\n",
       "<th>Evidence</th>\n",
       "</tr>\n",
       "<tr>\n",
       "<td>dietary</td>\n",
       "<td>0.4</td>\n",
       "<td>0.6</td>\n",
       "</tr>\n",
       "</table>\n",
       "<p><span style=\"color:#000000\">El t&eacute; </span><a href=\"http://selfhacked.com/blog/green-tea/\" style=\"text-decoration:none\"><span style=\"color:#1155cc\"><u>verde</u></span></a><span style=\"color:#000000\"> se obtiene de la misma planta que el t&eacute; negro (</span><span style=\"color:#000000\"><em>Camellia sinensis</em></span><span style=\"color:#000000\">). Esta planta se procesa de diferentes formas para elaborar cada tipo de t&eacute; [</span><a href=\"https://www.ncbi.nlm.nih.gov/pmc/articles/PMC4055352/\" style=\"text-decoration:none\"><span style=\"color:#1155cc\"><u>R</u></span></a><span style=\"color:#000000\">, </span><a href=\"https://www.nccih.nih.gov/health/green-tea\" style=\"text-decoration:none\"><span style=\"color:#1155cc\"><u>R</u></span></a><span style=\"color:#000000\">].</span></p>\r\n",
       "\r\n",
       "<p>&nbsp;</p>\r\n",
       "\r\n",
       "<p><span style=\"color:#000000\">El t&eacute; contiene muchos compuestos activos. Estos incluyen antioxidantes como el EGCG y amino&aacute;cidos como la </span><a href=\"https://selfhacked.com/blog/theanine/\" style=\"text-decoration:none\"><span style=\"color:#1155cc\"><u>L-teanina</u></span></a><span style=\"color:#000000\">. Los compuestos activos del t&eacute; ayudan a mejorar [</span><a href=\"https://pubmed.ncbi.nlm.nih.gov/16855537/\" style=\"text-decoration:none\"><span style=\"color:#1155cc\"><u>R</u></span></a><span style=\"color:#000000\">, </span><a href=\"https://pubmed.ncbi.nlm.nih.gov/19668087/\" style=\"text-decoration:none\"><span style=\"color:#1155cc\"><u>R</u></span></a><span style=\"color:#000000\">, </span><a href=\"https://www.ncbi.nlm.nih.gov/pmc/articles/PMC6836118/\" style=\"text-decoration:none\"><span style=\"color:#1155cc\"><u>R</u></span></a><span style=\"color:#000000\">, </span><a href=\"https://www.ncbi.nlm.nih.gov/pmc/articles/PMC3049752/\" style=\"text-decoration:none\"><span style=\"color:#1155cc\"><u>R</u></span></a><span style=\"color:#000000\">, </span><a href=\"https://pubmed.ncbi.nlm.nih.gov/24051231/\" style=\"text-decoration:none\"><span style=\"color:#1155cc\"><u>R</u></span></a><span style=\"color:#000000\">, </span><a href=\"https://pubmed.ncbi.nlm.nih.gov/28566632/\" style=\"text-decoration:none\"><span style=\"color:#1155cc\"><u>R</u></span></a><span style=\"color:#000000\">]:</span></p>\r\n",
       "\r\n",
       "<ul>\r\n",
       "\t<li style=\"list-style-type:disc\"><span style=\"color:#000000\">Salud del coraz&oacute;n</span></li>\r\n",
       "</ul>\r\n",
       "\r\n",
       "<ul>\r\n",
       "\t<li style=\"list-style-type:disc\"><span style=\"color:#000000\">Cognici&oacute;n</span></li>\r\n",
       "\t<li style=\"list-style-type:disc\"><span style=\"color:#000000\">Inmunidad</span></li>\r\n",
       "\t<li style=\"list-style-type:disc\"><span style=\"color:#000000\">Relajaci&oacute;n</span></li>\r\n",
       "</ul><br>\n"
      ],
      "text/plain": [
       "<IPython.core.display.HTML object>"
      ]
     },
     "metadata": {},
     "output_type": "display_data"
    },
    {
     "data": {
      "text/html": [
       "<h5>Hierro</h5>\n",
       "Considere obtener más hierro de alimentos o suplementos.<br>\n",
       "<table>\n",
       "<tr>\n",
       "<th>Type</th>\n",
       "<th>Effect</th>\n",
       "<th>Evidence</th>\n",
       "</tr>\n",
       "<tr>\n",
       "<td>supplement</td>\n",
       "<td>0.6</td>\n",
       "<td>0.6</td>\n",
       "</tr>\n",
       "</table>\n",
       "<p><span style=\"color:#000000\">El </span><a href=\"https://selfhacked.com/blog/iron-balance-blood-test-iron-deficiency-anemia-overload/\" style=\"text-decoration:none\"><span style=\"color:#1155cc\"><strong><u>hierro </u></strong></span></a><span style=\"color:#000000\">(Fe) es un mineral esencial. Ayuda a producir </span><a href=\"https://selfhacked.com/blog/hemoglobin-good-bad-lab-tests-normal-values-reference-ranges/\" style=\"text-decoration:none\"><span style=\"color:#1155cc\"><u>hemoglobina</u></span></a><span style=\"color:#000000\">, una prote&iacute;na que transporta ox&iacute;geno a las c&eacute;lulas. De esta forma, el hierro </span><span style=\"color:#000000\"><strong>aumenta la energ&iacute;a</strong></span><span style=\"color:#000000\"> y promueve la </span><span style=\"color:#000000\"><strong>funci&oacute;n cerebral y del sistema inmunol&oacute;gico</strong></span><span style=\"color:#000000\"> [</span><a href=\"https://www.ncbi.nlm.nih.gov/pmc/articles/PMC3999603/\" style=\"text-decoration:none\"><span style=\"color:#1155cc\"><u>R</u></span></a><span style=\"color:#000000\">, </span><a href=\"https://www.ncbi.nlm.nih.gov/pmc/articles/PMC4086762/\" style=\"text-decoration:none\"><span style=\"color:#1155cc\"><u>R</u></span></a><span style=\"color:#000000\">, </span><a href=\"https://www.ncbi.nlm.nih.gov/books/NBK540969/\" style=\"text-decoration:none\"><span style=\"color:#1155cc\"><u>R</u></span></a><span style=\"color:#000000\">].</span></p>\r\n",
       "\r\n",
       "<p>&nbsp;</p>\r\n",
       "\r\n",
       "<p><span style=\"color:#000000\">Los alimentos ricos en hierro incluyen [</span><a href=\"https://ods.od.nih.gov/factsheets/Iron-HealthProfessional/\" style=\"text-decoration:none\"><span style=\"color:#1155cc\"><u>R</u></span></a><span style=\"color:#000000\">]:</span></p>\r\n",
       "\r\n",
       "<ul>\r\n",
       "\t<li style=\"list-style-type:disc\"><span style=\"color:#000000\">Ostras</span></li>\r\n",
       "\t<li style=\"list-style-type:disc\"><span style=\"color:#000000\">Frijoles blancos</span></li>\r\n",
       "\t<li style=\"list-style-type:disc\"><span style=\"color:#000000\">Carne de res</span></li>\r\n",
       "\t<li style=\"list-style-type:disc\"><span style=\"color:#000000\">Chocolate</span></li>\r\n",
       "\t<li style=\"list-style-type:disc\"><span style=\"color:#000000\">Espinacas</span></li>\r\n",
       "\t<li style=\"list-style-type:disc\"><span style=\"color:#000000\">Cereales fortificados</span></li>\r\n",
       "</ul>\r\n",
       "\r\n",
       "<p><span style=\"color:#000000\">Las </span><span style=\"color:#000000\"><strong>mujeres </strong></span><span style=\"color:#000000\">deben consumir </span><span style=\"color:#000000\"><strong>8-18 mg</strong></span><span style=\"color:#000000\"> de hierro por d&iacute;a, mientras que los </span><span style=\"color:#000000\"><strong>hombres</strong></span><span style=\"color:#000000\"> deben consumir </span><span style=\"color:#000000\"><strong>8 mg</strong></span><span style=\"color:#000000\"> [</span><a href=\"https://ods.od.nih.gov/factsheets/Iron-HealthProfessional/\" style=\"text-decoration:none\"><span style=\"color:#1155cc\"><u>R</u></span></a><span style=\"color:#000000\">].</span></p>\r\n",
       "\r\n",
       "<p>&nbsp;</p>\r\n",
       "\r\n",
       "<p><span style=\"color:#000000\">Los grupos en riesgo de d&eacute;ficit de hierro incluyen [</span><a href=\"https://www.mayoclinic.org/diseases-conditions/iron-deficiency-anemia/symptoms-causes/syc-20355034\" style=\"text-decoration:none\"><span style=\"color:#1155cc\"><u>R</u></span></a><span style=\"color:#000000\">]:</span></p>\r\n",
       "\r\n",
       "<ul>\r\n",
       "\t<li style=\"list-style-type:disc\"><span style=\"color:#000000\">Mujeres</span></li>\r\n",
       "\t<li style=\"list-style-type:disc\"><span style=\"color:#000000\">Ni&ntilde;os</span></li>\r\n",
       "\t<li style=\"list-style-type:disc\"><span style=\"color:#000000\">Vegetarianos</span></li>\r\n",
       "\t<li style=\"list-style-type:disc\"><span style=\"color:#000000\">Donantes de sangre regulares</span></li>\r\n",
       "</ul><br>\n"
      ],
      "text/plain": [
       "<IPython.core.display.HTML object>"
      ]
     },
     "metadata": {},
     "output_type": "display_data"
    },
    {
     "data": {
      "text/html": [
       "<h5>Entrenamiento Cognitivo</h5>\n",
       "Practique técnicas de entrenamiento cognitivo.<br>\n",
       "<table>\n",
       "<tr>\n",
       "<th>Type</th>\n",
       "<th>Effect</th>\n",
       "<th>Evidence</th>\n",
       "</tr>\n",
       "<tr>\n",
       "<td>lifestyle</td>\n",
       "<td>0.2</td>\n",
       "<td>0.6</td>\n",
       "</tr>\n",
       "</table>\n",
       "<p><span style=\"color:#000000\">Los programas de</span><span style=\"color:#000000\"><strong> entrenamiento cognitivo </strong></span><span style=\"color:#000000\">lo gu&iacute;an a trav&eacute;s de tareas desafiantes. Su objetivo es mejorar algunas funciones cognitivas, que incluyen</span><span style=\"color:#000000\"><strong> </strong></span><span style=\"color:#000000\">[</span><a href=\"https://www.cochrane.org/CD013069/DEMENTIA_cognitive-training-people-mild-moderate-dementia\" style=\"text-decoration:none\"><span style=\"color:#1155cc\"><u>R</u></span></a><span style=\"color:#000000\">]:</span></p>\r\n",
       "\r\n",
       "<ul>\r\n",
       "\t<li style=\"list-style-type:disc\"><span style=\"color:#000000\">Memoria</span></li>\r\n",
       "\t<li style=\"list-style-type:disc\"><span style=\"color:#000000\">Atenci&oacute;n</span></li>\r\n",
       "\t<li style=\"list-style-type:disc\"><span style=\"color:#000000\">Habilidades para resolver problemas&nbsp;</span></li>\r\n",
       "</ul>\r\n",
       "\r\n",
       "<p>&nbsp;</p>\r\n",
       "\r\n",
       "<p><span style=\"color:#000000\"><strong>A algunos cient&iacute;ficos les gusta pensar en el cerebro como un m&uacute;sculo</strong></span><span style=\"color:#000000\">. Dicen que si no se usa, se atrofia. De acuerdo con esto, el entrenamiento cognitivo puede considerarse un &ldquo;ejercicio cerebral&rdquo;. A menudo se brinda a trav&eacute;s de programas inform&aacute;ticos [</span><a href=\"https://pubmed.ncbi.nlm.nih.gov/31154013/\" style=\"text-decoration:none\"><span style=\"color:#1155cc\"><u>R</u></span></a><span style=\"color:#000000\">, </span><a href=\"https://pubmed.ncbi.nlm.nih.gov/30864187/\" style=\"text-decoration:none\"><span style=\"color:#1155cc\"><u>R</u></span></a><span style=\"color:#000000\">].</span></p><br>\n"
      ],
      "text/plain": [
       "<IPython.core.display.HTML object>"
      ]
     },
     "metadata": {},
     "output_type": "display_data"
    },
    {
     "data": {
      "text/html": [
       "<h5>Bacopa</h5>\n",
       "Considere tomar suplementos con bacopa.<br>\n",
       "<table>\n",
       "<tr>\n",
       "<th>Type</th>\n",
       "<th>Effect</th>\n",
       "<th>Evidence</th>\n",
       "</tr>\n",
       "<tr>\n",
       "<td>supplement</td>\n",
       "<td>0.4</td>\n",
       "<td>0.6</td>\n",
       "</tr>\n",
       "</table>\n",
       "<p><span style=\"color:#000000\">La </span><a href=\"https://selfhacked.com/blog/bacopa-monnieri-4/\" style=\"text-decoration:none\"><span style=\"color:#1155cc\"><u>bacopa</u></span></a><span style=\"color:#000000\"> (</span><span style=\"color:#000000\"><em>Bacopa monnieri</em></span><span style=\"color:#000000\">) crece como maleza en los campos de arroz de Asia oriental y EE. UU. [</span><a href=\"https://www.ncbi.nlm.nih.gov/labs/pmc/articles/PMC3746283/\" style=\"text-decoration:none\"><span style=\"color:#1155cc\"><u>R</u></span></a><span style=\"color:#000000\">].&nbsp;</span></p>\r\n",
       "\r\n",
       "<p><br />\r\n",
       "<span style=\"color:#000000\">La bacopa se utiliza en la Ayurveda (medicina tradicional india) para mejorar la cognici&oacute;n [</span><a href=\"https://www.ncbi.nlm.nih.gov/pmc/articles/PMC3746283/\" style=\"text-decoration:none\"><span style=\"color:#1155cc\"><u>R</u></span></a><span style=\"color:#000000\">].</span></p><br>\n"
      ],
      "text/plain": [
       "<IPython.core.display.HTML object>"
      ]
     },
     "metadata": {},
     "output_type": "display_data"
    },
    {
     "data": {
      "text/html": [
       "<h5>Ginseng</h5>\n",
       "Considere tomar suplementos con ginseng.<br>\n",
       "<table>\n",
       "<tr>\n",
       "<th>Type</th>\n",
       "<th>Effect</th>\n",
       "<th>Evidence</th>\n",
       "</tr>\n",
       "<tr>\n",
       "<td>supplement</td>\n",
       "<td>0.4</td>\n",
       "<td>0.4</td>\n",
       "</tr>\n",
       "</table>\n",
       "<p><span style=\"color:#000000\">El </span><a href=\"https://selfhacked.com/blog/ginseng/\" style=\"text-decoration:none\"><span style=\"color:#1155cc\"><u>ginseng </u></span></a><span style=\"color:#000000\">es una planta usada com&uacute;nmente para mejorar [</span><a href=\"https://www.ncbi.nlm.nih.gov/pmc/articles/PMC2561113/\" style=\"text-decoration:none\"><span style=\"color:#1155cc\"><u>R</u></span></a><span style=\"color:#000000\">, </span><a href=\"https://pubmed.ncbi.nlm.nih.gov/8879982/\" style=\"text-decoration:none\"><span style=\"color:#1155cc\"><u>R</u></span></a><span style=\"color:#000000\">, </span><a href=\"https://www.ncbi.nlm.nih.gov/pmc/articles/PMC5102849/\" style=\"text-decoration:none\"><span style=\"color:#1155cc\"><u>R</u></span></a><span style=\"color:#000000\">, </span><a href=\"https://pubmed.ncbi.nlm.nih.gov/25369174/\" style=\"text-decoration:none\"><span style=\"color:#1155cc\"><u>R</u></span></a><span style=\"color:#000000\">]:</span></p>\r\n",
       "\r\n",
       "<ul>\r\n",
       "\t<li style=\"list-style-type:disc\"><span style=\"color:#000000\">Rendimiento sexual&nbsp;</span></li>\r\n",
       "\t<li style=\"list-style-type:disc\"><span style=\"color:#000000\">Inmunidad</span></li>\r\n",
       "\t<li style=\"list-style-type:disc\"><span style=\"color:#000000\">Fatiga</span></li>\r\n",
       "\t<li style=\"list-style-type:disc\"><span style=\"color:#000000\">Atenci&oacute;n</span></li>\r\n",
       "</ul>\r\n",
       "\r\n",
       "<p>&nbsp;</p>\r\n",
       "\r\n",
       "<p><span style=\"color:#000000\">Existen diversos tipos de ginseng. Los m&aacute;s frecuentes son [</span><a href=\"https://pubmed.ncbi.nlm.nih.gov/14596440/\" style=\"text-decoration:none\"><span style=\"color:#1155cc\"><u>R</u></span></a><span style=\"color:#000000\">, </span><a href=\"https://www.ncbi.nlm.nih.gov/pmc/articles/PMC6567205/\" style=\"text-decoration:none\"><span style=\"color:#1155cc\"><u>R</u></span></a><span style=\"color:#000000\">, </span><a href=\"https://www.ncbi.nlm.nih.gov/pmc/articles/PMC3659622/\" style=\"text-decoration:none\"><span style=\"color:#1155cc\"><u>R</u></span></a><span style=\"color:#000000\">]:</span></p>\r\n",
       "\r\n",
       "<ul>\r\n",
       "\t<li style=\"list-style-type:disc\"><span style=\"color:#000000\">Ginseng rojo coreano, tambi&eacute;n llamado ginseng asi&aacute;tico o chino (</span><span style=\"color:#000000\"><em>Panax ginseng</em></span><span style=\"color:#000000\">)</span></li>\r\n",
       "</ul>\r\n",
       "\r\n",
       "<p><a href=\"https://selfhacked.com/blog/american-ginseng/\" style=\"text-decoration:none\"><span style=\"color:#1155cc\"><u>Ginseng americano</u></span></a><span style=\"color:#000000\"> (</span><span style=\"color:#000000\"><em>Panax quinquefolius</em></span><span style=\"color:#000000\">)</span></p><br>\n"
      ],
      "text/plain": [
       "<IPython.core.display.HTML object>"
      ]
     },
     "metadata": {},
     "output_type": "display_data"
    },
    {
     "data": {
      "text/html": [
       "<h5>Extracto de Corteza de Pino</h5>\n",
       "Considere usar suplementos con extracto de corteza de pino.<br>\n",
       "<table>\n",
       "<tr>\n",
       "<th>Type</th>\n",
       "<th>Effect</th>\n",
       "<th>Evidence</th>\n",
       "</tr>\n",
       "<tr>\n",
       "<td>supplement</td>\n",
       "<td>0.4</td>\n",
       "<td>0.4</td>\n",
       "</tr>\n",
       "</table>\n",
       "<p><span style=\"color:#000000\"><strong>El extracto de corteza de pino se obtiene de la corteza de un tipo de pino que crece en el Mediterr&aacute;neo </strong></span><span style=\"color:#000000\">[</span><a href=\"https://pubmed.ncbi.nlm.nih.gov/11996210/\" style=\"text-decoration:none\"><span style=\"color:#1155cc\"><u>R</u></span></a><span style=\"color:#000000\">, </span><a href=\"https://medlineplus.gov/druginfo/natural/1019.html\" style=\"text-decoration:none\"><span style=\"color:#1155cc\"><u>R</u></span></a><span style=\"color:#000000\">].</span></p>\r\n",
       "\r\n",
       "<p>&nbsp;</p>\r\n",
       "\r\n",
       "<p><span style=\"color:#000000\">Podr&iacute;a mejorar [</span><a href=\"https://pubmed.ncbi.nlm.nih.gov/24247188/\" style=\"text-decoration:none\"><span style=\"color:#1155cc\"><u>R</u></span></a><span style=\"color:#000000\">, </span><a href=\"https://pubmed.ncbi.nlm.nih.gov/20549654/\" style=\"text-decoration:none\"><span style=\"color:#1155cc\"><u>R</u></span></a><span style=\"color:#000000\">, </span><a href=\"https://pubmed.ncbi.nlm.nih.gov/24675223/\" style=\"text-decoration:none\"><span style=\"color:#1155cc\"><u>R</u></span></a><span style=\"color:#000000\">, </span><a href=\"https://pubmed.ncbi.nlm.nih.gov/18386255/\" style=\"text-decoration:none\"><span style=\"color:#1155cc\"><u>R</u></span></a><span style=\"color:#000000\">, </span><a href=\"https://pubmed.ncbi.nlm.nih.gov/19017467/\" style=\"text-decoration:none\"><span style=\"color:#1155cc\"><u>R</u></span></a><span style=\"color:#000000\">, </span><a href=\"https://pubmed.ncbi.nlm.nih.gov/28255210/\" style=\"text-decoration:none\"><span style=\"color:#1155cc\"><u>R</u></span></a><span style=\"color:#000000\">]:&nbsp;</span></p>\r\n",
       "\r\n",
       "<ul>\r\n",
       "\t<li style=\"list-style-type:disc\"><span style=\"color:#000000\">Desempe&ntilde;o atl&eacute;tico</span></li>\r\n",
       "\t<li style=\"list-style-type:disc\"><span style=\"color:#000000\">Alergias estacionales</span></li>\r\n",
       "\t<li style=\"list-style-type:disc\"><span style=\"color:#000000\">Funci&oacute;n cognitiva</span></li>\r\n",
       "\t<li style=\"list-style-type:disc\"><span style=\"color:#000000\">Salud articular</span></li>\r\n",
       "\t<li style=\"list-style-type:disc\"><span style=\"color:#000000\">V&aacute;rices</span></li>\r\n",
       "</ul><br>\n"
      ],
      "text/plain": [
       "<IPython.core.display.HTML object>"
      ]
     },
     "metadata": {},
     "output_type": "display_data"
    },
    {
     "data": {
      "text/html": [
       "<h5>Hierbabuena</h5>\n",
       "Considere tomar suplementos con hierbabuena.<br>\n",
       "<table>\n",
       "<tr>\n",
       "<th>Type</th>\n",
       "<th>Effect</th>\n",
       "<th>Evidence</th>\n",
       "</tr>\n",
       "<tr>\n",
       "<td>supplement</td>\n",
       "<td>0.4</td>\n",
       "<td>0.4</td>\n",
       "</tr>\n",
       "</table>\n",
       "<p><span style=\"color:#000000\">La hierbabuena (</span><span style=\"color:#000000\"><em>Mentha spicata</em></span><span style=\"color:#000000\">) es una hierba arom&aacute;tica utilizada para dar sabor a los alimentos y el t&eacute; [</span><a href=\"https://www.ncbi.nlm.nih.gov/labs/pmc/articles/PMC6854165/\" style=\"text-decoration:none\"><span style=\"color:#1155cc\"><u>R</u></span></a><span style=\"color:#000000\">].</span></p>\r\n",
       "\r\n",
       "<p>&nbsp;</p>\r\n",
       "\r\n",
       "<p><span style=\"color:#000000\">Las personas tambi&eacute;n utilizan la hierbabuena para ayudar con [</span><a href=\"https://pubmed.ncbi.nlm.nih.gov/34087400/\" style=\"text-decoration:none\"><span style=\"color:#1155cc\"><u>R</u></span></a><span style=\"color:#000000\">, </span><a href=\"https://pubmed.ncbi.nlm.nih.gov/22435615/\" style=\"text-decoration:none\"><span style=\"color:#1155cc\"><u>R</u></span></a><span style=\"color:#000000\">, </span><a href=\"https://pubmed.ncbi.nlm.nih.gov/17310494/\" style=\"text-decoration:none\"><span style=\"color:#1155cc\"><u>R</u></span></a><span style=\"color:#000000\">, </span><a href=\"https://pubmed.ncbi.nlm.nih.gov/30802720/\" style=\"text-decoration:none\"><span style=\"color:#1155cc\"><u>R</u></span></a><span style=\"color:#000000\">]:</span></p>\r\n",
       "\r\n",
       "<ul>\r\n",
       "\t<li style=\"list-style-type:disc\"><span style=\"color:#000000\">Problemas digestivos</span></li>\r\n",
       "\t<li style=\"list-style-type:disc\"><span style=\"color:#000000\">Tos y problemas respiratorios&nbsp;</span></li>\r\n",
       "\t<li style=\"list-style-type:disc\"><span style=\"color:#000000\">Cognici&oacute;n</span></li>\r\n",
       "</ul><br>\n"
      ],
      "text/plain": [
       "<IPython.core.display.HTML object>"
      ]
     },
     "metadata": {},
     "output_type": "display_data"
    },
    {
     "data": {
      "text/html": [
       "<h5>Ejercicio</h5>\n",
       "Realice ejercicio con regularidad.<br>\n",
       "<table>\n",
       "<tr>\n",
       "<th>Type</th>\n",
       "<th>Effect</th>\n",
       "<th>Evidence</th>\n",
       "</tr>\n",
       "<tr>\n",
       "<td>lifestyle</td>\n",
       "<td>0.6</td>\n",
       "<td>0.8</td>\n",
       "</tr>\n",
       "</table>\n",
       "<p style=\"text-align:justify\"><span style=\"color:#000000\"><strong>El </strong></span><a href=\"https://selfhacked.com/blog/top-14-proven-health-benefits-exercise-references-mechanisms/\" style=\"text-decoration:none\"><span style=\"color:#0000ff\"><strong><u>ejercicio</u></strong></span></a><span style=\"color:#000000\"> </span><span style=\"color:#000000\"><strong>puede hacer maravillas por su salud</strong></span><span style=\"color:#000000\">. Puede ayudarle a perder peso, optimizar la salud de su coraz&oacute;n, mejorar su estado de &aacute;nimo y m&aacute;s [</span><a href=\"https://medlineplus.gov/benefitsofexercise.html\" style=\"text-decoration:none\"><span style=\"color:#1155cc\"><u>R</u></span></a><span style=\"color:#000000\">].</span></p>\r\n",
       "\r\n",
       "<p>&nbsp;</p>\r\n",
       "\r\n",
       "<p style=\"text-align:justify\"><span style=\"color:#000000\">Existen diversas maneras de mantenerse activo. Puede caminar, correr, nadar, bailar o practicar deportes en equipo </span><span style=\"color:#000000\"><strong>&iexcl;Todo cuenta y nunca es tarde para empezar!</strong></span></p>\r\n",
       "\r\n",
       "<p><br />\r\n",
       "<span style=\"color:#000000\">Trate de combinar rutinas de cardio (al menos 150 min/semana) y de entrenamiento de fuerza (2 veces/semana) [</span><a href=\"https://health.gov/sites/default/files/2019-09/Physical_Activity_Guidelines_2nd_edition.pdf#page=56\" style=\"text-decoration:none\"><span style=\"color:#1155cc\"><u>R</u></span></a><span style=\"color:#000000\">].</span></p><br>\n"
      ],
      "text/plain": [
       "<IPython.core.display.HTML object>"
      ]
     },
     "metadata": {},
     "output_type": "display_data"
    },
    {
     "data": {
      "text/html": [
       "<h5>Técnicas de Relajación</h5>\n",
       "Practique técnicas de relajación.<br>\n",
       "<table>\n",
       "<tr>\n",
       "<th>Type</th>\n",
       "<th>Effect</th>\n",
       "<th>Evidence</th>\n",
       "</tr>\n",
       "<tr>\n",
       "<td>lifestyle</td>\n",
       "<td>0.6</td>\n",
       "<td>0.6</td>\n",
       "</tr>\n",
       "</table>\n",
       "<p style=\"text-align:justify\"><span style=\"color:#000000\"><strong>Todos nos estresamos de vez en cuando.</strong></span></p>\r\n",
       "\r\n",
       "<p>&nbsp;</p>\r\n",
       "\r\n",
       "<p style=\"text-align:justify\"><span style=\"color:#000000\">El </span><a href=\"https://selfhacked.com/blog/63-factors-raising-stress-cortisol-level-backed-science/\" style=\"text-decoration:none\"><span style=\"color:#1155cc\"><u>estr&eacute;s</u></span></a><span style=\"color:#000000\"> puede ayudarlo a lidiar con un desaf&iacute;o o evitar el peligro. Sin embargo,</span><span style=\"color:#000000\"><strong> no es saludable estar estresado durante mucho tiempo</strong></span><span style=\"color:#000000\"> [</span><a href=\"https://www.ncbi.nlm.nih.gov/books/NBK541120/\" style=\"text-decoration:none\"><span style=\"color:#1155cc\"><u>R</u></span></a><span style=\"color:#000000\">, </span><a href=\"https://www.ncbi.nlm.nih.gov/pmc/articles/PMC2568977/\" style=\"text-decoration:none\"><span style=\"color:#1155cc\"><u>R</u></span></a><span style=\"color:#000000\">].</span></p>\r\n",
       "\r\n",
       "<p>&nbsp;</p>\r\n",
       "\r\n",
       "<p style=\"text-align:justify\"><span style=\"color:#000000\"><strong>Las t&eacute;cnicas de relajaci&oacute;n, como el </strong></span><a href=\"https://selfhacked.com/blog/health-benefits-yoga/\" style=\"text-decoration:none\"><span style=\"color:#1155cc\"><strong><u>yoga</u></strong></span></a><span style=\"color:#000000\"><strong> y la </strong></span><a href=\"https://selfhacked.com/blog/meditation/\" style=\"text-decoration:none\"><span style=\"color:#1155cc\"><strong><u>meditaci&oacute;n</u></strong></span></a><span style=\"color:#000000\"><strong>, pueden aliviar el estr&eacute;s de diferentes formas.</strong></span><span style=\"color:#000000\"> La mayor&iacute;a de ellas se centran en respirar y ayudan a deshacerse de los pensamientos y emociones negativas [</span><a href=\"https://www.mayoclinic.org/healthy-lifestyle/stress-management/in-depth/relaxation-technique/art-20045368\" style=\"text-decoration:none\"><span style=\"color:#1155cc\"><u>R</u></span></a><span style=\"color:#000000\">].</span></p>\r\n",
       "\r\n",
       "<p>&nbsp;</p>\r\n",
       "\r\n",
       "<p><span style=\"color:#000000\">Una forma de meditaci&oacute;n llamada </span><span style=\"color:#000000\"><strong>mindfulness</strong></span><span style=\"color:#000000\"> ayuda a enfocar la atenci&oacute;n. Permite a las personas reconocer sus pensamientos, sentimientos y sensaciones sin ning&uacute;n juicio [</span><a href=\"https://www.mayoclinic.org/healthy-lifestyle/consumer-health/in-depth/mindfulness-exercises/art-20046356\" style=\"text-decoration:none\"><span style=\"color:#1155cc\"><u>R</u></span><span style=\"color:#000000\">].</span><span style=\"color:#1155cc\"><u>&nbsp;</u></span></a></p>\r\n",
       "\r\n",
       "<p><span style=\"color:#000000\">&nbsp;</span></p>\r\n",
       "\r\n",
       "<p style=\"text-align:justify\"><span style=\"color:#000000\">Las personas usan t&eacute;cnicas de relajaci&oacute;n para mejorar enfermedades como [</span><a href=\"https://www.ncbi.nlm.nih.gov/books/NBK513238/\" style=\"text-decoration:none\"><span style=\"color:#1155cc\"><u>R</u></span></a><span style=\"color:#000000\">, </span><a href=\"https://www.mayoclinic.org/healthy-lifestyle/consumer-health/in-depth/mindfulness-exercises/art-20046356\" style=\"text-decoration:none\"><span style=\"color:#1155cc\"><u>R</u></span></a><span style=\"color:#000000\">, </span><a href=\"https://pubmed.ncbi.nlm.nih.gov/32406186/\" style=\"text-decoration:none\"><span style=\"color:#1155cc\"><u>R</u></span></a><span style=\"color:#000000\">, </span><a href=\"https://www.ncbi.nlm.nih.gov/labs/pmc/articles/PMC2719552/\" style=\"text-decoration:none\"><span style=\"color:#1155cc\"><u>R</u></span></a><span style=\"color:#000000\">]:</span></p>\r\n",
       "\r\n",
       "<ul>\r\n",
       "\t<li style=\"list-style-type:disc\"><span style=\"color:#000000\">Ansiedad</span></li>\r\n",
       "\t<li style=\"list-style-type:disc\"><span style=\"color:#000000\">Depresi&oacute;n</span></li>\r\n",
       "\t<li style=\"list-style-type:disc\"><span style=\"color:#000000\">Dolor cr&oacute;nico</span></li>\r\n",
       "\t<li style=\"list-style-type:disc\"><span style=\"color:#000000\">TDAH</span></li>\r\n",
       "</ul><br>\n"
      ],
      "text/plain": [
       "<IPython.core.display.HTML object>"
      ]
     },
     "metadata": {},
     "output_type": "display_data"
    },
    {
     "data": {
      "text/html": [
       "<h5>Ashwagandha</h5>\n",
       "<br>\n",
       "<table>\n",
       "<tr>\n",
       "<th>Type</th>\n",
       "<th>Effect</th>\n",
       "<th>Evidence</th>\n",
       "</tr>\n",
       "<tr>\n",
       "<td>supplement</td>\n",
       "<td>0.0</td>\n",
       "<td>0.0</td>\n",
       "</tr>\n",
       "</table>\n",
       "<p>&nbsp; &nbsp;</p><br>\n"
      ],
      "text/plain": [
       "<IPython.core.display.HTML object>"
      ]
     },
     "metadata": {},
     "output_type": "display_data"
    },
    {
     "data": {
      "text/html": [
       "<h5>Avena Sativa</h5>\n",
       "<br>\n",
       "<table>\n",
       "<tr>\n",
       "<th>Type</th>\n",
       "<th>Effect</th>\n",
       "<th>Evidence</th>\n",
       "</tr>\n",
       "<tr>\n",
       "<td>supplement</td>\n",
       "<td>0.0</td>\n",
       "<td>0.0</td>\n",
       "</tr>\n",
       "</table>\n",
       "<p>&nbsp; &nbsp;</p><br>\n"
      ],
      "text/plain": [
       "<IPython.core.display.HTML object>"
      ]
     },
     "metadata": {},
     "output_type": "display_data"
    },
    {
     "data": {
      "text/html": [
       "<h5>Blueberry Juice</h5>\n",
       "<br>\n",
       "<table>\n",
       "<tr>\n",
       "<th>Type</th>\n",
       "<th>Effect</th>\n",
       "<th>Evidence</th>\n",
       "</tr>\n",
       "<tr>\n",
       "<td>dietary</td>\n",
       "<td>0.0</td>\n",
       "<td>0.0</td>\n",
       "</tr>\n",
       "</table>\n",
       "<p>&nbsp;&nbsp;</p><br>\n"
      ],
      "text/plain": [
       "<IPython.core.display.HTML object>"
      ]
     },
     "metadata": {},
     "output_type": "display_data"
    },
    {
     "data": {
      "text/html": [
       "<h5>Berry Polyphenols</h5>\n",
       "<br>\n",
       "<table>\n",
       "<tr>\n",
       "<th>Type</th>\n",
       "<th>Effect</th>\n",
       "<th>Evidence</th>\n",
       "</tr>\n",
       "<tr>\n",
       "<td>supplement</td>\n",
       "<td>0.0</td>\n",
       "<td>0.0</td>\n",
       "</tr>\n",
       "</table>\n",
       "<p>&nbsp;&nbsp;</p><br>\n"
      ],
      "text/plain": [
       "<IPython.core.display.HTML object>"
      ]
     },
     "metadata": {},
     "output_type": "display_data"
    },
    {
     "data": {
      "text/html": [
       "<h5>Mediterranean Diet</h5>\n",
       "<br>\n",
       "<table>\n",
       "<tr>\n",
       "<th>Type</th>\n",
       "<th>Effect</th>\n",
       "<th>Evidence</th>\n",
       "</tr>\n",
       "<tr>\n",
       "<td>dietary</td>\n",
       "<td>0.0</td>\n",
       "<td>0.0</td>\n",
       "</tr>\n",
       "</table>\n",
       "<p>&nbsp;&nbsp;</p><br>\n"
      ],
      "text/plain": [
       "<IPython.core.display.HTML object>"
      ]
     },
     "metadata": {},
     "output_type": "display_data"
    },
    {
     "data": {
      "text/html": [
       "<h5>Grape Juice</h5>\n",
       "<br>\n",
       "<table>\n",
       "<tr>\n",
       "<th>Type</th>\n",
       "<th>Effect</th>\n",
       "<th>Evidence</th>\n",
       "</tr>\n",
       "<tr>\n",
       "<td>dietary</td>\n",
       "<td>0.0</td>\n",
       "<td>0.0</td>\n",
       "</tr>\n",
       "</table>\n",
       "<p>&nbsp;&nbsp;</p><br>\n"
      ],
      "text/plain": [
       "<IPython.core.display.HTML object>"
      ]
     },
     "metadata": {},
     "output_type": "display_data"
    },
    {
     "data": {
      "text/html": [
       "<h5>Grape Extract</h5>\n",
       "<br>\n",
       "<table>\n",
       "<tr>\n",
       "<th>Type</th>\n",
       "<th>Effect</th>\n",
       "<th>Evidence</th>\n",
       "</tr>\n",
       "<tr>\n",
       "<td>supplement</td>\n",
       "<td>0.0</td>\n",
       "<td>0.0</td>\n",
       "</tr>\n",
       "</table>\n",
       "<p>&nbsp;&nbsp;</p><br>\n"
      ],
      "text/plain": [
       "<IPython.core.display.HTML object>"
      ]
     },
     "metadata": {},
     "output_type": "display_data"
    },
    {
     "data": {
      "text/html": [
       "<h5>Cocoa</h5>\n",
       "<br>\n",
       "<table>\n",
       "<tr>\n",
       "<th>Type</th>\n",
       "<th>Effect</th>\n",
       "<th>Evidence</th>\n",
       "</tr>\n",
       "<tr>\n",
       "<td>dietary</td>\n",
       "<td>0.0</td>\n",
       "<td>0.0</td>\n",
       "</tr>\n",
       "</table>\n",
       "<p>&nbsp;&nbsp;</p><br>\n"
      ],
      "text/plain": [
       "<IPython.core.display.HTML object>"
      ]
     },
     "metadata": {},
     "output_type": "display_data"
    },
    {
     "data": {
      "text/html": [
       "<h5>Omega-3 Fatty Acids</h5>\n",
       "<br>\n",
       "<table>\n",
       "<tr>\n",
       "<th>Type</th>\n",
       "<th>Effect</th>\n",
       "<th>Evidence</th>\n",
       "</tr>\n",
       "<tr>\n",
       "<td>supplement</td>\n",
       "<td>0.0</td>\n",
       "<td>0.0</td>\n",
       "</tr>\n",
       "</table>\n",
       "<p>&nbsp;&nbsp;</p><br>\n"
      ],
      "text/plain": [
       "<IPython.core.display.HTML object>"
      ]
     },
     "metadata": {},
     "output_type": "display_data"
    },
    {
     "data": {
      "text/html": [
       "<h5>Vitamin D</h5>\n",
       "<br>\n",
       "<table>\n",
       "<tr>\n",
       "<th>Type</th>\n",
       "<th>Effect</th>\n",
       "<th>Evidence</th>\n",
       "</tr>\n",
       "<tr>\n",
       "<td>supplement</td>\n",
       "<td>0.0</td>\n",
       "<td>0.0</td>\n",
       "</tr>\n",
       "</table>\n",
       "<p>&nbsp;&nbsp;</p><br>\n"
      ],
      "text/plain": [
       "<IPython.core.display.HTML object>"
      ]
     },
     "metadata": {},
     "output_type": "display_data"
    },
    {
     "data": {
      "text/html": [
       "<h5>L-Theanine</h5>\n",
       "<br>\n",
       "<table>\n",
       "<tr>\n",
       "<th>Type</th>\n",
       "<th>Effect</th>\n",
       "<th>Evidence</th>\n",
       "</tr>\n",
       "<tr>\n",
       "<td>supplement</td>\n",
       "<td>0.0</td>\n",
       "<td>0.0</td>\n",
       "</tr>\n",
       "</table>\n",
       "<p>&nbsp;&nbsp;</p><br>\n"
      ],
      "text/plain": [
       "<IPython.core.display.HTML object>"
      ]
     },
     "metadata": {},
     "output_type": "display_data"
    },
    {
     "data": {
      "text/html": [
       "<h5>American Ginseng</h5>\n",
       "<br>\n",
       "<table>\n",
       "<tr>\n",
       "<th>Type</th>\n",
       "<th>Effect</th>\n",
       "<th>Evidence</th>\n",
       "</tr>\n",
       "<tr>\n",
       "<td>supplement</td>\n",
       "<td>0.0</td>\n",
       "<td>0.0</td>\n",
       "</tr>\n",
       "</table>\n",
       "<p>&nbsp;&nbsp;</p><br>\n"
      ],
      "text/plain": [
       "<IPython.core.display.HTML object>"
      ]
     },
     "metadata": {},
     "output_type": "display_data"
    },
    {
     "data": {
      "text/html": [
       "<h5>Magnesium</h5>\n",
       "<br>\n",
       "<table>\n",
       "<tr>\n",
       "<th>Type</th>\n",
       "<th>Effect</th>\n",
       "<th>Evidence</th>\n",
       "</tr>\n",
       "<tr>\n",
       "<td>supplement</td>\n",
       "<td>0.0</td>\n",
       "<td>0.0</td>\n",
       "</tr>\n",
       "</table>\n",
       "<p>&nbsp;&nbsp;</p><br>\n"
      ],
      "text/plain": [
       "<IPython.core.display.HTML object>"
      ]
     },
     "metadata": {},
     "output_type": "display_data"
    },
    {
     "data": {
      "text/html": [
       "<h5>Zinc</h5>\n",
       "<br>\n",
       "<table>\n",
       "<tr>\n",
       "<th>Type</th>\n",
       "<th>Effect</th>\n",
       "<th>Evidence</th>\n",
       "</tr>\n",
       "<tr>\n",
       "<td>supplement</td>\n",
       "<td>0.0</td>\n",
       "<td>0.0</td>\n",
       "</tr>\n",
       "</table>\n",
       "<p>&nbsp; &nbsp;</p><br>\n"
      ],
      "text/plain": [
       "<IPython.core.display.HTML object>"
      ]
     },
     "metadata": {},
     "output_type": "display_data"
    },
    {
     "data": {
      "text/html": [
       "<h5>Spearmint Essential Oil</h5>\n",
       "<br>\n",
       "<table>\n",
       "<tr>\n",
       "<th>Type</th>\n",
       "<th>Effect</th>\n",
       "<th>Evidence</th>\n",
       "</tr>\n",
       "<tr>\n",
       "<td>supplement</td>\n",
       "<td>0.0</td>\n",
       "<td>0.0</td>\n",
       "</tr>\n",
       "</table>\n",
       "<p>&nbsp;&nbsp;</p><br>\n"
      ],
      "text/plain": [
       "<IPython.core.display.HTML object>"
      ]
     },
     "metadata": {},
     "output_type": "display_data"
    },
    {
     "data": {
      "text/html": [
       "<h5>Curcumin</h5>\n",
       "<br>\n",
       "<table>\n",
       "<tr>\n",
       "<th>Type</th>\n",
       "<th>Effect</th>\n",
       "<th>Evidence</th>\n",
       "</tr>\n",
       "<tr>\n",
       "<td>supplement</td>\n",
       "<td>0.0</td>\n",
       "<td>0.0</td>\n",
       "</tr>\n",
       "</table>\n",
       "<p>&nbsp; &nbsp;</p><br>\n"
      ],
      "text/plain": [
       "<IPython.core.display.HTML object>"
      ]
     },
     "metadata": {},
     "output_type": "display_data"
    },
    {
     "data": {
      "text/html": [
       "<h5>Caffeine</h5>\n",
       "<br>\n",
       "<table>\n",
       "<tr>\n",
       "<th>Type</th>\n",
       "<th>Effect</th>\n",
       "<th>Evidence</th>\n",
       "</tr>\n",
       "<tr>\n",
       "<td>supplement</td>\n",
       "<td>0.0</td>\n",
       "<td>0.0</td>\n",
       "</tr>\n",
       "</table>\n",
       "<p>&nbsp; &nbsp;</p><br>\n"
      ],
      "text/plain": [
       "<IPython.core.display.HTML object>"
      ]
     },
     "metadata": {},
     "output_type": "display_data"
    },
    {
     "data": {
      "text/html": [
       "<h5>Citicoline</h5>\n",
       "<br>\n",
       "<table>\n",
       "<tr>\n",
       "<th>Type</th>\n",
       "<th>Effect</th>\n",
       "<th>Evidence</th>\n",
       "</tr>\n",
       "<tr>\n",
       "<td>supplement</td>\n",
       "<td>0.0</td>\n",
       "<td>0.0</td>\n",
       "</tr>\n",
       "</table>\n",
       "<p>&nbsp; &nbsp;</p><br>\n"
      ],
      "text/plain": [
       "<IPython.core.display.HTML object>"
      ]
     },
     "metadata": {},
     "output_type": "display_data"
    },
    {
     "data": {
      "text/html": [
       "<h5>Creatine</h5>\n",
       "<br>\n",
       "<table>\n",
       "<tr>\n",
       "<th>Type</th>\n",
       "<th>Effect</th>\n",
       "<th>Evidence</th>\n",
       "</tr>\n",
       "<tr>\n",
       "<td>supplement</td>\n",
       "<td>0.0</td>\n",
       "<td>0.0</td>\n",
       "</tr>\n",
       "</table>\n",
       "<p>&nbsp; &nbsp;</p>\r\n",
       "\r\n",
       "<p>&nbsp;</p><br>\n"
      ],
      "text/plain": [
       "<IPython.core.display.HTML object>"
      ]
     },
     "metadata": {},
     "output_type": "display_data"
    },
    {
     "data": {
      "text/html": [
       "<h5>Phosphatidylserine</h5>\n",
       "<br>\n",
       "<table>\n",
       "<tr>\n",
       "<th>Type</th>\n",
       "<th>Effect</th>\n",
       "<th>Evidence</th>\n",
       "</tr>\n",
       "<tr>\n",
       "<td>supplement</td>\n",
       "<td>0.0</td>\n",
       "<td>0.0</td>\n",
       "</tr>\n",
       "</table>\n",
       "<p>&nbsp;&nbsp;</p><br>\n"
      ],
      "text/plain": [
       "<IPython.core.display.HTML object>"
      ]
     },
     "metadata": {},
     "output_type": "display_data"
    },
    {
     "data": {
      "text/html": [
       "<h5>Black Seed Extract</h5>\n",
       "<br>\n",
       "<table>\n",
       "<tr>\n",
       "<th>Type</th>\n",
       "<th>Effect</th>\n",
       "<th>Evidence</th>\n",
       "</tr>\n",
       "<tr>\n",
       "<td>supplement</td>\n",
       "<td>0.0</td>\n",
       "<td>0.0</td>\n",
       "</tr>\n",
       "</table>\n",
       "<p>&nbsp;&nbsp;</p><br>\n"
      ],
      "text/plain": [
       "<IPython.core.display.HTML object>"
      ]
     },
     "metadata": {},
     "output_type": "display_data"
    },
    {
     "data": {
      "text/html": [
       "<h5>D-Serine</h5>\n",
       "<br>\n",
       "<table>\n",
       "<tr>\n",
       "<th>Type</th>\n",
       "<th>Effect</th>\n",
       "<th>Evidence</th>\n",
       "</tr>\n",
       "<tr>\n",
       "<td>supplement</td>\n",
       "<td>0.0</td>\n",
       "<td>0.0</td>\n",
       "</tr>\n",
       "</table>\n",
       "<p>&nbsp;&nbsp;</p><br>\n"
      ],
      "text/plain": [
       "<IPython.core.display.HTML object>"
      ]
     },
     "metadata": {},
     "output_type": "display_data"
    },
    {
     "data": {
      "text/html": [
       "<h5>Cognitive-Behavioral Therapy (CBT)</h5>\n",
       "<br>\n",
       "<table>\n",
       "<tr>\n",
       "<th>Type</th>\n",
       "<th>Effect</th>\n",
       "<th>Evidence</th>\n",
       "</tr>\n",
       "<tr>\n",
       "<td>lifestyle</td>\n",
       "<td>0.0</td>\n",
       "<td>0.0</td>\n",
       "</tr>\n",
       "</table>\n",
       "<p>&nbsp;&nbsp;</p><br>\n"
      ],
      "text/plain": [
       "<IPython.core.display.HTML object>"
      ]
     },
     "metadata": {},
     "output_type": "display_data"
    },
    {
     "data": {
      "text/html": [
       "<h5>Cardio</h5>\n",
       "<br>\n",
       "<table>\n",
       "<tr>\n",
       "<th>Type</th>\n",
       "<th>Effect</th>\n",
       "<th>Evidence</th>\n",
       "</tr>\n",
       "<tr>\n",
       "<td>lifestyle</td>\n",
       "<td>0.0</td>\n",
       "<td>0.0</td>\n",
       "</tr>\n",
       "</table>\n",
       "<p>&nbsp; &nbsp;</p><br>\n"
      ],
      "text/plain": [
       "<IPython.core.display.HTML object>"
      ]
     },
     "metadata": {},
     "output_type": "display_data"
    },
    {
     "data": {
      "text/html": [
       "<h5>Yoga</h5>\n",
       "<br>\n",
       "<table>\n",
       "<tr>\n",
       "<th>Type</th>\n",
       "<th>Effect</th>\n",
       "<th>Evidence</th>\n",
       "</tr>\n",
       "<tr>\n",
       "<td>lifestyle</td>\n",
       "<td>0.0</td>\n",
       "<td>0.0</td>\n",
       "</tr>\n",
       "</table>\n",
       "<p>&nbsp;&nbsp;</p><br>\n"
      ],
      "text/plain": [
       "<IPython.core.display.HTML object>"
      ]
     },
     "metadata": {},
     "output_type": "display_data"
    },
    {
     "data": {
      "text/html": [
       "<h5>Meditation</h5>\n",
       "<br>\n",
       "<table>\n",
       "<tr>\n",
       "<th>Type</th>\n",
       "<th>Effect</th>\n",
       "<th>Evidence</th>\n",
       "</tr>\n",
       "<tr>\n",
       "<td>lifestyle</td>\n",
       "<td>0.0</td>\n",
       "<td>0.0</td>\n",
       "</tr>\n",
       "</table>\n",
       "<p>&nbsp; &nbsp;</p><br>\n"
      ],
      "text/plain": [
       "<IPython.core.display.HTML object>"
      ]
     },
     "metadata": {},
     "output_type": "display_data"
    },
    {
     "data": {
      "text/html": [
       "<h5>Mindfulness</h5>\n",
       "<br>\n",
       "<table>\n",
       "<tr>\n",
       "<th>Type</th>\n",
       "<th>Effect</th>\n",
       "<th>Evidence</th>\n",
       "</tr>\n",
       "<tr>\n",
       "<td>lifestyle</td>\n",
       "<td>0.0</td>\n",
       "<td>0.0</td>\n",
       "</tr>\n",
       "</table>\n",
       "<p>&nbsp;&nbsp;</p><br>\n"
      ],
      "text/plain": [
       "<IPython.core.display.HTML object>"
      ]
     },
     "metadata": {},
     "output_type": "display_data"
    },
    {
     "data": {
      "text/html": [
       "<h5>Avoid Cigarette Smoke</h5>\n",
       "<br>\n",
       "<table>\n",
       "<tr>\n",
       "<th>Type</th>\n",
       "<th>Effect</th>\n",
       "<th>Evidence</th>\n",
       "</tr>\n",
       "<tr>\n",
       "<td>lifestyle</td>\n",
       "<td>0.0</td>\n",
       "<td>0.0</td>\n",
       "</tr>\n",
       "</table>\n",
       "<p>&nbsp; &nbsp;</p><br>\n"
      ],
      "text/plain": [
       "<IPython.core.display.HTML object>"
      ]
     },
     "metadata": {},
     "output_type": "display_data"
    },
    {
     "data": {
      "text/html": [
       "<h5>Aromatherapy</h5>\n",
       "<br>\n",
       "<table>\n",
       "<tr>\n",
       "<th>Type</th>\n",
       "<th>Effect</th>\n",
       "<th>Evidence</th>\n",
       "</tr>\n",
       "<tr>\n",
       "<td>lifestyle</td>\n",
       "<td>0.0</td>\n",
       "<td>0.0</td>\n",
       "</tr>\n",
       "</table>\n",
       "<p>&nbsp;&nbsp;</p><br>\n"
      ],
      "text/plain": [
       "<IPython.core.display.HTML object>"
      ]
     },
     "metadata": {},
     "output_type": "display_data"
    },
    {
     "data": {
      "text/html": [
       "<h5>Massage</h5>\n",
       "<br>\n",
       "<table>\n",
       "<tr>\n",
       "<th>Type</th>\n",
       "<th>Effect</th>\n",
       "<th>Evidence</th>\n",
       "</tr>\n",
       "<tr>\n",
       "<td>lifestyle</td>\n",
       "<td>0.0</td>\n",
       "<td>0.0</td>\n",
       "</tr>\n",
       "</table>\n",
       "<p>&nbsp; &nbsp;</p><br>\n"
      ],
      "text/plain": [
       "<IPython.core.display.HTML object>"
      ]
     },
     "metadata": {},
     "output_type": "display_data"
    },
    {
     "data": {
      "text/html": [
       "<h5>Avoid Sugary Foods</h5>\n",
       "<br>\n",
       "<table>\n",
       "<tr>\n",
       "<th>Type</th>\n",
       "<th>Effect</th>\n",
       "<th>Evidence</th>\n",
       "</tr>\n",
       "<tr>\n",
       "<td>dietary</td>\n",
       "<td>0.0</td>\n",
       "<td>0.0</td>\n",
       "</tr>\n",
       "</table>\n",
       "<p>&nbsp; &nbsp;</p><br>\n"
      ],
      "text/plain": [
       "<IPython.core.display.HTML object>"
      ]
     },
     "metadata": {},
     "output_type": "display_data"
    },
    {
     "data": {
      "text/html": [
       "<h5>Black Tea</h5>\n",
       "<br>\n",
       "<table>\n",
       "<tr>\n",
       "<th>Type</th>\n",
       "<th>Effect</th>\n",
       "<th>Evidence</th>\n",
       "</tr>\n",
       "<tr>\n",
       "<td>dietary</td>\n",
       "<td>0.0</td>\n",
       "<td>0.0</td>\n",
       "</tr>\n",
       "</table>\n",
       "<p>&nbsp; &nbsp;</p><br>\n"
      ],
      "text/plain": [
       "<IPython.core.display.HTML object>"
      ]
     },
     "metadata": {},
     "output_type": "display_data"
    },
    {
     "data": {
      "text/html": [
       "<h5>L-Theanine and Caffeine</h5>\n",
       "<br>\n",
       "<table>\n",
       "<tr>\n",
       "<th>Type</th>\n",
       "<th>Effect</th>\n",
       "<th>Evidence</th>\n",
       "</tr>\n",
       "<tr>\n",
       "<td>supplement</td>\n",
       "<td>0.0</td>\n",
       "<td>0.0</td>\n",
       "</tr>\n",
       "</table>\n",
       "<p>&nbsp;&nbsp;</p><br>\n"
      ],
      "text/plain": [
       "<IPython.core.display.HTML object>"
      ]
     },
     "metadata": {},
     "output_type": "display_data"
    },
    {
     "data": {
      "text/html": [
       "<h5>Green Tea Extract</h5>\n",
       "<br>\n",
       "<table>\n",
       "<tr>\n",
       "<th>Type</th>\n",
       "<th>Effect</th>\n",
       "<th>Evidence</th>\n",
       "</tr>\n",
       "<tr>\n",
       "<td>supplement</td>\n",
       "<td>0.0</td>\n",
       "<td>0.0</td>\n",
       "</tr>\n",
       "</table>\n",
       "<p>&nbsp;&nbsp;</p><br>\n"
      ],
      "text/plain": [
       "<IPython.core.display.HTML object>"
      ]
     },
     "metadata": {},
     "output_type": "display_data"
    },
    {
     "data": {
      "text/html": [
       "<h5>Blueberries</h5>\n",
       "<br>\n",
       "<table>\n",
       "<tr>\n",
       "<th>Type</th>\n",
       "<th>Effect</th>\n",
       "<th>Evidence</th>\n",
       "</tr>\n",
       "<tr>\n",
       "<td>dietary</td>\n",
       "<td>0.0</td>\n",
       "<td>0.0</td>\n",
       "</tr>\n",
       "</table>\n",
       "<p>&nbsp;&nbsp;</p><br>\n"
      ],
      "text/plain": [
       "<IPython.core.display.HTML object>"
      ]
     },
     "metadata": {},
     "output_type": "display_data"
    },
    {
     "data": {
      "text/html": [
       "<h3>Velocidad de Procesamiento</h3>\n",
       "Your score: 0.60727969348659<br>\n",
       "Likely typical processing speed<br>\n",
       "<h4>Summary</h4>\n",
       "<br>\n",
       "<h4>Factores que Contribuyen y Genética</h4>\n",
       "<p><span style=\"color:#000000\">La velocidad de procesamiento es una medida de la rapidez con la que puede comprender la informaci&oacute;n visual o auditiva y responder a ella.</span></p>\r\n",
       "\r\n",
       "<p>&nbsp;</p>\r\n",
       "\r\n",
       "<p><span style=\"color:#000000\">Alrededor del </span><span style=\"color:#000000\"><strong>65%</strong></span><span style=\"color:#000000\"> de las diferencias en la velocidad de procesamiento de las personas pueden deberse a la </span><span style=\"color:#000000\"><strong>gen&eacute;tica</strong></span><span style=\"color:#000000\">. Los genes involucrados juegan un papel en la funci&oacute;n y el desarrollo del cerebro [</span><a href=\"https://www.nature.com/articles/s41398-021-01736-6\" style=\"text-decoration:none\"><span style=\"color:#1155cc\"><u>R</u></span></a><span style=\"color:#000000\">].</span></p>\r\n",
       "\r\n",
       "<p>&nbsp;</p>\r\n",
       "\r\n",
       "<p><span style=\"color:#000000\">Como era de esperar, los factores que pueden afectar la funci&oacute;n cerebral tambi&eacute;n afectan la velocidad de procesamiento. Incluyen [</span><a href=\"https://link.springer.com/referenceworkentry/10.1007/978-0-387-79948-3_1321\" style=\"text-decoration:none\"><span style=\"color:#1155cc\"><u>R</u></span></a><span style=\"color:#000000\">]:</span></p>\r\n",
       "\r\n",
       "<ul>\r\n",
       "\t<li style=\"list-style-type:disc\"><span style=\"color:#000000\">Tabaquismo</span></li>\r\n",
       "\t<li style=\"list-style-type:disc\"><span style=\"color:#000000\">Edad avanzada</span></li>\r\n",
       "\t<li style=\"list-style-type:disc\"><span style=\"color:#000000\">Falta de sue&ntilde;o</span></li>\r\n",
       "\t<li style=\"list-style-type:disc\"><span style=\"color:#000000\">Mala alimentaci&oacute;n</span></li>\r\n",
       "\t<li style=\"list-style-type:disc\"><span style=\"color:#000000\">Algunos medicamentos</span></li>\r\n",
       "</ul>\r\n",
       "\r\n",
       "<p><span style=\"color:#000000\">Las condiciones de salud como la diabetes y la presi&oacute;n arterial alta tambi&eacute;n pueden reducir la velocidad de procesamiento.&nbsp;</span></p>\r\n",
       "\r\n",
       "<p>&nbsp;</p><br>\n",
       "<br>\n",
       "<h4>Recommendations</h4>"
      ],
      "text/plain": [
       "<IPython.core.display.HTML object>"
      ]
     },
     "metadata": {},
     "output_type": "display_data"
    },
    {
     "data": {
      "text/html": [
       "<h5>Ejercicio</h5>\n",
       "Haga ejercicio regularmente.<br>\n",
       "<table>\n",
       "<tr>\n",
       "<th>Type</th>\n",
       "<th>Effect</th>\n",
       "<th>Evidence</th>\n",
       "</tr>\n",
       "<tr>\n",
       "<td>lifestyle</td>\n",
       "<td>0.8</td>\n",
       "<td>0.8</td>\n",
       "</tr>\n",
       "</table>\n",
       "<p style=\"text-align:justify\"><span style=\"color:#000000\"><strong>El </strong></span><a href=\"https://selfhacked.com/blog/top-14-proven-health-benefits-exercise-references-mechanisms/\" style=\"text-decoration:none\"><span style=\"color:#1155cc\"><strong><u>ejercicio</u></strong></span></a><span style=\"color:#000000\"><strong> puede hacer maravillas por su salud.</strong></span><span style=\"color:#000000\"> Puede ayudarle a perder peso, mejorar la salud de su coraz&oacute;n, mejorar su estado de &aacute;nimo y m&aacute;s [</span><a href=\"https://medlineplus.gov/benefitsofexercise.html\" style=\"text-decoration:none\"><span style=\"color:#1155cc\"><u>R</u></span></a><span style=\"color:#000000\">].</span></p>\r\n",
       "\r\n",
       "<p>&nbsp;</p>\r\n",
       "\r\n",
       "<p style=\"text-align:justify\"><span style=\"color:#000000\">Hay muchas maneras de estar activo. Puede caminar, correr, nadar, bailar o practicar deportes de equipo </span><span style=\"color:#000000\"><strong>&iexcl;Todo cuenta, y nunca es demasiado tarde para empezar!</strong></span></p>\r\n",
       "\r\n",
       "<p>&nbsp;</p>\r\n",
       "\r\n",
       "<p style=\"text-align:justify\"><span style=\"color:#000000\">Trate de combinar rutinas de cardio (al menos 150 minutos/semana) y entrenamiento de fuerza (2 veces/semana) [</span><a href=\"https://health.gov/sites/default/files/2019-09/Physical_Activity_Guidelines_2nd_edition.pdf#page=56\" style=\"text-decoration:none\"><span style=\"color:#1155cc\"><u>R</u></span></a><span style=\"color:#000000\">].</span></p>\r\n",
       "\r\n",
       "<p>&nbsp;</p><br>\n"
      ],
      "text/plain": [
       "<IPython.core.display.HTML object>"
      ]
     },
     "metadata": {},
     "output_type": "display_data"
    },
    {
     "data": {
      "text/html": [
       "<h5>Entrenamiento Cognitivo</h5>\n",
       "Practique técnicas de entrenamiento cognitivo.<br>\n",
       "<table>\n",
       "<tr>\n",
       "<th>Type</th>\n",
       "<th>Effect</th>\n",
       "<th>Evidence</th>\n",
       "</tr>\n",
       "<tr>\n",
       "<td>lifestyle</td>\n",
       "<td>0.6</td>\n",
       "<td>0.8</td>\n",
       "</tr>\n",
       "</table>\n",
       "<p><span style=\"color:#000000\">Los</span><span style=\"color:#000000\"><strong> </strong></span><span style=\"color:#000000\">programas de </span><span style=\"color:#000000\"><strong>entrenamiento</strong></span><span style=\"color:#000000\"> </span><span style=\"color:#000000\"><strong>cognitivo</strong></span><span style=\"color:#000000\"> lo gu&iacute;an a trav&eacute;s de tareas desafiantes. Su objetivo es mejorar algunas funciones cognitivas, incluyendo [</span><a href=\"https://www.cochrane.org/CD013069/DEMENTIA_cognitive-training-people-mild-moderate-dementia\" style=\"text-decoration:none\"><span style=\"color:#1155cc\"><u>R</u></span></a><span style=\"color:#000000\">]:</span></p>\r\n",
       "\r\n",
       "<ul>\r\n",
       "\t<li style=\"list-style-type:disc\"><span style=\"color:#000000\">Memoria</span></li>\r\n",
       "\t<li style=\"list-style-type:disc\"><span style=\"color:#000000\">Atenci&oacute;n</span></li>\r\n",
       "\t<li style=\"list-style-type:disc\"><span style=\"color:#000000\">Habilidades para resolver problemas&nbsp;</span></li>\r\n",
       "</ul>\r\n",
       "\r\n",
       "<p><span style=\"color:#000000\"><strong>A algunos cient&iacute;ficos les gusta pensar en el cerebro como un m&uacute;sculo</strong></span><span style=\"color:#000000\">. Dicen que si no se usa, se atrofia. De acuerdo con esto, el entrenamiento cognitivo puede considerarse un &ldquo;ejercicio cerebral&rdquo;. A menudo se brinda a trav&eacute;s de programas inform&aacute;ticos [</span><a href=\"https://pubmed.ncbi.nlm.nih.gov/31154013/\" style=\"text-decoration:none\"><span style=\"color:#1155cc\"><u>R</u></span></a><span style=\"color:#000000\">,</span><a href=\"https://pubmed.ncbi.nlm.nih.gov/30864187/\" style=\"text-decoration:none\"><span style=\"color:#000000\"> </span><span style=\"color:#1155cc\"><u>R</u></span></a><span style=\"color:#000000\">].</span></p>\r\n",
       "\r\n",
       "<p>&nbsp;</p><br>\n"
      ],
      "text/plain": [
       "<IPython.core.display.HTML object>"
      ]
     },
     "metadata": {},
     "output_type": "display_data"
    },
    {
     "data": {
      "text/html": [
       "<h5>Optimizar las Horas de Sueño</h5>\n",
       "Trate de obtener 7-8 h de sueño de buena calidad todas las noches.<br>\n",
       "<table>\n",
       "<tr>\n",
       "<th>Type</th>\n",
       "<th>Effect</th>\n",
       "<th>Evidence</th>\n",
       "</tr>\n",
       "<tr>\n",
       "<td>lifestyle</td>\n",
       "<td>0.6</td>\n",
       "<td>0.6</td>\n",
       "</tr>\n",
       "</table>\n",
       "<p><span style=\"color:#000000\"><strong>El</strong></span><a href=\"https://selfhacked.com/blog/health-benefits-sleep/\" style=\"text-decoration:none\"><span style=\"color:#000000\"><strong> </strong></span><span style=\"color:#0000ff\"><strong><u>sue&ntilde;o</u></strong></span></a><span style=\"color:#000000\"><strong> ayuda a su cuerpo y mente</strong></span><span style=\"color:#000000\">. M&aacute;s precisamente, dormir ayuda a:</span></p>\r\n",
       "\r\n",
       "<ul>\r\n",
       "\t<li style=\"list-style-type:disc\"><span style=\"color:#000000\">Mejorar la salud del cerebro [</span><a href=\"https://www.ncbi.nlm.nih.gov/pmc/articles/PMC3880190/\" style=\"text-decoration:none\"><span style=\"color:#1155cc\"><u>R</u></span></a><span style=\"color:#000000\">,</span><a href=\"https://www.ncbi.nlm.nih.gov/pubmed/24136944/\" style=\"text-decoration:none\"><span style=\"color:#000000\"> </span><span style=\"color:#1155cc\"><u>R</u></span></a><span style=\"color:#000000\">]</span></li>\r\n",
       "\t<li style=\"list-style-type:disc\"><span style=\"color:#000000\">Mantener un peso y apetito saludables [</span><a href=\"https://www.ncbi.nlm.nih.gov/pubmed/24892893\" style=\"text-decoration:none\"><span style=\"color:#1155cc\"><u>R</u></span></a><span style=\"color:#000000\">,</span><a href=\"https://www.ncbi.nlm.nih.gov/pmc/articles/PMC4394987/\" style=\"text-decoration:none\"><span style=\"color:#000000\"> </span><span style=\"color:#1155cc\"><u>R</u></span></a><span style=\"color:#000000\">,</span><a href=\"https://www.ncbi.nlm.nih.gov/pmc/articles/PMC535701/\" style=\"text-decoration:none\"><span style=\"color:#000000\"> </span><span style=\"color:#1155cc\"><u>R</u></span></a><span style=\"color:#000000\">]</span></li>\r\n",
       "\t<li style=\"list-style-type:disc\"><span style=\"color:#000000\">Regular la presi&oacute;n arterial [</span><a href=\"https://www.ncbi.nlm.nih.gov/pubmed/16585410/\" style=\"text-decoration:none\"><span style=\"color:#1155cc\"><u>R</u></span></a><span style=\"color:#000000\">,</span><a href=\"https://www.ncbi.nlm.nih.gov/pmc/articles/PMC2845795/\" style=\"text-decoration:none\"><span style=\"color:#000000\"> </span><span style=\"color:#1155cc\"><u>R</u></span></a><span style=\"color:#000000\">]</span></li>\r\n",
       "\t<li style=\"list-style-type:disc\"><span style=\"color:#000000\">Equilibrar el az&uacute;car en la sangre [</span><a href=\"https://www.ncbi.nlm.nih.gov/pmc/articles/PMC3767932/\" style=\"text-decoration:none\"><span style=\"color:#1155cc\"><u>R</u></span></a><span style=\"color:#000000\">,</span><a href=\"https://www.ncbi.nlm.nih.gov/pmc/articles/PMC2927933/\" style=\"text-decoration:none\"><span style=\"color:#000000\"> </span><span style=\"color:#1155cc\"><u>R</u></span></a><span style=\"color:#000000\">]</span></li>\r\n",
       "</ul>\r\n",
       "\r\n",
       "<p><span style=\"color:#000000\">Las formas para dormir mejor incluyen [</span><a href=\"https://www.mayoclinic.org/healthy-lifestyle/adult-health/in-depth/sleep/art-20048379\" style=\"text-decoration:none\"><span style=\"color:#1155cc\"><u>R</u></span></a><span style=\"color:#000000\">]:</span></p>\r\n",
       "\r\n",
       "<ul>\r\n",
       "\t<li style=\"list-style-type:disc\"><span style=\"color:#000000\">Reducir la exposici&oacute;n a la luz brillante (tiempo de pantalla) por la noche</span></li>\r\n",
       "\t<li style=\"list-style-type:disc\"><span style=\"color:#000000\">Cumplir con un horario de sue&ntilde;o regular</span></li>\r\n",
       "\t<li style=\"list-style-type:disc\"><span style=\"color:#000000\">Evitar el hambre o las comidas abundantes antes de acostarse</span></li>\r\n",
       "\t<li style=\"list-style-type:disc\"><span style=\"color:#000000\">Evitar la nicotina, la cafe&iacute;na y el alcohol antes de acostarse</span></li>\r\n",
       "\t<li style=\"list-style-type:disc\"><span style=\"color:#000000\">Mantener el &aacute;rea para dormir fresca, oscura y silenciosa</span></li>\r\n",
       "</ul><br>\n"
      ],
      "text/plain": [
       "<IPython.core.display.HTML object>"
      ]
     },
     "metadata": {},
     "output_type": "display_data"
    },
    {
     "data": {
      "text/html": [
       "<h5>Cardio</h5>\n",
       "Incluya ejercicio cardiovascular en su rutina de ejercicios.<br>\n",
       "<table>\n",
       "<tr>\n",
       "<th>Type</th>\n",
       "<th>Effect</th>\n",
       "<th>Evidence</th>\n",
       "</tr>\n",
       "<tr>\n",
       "<td>lifestyle</td>\n",
       "<td>0.6</td>\n",
       "<td>0.6</td>\n",
       "</tr>\n",
       "</table>\n",
       "<p style=\"text-align:justify\"><span style=\"color:#000000\">Cardio, abreviatura de ejercicio cardiovascular, es cualquier tipo de actividad f&iacute;sica que aumente temporalmente su ritmo card&iacute;aco. Algunos ejemplos incluyen </span><span style=\"color:#000000\"><strong>correr, montar en bicicleta, nadar y caminar a paso ligero</strong></span><span style=\"color:#000000\">.&nbsp;</span></p>\r\n",
       "\r\n",
       "<p>&nbsp;</p>\r\n",
       "\r\n",
       "<p style=\"text-align:justify\"><span style=\"color:#000000\">El ejercicio cardiovascular regular tiene muchos beneficios para su salud en general. Puede ayudar a reducir su riesgo de enfermedades card&iacute;acas y diabetes, promover la p&eacute;rdida de peso y mejorar su estado de &aacute;nimo y niveles de energ&iacute;a. Para aprovechar al m&aacute;ximo el cardio, trate de practicarlo durante al menos 30 minutos, 3-5 veces por semana.</span></p>\r\n",
       "\r\n",
       "<p>&nbsp;</p><br>\n"
      ],
      "text/plain": [
       "<IPython.core.display.HTML object>"
      ]
     },
     "metadata": {},
     "output_type": "display_data"
    },
    {
     "data": {
      "text/html": [
       "<h5>Tai Chi</h5>\n",
       "Practique tai chi.<br>\n",
       "<table>\n",
       "<tr>\n",
       "<th>Type</th>\n",
       "<th>Effect</th>\n",
       "<th>Evidence</th>\n",
       "</tr>\n",
       "<tr>\n",
       "<td>lifestyle</td>\n",
       "<td>0.6</td>\n",
       "<td>0.6</td>\n",
       "</tr>\n",
       "</table>\n",
       "<p><span style=\"color:#000000\"><strong>El tai chi incluye movimientos suaves y respiraci&oacute;n para fortalecer y relajar la mente y el cuerpo.</strong></span><span style=\"color:#000000\"> Practicar tai chi puede ayudar a [</span><a href=\"https://www.mayoclinic.org/diseases-conditions/osteoarthritis/diagnosis-treatment/drc-20351930\" style=\"text-decoration:none\"><span style=\"color:#1155cc\"><u>R</u></span></a><span style=\"color:#000000\">,</span><a href=\"https://pubmed.ncbi.nlm.nih.gov/28661865/\" style=\"text-decoration:none\"><span style=\"color:#000000\"> </span><span style=\"color:#1155cc\"><u>R</u></span></a><span style=\"color:#000000\">,</span><a href=\"https://pubmed.ncbi.nlm.nih.gov/24078491/\" style=\"text-decoration:none\"><span style=\"color:#000000\"> </span><span style=\"color:#1155cc\"><u>R</u></span></a><span style=\"color:#000000\">]:</span></p>\r\n",
       "\r\n",
       "<ul>\r\n",
       "\t<li style=\"list-style-type:disc\"><span style=\"color:#000000\">Controlar el dolor</span></li>\r\n",
       "\t<li style=\"list-style-type:disc\"><span style=\"color:#000000\">Mejorar el estado f&iacute;sico</span></li>\r\n",
       "\t<li style=\"list-style-type:disc\"><span style=\"color:#000000\">Aumentar el bienestar</span></li>\r\n",
       "\t<li style=\"list-style-type:disc\"><span style=\"color:#000000\">Mejorar el sue&ntilde;o y el estado de &aacute;nimo</span></li>\r\n",
       "</ul><br>\n"
      ],
      "text/plain": [
       "<IPython.core.display.HTML object>"
      ]
     },
     "metadata": {},
     "output_type": "display_data"
    },
    {
     "data": {
      "text/html": [
       "<h5>Mantenerse Hidratado</h5>\n",
       "Beba al menos 8 vasos (2 L o 64 oz) de agua al día.<br>\n",
       "<table>\n",
       "<tr>\n",
       "<th>Type</th>\n",
       "<th>Effect</th>\n",
       "<th>Evidence</th>\n",
       "</tr>\n",
       "<tr>\n",
       "<td>dietary</td>\n",
       "<td>0.6</td>\n",
       "<td>0.6</td>\n",
       "</tr>\n",
       "</table>\n",
       "<p><span style=\"color:#000000\"><strong>El agua es esencial para la vida. Permite pr&aacute;cticamente todos los procesos de su cuerpo </strong></span><span style=\"color:#000000\">[</span><a href=\"https://www.mayoclinic.org/healthy-lifestyle/nutrition-and-healthy-eating/in-depth/water/art-20044256\" style=\"text-decoration:none\"><span style=\"color:#1155cc\"><u>R</u></span></a><span style=\"color:#000000\">].</span></p>\r\n",
       "\r\n",
       "<p>&nbsp;</p>\r\n",
       "\r\n",
       "<p><span style=\"color:#000000\">El agua ayuda a mantener [</span><a href=\"https://www.ncbi.nlm.nih.gov/pmc/articles/PMC2908954/\" style=\"text-decoration:none\"><span style=\"color:#1155cc\"><u>R</u></span></a><span style=\"color:#000000\">]:</span></p>\r\n",
       "\r\n",
       "<ul>\r\n",
       "\t<li style=\"list-style-type:disc\"><span style=\"color:#000000\">Niveles de energ&iacute;a y rendimiento</span></li>\r\n",
       "\t<li style=\"list-style-type:disc\"><span style=\"color:#000000\">Funci&oacute;n cerebral</span></li>\r\n",
       "\t<li style=\"list-style-type:disc\"><span style=\"color:#000000\">Salud intestinal</span></li>\r\n",
       "\t<li style=\"list-style-type:disc\"><span style=\"color:#000000\">Peso saludable</span></li>\r\n",
       "</ul>\r\n",
       "\r\n",
       "<p><span style=\"color:#000000\">La mayor&iacute;a de los expertos recomiendan beber </span><span style=\"color:#000000\"><strong>alrededor de 8 vasos (2 L o 64 oz) de agua al d&iacute;a</strong></span><span style=\"color:#000000\">. Es posible que necesite mayor o menor cantidad, dependiendo de qu&eacute; tan activo sea, d&oacute;nde viva o c&oacute;mo sea su salud general [</span><a href=\"https://www.mayoclinic.org/healthy-lifestyle/nutrition-and-healthy-eating/in-depth/water/art-20044256\" style=\"text-decoration:none\"><span style=\"color:#1155cc\"><u>R</u></span></a><span style=\"color:#000000\">].</span></p>\r\n",
       "\r\n",
       "<p>&nbsp;</p><br>\n"
      ],
      "text/plain": [
       "<IPython.core.display.HTML object>"
      ]
     },
     "metadata": {},
     "output_type": "display_data"
    },
    {
     "data": {
      "text/html": [
       "<h5>Cafeína</h5>\n",
       "Considere tomar suplementos con cafeína.<br>\n",
       "<table>\n",
       "<tr>\n",
       "<th>Type</th>\n",
       "<th>Effect</th>\n",
       "<th>Evidence</th>\n",
       "</tr>\n",
       "<tr>\n",
       "<td>supplement</td>\n",
       "<td>0.4</td>\n",
       "<td>0.6</td>\n",
       "</tr>\n",
       "</table>\n",
       "<p style=\"text-align:justify\"><span style=\"color:#000000\">La </span><a href=\"https://selfhacked.com/blog/caffeine-benefits/\" style=\"text-decoration:none\"><span style=\"color:#1155cc\"><u>cafe&iacute;na</u></span></a><span style=\"color:#000000\"> es el ingrediente principal del caf&eacute; responsable de aumentar la energ&iacute;a y mejorar el estado de &aacute;nimo [</span><a href=\"https://www.ncbi.nlm.nih.gov/pubmed/20888549\" style=\"text-decoration:none\"><span style=\"color:#1155cc\"><u>R</u></span></a><span style=\"color:#000000\">, </span><a href=\"https://www.ncbi.nlm.nih.gov/books/NBK519490/\" style=\"text-decoration:none\"><span style=\"color:#1155cc\"><u>R</u></span></a><span style=\"color:#000000\">].</span></p>\r\n",
       "\r\n",
       "<p>&nbsp;</p>\r\n",
       "\r\n",
       "<p style=\"text-align:justify\"><span style=\"color:#000000\">Dosis moderadas de cafe&iacute;na tambi&eacute;n pueden [</span><a href=\"https://www.ncbi.nlm.nih.gov/pmc/articles/PMC5696634/\" style=\"text-decoration:none\"><span style=\"color:#1155cc\"><u>R</u></span></a><span style=\"color:#000000\">, </span><a href=\"https://pubmed.ncbi.nlm.nih.gov/29474816/\" style=\"text-decoration:none\"><span style=\"color:#1155cc\"><u>R</u></span></a><span style=\"color:#000000\">, </span><a href=\"https://www.ncbi.nlm.nih.gov/pmc/articles/PMC6544578/\" style=\"text-decoration:none\"><span style=\"color:#1155cc\"><u>R</u></span></a><span style=\"color:#000000\">]:</span></p>\r\n",
       "\r\n",
       "<ul>\r\n",
       "\t<li style=\"list-style-type:disc\"><span style=\"color:#000000\">Mejorar la salud del coraz&oacute;n</span></li>\r\n",
       "\t<li style=\"list-style-type:disc\"><span style=\"color:#000000\">Mejorar el estado de &aacute;nimo</span></li>\r\n",
       "\t<li style=\"list-style-type:disc\"><span style=\"color:#000000\">Mantener un nivel saludable de az&uacute;car en la sangre</span></li>\r\n",
       "</ul><br>\n"
      ],
      "text/plain": [
       "<IPython.core.display.HTML object>"
      ]
     },
     "metadata": {},
     "output_type": "display_data"
    },
    {
     "data": {
      "text/html": [
       "<h5>Yoga</h5>\n",
       "Intente practicar yoga.<br>\n",
       "<table>\n",
       "<tr>\n",
       "<th>Type</th>\n",
       "<th>Effect</th>\n",
       "<th>Evidence</th>\n",
       "</tr>\n",
       "<tr>\n",
       "<td>lifestyle</td>\n",
       "<td>0.4</td>\n",
       "<td>0.6</td>\n",
       "</tr>\n",
       "</table>\n",
       "<p style=\"text-align:justify\"><span style=\"color:#000000\"><strong>El </strong></span><a href=\"https://selfhacked.com/blog/health-benefits-yoga/\" style=\"text-decoration:none\"><span style=\"color:#1155cc\"><strong><u>yoga</u></strong></span></a><span style=\"color:#000000\"><strong> combina t&eacute;cnicas de respiraci&oacute;n, estiramiento y relajaci&oacute;n.</strong></span><span style=\"color:#000000\"> Practicar yoga puede ayudar a [</span><a href=\"https://www.mayoclinic.org/healthy-lifestyle/stress-management/in-depth/yoga/art-20044733\" style=\"text-decoration:none\"><span style=\"color:#1155cc\"><u>R</u></span></a><span style=\"color:#000000\">,</span><a href=\"https://pubmed.ncbi.nlm.nih.gov/26181573/\" style=\"text-decoration:none\"><span style=\"color:#000000\"> </span><span style=\"color:#1155cc\"><u>R</u></span></a><span style=\"color:#000000\">,</span><a href=\"https://www.ncbi.nlm.nih.gov/pmc/articles/PMC3447533/\" style=\"text-decoration:none\"><span style=\"color:#000000\"> </span><span style=\"color:#1155cc\"><u>R</u></span></a><span style=\"color:#000000\">]:</span></p>\r\n",
       "\r\n",
       "<ul>\r\n",
       "\t<li style=\"list-style-type:disc\"><span style=\"color:#000000\">Reducir el </span><a href=\"https://selfhacked.com/blog/63-factors-raising-stress-cortisol-level-backed-science/\" style=\"text-decoration:none\"><span style=\"color:#1155cc\"><u>estr&eacute;s</u></span></a></li>\r\n",
       "\t<li style=\"list-style-type:disc\"><span style=\"color:#000000\">Mejorar el estado f&iacute;sico</span></li>\r\n",
       "\t<li style=\"list-style-type:disc\"><span style=\"color:#000000\">Reducir la presi&oacute;n arterial&nbsp;</span></li>\r\n",
       "\t<li style=\"list-style-type:disc\"><span style=\"color:#000000\">Aliviar el dolor</span></li>\r\n",
       "</ul><br>\n"
      ],
      "text/plain": [
       "<IPython.core.display.HTML object>"
      ]
     },
     "metadata": {},
     "output_type": "display_data"
    },
    {
     "data": {
      "text/html": [
       "<h5>Limitar el Consumo de Alcohol</h5>\n",
       "Beba menos alcohol.<br>\n",
       "<table>\n",
       "<tr>\n",
       "<th>Type</th>\n",
       "<th>Effect</th>\n",
       "<th>Evidence</th>\n",
       "</tr>\n",
       "<tr>\n",
       "<td>dietary</td>\n",
       "<td>0.4</td>\n",
       "<td>0.6</td>\n",
       "</tr>\n",
       "</table>\n",
       "<p style=\"text-align:justify\"><span style=\"color:#000000\">Muchas personas beben alcohol en su tiempo libre. Para algunos, el alcohol puede mejorar temporalmente su estado de &aacute;nimo y estado mental [</span><a href=\"https://pubmed.ncbi.nlm.nih.gov/4053968/\" style=\"text-decoration:none\"><span style=\"color:#1155cc\"><u>R</u></span></a><span style=\"color:#000000\">].</span></p>\r\n",
       "\r\n",
       "<p>&nbsp;</p>\r\n",
       "\r\n",
       "<p><span style=\"color:#000000\"><strong>Los expertos est&aacute;n de acuerdo en que tomar 1-2 bebidas por d&iacute;a probablemente no cause da&ntilde;o. Sin embargo, el consumo excesivo de alcohol es perjudicial para la salud </strong></span><span style=\"color:#000000\">[</span><a href=\"https://www.mayoclinic.org/healthy-lifestyle/nutrition-and-healthy-eating/in-depth/alcohol/art-20044551\" style=\"text-decoration:none\"><span style=\"color:#1155cc\"><u>R</u></span></a><span style=\"color:#000000\">].</span></p>\r\n",
       "\r\n",
       "<p>&nbsp;</p><br>\n"
      ],
      "text/plain": [
       "<IPython.core.display.HTML object>"
      ]
     },
     "metadata": {},
     "output_type": "display_data"
    },
    {
     "data": {
      "text/html": [
       "<h5>Evitar la Exposición al Aluminio</h5>\n",
       "Trate de evitar la exposición al aluminio.<br>\n",
       "<table>\n",
       "<tr>\n",
       "<th>Type</th>\n",
       "<th>Effect</th>\n",
       "<th>Evidence</th>\n",
       "</tr>\n",
       "<tr>\n",
       "<td>lifestyle</td>\n",
       "<td>0.4</td>\n",
       "<td>0.6</td>\n",
       "</tr>\n",
       "</table>\n",
       "<p><span style=\"color:#000000\">El aluminio es un metal com&uacute;n utilizado en la fabricaci&oacute;n y en envases de alimentos. Las personas consumen accidentalmente peque&ntilde;as cantidades de aluminio a diario. Se pueden encontrar niveles elevados en el medio ambiente, ciertos lugares de trabajo (por ejemplo, industrias de transporte), desodorantes y alimentos contaminados.</span></p>\r\n",
       "\r\n",
       "<p>&nbsp;</p>\r\n",
       "\r\n",
       "<p><span style=\"color:#000000\">La exposici&oacute;n a altos niveles de aluminio podr&iacute;a causar toxicidad. Los posibles s&iacute;ntomas incluyen [</span><a href=\"https://www.winchesterhospital.org/health-library/article?id=164929\" style=\"text-decoration:none\"><span style=\"color:#1155cc\"><u>R</u></span></a><span style=\"color:#000000\">]:</span></p>\r\n",
       "\r\n",
       "<ul>\r\n",
       "\t<li style=\"list-style-type:disc\"><span style=\"color:#000000\">Confusi&oacute;n</span></li>\r\n",
       "\t<li style=\"list-style-type:disc\"><span style=\"color:#000000\">Debilidad muscular</span></li>\r\n",
       "\t<li style=\"list-style-type:disc\"><span style=\"color:#000000\">Huesos que duelen, cambian de forma o se rompen</span></li>\r\n",
       "\t<li style=\"list-style-type:disc\"><span style=\"color:#000000\">Convulsiones</span></li>\r\n",
       "\t<li style=\"list-style-type:disc\"><span style=\"color:#000000\">Problemas del habla</span></li>\r\n",
       "</ul><br>\n"
      ],
      "text/plain": [
       "<IPython.core.display.HTML object>"
      ]
     },
     "metadata": {},
     "output_type": "display_data"
    },
    {
     "data": {
      "text/html": [
       "<h5>Estimulación Nerviosa</h5>\n",
       "Pregunte a su médico acerca de la estimulación nerviosa.<br>\n",
       "<table>\n",
       "<tr>\n",
       "<th>Type</th>\n",
       "<th>Effect</th>\n",
       "<th>Evidence</th>\n",
       "</tr>\n",
       "<tr>\n",
       "<td>lifestyle</td>\n",
       "<td>0.4</td>\n",
       "<td>0.4</td>\n",
       "</tr>\n",
       "</table>\n",
       "<p><span style=\"color:#000000\">Muchas formas de estimulaci&oacute;n nerviosa utilizan campos magn&eacute;ticos o corrientes el&eacute;ctricas. Algunos ejemplos son [</span><a href=\"https://www.ncbi.nlm.nih.gov/pmc/articles/PMC4097946/\" style=\"text-decoration:none\"><span style=\"color:#1155cc\"><u>R</u></span></a><span style=\"color:#000000\">,</span><a href=\"https://www.mayoclinic.org/tests-procedures/transcranial-magnetic-stimulation/about/pac-20384625\" style=\"text-decoration:none\"><span style=\"color:#1155cc\"><u> R</u></span></a><span style=\"color:#000000\">,</span><a href=\"https://www.frontiersin.org/articles/10.3389/fnins.2017.00641/full\" style=\"text-decoration:none\"><span style=\"color:#1155cc\"><u> R</u></span></a><span style=\"color:#000000\">]:</span></p>\r\n",
       "\r\n",
       "<ul>\r\n",
       "\t<li style=\"list-style-type:disc\"><span style=\"color:#1155cc\"><u>Estimulaci&oacute;n </u></span><a href=\"https://health.selfdecode.com/blog/tens-units-how-to-use/\" style=\"text-decoration:none\"><span style=\"color:#1155cc\"><u>nerviosa el&eacute;ctrica transcut&aacute;nea</u></span></a><span style=\"color:#000000\"> (TENS, siglas en ingl&eacute;s)&nbsp;</span></li>\r\n",
       "\t<li style=\"list-style-type:disc\"><span style=\"color:#000000\">Estimulaci&oacute;n magn&eacute;tica transcraneal de pulso repetitivo (EMTr)</span></li>\r\n",
       "\t<li style=\"list-style-type:disc\"><span style=\"color:#000000\">Estimulaci&oacute;n transcraneal de corriente continua (tDCS, siglas en ingl&eacute;s)</span></li>\r\n",
       "</ul>\r\n",
       "\r\n",
       "<p><span style=\"color:#000000\">La estimulaci&oacute;n nerviosa puede mejorar [</span><a href=\"https://www.ncbi.nlm.nih.gov/pmc/articles/PMC3883821/\" style=\"text-decoration:none\"><span style=\"color:#1155cc\"><u>R</u></span></a><span style=\"color:#000000\">,</span><a href=\"https://www.ncbi.nlm.nih.gov/pmc/articles/PMC6600066/\" style=\"text-decoration:none\"><span style=\"color:#000000\"> </span><span style=\"color:#1155cc\"><u>R</u></span></a><span style=\"color:#000000\">,</span><a href=\"https://pubmed.ncbi.nlm.nih.gov/26615114/\" style=\"text-decoration:none\"><span style=\"color:#000000\"> </span><span style=\"color:#1155cc\"><u>R</u></span></a><span style=\"color:#000000\">,</span><a href=\"https://www.ncbi.nlm.nih.gov/pmc/articles/PMC4186747/\" style=\"text-decoration:none\"><span style=\"color:#000000\"> </span><span style=\"color:#1155cc\"><u>R</u></span></a><span style=\"color:#000000\">,</span><a href=\"https://www.ncbi.nlm.nih.gov/pmc/articles/PMC7364190/\" style=\"text-decoration:none\"><span style=\"color:#000000\"> </span><span style=\"color:#1155cc\"><u>R</u></span></a><span style=\"color:#000000\">]:</span></p>\r\n",
       "\r\n",
       "<ul>\r\n",
       "\t<li style=\"list-style-type:disc\"><span style=\"color:#000000\">Estado de &aacute;nimo</span></li>\r\n",
       "\t<li style=\"list-style-type:disc\"><span style=\"color:#000000\">Dolor</span></li>\r\n",
       "\t<li style=\"list-style-type:disc\"><span style=\"color:#000000\">Convulsiones&nbsp;</span></li>\r\n",
       "\t<li style=\"list-style-type:disc\"><span style=\"color:#000000\">Ac&uacute;fenos</span></li>\r\n",
       "\t<li style=\"list-style-type:disc\"><span style=\"color:#000000\">Frecuencia card&iacute;aca</span></li>\r\n",
       "</ul><br>\n"
      ],
      "text/plain": [
       "<IPython.core.display.HTML object>"
      ]
     },
     "metadata": {},
     "output_type": "display_data"
    },
    {
     "data": {
      "text/html": [
       "<h5>Evitar el Humo del Cigarrillo</h5>\n",
       "Trate de evitar el humo del cigarrillo<br>\n",
       "<table>\n",
       "<tr>\n",
       "<th>Type</th>\n",
       "<th>Effect</th>\n",
       "<th>Evidence</th>\n",
       "</tr>\n",
       "<tr>\n",
       "<td>lifestyle</td>\n",
       "<td>0.4</td>\n",
       "<td>0.4</td>\n",
       "</tr>\n",
       "</table>\n",
       "<p style=\"text-align:justify\"><span style=\"color:#000000\">Usted ya sabe que el tabaco no es bueno para su salud. </span><span style=\"color:#000000\"><strong>Fumar afecta a todo su cuerpo</strong></span><span style=\"color:#000000\">. Puede da&ntilde;ar su cerebro, coraz&oacute;n, pulmones, y m&aacute;s [</span><a href=\"https://pubmed.ncbi.nlm.nih.gov/11980288/\" style=\"text-decoration:none\"><span style=\"color:#1155cc\"><u>R</u></span></a><span style=\"color:#000000\">].</span></p>\r\n",
       "\r\n",
       "<p>&nbsp;</p>\r\n",
       "\r\n",
       "<p style=\"text-align:justify\"><span style=\"color:#000000\">E incluso si usted no fuma, </span><span style=\"color:#000000\"><strong>el tabaquismo pasivo puede producir muchos de los mismos problemas de salud </strong></span><span style=\"color:#000000\">[</span><a href=\"https://www.ncbi.nlm.nih.gov/pmc/articles/PMC4595077/\" style=\"text-decoration:none\"><span style=\"color:#1155cc\"><u>R</u></span></a><span style=\"color:#000000\">].</span></p>\r\n",
       "\r\n",
       "<p><br />\r\n",
       "<span style=\"color:#000000\">Pero hay buenas noticias: </span><span style=\"color:#000000\"><strong>dejar de fumar puede revertir muchos de sus efectos negativos</strong></span><span style=\"color:#000000\">. Es una gran manera de mejorar considerablemente su salud [</span><a href=\"https://www.ncbi.nlm.nih.gov/books/NBK555590/\" style=\"text-decoration:none\"><span style=\"color:#1155cc\"><u>R</u></span></a><span style=\"color:#000000\">].</span></p><br>\n"
      ],
      "text/plain": [
       "<IPython.core.display.HTML object>"
      ]
     },
     "metadata": {},
     "output_type": "display_data"
    },
    {
     "data": {
      "text/html": [
       "<h5>Cacao</h5>\n",
       "Agregue más cacao a sus alimentos o bebidas.<br>\n",
       "<table>\n",
       "<tr>\n",
       "<th>Type</th>\n",
       "<th>Effect</th>\n",
       "<th>Evidence</th>\n",
       "</tr>\n",
       "<tr>\n",
       "<td>dietary</td>\n",
       "<td>0.4</td>\n",
       "<td>0.4</td>\n",
       "</tr>\n",
       "</table>\n",
       "<p><span style=\"color:#000000\">El</span><a href=\"https://selfhacked.com/blog/chocolate-health-benefits/\" style=\"text-decoration:none\"><span style=\"color:#000000\"> </span><span style=\"color:#1155cc\"><u>cacao</u></span></a><span style=\"color:#1155cc\"><u> </u></span><span style=\"color:#000000\">proviene de los granos del &aacute;rbol del cacao (</span><span style=\"color:#000000\"><em>Theobroma cacao)</em></span><span style=\"color:#000000\">. Por lo general se utiliza para preparar chocolate, chocolate caliente o a la taza y pasteles. Las personas tambi&eacute;n lo han utilizado como medicina natural durante m&aacute;s de mil a&ntilde;os [</span><a href=\"https://www.ncbi.nlm.nih.gov/pmc/articles/PMC4696435/\" style=\"text-decoration:none\"><span style=\"color:#1155cc\"><u>R</u></span></a><span style=\"color:#000000\">,</span><a href=\"https://www.ncbi.nlm.nih.gov/pubmed/10917925\" style=\"text-decoration:none\"><span style=\"color:#000000\"> </span><span style=\"color:#1155cc\"><u>R</u></span></a><span style=\"color:#000000\">].</span></p>\r\n",
       "\r\n",
       "<p>&nbsp;</p>\r\n",
       "\r\n",
       "<p><span style=\"color:#000000\">El cacao contiene flavonoles y otros componentes activos que pueden ayudar a [</span><a href=\"https://www.ncbi.nlm.nih.gov/pubmed/10917925\" style=\"text-decoration:none\"><span style=\"color:#1155cc\"><u>R</u></span></a><span style=\"color:#000000\">,</span><a href=\"https://www.ncbi.nlm.nih.gov/pmc/articles/PMC4696435/\" style=\"text-decoration:none\"><span style=\"color:#000000\"> </span><span style=\"color:#1155cc\"><u>R</u></span></a><span style=\"color:#000000\">,</span><a href=\"https://www.ncbi.nlm.nih.gov/pmc/articles/PMC3820066/\" style=\"text-decoration:none\"><span style=\"color:#000000\"> </span><span style=\"color:#1155cc\"><u>R</u></span></a><span style=\"color:#000000\">,</span><a href=\"https://pubmed.ncbi.nlm.nih.gov/25646334/\" style=\"text-decoration:none\"><span style=\"color:#000000\"> </span><span style=\"color:#1155cc\"><u>R</u></span></a><span style=\"color:#000000\">]:</span></p>\r\n",
       "\r\n",
       "<ul>\r\n",
       "\t<li style=\"list-style-type:disc\"><span style=\"color:#000000\">Controlar el peso&nbsp;</span></li>\r\n",
       "\t<li style=\"list-style-type:disc\"><span style=\"color:#000000\">Reducir la fatiga</span></li>\r\n",
       "\t<li style=\"list-style-type:disc\"><span style=\"color:#000000\">Mejorar el estado de &aacute;nimo</span></li>\r\n",
       "\t<li style=\"list-style-type:disc\"><span style=\"color:#000000\">Mejorar la digesti&oacute;n</span></li>\r\n",
       "\t<li style=\"list-style-type:disc\"><span style=\"color:#000000\">Equilibrar el az&uacute;car en la sangre</span></li>\r\n",
       "\t<li style=\"list-style-type:disc\"><span style=\"color:#000000\">Promover la salud del coraz&oacute;n</span></li>\r\n",
       "</ul><br>\n"
      ],
      "text/plain": [
       "<IPython.core.display.HTML object>"
      ]
     },
     "metadata": {},
     "output_type": "display_data"
    },
    {
     "data": {
      "text/html": [
       "<h5>Musicoterapia</h5>\n",
       "Considere probar la musicoterapia.<br>\n",
       "<table>\n",
       "<tr>\n",
       "<th>Type</th>\n",
       "<th>Effect</th>\n",
       "<th>Evidence</th>\n",
       "</tr>\n",
       "<tr>\n",
       "<td>lifestyle</td>\n",
       "<td>0.4</td>\n",
       "<td>0.4</td>\n",
       "</tr>\n",
       "</table>\n",
       "<p><span style=\"color:#000000\">La </span><a href=\"https://health.selfdecode.com/blog/20-scientifically-proven-health-benefits-music-blood-pressure-insomnia/\" style=\"text-decoration:none\"><span style=\"color:#0000ff\"><u>musicoterapia</u></span></a><span style=\"color:#000000\"> es una forma de terapia que consiste en tocar, componer y/o escuchar m&uacute;sica. Se puede aplicar individualmente o en grupos y puede no requerir la presencia de un terapeuta [</span><a href=\"https://www.ncbi.nlm.nih.gov/pmc/articles/PMC6486188/\" style=\"text-decoration:none\"><span style=\"color:#1155cc\"><u>R</u></span></a><span style=\"color:#000000\">].</span></p>\r\n",
       "\r\n",
       "<p>&nbsp;</p>\r\n",
       "\r\n",
       "<p><span style=\"color:#000000\">La musicoterapia proporciona herramientas para la relajaci&oacute;n corporal y las im&aacute;genes positivas. Su objetivo es mejorar la comunicaci&oacute;n, la calidad de vida y el bienestar [</span><a href=\"https://pubmed.ncbi.nlm.nih.gov/27094452/\" style=\"text-decoration:none\"><span style=\"color:#1155cc\"><u>R</u></span></a><span style=\"color:#000000\">,</span><a href=\"https://www.ncbi.nlm.nih.gov/pmc/articles/PMC6486188/\" style=\"text-decoration:none\"><span style=\"color:#000000\"> </span><span style=\"color:#1155cc\"><u>R</u></span></a><span style=\"color:#000000\">].</span></p>\r\n",
       "\r\n",
       "<p>&nbsp;</p><br>\n"
      ],
      "text/plain": [
       "<IPython.core.display.HTML object>"
      ]
     },
     "metadata": {},
     "output_type": "display_data"
    },
    {
     "data": {
      "text/html": [
       "<h5>Bacopa</h5>\n",
       "Considere tomar suplementos con bacopa.<br>\n",
       "<table>\n",
       "<tr>\n",
       "<th>Type</th>\n",
       "<th>Effect</th>\n",
       "<th>Evidence</th>\n",
       "</tr>\n",
       "<tr>\n",
       "<td>supplement</td>\n",
       "<td>0.4</td>\n",
       "<td>0.4</td>\n",
       "</tr>\n",
       "</table>\n",
       "<p><span style=\"color:#000000\">La </span><a href=\"https://selfhacked.com/blog/bacopa-monnieri-4/\" style=\"text-decoration:none\"><span style=\"color:#1155cc\"><u>bacopa</u></span></a><span style=\"color:#000000\"> (</span><span style=\"color:#000000\"><em>Bacopa monnieri</em></span><span style=\"color:#000000\">) crece como mala hierba en los campos de arroz del este de Asia y los Estados Unidos [</span><a href=\"https://www.ncbi.nlm.nih.gov/labs/pmc/articles/PMC3746283/\" style=\"text-decoration:none\"><span style=\"color:#1155cc\"><u>R</u></span></a><span style=\"color:#000000\">].&nbsp;</span></p>\r\n",
       "\r\n",
       "<p>&nbsp;</p>\r\n",
       "\r\n",
       "<p><span style=\"color:#000000\">La bacopa se usa en el Ayurveda (medicina tradicional india) para mejorar la inteigencia [</span><a href=\"https://www.ncbi.nlm.nih.gov/pmc/articles/PMC3746283/\" style=\"text-decoration:none\"><span style=\"color:#1155cc\"><u>R</u></span></a><span style=\"color:#000000\">].</span></p>\r\n",
       "\r\n",
       "<p>&nbsp;</p><br>\n"
      ],
      "text/plain": [
       "<IPython.core.display.HTML object>"
      ]
     },
     "metadata": {},
     "output_type": "display_data"
    },
    {
     "data": {
      "text/html": [
       "<h5>Ácidos Grasos Omega-3</h5>\n",
       "Considere tomar suplementos con ácidos grasos omega-3.<br>\n",
       "<table>\n",
       "<tr>\n",
       "<th>Type</th>\n",
       "<th>Effect</th>\n",
       "<th>Evidence</th>\n",
       "</tr>\n",
       "<tr>\n",
       "<td>supplement</td>\n",
       "<td>0.2</td>\n",
       "<td>0.4</td>\n",
       "</tr>\n",
       "</table>\n",
       "<p><span style=\"color:#000000\"><strong>Los </strong></span><a href=\"https://selfhacked.com/blog/fish-oil-top-22-science-based-health-benefits-of-fish-oil/\" style=\"text-decoration:none\"><span style=\"color:#1155cc\"><strong><u>&aacute;cidos grasos omega-3</u></strong></span></a><span style=\"color:#000000\"><strong> son algunas de las grasas m&aacute;s saludables que podemos comer. Ayudan a reducir la inflamaci&oacute;n y protegen el coraz&oacute;n, el cerebro y los ojos. </strong></span><span style=\"color:#000000\">&nbsp;Nuestros cuerpos producen menos omega-3 de los que necesitamos para una salud &oacute;ptima, por lo que es importante obtener suficientes a trav&eacute;s de alimentos o suplementos [</span><a href=\"https://ods.od.nih.gov/factsheets/Omega3Fatty%20AcidsandHealth-HealthProfessional/\" style=\"text-decoration:none\"><span style=\"color:#1155cc\"><u>R</u></span></a><span style=\"color:#000000\">,</span><a href=\"https://ods.od.nih.gov/factsheets/Omega3FattyAcids-HealthProfessional/\" style=\"text-decoration:none\"><span style=\"color:#000000\"> </span><span style=\"color:#1155cc\"><u>R</u></span></a><span style=\"color:#000000\">,</span><a href=\"https://www.ncbi.nlm.nih.gov/pmc/articles/PMC4404917/\" style=\"text-decoration:none\"><span style=\"color:#000000\"> </span><span style=\"color:#1155cc\"><u>R</u></span></a><span style=\"color:#000000\">].</span></p>\r\n",
       "\r\n",
       "<p>&nbsp;</p>\r\n",
       "\r\n",
       "<p><span style=\"color:#000000\">Hay tres tipos principales de omega-3: ALA, EPA y DHA. </span><span style=\"color:#000000\"><strong>El EPA y el DHA son vitales para la cognici&oacute;n y la salud mental</strong></span><span style=\"color:#000000\"> [</span><a href=\"https://ods.od.nih.gov/factsheets/Omega3FattyAcids-HealthProfessional/\" style=\"text-decoration:none\"><span style=\"color:#1155cc\"><u>R</u></span></a><span style=\"color:#000000\">,</span><a href=\"https://pubmed.ncbi.nlm.nih.gov/18072818/\" style=\"text-decoration:none\"><span style=\"color:#000000\"> </span><span style=\"color:#1155cc\"><u>R</u></span><span style=\"color:#000000\">]</span></a><span style=\"color:#000000\">.</span></p>\r\n",
       "\r\n",
       "<p>&nbsp;</p>\r\n",
       "\r\n",
       "<p><span style=\"color:#000000\"><strong>Los pescados grasos son ricos en EPA y DHA.</strong></span><span style=\"color:#000000\"> Incluyen [</span><a href=\"https://ods.od.nih.gov/factsheets/Omega3FattyAcids-HealthProfessional/\" style=\"text-decoration:none\"><span style=\"color:#1155cc\"><u>R</u></span></a><span style=\"color:#000000\">]:</span></p>\r\n",
       "\r\n",
       "<ul>\r\n",
       "\t<li style=\"list-style-type:disc\"><span style=\"color:#000000\">Salm&oacute;n</span></li>\r\n",
       "\t<li style=\"list-style-type:disc\"><span style=\"color:#000000\">At&uacute;n</span></li>\r\n",
       "\t<li style=\"list-style-type:disc\"><span style=\"color:#000000\">Arenque</span></li>\r\n",
       "\t<li style=\"list-style-type:disc\"><span style=\"color:#000000\">Sardinas</span></li>\r\n",
       "</ul>\r\n",
       "\r\n",
       "<p><span style=\"color:#000000\">Para una protecci&oacute;n &oacute;ptima, trate de consumir al menos </span><span style=\"color:#000000\"><strong>dos raciones de pescado graso por semana. </strong></span><span style=\"color:#000000\">Los suplementos de aceite de pescado est&aacute;n disponibles para aquellos que no comen pescado regularmente [</span><a href=\"https://ods.od.nih.gov/factsheets/Omega3FattyAcids-HealthProfessional/\" style=\"text-decoration:none\"><span style=\"color:#1155cc\"><u>R</u></span></a><span style=\"color:#000000\">].</span></p>\r\n",
       "\r\n",
       "<p>&nbsp;</p><br>\n"
      ],
      "text/plain": [
       "<IPython.core.display.HTML object>"
      ]
     },
     "metadata": {},
     "output_type": "display_data"
    },
    {
     "data": {
      "text/html": [
       "<h5>Vitamina D</h5>\n",
       "Considere tomar suplementos con vitamina D.<br>\n",
       "<table>\n",
       "<tr>\n",
       "<th>Type</th>\n",
       "<th>Effect</th>\n",
       "<th>Evidence</th>\n",
       "</tr>\n",
       "<tr>\n",
       "<td>supplement</td>\n",
       "<td>0.2</td>\n",
       "<td>0.4</td>\n",
       "</tr>\n",
       "</table>\n",
       "<p><span style=\"color:#000000\"><strong>Su cuerpo necesita </strong></span><a href=\"https://labs.selfdecode.com/blog/35proven-health-benefits-vitamin-d-part-1/\" style=\"text-decoration:none\"><span style=\"color:#1155cc\"><strong><u>vitamina D</u></strong></span></a><span style=\"color:#000000\"><strong> para tener huesos fuertes</strong></span><span style=\"color:#000000\">. La vitamina D tambi&eacute;n juega un papel en [</span><a href=\"https://ods.od.nih.gov/factsheets/VitaminD-HealthProfessional/\" style=\"text-decoration:none\"><span style=\"color:#1155cc\"><u>R</u></span></a><span style=\"color:#000000\">]:</span></p>\r\n",
       "\r\n",
       "<ul>\r\n",
       "\t<li style=\"list-style-type:disc\"><span style=\"color:#000000\">Estado de &aacute;nimo</span></li>\r\n",
       "\t<li style=\"list-style-type:disc\"><span style=\"color:#000000\">Defensas</span></li>\r\n",
       "\t<li style=\"list-style-type:disc\"><span style=\"color:#000000\">Salud del coraz&oacute;n</span></li>\r\n",
       "\t<li style=\"list-style-type:disc\"><span style=\"color:#000000\">Control del az&uacute;car en la sangre</span></li>\r\n",
       "</ul>\r\n",
       "\r\n",
       "<p><span style=\"color:#000000\"><strong>La </strong></span><a href=\"https://selfhacked.com/blog/avoiding-sun-will-kill-14-proven-science-based-health-benefits-sun/\" style=\"text-decoration:none\"><span style=\"color:#1155cc\"><strong><u>luz solar</u></strong></span></a><span style=\"color:#000000\"><strong> es nuestra principal fuente de vitamina D.</strong></span><span style=\"color:#000000\">&nbsp; Los expertos recomiendan recibir al menos </span><span style=\"color:#000000\"><strong>5-15 minutos de sol al mediod&iacute;a, 2-3 veces por semana</strong></span><span style=\"color:#000000\">. Las personas con piel m&aacute;s oscura y las que viven en latitudes altas podr&iacute;an necesitar per&iacute;odos m&aacute;s largos de exposici&oacute;n al sol [</span><a href=\"https://www.ncbi.nlm.nih.gov/pmc/articles/PMC2290997/\" style=\"text-decoration:none\"><span style=\"color:#1155cc\"><u>R</u></span></a><span style=\"color:#000000\">,</span><a href=\"https://www.ncbi.nlm.nih.gov/pmc/articles/PMC7049620/\" style=\"text-decoration:none\"><span style=\"color:#000000\"> </span><span style=\"color:#1155cc\"><u>R</u></span></a><span style=\"color:#000000\">].</span></p>\r\n",
       "\r\n",
       "<p>&nbsp;</p>\r\n",
       "\r\n",
       "<p><span style=\"color:#000000\">Los alimentos como el pescado, los huevos y la leche fortificada proporcionan peque&ntilde;as cantidades de vitamina D. </span><span style=\"color:#000000\"><strong>Las personas con falta de vitamina D deben plantearse tomar un suplemento</strong></span><span style=\"color:#000000\"> [</span><a href=\"https://ods.od.nih.gov/factsheets/VitaminD-HealthProfessional/\" style=\"text-decoration:none\"><span style=\"color:#1155cc\"><u>R</u></span></a><span style=\"color:#000000\">].</span></p>\r\n",
       "\r\n",
       "<p>&nbsp;</p><br>\n"
      ],
      "text/plain": [
       "<IPython.core.display.HTML object>"
      ]
     },
     "metadata": {},
     "output_type": "display_data"
    },
    {
     "data": {
      "text/html": [
       "<h5>Zumo De Cereza</h5>\n",
       "Beba zumo de cereza con moderación.<br>\n",
       "<table>\n",
       "<tr>\n",
       "<th>Type</th>\n",
       "<th>Effect</th>\n",
       "<th>Evidence</th>\n",
       "</tr>\n",
       "<tr>\n",
       "<td>dietary</td>\n",
       "<td>0.2</td>\n",
       "<td>0.4</td>\n",
       "</tr>\n",
       "</table>\n",
       "<p><span style=\"color:#000000\">La cereza es una fruta de hueso con numerosas variedades. Las cerezas son nativas de partes de Europa y Asia [</span><a href=\"https://www.ncbi.nlm.nih.gov/labs/pmc/articles/PMC5872786/\" style=\"text-decoration:none\"><span style=\"color:#1155cc\"><u>R</u></span></a><span style=\"color:#000000\">,</span><a href=\"https://www.thecanadianencyclopedia.ca/en/article/cherry\" style=\"text-decoration:none\"><span style=\"color:#000000\"> </span><span style=\"color:#1155cc\"><u>R</u></span></a><span style=\"color:#000000\">].</span></p>\r\n",
       "\r\n",
       "<p>&nbsp;</p>\r\n",
       "\r\n",
       "<p><span style=\"color:#000000\">Las personas comen cerezas (</span><span style=\"color:#000000\"><em>Prunus avium</em></span><span style=\"color:#000000\">) y guindas (</span><span style=\"color:#000000\"><em>Prunus cerasus</em></span><span style=\"color:#000000\">) o beben sus zumos para ayudar con [</span><a href=\"https://www.ncbi.nlm.nih.gov/labs/pmc/articles/PMC5872786/\" style=\"text-decoration:none\"><span style=\"color:#1155cc\"><u>R</u></span></a><span style=\"color:#000000\">]:</span></p>\r\n",
       "\r\n",
       "<ul>\r\n",
       "\t<li style=\"list-style-type:disc\"><span style=\"color:#000000\">Gota</span></li>\r\n",
       "\t<li style=\"list-style-type:disc\"><span style=\"color:#000000\">Recuperaci&oacute;n del ejercicio</span></li>\r\n",
       "\t<li style=\"list-style-type:disc\"><span style=\"color:#000000\">Control del az&uacute;car en la sangre</span></li>\r\n",
       "\t<li style=\"list-style-type:disc\"><span style=\"color:#000000\">Presi&oacute;n sangu&iacute;nea</span></li>\r\n",
       "</ul><br>\n"
      ],
      "text/plain": [
       "<IPython.core.display.HTML object>"
      ]
     },
     "metadata": {},
     "output_type": "display_data"
    },
    {
     "data": {
      "text/html": [
       "<h5>Evitar la Exposición al Plomo</h5>\n",
       "Trate de evitar la exposición al plomo.<br>\n",
       "<table>\n",
       "<tr>\n",
       "<th>Type</th>\n",
       "<th>Effect</th>\n",
       "<th>Evidence</th>\n",
       "</tr>\n",
       "<tr>\n",
       "<td>lifestyle</td>\n",
       "<td>0.2</td>\n",
       "<td>0.4</td>\n",
       "</tr>\n",
       "</table>\n",
       "<p><span style=\"color:#000000\">El plomo es un metal pesado. Se encuentra de forma natural en el medio ambiente en peque&ntilde;as cantidades [</span><a href=\"https://www.ncbi.nlm.nih.gov/pmc/articles/PMC4144270/\" style=\"text-decoration:none\"><span style=\"color:#1155cc\"><u>R</u></span></a><span style=\"color:#000000\">,</span><a href=\"https://www.ncbi.nlm.nih.gov/pmc/articles/PMC4427717/\" style=\"text-decoration:none\"><span style=\"color:#000000\"> </span><span style=\"color:#1155cc\"><u>R</u></span></a><span style=\"color:#000000\">].</span></p>\r\n",
       "\r\n",
       "<p>&nbsp;</p>\r\n",
       "\r\n",
       "<p><span style=\"color:#000000\">La exposici&oacute;n a plomo puede hacer que se acumule en el cuerpo, lo que puede contribuir al estr&eacute;s oxidativo y al da&ntilde;o celular. Esto se llama </span><span style=\"color:#000000\"><strong>envenenamiento por plomo</strong></span><span style=\"color:#000000\"> [</span><a href=\"https://pubmed.ncbi.nlm.nih.gov/19644200/\" style=\"text-decoration:none\"><span style=\"color:#1155cc\"><u>R</u></span></a><span style=\"color:#000000\">,</span><a href=\"https://my.clevelandclinic.org/health/diseases/11312-lead-poisoning\" style=\"text-decoration:none\"><span style=\"color:#000000\"> </span><span style=\"color:#1155cc\"><u>R</u></span></a><span style=\"color:#000000\">].</span></p>\r\n",
       "\r\n",
       "<p><br />\r\n",
       "<span style=\"color:#000000\">El plomo ya no se utiliza en la fabricaci&oacute;n de algunos productos como la gasolina y la pintura. Sin embargo, todav&iacute;a se puede encontrar en algunas tuber&iacute;as, bater&iacute;as y pintura de la pared de casas antiguas [</span><a href=\"https://www.ncbi.nlm.nih.gov/pmc/articles/PMC4144270/\" style=\"text-decoration:none\"><span style=\"color:#1155cc\"><u>R</u></span></a><span style=\"color:#000000\">,</span><a href=\"https://www.ncbi.nlm.nih.gov/pmc/articles/PMC4427717/\" style=\"text-decoration:none\"><span style=\"color:#000000\"> </span><span style=\"color:#1155cc\"><u>R</u></span></a><span style=\"color:#000000\">,</span><a href=\"https://www.mayoclinic.org/diseases-conditions/lead-poisoning/symptoms-causes/syc-20354717\" style=\"text-decoration:none\"><span style=\"color:#000000\"> </span><span style=\"color:#1155cc\"><u>R</u></span></a><span style=\"color:#000000\">].</span></p><br>\n"
      ],
      "text/plain": [
       "<IPython.core.display.HTML object>"
      ]
     },
     "metadata": {},
     "output_type": "display_data"
    },
    {
     "data": {
      "text/html": [
       "<h5>Evitar la Exposición al Estireno</h5>\n",
       "Trate de evitar o limitar la exposición al estireno.<br>\n",
       "<table>\n",
       "<tr>\n",
       "<th>Type</th>\n",
       "<th>Effect</th>\n",
       "<th>Evidence</th>\n",
       "</tr>\n",
       "<tr>\n",
       "<td>lifestyle</td>\n",
       "<td>0.2</td>\n",
       "<td>0.4</td>\n",
       "</tr>\n",
       "</table>\n",
       "<p><span style=\"color:#000000\">El estireno es un producto qu&iacute;mico a base de aceite utilizado en la fabricaci&oacute;n de pl&aacute;sticos, caucho y resinas. Se utiliza para fabricar material de embalaje, as&iacute; como productos de l&aacute;tex y de espuma de poliestireno. Tambi&eacute;n se puede encontrar en el interior de edificios por el funcionamiento de fotocopiadoras e impresoras l&aacute;ser, y el humo del cigarrillo. Se pueden consumir peque&ntilde;as cantidades en alimentos envasados en poliestireno.</span></p>\r\n",
       "\r\n",
       "<p>&nbsp;</p>\r\n",
       "\r\n",
       "<p><span style=\"color:#000000\">Si bien se desconocen los efectos sobre la salud de una baja exposici&oacute;n al estireno, la exposici&oacute;n a cantidades mayores puede producir irritaci&oacute;n de los ojos y los pulmones. La exposici&oacute;n excesiva a largo plazo puede da&ntilde;ar el sistema nervioso [</span><a href=\"https://www.cdc.gov/biomonitoring/Styrene_FactSheet.html\" style=\"text-decoration:none\"><span style=\"color:#1155cc\"><u>R</u></span></a><span style=\"color:#000000\">].</span></p>\r\n",
       "\r\n",
       "<p>&nbsp;</p><br>\n"
      ],
      "text/plain": [
       "<IPython.core.display.HTML object>"
      ]
     },
     "metadata": {},
     "output_type": "display_data"
    },
    {
     "data": {
      "text/html": [
       "<h5>Guaraná</h5>\n",
       "Considere tomar suplementos con extracto de guaraná.<br>\n",
       "<table>\n",
       "<tr>\n",
       "<th>Type</th>\n",
       "<th>Effect</th>\n",
       "<th>Evidence</th>\n",
       "</tr>\n",
       "<tr>\n",
       "<td>supplement</td>\n",
       "<td>0.2</td>\n",
       "<td>0.4</td>\n",
       "</tr>\n",
       "</table>\n",
       "<p><span style=\"color:#000000\">El guaran&aacute; es una planta trepadora brasile&ntilde;a nativa de la cuenca del Amazonas. Su fruto es aproximadamente del tama&ntilde;o de una baya de caf&eacute; y parece un ojo humano. El extracto de guaran&aacute; se hace pulverizando las semillas.</span></p>\r\n",
       "\r\n",
       "<p>&nbsp;</p>\r\n",
       "\r\n",
       "<p><span style=\"color:#000000\">Utilizado durante siglos por sus propiedades terap&eacute;uticas, el guaran&aacute; contiene una variedad de ingredientes beneficiosos, como la cafe&iacute;na y los antioxidantes [</span><a href=\"https://www.healthline.com/nutrition/guarana-benefits\" style=\"text-decoration:none\"><span style=\"color:#1155cc\"><u>R</u></span></a><span style=\"color:#000000\">].</span></p>\r\n",
       "\r\n",
       "<p>&nbsp;</p><br>\n"
      ],
      "text/plain": [
       "<IPython.core.display.HTML object>"
      ]
     },
     "metadata": {},
     "output_type": "display_data"
    },
    {
     "data": {
      "text/html": [
       "<h5>Ginkgo</h5>\n",
       "Considere tomar suplementos con extracto de hoja de ginkgo.<br>\n",
       "<table>\n",
       "<tr>\n",
       "<th>Type</th>\n",
       "<th>Effect</th>\n",
       "<th>Evidence</th>\n",
       "</tr>\n",
       "<tr>\n",
       "<td>supplement</td>\n",
       "<td>0.2</td>\n",
       "<td>0.4</td>\n",
       "</tr>\n",
       "</table>\n",
       "<p><span style=\"color:#000000\">El </span><a href=\"https://selfhacked.com/blog/ginkgo-biloba/\" style=\"text-decoration:none\"><span style=\"color:#1155cc\"><u>ginkgo</u></span></a><span style=\"color:#000000\"> (</span><span style=\"color:#000000\"><em>Ginkgo biloba</em></span><span style=\"color:#000000\">) es un &aacute;rbol ancestral utilizado en la medicina tradicional china [</span><a href=\"https://www.nccih.nih.gov/health/ginkgo\" style=\"text-decoration:none\"><span style=\"color:#1155cc\"><u>R</u></span></a><span style=\"color:#000000\">,</span><a href=\"https://www.ncbi.nlm.nih.gov/books/NBK541024/\" style=\"text-decoration:none\"><span style=\"color:#000000\"> </span><span style=\"color:#1155cc\"><u>R</u></span></a><span style=\"color:#000000\">].</span></p>\r\n",
       "\r\n",
       "<p>&nbsp;</p>\r\n",
       "\r\n",
       "<p><span style=\"color:#000000\">Seg&uacute;n evidencia limitada, el extracto de hoja de ginkgo puede ayudar con [</span><a href=\"https://www.nccih.nih.gov/health/ginkgo\" style=\"text-decoration:none\"><span style=\"color:#1155cc\"><u>R</u></span></a><span style=\"color:#000000\">,</span><a href=\"https://www.ncbi.nlm.nih.gov/pmc/articles/PMC5084772/\" style=\"text-decoration:none\"><span style=\"color:#000000\"> </span><span style=\"color:#1155cc\"><u>R</u></span></a><span style=\"color:#000000\">,</span><a href=\"https://pubmed.ncbi.nlm.nih.gov/23538078/\" style=\"text-decoration:none\"><span style=\"color:#000000\"> </span><span style=\"color:#1155cc\"><u>R</u></span></a><span style=\"color:#000000\">]:</span></p>\r\n",
       "\r\n",
       "<ul>\r\n",
       "\t<li style=\"list-style-type:disc\"><span style=\"color:#000000\">Ansiedad</span></li>\r\n",
       "\t<li style=\"list-style-type:disc\"><span style=\"color:#000000\">Demencia</span></li>\r\n",
       "\t<li style=\"list-style-type:disc\"><span style=\"color:#000000\">Problemas oculares</span></li>\r\n",
       "\t<li style=\"list-style-type:disc\"><span style=\"color:#000000\">Problemas de los vasos sangu&iacute;neos</span></li>\r\n",
       "\t<li style=\"list-style-type:disc\"><span style=\"color:#000000\">V&eacute;rtigo</span></li>\r\n",
       "</ul><br>\n"
      ],
      "text/plain": [
       "<IPython.core.display.HTML object>"
      ]
     },
     "metadata": {},
     "output_type": "display_data"
    },
    {
     "data": {
      "text/html": [
       "<h5>Meditación</h5>\n",
       "Practique meditación.<br>\n",
       "<table>\n",
       "<tr>\n",
       "<th>Type</th>\n",
       "<th>Effect</th>\n",
       "<th>Evidence</th>\n",
       "</tr>\n",
       "<tr>\n",
       "<td>lifestyle</td>\n",
       "<td>0.2</td>\n",
       "<td>0.2</td>\n",
       "</tr>\n",
       "</table>\n",
       "<p style=\"text-align:justify\"><span style=\"color:#000000\"><strong>La </strong></span><a href=\"https://selfhacked.com/blog/meditation/\" style=\"text-decoration:none\"><span style=\"color:#1155cc\"><strong><u>meditaci&oacute;n</u></strong></span></a><span style=\"color:#000000\"><strong> es una t&eacute;cnica de relajaci&oacute;n que entrena su mente para concentrarse y redirigir sus pensamientos.</strong></span><span style=\"color:#000000\"> Algunos de los principales tipos de meditaci&oacute;n son [</span><a href=\"https://www.ncbi.nlm.nih.gov/pmc/articles/PMC4142584/\" style=\"text-decoration:none\"><span style=\"color:#1155cc\"><u>R</u></span></a><span style=\"color:#000000\">]:</span></p>\r\n",
       "\r\n",
       "<ul>\r\n",
       "\t<li style=\"list-style-type:disc\"><span style=\"color:#000000\">Atenci&oacute;n plena o </span><span style=\"color:#000000\"><em>mindfulness</em></span></li>\r\n",
       "\t<li style=\"list-style-type:disc\"><span style=\"color:#000000\">De enfoque</span></li>\r\n",
       "\t<li style=\"list-style-type:disc\"><span style=\"color:#000000\">Trascendental</span></li>\r\n",
       "\t<li style=\"list-style-type:disc\"><span style=\"color:#000000\">Mantra</span></li>\r\n",
       "\t<li style=\"list-style-type:disc\"><span style=\"color:#000000\">En movimiento</span></li>\r\n",
       "</ul>\r\n",
       "\r\n",
       "<p style=\"text-align:justify\"><span style=\"color:#000000\">Las personas usan la meditaci&oacute;n para mejorar [</span><a href=\"https://www.ncbi.nlm.nih.gov/books/NBK513238/\" style=\"text-decoration:none\"><span style=\"color:#1155cc\"><u>R</u></span></a><span style=\"color:#000000\">, </span><a href=\"https://www.ncbi.nlm.nih.gov/labs/pmc/articles/PMC2719552/\" style=\"text-decoration:none\"><span style=\"color:#1155cc\"><u>R</u></span></a><span style=\"color:#000000\">]:</span></p>\r\n",
       "\r\n",
       "<ul>\r\n",
       "\t<li style=\"list-style-type:disc\"><span style=\"color:#000000\">Estr&eacute;s y ansiedad&nbsp;</span></li>\r\n",
       "\t<li style=\"list-style-type:disc\"><span style=\"color:#000000\">Estado de &aacute;nimo</span></li>\r\n",
       "\t<li style=\"list-style-type:disc\"><span style=\"color:#000000\">Trastornos del sue&ntilde;o</span></li>\r\n",
       "\t<li style=\"list-style-type:disc\"><span style=\"color:#000000\">Dolor</span></li>\r\n",
       "</ul><br>\n"
      ],
      "text/plain": [
       "<IPython.core.display.HTML object>"
      ]
     },
     "metadata": {},
     "output_type": "display_data"
    },
    {
     "data": {
      "text/html": [
       "<h5>Ashwagandha</h5>\n",
       "Considere tomar suplementos con ashwagandha.<br>\n",
       "<table>\n",
       "<tr>\n",
       "<th>Type</th>\n",
       "<th>Effect</th>\n",
       "<th>Evidence</th>\n",
       "</tr>\n",
       "<tr>\n",
       "<td>supplement</td>\n",
       "<td>0.2</td>\n",
       "<td>0.2</td>\n",
       "</tr>\n",
       "</table>\n",
       "<p><span style=\"color:#000000\">La </span><a href=\"https://selfhacked.com/blog/59-proven-scientific-benefits-ashwagandha-references/\" style=\"text-decoration:none\"><span style=\"color:#1155cc\"><u>ashwagandha</u></span></a><span style=\"color:#000000\"> (</span><span style=\"color:#000000\"><em>Withania somnifera</em></span><span style=\"color:#000000\">) es una hierba utilizada en la medicina tradicional india [</span><a href=\"https://www.ncbi.nlm.nih.gov/pmc/articles/PMC6750292/\" style=\"text-decoration:none\"><span style=\"color:#1155cc\"><u>R</u></span></a><span style=\"color:#000000\">,</span><a href=\"https://www.ncbi.nlm.nih.gov/pmc/articles/PMC3252722/\" style=\"text-decoration:none\"><span style=\"color:#000000\"> </span><span style=\"color:#1155cc\"><u>R</u></span></a><span style=\"color:#000000\">].</span></p>\r\n",
       "\r\n",
       "<p>&nbsp;</p>\r\n",
       "\r\n",
       "<p><span style=\"color:#000000\">Esta hierba se conoce como </span><span style=\"color:#000000\"><em>un adapt&oacute;geno</em></span><span style=\"color:#000000\"> porque ayuda a las personas a adaptarse al estr&eacute;s [</span><a href=\"https://www.ncbi.nlm.nih.gov/pmc/articles/PMC6750292/\" style=\"text-decoration:none\"><span style=\"color:#1155cc\"><u>R</u></span></a><span style=\"color:#000000\">,</span><a href=\"https://www.ncbi.nlm.nih.gov/pmc/articles/PMC3252722/\" style=\"text-decoration:none\"><span style=\"color:#000000\"> </span><span style=\"color:#1155cc\"><u>R</u></span></a><span style=\"color:#000000\">].</span></p>\r\n",
       "\r\n",
       "<p>&nbsp;</p><br>\n"
      ],
      "text/plain": [
       "<IPython.core.display.HTML object>"
      ]
     },
     "metadata": {},
     "output_type": "display_data"
    },
    {
     "data": {
      "text/html": [
       "<h5>Curcumina</h5>\n",
       "Considere tomar suplementos con curcumina.<br>\n",
       "<table>\n",
       "<tr>\n",
       "<th>Type</th>\n",
       "<th>Effect</th>\n",
       "<th>Evidence</th>\n",
       "</tr>\n",
       "<tr>\n",
       "<td>supplement</td>\n",
       "<td>0.2</td>\n",
       "<td>0.2</td>\n",
       "</tr>\n",
       "</table>\n",
       "<p><span style=\"color:#000000\"><strong>La </strong></span><a href=\"https://supplements.selfdecode.com/blog/curcumin-cures-top-15-scientifically-proven-health-benefits-with-references/\" style=\"text-decoration:none\"><span style=\"color:#0000ff\"><strong><u>c&uacute;rcuma</u></strong></span></a><span style=\"color:#000000\"><strong> es una especia amarilla de la India. Puede reducir la inflamaci&oacute;n y el </strong></span><a href=\"https://health.selfdecode.com/blog/oxidative-stress-101/\" style=\"text-decoration:none\"><span style=\"color:#1155cc\"><strong><u>estr&eacute;s oxidativo</u></strong></span></a><span style=\"color:#000000\"> [</span><a href=\"https://www.nccih.nih.gov/health/turmeric\" style=\"text-decoration:none\"><span style=\"color:#1155cc\"><u>R</u></span></a><span style=\"color:#000000\">].</span></p>\r\n",
       "\r\n",
       "<p>&nbsp;</p>\r\n",
       "\r\n",
       "<p><span style=\"color:#000000\">El compuesto activo m&aacute;s importante de la c&uacute;rcuma es la </span><span style=\"color:#000000\"><strong>curcumina. </strong></span><span style=\"color:#000000\">Las personas usan curcumina para mejorar [</span><a href=\"https://pubmed.ncbi.nlm.nih.gov/27789120/\" style=\"text-decoration:none\"><span style=\"color:#1155cc\"><u>R</u></span></a><span style=\"color:#000000\">,</span><a href=\"https://pubmed.ncbi.nlm.nih.gov/25046624/\" style=\"text-decoration:none\"><span style=\"color:#000000\"> </span><span style=\"color:#1155cc\"><u>R</u></span></a><span style=\"color:#000000\">,</span><a href=\"https://www.ncbi.nlm.nih.gov/pmc/articles/PMC5664031/\" style=\"text-decoration:none\"><span style=\"color:#000000\"> </span><span style=\"color:#1155cc\"><u>R</u></span></a><span style=\"color:#000000\">,</span><a href=\"https://pubmed.ncbi.nlm.nih.gov/28928074/\" style=\"text-decoration:none\"><span style=\"color:#000000\"> </span><span style=\"color:#1155cc\"><u>R</u></span></a><span style=\"color:#000000\">,</span><a href=\"https://pubmed.ncbi.nlm.nih.gov/29348389/\" style=\"text-decoration:none\"><span style=\"color:#000000\"> </span><span style=\"color:#1155cc\"><u>R</u></span></a><span style=\"color:#000000\">]:</span></p>\r\n",
       "\r\n",
       "<ul>\r\n",
       "\t<li style=\"list-style-type:disc\"><span style=\"color:#000000\">Dolor en las articulaciones</span></li>\r\n",
       "\t<li style=\"list-style-type:disc\"><span style=\"color:#000000\">Fiebre del heno</span></li>\r\n",
       "\t<li style=\"list-style-type:disc\"><span style=\"color:#000000\">Estado de &aacute;nimo</span></li>\r\n",
       "\t<li style=\"list-style-type:disc\"><span style=\"color:#000000\">Nivel de az&uacute;car en la sangre</span></li>\r\n",
       "\t<li style=\"list-style-type:disc\"><span style=\"color:#000000\">Salud intestinal</span></li>\r\n",
       "</ul>\r\n",
       "\r\n",
       "<p><span style=\"color:#000000\"><strong>Por favor tenga en cuenta que la curcumina es dif&iacute;cil de absorber.</strong></span><span style=\"color:#000000\"> Busque suplementos con curcumina</span><span style=\"color:#000000\"><em> biodisponible</em></span><span style=\"color:#000000\">, que es m&aacute;s f&aacute;cil de absorber. Combinarla con </span><a href=\"https://supplements.selfdecode.com/blog/black-pepper-piperine/\" style=\"text-decoration:none\"><span style=\"color:#1155cc\"><u>piperina</u></span></a><span style=\"color:#000000\"> (un compuesto de la pimienta negra) tambi&eacute;n puede ayudar [</span><a href=\"https://www.ncbi.nlm.nih.gov/pmc/articles/PMC7144558/\" style=\"text-decoration:none\"><span style=\"color:#1155cc\"><u>R</u></span></a><span style=\"color:#000000\">,</span><a href=\"https://www.ncbi.nlm.nih.gov/pubmed/9619120\" style=\"text-decoration:none\"><span style=\"color:#000000\"> </span><span style=\"color:#1155cc\"><u>R</u></span></a><span style=\"color:#000000\">].</span></p><br>\n"
      ],
      "text/plain": [
       "<IPython.core.display.HTML object>"
      ]
     },
     "metadata": {},
     "output_type": "display_data"
    },
    {
     "data": {
      "text/html": [
       "<h5>Hierbabuena</h5>\n",
       "Considere tomar suplementos con hierbabuena.<br>\n",
       "<table>\n",
       "<tr>\n",
       "<th>Type</th>\n",
       "<th>Effect</th>\n",
       "<th>Evidence</th>\n",
       "</tr>\n",
       "<tr>\n",
       "<td>supplement</td>\n",
       "<td>0.2</td>\n",
       "<td>0.2</td>\n",
       "</tr>\n",
       "</table>\n",
       "<p><span style=\"color:#000000\">La hierbabuena (</span><span style=\"color:#000000\"><em>Mentha spicata</em></span><span style=\"color:#000000\">) es una hierba arom&aacute;tica utilizada para dar sabor a los alimentos y el t&eacute; [</span><a href=\"https://www.ncbi.nlm.nih.gov/labs/pmc/articles/PMC6854165/\" style=\"text-decoration:none\"><span style=\"color:#1155cc\"><u>R</u></span></a><span style=\"color:#000000\">].</span></p>\r\n",
       "\r\n",
       "<p>&nbsp;</p>\r\n",
       "\r\n",
       "<p><span style=\"color:#000000\">Las personas tambi&eacute;n usan la hierbabuena para ayudar con [</span><a href=\"https://pubmed.ncbi.nlm.nih.gov/34087400/\" style=\"text-decoration:none\"><span style=\"color:#1155cc\"><u>R</u></span></a><span style=\"color:#000000\">,</span><a href=\"https://pubmed.ncbi.nlm.nih.gov/22435615/\" style=\"text-decoration:none\"><span style=\"color:#000000\"> </span><span style=\"color:#1155cc\"><u>R</u></span></a><span style=\"color:#000000\">,</span><a href=\"https://pubmed.ncbi.nlm.nih.gov/17310494/\" style=\"text-decoration:none\"><span style=\"color:#000000\"> </span><span style=\"color:#1155cc\"><u>R</u></span></a><span style=\"color:#000000\">,</span><a href=\"https://pubmed.ncbi.nlm.nih.gov/30802720/\" style=\"text-decoration:none\"><span style=\"color:#000000\"> </span><span style=\"color:#1155cc\"><u>R</u></span></a><span style=\"color:#000000\">]:</span><a href=\"https://pubmed.ncbi.nlm.nih.gov/17310494/\" style=\"text-decoration:none\"><span style=\"color:#1155cc\"><u>&nbsp;</u></span></a></p>\r\n",
       "\r\n",
       "<ul>\r\n",
       "\t<li style=\"list-style-type:disc\"><span style=\"color:#000000\">Problemas digestivos</span></li>\r\n",
       "\t<li style=\"list-style-type:disc\"><span style=\"color:#000000\">Tos y problemas respiratorios&nbsp;</span></li>\r\n",
       "\t<li style=\"list-style-type:disc\"><span style=\"color:#000000\">Cognici&oacute;n</span></li>\r\n",
       "</ul><br>\n"
      ],
      "text/plain": [
       "<IPython.core.display.HTML object>"
      ]
     },
     "metadata": {},
     "output_type": "display_data"
    },
    {
     "data": {
      "text/html": [
       "<h5>Avena Sativa</h5>\n",
       "<br>\n",
       "<table>\n",
       "<tr>\n",
       "<th>Type</th>\n",
       "<th>Effect</th>\n",
       "<th>Evidence</th>\n",
       "</tr>\n",
       "<tr>\n",
       "<td>supplement</td>\n",
       "<td>0.0</td>\n",
       "<td>0.0</td>\n",
       "</tr>\n",
       "</table>\n",
       "<p>&nbsp;&nbsp;</p><br>\n"
      ],
      "text/plain": [
       "<IPython.core.display.HTML object>"
      ]
     },
     "metadata": {},
     "output_type": "display_data"
    },
    {
     "data": {
      "text/html": [
       "<h5>Repetitive Transcranial Magnetic Stimulation (rTMS</h5>\n",
       "<br>\n",
       "<table>\n",
       "<tr>\n",
       "<th>Type</th>\n",
       "<th>Effect</th>\n",
       "<th>Evidence</th>\n",
       "</tr>\n",
       "<tr>\n",
       "<td>lifestyle</td>\n",
       "<td>0.0</td>\n",
       "<td>0.0</td>\n",
       "</tr>\n",
       "</table>\n",
       "<p>&nbsp;&nbsp;</p><br>\n"
      ],
      "text/plain": [
       "<IPython.core.display.HTML object>"
      ]
     },
     "metadata": {},
     "output_type": "display_data"
    },
    {
     "data": {
      "text/html": [
       "<h5>Transcranial Direct Current Stimulation (tDCS)</h5>\n",
       "<br>\n",
       "<table>\n",
       "<tr>\n",
       "<th>Type</th>\n",
       "<th>Effect</th>\n",
       "<th>Evidence</th>\n",
       "</tr>\n",
       "<tr>\n",
       "<td>lifestyle</td>\n",
       "<td>0.0</td>\n",
       "<td>0.0</td>\n",
       "</tr>\n",
       "</table>\n",
       "<p>&nbsp; &nbsp;</p><br>\n"
      ],
      "text/plain": [
       "<IPython.core.display.HTML object>"
      ]
     },
     "metadata": {},
     "output_type": "display_data"
    },
    {
     "data": {
      "text/html": [
       "<h5>Cardio</h5>\n",
       "<br>\n",
       "<table>\n",
       "<tr>\n",
       "<th>Type</th>\n",
       "<th>Effect</th>\n",
       "<th>Evidence</th>\n",
       "</tr>\n",
       "<tr>\n",
       "<td>lifestyle</td>\n",
       "<td>0.0</td>\n",
       "<td>0.0</td>\n",
       "</tr>\n",
       "</table>\n",
       "<p>&nbsp;&nbsp;</p><br>\n"
      ],
      "text/plain": [
       "<IPython.core.display.HTML object>"
      ]
     },
     "metadata": {},
     "output_type": "display_data"
    },
    {
     "data": {
      "text/html": [
       "<h2>Cardiovascular</h2>"
      ],
      "text/plain": [
       "<IPython.core.display.HTML object>"
      ]
     },
     "metadata": {},
     "output_type": "display_data"
    },
    {
     "data": {
      "text/html": [
       "<h3>Sensibilidad a la Sal</h3>\n",
       "Your score: 0.0478927203065134<br>\n",
       "Sensibilidad a la sal probablemente típica<br>\n",
       "<h4>Summary</h4>\n",
       "<br>\n",
       "<h4>Genética de la Sensibilidad a la Sal</h4>\n",
       "<p><span style=\"color:#000000\">La sensibilidad a la sal est&aacute; determinada en parte por los genes que portamos. Los genes implicados en la sensibilidad a la sal pueden influir en [</span><a href=\"https://www.ncbi.nlm.nih.gov/pmc/articles/PMC6116721/\" style=\"text-decoration:none\"><span style=\"color:#0000ff\"><u>R</u></span></a><span style=\"color:#000000\">, </span><a href=\"https://www.ahajournals.org/doi/10.1161/01.HYP.28.5.854\" style=\"text-decoration:none\"><span style=\"color:#0000ff\"><u>R</u></span></a><span style=\"color:#000000\">, </span><a href=\"https://pubmed.ncbi.nlm.nih.gov/12924618/\" style=\"text-decoration:none\"><span style=\"color:#0000ff\"><u>R</u></span></a><span style=\"color:#000000\">, </span><a href=\"https://pubmed.ncbi.nlm.nih.gov/26277930/\" style=\"text-decoration:none\"><span style=\"color:#0000ff\"><u>R</u></span></a><span style=\"color:#000000\">, </span><a href=\"https://www.ncbi.nlm.nih.gov/labs/pmc/articles/PMC4873465/\" style=\"text-decoration:none\"><span style=\"color:#0000ff\"><u>R</u></span></a><span style=\"color:#000000\">, </span><a href=\"https://www.ncbi.nlm.nih.gov/pmc/articles/PMC4520886/\" style=\"text-decoration:none\"><span style=\"color:#0000ff\"><u>R</u></span></a><span style=\"color:#000000\">]:</span></p>\r\n",
       "\r\n",
       "<ul>\r\n",
       "\t<li style=\"list-style-type:disc\"><span style=\"color:#000000\">Niveles de sodio en la sangre y el ri&ntilde;&oacute;n&nbsp;</span></li>\r\n",
       "\t<li style=\"list-style-type:disc\"><span style=\"color:#000000\">Funci&oacute;n de los vasos sangu&iacute;neos</span></li>\r\n",
       "\t<li style=\"list-style-type:disc\"><span style=\"color:#000000\">Presi&oacute;n sangu&iacute;nea</span></li>\r\n",
       "</ul>\r\n",
       "\r\n",
       "<p><span style=\"color:#000000\">Sin embargo, otros genes y factores ambientales tambi&eacute;n pueden influir en sus necesidades de sal. </span><span style=\"color:#000000\">Es importante consumir la cantidad correcta de sal para usted.&nbsp;</span></p>\r\n",
       "\r\n",
       "<p>&nbsp;</p><br>\n",
       "<br>\n",
       "<h4>Recommendations</h4>"
      ],
      "text/plain": [
       "<IPython.core.display.HTML object>"
      ]
     },
     "metadata": {},
     "output_type": "display_data"
    },
    {
     "data": {
      "text/html": [
       "<h5>Reduce Salt Intake</h5>\n",
       "Eat less salt.<br>\n",
       "<table>\n",
       "<tr>\n",
       "<th>Type</th>\n",
       "<th>Effect</th>\n",
       "<th>Evidence</th>\n",
       "</tr>\n",
       "<tr>\n",
       "<td>dietary</td>\n",
       "<td>1.0</td>\n",
       "<td>1.0</td>\n",
       "</tr>\n",
       "</table>\n",
       "<p style=\"text-align:justify\"><span style=\"color:#000000\">Your body needs a certain amount of sodium to function. This sodium usually comes from </span><a href=\"https://selfhacked.com/blog/is-salt-good-or-bad-the-science-on-the-health-effects-of-salt/\" style=\"text-decoration:none\"><span style=\"color:#1155cc\"><u>salt</u></span></a><span style=\"color:#000000\">. But Americans tend to get more salt than they need! </span><span style=\"color:#000000\"><strong>Eating too much salt is linked to higher blood pressure and an increased risk of stroke and heart disease </strong></span><span style=\"color:#000000\">[</span><a href=\"https://www.mayoclinic.org/healthy-lifestyle/nutrition-and-healthy-eating/in-depth/sodium/art-20045479\" style=\"text-decoration:none\"><span style=\"color:#1155cc\"><u>R</u></span></a><span style=\"color:#000000\">].</span></p>\r\n",
       "\r\n",
       "<p>&nbsp;</p>\r\n",
       "\r\n",
       "<p style=\"text-align:justify\"><span style=\"color:#000000\">Foods high in salt include [</span><a href=\"https://pubmed.ncbi.nlm.nih.gov/30388974/\" style=\"text-decoration:none\"><span style=\"color:#1155cc\"><u>R</u></span></a><span style=\"color:#000000\">, </span><a href=\"https://www.ncbi.nlm.nih.gov/pmc/articles/PMC5458522/\" style=\"text-decoration:none\"><span style=\"color:#1155cc\"><u>R</u></span></a><span style=\"color:#000000\">, </span><a href=\"https://www.ncbi.nlm.nih.gov/pmc/articles/PMC5417577/\" style=\"text-decoration:none\"><span style=\"color:#1155cc\"><u>R</u></span></a><span style=\"color:#000000\">]:</span></p>\r\n",
       "\r\n",
       "<ul>\r\n",
       "\t<li style=\"list-style-type:disc\"><span style=\"color:#000000\">Prepared soups, broths, gravies, and sauces</span></li>\r\n",
       "\t<li style=\"list-style-type:disc\"><span style=\"color:#000000\">Fermented or pickled foods (such as pickles, soy sauce, olives, and </span><a href=\"https://www.selfhacked.com/blog/capers/\" style=\"text-decoration:none\"><span style=\"color:#1155cc\"><u>capers</u></span></a><span style=\"color:#000000\">)</span></li>\r\n",
       "\t<li style=\"list-style-type:disc\"><span style=\"color:#000000\">Cured meats and sausages (such as bacon, salt pork, and salami)</span></li>\r\n",
       "\t<li style=\"list-style-type:disc\"><span style=\"color:#000000\">Cheese (such as Roquefort and Parmesan)</span></li>\r\n",
       "</ul>\r\n",
       "\r\n",
       "<p><span style=\"color:#000000\"><strong>Try to limit your daily intake to 1 teaspoon of salt (2,400 mg of sodium) </strong></span><span style=\"color:#000000\">[</span><a href=\"https://www.nhs.uk/live-well/eat-well/salt-nutrition/\" style=\"text-decoration:none\"><span style=\"color:#1155cc\"><u>R</u></span></a><span style=\"color:#000000\">].</span></p><br>\n"
      ],
      "text/plain": [
       "<IPython.core.display.HTML object>"
      ]
     },
     "metadata": {},
     "output_type": "display_data"
    },
    {
     "data": {
      "text/html": [
       "<h3>Endurecimiento de las Arterias</h3>\n",
       "Your score: 0.473180076628352<br>\n",
       "Probabilidad típica de arteriosclerosis<br>\n",
       "<h4>Summary</h4>\n",
       "¿Le han diagnosticado aterosclerosis?<br>\n",
       "<h4>Sobre el Endurecmiento de las Arterias</h4>\n",
       "<p><span style=\"color:#000000\">Las arterias son vasos sangu&iacute;neos que transportan ox&iacute;geno y nutrientes desde el coraz&oacute;n al resto del cuerpo. Normalmente, son el&aacute;sticas, capaces de expandirse y contraerse a medida que la sangre fluye a trav&eacute;s de ellas [</span><a href=\"https://www.mayoclinic.org/diseases-conditions/arteriosclerosis-atherosclerosis/symptoms-causes/syc-20350569\" style=\"text-decoration:none\"><span style=\"color:#1155cc\"><u>R</u></span></a><span style=\"color:#000000\">, </span><a href=\"https://www.ncbi.nlm.nih.gov/pmc/articles/PMC4258672/\" style=\"text-decoration:none\"><span style=\"color:#1155cc\"><u>R</u></span></a><span style=\"color:#000000\">].</span></p>\r\n",
       "\r\n",
       "<p>&nbsp;</p>\r\n",
       "\r\n",
       "<p><span style=\"color:#000000\">Con el tiempo, las arterias de algunas personas pueden perder esa flexibilidad. Las paredes de los vasos sangu&iacute;neos se vuelven gruesas y r&iacute;gidas. Esto se llama endurecimiento de las </span><span style=\"color:#000000\"><em>arterias (arteriosclerosis</em></span><span style=\"color:#000000\">) [</span><a href=\"https://www.mayoclinic.org/diseases-conditions/arteriosclerosis-atherosclerosis/symptoms-causes/syc-20350569\" style=\"text-decoration:none\"><span style=\"color:#1155cc\"><u>R</u></span></a><span style=\"color:#000000\">].</span></p>\r\n",
       "\r\n",
       "<p>&nbsp;</p>\r\n",
       "\r\n",
       "<p><span style=\"color:#000000\">El tipo m&aacute;s com&uacute;n de endurecimiento de las arterias es la aterosclerosis. En esta condici&oacute;n, las sustancias grasas se acumulan en las paredes de los vasos sangu&iacute;neos. Esta acumulaci&oacute;n se llama placa. Puede estrechar las arterias, lo que reduce el flujo sangu&iacute;neo. Tambi&eacute;n puede estallar y causar un co&aacute;gulo de sangre [</span><a href=\"https://www.mayoclinic.org/diseases-conditions/arteriosclerosis-atherosclerosis/symptoms-causes/syc-20350569\" style=\"text-decoration:none\"><span style=\"color:#1155cc\"><u>R</u></span></a><span style=\"color:#000000\">, </span><a href=\"https://www.ncbi.nlm.nih.gov/books/NBK507799/\" style=\"text-decoration:none\"><span style=\"color:#1155cc\"><u>R</u></span></a><span style=\"color:#000000\">, </span><a href=\"https://www.ncbi.nlm.nih.gov/pmc/articles/PMC2826222/\" style=\"text-decoration:none\"><span style=\"color:#1155cc\"><u>R</u></span></a><span style=\"color:#000000\">].</span></p>\r\n",
       "\r\n",
       "<p>&nbsp;</p>\r\n",
       "\r\n",
       "<p><span style=\"color:#000000\"><strong>Hasta el 31% de las muertes en todo el mundo pueden deberse a una enfermedad card&iacute;aca ateroscler&oacute;tica </strong></span><span style=\"color:#000000\">[</span><a href=\"https://www.ncbi.nlm.nih.gov/pmc/articles/PMC6694551/\" style=\"text-decoration:none\"><span style=\"color:#1155cc\"><u>R</u></span></a><span style=\"color:#000000\">].</span></p>\r\n",
       "\r\n",
       "<p>&nbsp;</p>\r\n",
       "\r\n",
       "<p><span style=\"color:#000000\">Los hombres pueden ser m&aacute;s propensos a desarrollar aterosclerosis que las mujeres. El riesgo tiende a aumentar con la edad [</span><a href=\"https://www.ncbi.nlm.nih.gov/labs/pmc/articles/PMC4405090/\" style=\"text-decoration:none\"><span style=\"color:#1155cc\"><u>R</u></span></a><span style=\"color:#000000\">, </span><a href=\"https://www.mayoclinic.org/diseases-conditions/arteriosclerosis-atherosclerosis/symptoms-causes/syc-20350569\" style=\"text-decoration:none\"><span style=\"color:#1155cc\"><u>R</u></span></a><span style=\"color:#000000\">].</span></p>\r\n",
       "\r\n",
       "<p>&nbsp;</p>\r\n",
       "\r\n",
       "<p><span style=\"color:#000000\">Otros factores de riesgo para la aterosclerosis incluyen [</span><a href=\"https://www.mayoclinic.org/diseases-conditions/arteriosclerosis-atherosclerosis/symptoms-causes/syc-20350569\" style=\"text-decoration:none\"><span style=\"color:#1155cc\"><u>R</u></span></a><span style=\"color:#000000\">]:</span></p>\r\n",
       "\r\n",
       "<ul>\r\n",
       "\t<li style=\"list-style-type:disc\"><span style=\"color:#000000\">Presi&oacute;n arterial alta</span></li>\r\n",
       "\t<li style=\"list-style-type:disc\"><span style=\"color:#000000\">Colesterol alto</span></li>\r\n",
       "\t<li style=\"list-style-type:disc\"><span style=\"color:#000000\">Afecciones subyacentes (por ejemplo, diabetes, obesidad, apnea del sue&ntilde;o)</span></li>\r\n",
       "\t<li style=\"list-style-type:disc\"><span style=\"color:#000000\">Fumar cigarrillos</span></li>\r\n",
       "\t<li style=\"list-style-type:disc\"><span style=\"color:#000000\">Falta de ejercicio</span></li>\r\n",
       "\t<li style=\"list-style-type:disc\"><span style=\"color:#000000\">Dieta poco saludable</span></li>\r\n",
       "\t<li style=\"list-style-type:disc\"><span style=\"color:#000000\"><strong>Gen&eacute;tica</strong></span></li>\r\n",
       "</ul>\r\n",
       "\r\n",
       "<p><span style=\"color:#000000\">En la mayor&iacute;a de los casos, la aterosclerosis no causar&aacute; ning&uacute;n s&iacute;ntoma. De hecho, la mayor&iacute;a de las personas no tienen s&iacute;ntomas hasta que un vaso sangu&iacute;neo es tan estrecho que un &oacute;rgano deja de recibir suficiente sangre. Los s&iacute;ntomas de la aterosclerosis moderada o grave pueden variar dependiendo de la arteria afectada. Pueden incluir [</span><a href=\"https://www.mayoclinic.org/diseases-conditions/arteriosclerosis-atherosclerosis/symptoms-causes/syc-20350569\" style=\"text-decoration:none\"><span style=\"color:#1155cc\"><u>R</u></span></a><span style=\"color:#000000\">]:</span></p>\r\n",
       "\r\n",
       "<ul>\r\n",
       "\t<li style=\"list-style-type:disc\"><span style=\"color:#000000\">Dolor en el pecho (en los vasos sangu&iacute;neos que irrigan el coraz&oacute;n)</span></li>\r\n",
       "\t<li style=\"list-style-type:disc\"><span style=\"color:#000000\">Debilidad, p&eacute;rdida de la visi&oacute;n, dificultad para hablar (en los vasos sangu&iacute;neos que irrigan el cerebro)</span></li>\r\n",
       "\t<li style=\"list-style-type:disc\"><span style=\"color:#000000\">Dolor en la pierna o el brazo (en los vasos sangu&iacute;neos que alimentan las extremidades)</span></li>\r\n",
       "\t<li style=\"list-style-type:disc\"><span style=\"color:#000000\">Presi&oacute;n arterial alta o insuficiencia renal (en los vasos sangu&iacute;neos que alimentan los ri&ntilde;ones)</span></li>\r\n",
       "</ul>\r\n",
       "\r\n",
       "<p style=\"margin-left:-1px\"><span style=\"color:#000000\">Para prevenir el endurecimiento de las arterias, los m&eacute;dicos recomiendan [</span><a href=\"https://www.mayoclinic.org/diseases-conditions/arteriosclerosis-atherosclerosis/symptoms-causes/syc-20350569\" style=\"text-decoration:none\"><span style=\"color:#1155cc\"><u>R</u></span></a><span style=\"color:#000000\">]:</span></p>\r\n",
       "\r\n",
       "<ul>\r\n",
       "\t<li style=\"list-style-type:disc\"><span style=\"color:#000000\">Dejar de fumar</span></li>\r\n",
       "\t<li style=\"list-style-type:disc\"><span style=\"color:#000000\">Comer alimentos saludables</span></li>\r\n",
       "\t<li style=\"list-style-type:disc\"><span style=\"color:#000000\">Mantenerse en forma</span></li>\r\n",
       "</ul>\r\n",
       "\r\n",
       "<p><span style=\"color:#000000\">Una vez que la afecci&oacute;n progresa, las opciones de tratamiento pueden incluir [</span><a href=\"http://mayoclinic.org/diseases-conditions/arteriosclerosis-atherosclerosis/diagnosis-treatment/drc-20350575\" style=\"text-decoration:none\"><span style=\"color:#1155cc\"><u>R</u></span></a><span style=\"color:#000000\">]:</span></p>\r\n",
       "\r\n",
       "<ul>\r\n",
       "\t<li style=\"list-style-type:disc\"><span style=\"color:#000000\">Medicaci&oacute;n</span></li>\r\n",
       "\t<li style=\"list-style-type:disc\"><span style=\"color:#000000\">Cirug&iacute;a</span></li>\r\n",
       "\t<li style=\"list-style-type:disc\"><span style=\"color:#000000\">Cambios en el estilo de vida</span></li>\r\n",
       "</ul>\r\n",
       "\r\n",
       "<p><span style=\"color:#000000\">Es importante prevenir, controlar o tratar la aterosclerosis. Si no se trata, puede causar [</span><a href=\"https://www.mayoclinic.org/diseases-conditions/arteriosclerosis-atherosclerosis/symptoms-causes/syc-20350569\" style=\"text-decoration:none\"><span style=\"color:#1155cc\"><u>R</u></span></a><span style=\"color:#000000\">]:</span></p>\r\n",
       "\r\n",
       "<ul>\r\n",
       "\t<li style=\"list-style-type:disc\"><span style=\"color:#000000\">Ataques cardiacos</span></li>\r\n",
       "\t<li style=\"list-style-type:disc\"><span style=\"color:#000000\">Infartos</span></li>\r\n",
       "\t<li style=\"list-style-type:disc\"><span style=\"color:#000000\">Mala circulaci&oacute;n en los brazos y las piernas (enfermedad arterial perif&eacute;rica)</span></li>\r\n",
       "\t<li style=\"list-style-type:disc\"><span style=\"color:#000000\">Protuberancias en los vasos sangu&iacute;neos (aneurismas)</span></li>\r\n",
       "\t<li style=\"list-style-type:disc\"><span style=\"color:#000000\">Enfermedad renal cr&oacute;nica</span></li>\r\n",
       "</ul>\r\n",
       "\r\n",
       "<p>&nbsp;</p>\r\n",
       "\r\n",
       "<p><span style=\"color:#000000\"><strong>Alrededor del 60% de las diferencias en las posibilidades de endurecimiento de las arterias de las personas pueden atribuirse a la gen&eacute;tica</strong></span><span style=\"color:#000000\">. Los genes involucrados en el endurecimiento de las arterias pueden influir en [</span><a href=\"https://pubmed.ncbi.nlm.nih.gov/29976271/\" style=\"text-decoration:none\"><span style=\"color:#1155cc\"><u>R</u></span></a><span style=\"color:#000000\">, </span><a href=\"https://www.ncbi.nlm.nih.gov/pmc/articles/PMC3085784/\" style=\"text-decoration:none\"><span style=\"color:#1155cc\"><u>R</u></span></a><span style=\"color:#000000\">]:</span></p>\r\n",
       "\r\n",
       "<ul>\r\n",
       "\t<li style=\"list-style-type:disc\"><span style=\"color:#000000\">Colesterol (</span><a href=\"https://selfdecode.com/gene/lrp6/\" style=\"text-decoration:none\"><span style=\"color:#1155cc\"><em><u>LRP6</u></em></span></a><span style=\"color:#000000\">)</span></li>\r\n",
       "\t<li style=\"list-style-type:disc\"><span style=\"color:#000000\">Inflamaci&oacute;n (</span><a href=\"https://selfdecode.com/gene/alox5ap/\" style=\"text-decoration:none\"><span style=\"color:#1155cc\"><em><u>ALOX5AP</u></em></span></a><span style=\"color:#000000\">, </span><a href=\"https://selfdecode.com/gene/lta4h/\" style=\"text-decoration:none\"><span style=\"color:#1155cc\"><em><u>LTA4H</u></em></span></a><span style=\"color:#000000\">)</span></li>\r\n",
       "</ul><br>\n",
       "<br>\n",
       "<h4>Recommendations</h4>"
      ],
      "text/plain": [
       "<IPython.core.display.HTML object>"
      ]
     },
     "metadata": {},
     "output_type": "display_data"
    },
    {
     "data": {
      "text/html": [
       "<h5>Mantener un Peso Saludable</h5>\n",
       "Intente mantener un peso saludable.<br>\n",
       "<table>\n",
       "<tr>\n",
       "<th>Type</th>\n",
       "<th>Effect</th>\n",
       "<th>Evidence</th>\n",
       "</tr>\n",
       "<tr>\n",
       "<td>lifestyle</td>\n",
       "<td>1.0</td>\n",
       "<td>0.8</td>\n",
       "</tr>\n",
       "</table>\n",
       "<p style=\"text-align:justify\"><span style=\"color:#000000\"><strong>Las personas tienen un peso saludable cuando no tienen ni demasiada ni muy poca grasa corporal </strong></span><span style=\"color:#000000\">[</span><a href=\"https://www.ncbi.nlm.nih.gov/pmc/articles/PMC2082845/\" style=\"text-decoration:none\"><span style=\"color:#1155cc\"><u>R</u></span></a><span style=\"color:#000000\">].</span></p>\r\n",
       "\r\n",
       "<p>&nbsp;</p>\r\n",
       "\r\n",
       "<p style=\"text-align:justify\"><span style=\"color:#000000\"><em>El &iacute;ndice de masa corporal </em></span><span style=\"color:#000000\">(IMC) puede ayudar a determinar los niveles de grasa corporal. Su IMC es su masa (en kg) dividida por el cuadrado de su altura (en metros) [</span><a href=\"https://www.cdc.gov/healthyweight/assessing/bmi/index.html\" style=\"text-decoration:none\"><span style=\"color:#1155cc\"><u>R</u></span></a><span style=\"color:#000000\">].</span></p>\r\n",
       "\r\n",
       "<p>&nbsp;</p>\r\n",
       "\r\n",
       "<p style=\"text-align:justify\"><span style=\"color:#000000\">En general [</span><a href=\"https://www.cdc.gov/healthyweight/assessing/bmi/adult_bmi/index.html\" style=\"text-decoration:none\"><span style=\"color:#1155cc\"><u>R</u></span></a><span style=\"color:#000000\">]:</span></p>\r\n",
       "\r\n",
       "<ul>\r\n",
       "\t<li style=\"list-style-type:disc\"><span style=\"color:#000000\">Las personas con un IMC </span><span style=\"color:#000000\"><strong>entre 18.5 y 25</strong></span><span style=\"color:#000000\"> tienden a tener un </span><span style=\"color:#000000\"><strong>peso saludable</strong></span></li>\r\n",
       "\t<li style=\"list-style-type:disc\"><span style=\"color:#000000\">Las personas con un IMC</span><span style=\"color:#000000\"><strong> entre 25 y 30 </strong></span><span style=\"color:#000000\">tienden a </span><span style=\"color:#000000\"><strong>tener sobrepeso</strong></span></li>\r\n",
       "\t<li style=\"list-style-type:disc\"><span style=\"color:#000000\">Las personas con un IMC </span><span style=\"color:#000000\"><strong>superior a 30 </strong></span><span style=\"color:#000000\">tienden a ser </span><span style=\"color:#000000\"><strong>obesas</strong></span></li>\r\n",
       "</ul>\r\n",
       "\r\n",
       "<p><span style=\"color:#000000\">Las personas con sobrepeso u obesidad tienen m&aacute;s probabilidades de tener [</span><a href=\"https://www.mayoclinic.org/diseases-conditions/obesity/symptoms-causes/syc-20375742\" style=\"text-decoration:none\"><span style=\"color:#1155cc\"><u>R</u></span></a><span style=\"color:#000000\">, </span><a href=\"https://www.ncbi.nlm.nih.gov/pmc/articles/PMC2879283/\" style=\"text-decoration:none\"><span style=\"color:#1155cc\"><u>R</u></span></a><span style=\"color:#000000\">]:</span></p>\r\n",
       "\r\n",
       "<ul>\r\n",
       "\t<li style=\"list-style-type:disc\"><span style=\"color:#000000\">Presi&oacute;n arterial alta</span></li>\r\n",
       "\t<li style=\"list-style-type:disc\"><span style=\"color:#000000\">Diabetes tipo 2</span></li>\r\n",
       "\t<li style=\"list-style-type:disc\"><span style=\"color:#000000\">Enfermedades card&iacute;acas</span></li>\r\n",
       "\t<li style=\"list-style-type:disc\"><span style=\"color:#000000\">Problemas articulares</span></li>\r\n",
       "\t<li style=\"list-style-type:disc\"><span style=\"color:#000000\">Problemas para dormir</span></li>\r\n",
       "</ul><br>\n"
      ],
      "text/plain": [
       "<IPython.core.display.HTML object>"
      ]
     },
     "metadata": {},
     "output_type": "display_data"
    },
    {
     "data": {
      "text/html": [
       "<h5>Evitar el Humo del Cigarrillo</h5>\n",
       "Evite  el humo del cigarrillo.<br>\n",
       "<table>\n",
       "<tr>\n",
       "<th>Type</th>\n",
       "<th>Effect</th>\n",
       "<th>Evidence</th>\n",
       "</tr>\n",
       "<tr>\n",
       "<td>lifestyle</td>\n",
       "<td>0.8</td>\n",
       "<td>1.0</td>\n",
       "</tr>\n",
       "</table>\n",
       "<p style=\"text-align:justify\"><span style=\"color:#000000\">Ya sabe que el tabaco no es bueno para su salud. </span><span style=\"color:#000000\"><strong>Fumar afecta a todo el cuerpo.</strong></span><span style=\"color:#000000\">&nbsp; Puede da&ntilde;ar el cerebro, el coraz&oacute;n, los pulmones y m&aacute;s [</span><a href=\"https://pubmed.ncbi.nlm.nih.gov/11980288/\" style=\"text-decoration:none\"><span style=\"color:#1155cc\"><u>R</u></span></a><span style=\"color:#000000\">].</span></p>\r\n",
       "\r\n",
       "<p>&nbsp;</p>\r\n",
       "\r\n",
       "<p style=\"text-align:justify\"><span style=\"color:#000000\">Aunque no sea fumador, </span><span style=\"color:#000000\"><strong>procure evitar el tabaquismo pasivo. Puede causar problemas de salud similares a fumar </strong></span><span style=\"color:#000000\">[</span><a href=\"https://www.ncbi.nlm.nih.gov/pmc/articles/PMC4595077/\" style=\"text-decoration:none\"><span style=\"color:#1155cc\"><u>R</u></span></a><span style=\"color:#000000\">, </span><a href=\"https://www.ncbi.nlm.nih.gov/pmc/articles/PMC2553398/\" style=\"text-decoration:none\"><span style=\"color:#1155cc\"><u>R</u></span></a><span style=\"color:#000000\">].</span></p>\r\n",
       "\r\n",
       "<p>&nbsp;</p>\r\n",
       "\r\n",
       "<p style=\"text-align:justify\"><span style=\"color:#000000\">Pero hay buenas noticias: </span><span style=\"color:#000000\"><strong>evitar el humo de cigarro puede revertir muchos de sus efectos negativos.</strong></span><span style=\"color:#000000\"> Es una excelente forma de mejorar dr&aacute;sticamente su salud [</span><a href=\"https://www.ncbi.nlm.nih.gov/books/NBK555590/\" style=\"text-decoration:none\"><span style=\"color:#1155cc\"><u>R</u></span></a><span style=\"color:#000000\">].</span></p>\r\n",
       "\r\n",
       "<p>&nbsp;</p><br>\n"
      ],
      "text/plain": [
       "<IPython.core.display.HTML object>"
      ]
     },
     "metadata": {},
     "output_type": "display_data"
    },
    {
     "data": {
      "text/html": [
       "<h5>Ejercicio</h5>\n",
       "Haga ejercicio regularmente.<br>\n",
       "<table>\n",
       "<tr>\n",
       "<th>Type</th>\n",
       "<th>Effect</th>\n",
       "<th>Evidence</th>\n",
       "</tr>\n",
       "<tr>\n",
       "<td>lifestyle</td>\n",
       "<td>0.8</td>\n",
       "<td>0.8</td>\n",
       "</tr>\n",
       "</table>\n",
       "<p style=\"text-align:justify\"><span style=\"color:#000000\">El </span><a href=\"https://selfhacked.com/blog/top-14-proven-health-benefits-exercise-references-mechanisms/\" style=\"text-decoration:none\"><span style=\"color:#1155cc\"><strong><u>ejercicio</u></strong></span></a><span style=\"color:#000000\"><strong> puede hacer maravillas por su salud.</strong></span><span style=\"color:#000000\">&nbsp; Puede ayudarlo a perder peso, a mejorar la salud de su coraz&oacute;n, a mejorar su estado de &aacute;nimo y mucho m&aacute;s [</span><a href=\"https://medlineplus.gov/benefitsofexercise.html\" style=\"text-decoration:none\"><span style=\"color:#1155cc\"><u>R</u></span></a><span style=\"color:#000000\">].</span></p>\r\n",
       "\r\n",
       "<p><br />\r\n",
       "<span style=\"color:#000000\">Hay muchas maneras de estar activo. Puede caminar, correr, nadar, bailar o practicar deportes de equipo. </span><span style=\"color:#000000\"><strong>Todo cuenta, &iexcl;y nunca es demasiado tarde para empezar!</strong></span></p><br>\n"
      ],
      "text/plain": [
       "<IPython.core.display.HTML object>"
      ]
     },
     "metadata": {},
     "output_type": "display_data"
    },
    {
     "data": {
      "text/html": [
       "<h5>Elegir Grasas Saludables</h5>\n",
       "Reemplace las grasas saturadas y trans por grasas poliinsaturadas.<br>\n",
       "<table>\n",
       "<tr>\n",
       "<th>Type</th>\n",
       "<th>Effect</th>\n",
       "<th>Evidence</th>\n",
       "</tr>\n",
       "<tr>\n",
       "<td>dietary</td>\n",
       "<td>0.8</td>\n",
       "<td>0.8</td>\n",
       "</tr>\n",
       "</table>\n",
       "<p><span style=\"color:#000000\">En base a su estructura, las grasas de nuestra dieta pueden dividirse a grandes rasgos en </span><span style=\"color:#000000\"><em>grasas saturadas </em></span><span style=\"color:#000000\">e </span><span style=\"color:#000000\"><em>insaturadas.</em></span><span style=\"color:#000000\"> Las grasas trans son un tipo de grasa no saturada [</span><a href=\"https://pubmed.ncbi.nlm.nih.gov/29174025/\" style=\"text-decoration:none\"><span style=\"color:#1155cc\"><u>R</u></span></a><span style=\"color:#000000\">, </span><a href=\"https://www.ncbi.nlm.nih.gov/pmc/articles/PMC5577766/\" style=\"text-decoration:none\"><span style=\"color:#1155cc\"><u>R</u></span></a><span style=\"color:#000000\">, </span><a href=\"https://www.mayoclinic.org/healthy-lifestyle/nutrition-and-healthy-eating/in-depth/fat/art-20045550\" style=\"text-decoration:none\"><span style=\"color:#1155cc\"><u>R</u></span></a><span style=\"color:#000000\">].</span></p>\r\n",
       "\r\n",
       "<p>&nbsp;</p>\r\n",
       "\r\n",
       "<p><span style=\"color:#000000\"><strong>En grandes cantidades, las grasas trans y las grasas saturadas pueden tener un impacto negativo en su coraz&oacute;n</strong></span><span style=\"color:#000000\">. Los alimentos procesados y los productos animales como la carne roja y los productos l&aacute;cteos son ricos en estas grasas [</span><a href=\"https://www.ncbi.nlm.nih.gov/pmc/articles/PMC3966685/\" style=\"text-decoration:none\"><span style=\"color:#1155cc\"><u>R</u></span></a><span style=\"color:#000000\">, </span><a href=\"https://www.mayoclinic.org/healthy-lifestyle/nutrition-and-healthy-eating/in-depth/fat/art-20045550\" style=\"text-decoration:none\"><span style=\"color:#1155cc\"><u>R</u></span></a><span style=\"color:#000000\">, </span><a href=\"https://www.ncbi.nlm.nih.gov/pmc/articles/PMC2921725/\" style=\"text-decoration:none\"><span style=\"color:#1155cc\"><u>R</u></span></a><span style=\"color:#000000\">].</span></p>\r\n",
       "\r\n",
       "<p>&nbsp;</p>\r\n",
       "\r\n",
       "<p><span style=\"color:#000000\">Algunos tipos de grasas insaturadas pueden proteger su coraz&oacute;n. </span><span style=\"color:#000000\"><strong>Los expertos dicen que debe agregar m&aacute;s grasas insaturadas a su dieta</strong></span><span style=\"color:#000000\">. Algunas buenas fuentes incluyen [</span><a href=\"https://www.ncbi.nlm.nih.gov/pmc/articles/PMC5577766/\" style=\"text-decoration:none\"><span style=\"color:#1155cc\"><u>R</u></span></a><span style=\"color:#000000\">]:</span></p>\r\n",
       "\r\n",
       "<ul>\r\n",
       "\t<li style=\"list-style-type:disc\"><span style=\"color:#000000\">Nueces</span></li>\r\n",
       "\t<li style=\"list-style-type:disc\"><span style=\"color:#000000\">Semillas</span></li>\r\n",
       "\t<li style=\"list-style-type:disc\"><span style=\"color:#000000\">Pescado</span></li>\r\n",
       "</ul>\r\n",
       "\r\n",
       "<p><span style=\"color:#000000\">Las grasas insaturadas incluyen grasas poliinsaturadas o PUFA, por sus siglas en ingl&eacute;s (omega-3 y omega-6) y grasas monoinsaturadas o MUFA, por sus siglas en ingl&eacute;s [</span><a href=\"https://www.mayoclinic.org/healthy-lifestyle/nutrition-and-healthy-eating/expert-answers/mufas/faq-20057775\" style=\"text-decoration:none\"><span style=\"color:#1155cc\"><u>R</u></span></a><span style=\"color:#000000\">, </span><a href=\"https://www.ncbi.nlm.nih.gov/labs/pmc/articles/PMC5577766/\" style=\"text-decoration:none\"><span style=\"color:#1155cc\"><u>R</u></span></a><span style=\"color:#000000\">].</span></p>\r\n",
       "\r\n",
       "<p>&nbsp;</p><br>\n"
      ],
      "text/plain": [
       "<IPython.core.display.HTML object>"
      ]
     },
     "metadata": {},
     "output_type": "display_data"
    },
    {
     "data": {
      "text/html": [
       "<h5>Dieta Mediterránea</h5>\n",
       "Considere seguir la Dieta Mediterránea.<br>\n",
       "<table>\n",
       "<tr>\n",
       "<th>Type</th>\n",
       "<th>Effect</th>\n",
       "<th>Evidence</th>\n",
       "</tr>\n",
       "<tr>\n",
       "<td>dietary</td>\n",
       "<td>0.8</td>\n",
       "<td>0.8</td>\n",
       "</tr>\n",
       "</table>\n",
       "<p style=\"text-align:justify\"><span style=\"color:#000000\">La </span><a href=\"https://selfhacked.com/blog/14-mediterranean-diet-health-benefits-food-list/\" style=\"text-decoration:none\"><span style=\"color:#1155cc\"><u>dieta Mediterr&aacute;nea</u></span></a><span style=\"color:#000000\"> se basa en la cocina tradicional de la regi&oacute;n Mediterr&aacute;nea. Es rica en alimentos como [</span><a href=\"https://www.ncbi.nlm.nih.gov/pmc/articles/PMC6466433/\" style=\"text-decoration:none\"><span style=\"color:#1155cc\"><u>R</u></span></a><span style=\"color:#000000\">]:</span></p>\r\n",
       "\r\n",
       "<ul>\r\n",
       "\t<li style=\"list-style-type:disc\"><span style=\"color:#000000\">Frutas y verduras</span></li>\r\n",
       "\t<li style=\"list-style-type:disc\"><span style=\"color:#000000\">Granos enteros</span></li>\r\n",
       "\t<li style=\"list-style-type:disc\"><span style=\"color:#000000\">Grasas saludables (pescado y </span><a href=\"https://selfhacked.com/blog/olive-oil/\" style=\"text-decoration:none\"><span style=\"color:#1155cc\"><u>aceite de oliva</u></span></a><span style=\"color:#000000\">)</span></li>\r\n",
       "</ul>\r\n",
       "\r\n",
       "<p style=\"text-align:justify\"><span style=\"color:#000000\">El consumo de carne roja es limitado y los l&aacute;cteos se comen con moderaci&oacute;n.</span></p>\r\n",
       "\r\n",
       "<p>&nbsp;</p><br>\n"
      ],
      "text/plain": [
       "<IPython.core.display.HTML object>"
      ]
     },
     "metadata": {},
     "output_type": "display_data"
    },
    {
     "data": {
      "text/html": [
       "<h5>Fibra</h5>\n",
       "Obtenga más fibra de alimentos o suplementos.<br>\n",
       "<table>\n",
       "<tr>\n",
       "<th>Type</th>\n",
       "<th>Effect</th>\n",
       "<th>Evidence</th>\n",
       "</tr>\n",
       "<tr>\n",
       "<td>dietary</td>\n",
       "<td>0.6</td>\n",
       "<td>0.6</td>\n",
       "</tr>\n",
       "</table>\n",
       "<p><span style=\"color:#000000\"><strong>La fibra es un tipo de carbohidrato que su cuerpo no puede digerir. Ayuda a la digesti&oacute;n, la salud del coraz&oacute;n, el control del az&uacute;car en la sangre y mucho m&aacute;s </strong></span><span style=\"color:#000000\">[</span><a href=\"https://pubmed.ncbi.nlm.nih.gov/19335713/\" style=\"text-decoration:none\"><span style=\"color:#1155cc\"><u>R</u></span></a><span style=\"color:#000000\">, </span><a href=\"https://www.ncbi.nlm.nih.gov/books/NBK559033/\" style=\"text-decoration:none\"><span style=\"color:#1155cc\"><u>R</u></span></a><span style=\"color:#000000\">].</span></p>\r\n",
       "\r\n",
       "<p>&nbsp;</p>\r\n",
       "\r\n",
       "<p><span style=\"color:#000000\"><strong>Los adultos deben consumir 28 g de fibra todos los d&iacute;as. </strong></span><span style=\"color:#000000\">La mayor&iacute;a de las personas en los Estados Unidos no obtienen suficiente fibra [</span><a href=\"https://www.ecfr.gov/cgi-bin/text-idx?SID=f3c74208363332a6e69e8a276171ce47&amp;mc=true&amp;node=se21.2.101_19&amp;rgn=div8\" style=\"text-decoration:none\"><span style=\"color:#1155cc\"><u>R</u></span></a><span style=\"color:#000000\">, </span><a href=\"https://pubmed.ncbi.nlm.nih.gov/19335713/\" style=\"text-decoration:none\"><span style=\"color:#1155cc\"><u>R</u></span></a><span style=\"color:#000000\">].</span></p>\r\n",
       "\r\n",
       "<p>&nbsp;</p>\r\n",
       "\r\n",
       "<p><span style=\"color:#000000\"><strong>Puede obtener m&aacute;s fibra comiendo </strong></span><span style=\"color:#000000\">[</span><a href=\"https://www.ncbi.nlm.nih.gov/books/NBK559033/\" style=\"text-decoration:none\"><span style=\"color:#1155cc\"><u>R</u></span></a><span style=\"color:#000000\">, </span><a href=\"https://www.mayoclinic.org/healthy-lifestyle/nutrition-and-healthy-eating/in-depth/high-fiber-foods/art-20050948\" style=\"text-decoration:none\"><span style=\"color:#1155cc\"><u>R</u></span></a><span style=\"color:#000000\">]:</span></p>\r\n",
       "\r\n",
       "<ul>\r\n",
       "\t<li style=\"list-style-type:disc\"><span style=\"color:#000000\">Cereales integrales</span></li>\r\n",
       "\t<li style=\"list-style-type:disc\"><span style=\"color:#000000\">Frutas</span></li>\r\n",
       "\t<li style=\"list-style-type:disc\"><span style=\"color:#000000\">Verduras de hoja verde</span></li>\r\n",
       "\t<li style=\"list-style-type:disc\"><span style=\"color:#000000\">Frutos secos y semillas&nbsp;</span></li>\r\n",
       "\t<li style=\"list-style-type:disc\"><span style=\"color:#000000\">Frijoles</span></li>\r\n",
       "\t<li style=\"list-style-type:disc\"><span style=\"color:#000000\">Br&oacute;coli</span></li>\r\n",
       "</ul>\r\n",
       "\r\n",
       "<p><span style=\"color:#000000\">Los suplementos de fibra, como la </span><span style=\"color:#1155cc\"><u>c&aacute;scara de psyllium</u></span><span style=\"color:#000000\">, est&aacute;n disponibles para las personas que no obtienen suficiente fibra de sus dietas [</span><a href=\"https://www.ncbi.nlm.nih.gov/pmc/articles/PMC5413815/\" style=\"text-decoration:none\"><span style=\"color:#1155cc\"><u>R</u></span></a><span style=\"color:#000000\">, </span><a href=\"https://www.mayoclinic.org/healthy-lifestyle/nutrition-and-healthy-eating/in-depth/fiber/art-20043983\" style=\"text-decoration:none\"><span style=\"color:#1155cc\"><u>R</u></span></a><span style=\"color:#000000\">].</span></p>\r\n",
       "\r\n",
       "<p>&nbsp;</p><br>\n"
      ],
      "text/plain": [
       "<IPython.core.display.HTML object>"
      ]
     },
     "metadata": {},
     "output_type": "display_data"
    },
    {
     "data": {
      "text/html": [
       "<h5>Evitar Alimentos Azucarados</h5>\n",
       "Evite los alimentos con alto contenido de azúcar y los carbohidratos refinados.<br>\n",
       "<table>\n",
       "<tr>\n",
       "<th>Type</th>\n",
       "<th>Effect</th>\n",
       "<th>Evidence</th>\n",
       "</tr>\n",
       "<tr>\n",
       "<td>dietary</td>\n",
       "<td>0.6</td>\n",
       "<td>0.6</td>\n",
       "</tr>\n",
       "</table>\n",
       "<p><span style=\"color:#000000\"><strong>Los alimentos con alto contenido de az&uacute;car y los carbohidratos refinados aumentan sus niveles de az&uacute;car en la sangre</strong></span><span style=\"color:#000000\">. Incluyen [</span><a href=\"https://pubmed.ncbi.nlm.nih.gov/2180214/\" style=\"text-decoration:none\"><span style=\"color:#1155cc\"><u>R</u></span></a><span style=\"color:#000000\">, </span><a href=\"https://www.nhs.uk/common-health-questions/food-and-diet/what-is-the-glycaemic-index-gi/\" style=\"text-decoration:none\"><span style=\"color:#1155cc\"><u>R</u></span></a><span style=\"color:#000000\">]:</span></p>\r\n",
       "\r\n",
       "<ul>\r\n",
       "\t<li style=\"list-style-type:disc\"><span style=\"color:#000000\">Bebidas azucaradas</span></li>\r\n",
       "\t<li style=\"list-style-type:disc\"><span style=\"color:#000000\">Productos horneados</span></li>\r\n",
       "\t<li style=\"list-style-type:disc\"><span style=\"color:#000000\">Dulces&nbsp;</span></li>\r\n",
       "\t<li style=\"list-style-type:disc\"><span style=\"color:#000000\">Pan blanco&nbsp;</span></li>\r\n",
       "\t<li style=\"list-style-type:disc\"><span style=\"color:#000000\">Arroz blanco&nbsp;</span></li>\r\n",
       "</ul>\r\n",
       "\r\n",
       "<p><span style=\"color:#000000\">Comer muchos alimentos azucarados puede contribuir a:</span></p>\r\n",
       "\r\n",
       "<ul>\r\n",
       "\t<li style=\"list-style-type:disc\"><span style=\"color:#000000\">Diabetes [</span><a href=\"https://www.ncbi.nlm.nih.gov/pmc/articles/PMC6627334/\" style=\"text-decoration:none\"><span style=\"color:#1155cc\"><u>R</u></span></a><span style=\"color:#000000\">, </span><a href=\"https://pubmed.ncbi.nlm.nih.gov/30321274/\" style=\"text-decoration:none\"><span style=\"color:#1155cc\"><u>R</u></span></a><span style=\"color:#000000\">, </span><a href=\"https://pubmed.ncbi.nlm.nih.gov/19079907/\" style=\"text-decoration:none\"><span style=\"color:#1155cc\"><u>R</u></span></a><span style=\"color:#000000\">]</span></li>\r\n",
       "\t<li style=\"list-style-type:disc\"><span style=\"color:#000000\">Aumento de peso y obesidad [</span><a href=\"https://pubmed.ncbi.nlm.nih.gov/12081852/\" style=\"text-decoration:none\"><span style=\"color:#1155cc\"><u>R</u></span></a><span style=\"color:#000000\">, </span><a href=\"https://pubmed.ncbi.nlm.nih.gov/10049982/\" style=\"text-decoration:none\"><span style=\"color:#1155cc\"><u>R</u></span></a><span style=\"color:#000000\">]</span></li>\r\n",
       "\t<li style=\"list-style-type:disc\"><span style=\"color:#000000\">Insomnio [</span><a href=\"https://www.ncbi.nlm.nih.gov/pmc/articles/PMC6997082/\" style=\"text-decoration:none\"><span style=\"color:#1155cc\"><u>R</u></span></a><span style=\"color:#000000\">]</span></li>\r\n",
       "\t<li style=\"list-style-type:disc\"><span style=\"color:#000000\">Enfermedades card&iacute;acas [</span><a href=\"https://pubmed.ncbi.nlm.nih.gov/12081853/\" style=\"text-decoration:none\"><span style=\"color:#1155cc\"><u>R</u></span></a><span style=\"color:#000000\">]</span></li>\r\n",
       "\t<li style=\"list-style-type:disc\"><span style=\"color:#000000\">Acn&eacute; [</span><a href=\"https://pubmed.ncbi.nlm.nih.gov/22327146/\" style=\"text-decoration:none\"><span style=\"color:#1155cc\"><u>R</u></span></a><span style=\"color:#000000\">]</span></li>\r\n",
       "</ul><br>\n"
      ],
      "text/plain": [
       "<IPython.core.display.HTML object>"
      ]
     },
     "metadata": {},
     "output_type": "display_data"
    },
    {
     "data": {
      "text/html": [
       "<h5>Ajo</h5>\n",
       "Considere tomar suplementos con ajo.<br>\n",
       "<table>\n",
       "<tr>\n",
       "<th>Type</th>\n",
       "<th>Effect</th>\n",
       "<th>Evidence</th>\n",
       "</tr>\n",
       "<tr>\n",
       "<td>supplement</td>\n",
       "<td>0.6</td>\n",
       "<td>0.6</td>\n",
       "</tr>\n",
       "</table>\n",
       "<p style=\"text-align:justify\"><span style=\"color:#000000\">El </span><a href=\"https://selfhacked.com/blog/garlic-health-benefits/\" style=\"text-decoration:none\"><span style=\"color:#1155cc\"><u>ajo</u></span></a><span style=\"color:#000000\"> es un vegetal que se usa a menudo para dar sabor a los alimentos. Ha sido parte de la medicina tradicional durante miles de a&ntilde;os [</span><a href=\"https://www.nccih.nih.gov/health/garlic\" style=\"text-decoration:none\"><span style=\"color:#1155cc\"><u>R</u></span></a><span style=\"color:#000000\">].</span></p>\r\n",
       "\r\n",
       "<p>&nbsp;</p>\r\n",
       "\r\n",
       "<p style=\"text-align:justify\"><span style=\"color:#000000\">Hoy en d&iacute;a, las personas toman ajo para ayudar a controlar su presi&oacute;n arterial y colesterol [</span><a href=\"https://www.nccih.nih.gov/health/garlic\" style=\"text-decoration:none\"><span style=\"color:#1155cc\"><u>R</u></span></a><span style=\"color:#000000\">].</span></p>\r\n",
       "\r\n",
       "<p>&nbsp;</p><br>\n"
      ],
      "text/plain": [
       "<IPython.core.display.HTML object>"
      ]
     },
     "metadata": {},
     "output_type": "display_data"
    },
    {
     "data": {
      "text/html": [
       "<h5>Antioxidantes Dietéticos</h5>\n",
       "Considere obtener más antioxidantes de los alimentos.<br>\n",
       "<table>\n",
       "<tr>\n",
       "<th>Type</th>\n",
       "<th>Effect</th>\n",
       "<th>Evidence</th>\n",
       "</tr>\n",
       "<tr>\n",
       "<td>dietary</td>\n",
       "<td>0.4</td>\n",
       "<td>0.6</td>\n",
       "</tr>\n",
       "</table>\n",
       "<p><span style=\"color:#000000\">Nuestras c&eacute;lulas a veces producen mol&eacute;culas llamadas </span><span style=\"color:#000000\"><strong>especies reactivas de ox&iacute;geno (ROS)</strong></span><span style=\"color:#000000\"> [</span><a href=\"https://www.ncbi.nlm.nih.gov/pmc/articles/PMC3454471/\" style=\"text-decoration:none\"><span style=\"color:#1155cc\"><u>R</u></span></a><span style=\"color:#000000\">].</span></p>\r\n",
       "\r\n",
       "<p>&nbsp;</p>\r\n",
       "\r\n",
       "<p><span style=\"color:#000000\">Los altos niveles de ROS pueden causar </span><a href=\"https://selfhacked.com/blog/oxidative-stress-101/\" style=\"text-decoration:none\"><span style=\"color:#1155cc\"><u>estr&eacute;s oxidativo</u></span></a><span style=\"color:#000000\"> y da&ntilde;ar nuestras c&eacute;lulas. El estr&eacute;s oxidativo juega un papel en muchas condiciones de salud, incluyendo [</span><a href=\"https://www.ncbi.nlm.nih.gov/pmc/articles/PMC3424049/\" style=\"text-decoration:none\"><span style=\"color:#1155cc\"><u>R</u></span></a><span style=\"color:#000000\">]:</span></p>\r\n",
       "\r\n",
       "<ul>\r\n",
       "\t<li style=\"list-style-type:disc\"><span style=\"color:#000000\">Niveles altos de az&uacute;car en la sangre</span></li>\r\n",
       "\t<li style=\"list-style-type:disc\"><span style=\"color:#000000\">Diabetes tipo 2</span></li>\r\n",
       "\t<li style=\"list-style-type:disc\"><span style=\"color:#000000\">Enfermedades card&iacute;acas</span></li>\r\n",
       "</ul>\r\n",
       "\r\n",
       "<p><span style=\"color:#000000\"><strong>Los antioxidantes son sustancias que ayudan a combatir las ROS </strong></span><span style=\"color:#000000\">[</span><a href=\"https://www.ncbi.nlm.nih.gov/pmc/articles/PMC5921829/\" style=\"text-decoration:none\"><span style=\"color:#1155cc\"><u>R</u></span></a><span style=\"color:#000000\">].</span></p>\r\n",
       "\r\n",
       "<p>&nbsp;</p>\r\n",
       "\r\n",
       "<p><span style=\"color:#212121\"><span style=\"background-color:#ffffff\">Los antioxidantes se encuentran en muchas plantas. Las principales fuentes incluyen [</span></span><a href=\"https://www.ncbi.nlm.nih.gov/labs/pmc/articles/PMC2835915/\" style=\"text-decoration:none\"><span style=\"color:#1155cc\"><span style=\"background-color:#ffffff\"><u>R</u></span></span></a><span style=\"color:#000000\"><span style=\"background-color:#ffffff\">, </span></span><a href=\"https://www.ncbi.nlm.nih.gov/labs/pmc/articles/PMC3871896/\" style=\"text-decoration:none\"><span style=\"color:#1155cc\"><u>R</u></span><span style=\"color:#212121\"><span style=\"background-color:#ffffff\">, </span></span></a><a href=\"https://www.ncbi.nlm.nih.gov/labs/pmc/articles/PMC6390265/\" style=\"text-decoration:none\"><span style=\"color:#1155cc\"><u>R</u></span></a><span style=\"color:#000000\">]:</span></p>\r\n",
       "\r\n",
       "<ul>\r\n",
       "\t<li style=\"list-style-type:disc\"><span style=\"color:#212121\"><span style=\"background-color:#ffffff\">Frutas como tomates, bayas y granadas</span></span></li>\r\n",
       "\t<li style=\"list-style-type:disc\"><span style=\"color:#212121\"><span style=\"background-color:#ffffff\">Verduras como cebollas, espinacas y apio</span></span></li>\r\n",
       "\t<li style=\"list-style-type:disc\"><span style=\"color:#212121\"><span style=\"background-color:#ffffff\">Chocolate</span></span></li>\r\n",
       "\t<li style=\"list-style-type:disc\"><span style=\"color:#212121\"><span style=\"background-color:#ffffff\">Aceite de oliva</span></span></li>\r\n",
       "\t<li style=\"list-style-type:disc\"><span style=\"color:#212121\"><span style=\"background-color:#ffffff\">Vino</span></span></li>\r\n",
       "</ul><br>\n"
      ],
      "text/plain": [
       "<IPython.core.display.HTML object>"
      ]
     },
     "metadata": {},
     "output_type": "display_data"
    },
    {
     "data": {
      "text/html": [
       "<h5>Ácidos Grasos Omega-3</h5>\n",
       "Considere tomar suplementos con ácidos grasos omega-3.<br>\n",
       "<table>\n",
       "<tr>\n",
       "<th>Type</th>\n",
       "<th>Effect</th>\n",
       "<th>Evidence</th>\n",
       "</tr>\n",
       "<tr>\n",
       "<td>supplement</td>\n",
       "<td>0.6</td>\n",
       "<td>0.6</td>\n",
       "</tr>\n",
       "</table>\n",
       "<p style=\"text-align:justify\"><span style=\"color:#000000\">Los </span><a href=\"https://selfhacked.com/blog/fish-oil-top-22-science-based-health-benefits-of-fish-oil/\" style=\"text-decoration:none\"><span style=\"color:#1155cc\"><strong><u>&aacute;cidos grasos omega-3</u></strong></span></a><span style=\"color:#000000\"><strong> son algunas de las grasas m&aacute;s saludables que podemos comer. Ayudan a reducir la inflamaci&oacute;n y protegen el coraz&oacute;n, el cerebro y los ojos. </strong></span><span style=\"color:#000000\">Nuestro cuerpo produce menos omega-3 de los que necesitamos para una salud &oacute;ptima, por lo que es importante obtener suficientes a trav&eacute;s de alimentos o suplementos [</span><a href=\"https://ods.od.nih.gov/factsheets/Omega3Fatty%20AcidsandHealth-HealthProfessional/\" style=\"text-decoration:none\"><span style=\"color:#1155cc\"><u>R</u></span></a><span style=\"color:#000000\">, </span><a href=\"https://ods.od.nih.gov/factsheets/Omega3FattyAcids-HealthProfessional/\" style=\"text-decoration:none\"><span style=\"color:#1155cc\"><u>R</u></span></a><span style=\"color:#000000\">, </span><a href=\"https://www.ncbi.nlm.nih.gov/pmc/articles/PMC4404917/\" style=\"text-decoration:none\"><span style=\"color:#1155cc\"><u>R</u></span></a><span style=\"color:#000000\">].</span></p>\r\n",
       "\r\n",
       "<p>&nbsp;</p>\r\n",
       "\r\n",
       "<p style=\"text-align:justify\"><span style=\"color:#000000\">Hay tres tipos principales de omega-3:&nbsp; ALA, EPA y DHA. </span><span style=\"color:#000000\"><strong>El EPA y DHA son vitales para la salud mental y card&iacute;aca </strong></span><span style=\"color:#000000\">[</span><a href=\"https://ods.od.nih.gov/factsheets/Omega3FattyAcids-HealthProfessional/\" style=\"text-decoration:none\"><span style=\"color:#1155cc\"><u>R</u></span></a><span style=\"color:#000000\">, </span><a href=\"https://pubmed.ncbi.nlm.nih.gov/18072818/\" style=\"text-decoration:none\"><span style=\"color:#1155cc\"><u>R</u></span></a><span style=\"color:#000000\">, </span><a href=\"https://pubmed.ncbi.nlm.nih.gov/34505026/\" style=\"text-decoration:none\"><span style=\"color:#1155cc\"><u>R</u></span></a><span style=\"color:#000000\">].</span></p>\r\n",
       "\r\n",
       "<p>&nbsp;</p>\r\n",
       "\r\n",
       "<p style=\"text-align:justify\"><span style=\"color:#000000\"><strong>Los pescados azules son ricos en EPA y DHA. </strong></span><span style=\"color:#000000\">Incluyen [</span><a href=\"https://ods.od.nih.gov/factsheets/Omega3FattyAcids-HealthProfessional/\" style=\"text-decoration:none\"><span style=\"color:#1155cc\"><u>R</u></span></a><span style=\"color:#000000\">]:</span></p>\r\n",
       "\r\n",
       "<ul>\r\n",
       "\t<li style=\"list-style-type:disc\"><span style=\"color:#000000\">Salm&oacute;n</span></li>\r\n",
       "\t<li style=\"list-style-type:disc\"><span style=\"color:#000000\">At&uacute;n</span></li>\r\n",
       "\t<li style=\"list-style-type:disc\"><span style=\"color:#000000\">Arenque</span></li>\r\n",
       "\t<li style=\"list-style-type:disc\"><span style=\"color:#000000\">Sardinas</span></li>\r\n",
       "</ul>\r\n",
       "\r\n",
       "<p style=\"text-align:justify\"><span style=\"color:#000000\">Para una protecci&oacute;n &oacute;ptima, trate de consumir al menos </span><span style=\"color:#000000\"><strong>dos porciones de pescado azul por semana. </strong></span><span style=\"color:#000000\">Los suplementos de aceite de pescado est&aacute;n disponibles para aquellos que no comen pescado regularmente [</span><a href=\"https://ods.od.nih.gov/factsheets/Omega3FattyAcids-HealthProfessional/\" style=\"text-decoration:none\"><span style=\"color:#1155cc\"><u>R</u></span></a><span style=\"color:#000000\">].</span></p>\r\n",
       "\r\n",
       "<p>&nbsp;</p>\r\n",
       "\r\n",
       "<p><span style=\"color:#000000\"><strong>El ALA se encuentra en</strong></span><span style=\"color:#000000\"> [</span><a href=\"https://ods.od.nih.gov/factsheets/Omega3FattyAcids-HealthProfessional/\" style=\"text-decoration:none\"><span style=\"color:#1155cc\"><u>R</u></span></a><span style=\"color:#000000\">]:</span></p>\r\n",
       "\r\n",
       "<ul>\r\n",
       "\t<li style=\"list-style-type:disc\"><span style=\"color:#000000\">Aceites vegetales (por ejemplo, de linaza, soya y canola)</span></li>\r\n",
       "\t<li style=\"list-style-type:disc\"><span style=\"color:#000000\">Semillas de ch&iacute;a&nbsp;</span></li>\r\n",
       "\t<li style=\"list-style-type:disc\"><span style=\"color:#000000\">Nueces&nbsp;</span></li>\r\n",
       "</ul>\r\n",
       "\r\n",
       "<p><span style=\"color:#000000\"><strong>Media cucharada de linaza</strong></span><span style=\"color:#000000\"> o </span><span style=\"color:#000000\"><strong>14 g de nueces</strong></span><span style=\"color:#000000\"> puede proporcionar la ingesta diaria adecuada de ALA [</span><a href=\"https://ods.od.nih.gov/factsheets/Omega3FattyAcids-HealthProfessional/\" style=\"text-decoration:none\"><span style=\"color:#1155cc\"><u>R</u></span></a><span style=\"color:#000000\">].</span></p>\r\n",
       "\r\n",
       "<p>&nbsp;</p><br>\n"
      ],
      "text/plain": [
       "<IPython.core.display.HTML object>"
      ]
     },
     "metadata": {},
     "output_type": "display_data"
    },
    {
     "data": {
      "text/html": [
       "<h5>Té</h5>\n",
       "Beba más té.<br>\n",
       "<table>\n",
       "<tr>\n",
       "<th>Type</th>\n",
       "<th>Effect</th>\n",
       "<th>Evidence</th>\n",
       "</tr>\n",
       "<tr>\n",
       "<td>dietary</td>\n",
       "<td>0.6</td>\n",
       "<td>0.6</td>\n",
       "</tr>\n",
       "</table>\n",
       "<p><span style=\"color:#000000\">El </span><a href=\"http://selfhacked.com/blog/green-tea/\" style=\"text-decoration:none\"><span style=\"color:#1155cc\"><u>t&eacute; verde</u></span></a><span style=\"color:#000000\">, negro y oolong se obtienen de la misma planta (</span><span style=\"color:#000000\"><em>Camellia sinensis</em></span><span style=\"color:#000000\">). Esta planta se procesa de diferentes maneras para hacer cada tipo de t&eacute; [</span><a href=\"https://www.ncbi.nlm.nih.gov/pmc/articles/PMC4055352/\" style=\"text-decoration:none\"><span style=\"color:#1155cc\"><u>R</u></span></a><span style=\"color:#000000\">, </span><a href=\"https://www.nccih.nih.gov/health/green-tea\" style=\"text-decoration:none\"><span style=\"color:#1155cc\"><u>R</u></span></a><span style=\"color:#000000\">].</span></p>\r\n",
       "\r\n",
       "<p>&nbsp;</p>\r\n",
       "\r\n",
       "<p><span style=\"color:#000000\">El t&eacute; contiene antioxidantes </span><span style=\"color:#000000\"><strong>llamados polifenoles</strong></span><span style=\"color:#000000\">, que pueden ayudar a promover [</span><a href=\"https://www.ncbi.nlm.nih.gov/pmc/articles/PMC4055352/\" style=\"text-decoration:none\"><span style=\"color:#1155cc\"><u>R</u></span></a><span style=\"color:#000000\">, </span><a href=\"https://pubmed.ncbi.nlm.nih.gov/16855537/\" style=\"text-decoration:none\"><span style=\"color:#1155cc\"><u>R</u></span></a><span style=\"color:#000000\">, </span><a href=\"https://pubmed.ncbi.nlm.nih.gov/19668087/\" style=\"text-decoration:none\"><span style=\"color:#1155cc\"><u>R</u></span></a><span style=\"color:#000000\">, </span><a href=\"https://www.ncbi.nlm.nih.gov/pmc/articles/PMC5728912/\" style=\"text-decoration:none\"><span style=\"color:#1155cc\"><u>R</u></span></a><span style=\"color:#000000\">, </span><a href=\"https://www.ncbi.nlm.nih.gov/pmc/articles/PMC5371490/\" style=\"text-decoration:none\"><span style=\"color:#1155cc\"><u>R</u></span></a><span style=\"color:#000000\">]:</span></p>\r\n",
       "\r\n",
       "<ul>\r\n",
       "\t<li style=\"list-style-type:disc\"><span style=\"color:#000000\">Salud del coraz&oacute;n</span></li>\r\n",
       "\t<li style=\"list-style-type:disc\"><span style=\"color:#000000\">Niveles saludables de az&uacute;car en la sangre</span></li>\r\n",
       "\t<li style=\"list-style-type:disc\"><span style=\"color:#000000\">Salud &oacute;sea</span></li>\r\n",
       "</ul><br>\n"
      ],
      "text/plain": [
       "<IPython.core.display.HTML object>"
      ]
     },
     "metadata": {},
     "output_type": "display_data"
    },
    {
     "data": {
      "text/html": [
       "<h5>Ginseng</h5>\n",
       "Considere tomar suplementos con ginseng.<br>\n",
       "<table>\n",
       "<tr>\n",
       "<th>Type</th>\n",
       "<th>Effect</th>\n",
       "<th>Evidence</th>\n",
       "</tr>\n",
       "<tr>\n",
       "<td>supplement</td>\n",
       "<td>0.4</td>\n",
       "<td>0.6</td>\n",
       "</tr>\n",
       "</table>\n",
       "<p><span style=\"color:#000000\">El </span><a href=\"https://selfhacked.com/blog/ginseng/\" style=\"text-decoration:none\"><span style=\"color:#1155cc\"><u>ginseng</u></span></a><span style=\"color:#000000\"> es una planta que las personas usan para mejorar [</span><a href=\"https://www.ncbi.nlm.nih.gov/pmc/articles/PMC2561113/\" style=\"text-decoration:none\"><span style=\"color:#1155cc\"><u>R</u></span></a><span style=\"color:#000000\">, </span><a href=\"https://pubmed.ncbi.nlm.nih.gov/8879982/\" style=\"text-decoration:none\"><span style=\"color:#1155cc\"><u>R</u></span></a><span style=\"color:#000000\">, </span><a href=\"https://www.ncbi.nlm.nih.gov/pmc/articles/PMC5102849/\" style=\"text-decoration:none\"><span style=\"color:#1155cc\"><u>R</u></span></a><span style=\"color:#000000\">, </span><a href=\"https://pubmed.ncbi.nlm.nih.gov/25369174/\" style=\"text-decoration:none\"><span style=\"color:#1155cc\"><u>R</u></span></a><span style=\"color:#000000\">]:</span></p>\r\n",
       "\r\n",
       "<ul>\r\n",
       "\t<li style=\"list-style-type:disc\"><span style=\"color:#000000\">Funci&oacute;n sexual</span></li>\r\n",
       "\t<li style=\"list-style-type:disc\"><span style=\"color:#000000\">Inmunidad</span></li>\r\n",
       "\t<li style=\"list-style-type:disc\"><span style=\"color:#000000\">Fatiga</span></li>\r\n",
       "\t<li style=\"list-style-type:disc\"><span style=\"color:#000000\">Atenci&oacute;n</span></li>\r\n",
       "</ul>\r\n",
       "\r\n",
       "<p><span style=\"color:#000000\">Hay muchos tipos diferentes de ginseng. Los m&aacute;s comunes son [</span><a href=\"https://pubmed.ncbi.nlm.nih.gov/14596440/\" style=\"text-decoration:none\"><span style=\"color:#1155cc\"><u>R</u></span></a><span style=\"color:#000000\">, </span><a href=\"https://www.ncbi.nlm.nih.gov/pmc/articles/PMC6567205/\" style=\"text-decoration:none\"><span style=\"color:#1155cc\"><u>R</u></span></a><span style=\"color:#000000\">, </span><a href=\"https://www.ncbi.nlm.nih.gov/pmc/articles/PMC3659622/\" style=\"text-decoration:none\"><span style=\"color:#1155cc\"><u>R</u></span></a><span style=\"color:#000000\">]:</span></p>\r\n",
       "\r\n",
       "<ul>\r\n",
       "\t<li style=\"list-style-type:disc\"><span style=\"color:#000000\">Ginseng rojo coreano, tambi&eacute;n llamado ginseng asi&aacute;tico (</span><span style=\"color:#000000\"><em>Panax ginseng</em></span><span style=\"color:#000000\">)</span></li>\r\n",
       "\t<li style=\"list-style-type:disc\"><a href=\"https://selfhacked.com/blog/american-ginseng/\" style=\"text-decoration:none\"><span style=\"color:#1155cc\"><u>Ginseng americano</u></span></a><span style=\"color:#000000\"> (</span><span style=\"color:#000000\"><em>Panax quinquefolius</em></span><span style=\"color:#000000\">)</span></li>\r\n",
       "\t<li style=\"list-style-type:disc\"><span style=\"color:#000000\">Notoginseng chino, tambi&eacute;n llamado Sanchi (</span><span style=\"color:#000000\"><em>Panax notoginseng</em></span><span style=\"color:#000000\">)</span></li>\r\n",
       "</ul><br>\n"
      ],
      "text/plain": [
       "<IPython.core.display.HTML object>"
      ]
     },
     "metadata": {},
     "output_type": "display_data"
    },
    {
     "data": {
      "text/html": [
       "<h5>Nuts</h5>\n",
       "Consider adding more nuts to your diet.<br>\n",
       "<table>\n",
       "<tr>\n",
       "<th>Type</th>\n",
       "<th>Effect</th>\n",
       "<th>Evidence</th>\n",
       "</tr>\n",
       "<tr>\n",
       "<td>dietary</td>\n",
       "<td>0.4</td>\n",
       "<td>0.6</td>\n",
       "</tr>\n",
       "</table>\n",
       "<p><span style=\"color:#000000\">Nuts are a healthy source of energy and nutrients. They are rich in [</span><a href=\"https://www.ncbi.nlm.nih.gov/pmc/articles/PMC3257681/\" style=\"text-decoration:none\"><span style=\"color:#1155cc\"><u>R</u></span></a><span style=\"color:#000000\">, </span><a href=\"https://www.ncbi.nlm.nih.gov/pmc/articles/PMC5577766/\" style=\"text-decoration:none\"><span style=\"color:#1155cc\"><u>R</u></span></a><span style=\"color:#000000\">, </span><a href=\"https://www.ncbi.nlm.nih.gov/pmc/articles/PMC4658458/\" style=\"text-decoration:none\"><span style=\"color:#1155cc\"><u>R</u></span></a><span style=\"color:#000000\">]:</span></p>\r\n",
       "\r\n",
       "<ul>\r\n",
       "\t<li style=\"list-style-type:disc\"><span style=\"color:#000000\">Protein</span></li>\r\n",
       "\t<li style=\"list-style-type:disc\"><span style=\"color:#000000\">Dietary fiber</span></li>\r\n",
       "\t<li style=\"list-style-type:disc\"><span style=\"color:#000000\">Vitamins and minerals&nbsp;</span></li>\r\n",
       "\t<li style=\"list-style-type:disc\"><span style=\"color:#000000\">Healthy fats</span></li>\r\n",
       "\t<li style=\"list-style-type:disc\"><span style=\"color:#000000\">Plant sterols</span></li>\r\n",
       "</ul>\r\n",
       "\r\n",
       "<p><span style=\"color:#000000\">Most of the energy in nuts comes from healthy </span><span style=\"color:#000000\"><em>unsaturated fats</em></span><span style=\"color:#000000\">. Some nuts, like walnuts and pine nuts, are rich in </span><span style=\"color:#000000\"><em>polyunsaturated fats</em></span><span style=\"color:#000000\"> (PUFAs). These are considered to be the healthiest kind of fat [</span><a href=\"https://www.ncbi.nlm.nih.gov/pmc/articles/PMC3257681/\" style=\"text-decoration:none\"><span style=\"color:#1155cc\"><u>R</u></span></a><span style=\"color:#000000\">].</span></p><br>\n"
      ],
      "text/plain": [
       "<IPython.core.display.HTML object>"
      ]
     },
     "metadata": {},
     "output_type": "display_data"
    },
    {
     "data": {
      "text/html": [
       "<h5>Curcumina</h5>\n",
       "Considere tomar suplementos con curcumina.<br>\n",
       "<table>\n",
       "<tr>\n",
       "<th>Type</th>\n",
       "<th>Effect</th>\n",
       "<th>Evidence</th>\n",
       "</tr>\n",
       "<tr>\n",
       "<td>supplement</td>\n",
       "<td>0.4</td>\n",
       "<td>0.6</td>\n",
       "</tr>\n",
       "</table>\n",
       "<p><span style=\"color:#000000\">La </span><a href=\"https://selfhacked.com/blog/curcumin-cures-top-15-scientifically-proven-health-benefits-with-references/\" style=\"text-decoration:none\"><span style=\"color:#1155cc\"><strong><u>c&uacute;rcuma</u></strong></span></a><span style=\"color:#000000\"><strong> es una especia amarilla de la India. Puede reducir la inflamaci&oacute;n y el </strong></span><a href=\"https://selfhacked.com/blog/oxidative-stress-101/\" style=\"text-decoration:none\"><span style=\"color:#1155cc\"><strong><u>estr&eacute;s oxidativo</u></strong></span></a><span style=\"color:#000000\"> [</span><a href=\"https://www.nccih.nih.gov/health/turmeric\" style=\"text-decoration:none\"><span style=\"color:#1155cc\"><u>R</u></span></a><span style=\"color:#000000\">].</span></p>\r\n",
       "\r\n",
       "<p>&nbsp;</p>\r\n",
       "\r\n",
       "<p><span style=\"color:#000000\">El compuesto activo m&aacute;s importante en la c&uacute;rcuma es </span><span style=\"color:#000000\"><strong>la curcumina. </strong></span><span style=\"color:#000000\">&nbsp;La gente usa curcumina para [</span><a href=\"https://pubmed.ncbi.nlm.nih.gov/27789120/\" style=\"text-decoration:none\"><span style=\"color:#1155cc\"><u>R</u></span></a><span style=\"color:#000000\">, </span><a href=\"https://pubmed.ncbi.nlm.nih.gov/25046624/\" style=\"text-decoration:none\"><span style=\"color:#1155cc\"><u>R</u></span></a><span style=\"color:#000000\">, </span><a href=\"https://www.ncbi.nlm.nih.gov/pmc/articles/PMC5664031/\" style=\"text-decoration:none\"><span style=\"color:#1155cc\"><u>R</u></span></a><span style=\"color:#000000\">, </span><a href=\"https://pubmed.ncbi.nlm.nih.gov/28928074/\" style=\"text-decoration:none\"><span style=\"color:#1155cc\"><u>R</u></span></a><span style=\"color:#000000\">, </span><a href=\"https://pubmed.ncbi.nlm.nih.gov/29348389/\" style=\"text-decoration:none\"><span style=\"color:#1155cc\"><u>R</u></span></a><span style=\"color:#000000\">]:</span></p>\r\n",
       "\r\n",
       "<ul>\r\n",
       "\t<li style=\"list-style-type:disc\"><span style=\"color:#000000\">Dolores articulares</span></li>\r\n",
       "\t<li style=\"list-style-type:disc\"><span style=\"color:#000000\">Fiebre del heno</span></li>\r\n",
       "\t<li style=\"list-style-type:disc\"><span style=\"color:#000000\">Estado de &aacute;nimo</span></li>\r\n",
       "\t<li style=\"list-style-type:disc\"><span style=\"color:#000000\">Niveles altos de az&uacute;car en la sangre</span></li>\r\n",
       "\t<li style=\"list-style-type:disc\"><span style=\"color:#000000\">Salud intestinal</span></li>\r\n",
       "</ul><br>\n"
      ],
      "text/plain": [
       "<IPython.core.display.HTML object>"
      ]
     },
     "metadata": {},
     "output_type": "display_data"
    },
    {
     "data": {
      "text/html": [
       "<h5>Técnicas de Relajación</h5>\n",
       "Practique técnicas de relajación<br>\n",
       "<table>\n",
       "<tr>\n",
       "<th>Type</th>\n",
       "<th>Effect</th>\n",
       "<th>Evidence</th>\n",
       "</tr>\n",
       "<tr>\n",
       "<td>lifestyle</td>\n",
       "<td>0.4</td>\n",
       "<td>0.6</td>\n",
       "</tr>\n",
       "</table>\n",
       "<p style=\"text-align:justify\"><span style=\"color:#000000\">El </span><a href=\"https://selfhacked.com/blog/63-factors-raising-stress-cortisol-level-backed-science/\" style=\"text-decoration:none\"><span style=\"color:#1155cc\"><u>estr&eacute;s</u></span></a><span style=\"color:#000000\"> puede ayudarlo a enfrentar un desaf&iacute;o o evitar el peligro. Sin embargo,</span><span style=\"color:#000000\"><strong> no es saludable estar estresado durante mucho tiempo</strong></span><span style=\"color:#000000\"> [</span><a href=\"https://www.ncbi.nlm.nih.gov/books/NBK541120/\" style=\"text-decoration:none\"><span style=\"color:#1155cc\"><u>R</u></span></a><span style=\"color:#000000\">, </span><a href=\"https://www.ncbi.nlm.nih.gov/pmc/articles/PMC2568977/\" style=\"text-decoration:none\"><span style=\"color:#1155cc\"><u>R</u></span></a><span style=\"color:#000000\">].</span></p>\r\n",
       "\r\n",
       "<p>&nbsp;</p>\r\n",
       "\r\n",
       "<p style=\"text-align:justify\"><span style=\"color:#000000\"><strong>Las t&eacute;cnicas de relajaci&oacute;n como el </strong></span><a href=\"https://selfhacked.com/blog/health-benefits-yoga/\" style=\"text-decoration:none\"><span style=\"color:#1155cc\"><strong><u>yoga</u></strong></span></a><span style=\"color:#000000\"><strong> y la </strong></span><a href=\"https://selfhacked.com/blog/meditation/\" style=\"text-decoration:none\"><span style=\"color:#1155cc\"><strong><u>meditaci&oacute;n</u></strong></span></a><span style=\"color:#000000\"><strong> pueden aliviar el estr&eacute;s de diferentes maneras</strong></span><span style=\"color:#000000\">. La mayor&iacute;a de ellas se centran en la respiraci&oacute;n y le ayudan a deshacerse de los pensamientos y emociones negativas [</span><a href=\"https://www.mayoclinic.org/healthy-lifestyle/stress-management/in-depth/relaxation-technique/art-20045368\" style=\"text-decoration:none\"><span style=\"color:#1155cc\"><u>R</u></span></a><span style=\"color:#000000\">].</span></p>\r\n",
       "\r\n",
       "<p>&nbsp;</p>\r\n",
       "\r\n",
       "<p style=\"text-align:justify\"><span style=\"color:#000000\">Las personas usan t&eacute;cnicas de relajaci&oacute;n para mejorar condiciones como [</span><a href=\"https://www.ncbi.nlm.nih.gov/books/NBK513238/\" style=\"text-decoration:none\"><span style=\"color:#1155cc\"><u>R</u></span></a><span style=\"color:#000000\">, </span><a href=\"https://www.mayoclinic.org/healthy-lifestyle/consumer-health/in-depth/mindfulness-exercises/art-20046356\" style=\"text-decoration:none\"><span style=\"color:#1155cc\"><u>R</u></span></a><span style=\"color:#000000\">, </span><a href=\"https://pubmed.ncbi.nlm.nih.gov/32406186/\" style=\"text-decoration:none\"><span style=\"color:#1155cc\"><u>R</u></span></a><span style=\"color:#000000\">]:</span></p>\r\n",
       "\r\n",
       "<ul>\r\n",
       "\t<li style=\"list-style-type:disc\"><span style=\"color:#000000\">Ansiedad&nbsp;</span></li>\r\n",
       "\t<li style=\"list-style-type:disc\"><span style=\"color:#000000\">Depresi&oacute;n</span></li>\r\n",
       "\t<li style=\"list-style-type:disc\"><span style=\"color:#000000\">Dolor cr&oacute;nico</span></li>\r\n",
       "</ul><br>\n"
      ],
      "text/plain": [
       "<IPython.core.display.HTML object>"
      ]
     },
     "metadata": {},
     "output_type": "display_data"
    },
    {
     "data": {
      "text/html": [
       "<h5>Soya</h5>\n",
       "Considere consumir más soya de alimentos o suplementos.<br>\n",
       "<table>\n",
       "<tr>\n",
       "<th>Type</th>\n",
       "<th>Effect</th>\n",
       "<th>Evidence</th>\n",
       "</tr>\n",
       "<tr>\n",
       "<td>supplement</td>\n",
       "<td>0.4</td>\n",
       "<td>0.6</td>\n",
       "</tr>\n",
       "</table>\n",
       "<p><span style=\"color:#000000\"><strong>La soya es un alimento com&uacute;n en muchas cocinas de todo el mundo</strong></span><span style=\"color:#000000\">, especialmente en la cocina asi&aacute;tica [</span><a href=\"https://www.nccih.nih.gov/health/soy\" style=\"text-decoration:none\"><span style=\"color:#1155cc\"><u>R</u></span></a><span style=\"color:#000000\">].</span></p>\r\n",
       "\r\n",
       "<p>&nbsp;</p>\r\n",
       "\r\n",
       "<p><span style=\"color:#000000\">Es una gran fuente de [</span><a href=\"https://pubmed.ncbi.nlm.nih.gov/1649210/\" style=\"text-decoration:none\"><span style=\"color:#1155cc\"><u>R</u></span></a><span style=\"color:#000000\">, </span><a href=\"https://www.ncbi.nlm.nih.gov/pmc/articles/PMC3916987/\" style=\"text-decoration:none\"><span style=\"color:#1155cc\"><u>R</u></span></a><span style=\"color:#000000\">]:</span></p>\r\n",
       "\r\n",
       "<ul>\r\n",
       "\t<li style=\"list-style-type:disc\"><span style=\"color:#000000\">Prote&iacute;na de origen vegetal</span></li>\r\n",
       "\t<li style=\"list-style-type:disc\"><span style=\"color:#000000\">Fibra</span></li>\r\n",
       "\t<li style=\"list-style-type:disc\"><span style=\"color:#000000\">Grasas omega-3</span></li>\r\n",
       "\t<li style=\"list-style-type:disc\"><span style=\"color:#000000\">Antioxidantes (isoflavonas)</span></li>\r\n",
       "</ul>\r\n",
       "\r\n",
       "<p><span style=\"color:#000000\">Los alimentos a base de soya incluyen [</span><a href=\"https://www.ncbi.nlm.nih.gov/pmc/articles/PMC5793271/\" style=\"text-decoration:none\"><span style=\"color:#1155cc\"><u>R</u></span></a><span style=\"color:#000000\">]:</span></p>\r\n",
       "\r\n",
       "<ul>\r\n",
       "\t<li style=\"list-style-type:disc\"><span style=\"color:#000000\">Tofu</span></li>\r\n",
       "\t<li style=\"list-style-type:disc\"><span style=\"color:#000000\">Tempeh</span></li>\r\n",
       "\t<li style=\"list-style-type:disc\"><span style=\"color:#000000\">Edamame</span></li>\r\n",
       "\t<li style=\"list-style-type:disc\"><span style=\"color:#000000\">Miso</span></li>\r\n",
       "\t<li style=\"list-style-type:disc\"><span style=\"color:#000000\">Natto</span></li>\r\n",
       "</ul>\r\n",
       "\r\n",
       "<p><span style=\"color:#000000\">La prote&iacute;na de soya y las isoflavonas de soya tambi&eacute;n est&aacute;n disponibles como suplementos.</span></p>\r\n",
       "\r\n",
       "<p>&nbsp;</p><br>\n"
      ],
      "text/plain": [
       "<IPython.core.display.HTML object>"
      ]
     },
     "metadata": {},
     "output_type": "display_data"
    },
    {
     "data": {
      "text/html": [
       "<h5>Dieta DASH</h5>\n",
       "Pruebe la dieta DASH<br>\n",
       "<table>\n",
       "<tr>\n",
       "<th>Type</th>\n",
       "<th>Effect</th>\n",
       "<th>Evidence</th>\n",
       "</tr>\n",
       "<tr>\n",
       "<td>dietary</td>\n",
       "<td>0.4</td>\n",
       "<td>0.4</td>\n",
       "</tr>\n",
       "</table>\n",
       "<p style=\"text-align:justify\"><span style=\"color:#000000\"><strong>Los expertos en salud desarrollaron la dieta DASH para reducir la presi&oacute;n arterial. </strong></span><span style=\"color:#000000\">&nbsp;Esta dieta limita la sal, los dulces y las grasas saturadas. Tambi&eacute;n promueve la ingesta de [</span><a href=\"https://www.ncbi.nlm.nih.gov/books/NBK482514/\" style=\"text-decoration:none\"><span style=\"color:#1155cc\"><u>R</u></span></a><span style=\"color:#000000\">]:</span></p>\r\n",
       "\r\n",
       "<ul>\r\n",
       "\t<li style=\"list-style-type:disc\"><span style=\"color:#000000\">Frutas (4-5 porciones/d&iacute;a)</span></li>\r\n",
       "\t<li style=\"list-style-type:disc\"><span style=\"color:#000000\">Verduras (4-5 porciones/d&iacute;a)</span></li>\r\n",
       "\t<li style=\"list-style-type:disc\"><span style=\"color:#000000\">Cereales integrales (6-8 porciones/d&iacute;a)</span></li>\r\n",
       "\t<li style=\"list-style-type:disc\"><span style=\"color:#000000\">L&aacute;cteos bajos en grasa (2-3 porciones/d&iacute;a)</span></li>\r\n",
       "\t<li style=\"list-style-type:disc\"><span style=\"color:#000000\">Nueces, semillas y legumbres (4-5 porciones/semana)</span></li>\r\n",
       "</ul>\r\n",
       "\r\n",
       "<ul>\r\n",
       "\t<li style=\"list-style-type:disc\"><span style=\"color:#000000\">Pescado y aves de corral (hasta 170 g/d&iacute;a)</span></li>\r\n",
       "</ul>\r\n",
       "\r\n",
       "<p><span style=\"color:#000000\">Aunque similar a la </span><a href=\"https://selfhacked.com/blog/14-mediterranean-diet-health-benefits-food-list/\" style=\"text-decoration:none\"><span style=\"color:#1155cc\"><u>dieta mediterr&aacute;nea</u></span></a><span style=\"color:#000000\">, la dieta DASH es m&aacute;s baja en sodio y &aacute;cidos grasos omega-3, y m&aacute;s rica en carne roja y productos l&aacute;cteos [</span><a href=\"https://www.ncbi.nlm.nih.gov/books/NBK482514/\" style=\"text-decoration:none\"><span style=\"color:#1155cc\"><u>R</u></span></a><span style=\"color:#000000\">].</span></p>\r\n",
       "\r\n",
       "<p>&nbsp;</p><br>\n"
      ],
      "text/plain": [
       "<IPython.core.display.HTML object>"
      ]
     },
     "metadata": {},
     "output_type": "display_data"
    },
    {
     "data": {
      "text/html": [
       "<h5>Zinc</h5>\n",
       "Considere tomar suplementos con zinc<br>\n",
       "<table>\n",
       "<tr>\n",
       "<th>Type</th>\n",
       "<th>Effect</th>\n",
       "<th>Evidence</th>\n",
       "</tr>\n",
       "<tr>\n",
       "<td>supplement</td>\n",
       "<td>0.4</td>\n",
       "<td>0.4</td>\n",
       "</tr>\n",
       "</table>\n",
       "<p><span style=\"color:#000000\">El zinc es un mineral esencial. Su cuerpo lo necesita para [</span><a href=\"https://ods.od.nih.gov/factsheets/Zinc-HealthProfessional/\" style=\"text-decoration:none\"><span style=\"color:#1155cc\"><u>R</u></span></a><span style=\"color:#000000\">, </span><a href=\"https://www.ncbi.nlm.nih.gov/pmc/articles/PMC4573932/\" style=\"text-decoration:none\"><span style=\"color:#1155cc\"><u>R</u></span></a><span style=\"color:#000000\">]:</span></p>\r\n",
       "\r\n",
       "<ul>\r\n",
       "\t<li style=\"list-style-type:disc\"><span style=\"color:#000000\">Defenderse contra las enfermedades</span></li>\r\n",
       "\t<li style=\"list-style-type:disc\"><span style=\"color:#000000\">Proteger el ADN de da&ntilde;os</span></li>\r\n",
       "\t<li style=\"list-style-type:disc\"><span style=\"color:#000000\">Curar heridas</span></li>\r\n",
       "\t<li style=\"list-style-type:disc\"><span style=\"color:#000000\">Controlar el az&uacute;car en la sangre</span></li>\r\n",
       "</ul>\r\n",
       "\r\n",
       "<p><span style=\"color:#000000\">Algunas de las mejores fuentes de zinc incluyen</span><span style=\"color:#000000\"><strong> mariscos, carne de cerdo, carne de res y frijoles</strong></span><span style=\"color:#000000\">. Tambi&eacute;n est&aacute; disponible como suplemento [</span><a href=\"https://ods.od.nih.gov/factsheets/Zinc-HealthProfessional/\" style=\"text-decoration:none\"><span style=\"color:#1155cc\"><u>R</u></span></a><span style=\"color:#000000\">].</span></p><br>\n"
      ],
      "text/plain": [
       "<IPython.core.display.HTML object>"
      ]
     },
     "metadata": {},
     "output_type": "display_data"
    },
    {
     "data": {
      "text/html": [
       "<h5>Limitar el Consumo de Alcohol</h5>\n",
       "Beber menos alcohol.<br>\n",
       "<table>\n",
       "<tr>\n",
       "<th>Type</th>\n",
       "<th>Effect</th>\n",
       "<th>Evidence</th>\n",
       "</tr>\n",
       "<tr>\n",
       "<td>dietary</td>\n",
       "<td>0.4</td>\n",
       "<td>0.4</td>\n",
       "</tr>\n",
       "</table>\n",
       "<p style=\"text-align:justify\"><span style=\"color:#000000\">Muchas personas beben alcohol en su tiempo libre. Para algunos, el alcohol puede mejorar temporalmente su estado de &aacute;nimo y estado mental [</span><a href=\"https://pubmed.ncbi.nlm.nih.gov/4053968/\" style=\"text-decoration:none\"><span style=\"color:#1155cc\"><u>R</u></span></a><span style=\"color:#000000\">].</span></p>\r\n",
       "\r\n",
       "<p>&nbsp;</p>\r\n",
       "\r\n",
       "<p style=\"text-align:justify\"><span style=\"color:#000000\"><strong>Los expertos est&aacute;n de acuerdo en que tomar 1-2 bebidas al d&iacute;a probablemente no cause da&ntilde;o. Sin embargo, el consumo excesivo de alcohol es malo para su salud </strong></span><span style=\"color:#000000\">[</span><a href=\"https://www.mayoclinic.org/healthy-lifestyle/nutrition-and-healthy-eating/in-depth/alcohol/art-20044551\" style=\"text-decoration:none\"><span style=\"color:#1155cc\"><u>R</u></span></a><span style=\"color:#000000\">].</span></p>\r\n",
       "\r\n",
       "<p>&nbsp;</p><br>\n"
      ],
      "text/plain": [
       "<IPython.core.display.HTML object>"
      ]
     },
     "metadata": {},
     "output_type": "display_data"
    },
    {
     "data": {
      "text/html": [
       "<h5>Magnesio</h5>\n",
       "Considere tomar suplementos con magnesio.<br>\n",
       "<table>\n",
       "<tr>\n",
       "<th>Type</th>\n",
       "<th>Effect</th>\n",
       "<th>Evidence</th>\n",
       "</tr>\n",
       "<tr>\n",
       "<td>supplement</td>\n",
       "<td>0.4</td>\n",
       "<td>0.4</td>\n",
       "</tr>\n",
       "</table>\n",
       "<p style=\"text-align:justify\"><span style=\"color:#000000\"><strong>El </strong></span><a href=\"https://selfhacked.com/blog/21-proven-science-based-reasons-magnesium-amazing-including-drawbacks/\" style=\"text-decoration:none\"><span style=\"color:#1155cc\"><strong><u>magnesio</u></strong></span></a><span style=\"color:#000000\"><strong> es un mineral esencial.</strong></span><span style=\"color:#000000\">&nbsp; Su cuerpo lo necesita para [</span><a href=\"https://www.ncbi.nlm.nih.gov/pmc/articles/PMC4455825/\" style=\"text-decoration:none\"><span style=\"color:#1155cc\"><u>R</u></span></a><span style=\"color:#000000\">, </span><a href=\"https://pubmed.ncbi.nlm.nih.gov/2472534/\" style=\"text-decoration:none\"><span style=\"color:#1155cc\"><u>R</u></span></a><span style=\"color:#000000\">, </span><a href=\"https://pubmed.ncbi.nlm.nih.gov/14506478/\" style=\"text-decoration:none\"><span style=\"color:#1155cc\"><u>R</u></span></a><span style=\"color:#000000\">]:&nbsp;</span></p>\r\n",
       "\r\n",
       "<ul>\r\n",
       "\t<li style=\"list-style-type:disc\"><span style=\"color:#000000\">Funci&oacute;n muscular, nerviosa y &oacute;sea</span></li>\r\n",
       "\t<li style=\"list-style-type:disc\"><span style=\"color:#000000\">Controlar el az&uacute;car en la sangre y la presi&oacute;n arterial</span></li>\r\n",
       "\t<li style=\"list-style-type:disc\"><span style=\"color:#000000\">Producir ADN y prote&iacute;nas</span></li>\r\n",
       "\t<li style=\"list-style-type:disc\"><span style=\"color:#000000\">Fortalecer la inmunidad</span></li>\r\n",
       "</ul>\r\n",
       "\r\n",
       "<p style=\"text-align:justify\"><span style=\"color:#000000\">Las mujeres necesitan </span><span style=\"color:#000000\"><strong>310-320 mg </strong></span><span style=\"color:#000000\">de magnesio por d&iacute;a, mientras que los hombres necesitan </span><span style=\"color:#000000\"><strong>400-420 mg</strong></span><span style=\"color:#000000\"> [</span><a href=\"https://ods.od.nih.gov/factsheets/Magnesium-HealthProfessional/\" style=\"text-decoration:none\"><span style=\"color:#1155cc\"><u>R</u></span></a><span style=\"color:#000000\">].</span></p>\r\n",
       "\r\n",
       "<p>&nbsp;</p>\r\n",
       "\r\n",
       "<p style=\"text-align:justify\"><span style=\"color:#000000\">Los alimentos ricos en magnesio incluyen </span><span style=\"color:#000000\"><strong>nueces, semillas y verduras de hoja verde</strong></span><span style=\"color:#000000\">. El magnesio tambi&eacute;n est&aacute; disponible como suplemento [</span><a href=\"https://ods.od.nih.gov/factsheets/Magnesium-HealthProfessional/\" style=\"text-decoration:none\"><span style=\"color:#1155cc\"><u>R</u></span></a><span style=\"color:#000000\">].</span></p>\r\n",
       "\r\n",
       "<p>&nbsp;</p><br>\n"
      ],
      "text/plain": [
       "<IPython.core.display.HTML object>"
      ]
     },
     "metadata": {},
     "output_type": "display_data"
    },
    {
     "data": {
      "text/html": [
       "<h5>Flaxseed</h5>\n",
       "Consider supplementing with flaxseed oil<br>\n",
       "<table>\n",
       "<tr>\n",
       "<th>Type</th>\n",
       "<th>Effect</th>\n",
       "<th>Evidence</th>\n",
       "</tr>\n",
       "<tr>\n",
       "<td>supplement</td>\n",
       "<td>0.4</td>\n",
       "<td>0.4</td>\n",
       "</tr>\n",
       "</table>\n",
       "<p><a href=\"https://supplements.selfdecode.com/blog/flaxseed-oil-benefits/\" style=\"text-decoration:none\"><span style=\"color:#1155cc\"><u>Flaxseed</u></span></a><span style=\"color:#000000\"> is a common ingredient in bakery products. Some people also use it as a health food to support digestion [</span><a href=\"https://www.ncbi.nlm.nih.gov/pmc/articles/PMC4152533/\" style=\"text-decoration:none\"><span style=\"color:#1155cc\"><u>R</u></span></a><span style=\"color:#000000\">].</span></p>\r\n",
       "\r\n",
       "<p>&nbsp;</p>\r\n",
       "\r\n",
       "<p><span style=\"color:#000000\">Flaxseed is rich in many compounds, including [</span><a href=\"https://www.ncbi.nlm.nih.gov/pmc/articles/PMC4152533/\" style=\"text-decoration:none\"><span style=\"color:#1155cc\"><u>R</u></span></a><span style=\"color:#000000\">]:</span></p>\r\n",
       "\r\n",
       "<ul>\r\n",
       "\t<li style=\"list-style-type:disc\"><span style=\"color:#000000\">Vitamins and minerals</span></li>\r\n",
       "\t<li style=\"list-style-type:disc\"><span style=\"color:#000000\">Protein</span></li>\r\n",
       "\t<li style=\"list-style-type:disc\"><span style=\"color:#000000\">Fiber</span></li>\r\n",
       "\t<li style=\"list-style-type:disc\"><span style=\"color:#000000\">Omega-3 fatty acids (</span><a href=\"https://supplements.selfdecode.com/blog/alpha-linolenic-acid/\" style=\"text-decoration:none\"><span style=\"color:#1155cc\"><u>ALA</u></span></a><span style=\"color:#000000\">)</span></li>\r\n",
       "</ul><br>\n"
      ],
      "text/plain": [
       "<IPython.core.display.HTML object>"
      ]
     },
     "metadata": {},
     "output_type": "display_data"
    },
    {
     "data": {
      "text/html": [
       "<h5>Plant Sterols</h5>\n",
       "Consider supplementing with plant sterols<br>\n",
       "<table>\n",
       "<tr>\n",
       "<th>Type</th>\n",
       "<th>Effect</th>\n",
       "<th>Evidence</th>\n",
       "</tr>\n",
       "<tr>\n",
       "<td>supplement</td>\n",
       "<td>0.6</td>\n",
       "<td>0.6</td>\n",
       "</tr>\n",
       "</table>\n",
       "<p><span style=\"color:#000000\"><strong>Sterols are compounds in plants that are similar to cholesterol </strong></span><span style=\"color:#000000\">[</span><a href=\"https://pubmed.ncbi.nlm.nih.gov/24468148/\" style=\"text-decoration:none\"><span style=\"color:#1155cc\"><u>R</u></span></a><span style=\"color:#000000\">, </span><a href=\"https://pubmed.ncbi.nlm.nih.gov/11222485/\" style=\"text-decoration:none\"><span style=\"color:#1155cc\"><u>R</u></span></a><span style=\"color:#000000\">].&nbsp;</span></p>\r\n",
       "\r\n",
       "<p>&nbsp;</p>\r\n",
       "\r\n",
       "<p><span style=\"color:#000000\">They are naturally found in foods like </span><span style=\"color:#000000\"><strong>nuts, vegetable oils, and fruits.</strong></span><span style=\"color:#000000\"> However, people usually don&rsquo;t eat enough of these [</span><a href=\"https://my.clevelandclinic.org/health/articles/17368-phytosterols-sterols--stanols\" style=\"text-decoration:none\"><span style=\"color:#1155cc\"><u>R</u></span></a><span style=\"color:#000000\">].</span></p>\r\n",
       "\r\n",
       "<p>&nbsp;</p>\r\n",
       "\r\n",
       "<p><span style=\"color:#000000\">Some companies add sterols to foods like</span><span style=\"color:#000000\"><strong> orange juice and margarine</strong></span><span style=\"color:#000000\"> [</span><a href=\"https://my.clevelandclinic.org/health/articles/17368-phytosterols-sterols--stanols\" style=\"text-decoration:none\"><span style=\"color:#1155cc\"><u>R</u></span></a><span style=\"color:#000000\">, </span><a href=\"https://www.mayoclinic.org/diseases-conditions/high-blood-cholesterol/in-depth/cholesterol/art-20045192\" style=\"text-decoration:none\"><span style=\"color:#1155cc\"><u>R</u></span></a><span style=\"color:#000000\">].</span></p><br>\n"
      ],
      "text/plain": [
       "<IPython.core.display.HTML object>"
      ]
     },
     "metadata": {},
     "output_type": "display_data"
    },
    {
     "data": {
      "text/html": [
       "<h5>Avoid Exposure to Heavy Metals</h5>\n",
       "Avoid Exposure to Heavy Metals<br>\n",
       "<table>\n",
       "<tr>\n",
       "<th>Type</th>\n",
       "<th>Effect</th>\n",
       "<th>Evidence</th>\n",
       "</tr>\n",
       "<tr>\n",
       "<td>lifestyle</td>\n",
       "<td>0.6</td>\n",
       "<td>0.2</td>\n",
       "</tr>\n",
       "</table>\n",
       "<p><span style=\"color:#000000\">Heavy metals are elements naturally found in the environment. They are also used for agricultural, industrial, and medicinal purposes. Some can even be found in small amounts in your body [</span><a href=\"https://www.ncbi.nlm.nih.gov/pmc/articles/PMC4144270/\" style=\"text-decoration:none\"><span style=\"color:#1155cc\"><u>R</u></span></a><span style=\"color:#000000\">, </span><a href=\"https://www.ncbi.nlm.nih.gov/pmc/articles/PMC4427717/\" style=\"text-decoration:none\"><span style=\"color:#1155cc\"><u>R</u></span></a><span style=\"color:#000000\">].</span></p>\r\n",
       "\r\n",
       "<p>&nbsp;</p>\r\n",
       "\r\n",
       "<p><span style=\"color:#000000\">Long-term exposure to high amounts of heavy metals can be harmful to your health [</span><a href=\"https://www.ncbi.nlm.nih.gov/pmc/articles/PMC4144270/\" style=\"text-decoration:none\"><span style=\"color:#1155cc\"><u>R</u></span></a><span style=\"color:#000000\">, </span><a href=\"https://www.ncbi.nlm.nih.gov/pmc/articles/PMC4427717/\" style=\"text-decoration:none\"><span style=\"color:#1155cc\"><u>R</u></span></a><span style=\"color:#000000\">].</span></p>\r\n",
       "\r\n",
       "<p>&nbsp;</p>\r\n",
       "\r\n",
       "<p><span style=\"color:#000000\">Heavy metals that are most often linked to health problems include [</span><a href=\"https://www.ncbi.nlm.nih.gov/pmc/articles/PMC4144270/\" style=\"text-decoration:none\"><span style=\"color:#1155cc\"><u>R</u></span></a><span style=\"color:#000000\">, </span><a href=\"https://www.ncbi.nlm.nih.gov/pmc/articles/PMC4427717/\" style=\"text-decoration:none\"><span style=\"color:#1155cc\"><u>R</u></span></a><span style=\"color:#000000\">]:</span></p>\r\n",
       "\r\n",
       "<ul>\r\n",
       "\t<li style=\"list-style-type:disc\"><span style=\"color:#000000\">Lead</span></li>\r\n",
       "\t<li style=\"list-style-type:disc\"><span style=\"color:#000000\">Cadmium</span></li>\r\n",
       "\t<li style=\"list-style-type:disc\"><span style=\"color:#000000\">Arsenic</span></li>\r\n",
       "\t<li style=\"list-style-type:disc\"><span style=\"color:#000000\">Chromium</span></li>\r\n",
       "\t<li style=\"list-style-type:disc\"><span style=\"color:#000000\">Mercury</span></li>\r\n",
       "</ul><br>\n"
      ],
      "text/plain": [
       "<IPython.core.display.HTML object>"
      ]
     },
     "metadata": {},
     "output_type": "display_data"
    },
    {
     "data": {
      "text/html": [
       "<h5>Polyunsaturated Fatty Acids (PUFAs)</h5>\n",
       "Increase your intake of PUFAs<br>\n",
       "<table>\n",
       "<tr>\n",
       "<th>Type</th>\n",
       "<th>Effect</th>\n",
       "<th>Evidence</th>\n",
       "</tr>\n",
       "<tr>\n",
       "<td>dietary</td>\n",
       "<td>0.8</td>\n",
       "<td>0.6</td>\n",
       "</tr>\n",
       "</table>\n",
       "<p><span style=\"color:#000000\"><strong>Polyunsaturated fatty acids (PUFAs) are fatty acids with at least two double bonds</strong></span><span style=\"color:#000000\">. They are considered &quot;healthy fats&quot; and include </span><span style=\"color:#000000\"><strong>omega-3 and omega-6 </strong></span><span style=\"color:#000000\">fatty acids [</span><a href=\"https://www.heart.org/en/healthy-living/healthy-eating/eat-smart/fats/polyunsaturated-fats\" style=\"text-decoration:none\"><span style=\"color:#1155cc\"><u>R</u></span></a><span style=\"color:#000000\">].</span></p>\r\n",
       "\r\n",
       "<p>&nbsp;</p>\r\n",
       "\r\n",
       "<p><a href=\"https://supplements.selfdecode.com/blog/fish-oil-top-22-science-based-health-benefits-of-fish-oil/\" style=\"text-decoration:none\"><span style=\"color:#1155cc\"><u>Omega-3 fatty acids</u></span></a><span style=\"color:#000000\"> help [</span><a href=\"https://ods.od.nih.gov/factsheets/Omega3FattyAcids-HealthProfessional/\" style=\"text-decoration:none\"><span style=\"color:#1155cc\"><u>R</u></span></a><span style=\"color:#000000\">, </span><a href=\"https://www.ncbi.nlm.nih.gov/pmc/articles/PMC4404917/\" style=\"text-decoration:none\"><span style=\"color:#1155cc\"><u>R</u></span></a><span style=\"color:#000000\">]:</span></p>\r\n",
       "\r\n",
       "<ul>\r\n",
       "\t<li style=\"list-style-type:disc\"><span style=\"color:#000000\">Lower inflammation and blood sugar</span></li>\r\n",
       "\t<li style=\"list-style-type:disc\"><span style=\"color:#000000\">Protect the heart, brain, and eyes</span></li>\r\n",
       "</ul>\r\n",
       "\r\n",
       "<p><span style=\"color:#000000\"><span style=\"background-color:#ffffff\">Omega-6 fatty acids play important roles in</span></span><span style=\"color:#000000\"> [</span><a href=\"https://www.ncbi.nlm.nih.gov/pmc/articles/PMC8308533/\" style=\"text-decoration:none\"><span style=\"color:#1155cc\"><span style=\"background-color:#ffffff\"><u>R</u></span></span></a><span style=\"color:#000000\">]</span><span style=\"color:#000000\"><span style=\"background-color:#ffffff\">:</span></span></p>\r\n",
       "\r\n",
       "<ul>\r\n",
       "\t<li style=\"list-style-type:disc\"><span style=\"color:#000000\"><span style=\"background-color:#ffffff\">Skin health</span></span></li>\r\n",
       "\t<li style=\"list-style-type:disc\"><span style=\"color:#000000\"><span style=\"background-color:#ffffff\">Energy production</span></span></li>\r\n",
       "\t<li style=\"list-style-type:disc\"><span style=\"color:#000000\"><span style=\"background-color:#ffffff\">Immunity</span></span></li>\r\n",
       "</ul>\r\n",
       "\r\n",
       "<p><span style=\"color:#000000\">Good sources of PUFAs include [</span><a href=\"https://www.heart.org/en/healthy-living/healthy-eating/eat-smart/fats/polyunsaturated-fats\" style=\"text-decoration:none\"><span style=\"color:#1155cc\"><u>R</u></span></a><span style=\"color:#000000\">, </span><a href=\"https://www.mayoclinic.org/healthy-lifestyle/nutrition-and-healthy-eating/in-depth/fat/art-20045550\" style=\"text-decoration:none\"><span style=\"color:#1155cc\"><u>R</u></span></a><span style=\"color:#000000\">, </span><a href=\"https://www.ncbi.nlm.nih.gov/pmc/articles/PMC5577766/\" style=\"text-decoration:none\"><span style=\"color:#1155cc\"><u>R</u></span></a><span style=\"color:#000000\">, </span><a href=\"https://www.hsph.harvard.edu/nutritionsource/what-should-you-eat/fats-and-cholesterol/types-of-fat/\" style=\"text-decoration:none\"><span style=\"color:#1155cc\"><u>R</u></span></a><span style=\"color:#000000\">]:</span></p>\r\n",
       "\r\n",
       "<ul>\r\n",
       "\t<li style=\"list-style-type:disc\"><span style=\"color:#000000\">Fish and seafood</span></li>\r\n",
       "\t<li style=\"list-style-type:disc\"><span style=\"color:#000000\">Plant oils (e.g., flaxseed, corn, sunflower, soybean, and grapeseed oil)</span></li>\r\n",
       "\t<li style=\"list-style-type:disc\"><span style=\"color:#000000\"><span style=\"background-color:#ffffff\">Seeds (e.g., safflower, sunflower, and pumpkin seeds)</span></span></li>\r\n",
       "\t<li style=\"list-style-type:disc\"><span style=\"color:#000000\">Walnuts</span></li>\r\n",
       "\t<li style=\"list-style-type:disc\"><span style=\"color:#000000\">Tofu</span></li>\r\n",
       "</ul><br>\n"
      ],
      "text/plain": [
       "<IPython.core.display.HTML object>"
      ]
     },
     "metadata": {},
     "output_type": "display_data"
    },
    {
     "data": {
      "text/html": [
       "<h5>Psyllium</h5>\n",
       "Add psyllium husk fiber to your diet<br>\n",
       "<table>\n",
       "<tr>\n",
       "<th>Type</th>\n",
       "<th>Effect</th>\n",
       "<th>Evidence</th>\n",
       "</tr>\n",
       "<tr>\n",
       "<td>supplement</td>\n",
       "<td>0.6</td>\n",
       "<td>0.4</td>\n",
       "</tr>\n",
       "</table>\n",
       "<p style=\"text-align:justify\"><a href=\"https://supplements.selfdecode.com/blog/psyllium-husk/\" style=\"text-decoration:none\"><span style=\"color:#1155cc\"><u>Psyllium husk</u></span></a><span style=\"color:#000000\"> might be beneficial for gut health and heart health. But what exactly is this supplement and how does it work?</span></p>\r\n",
       "\r\n",
       "<p style=\"text-align:justify\">&nbsp;</p>\r\n",
       "\r\n",
       "<p style=\"text-align:justify\"><span style=\"color:#000000\">Psyllium is an herb that grows around the world. Its &ldquo;husk,&rdquo; the outer coating of the psyllium seed, is full of fiber. The health benefits of psyllium husk are due to this fiber.</span></p><br>\n"
      ],
      "text/plain": [
       "<IPython.core.display.HTML object>"
      ]
     },
     "metadata": {},
     "output_type": "display_data"
    },
    {
     "data": {
      "text/html": [
       "<h5>Green Tea Extract</h5>\n",
       "Consider supplementing with green tea extract.<br>\n",
       "<table>\n",
       "<tr>\n",
       "<th>Type</th>\n",
       "<th>Effect</th>\n",
       "<th>Evidence</th>\n",
       "</tr>\n",
       "<tr>\n",
       "<td>supplement</td>\n",
       "<td>0.4</td>\n",
       "<td>0.2</td>\n",
       "</tr>\n",
       "</table>\n",
       "<p><a href=\"https://supplements.selfdecode.com/blog/green-tea/\" style=\"text-decoration:none\"><span style=\"color:#1155cc\"><u>Green tea</u></span></a><span style=\"color:#000000\"> is made from the same plant as black tea (</span><span style=\"color:#000000\"><em>Camellia sinensis</em></span><span style=\"color:#000000\">). However, the leaves and buds are processed differently [</span><a href=\"https://www.nccih.nih.gov/health/green-tea\" style=\"text-decoration:none\"><span style=\"color:#1155cc\"><u>R</u></span></a><span style=\"color:#000000\">].</span></p>\r\n",
       "\r\n",
       "<p>&nbsp;</p>\r\n",
       "\r\n",
       "<p><span style=\"color:#000000\">Green tea contains </span><span style=\"color:#000000\"><strong>catechins</strong></span><span style=\"color:#000000\">. These are antioxidants that help prevent </span><a href=\"https://health.selfdecode.com/blog/oxidative-stress-101/\" style=\"text-decoration:none\"><span style=\"color:#1155cc\"><u>oxidative stress</u></span></a><span style=\"color:#000000\"> [</span><a href=\"https://www.ncbi.nlm.nih.gov/pmc/articles/PMC7084675/\" style=\"text-decoration:none\"><span style=\"color:#1155cc\"><u>R</u></span></a><span style=\"color:#000000\">].</span></p>\r\n",
       "\r\n",
       "<p>&nbsp;</p>\r\n",
       "\r\n",
       "<p><span style=\"color:#000000\"><strong>EGCG is the main catechin found in green tea</strong></span><span style=\"color:#000000\">. It may help reduce inflammation and support weight loss [</span><a href=\"https://www.ncbi.nlm.nih.gov/pmc/articles/PMC4517007/\" style=\"text-decoration:none\"><span style=\"color:#1155cc\"><u>R</u></span></a><span style=\"color:#000000\">].</span></p><br>\n"
      ],
      "text/plain": [
       "<IPython.core.display.HTML object>"
      ]
     },
     "metadata": {},
     "output_type": "display_data"
    },
    {
     "data": {
      "text/html": [
       "<h5>Soy Protein</h5>\n",
       "Consider getting more soy protein<br>\n",
       "<table>\n",
       "<tr>\n",
       "<th>Type</th>\n",
       "<th>Effect</th>\n",
       "<th>Evidence</th>\n",
       "</tr>\n",
       "<tr>\n",
       "<td>supplement</td>\n",
       "<td>0.4</td>\n",
       "<td>0.6</td>\n",
       "</tr>\n",
       "</table>\n",
       "<p><span style=\"color:#000000\"><strong>Soy is a common food in many cuisines around the world</strong></span><span style=\"color:#000000\">, especially Asian cuisines [</span><a href=\"https://www.nccih.nih.gov/health/soy\" style=\"text-decoration:none\"><span style=\"color:#1155cc\"><u>R</u></span></a><span style=\"color:#000000\">].</span></p>\r\n",
       "\r\n",
       "<p>&nbsp;</p>\r\n",
       "\r\n",
       "<p><span style=\"color:#000000\">It&rsquo;s a great source of [</span><a href=\"https://pubmed.ncbi.nlm.nih.gov/1649210/\" style=\"text-decoration:none\"><span style=\"color:#1155cc\"><u>R</u></span></a><span style=\"color:#000000\">, </span><a href=\"https://www.ncbi.nlm.nih.gov/pmc/articles/PMC3916987/\" style=\"text-decoration:none\"><span style=\"color:#1155cc\"><u>R</u></span></a><span style=\"color:#000000\">]:</span></p>\r\n",
       "\r\n",
       "<ul>\r\n",
       "\t<li style=\"list-style-type:disc\"><span style=\"color:#000000\">Plant-based protein</span></li>\r\n",
       "\t<li style=\"list-style-type:disc\"><span style=\"color:#000000\">Fiber</span></li>\r\n",
       "\t<li style=\"list-style-type:disc\"><span style=\"color:#000000\">Omega-3 fats</span></li>\r\n",
       "\t<li style=\"list-style-type:disc\"><span style=\"color:#000000\">Antioxidants (isoflavones)</span></li>\r\n",
       "</ul>\r\n",
       "\r\n",
       "<p><span style=\"color:#000000\">Soy-based foods include [</span><a href=\"https://www.ncbi.nlm.nih.gov/pmc/articles/PMC5793271/\" style=\"text-decoration:none\"><span style=\"color:#1155cc\"><u>R</u></span></a><span style=\"color:#000000\">]:</span></p>\r\n",
       "\r\n",
       "<ul>\r\n",
       "\t<li style=\"list-style-type:disc\"><span style=\"color:#000000\">Tofu</span></li>\r\n",
       "\t<li style=\"list-style-type:disc\"><span style=\"color:#000000\">Tempeh</span></li>\r\n",
       "\t<li style=\"list-style-type:disc\"><span style=\"color:#000000\">Edamame</span></li>\r\n",
       "\t<li style=\"list-style-type:disc\"><span style=\"color:#000000\">Miso</span></li>\r\n",
       "\t<li style=\"list-style-type:disc\"><span style=\"color:#000000\">Natto</span></li>\r\n",
       "</ul>\r\n",
       "\r\n",
       "<p><span style=\"color:#000000\">Soy protein and soy isoflavones are also available as supplements.</span></p><br>\n"
      ],
      "text/plain": [
       "<IPython.core.display.HTML object>"
      ]
     },
     "metadata": {},
     "output_type": "display_data"
    },
    {
     "data": {
      "text/html": [
       "<h5>Tomatoes</h5>\n",
       "Eat more tomatoes<br>\n",
       "<table>\n",
       "<tr>\n",
       "<th>Type</th>\n",
       "<th>Effect</th>\n",
       "<th>Evidence</th>\n",
       "</tr>\n",
       "<tr>\n",
       "<td>dietary</td>\n",
       "<td>0.4</td>\n",
       "<td>0.6</td>\n",
       "</tr>\n",
       "</table>\n",
       "<p><span style=\"color:#000000\">Tomato (</span><span style=\"color:#000000\"><em>Solanum lycopersicum</em></span><span style=\"color:#000000\">) is a fruit originally from the Andes in South America. It is usually consumed as a vegetable in juices, sauces, or fresh. Tomate is an important source of [</span><a href=\"https://pubmed.ncbi.nlm.nih.gov/33131949/\" style=\"text-decoration:none\"><span style=\"color:#1155cc\"><u>R</u></span></a><span style=\"color:#000000\">]:</span></p>\r\n",
       "\r\n",
       "<ul>\r\n",
       "\t<li style=\"list-style-type:disc\"><a href=\"https://supplements.selfdecode.com/blog/need-know-vitamin-c-32-science-based-health-benefits/\" style=\"text-decoration:none\"><span style=\"color:#1155cc\"><u>Vitamin C</u></span></a></li>\r\n",
       "\t<li style=\"list-style-type:disc\"><span style=\"color:#000000\">Potassium</span></li>\r\n",
       "\t<li style=\"list-style-type:disc\"><span style=\"color:#000000\">Antioxidants (e.g., </span><a href=\"https://supplements.selfdecode.com/blog/lycopene/\" style=\"text-decoration:none\"><span style=\"color:#1155cc\"><u>lycopene</u></span></a><span style=\"color:#000000\">)</span></li>\r\n",
       "\t<li style=\"list-style-type:disc\"><span style=\"color:#000000\">Vitamin B9 (</span><a href=\"https://supplements.selfdecode.com/blog/16-proven-benefits-vitamin-b9-folate-folic-acid/\" style=\"text-decoration:none\"><span style=\"color:#1155cc\"><u>folate</u></span></a><span style=\"color:#000000\">)</span></li>\r\n",
       "</ul>\r\n",
       "\r\n",
       "<p><span style=\"color:#000000\">Tomato is traditionally used for [</span><a href=\"https://pubmed.ncbi.nlm.nih.gov/28129549/\" style=\"text-decoration:none\"><span style=\"color:#1155cc\"><u>R</u></span></a><span style=\"color:#000000\">, </span><a href=\"https://pubmed.ncbi.nlm.nih.gov/32243013/\" style=\"text-decoration:none\"><span style=\"color:#1155cc\"><u>R</u></span></a><span style=\"color:#000000\">]:</span></p>\r\n",
       "\r\n",
       "<ul>\r\n",
       "\t<li style=\"list-style-type:disc\"><span style=\"color:#000000\">High cholesterol</span></li>\r\n",
       "\t<li style=\"list-style-type:disc\"><span style=\"color:#000000\">High blood pressure</span></li>\r\n",
       "</ul><br>\n"
      ],
      "text/plain": [
       "<IPython.core.display.HTML object>"
      ]
     },
     "metadata": {},
     "output_type": "display_data"
    },
    {
     "data": {
      "text/html": [
       "<h5>Pomegranate</h5>\n",
       "Eat more pomegranates<br>\n",
       "<table>\n",
       "<tr>\n",
       "<th>Type</th>\n",
       "<th>Effect</th>\n",
       "<th>Evidence</th>\n",
       "</tr>\n",
       "<tr>\n",
       "<td>dietary</td>\n",
       "<td>0.4</td>\n",
       "<td>0.4</td>\n",
       "</tr>\n",
       "</table>\n",
       "<p><a href=\"https://supplements.selfdecode.com/blog/pomegranate/\" style=\"text-decoration:none\"><span style=\"color:#1155cc\"><u>Pomegranates</u></span></a><span style=\"color:#000000\"> are red fruits that contain seeds covered by edible sweet coats. They are rich in antioxidants [</span><a href=\"https://www.nccih.nih.gov/health/pomegranate\" style=\"text-decoration:none\"><span style=\"color:#1155cc\"><u>R</u></span></a><span style=\"color:#000000\">, </span><a href=\"https://www.ncbi.nlm.nih.gov/pmc/articles/PMC4007340/\" style=\"text-decoration:none\"><span style=\"color:#1155cc\"><u>R</u></span></a><span style=\"color:#000000\">].&nbsp;</span></p>\r\n",
       "\r\n",
       "<p>&nbsp;</p>\r\n",
       "\r\n",
       "<p><span style=\"color:#000000\">Pomegranate may reduce inflammation and support heart health. People use pomegranate seed oil and peel in cosmetics and traditional medicine [</span><a href=\"https://www.ncbi.nlm.nih.gov/pmc/articles/pmid/24800189/\" style=\"text-decoration:none\"><span style=\"color:#1155cc\"><u>R</u></span></a><span style=\"color:#000000\">, </span><a href=\"https://pubmed.ncbi.nlm.nih.gov/12801361/\" style=\"text-decoration:none\"><span style=\"color:#1155cc\"><u>R</u></span></a><span style=\"color:#000000\">].</span></p><br>\n"
      ],
      "text/plain": [
       "<IPython.core.display.HTML object>"
      ]
     },
     "metadata": {},
     "output_type": "display_data"
    },
    {
     "data": {
      "text/html": [
       "<h5>Cocoa</h5>\n",
       "Add more cocoa to your food or drinks<br>\n",
       "<table>\n",
       "<tr>\n",
       "<th>Type</th>\n",
       "<th>Effect</th>\n",
       "<th>Evidence</th>\n",
       "</tr>\n",
       "<tr>\n",
       "<td>dietary</td>\n",
       "<td>0.4</td>\n",
       "<td>0.4</td>\n",
       "</tr>\n",
       "</table>\n",
       "<p><a href=\"https://supplements.selfdecode.com/blog/chocolate-health-benefits/\" style=\"text-decoration:none\"><span style=\"color:#1155cc\"><u>Cocoa</u></span></a><span style=\"color:#000000\"> comes from the beans of the </span><span style=\"color:#000000\"><em>Theobroma cacao</em></span><span style=\"color:#000000\"> tree. It&rsquo;s often used for making chocolate, hot chocolate, and pastries. People have also used it as a medicine for over a thousand years [</span><a href=\"https://www.ncbi.nlm.nih.gov/pmc/articles/PMC4696435/\" style=\"text-decoration:none\"><span style=\"color:#1155cc\"><u>R</u></span></a><span style=\"color:#000000\">, </span><a href=\"https://www.ncbi.nlm.nih.gov/pubmed/10917925\" style=\"text-decoration:none\"><span style=\"color:#1155cc\"><u>R</u></span></a><span style=\"color:#000000\">].</span></p>\r\n",
       "\r\n",
       "<p>&nbsp;</p>\r\n",
       "\r\n",
       "<p><span style=\"color:#000000\">Cocoa contains many active components that likely help [</span><a href=\"https://www.ncbi.nlm.nih.gov/pubmed/10917925\" style=\"text-decoration:none\"><span style=\"color:#1155cc\"><u>R</u></span></a><span style=\"color:#000000\">, </span><a href=\"https://www.ncbi.nlm.nih.gov/pmc/articles/PMC4696435/\" style=\"text-decoration:none\"><span style=\"color:#1155cc\"><u>R</u></span></a><span style=\"color:#000000\">, </span><a href=\"https://www.ncbi.nlm.nih.gov/pmc/articles/PMC3820066/\" style=\"text-decoration:none\"><span style=\"color:#1155cc\"><u>R</u></span></a><span style=\"color:#000000\">, </span><a href=\"https://pubmed.ncbi.nlm.nih.gov/25646334/\" style=\"text-decoration:none\"><span style=\"color:#1155cc\"><u>R</u></span></a><span style=\"color:#000000\">]:</span></p>\r\n",
       "\r\n",
       "<ul>\r\n",
       "\t<li style=\"list-style-type:disc\"><span style=\"color:#000000\">Control weight&nbsp;</span></li>\r\n",
       "\t<li style=\"list-style-type:disc\"><span style=\"color:#000000\">Lower fatigue</span></li>\r\n",
       "\t<li style=\"list-style-type:disc\"><span style=\"color:#000000\">Boost mood</span></li>\r\n",
       "\t<li style=\"list-style-type:disc\"><span style=\"color:#000000\">Improve digestion</span></li>\r\n",
       "\t<li style=\"list-style-type:disc\"><span style=\"color:#000000\">Balance blood sugar</span></li>\r\n",
       "\t<li style=\"list-style-type:disc\"><span style=\"color:#000000\">Support heart health</span></li>\r\n",
       "</ul>\r\n",
       "\r\n",
       "<p style=\"text-align:justify\"><span style=\"color:#000000\"><strong>Note that pure cocoa is likely a healthier choice than chocolate. If you eat chocolate, choose dark chocolate with more cocoa and less sugar and fat.</strong></span></p><br>\n"
      ],
      "text/plain": [
       "<IPython.core.display.HTML object>"
      ]
     },
     "metadata": {},
     "output_type": "display_data"
    },
    {
     "data": {
      "text/html": [
       "<h5>Gotu Kola and Pycnogenol</h5>\n",
       "Consider supplementing with gotu kola and pycnogenol<br>\n",
       "<table>\n",
       "<tr>\n",
       "<th>Type</th>\n",
       "<th>Effect</th>\n",
       "<th>Evidence</th>\n",
       "</tr>\n",
       "<tr>\n",
       "<td>supplement</td>\n",
       "<td>0.6</td>\n",
       "<td>0.6</td>\n",
       "</tr>\n",
       "</table>\n",
       "<p><a href=\"https://supplements.selfdecode.com/blog/gotu-kola-2/\" style=\"text-decoration:none\"><span style=\"color:#1155cc\"><u>Gotu kola</u></span></a><span style=\"color:#000000\"> or Pennywort (</span><span style=\"color:#000000\"><em>Centella asiatica</em></span><span style=\"color:#000000\">) is an herb used in Tai-Chi tradition and Ayurvedic and Chinese Traditional Medicine.&nbsp;</span></p>\r\n",
       "\r\n",
       "<p>&nbsp;</p>\r\n",
       "\r\n",
       "<p><span style=\"color:#000000\">Gotu kola is used as an antioxidant and anti-inflammatory. Traditional uses include:</span></p>\r\n",
       "\r\n",
       "<ul>\r\n",
       "\t<li style=\"list-style-type:disc\"><span style=\"color:#000000\">Wound healing [</span><a href=\"https://www.ncbi.nlm.nih.gov/pmc/articles/PMC3546525/\" style=\"text-decoration:none\"><span style=\"color:#1155cc\"><u>R</u></span></a><span style=\"color:#000000\">].</span></li>\r\n",
       "\t<li style=\"list-style-type:disc\"><span style=\"color:#000000\">Improving leg circulation [</span><a href=\"https://www.ncbi.nlm.nih.gov/pmc/articles/PMC3594936/\" style=\"text-decoration:none\"><span style=\"color:#1155cc\"><u>R</u></span></a><span style=\"color:#000000\">]</span></li>\r\n",
       "</ul>\r\n",
       "\r\n",
       "<p><span style=\"color:#000000\">Gotu kola is usually combined with </span><a href=\"https://supplements.selfdecode.com/blog/pycnogenol-pine-bark-extract-health-benefits/\" style=\"text-decoration:none\"><span style=\"color:#1155cc\"><u>pycnogenol</u></span></a><span style=\"color:#000000\">. Pycnogenol is an extract of the French maritime pine bark (</span><span style=\"color:#000000\"><em>Pinus pinaster</em></span><span style=\"color:#000000\">), which grows on the southwest coast of France [</span><a href=\"https://pubmed.ncbi.nlm.nih.gov/31585179/\" style=\"text-decoration:none\"><span style=\"color:#1155cc\"><u>R</u></span></a><span style=\"color:#000000\">].</span></p>\r\n",
       "\r\n",
       "<p>&nbsp;</p>\r\n",
       "\r\n",
       "<p><span style=\"color:#000000\">It may improve [</span><a href=\"https://pubmed.ncbi.nlm.nih.gov/24247188/\" style=\"text-decoration:none\"><span style=\"color:#1155cc\"><u>R</u></span></a><span style=\"color:#000000\">, </span><a href=\"https://pubmed.ncbi.nlm.nih.gov/20549654/\" style=\"text-decoration:none\"><span style=\"color:#1155cc\"><u>R</u></span></a><span style=\"color:#000000\">, </span><a href=\"https://pubmed.ncbi.nlm.nih.gov/24675223/\" style=\"text-decoration:none\"><span style=\"color:#1155cc\"><u>R</u></span></a><span style=\"color:#000000\">, </span><a href=\"https://pubmed.ncbi.nlm.nih.gov/18386255/\" style=\"text-decoration:none\"><span style=\"color:#1155cc\"><u>R</u></span></a><span style=\"color:#000000\">, </span><a href=\"https://pubmed.ncbi.nlm.nih.gov/19017467/\" style=\"text-decoration:none\"><span style=\"color:#1155cc\"><u>R</u></span></a><span style=\"color:#000000\">, </span><a href=\"https://pubmed.ncbi.nlm.nih.gov/28255210/\" style=\"text-decoration:none\"><span style=\"color:#1155cc\"><u>R</u></span></a><span style=\"color:#000000\">]:&nbsp;</span></p>\r\n",
       "\r\n",
       "<ul>\r\n",
       "\t<li style=\"list-style-type:disc\"><span style=\"color:#000000\">Athletic performance</span></li>\r\n",
       "\t<li style=\"list-style-type:disc\"><span style=\"color:#000000\">Seasonal allergies</span></li>\r\n",
       "\t<li style=\"list-style-type:disc\"><span style=\"color:#000000\">Cognitive function</span></li>\r\n",
       "\t<li style=\"list-style-type:disc\"><span style=\"color:#000000\">Joint health</span></li>\r\n",
       "\t<li style=\"list-style-type:disc\"><span style=\"color:#000000\">Varicose veins</span></li>\r\n",
       "</ul><br>\n"
      ],
      "text/plain": [
       "<IPython.core.display.HTML object>"
      ]
     },
     "metadata": {},
     "output_type": "display_data"
    },
    {
     "data": {
      "text/html": [
       "<h5>Niacin</h5>\n",
       "Ask your doctor about niacin (vitamin B3)<br>\n",
       "<table>\n",
       "<tr>\n",
       "<th>Type</th>\n",
       "<th>Effect</th>\n",
       "<th>Evidence</th>\n",
       "</tr>\n",
       "<tr>\n",
       "<td>drug</td>\n",
       "<td>0.4</td>\n",
       "<td>0.6</td>\n",
       "</tr>\n",
       "</table>\n",
       "<p><a href=\"https://supplements.selfdecode.com/blog/top-science-based-health-benefits-vitamin-b3-niacin/\" style=\"text-decoration:none\"><span style=\"color:#1155cc\"><strong><u>Niacin</u></strong></span></a><span style=\"color:#000000\"><strong> (vitamin B3) is found in many foods</strong></span><span style=\"color:#000000\">. It supports your nervous system, skin, gut, and more [</span><a href=\"https://ods.od.nih.gov/factsheets/Niacin-Consumer/\" style=\"text-decoration:none\"><span style=\"color:#1155cc\"><u>R</u></span></a><span style=\"color:#000000\">].</span></p>\r\n",
       "\r\n",
       "<p>&nbsp;</p>\r\n",
       "\r\n",
       "<p><span style=\"color:#000000\">Most adults should get </span><span style=\"color:#000000\"><strong>16 mg</strong></span><span style=\"color:#000000\"> of niacin a day. That&rsquo;s roughly the amount available in [</span><a href=\"https://www.ecfr.gov/current/title-21/chapter-I/subchapter-B/part-101\" style=\"text-decoration:none\"><span style=\"color:#1155cc\"><u>R</u></span></a><span style=\"color:#000000\">, </span><a href=\"https://ods.od.nih.gov/factsheets/Niacin-HealthProfessional/\" style=\"text-decoration:none\"><span style=\"color:#1155cc\"><u>R</u></span></a><span style=\"color:#000000\">]:</span></p>\r\n",
       "\r\n",
       "<ul>\r\n",
       "\t<li style=\"list-style-type:disc\"><span style=\"color:#000000\">3 ounces of beef liver</span></li>\r\n",
       "\t<li style=\"list-style-type:disc\"><span style=\"color:#000000\">5 ounces of chicken or turkey</span></li>\r\n",
       "\t<li style=\"list-style-type:disc\"><span style=\"color:#000000\">6 ounces of canned tuna</span></li>\r\n",
       "\t<li style=\"list-style-type:disc\"><span style=\"color:#000000\">3 cups of brown rice</span></li>\r\n",
       "</ul>\r\n",
       "\r\n",
       "<p><span style=\"color:#000000\">Most people get enough niacin from their diets [</span><a href=\"https://ods.od.nih.gov/factsheets/Niacin-Consumer/\" style=\"text-decoration:none\"><span style=\"color:#1155cc\"><u>R</u></span></a><span style=\"color:#000000\">].</span></p><br>\n"
      ],
      "text/plain": [
       "<IPython.core.display.HTML object>"
      ]
     },
     "metadata": {},
     "output_type": "display_data"
    },
    {
     "data": {
      "text/html": [
       "<h5>Vitamin D</h5>\n",
       "Consider supplementing with vitamin D<br>\n",
       "<table>\n",
       "<tr>\n",
       "<th>Type</th>\n",
       "<th>Effect</th>\n",
       "<th>Evidence</th>\n",
       "</tr>\n",
       "<tr>\n",
       "<td>supplement</td>\n",
       "<td>0.4</td>\n",
       "<td>0.6</td>\n",
       "</tr>\n",
       "</table>\n",
       "<p style=\"text-align:justify\"><span style=\"color:#000000\"><strong>Your body needs </strong></span><a href=\"https://labs.selfdecode.com/blog/35proven-health-benefits-vitamin-d-part-1/\" style=\"text-decoration:none\"><span style=\"color:#1155cc\"><strong><u>vitamin D</u></strong></span></a><span style=\"color:#000000\"><strong> for strong bones</strong></span><span style=\"color:#000000\">. Vitamin D also plays a role in [</span><a href=\"https://ods.od.nih.gov/factsheets/VitaminD-HealthProfessional/\" style=\"text-decoration:none\"><span style=\"color:#1155cc\"><u>R</u></span></a><span style=\"color:#000000\">]:</span></p>\r\n",
       "\r\n",
       "<ul>\r\n",
       "\t<li style=\"list-style-type:disc\"><span style=\"color:#000000\">Mood</span></li>\r\n",
       "\t<li style=\"list-style-type:disc\"><span style=\"color:#000000\">Immunity</span></li>\r\n",
       "\t<li style=\"list-style-type:disc\"><span style=\"color:#000000\">Heart health</span></li>\r\n",
       "\t<li style=\"list-style-type:disc\"><span style=\"color:#000000\">Blood sugar control</span></li>\r\n",
       "</ul>\r\n",
       "\r\n",
       "<p style=\"text-align:justify\"><a href=\"https://health.selfdecode.com/blog/avoiding-sun-will-kill-14-proven-science-based-health-benefits-sun/\" style=\"text-decoration:none\"><span style=\"color:#1155cc\"><strong><u>Sunlight</u></strong></span></a><span style=\"color:#000000\"><strong> is our main source of vitamin D.</strong></span><span style=\"color:#000000\"> Experts recommend getting at least </span><span style=\"color:#000000\"><strong>5-15 minutes of midday sun, 2-3 times per week</strong></span><span style=\"color:#000000\">. People with darker skin and those living at high latitudes may need longer periods of sun exposure [</span><a href=\"https://www.ncbi.nlm.nih.gov/pmc/articles/PMC2290997/\" style=\"text-decoration:none\"><span style=\"color:#1155cc\"><u>R</u></span></a><span style=\"color:#000000\">, </span><a href=\"https://www.ncbi.nlm.nih.gov/pmc/articles/PMC7049620/\" style=\"text-decoration:none\"><span style=\"color:#1155cc\"><u>R</u></span></a><span style=\"color:#000000\">].</span></p>\r\n",
       "\r\n",
       "<p>&nbsp;</p>\r\n",
       "\r\n",
       "<p style=\"text-align:justify\"><span style=\"color:#000000\">Foods like fish, eggs, and fortified milk provide small amounts of vitamin D. </span><span style=\"color:#000000\"><strong>People lacking vitamin D should consider taking a supplement</strong></span><span style=\"color:#000000\"> [</span><a href=\"https://ods.od.nih.gov/factsheets/VitaminD-HealthProfessional/\" style=\"text-decoration:none\"><span style=\"color:#1155cc\"><u>R</u></span></a><span style=\"color:#000000\">].</span></p><br>\n"
      ],
      "text/plain": [
       "<IPython.core.display.HTML object>"
      ]
     },
     "metadata": {},
     "output_type": "display_data"
    },
    {
     "data": {
      "text/html": [
       "<h5>Coenzyme Q10</h5>\n",
       "Consider supplementing with coenzyme Q10<br>\n",
       "<table>\n",
       "<tr>\n",
       "<th>Type</th>\n",
       "<th>Effect</th>\n",
       "<th>Evidence</th>\n",
       "</tr>\n",
       "<tr>\n",
       "<td>supplement</td>\n",
       "<td>0.4</td>\n",
       "<td>0.4</td>\n",
       "</tr>\n",
       "</table>\n",
       "<p><a href=\"https://health.selfdecode.com/blog/coenzyme-q10-benefits/\" style=\"text-decoration:none\"><span style=\"color:#1155cc\"><u>Coenzyme Q10</u></span></a><span style=\"color:#000000\"> (CoQ10) is a compound that helps enzymes work better. By doing so, CoQ10 helps improve [</span><a href=\"https://www.mayoclinic.org/drugs-supplements-coenzyme-q10/art-20362602\" style=\"text-decoration:none\"><span style=\"color:#1155cc\"><u>R</u></span></a><span style=\"color:#000000\">, </span><a href=\"https://www.ncbi.nlm.nih.gov/pmc/articles/PMC3178961/\" style=\"text-decoration:none\"><span style=\"color:#1155cc\"><u>R</u></span></a><span style=\"color:#000000\">, </span><a href=\"https://www.ncbi.nlm.nih.gov/books/NBK531491/\" style=\"text-decoration:none\"><span style=\"color:#1155cc\"><u>R</u></span></a><span style=\"color:#000000\">, </span><a href=\"https://www.ncbi.nlm.nih.gov/pmc/articles/PMC6131403/\" style=\"text-decoration:none\"><span style=\"color:#1155cc\"><u>R</u></span></a><span style=\"color:#000000\">]:</span></p>\r\n",
       "\r\n",
       "<ul>\r\n",
       "\t<li style=\"list-style-type:disc\"><span style=\"color:#000000\">Energy levels</span></li>\r\n",
       "\t<li style=\"list-style-type:disc\"><span style=\"color:#000000\">Antioxidant protection</span></li>\r\n",
       "\t<li style=\"list-style-type:disc\"><span style=\"color:#000000\">Heart health</span></li>\r\n",
       "\t<li style=\"list-style-type:disc\"><span style=\"color:#000000\">Muscle strength</span></li>\r\n",
       "\t<li style=\"list-style-type:disc\"><span style=\"color:#000000\">Blood sugar control</span></li>\r\n",
       "</ul>\r\n",
       "\r\n",
       "<p><span style=\"color:#000000\"><strong>The amount of CoQ10 made by your body decreases as you get older.</strong></span><span style=\"color:#000000\"> Luckily, you can also get it from food or supplements. Good sources of CoQ10 include [</span><a href=\"https://www.ncbi.nlm.nih.gov/pmc/articles/PMC5807419/\" style=\"text-decoration:none\"><span style=\"color:#1155cc\"><u>R</u></span></a><span style=\"color:#000000\">, </span><a href=\"https://www.ncbi.nlm.nih.gov/pmc/articles/PMC3178961/\" style=\"text-decoration:none\"><span style=\"color:#1155cc\"><u>R</u></span></a><span style=\"color:#000000\">]:</span></p>\r\n",
       "\r\n",
       "<ul>\r\n",
       "\t<li style=\"list-style-type:disc\"><span style=\"color:#000000\">Organ meats</span></li>\r\n",
       "\t<li style=\"list-style-type:disc\"><span style=\"color:#000000\">Fatty fish</span></li>\r\n",
       "\t<li style=\"list-style-type:disc\"><span style=\"color:#000000\">Whole grains</span></li>\r\n",
       "</ul><br>\n"
      ],
      "text/plain": [
       "<IPython.core.display.HTML object>"
      ]
     },
     "metadata": {},
     "output_type": "display_data"
    },
    {
     "data": {
      "text/html": [
       "<h5>Meditation</h5>\n",
       "<br>\n",
       "<table>\n",
       "<tr>\n",
       "<th>Type</th>\n",
       "<th>Effect</th>\n",
       "<th>Evidence</th>\n",
       "</tr>\n",
       "<tr>\n",
       "<td>lifestyle</td>\n",
       "<td>0.0</td>\n",
       "<td>0.0</td>\n",
       "</tr>\n",
       "</table>\n",
       "<p>&nbsp; &nbsp;</p><br>\n"
      ],
      "text/plain": [
       "<IPython.core.display.HTML object>"
      ]
     },
     "metadata": {},
     "output_type": "display_data"
    },
    {
     "data": {
      "text/html": [
       "<h5>Avoid Arsenic Exposure</h5>\n",
       "<br>\n",
       "<table>\n",
       "<tr>\n",
       "<th>Type</th>\n",
       "<th>Effect</th>\n",
       "<th>Evidence</th>\n",
       "</tr>\n",
       "<tr>\n",
       "<td>lifestyle</td>\n",
       "<td>0.0</td>\n",
       "<td>0.0</td>\n",
       "</tr>\n",
       "</table>\n",
       "<p>&nbsp; &nbsp;</p><br>\n"
      ],
      "text/plain": [
       "<IPython.core.display.HTML object>"
      ]
     },
     "metadata": {},
     "output_type": "display_data"
    },
    {
     "data": {
      "text/html": [
       "<h5>Limit Saturated and Trans Fats</h5>\n",
       "<br>\n",
       "<table>\n",
       "<tr>\n",
       "<th>Type</th>\n",
       "<th>Effect</th>\n",
       "<th>Evidence</th>\n",
       "</tr>\n",
       "<tr>\n",
       "<td>dietary</td>\n",
       "<td>0.0</td>\n",
       "<td>0.0</td>\n",
       "</tr>\n",
       "</table>\n",
       "<p>&nbsp;&nbsp;</p><br>\n"
      ],
      "text/plain": [
       "<IPython.core.display.HTML object>"
      ]
     },
     "metadata": {},
     "output_type": "display_data"
    },
    {
     "data": {
      "text/html": [
       "<h5>Dietary Garlic</h5>\n",
       "<br>\n",
       "<table>\n",
       "<tr>\n",
       "<th>Type</th>\n",
       "<th>Effect</th>\n",
       "<th>Evidence</th>\n",
       "</tr>\n",
       "<tr>\n",
       "<td>dietary</td>\n",
       "<td>0.0</td>\n",
       "<td>0.0</td>\n",
       "</tr>\n",
       "</table>\n",
       "<p>&nbsp; &nbsp;</p><br>\n"
      ],
      "text/plain": [
       "<IPython.core.display.HTML object>"
      ]
     },
     "metadata": {},
     "output_type": "display_data"
    },
    {
     "data": {
      "text/html": [
       "<h5>Walnuts</h5>\n",
       "<br>\n",
       "<table>\n",
       "<tr>\n",
       "<th>Type</th>\n",
       "<th>Effect</th>\n",
       "<th>Evidence</th>\n",
       "</tr>\n",
       "<tr>\n",
       "<td>dietary</td>\n",
       "<td>0.0</td>\n",
       "<td>0.0</td>\n",
       "</tr>\n",
       "</table>\n",
       "<p>&nbsp;&nbsp;</p><br>\n"
      ],
      "text/plain": [
       "<IPython.core.display.HTML object>"
      ]
     },
     "metadata": {},
     "output_type": "display_data"
    },
    {
     "data": {
      "text/html": [
       "<h5>Green Tea</h5>\n",
       "<br>\n",
       "<table>\n",
       "<tr>\n",
       "<th>Type</th>\n",
       "<th>Effect</th>\n",
       "<th>Evidence</th>\n",
       "</tr>\n",
       "<tr>\n",
       "<td>dietary</td>\n",
       "<td>0.0</td>\n",
       "<td>0.0</td>\n",
       "</tr>\n",
       "</table>\n",
       "<p>&nbsp; &nbsp;</p><br>\n"
      ],
      "text/plain": [
       "<IPython.core.display.HTML object>"
      ]
     },
     "metadata": {},
     "output_type": "display_data"
    },
    {
     "data": {
      "text/html": [
       "<h5>Strength Training</h5>\n",
       "<br>\n",
       "<table>\n",
       "<tr>\n",
       "<th>Type</th>\n",
       "<th>Effect</th>\n",
       "<th>Evidence</th>\n",
       "</tr>\n",
       "<tr>\n",
       "<td>lifestyle</td>\n",
       "<td>0.0</td>\n",
       "<td>0.0</td>\n",
       "</tr>\n",
       "</table>\n",
       "<p>&nbsp; &nbsp;</p><br>\n"
      ],
      "text/plain": [
       "<IPython.core.display.HTML object>"
      ]
     },
     "metadata": {},
     "output_type": "display_data"
    },
    {
     "data": {
      "text/html": [
       "<h5>Alpha-linolenic acid (ALA)</h5>\n",
       "<br>\n",
       "<table>\n",
       "<tr>\n",
       "<th>Type</th>\n",
       "<th>Effect</th>\n",
       "<th>Evidence</th>\n",
       "</tr>\n",
       "<tr>\n",
       "<td>dietary</td>\n",
       "<td>0.0</td>\n",
       "<td>0.0</td>\n",
       "</tr>\n",
       "</table>\n",
       "<p>&nbsp;&nbsp;</p><br>\n"
      ],
      "text/plain": [
       "<IPython.core.display.HTML object>"
      ]
     },
     "metadata": {},
     "output_type": "display_data"
    },
    {
     "data": {
      "text/html": [
       "<h5>Chinese Ginseng</h5>\n",
       "<br>\n",
       "<table>\n",
       "<tr>\n",
       "<th>Type</th>\n",
       "<th>Effect</th>\n",
       "<th>Evidence</th>\n",
       "</tr>\n",
       "<tr>\n",
       "<td>supplement</td>\n",
       "<td>0.0</td>\n",
       "<td>0.0</td>\n",
       "</tr>\n",
       "</table>\n",
       "<p>&nbsp; &nbsp;</p><br>\n"
      ],
      "text/plain": [
       "<IPython.core.display.HTML object>"
      ]
     },
     "metadata": {},
     "output_type": "display_data"
    },
    {
     "data": {
      "text/html": [
       "<h5>Gotu Kola</h5>\n",
       "<br>\n",
       "<table>\n",
       "<tr>\n",
       "<th>Type</th>\n",
       "<th>Effect</th>\n",
       "<th>Evidence</th>\n",
       "</tr>\n",
       "<tr>\n",
       "<td>supplement</td>\n",
       "<td>0.0</td>\n",
       "<td>0.0</td>\n",
       "</tr>\n",
       "</table>\n",
       "<p>&nbsp;&nbsp;</p><br>\n"
      ],
      "text/plain": [
       "<IPython.core.display.HTML object>"
      ]
     },
     "metadata": {},
     "output_type": "display_data"
    },
    {
     "data": {
      "text/html": [
       "<h5>Pycnogenol</h5>\n",
       "<br>\n",
       "<table>\n",
       "<tr>\n",
       "<th>Type</th>\n",
       "<th>Effect</th>\n",
       "<th>Evidence</th>\n",
       "</tr>\n",
       "<tr>\n",
       "<td>supplement</td>\n",
       "<td>0.0</td>\n",
       "<td>0.0</td>\n",
       "</tr>\n",
       "</table>\n",
       "<p>&nbsp;&nbsp;</p><br>\n"
      ],
      "text/plain": [
       "<IPython.core.display.HTML object>"
      ]
     },
     "metadata": {},
     "output_type": "display_data"
    },
    {
     "data": {
      "text/html": [
       "<h5>Vitamin C</h5>\n",
       "<br>\n",
       "<table>\n",
       "<tr>\n",
       "<th>Type</th>\n",
       "<th>Effect</th>\n",
       "<th>Evidence</th>\n",
       "</tr>\n",
       "<tr>\n",
       "<td>supplement</td>\n",
       "<td>0.0</td>\n",
       "<td>0.0</td>\n",
       "</tr>\n",
       "</table>\n",
       "<p>&nbsp;&nbsp;</p><br>\n"
      ],
      "text/plain": [
       "<IPython.core.display.HTML object>"
      ]
     },
     "metadata": {},
     "output_type": "display_data"
    },
    {
     "data": {
      "text/html": [
       "<h5>Vitamin E</h5>\n",
       "<br>\n",
       "<table>\n",
       "<tr>\n",
       "<th>Type</th>\n",
       "<th>Effect</th>\n",
       "<th>Evidence</th>\n",
       "</tr>\n",
       "<tr>\n",
       "<td>supplement</td>\n",
       "<td>0.0</td>\n",
       "<td>0.0</td>\n",
       "</tr>\n",
       "</table>\n",
       "<p><span style=\"color:#e06666\"><strong>Please note:</strong></span><span style=\"color:#e06666\"> </span><span style=\"color:#e06666\"><em>While dietary vitamin E is generally considered safe, vitamin E supplements have been linked to prostate cancer. They may also not be the best option for pregnant people. Those who have heart disease, bleeding disorders, or other conditions may also need to avoid them. Consult your doctor before taking vitamin E supplements</em></span><span style=\"color:#000000\"> [</span><a href=\"https://www.mayoclinic.org/drugs-supplements-vitamin-e/art-20364144\" style=\"text-decoration:none\"><span style=\"color:#1155cc\"><u>R</u></span></a><span style=\"color:#000000\">].</span></p><br>\n"
      ],
      "text/plain": [
       "<IPython.core.display.HTML object>"
      ]
     },
     "metadata": {},
     "output_type": "display_data"
    },
    {
     "data": {
      "text/html": [
       "<h5>Pomegranate Juice</h5>\n",
       "<br>\n",
       "<table>\n",
       "<tr>\n",
       "<th>Type</th>\n",
       "<th>Effect</th>\n",
       "<th>Evidence</th>\n",
       "</tr>\n",
       "<tr>\n",
       "<td>dietary</td>\n",
       "<td>0.0</td>\n",
       "<td>0.0</td>\n",
       "</tr>\n",
       "</table>\n",
       "<p>&nbsp;&nbsp;</p><br>\n"
      ],
      "text/plain": [
       "<IPython.core.display.HTML object>"
      ]
     },
     "metadata": {},
     "output_type": "display_data"
    },
    {
     "data": {
      "text/html": [
       "<h5>Yoga</h5>\n",
       "<br>\n",
       "<table>\n",
       "<tr>\n",
       "<th>Type</th>\n",
       "<th>Effect</th>\n",
       "<th>Evidence</th>\n",
       "</tr>\n",
       "<tr>\n",
       "<td>lifestyle</td>\n",
       "<td>0.0</td>\n",
       "<td>0.0</td>\n",
       "</tr>\n",
       "</table>\n",
       "<p>&nbsp; &nbsp;</p><br>\n"
      ],
      "text/plain": [
       "<IPython.core.display.HTML object>"
      ]
     },
     "metadata": {},
     "output_type": "display_data"
    },
    {
     "data": {
      "text/html": [
       "<h3>Palpitations</h3>\n",
       "Your score: 0.482758620689655<br>\n",
       "Typical likelihood of palpitations<br>\n",
       "<h4>Summary</h4>\n",
       "<br>\n",
       "<h4>Risk Factors And Genetics</h4>\n",
       "<div style=\"background:#eeeeee; border:1px solid #cccccc; padding:5px 10px\"><span style=\"color:#000000\"><strong>Key Takeaways:<br />\r\n",
       "<br />\r\n",
       "&nbsp; &nbsp;&nbsp;</strong></span><span style=\"color:#000000\">●&nbsp; While no heritability percentage exists yet for this condition,<br />\r\n",
       "&nbsp; &nbsp; &nbsp; &nbsp;&nbsp;genes involved may influence various heart functions.<br />\r\n",
       "&nbsp; &nbsp;&nbsp;</span><span style=\"color:#000000\">●&nbsp; Other risk factors include stress, anxiety, pregnancy, age,<br />\r\n",
       "&nbsp; &nbsp; &nbsp; &nbsp;&nbsp;stimulants, overactive thyroid, and heart problems.<br />\r\n",
       "&nbsp; &nbsp; </span><span style=\"color:#000000\">●&nbsp; Experiencing palpitations are not uncommon, particularly<br />\r\n",
       "&nbsp; &nbsp; &nbsp; &nbsp;&nbsp;because they can result from causes unrelated to heart<br />\r\n",
       "&nbsp; &nbsp; &nbsp; &nbsp;&nbsp;conditions, like anxiety.<br />\r\n",
       "&nbsp; &nbsp;&nbsp;</span><span style=\"color:#000000\">●&nbsp; If your genetic risk is high, you can lower overall risk by<br />\r\n",
       "&nbsp; &nbsp; &nbsp; &nbsp;&nbsp;taking&nbsp;action on risk factors that you can change.<br />\r\n",
       "&nbsp; &nbsp;&nbsp;●&nbsp; Click the </span><span style=\"color:#000000\"><strong>next steps</strong></span><span style=\"color:#000000\"> tab for relevant labs and lifestyle factors.</span></div>\r\n",
       "\r\n",
       "<p><br />\r\n",
       "<span style=\"color:#000000\">When the heart is working normally, it beats in a steady rhythm. Things like exercise or stress can speed it up temporarily [</span><a href=\"https://www.nhlbi.nih.gov/health/heart/heart-beats\" style=\"text-decoration:none\"><span style=\"color:#1155cc\"><u>R</u></span></a><span style=\"color:#000000\">, </span><a href=\"https://www.mayoclinic.org/diseases-conditions/heart-palpitations/symptoms-causes/syc-20373196\" style=\"text-decoration:none\"><span style=\"color:#1155cc\"><u>R</u></span></a><span style=\"color:#000000\">].</span></p>\r\n",
       "\r\n",
       "<p>&nbsp;</p>\r\n",
       "\r\n",
       "<p><span style=\"color:#000000\"><strong>Palpitations are feelings that the heart is racing, pounding, fluttering, or skipping beats. They can be felt in the chest or throat</strong></span><span style=\"color:#000000\"> [</span><a href=\"https://www.mayoclinic.org/diseases-conditions/heart-palpitations/symptoms-causes/syc-20373196\" style=\"text-decoration:none\"><span style=\"color:#1155cc\"><u>R</u></span></a><span style=\"color:#000000\">].</span></p>\r\n",
       "\r\n",
       "<p>&nbsp;</p>\r\n",
       "\r\n",
       "<p><span style=\"color:#000000\">Risk factors for palpitations include [</span><a href=\"https://www.ncbi.nlm.nih.gov/pmc/articles/PMC2095764/\" style=\"text-decoration:none\"><span style=\"color:#1155cc\"><u>R</u></span></a><span style=\"color:#000000\">, </span><a href=\"https://www.hopkinsmedicine.org/health/conditions-and-diseases/palpitations\" style=\"text-decoration:none\"><span style=\"color:#1155cc\"><u>R</u></span></a><span style=\"color:#000000\">, </span><a href=\"https://www.mayoclinic.org/diseases-conditions/heart-palpitations/symptoms-causes/syc-20373196\" style=\"text-decoration:none\"><span style=\"color:#1155cc\"><u>R</u></span></a><span style=\"color:#000000\">]:</span></p>\r\n",
       "\r\n",
       "<ul>\r\n",
       "\t<li style=\"list-style-type:disc\"><span style=\"color:#000000\">Stress</span></li>\r\n",
       "\t<li style=\"list-style-type:disc\"><span style=\"color:#000000\">Anxiety</span></li>\r\n",
       "\t<li style=\"list-style-type:disc\"><span style=\"color:#000000\">Pregnancy</span></li>\r\n",
       "\t<li style=\"list-style-type:disc\"><span style=\"color:#000000\">Aging</span></li>\r\n",
       "\t<li style=\"list-style-type:disc\"><span style=\"color:#000000\">Stimulants (e.g., in coffee, cigarettes, and some medications)</span></li>\r\n",
       "\t<li style=\"list-style-type:disc\"><span style=\"color:#000000\">Overactive thyroid</span></li>\r\n",
       "\t<li style=\"list-style-type:disc\"><span style=\"color:#000000\">Heart problems</span></li>\r\n",
       "</ul>\r\n",
       "\r\n",
       "<p><span style=\"color:#000000\">While palpitations can be scary, they are usually harmless. In those with palpitations due to heart problems, complications can occur. Seek emergency care if you have palpitations and [</span><a href=\"https://www.mayoclinic.org/diseases-conditions/heart-palpitations/symptoms-causes/syc-20373196\" style=\"text-decoration:none\"><span style=\"color:#1155cc\"><u>R</u></span></a><span style=\"color:#000000\">, </span><a href=\"https://www.ncbi.nlm.nih.gov/books/NBK558923/\" style=\"text-decoration:none\"><span style=\"color:#1155cc\"><u>R</u></span></a><span style=\"color:#000000\">]:</span></p>\r\n",
       "\r\n",
       "<ul>\r\n",
       "\t<li style=\"list-style-type:disc\"><span style=\"color:#000000\">Chest pain</span></li>\r\n",
       "\t<li style=\"list-style-type:disc\"><span style=\"color:#000000\">Severe shortness of breath</span></li>\r\n",
       "\t<li style=\"list-style-type:disc\"><span style=\"color:#000000\">Fainting</span></li>\r\n",
       "\t<li style=\"list-style-type:disc\"><span style=\"color:#000000\">Severe dizziness</span></li>\r\n",
       "</ul>\r\n",
       "\r\n",
       "<p><span style=\"color:#000000\"><strong>Genetics may play a role in people&rsquo;s chances of having palpitations</strong></span><span style=\"color:#000000\">. Genes involved in palpitations may influence heart function [</span><a href=\"https://pubmed.ncbi.nlm.nih.gov/27998945/\" style=\"text-decoration:none\"><span style=\"color:#1155cc\"><u>R</u></span></a><span style=\"color:#000000\">, </span><a href=\"https://www.ncbi.nlm.nih.gov/pmc/articles/PMC1769155/\" style=\"text-decoration:none\"><span style=\"color:#1155cc\"><u>R</u></span></a><span style=\"color:#000000\">].</span></p><br>\n",
       "<br>\n",
       "<h4>Recommendations</h4>"
      ],
      "text/plain": [
       "<IPython.core.display.HTML object>"
      ]
     },
     "metadata": {},
     "output_type": "display_data"
    },
    {
     "data": {
      "text/html": [
       "<h5>Limit Substance Use</h5>\n",
       "Limit substance use.<br>\n",
       "<table>\n",
       "<tr>\n",
       "<th>Type</th>\n",
       "<th>Effect</th>\n",
       "<th>Evidence</th>\n",
       "</tr>\n",
       "<tr>\n",
       "<td>lifestyle</td>\n",
       "<td>0.6</td>\n",
       "<td>0.8</td>\n",
       "</tr>\n",
       "</table>\n",
       "<p><span style=\"color:#000000\">Substances include alcohol and drugs. In some cases, substances can be used responsibly. For example, having 1-2 alcoholic drinks per day likely won&rsquo;t cause harm. Likewise, cannabis can be used for medical purposes in some countries or states [</span><a href=\"https://www.mayoclinic.org/healthy-lifestyle/nutrition-and-healthy-eating/in-depth/alcohol/art-20044551\" style=\"text-decoration:none\"><span style=\"color:#1155cc\"><u>R</u></span></a><span style=\"color:#000000\">, </span><a href=\"https://www.ncbi.nlm.nih.gov/pmc/articles/PMC6473892/\" style=\"text-decoration:none\"><span style=\"color:#1155cc\"><u>R</u></span></a><span style=\"color:#000000\">, </span><a href=\"https://www.ncbi.nlm.nih.gov/books/NBK319/\" style=\"text-decoration:none\"><span style=\"color:#1155cc\"><u>R</u></span></a><span style=\"color:#000000\">].&nbsp;</span></p>\r\n",
       "\r\n",
       "<p>&nbsp;</p>\r\n",
       "\r\n",
       "<p><span style=\"color:#000000\">However, these substances can also be misused. Substance misuse can lead to dependence on a substance. This can have long-term health and social consequences [</span><a href=\"https://www.mayoclinic.org/healthy-lifestyle/nutrition-and-healthy-eating/in-depth/alcohol/art-20044551\" style=\"text-decoration:none\"><span style=\"color:#1155cc\"><u>R</u></span></a><span style=\"color:#000000\">, </span><a href=\"https://www.ncbi.nlm.nih.gov/pmc/articles/PMC6473892/\" style=\"text-decoration:none\"><span style=\"color:#1155cc\"><u>R</u></span></a><span style=\"color:#000000\">, </span><a href=\"https://www.ncbi.nlm.nih.gov/books/NBK319/\" style=\"text-decoration:none\"><span style=\"color:#1155cc\"><u>R</u></span></a><span style=\"color:#000000\">, </span><a href=\"https://addiction.surgeongeneral.gov/sidebar-many-consequences-alcohol-and-drug-misuse\" style=\"text-decoration:none\"><span style=\"color:#1155cc\"><u>R</u></span></a><span style=\"color:#000000\">].&nbsp;</span></p>\r\n",
       "\r\n",
       "<p><br />\r\n",
       "<span style=\"color:#000000\">Even at low or prescribed doses, alcohol and some drugs can have side effects like palpitations [</span><a href=\"https://pubmed.ncbi.nlm.nih.gov/16702384/\" style=\"text-decoration:none\"><span style=\"color:#1155cc\"><u>R</u></span></a><span style=\"color:#000000\">, </span><a href=\"https://www.ncbi.nlm.nih.gov/labs/pmc/articles/PMC6757238/\" style=\"text-decoration:none\"><span style=\"color:#1155cc\"><u>R</u></span></a><span style=\"color:#000000\">].</span></p><br>\n"
      ],
      "text/plain": [
       "<IPython.core.display.HTML object>"
      ]
     },
     "metadata": {},
     "output_type": "display_data"
    },
    {
     "data": {
      "text/html": [
       "<h5>Avoid Cigarette Smoke</h5>\n",
       "Avoid cigarette smoke.<br>\n",
       "<table>\n",
       "<tr>\n",
       "<th>Type</th>\n",
       "<th>Effect</th>\n",
       "<th>Evidence</th>\n",
       "</tr>\n",
       "<tr>\n",
       "<td>lifestyle</td>\n",
       "<td>0.6</td>\n",
       "<td>0.8</td>\n",
       "</tr>\n",
       "</table>\n",
       "<p style=\"text-align:justify\"><span style=\"color:#000000\">You already know that tobacco is not great for your health. </span><span style=\"color:#000000\"><strong>Smoking affects your entire body.</strong></span><span style=\"color:#000000\"> It can damage your brain, heart, lungs, and more [</span><a href=\"https://pubmed.ncbi.nlm.nih.gov/11980288/\" style=\"text-decoration:none\"><span style=\"color:#1155cc\"><u>R</u></span></a><span style=\"color:#000000\">].</span></p>\r\n",
       "\r\n",
       "<p>&nbsp;</p>\r\n",
       "\r\n",
       "<p style=\"text-align:justify\"><span style=\"color:#000000\">Even if you&rsquo;re not a smoker,</span><span style=\"color:#000000\"><strong> take care to avoid secondhand smoke. It can cause health issues similar to smoking </strong></span><span style=\"color:#000000\">[</span><a href=\"https://www.ncbi.nlm.nih.gov/pmc/articles/PMC4595077/\" style=\"text-decoration:none\"><span style=\"color:#1155cc\"><u>R</u></span></a><span style=\"color:#000000\">, </span><a href=\"https://www.ncbi.nlm.nih.gov/pmc/articles/PMC2553398/\" style=\"text-decoration:none\"><span style=\"color:#1155cc\"><u>R</u></span></a><span style=\"color:#000000\">].</span></p>\r\n",
       "\r\n",
       "<p><br />\r\n",
       "<span style=\"color:#000000\">But, there&rsquo;s good news: </span><span style=\"color:#000000\"><strong>avoiding cigarette smoke can reverse many of its negative effects</strong></span><span style=\"color:#000000\">. It&rsquo;s a great way to dramatically improve your health [</span><a href=\"https://www.ncbi.nlm.nih.gov/books/NBK555590/\" style=\"text-decoration:none\"><span style=\"color:#1155cc\"><u>R</u></span></a><span style=\"color:#000000\">].</span></p><br>\n"
      ],
      "text/plain": [
       "<IPython.core.display.HTML object>"
      ]
     },
     "metadata": {},
     "output_type": "display_data"
    },
    {
     "data": {
      "text/html": [
       "<h5>Reduce Caffeine Intake</h5>\n",
       "Reduce your caffeine intake.<br>\n",
       "<table>\n",
       "<tr>\n",
       "<th>Type</th>\n",
       "<th>Effect</th>\n",
       "<th>Evidence</th>\n",
       "</tr>\n",
       "<tr>\n",
       "<td>dietary</td>\n",
       "<td>0.6</td>\n",
       "<td>0.8</td>\n",
       "</tr>\n",
       "</table>\n",
       "<p style=\"text-align:justify\"><span style=\"color:#000000\">People consume </span><a href=\"https://selfhacked.com/blog/caffeine-benefits/\" style=\"text-decoration:none\"><span style=\"color:#1155cc\"><u>caffeine</u></span></a><span style=\"color:#000000\"> for its effects on mood and energy. </span><span style=\"color:#000000\"><strong>But caffeine also comes with some drawbacks. </strong></span><span style=\"color:#000000\">Large amounts of caffeine can increase blood pressure and anxiety, for example [</span><a href=\"https://www.ncbi.nlm.nih.gov/pubmed/20888549\" style=\"text-decoration:none\"><span style=\"color:#1155cc\"><u>R</u></span></a><span style=\"color:#000000\">, </span><a href=\"https://www.ncbi.nlm.nih.gov/pmc/articles/PMC4668773/\" style=\"text-decoration:none\"><span style=\"color:#1155cc\"><u>R</u></span></a><span style=\"color:#000000\">].</span></p>\r\n",
       "\r\n",
       "<p><br />\r\n",
       "<span style=\"color:#000000\">For the average person, </span><span style=\"color:#000000\"><strong>coffee and tea are the main sources of caffeine</strong></span><span style=\"color:#000000\">. You may also be ingesting caffeine in chocolate, energy drinks, or supplements [</span><a href=\"https://www.ncbi.nlm.nih.gov/pmc/articles/PMC4462044/\" style=\"text-decoration:none\"><span style=\"color:#1155cc\"><u>R</u></span></a><span style=\"color:#000000\">].</span></p><br>\n"
      ],
      "text/plain": [
       "<IPython.core.display.HTML object>"
      ]
     },
     "metadata": {},
     "output_type": "display_data"
    },
    {
     "data": {
      "text/html": [
       "<h5>Relaxation Techniques</h5>\n",
       "Practice relaxation techniques.<br>\n",
       "<table>\n",
       "<tr>\n",
       "<th>Type</th>\n",
       "<th>Effect</th>\n",
       "<th>Evidence</th>\n",
       "</tr>\n",
       "<tr>\n",
       "<td>lifestyle</td>\n",
       "<td>0.6</td>\n",
       "<td>0.4</td>\n",
       "</tr>\n",
       "</table>\n",
       "<p style=\"text-align:justify\"><span style=\"color:#000000\"><strong>We all get stressed from time to time.</strong></span></p>\r\n",
       "\r\n",
       "<p>&nbsp;</p>\r\n",
       "\r\n",
       "<p style=\"text-align:justify\"><a href=\"https://selfhacked.com/blog/63-factors-raising-stress-cortisol-level-backed-science/\" style=\"text-decoration:none\"><span style=\"color:#1155cc\"><u>Stress</u></span></a><span style=\"color:#000000\"> can help you deal with a challenge or avoid danger. However,</span><span style=\"color:#000000\"><strong> it&rsquo;s not healthy to be stressed for a long time</strong></span><span style=\"color:#000000\"> [</span><a href=\"https://www.ncbi.nlm.nih.gov/books/NBK541120/\" style=\"text-decoration:none\"><span style=\"color:#1155cc\"><u>R</u></span></a><span style=\"color:#000000\">, </span><a href=\"https://www.ncbi.nlm.nih.gov/pmc/articles/PMC2568977/\" style=\"text-decoration:none\"><span style=\"color:#1155cc\"><u>R</u></span></a><span style=\"color:#000000\">].</span></p>\r\n",
       "\r\n",
       "<p>&nbsp;</p>\r\n",
       "\r\n",
       "<p style=\"text-align:justify\"><span style=\"color:#000000\"><strong>Relaxation techniques such as </strong></span><a href=\"https://selfhacked.com/blog/health-benefits-yoga/\" style=\"text-decoration:none\"><span style=\"color:#1155cc\"><strong><u>yoga</u></strong></span></a><span style=\"color:#000000\"><strong> and </strong></span><a href=\"https://selfhacked.com/blog/meditation/\" style=\"text-decoration:none\"><span style=\"color:#1155cc\"><strong><u>meditation</u></strong></span></a><span style=\"color:#000000\"><strong> can relieve stress in different ways</strong></span><span style=\"color:#000000\">. Most of them focus on breathing and help you get rid of negative thoughts and emotions [</span><a href=\"https://www.mayoclinic.org/healthy-lifestyle/stress-management/in-depth/relaxation-technique/art-20045368\" style=\"text-decoration:none\"><span style=\"color:#1155cc\"><u>R</u></span></a><span style=\"color:#000000\">].</span></p>\r\n",
       "\r\n",
       "<p>&nbsp;</p>\r\n",
       "\r\n",
       "<p style=\"text-align:justify\"><span style=\"color:#000000\">People use relaxation techniques to improve conditions like [</span><a href=\"https://www.ncbi.nlm.nih.gov/books/NBK513238/\" style=\"text-decoration:none\"><span style=\"color:#1155cc\"><u>R</u></span></a><span style=\"color:#000000\">, </span><a href=\"https://www.mayoclinic.org/healthy-lifestyle/consumer-health/in-depth/mindfulness-exercises/art-20046356\" style=\"text-decoration:none\"><span style=\"color:#1155cc\"><u>R</u></span></a><span style=\"color:#000000\">, </span><a href=\"https://pubmed.ncbi.nlm.nih.gov/32406186/\" style=\"text-decoration:none\"><span style=\"color:#1155cc\"><u>R</u></span></a><span style=\"color:#000000\">]:</span></p>\r\n",
       "\r\n",
       "<ul>\r\n",
       "\t<li style=\"list-style-type:disc\"><span style=\"color:#000000\">Anxiety</span></li>\r\n",
       "\t<li style=\"list-style-type:disc\"><span style=\"color:#000000\">Depression</span></li>\r\n",
       "\t<li style=\"list-style-type:disc\"><span style=\"color:#000000\">Chronic pain</span></li>\r\n",
       "</ul><br>\n"
      ],
      "text/plain": [
       "<IPython.core.display.HTML object>"
      ]
     },
     "metadata": {},
     "output_type": "display_data"
    },
    {
     "data": {
      "text/html": [
       "<h5>Dietary Iron</h5>\n",
       "Make sure your diet contains enough iron.<br>\n",
       "<table>\n",
       "<tr>\n",
       "<th>Type</th>\n",
       "<th>Effect</th>\n",
       "<th>Evidence</th>\n",
       "</tr>\n",
       "<tr>\n",
       "<td>dietary</td>\n",
       "<td>0.4</td>\n",
       "<td>0.4</td>\n",
       "</tr>\n",
       "</table>\n",
       "<p><a href=\"https://selfhacked.com/blog/iron-balance-blood-test-iron-deficiency-anemia-overload/\" style=\"text-decoration:none\"><span style=\"color:#1155cc\"><strong><u>Iron</u></strong></span></a><span style=\"color:#000000\"><strong> </strong></span><span style=\"color:#000000\">(Fe) is an essential mineral. It helps make </span><a href=\"https://selfhacked.com/blog/hemoglobin-good-bad-lab-tests-normal-values-reference-ranges/\" style=\"text-decoration:none\"><span style=\"color:#1155cc\"><u>hemoglobin</u></span></a><span style=\"color:#000000\">, a protein that carries oxygen to cells. In this way, iron </span><span style=\"color:#000000\"><strong>increases energy</strong></span><span style=\"color:#000000\"> and supports </span><span style=\"color:#000000\"><strong>brain and immune system function</strong></span><span style=\"color:#000000\"> [</span><a href=\"https://www.ncbi.nlm.nih.gov/pmc/articles/PMC3999603/\" style=\"text-decoration:none\"><span style=\"color:#1155cc\"><u>R</u></span></a><span style=\"color:#000000\">, </span><a href=\"https://www.ncbi.nlm.nih.gov/pmc/articles/PMC4086762/\" style=\"text-decoration:none\"><span style=\"color:#1155cc\"><u>R</u></span></a><span style=\"color:#000000\">, </span><a href=\"https://www.ncbi.nlm.nih.gov/books/NBK540969/\" style=\"text-decoration:none\"><span style=\"color:#1155cc\"><u>R</u></span></a><span style=\"color:#000000\">].</span></p>\r\n",
       "\r\n",
       "<p>&nbsp;</p>\r\n",
       "\r\n",
       "<p><span style=\"color:#000000\">Foods rich in iron include [</span><a href=\"https://ods.od.nih.gov/factsheets/Iron-HealthProfessional/\" style=\"text-decoration:none\"><span style=\"color:#1155cc\"><u>R</u></span></a><span style=\"color:#000000\">]:</span></p>\r\n",
       "\r\n",
       "<ul>\r\n",
       "\t<li style=\"list-style-type:disc\"><span style=\"color:#000000\">Oysters</span></li>\r\n",
       "\t<li style=\"list-style-type:disc\"><span style=\"color:#000000\">White beans</span></li>\r\n",
       "\t<li style=\"list-style-type:disc\"><span style=\"color:#000000\">Beef</span></li>\r\n",
       "\t<li style=\"list-style-type:disc\"><span style=\"color:#000000\">Chocolate</span></li>\r\n",
       "\t<li style=\"list-style-type:disc\"><span style=\"color:#000000\">Spinach</span></li>\r\n",
       "\t<li style=\"list-style-type:disc\"><span style=\"color:#000000\">Fortified cereals</span></li>\r\n",
       "</ul>\r\n",
       "\r\n",
       "<p><span style=\"color:#000000\"><strong>Women </strong></span><span style=\"color:#000000\">should be getting </span><span style=\"color:#000000\"><strong>8-18 mg</strong></span><span style=\"color:#000000\"> of iron per day, while </span><span style=\"color:#000000\"><strong>men </strong></span><span style=\"color:#000000\">should be getting</span><span style=\"color:#000000\"><strong> 8 mg</strong></span><span style=\"color:#000000\"> [</span><a href=\"https://ods.od.nih.gov/factsheets/Iron-HealthProfessional/\" style=\"text-decoration:none\"><span style=\"color:#1155cc\"><u>R</u></span></a><span style=\"color:#000000\">].</span></p>\r\n",
       "\r\n",
       "<p>&nbsp;</p>\r\n",
       "\r\n",
       "<p><span style=\"color:#000000\">Groups at risk of iron deficiency include [</span><a href=\"https://www.mayoclinic.org/diseases-conditions/iron-deficiency-anemia/symptoms-causes/syc-20355034\" style=\"text-decoration:none\"><span style=\"color:#1155cc\"><u>R</u></span></a><span style=\"color:#000000\">]:</span></p>\r\n",
       "\r\n",
       "<ul>\r\n",
       "\t<li style=\"list-style-type:disc\"><span style=\"color:#000000\">Menstruating women</span></li>\r\n",
       "\t<li style=\"list-style-type:disc\"><span style=\"color:#000000\">Children</span></li>\r\n",
       "\t<li style=\"list-style-type:disc\"><span style=\"color:#000000\">Vegetarians</span></li>\r\n",
       "\t<li style=\"list-style-type:disc\"><span style=\"color:#000000\">Routine blood donors</span></li>\r\n",
       "</ul><br>\n"
      ],
      "text/plain": [
       "<IPython.core.display.HTML object>"
      ]
     },
     "metadata": {},
     "output_type": "display_data"
    },
    {
     "data": {
      "text/html": [
       "<h5>Lemon Balm</h5>\n",
       "Consider supplementing with lemon balm.<br>\n",
       "<table>\n",
       "<tr>\n",
       "<th>Type</th>\n",
       "<th>Effect</th>\n",
       "<th>Evidence</th>\n",
       "</tr>\n",
       "<tr>\n",
       "<td>supplement</td>\n",
       "<td>0.2</td>\n",
       "<td>0.2</td>\n",
       "</tr>\n",
       "</table>\n",
       "<p style=\"text-align:justify\"><a href=\"https://selfhacked.com/blog/amazing-health-benefits-of-lemon-balm-with-side-effects/\" style=\"text-decoration:none\"><span style=\"color:#1155cc\"><strong><u>Lemon balm</u></strong></span></a><span style=\"color:#000000\"><strong> </strong></span><span style=\"color:#000000\">(</span><span style=\"color:#000000\"><em>Melissa officinalis</em></span><span style=\"color:#000000\">) is an herb used in gardening and traditional medicine. </span><span style=\"color:#000000\"><strong>It&rsquo;s rich in antioxidants and relaxing components </strong></span><span style=\"color:#000000\">[</span><a href=\"https://www.ncbi.nlm.nih.gov/pmc/articles/PMC5871149/\" style=\"text-decoration:none\"><span style=\"color:#1155cc\"><u>R</u></span></a><span style=\"color:#000000\">, </span><a href=\"https://pubmed.ncbi.nlm.nih.gov/27167460/\" style=\"text-decoration:none\"><span style=\"color:#1155cc\"><u>R</u></span></a><span style=\"color:#000000\">].</span></p>\r\n",
       "\r\n",
       "<p>&nbsp;</p>\r\n",
       "\r\n",
       "<p style=\"text-align:justify\"><span style=\"color:#000000\">People use lemon balm as a tea or supplement to [</span><a href=\"https://pubmed.ncbi.nlm.nih.gov/27167460/\" style=\"text-decoration:none\"><span style=\"color:#1155cc\"><u>R</u></span></a><span style=\"color:#000000\">, </span><a href=\"https://pubmed.ncbi.nlm.nih.gov/25680840/\" style=\"text-decoration:none\"><span style=\"color:#1155cc\"><u>R</u></span></a><span style=\"color:#000000\">, </span><a href=\"https://pubmed.ncbi.nlm.nih.gov/15272110/\" style=\"text-decoration:none\"><span style=\"color:#1155cc\"><u>R</u></span></a><span style=\"color:#000000\">, </span><a href=\"https://www.ncbi.nlm.nih.gov/pmc/articles/PMC3230760/\" style=\"text-decoration:none\"><span style=\"color:#1155cc\"><u>R</u></span></a><span style=\"color:#000000\">]:</span></p>\r\n",
       "\r\n",
       "<ul>\r\n",
       "\t<li style=\"list-style-type:disc\"><span style=\"color:#000000\">Relieve anxiety</span></li>\r\n",
       "\t<li style=\"list-style-type:disc\"><span style=\"color:#000000\">Improve sleep quality</span></li>\r\n",
       "\t<li style=\"list-style-type:disc\"><span style=\"color:#000000\">Reduce stress</span></li>\r\n",
       "</ul><br>\n"
      ],
      "text/plain": [
       "<IPython.core.display.HTML object>"
      ]
     },
     "metadata": {},
     "output_type": "display_data"
    },
    {
     "data": {
      "text/html": [
       "<h5>Psychotherapy</h5>\n",
       "Discuss psychotherapy with your doctor.<br>\n",
       "<table>\n",
       "<tr>\n",
       "<th>Type</th>\n",
       "<th>Effect</th>\n",
       "<th>Evidence</th>\n",
       "</tr>\n",
       "<tr>\n",
       "<td>lifestyle</td>\n",
       "<td>0.0</td>\n",
       "<td>0.0</td>\n",
       "</tr>\n",
       "</table>\n",
       "<p>&nbsp; &nbsp;</p><br>\n"
      ],
      "text/plain": [
       "<IPython.core.display.HTML object>"
      ]
     },
     "metadata": {},
     "output_type": "display_data"
    },
    {
     "data": {
      "text/html": [
       "<h2>Bienestar y Descanso</h2>"
      ],
      "text/plain": [
       "<IPython.core.display.HTML object>"
      ]
     },
     "metadata": {},
     "output_type": "display_data"
    },
    {
     "data": {
      "text/html": [
       "<h3>Fatiga</h3>\n",
       "Your score: 0.46360153256705<br>\n",
       "Probabilidad media de fatiga<br>\n",
       "<h4>Summary</h4>\n",
       "<br>\n",
       "<h4>Sobre la Fatiga</h4>\n",
       "<p style=\"text-align:justify\"><span style=\"color:#000000\"><strong>La fatiga es la forma en que nuestro cuerpo nos dice que es hora de descansar y recuperarnos.</strong></span><span style=\"color:#000000\"> Pero, &iquest;qu&eacute; ocurre cuando esa se&ntilde;al se env&iacute;a con mucha frecuencia o todo el tiempo? &iquest;Qu&eacute; sucede cuando las actividades normales de todos los d&iacute;as son suficiente para agotarlo?</span></p>\r\n",
       "\r\n",
       "<p>&nbsp;</p>\r\n",
       "\r\n",
       "<p style=\"text-align:justify\"><span style=\"color:#000000\">Cuando la fatiga dura m&aacute;s de 6 meses, se llama </span><span style=\"color:#000000\"><em>fatiga cr&oacute;nica</em></span><span style=\"color:#000000\"> [</span><a href=\"https://www.ncbi.nlm.nih.gov/pmc/articles/PMC6522773/\" style=\"text-decoration:none\"><span style=\"color:#1155cc\"><u>R</u></span></a><span style=\"color:#000000\">].</span></p>\r\n",
       "\r\n",
       "<p>&nbsp;</p>\r\n",
       "\r\n",
       "<p style=\"text-align:justify\"><span style=\"color:#000000\">La fatiga cr&oacute;nica a menudo est&aacute; asociada con [</span><a href=\"https://www.nhlbi.nih.gov/health-topics/iron-deficiency-anemia\" style=\"text-decoration:none\"><span style=\"color:#1155cc\"><u>R</u></span></a><span style=\"color:#000000\">, </span><a href=\"https://ods.od.nih.gov/factsheets/vitamin%20B12-HealthProfessional/\" style=\"text-decoration:none\"><span style=\"color:#1155cc\"><u>R</u></span></a><span style=\"color:#000000\">, </span><a href=\"https://ods.od.nih.gov/factsheets/Folate-Consumer/\" style=\"text-decoration:none\"><span style=\"color:#1155cc\"><u>R</u></span></a><span style=\"color:#000000\">, </span><a href=\"https://www.ncbi.nlm.nih.gov/pmc/articles/PMC3442332/\" style=\"text-decoration:none\"><span style=\"color:#1155cc\"><u>R</u></span></a><span style=\"color:#000000\">, </span><a href=\"https://pubmed.ncbi.nlm.nih.gov/22989469/\" style=\"text-decoration:none\"><span style=\"color:#1155cc\"><u>R</u></span></a><span style=\"color:#000000\">, </span><a href=\"https://www.ncbi.nlm.nih.gov/pmc/articles/PMC2582971/\" style=\"text-decoration:none\"><span style=\"color:#1155cc\"><u>R</u></span></a><span style=\"color:#000000\">, </span><a href=\"https://www.jci.org/articles/view/132185\" style=\"text-decoration:none\"><span style=\"color:#1155cc\"><u>R</u></span></a><span style=\"color:#000000\">, </span><a href=\"https://www.ncbi.nlm.nih.gov/labs/pmc/articles/PMC7652254/\" style=\"text-decoration:none\"><span style=\"color:#1155cc\"><u>R</u></span></a><span style=\"color:#000000\">]:</span></p>\r\n",
       "\r\n",
       "<ul>\r\n",
       "\t<li style=\"list-style-type:disc\"><span style=\"color:#000000\">Deficiencia de nutrientes (</span><a href=\"https://selfhacked.com/blog/iron-deficiency-excess-diseases/\" style=\"text-decoration:none\"><span style=\"color:#1155cc\"><u>hierro</u></span></a><span style=\"color:#000000\">, </span><a href=\"https://selfhacked.com/blog/vitamin-b12/\" style=\"text-decoration:none\"><span style=\"color:#1155cc\"><u>vitamina B12</u></span></a><span style=\"color:#000000\">, </span><span style=\"color:#1155cc\"><u>&aacute;cido f&oacute;lico</u></span><span style=\"color:#000000\">, </span><a href=\"https://selfhacked.com/blog/35proven-health-benefits-vitamin-d-part-1/\" style=\"text-decoration:none\"><span style=\"color:#1155cc\"><u>vitamina D</u></span></a><span style=\"color:#000000\">)</span></li>\r\n",
       "\t<li style=\"list-style-type:disc\"><span style=\"color:#000000\">Problemas en la gl&aacute;ndula tiroides</span></li>\r\n",
       "\t<li style=\"list-style-type:disc\"><span style=\"color:#000000\">Problemas en el h&iacute;gado</span></li>\r\n",
       "\t<li style=\"list-style-type:disc\"><span style=\"color:#000000\">Una infecci&oacute;n grave reciente</span></li>\r\n",
       "</ul>\r\n",
       "\r\n",
       "<p>&nbsp;</p>\r\n",
       "\r\n",
       "<p><span style=\"color:#000000\">La fatiga cr&oacute;nica puede llevar a una disminuci&oacute;n de la actividad social y f&iacute;sica. Puede aparecer por s&iacute; sola o junto con enfermedades cr&oacute;nicas [</span><a href=\"https://www.ncbi.nlm.nih.gov/labs/pmc/articles/PMC6522773/\" style=\"text-decoration:none\"><span style=\"color:#1155cc\"><u>R</u></span></a><span style=\"color:#000000\">, </span><a href=\"https://pubmed.ncbi.nlm.nih.gov/33010585/\" style=\"text-decoration:none\"><span style=\"color:#1155cc\"><u>R</u></span></a><span style=\"color:#000000\">, </span><a href=\"https://pubmed.ncbi.nlm.nih.gov/25907704/\" style=\"text-decoration:none\"><span style=\"color:#1155cc\"><u>R</u></span></a><span style=\"color:#000000\">].</span></p>\r\n",
       "\r\n",
       "<p>&nbsp;</p>\r\n",
       "\r\n",
       "<p style=\"text-align:justify\"><span style=\"color:#000000\">Es probable que algunas personas nunca puedan recuperar su energ&iacute;a, sin importar cu&aacute;nto descansen. Esto se conoce como </span><span style=\"color:#000000\"><em>s&iacute;ndrome de fatiga cr&oacute;nica</em></span><span style=\"color:#000000\">. Es una afecci&oacute;n incapacitante que afecta a menos del 1% de las personas [</span><a href=\"https://www.ncbi.nlm.nih.gov/pmc/articles/PMC3616604/\" style=\"text-decoration:none\"><span style=\"color:#1155cc\"><u>R</u></span></a><span style=\"color:#000000\">, </span><a href=\"https://www.ncbi.nlm.nih.gov/pmc/articles/PMC6331450/\" style=\"text-decoration:none\"><span style=\"color:#1155cc\"><u>R</u></span></a><span style=\"color:#000000\">].</span></p>\r\n",
       "\r\n",
       "<p>&nbsp;</p>\r\n",
       "\r\n",
       "<p style=\"text-align:justify\"><span style=\"color:#000000\">La fatiga cr&oacute;nica puede afectar a todas las partes de su cuerpo y puede producir [</span><a href=\"https://my.clevelandclinic.org/health/symptoms/21206-fatigue\" style=\"text-decoration:none\"><span style=\"color:#1155cc\"><u>R</u></span></a><span style=\"color:#000000\">, </span><a href=\"https://www.nih.gov/mecfs/about-mecfs\" style=\"text-decoration:none\"><span style=\"color:#1155cc\"><u>R</u></span></a><span style=\"color:#000000\">, </span><a href=\"https://www.jci.org/articles/view/132185\" style=\"text-decoration:none\"><span style=\"color:#1155cc\"><u>R</u></span></a><span style=\"color:#000000\">]:</span></p>\r\n",
       "\r\n",
       "<ul>\r\n",
       "\t<li style=\"list-style-type:disc\"><span style=\"color:#000000\">Falta de sue&ntilde;o</span></li>\r\n",
       "\t<li style=\"list-style-type:disc\"><span style=\"color:#000000\">Niebla mental</span></li>\r\n",
       "\t<li style=\"list-style-type:disc\"><span style=\"color:#000000\">Debilidad</span></li>\r\n",
       "\t<li style=\"list-style-type:disc\"><span style=\"color:#000000\">Dolor</span></li>\r\n",
       "\t<li style=\"list-style-type:disc\"><span style=\"color:#000000\">Problemas intestinales</span></li>\r\n",
       "\t<li style=\"list-style-type:disc\"><span style=\"color:#000000\">S&iacute;ntomas similares a la gripe</span></li>\r\n",
       "</ul>\r\n",
       "\r\n",
       "<p>&nbsp;</p>\r\n",
       "\r\n",
       "<p style=\"text-align:justify\"><span style=\"color:#000000\">Desafortunadamente, no existen tratamientos est&aacute;ndar para la fatiga cr&oacute;nica. Muchas personas intentan controlar sus s&iacute;ntomas con m&eacute;todos alternativos [</span><a href=\"https://www.ncbi.nlm.nih.gov/pmc/articles/PMC6522773/\" style=\"text-decoration:none\"><span style=\"color:#1155cc\"><u>R</u></span></a><span style=\"color:#000000\">, </span><a href=\"https://www.jci.org/articles/view/132185\" style=\"text-decoration:none\"><span style=\"color:#1155cc\"><u>R</u></span></a><span style=\"color:#000000\">].</span></p>\r\n",
       "\r\n",
       "<p>&nbsp;</p>\r\n",
       "\r\n",
       "<p style=\"text-align:justify\"><span style=\"color:#000000\">La fatiga cr&oacute;nica parece ser hereditaria. </span><span style=\"color:#000000\"><strong>Hasta el 40% de las diferencias en las probabilidades de que las personas presenten fatiga cr&oacute;nica podr&iacute;an atribuirse a la gen&eacute;tica</strong></span><span style=\"color:#000000\"> [</span><a href=\"https://www.ncbi.nlm.nih.gov/pmc/articles/PMC2066085/\" style=\"text-decoration:none\"><span style=\"color:#1155cc\"><u>R</u></span></a><span style=\"color:#000000\">, </span><a href=\"https://pubmed.ncbi.nlm.nih.gov/28436347/\" style=\"text-decoration:none\"><span style=\"color:#1155cc\"><u>R</u></span></a><span style=\"color:#000000\">, </span><a href=\"https://www.ncbi.nlm.nih.gov/pmc/articles/PMC3128000/\" style=\"text-decoration:none\"><span style=\"color:#1155cc\"><u>R</u></span></a><span style=\"color:#000000\">, </span><a href=\"https://www.ncbi.nlm.nih.gov/pmc/articles/PMC7530519/\" style=\"text-decoration:none\"><span style=\"color:#1155cc\"><u>R</u></span></a><span style=\"color:#000000\">].</span></p>\r\n",
       "\r\n",
       "<p>&nbsp;</p>\r\n",
       "\r\n",
       "<p style=\"text-align:justify\"><span style=\"color:#000000\">Los genes que contribuyen a la fatiga tienden a influir en [</span><a href=\"https://www.ncbi.nlm.nih.gov/pmc/articles/PMC5947855/\" style=\"text-decoration:none\"><span style=\"color:#1155cc\"><u>R</u></span></a><span style=\"color:#000000\">]:</span></p>\r\n",
       "\r\n",
       "<ul>\r\n",
       "\t<li style=\"list-style-type:disc\"><span style=\"color:#000000\">El sistema inmunol&oacute;gico (</span><a href=\"https://selfdecode.com/gene/TNF/\" style=\"text-decoration:none\"><span style=\"color:#1155cc\"><em><u>TNF</u></em></span></a><span style=\"color:#000000\">, </span><a href=\"https://selfdecode.com/gene/IL1B/\" style=\"text-decoration:none\"><span style=\"color:#1155cc\"><em><u>IL1B</u></em></span></a><span style=\"color:#000000\">, </span><a href=\"https://selfdecode.com/gene/IL4/\" style=\"text-decoration:none\"><span style=\"color:#1155cc\"><em><u>IL4</u></em></span></a><span style=\"color:#000000\">, </span><a href=\"https://selfdecode.com/gene/IL6/\" style=\"text-decoration:none\"><span style=\"color:#1155cc\"><em><u>IL6</u></em></span></a><span style=\"color:#000000\">)</span></li>\r\n",
       "\t<li style=\"list-style-type:disc\"><span style=\"color:#000000\">La respuesta al estr&eacute;s (</span><a href=\"https://selfdecode.com/gene/NR3C1/\" style=\"text-decoration:none\"><span style=\"color:#1155cc\"><em><u>NR3C1</u></em></span></a><span style=\"color:#000000\">, </span><a href=\"https://selfdecode.com/gene/pomc/\" style=\"text-decoration:none\"><span style=\"color:#1155cc\"><em><u>POMC</u></em></span></a><span style=\"color:#000000\">)</span></li>\r\n",
       "\t<li style=\"list-style-type:disc\"><span style=\"color:#000000\">Los ciclos del sue&ntilde;o (</span><a href=\"https://selfdecode.com/gene/NPAS2/\" style=\"text-decoration:none\"><span style=\"color:#1155cc\"><em><u>NPAS2</u></em></span></a><span style=\"color:#000000\">)</span></li>\r\n",
       "\t<li style=\"list-style-type:disc\"><span style=\"color:#000000\">La qu&iacute;mica cerebral (</span><a href=\"https://selfdecode.com/gene/TPH2/\" style=\"text-decoration:none\"><span style=\"color:#1155cc\"><em><u>TPH2</u></em></span></a><span style=\"color:#000000\">, </span><a href=\"https://selfdecode.com/gene/GRIK2/\" style=\"text-decoration:none\"><span style=\"color:#1155cc\"><em><u>GRIK2</u></em></span></a><span style=\"color:#000000\">, </span><a href=\"https://selfdecode.com/gene/MAOA/\" style=\"text-decoration:none\"><span style=\"color:#1155cc\"><em><u>MAOA</u></em></span></a><span style=\"color:#000000\">, </span><a href=\"https://selfdecode.com/gene/MAOb/\" style=\"text-decoration:none\"><span style=\"color:#1155cc\"><em><u>MAOB</u></em></span></a><span style=\"color:#000000\">, </span><a href=\"https://selfdecode.com/gene/COMT/\" style=\"text-decoration:none\"><span style=\"color:#1155cc\"><em><u>COMT</u></em></span></a><span style=\"color:#000000\">)</span></li>\r\n",
       "</ul><br>\n",
       "<br>\n",
       "<h4>Recommendations</h4>"
      ],
      "text/plain": [
       "<IPython.core.display.HTML object>"
      ]
     },
     "metadata": {},
     "output_type": "display_data"
    },
    {
     "data": {
      "text/html": [
       "<h5>Optimizar las Horas de Sueño</h5>\n",
       "Intente obtener 7-8 horas de sueño de buena calidad todas las noches.<br>\n",
       "<table>\n",
       "<tr>\n",
       "<th>Type</th>\n",
       "<th>Effect</th>\n",
       "<th>Evidence</th>\n",
       "</tr>\n",
       "<tr>\n",
       "<td>lifestyle</td>\n",
       "<td>0.8</td>\n",
       "<td>1.0</td>\n",
       "</tr>\n",
       "</table>\n",
       "<p><span style=\"color:#000000\"><strong>El </strong></span><a href=\"https://selfhacked.com/blog/health-benefits-sleep/\" style=\"text-decoration:none\"><span style=\"color:#0000ff\"><strong><u>sue&ntilde;o</u></strong></span></a><span style=\"color:#000000\"><strong> ayuda a su cuerpo y mente</strong></span><span style=\"color:#000000\">. M&aacute;s precisamente, dormir ayuda a:</span></p>\r\n",
       "\r\n",
       "<ul>\r\n",
       "\t<li style=\"list-style-type:disc\"><span style=\"color:#000000\">Mejorar la salud del cerebro [</span><a href=\"https://www.ncbi.nlm.nih.gov/pmc/articles/PMC3880190/\" style=\"text-decoration:none\"><span style=\"color:#1155cc\"><u>R</u></span></a><span style=\"color:#000000\">, </span><a href=\"https://www.ncbi.nlm.nih.gov/pubmed/24136944/\" style=\"text-decoration:none\"><span style=\"color:#1155cc\"><u>R</u></span></a><span style=\"color:#000000\">]</span></li>\r\n",
       "\t<li style=\"list-style-type:disc\"><span style=\"color:#000000\">Mantener un peso y apetito saludables [</span><a href=\"https://www.ncbi.nlm.nih.gov/pubmed/24892893\" style=\"text-decoration:none\"><span style=\"color:#1155cc\"><u>R</u></span></a><span style=\"color:#000000\">, </span><a href=\"https://www.ncbi.nlm.nih.gov/pmc/articles/PMC4394987/\" style=\"text-decoration:none\"><span style=\"color:#1155cc\"><u>R</u></span></a><span style=\"color:#000000\">, </span><a href=\"https://www.ncbi.nlm.nih.gov/pmc/articles/PMC535701/\" style=\"text-decoration:none\"><span style=\"color:#1155cc\"><u>R</u></span></a><span style=\"color:#000000\">]</span></li>\r\n",
       "\t<li style=\"list-style-type:disc\"><span style=\"color:#000000\">Regular la presi&oacute;n arterial [</span><a href=\"https://www.ncbi.nlm.nih.gov/pubmed/16585410/\" style=\"text-decoration:none\"><span style=\"color:#1155cc\"><u>R</u></span></a><span style=\"color:#000000\">, </span><a href=\"https://www.ncbi.nlm.nih.gov/pmc/articles/PMC2845795/\" style=\"text-decoration:none\"><span style=\"color:#1155cc\"><u>R</u></span></a><span style=\"color:#000000\">]</span></li>\r\n",
       "\t<li style=\"list-style-type:disc\"><span style=\"color:#000000\">Equilibrar el az&uacute;car en la sangre [</span><a href=\"https://www.ncbi.nlm.nih.gov/pmc/articles/PMC3767932/\" style=\"text-decoration:none\"><span style=\"color:#1155cc\"><u>R</u></span></a><span style=\"color:#000000\">, </span><a href=\"https://www.ncbi.nlm.nih.gov/pmc/articles/PMC2927933/\" style=\"text-decoration:none\"><span style=\"color:#1155cc\"><u>R</u></span></a><span style=\"color:#000000\">]</span></li>\r\n",
       "</ul>\r\n",
       "\r\n",
       "<p>&nbsp;</p>\r\n",
       "\r\n",
       "<p><span style=\"color:#000000\">Las formas para dormir mejor incluyen [</span><a href=\"https://www.mayoclinic.org/healthy-lifestyle/adult-health/in-depth/sleep/art-20048379\" style=\"text-decoration:none\"><span style=\"color:#1155cc\"><u>R</u></span></a><span style=\"color:#000000\">]:</span></p>\r\n",
       "\r\n",
       "<ul>\r\n",
       "\t<li style=\"list-style-type:disc\"><span style=\"color:#000000\">Reducir la exposici&oacute;n a la luz brillante (tiempo de pantalla) por la noche</span></li>\r\n",
       "\t<li style=\"list-style-type:disc\"><span style=\"color:#000000\">Cumplir con un horario de sue&ntilde;o regular</span></li>\r\n",
       "\t<li style=\"list-style-type:disc\"><span style=\"color:#000000\">Evitar el hambre o las comidas abundantes antes de acostarse</span></li>\r\n",
       "\t<li style=\"list-style-type:disc\"><span style=\"color:#000000\">Evitar la nicotina, la cafe&iacute;na y el alcohol antes de acostarse</span></li>\r\n",
       "\t<li style=\"list-style-type:disc\"><span style=\"color:#000000\">Mantener el &aacute;rea para dormir fresca, oscura y silenciosa</span></li>\r\n",
       "</ul><br>\n"
      ],
      "text/plain": [
       "<IPython.core.display.HTML object>"
      ]
     },
     "metadata": {},
     "output_type": "display_data"
    },
    {
     "data": {
      "text/html": [
       "<h5>Psicoterapia</h5>\n",
       "Consulte con su médico sobre la psicoterapia<br>\n",
       "<table>\n",
       "<tr>\n",
       "<th>Type</th>\n",
       "<th>Effect</th>\n",
       "<th>Evidence</th>\n",
       "</tr>\n",
       "<tr>\n",
       "<td>lifestyle</td>\n",
       "<td>0.6</td>\n",
       "<td>0.8</td>\n",
       "</tr>\n",
       "</table>\n",
       "<p><span style=\"color:#000000\"><strong>La psicoterapia (terapia de conversaci&oacute;n) implica hablar sobre su salud con un terapeuta profesional</strong></span><span style=\"color:#000000\">. Puede ayudar a mejorar la forma en la que reacciona frente a determinadas experiencias [</span><a href=\"https://www.ncbi.nlm.nih.gov/pmc/articles/PMC6448000/\" style=\"text-decoration:none\"><span style=\"color:#1155cc\"><u>R</u></span></a><span style=\"color:#000000\">].</span></p>\r\n",
       "\r\n",
       "<p>&nbsp;</p>\r\n",
       "\r\n",
       "<p><span style=\"color:#000000\"><strong>La psicoterapia es una gran manera de mejorar muchas enfermedades, </strong></span><span style=\"color:#000000\">que incluyen [</span><a href=\"https://www.ncbi.nlm.nih.gov/pmc/articles/PMC6448000/\" style=\"text-decoration:none\"><span style=\"color:#1155cc\"><u>R</u></span></a><span style=\"color:#000000\">, </span><a href=\"https://www.ncbi.nlm.nih.gov/pmc/articles/PMC5509639/\" style=\"text-decoration:none\"><span style=\"color:#1155cc\"><u>R</u></span></a><span style=\"color:#000000\">, </span><a href=\"https://www.mayoclinic.org/tests-procedures/cognitive-behavioral-therapy/about/pac-20384610\" style=\"text-decoration:none\"><span style=\"color:#1155cc\"><u>R</u></span></a><span style=\"color:#000000\">, </span><a href=\"https://pubmed.ncbi.nlm.nih.gov/11349476/\" style=\"text-decoration:none\"><span style=\"color:#1155cc\"><u>R</u></span></a><span style=\"color:#000000\">, </span><a href=\"https://www.ncbi.nlm.nih.gov/pmc/articles/PMC3138396/\" style=\"text-decoration:none\"><span style=\"color:#1155cc\"><u>R</u></span></a><span style=\"color:#000000\">, </span><a href=\"https://www.ncbi.nlm.nih.gov/pmc/articles/PMC7028002/\" style=\"text-decoration:none\"><span style=\"color:#1155cc\"><u>R</u></span></a><span style=\"color:#000000\">]:</span></p>\r\n",
       "\r\n",
       "<ul>\r\n",
       "\t<li style=\"list-style-type:disc\"><span style=\"color:#000000\">Depresi&oacute;n</span></li>\r\n",
       "\t<li style=\"list-style-type:disc\"><span style=\"color:#000000\">Trastornos de ansiedad</span></li>\r\n",
       "\t<li style=\"list-style-type:disc\"><span style=\"color:#000000\">Trastorno de estr&eacute;s postraum&aacute;tico (TEPT)</span></li>\r\n",
       "\t<li style=\"list-style-type:disc\"><span style=\"color:#000000\">TOC</span></li>\r\n",
       "\t<li style=\"list-style-type:disc\"><span style=\"color:#000000\">Trastorno por abuso de sustancias</span></li>\r\n",
       "\t<li style=\"list-style-type:disc\"><span style=\"color:#000000\">Trastorno bipolar</span></li>\r\n",
       "\t<li style=\"list-style-type:disc\"><span style=\"color:#000000\">Fatiga cr&oacute;nica</span></li>\r\n",
       "</ul>\r\n",
       "\r\n",
       "<p><br />\r\n",
       "<span style=\"color:#000000\"><strong>La terapia cognitivo-conductual (TCC)</strong></span><span style=\"color:#000000\"> es un tipo de psicoterapia. La TCC tiene como objetivo cambiar la forma en la que piensa sobre su vida y sobre usted mismo. Mediante la TCC, un terapeuta puede ayudarlo a desarrollar estrategias de afrontamiento saludables [</span><a href=\"https://www.mayoclinic.org/tests-procedures/cognitive-behavioral-therapy/about/pac-20384610\" style=\"text-decoration:none\"><span style=\"color:#1155cc\"><u>R</u></span></a><span style=\"color:#000000\">].</span></p><br>\n"
      ],
      "text/plain": [
       "<IPython.core.display.HTML object>"
      ]
     },
     "metadata": {},
     "output_type": "display_data"
    },
    {
     "data": {
      "text/html": [
       "<h5>Identificar las Sensibilidades Alimentarias</h5>\n",
       "Converse con su médico sobre las sensibilidades alimentarias.<br>\n",
       "<table>\n",
       "<tr>\n",
       "<th>Type</th>\n",
       "<th>Effect</th>\n",
       "<th>Evidence</th>\n",
       "</tr>\n",
       "<tr>\n",
       "<td>dietary</td>\n",
       "<td>0.6</td>\n",
       "<td>0.6</td>\n",
       "</tr>\n",
       "</table>\n",
       "<p><span style=\"color:#000000\">La</span><span style=\"color:#000000\"><em> intolerancia alimentaria</em></span><span style=\"color:#000000\"> es una reacci&oacute;n no al&eacute;rgica que dificulta la digesti&oacute;n de ciertos alimentos. Por ejemplo, las personas con intolerancia a la lactosa no pueden digerir los l&aacute;cteos </span><a href=\"https://www.ncbi.nlm.nih.gov/pmc/articles/PMC3314037/\" style=\"text-decoration:none\"><span style=\"color:#000000\">[</span></a><a href=\"https://www.mayoclinic.org/diseases-conditions/food-allergy/expert-answers/food-allergy/faq-20058538\" style=\"text-decoration:none\"><span style=\"color:#1155cc\"><u>R</u></span></a><span style=\"color:#000000\">].&nbsp;</span></p>\r\n",
       "\r\n",
       "<p>&nbsp;</p>\r\n",
       "\r\n",
       "<p><span style=\"color:#000000\">La </span><span style=\"color:#000000\"><em>sensibilidad alimentaria</em></span><span style=\"color:#000000\"> es similar a la intolerancia alimentaria. Sin embargo, la causa puede ser m&aacute;s dif&iacute;cil de identificar [</span><a href=\"https://www.ncbi.nlm.nih.gov/pmc/articles/PMC3314037/\" style=\"text-decoration:none\"><span style=\"color:#1155cc\"><u>R</u></span></a><span style=\"color:#000000\">, </span><a href=\"https://pubmed.ncbi.nlm.nih.gov/31904770/\" style=\"text-decoration:none\"><span style=\"color:#1155cc\"><u>R</u></span></a><span style=\"color:#000000\">].</span></p>\r\n",
       "\r\n",
       "<p>&nbsp;</p>\r\n",
       "\r\n",
       "<p><span style=\"color:#000000\">Las personas con sensibilidad alimentaria pueden tener s&iacute;ntomas que van desde problemas intestinales hasta migra&ntilde;as [</span><a href=\"https://pubmed.ncbi.nlm.nih.gov/28592442/\" style=\"text-decoration:none\"><span style=\"color:#1155cc\"><u>R</u></span></a><span style=\"color:#000000\">, </span><a href=\"https://www.ncbi.nlm.nih.gov/pmc/articles/PMC3857910/\" style=\"text-decoration:none\"><span style=\"color:#1155cc\"><u>R</u></span></a><span style=\"color:#000000\">, </span><a href=\"https://pubmed.ncbi.nlm.nih.gov/31456119/\" style=\"text-decoration:none\"><span style=\"color:#1155cc\"><u>R</u></span></a><span style=\"color:#000000\">].</span></p>\r\n",
       "\r\n",
       "<p>&nbsp;</p><br>\n"
      ],
      "text/plain": [
       "<IPython.core.display.HTML object>"
      ]
     },
     "metadata": {},
     "output_type": "display_data"
    },
    {
     "data": {
      "text/html": [
       "<h5>Hierro</h5>\n",
       "Considere tomar suplementos con hierro en caso de deficiencia.<br>\n",
       "<table>\n",
       "<tr>\n",
       "<th>Type</th>\n",
       "<th>Effect</th>\n",
       "<th>Evidence</th>\n",
       "</tr>\n",
       "<tr>\n",
       "<td>supplement</td>\n",
       "<td>0.6</td>\n",
       "<td>0.6</td>\n",
       "</tr>\n",
       "</table>\n",
       "<p><span style=\"color:#000000\">El </span><a href=\"https://selfhacked.com/blog/iron-balance-blood-test-iron-deficiency-anemia-overload/\" style=\"text-decoration:none\"><span style=\"color:#1155cc\"><strong><u>hierro </u></strong></span></a><span style=\"color:#000000\">(Fe) es un mineral esencial. Ayuda a producir </span><a href=\"https://selfhacked.com/blog/hemoglobin-good-bad-lab-tests-normal-values-reference-ranges/\" style=\"text-decoration:none\"><span style=\"color:#1155cc\"><u>hemoglobina</u></span></a><span style=\"color:#000000\">, una prote&iacute;na que transporta ox&iacute;geno a las c&eacute;lulas. De esta forma, el hierro </span><span style=\"color:#000000\"><strong>aumenta la energ&iacute;a</strong></span><span style=\"color:#000000\"> y promueve la </span><span style=\"color:#000000\"><strong>funci&oacute;n cerebral y del sistema inmunol&oacute;gico</strong></span><span style=\"color:#000000\"> [</span><a href=\"https://www.ncbi.nlm.nih.gov/pmc/articles/PMC3999603/\" style=\"text-decoration:none\"><span style=\"color:#1155cc\"><u>R</u></span></a><span style=\"color:#000000\">, </span><a href=\"https://www.ncbi.nlm.nih.gov/pmc/articles/PMC4086762/\" style=\"text-decoration:none\"><span style=\"color:#1155cc\"><u>R</u></span></a><span style=\"color:#000000\">, </span><a href=\"https://www.ncbi.nlm.nih.gov/books/NBK540969/\" style=\"text-decoration:none\"><span style=\"color:#1155cc\"><u>R</u></span></a><span style=\"color:#000000\">].</span></p>\r\n",
       "\r\n",
       "<p>&nbsp;</p>\r\n",
       "\r\n",
       "<p><span style=\"color:#000000\">Los alimentos ricos en hierro incluyen [</span><a href=\"https://ods.od.nih.gov/factsheets/Iron-HealthProfessional/\" style=\"text-decoration:none\"><span style=\"color:#1155cc\"><u>R</u></span></a><span style=\"color:#000000\">]:</span></p>\r\n",
       "\r\n",
       "<ul>\r\n",
       "\t<li style=\"list-style-type:disc\"><span style=\"color:#000000\">Ostras</span></li>\r\n",
       "\t<li style=\"list-style-type:disc\"><span style=\"color:#000000\">Frijoles blancos</span></li>\r\n",
       "\t<li style=\"list-style-type:disc\"><span style=\"color:#000000\">Chocolate</span></li>\r\n",
       "\t<li style=\"list-style-type:disc\"><span style=\"color:#000000\">Espinaca</span></li>\r\n",
       "\t<li style=\"list-style-type:disc\"><span style=\"color:#000000\">Cereal fortificado</span></li>\r\n",
       "</ul>\r\n",
       "\r\n",
       "<p>&nbsp;</p>\r\n",
       "\r\n",
       "<p><span style=\"color:#000000\">Las </span><span style=\"color:#000000\"><strong>mujeres </strong></span><span style=\"color:#000000\">deben consumir </span><span style=\"color:#000000\"><strong>8-18 mg</strong></span><span style=\"color:#000000\"> de hierro por d&iacute;a, mientras que los </span><span style=\"color:#000000\"><strong>hombres</strong></span><span style=\"color:#000000\"> deben consumir </span><span style=\"color:#000000\"><strong>8 mg</strong></span><span style=\"color:#000000\"> [</span><a href=\"https://ods.od.nih.gov/factsheets/Iron-HealthProfessional/\" style=\"text-decoration:none\"><span style=\"color:#1155cc\"><u>R</u></span></a><span style=\"color:#000000\">].</span></p>\r\n",
       "\r\n",
       "<p>&nbsp;</p>\r\n",
       "\r\n",
       "<p><span style=\"color:#000000\">Los grupos en riesgo de d&eacute;ficit de hierro incluyen [</span><a href=\"https://www.mayoclinic.org/diseases-conditions/iron-deficiency-anemia/symptoms-causes/syc-20355034\" style=\"text-decoration:none\"><span style=\"color:#1155cc\"><u>R</u></span></a><span style=\"color:#000000\">]:</span></p>\r\n",
       "\r\n",
       "<ul>\r\n",
       "\t<li style=\"list-style-type:disc\"><span style=\"color:#000000\">Mujeres</span></li>\r\n",
       "\t<li style=\"list-style-type:disc\"><span style=\"color:#000000\">Ni&ntilde;os</span></li>\r\n",
       "\t<li style=\"list-style-type:disc\"><span style=\"color:#000000\">Vegetarianos</span></li>\r\n",
       "\t<li style=\"list-style-type:disc\"><span style=\"color:#000000\">Donantes de sangre regulares</span></li>\r\n",
       "</ul><br>\n"
      ],
      "text/plain": [
       "<IPython.core.display.HTML object>"
      ]
     },
     "metadata": {},
     "output_type": "display_data"
    },
    {
     "data": {
      "text/html": [
       "<h5>Mantenerse Hidratado</h5>\n",
       "Beba alrededor de 8 vasos de agua (8 oz.) al día.<br>\n",
       "<table>\n",
       "<tr>\n",
       "<th>Type</th>\n",
       "<th>Effect</th>\n",
       "<th>Evidence</th>\n",
       "</tr>\n",
       "<tr>\n",
       "<td>dietary</td>\n",
       "<td>0.6</td>\n",
       "<td>0.6</td>\n",
       "</tr>\n",
       "</table>\n",
       "<p><span style=\"color:#000000\"><strong>El agua es esencial para la vida. Mantiene casi todos los procesos de su cuerpo </strong></span><span style=\"color:#000000\">[</span><a href=\"https://www.mayoclinic.org/healthy-lifestyle/nutrition-and-healthy-eating/in-depth/water/art-20044256\" style=\"text-decoration:none\"><span style=\"color:#1155cc\"><u>R</u></span></a><span style=\"color:#000000\">].&nbsp;</span></p>\r\n",
       "\r\n",
       "<p>&nbsp;</p>\r\n",
       "\r\n",
       "<p><span style=\"color:#000000\">M&aacute;s espec&iacute;ficamente, ayuda a mantener [</span><a href=\"https://www.ncbi.nlm.nih.gov/pmc/articles/PMC2908954/\" style=\"text-decoration:none\"><span style=\"color:#1155cc\"><u>R</u></span></a><span style=\"color:#000000\">]:</span></p>\r\n",
       "\r\n",
       "<ul>\r\n",
       "\t<li style=\"list-style-type:disc\"><span style=\"color:#000000\">Niveles de energ&iacute;a y rendimiento</span></li>\r\n",
       "\t<li style=\"list-style-type:disc\"><span style=\"color:#000000\">Funci&oacute;n cerebral</span></li>\r\n",
       "\t<li style=\"list-style-type:disc\"><span style=\"color:#000000\">Funci&oacute;n intestinal</span></li>\r\n",
       "\t<li style=\"list-style-type:disc\"><span style=\"color:#000000\">Peso saludable</span></li>\r\n",
       "</ul>\r\n",
       "\r\n",
       "<p>&nbsp;</p>\r\n",
       "\r\n",
       "<p><span style=\"color:#000000\">La mayor&iacute;a de los expertos recomiendan beber </span><span style=\"color:#000000\"><strong>alrededor de 8 vasos de agua (8 oz) al d&iacute;a</strong></span><span style=\"color:#000000\">. Es posible que necesite m&aacute;s o menos que esto, dependiendo de qu&eacute; tan activo sea, d&oacute;nde viva o c&oacute;mo sea su salud en general&nbsp; [</span><a href=\"https://www.mayoclinic.org/healthy-lifestyle/nutrition-and-healthy-eating/in-depth/water/art-20044256\" style=\"text-decoration:none\"><span style=\"color:#1155cc\"><u>R</u></span></a><span style=\"color:#000000\">].&nbsp;</span></p>\r\n",
       "\r\n",
       "<p>&nbsp;</p><br>\n"
      ],
      "text/plain": [
       "<IPython.core.display.HTML object>"
      ]
     },
     "metadata": {},
     "output_type": "display_data"
    },
    {
     "data": {
      "text/html": [
       "<h5>Creatina</h5>\n",
       "Considere tomar suplementos con creatina.<br>\n",
       "<table>\n",
       "<tr>\n",
       "<th>Type</th>\n",
       "<th>Effect</th>\n",
       "<th>Evidence</th>\n",
       "</tr>\n",
       "<tr>\n",
       "<td>supplement</td>\n",
       "<td>0.6</td>\n",
       "<td>0.6</td>\n",
       "</tr>\n",
       "</table>\n",
       "<p><span style=\"color:#000000\">La </span><a href=\"https://selfhacked.com/blog/creatine/\" style=\"text-decoration:none\"><span style=\"color:#1155cc\"><u>creatina </u></span></a><span style=\"color:#000000\">es un compuesto producido naturalmente por el cuerpo. Se almacena en los m&uacute;sculos y el cerebro [</span><a href=\"https://www.mayoclinic.org/drugs-supplements-creatine/art-20347591\" style=\"text-decoration:none\"><span style=\"color:#1155cc\"><u>R</u></span></a><span style=\"color:#000000\">].&nbsp;</span></p>\r\n",
       "\r\n",
       "<p>&nbsp;</p>\r\n",
       "\r\n",
       "<p><span style=\"color:#000000\">Mientras hace ejercicio, se libera creatina para mejorar el rendimiento y ayudar a desarrollar m&uacute;sculos. Por este motivo, es un suplemento popular entre los deportistas [</span><a href=\"https://www.ncbi.nlm.nih.gov/pmc/articles/PMC3963244/\" style=\"text-decoration:none\"><span style=\"color:#1155cc\"><u>R</u></span></a><span style=\"color:#000000\">, </span><a href=\"https://pubmed.ncbi.nlm.nih.gov/11356982/\" style=\"text-decoration:none\"><span style=\"color:#1155cc\"><u>R</u></span></a><span style=\"color:#000000\">].</span></p>\r\n",
       "\r\n",
       "<p>&nbsp;</p>\r\n",
       "\r\n",
       "<p><span style=\"color:#000000\">Las fuentes de creatina incluyen [</span><a href=\"https://www.mayoclinic.org/drugs-supplements-creatine/art-20347591\" style=\"text-decoration:none\"><span style=\"color:#1155cc\"><u>R</u></span></a><span style=\"color:#000000\">]:</span></p>\r\n",
       "\r\n",
       "<ul>\r\n",
       "\t<li style=\"list-style-type:disc\"><span style=\"color:#000000\">Carnes rojas</span></li>\r\n",
       "\t<li style=\"list-style-type:disc\"><span style=\"color:#000000\">Mariscos</span></li>\r\n",
       "\t<li style=\"list-style-type:disc\"><span style=\"color:#000000\">Suplementos</span></li>\r\n",
       "</ul><br>\n"
      ],
      "text/plain": [
       "<IPython.core.display.HTML object>"
      ]
     },
     "metadata": {},
     "output_type": "display_data"
    },
    {
     "data": {
      "text/html": [
       "<h5>L-Carnitina</h5>\n",
       "Considere tomar suplementos con L-carnitina.<br>\n",
       "<table>\n",
       "<tr>\n",
       "<th>Type</th>\n",
       "<th>Effect</th>\n",
       "<th>Evidence</th>\n",
       "</tr>\n",
       "<tr>\n",
       "<td>supplement</td>\n",
       "<td>0.4</td>\n",
       "<td>0.6</td>\n",
       "</tr>\n",
       "</table>\n",
       "<p><span style=\"color:#000000\"><strong>La </strong></span><span style=\"color:#1155cc\"><strong><u>L-carnitina</u></strong></span><span style=\"color:#000000\"><strong> es un compuesto que le ayuda a quemar grasa</strong></span><span style=\"color:#000000\">. Tambi&eacute;n previene que se acumulen sustancias t&oacute;xicas en las c&eacute;lulas [</span><a href=\"https://ods.od.nih.gov/factsheets/Carnitine-HealthProfessional/\" style=\"text-decoration:none\"><span style=\"color:#1155cc\"><u>R</u></span></a><span style=\"color:#000000\">].</span></p>\r\n",
       "\r\n",
       "<p>&nbsp;</p>\r\n",
       "\r\n",
       "<p><span style=\"color:#000000\">Por lo general, su cuerpo puede producir suficiente carnitina para satisfacer sus necesidades. Tambi&eacute;n se puede obtener de la </span><span style=\"color:#000000\"><strong>carne y los productos l&aacute;cteos</strong></span><span style=\"color:#000000\"> [</span><a href=\"https://ods.od.nih.gov/factsheets/Carnitine-HealthProfessional/\" style=\"text-decoration:none\"><span style=\"color:#1155cc\"><u>R</u></span></a><span style=\"color:#000000\">].</span></p>\r\n",
       "\r\n",
       "<p>&nbsp;</p><br>\n"
      ],
      "text/plain": [
       "<IPython.core.display.HTML object>"
      ]
     },
     "metadata": {},
     "output_type": "display_data"
    },
    {
     "data": {
      "text/html": [
       "<h5>Cacao</h5>\n",
       "Agregue más cacao a sus alimentos y bebidas.<br>\n",
       "<table>\n",
       "<tr>\n",
       "<th>Type</th>\n",
       "<th>Effect</th>\n",
       "<th>Evidence</th>\n",
       "</tr>\n",
       "<tr>\n",
       "<td>dietary</td>\n",
       "<td>0.4</td>\n",
       "<td>0.4</td>\n",
       "</tr>\n",
       "</table>\n",
       "<p><span style=\"color:#000000\">El </span><a href=\"https://selfhacked.com/blog/chocolate-health-benefits/\" style=\"text-decoration:none\"><span style=\"color:#1155cc\"><u>cacao </u></span></a><span style=\"color:#000000\">proviene de los granos del &aacute;rbol del cacao (</span><span style=\"color:#000000\"><em>Theobroma cacao)</em></span><span style=\"color:#000000\">. Por lo general se utiliza para preparar chocolate, chocolate caliente o a la taza y pasteles. Las personas tambi&eacute;n lo han utilizado como medicina natural durante m&aacute;s de mil a&ntilde;os [</span><a href=\"https://www.ncbi.nlm.nih.gov/pmc/articles/PMC4696435/\" style=\"text-decoration:none\"><span style=\"color:#1155cc\"><u>R</u></span></a><span style=\"color:#000000\">, </span><a href=\"https://www.ncbi.nlm.nih.gov/pubmed/10917925\" style=\"text-decoration:none\"><span style=\"color:#1155cc\"><u>R</u></span></a><span style=\"color:#000000\">].</span></p>\r\n",
       "\r\n",
       "<p>&nbsp;</p>\r\n",
       "\r\n",
       "<p><span style=\"color:#000000\">El cacao contiene flavanoles y otros componentes activos que pueden ayudar a [</span><a href=\"https://www.ncbi.nlm.nih.gov/pubmed/10917925\" style=\"text-decoration:none\"><span style=\"color:#1155cc\"><u>R</u></span></a><span style=\"color:#000000\">, </span><a href=\"https://www.ncbi.nlm.nih.gov/pmc/articles/PMC4696435/\" style=\"text-decoration:none\"><span style=\"color:#1155cc\"><u>R</u></span></a><span style=\"color:#000000\">, </span><a href=\"https://www.ncbi.nlm.nih.gov/pmc/articles/PMC3820066/\" style=\"text-decoration:none\"><span style=\"color:#1155cc\"><u>R</u></span></a><span style=\"color:#000000\">, </span><a href=\"https://pubmed.ncbi.nlm.nih.gov/25646334/\" style=\"text-decoration:none\"><span style=\"color:#1155cc\"><u>R</u></span></a><span style=\"color:#000000\">]:</span></p>\r\n",
       "\r\n",
       "<ul>\r\n",
       "\t<li style=\"list-style-type:disc\"><span style=\"color:#000000\">Controlar el peso</span></li>\r\n",
       "\t<li style=\"list-style-type:disc\"><span style=\"color:#000000\">Reducir la fatiga</span></li>\r\n",
       "\t<li style=\"list-style-type:disc\"><span style=\"color:#000000\">Mejorar el estado de &aacute;nimo</span></li>\r\n",
       "\t<li style=\"list-style-type:disc\"><span style=\"color:#000000\">Mejorar la digesti&oacute;n</span></li>\r\n",
       "\t<li style=\"list-style-type:disc\"><span style=\"color:#000000\">Equilibrar el az&uacute;car en la sangre</span></li>\r\n",
       "\t<li style=\"list-style-type:disc\"><span style=\"color:#000000\">Promover la salud del coraz&oacute;n</span></li>\r\n",
       "</ul><br>\n"
      ],
      "text/plain": [
       "<IPython.core.display.HTML object>"
      ]
     },
     "metadata": {},
     "output_type": "display_data"
    },
    {
     "data": {
      "text/html": [
       "<h5>Ingesta Suficiente de Calorías</h5>\n",
       "Consuma una cantidad suficiente de calorías todos los días.<br>\n",
       "<table>\n",
       "<tr>\n",
       "<th>Type</th>\n",
       "<th>Effect</th>\n",
       "<th>Evidence</th>\n",
       "</tr>\n",
       "<tr>\n",
       "<td>dietary</td>\n",
       "<td>0.4</td>\n",
       "<td>0.4</td>\n",
       "</tr>\n",
       "</table>\n",
       "<p><span style=\"color:#000000\"><strong>Las calor&iacute;as miden la cantidad de energ&iacute;a suministrada por los alimentos</strong></span><span style=\"color:#000000\">. Su cuerpo necesita de esta energ&iacute;a para mantener todas sus funciones [</span><a href=\"https://www.mayoclinic.org/healthy-lifestyle/weight-loss/in-depth/calories/art-20048065\" style=\"text-decoration:none\"><span style=\"color:#1155cc\"><u>R</u></span></a><span style=\"color:#000000\">].&nbsp;</span></p>\r\n",
       "\r\n",
       "<p>&nbsp;</p>\r\n",
       "\r\n",
       "<p><span style=\"color:#000000\"><strong>Usted obtiene calor&iacute;as al comer alimentos ricos en carbohidratos, grasas y prote&iacute;nas.</strong></span><span style=\"color:#000000\"> Estas calor&iacute;as pueden ser utilizadas para obtener energ&iacute;a o almacenar como grasa. La grasa se utiliza para obtener energ&iacute;a durante un d&eacute;ficit cal&oacute;rico. Esto podr&iacute;a ocurrir cuando hay una ingesta baja de calor&iacute;as o cuando se pierden calor&iacute;as al ejercitarse [</span><a href=\"https://www.mayoclinic.org/healthy-lifestyle/weight-loss/in-depth/calories/art-20048065\" style=\"text-decoration:none\"><span style=\"color:#1155cc\"><u>R</u></span></a><span style=\"color:#000000\">].</span></p>\r\n",
       "\r\n",
       "<p>&nbsp;</p>\r\n",
       "\r\n",
       "<p><span style=\"color:#000000\"><strong>El adulto promedio necesita 30-40 calor&iacute;as por kilogramo de peso corporal para tener suficiente energ&iacute;a para todo el d&iacute;a. </strong></span><span style=\"color:#000000\">Las necesidades exactas pueden variar ampliamente seg&uacute;n la edad, el sexo y la actividad f&iacute;sica. No comer suficientes calor&iacute;as puede resultar en [</span><a href=\"https://www.ncbi.nlm.nih.gov/books/NBK234938/\" style=\"text-decoration:none\"><span style=\"color:#1155cc\"><u>R</u></span></a><span style=\"color:#000000\">, </span><a href=\"https://www.ncbi.nlm.nih.gov/pmc/articles/PMC7071235/#B38-nutrients-12-00444\" style=\"text-decoration:none\"><span style=\"color:#1155cc\"><u>R</u></span></a><span style=\"color:#000000\">, </span><a href=\"https://pubmed.ncbi.nlm.nih.gov/31963141/\" style=\"text-decoration:none\"><span style=\"color:#1155cc\"><u>R,</u></span></a><span style=\"color:#000000\"> </span><a href=\"https://pubmed.ncbi.nlm.nih.gov/24965512/\" style=\"text-decoration:none\"><span style=\"color:#1155cc\"><u>R</u></span></a><span style=\"color:#000000\">]:</span></p>\r\n",
       "\r\n",
       "<ul>\r\n",
       "\t<li style=\"list-style-type:disc\"><span style=\"color:#000000\">P&eacute;rdida de peso</span></li>\r\n",
       "\t<li style=\"list-style-type:disc\"><a href=\"https://www.selfhacked.com/blog/nutrient-deficiencies/\" style=\"text-decoration:none\"><span style=\"color:#1155cc\"><u>Deficiencia de nutrientes</u></span></a></li>\r\n",
       "\t<li style=\"list-style-type:disc\"><span style=\"color:#000000\">Fatiga</span></li>\r\n",
       "</ul><br>\n"
      ],
      "text/plain": [
       "<IPython.core.display.HTML object>"
      ]
     },
     "metadata": {},
     "output_type": "display_data"
    },
    {
     "data": {
      "text/html": [
       "<h5>Rhodiola</h5>\n",
       "Considere tomar suplementos con rhodiola.<br>\n",
       "<table>\n",
       "<tr>\n",
       "<th>Type</th>\n",
       "<th>Effect</th>\n",
       "<th>Evidence</th>\n",
       "</tr>\n",
       "<tr>\n",
       "<td>supplement</td>\n",
       "<td>0.4</td>\n",
       "<td>0.4</td>\n",
       "</tr>\n",
       "</table>\n",
       "<p><span style=\"color:#000000\">La</span><span style=\"color:#000000\"><strong> </strong></span><a href=\"https://selfhacked.com/blog/rhodiola/\" style=\"text-decoration:none\"><span style=\"color:#1155cc\"><strong><u>rhodiola</u></strong></span><span style=\"color:#1155cc\"><u> </u></span></a><span style=\"color:#000000\">(</span><span style=\"color:#000000\"><em>Rhodiola rosea</em></span><span style=\"color:#000000\">) es una planta que crece en las monta&ntilde;as de Europa oriental y Asia [</span><a href=\"https://pubmed.ncbi.nlm.nih.gov/20378318/\" style=\"text-decoration:none\"><span style=\"color:#1155cc\"><u>R</u></span></a><span style=\"color:#000000\">].</span></p>\r\n",
       "\r\n",
       "<p>&nbsp;</p>\r\n",
       "\r\n",
       "<p><span style=\"color:#000000\"><strong>La rhodiola es un </strong></span><span style=\"color:#000000\"><strong><em>adapt&oacute;geno</em></strong></span><span style=\"color:#000000\"><strong>, lo que significa que puede ayudarlo a adaptarse al estr&eacute;s.</strong></span><span style=\"color:#000000\"> Seg&uacute;n investigaciones iniciales, esta hierba podr&iacute;a ayudar con [</span><a href=\"https://www.ncbi.nlm.nih.gov/pmc/articles/PMC3991026/\" style=\"text-decoration:none\"><span style=\"color:#1155cc\"><u>R</u></span></a><span style=\"color:#000000\">, </span><a href=\"https://pubmed.ncbi.nlm.nih.gov/11081987/\" style=\"text-decoration:none\"><span style=\"color:#1155cc\"><u>R</u></span></a><span style=\"color:#000000\">, </span><a href=\"https://www.ncbi.nlm.nih.gov/pmc/articles/PMC5370380/\" style=\"text-decoration:none\"><span style=\"color:#1155cc\"><u>R</u></span></a><span style=\"color:#000000\">, </span><a href=\"https://pubmed.ncbi.nlm.nih.gov/27013349/\" style=\"text-decoration:none\"><span style=\"color:#1155cc\"><u>R</u></span></a><span style=\"color:#000000\">]:</span></p>\r\n",
       "\r\n",
       "<ul>\r\n",
       "\t<li style=\"list-style-type:disc\"><span style=\"color:#000000\">Fatiga</span></li>\r\n",
       "\t<li style=\"list-style-type:disc\"><span style=\"color:#000000\">Burnout o desgaste laboral</span></li>\r\n",
       "\t<li style=\"list-style-type:disc\"><span style=\"color:#000000\">Bajo estado de &aacute;nimo</span></li>\r\n",
       "</ul><br>\n"
      ],
      "text/plain": [
       "<IPython.core.display.HTML object>"
      ]
     },
     "metadata": {},
     "output_type": "display_data"
    },
    {
     "data": {
      "text/html": [
       "<h5>Ejercicio</h5>\n",
       "Realice ejercicio con regularidad.<br>\n",
       "<table>\n",
       "<tr>\n",
       "<th>Type</th>\n",
       "<th>Effect</th>\n",
       "<th>Evidence</th>\n",
       "</tr>\n",
       "<tr>\n",
       "<td>lifestyle</td>\n",
       "<td>0.8</td>\n",
       "<td>1.0</td>\n",
       "</tr>\n",
       "</table>\n",
       "<p style=\"text-align:justify\"><span style=\"color:#000000\"><strong>El </strong></span><a href=\"https://selfhacked.com/blog/top-14-proven-health-benefits-exercise-references-mechanisms/\" style=\"text-decoration:none\"><span style=\"color:#0000ff\"><strong><u>ejercicio</u></strong></span></a><span style=\"color:#000000\"><strong> puede hacer maravillas por su salud</strong></span><span style=\"color:#000000\">. Puede ayudarlo a perder peso, optimizar la salud de su coraz&oacute;n, mejorar su estado de &aacute;nimo y m&aacute;s [</span><a href=\"https://medlineplus.gov/benefitsofexercise.html\" style=\"text-decoration:none\"><span style=\"color:#1155cc\"><u>R</u></span></a><span style=\"color:#000000\">].</span></p>\r\n",
       "\r\n",
       "<p>&nbsp;</p>\r\n",
       "\r\n",
       "<p style=\"text-align:justify\"><span style=\"color:#000000\">Existen diversas maneras de mantenerse activo. Puede caminar, correr, nadar, bailar o practicar deportes en equipo</span><span style=\"color:#000000\"><strong> &iexcl;Todo cuenta y nunca es tarde para empezar!</strong></span></p>\r\n",
       "\r\n",
       "<p>&nbsp;</p>\r\n",
       "\r\n",
       "<p style=\"text-align:justify\"><span style=\"color:#000000\">Trate de combinar rutinas de cardio (al menos 150 min/semana) y de entrenamiento de fuerza (2 veces/semana) [</span><a href=\"https://health.gov/sites/default/files/2019-09/Physical_Activity_Guidelines_2nd_edition.pdf#page=56\" style=\"text-decoration:none\"><span style=\"color:#1155cc\"><u>R</u></span></a><span style=\"color:#000000\">].</span></p>\r\n",
       "\r\n",
       "<p>&nbsp;</p><br>\n"
      ],
      "text/plain": [
       "<IPython.core.display.HTML object>"
      ]
     },
     "metadata": {},
     "output_type": "display_data"
    },
    {
     "data": {
      "text/html": [
       "<h5>Técnicas de Relajación</h5>\n",
       "Practique técnicas de relajación.<br>\n",
       "<table>\n",
       "<tr>\n",
       "<th>Type</th>\n",
       "<th>Effect</th>\n",
       "<th>Evidence</th>\n",
       "</tr>\n",
       "<tr>\n",
       "<td>lifestyle</td>\n",
       "<td>0.8</td>\n",
       "<td>0.8</td>\n",
       "</tr>\n",
       "</table>\n",
       "<p style=\"text-align:justify\"><span style=\"color:#000000\"><strong>Todos nos estresamos de vez en cuando.</strong></span></p>\r\n",
       "\r\n",
       "<p>&nbsp;</p>\r\n",
       "\r\n",
       "<p style=\"text-align:justify\"><span style=\"color:#000000\">El </span><a href=\"https://selfhacked.com/blog/63-factors-raising-stress-cortisol-level-backed-science/\" style=\"text-decoration:none\"><span style=\"color:#1155cc\"><u>estr&eacute;s</u></span></a><span style=\"color:#000000\"> tiene un lado positivo &mdash; puede ayudarlo a lidiar con un desaf&iacute;o o evitar el peligro.</span></p>\r\n",
       "\r\n",
       "<p style=\"text-align:justify\"><span style=\"color:#000000\">Sin embargo,</span><span style=\"color:#000000\"><strong> no es saludable estar estresado durante mucho tiempo </strong></span><span style=\"color:#000000\">[</span><a href=\"https://www.ncbi.nlm.nih.gov/books/NBK541120/\" style=\"text-decoration:none\"><span style=\"color:#1155cc\"><u>R</u></span></a><span style=\"color:#000000\">, </span><a href=\"https://www.ncbi.nlm.nih.gov/pmc/articles/PMC2568977/\" style=\"text-decoration:none\"><span style=\"color:#1155cc\"><u>R</u></span></a><span style=\"color:#000000\">].</span></p>\r\n",
       "\r\n",
       "<p>&nbsp;</p>\r\n",
       "\r\n",
       "<p style=\"text-align:justify\"><span style=\"color:#000000\"><strong>Las t&eacute;cnicas de relajaci&oacute;n, como el </strong></span><a href=\"https://selfhacked.com/blog/health-benefits-yoga/\" style=\"text-decoration:none\"><span style=\"color:#1155cc\"><strong><u>yoga</u></strong></span></a><span style=\"color:#000000\"><strong> y la meditaci&oacute;n, pueden aliviar el estr&eacute;s de diferentes formas.</strong></span><span style=\"color:#000000\"> La mayor&iacute;a de ellas se centran en respirar y ayudan a deshacerse de los pensamientos y emociones negativas [</span><a href=\"https://www.mayoclinic.org/healthy-lifestyle/stress-management/in-depth/relaxation-technique/art-20045368\" style=\"text-decoration:none\"><span style=\"color:#1155cc\"><u>R</u></span></a><span style=\"color:#000000\">, </span><a href=\"https://www.mayoclinic.org/healthy-lifestyle/consumer-health/in-depth/mindfulness-exercises/art-20046356\" style=\"text-decoration:none\"><span style=\"color:#1155cc\"><u>R</u></span></a><span style=\"color:#000000\">].</span></p>\r\n",
       "\r\n",
       "<p>&nbsp;</p>\r\n",
       "\r\n",
       "<p style=\"text-align:justify\"><span style=\"color:#000000\">Las personas usan t&eacute;cnicas de relajaci&oacute;n para mejorar enfermedades como [</span><a href=\"https://www.ncbi.nlm.nih.gov/books/NBK513238/\" style=\"text-decoration:none\"><span style=\"color:#1155cc\"><u>R</u></span></a><span style=\"color:#000000\">, </span><a href=\"https://www.mayoclinic.org/healthy-lifestyle/consumer-health/in-depth/mindfulness-exercises/art-20046356\" style=\"text-decoration:none\"><span style=\"color:#1155cc\"><u>R</u></span></a><span style=\"color:#000000\">, </span><a href=\"https://pubmed.ncbi.nlm.nih.gov/32406186/\" style=\"text-decoration:none\"><span style=\"color:#1155cc\"><u>R</u></span></a><span style=\"color:#000000\">, </span><a href=\"https://www.ncbi.nlm.nih.gov/pmc/articles/PMC3469207/\" style=\"text-decoration:none\"><span style=\"color:#1155cc\"><u>R</u></span></a><span style=\"color:#000000\">]:</span></p>\r\n",
       "\r\n",
       "<ul>\r\n",
       "\t<li style=\"list-style-type:disc\"><span style=\"color:#000000\">Ansiedad&nbsp;</span></li>\r\n",
       "\t<li style=\"list-style-type:disc\"><span style=\"color:#000000\">Depresi&oacute;n&nbsp;</span></li>\r\n",
       "\t<li style=\"list-style-type:disc\"><span style=\"color:#000000\">Dolor cr&oacute;nico</span></li>\r\n",
       "\t<li style=\"list-style-type:disc\"><span style=\"color:#000000\">Fatiga</span></li>\r\n",
       "</ul><br>\n"
      ],
      "text/plain": [
       "<IPython.core.display.HTML object>"
      ]
     },
     "metadata": {},
     "output_type": "display_data"
    },
    {
     "data": {
      "text/html": [
       "<h5>Masajes</h5>\n",
       "Considere recibir un masaje.<br>\n",
       "<table>\n",
       "<tr>\n",
       "<th>Type</th>\n",
       "<th>Effect</th>\n",
       "<th>Evidence</th>\n",
       "</tr>\n",
       "<tr>\n",
       "<td>lifestyle</td>\n",
       "<td>0.4</td>\n",
       "<td>0.6</td>\n",
       "</tr>\n",
       "</table>\n",
       "<p><span style=\"color:#000000\"><strong>Si alguna vez ha recibido un </strong></span><a href=\"https://selfhacked.com/blog/massage-health-benefits/\" style=\"text-decoration:none\"><span style=\"color:#1155cc\"><strong><u>masaje </u></strong></span></a><span style=\"color:#000000\"><strong>profesional, probablemente sepa cu&aacute;nto bien puede hacer</strong></span><span style=\"color:#000000\">. Los masajes pueden ayudar con [</span><a href=\"https://www.nccih.nih.gov/health/massage-therapy-what-you-need-to-know\" style=\"text-decoration:none\"><span style=\"color:#1155cc\"><u>R</u></span></a><span style=\"color:#000000\">, </span><a href=\"https://pubmed.ncbi.nlm.nih.gov/32977216/\" style=\"text-decoration:none\"><span style=\"color:#1155cc\"><u>R</u></span></a><span style=\"color:#000000\">, </span><a href=\"https://pubmed.ncbi.nlm.nih.gov/27025688/\" style=\"text-decoration:none\"><span style=\"color:#1155cc\"><u>R</u></span></a><span style=\"color:#000000\">]:</span></p>\r\n",
       "\r\n",
       "<ul>\r\n",
       "\t<li style=\"list-style-type:disc\"><span style=\"color:#000000\">Ansiedad</span></li>\r\n",
       "\t<li style=\"list-style-type:disc\"><span style=\"color:#000000\">Dolor</span></li>\r\n",
       "\t<li style=\"list-style-type:disc\"><span style=\"color:#000000\">Fatiga</span></li>\r\n",
       "</ul>\r\n",
       "\r\n",
       "<p>&nbsp;</p>\r\n",
       "\r\n",
       "<p><span style=\"color:#000000\">La </span><span style=\"color:#000000\"><strong>reflexolog&iacute;a </strong></span><span style=\"color:#000000\">es un tipo de masaje. Implica aplicar presi&oacute;n en partes espec&iacute;ficas de sus pies o manos. En teor&iacute;a, al presionar estas &aacute;reas, puede aliviar la tensi&oacute;n de otras partes del cuerpo [</span><a href=\"https://www.mayoclinic.org/healthy-lifestyle/consumer-health/expert-answers/what-is-reflexology/faq-20058139\" style=\"text-decoration:none\"><span style=\"color:#1155cc\"><u>R</u></span></a><span style=\"color:#000000\">].&nbsp;</span></p>\r\n",
       "\r\n",
       "<p>&nbsp;</p><br>\n"
      ],
      "text/plain": [
       "<IPython.core.display.HTML object>"
      ]
     },
     "metadata": {},
     "output_type": "display_data"
    },
    {
     "data": {
      "text/html": [
       "<h5>Coenzima Q10</h5>\n",
       "Considere tomar suplementos con coenzima Q10.<br>\n",
       "<table>\n",
       "<tr>\n",
       "<th>Type</th>\n",
       "<th>Effect</th>\n",
       "<th>Evidence</th>\n",
       "</tr>\n",
       "<tr>\n",
       "<td>supplement</td>\n",
       "<td>0.4</td>\n",
       "<td>0.4</td>\n",
       "</tr>\n",
       "</table>\n",
       "<p><span style=\"color:#000000\">La </span><a href=\"https://selfhacked.com/blog/coenzyme-q10-ubiquinol/\" style=\"text-decoration:none\"><span style=\"color:#0000ff\"><u>coenzima Q10</u></span></a><span style=\"color:#000000\"> (CoQ10) es un compuesto que ayuda a las enzimas a funcionar mejor. Al hacerlo, la CoQ10 ayuda a mejorar [</span><a href=\"https://www.mayoclinic.org/drugs-supplements-coenzyme-q10/art-20362602\" style=\"text-decoration:none\"><span style=\"color:#1155cc\"><u>R</u></span></a><span style=\"color:#000000\">, </span><a href=\"https://www.ncbi.nlm.nih.gov/pmc/articles/PMC3178961/\" style=\"text-decoration:none\"><span style=\"color:#1155cc\"><u>R</u></span></a><span style=\"color:#000000\">, </span><a href=\"https://www.ncbi.nlm.nih.gov/books/NBK531491/\" style=\"text-decoration:none\"><span style=\"color:#1155cc\"><u>R</u></span></a><span style=\"color:#000000\">, </span><a href=\"https://www.ncbi.nlm.nih.gov/pmc/articles/PMC6131403/\" style=\"text-decoration:none\"><span style=\"color:#1155cc\"><u>R</u></span></a><span style=\"color:#000000\">]:</span></p>\r\n",
       "\r\n",
       "<ul>\r\n",
       "\t<li style=\"list-style-type:disc\"><span style=\"color:#000000\">Niveles de energ&iacute;a</span></li>\r\n",
       "\t<li style=\"list-style-type:disc\"><span style=\"color:#000000\">Protecci&oacute;n antioxidante</span></li>\r\n",
       "\t<li style=\"list-style-type:disc\"><span style=\"color:#000000\">Salud del coraz&oacute;n</span></li>\r\n",
       "\t<li style=\"list-style-type:disc\"><span style=\"color:#000000\">Fuerza muscular</span></li>\r\n",
       "\t<li style=\"list-style-type:disc\"><span style=\"color:#000000\">Control del az&uacute;car en la sangre</span></li>\r\n",
       "</ul>\r\n",
       "\r\n",
       "<p>&nbsp;</p>\r\n",
       "\r\n",
       "<p><span style=\"color:#000000\"><strong>La cantidad de CoQ10 producida por su cuerpo disminuye a medida que envejece.</strong></span><span style=\"color:#000000\"> Afortunadamente, tambi&eacute;n puede obtenerla a trav&eacute;s de alimentos o suplementos. Buenas fuentes de CoQ10 incluyen [</span><a href=\"https://www.ncbi.nlm.nih.gov/pmc/articles/PMC5807419/\" style=\"text-decoration:none\"><span style=\"color:#1155cc\"><u>R</u></span></a><span style=\"color:#000000\">, </span><a href=\"https://www.ncbi.nlm.nih.gov/pmc/articles/PMC3178961/\" style=\"text-decoration:none\"><span style=\"color:#1155cc\"><u>R</u></span></a><span style=\"color:#000000\">]:</span></p>\r\n",
       "\r\n",
       "<ul>\r\n",
       "\t<li style=\"list-style-type:disc\"><span style=\"color:#000000\">V&iacute;sceras</span></li>\r\n",
       "\t<li style=\"list-style-type:disc\"><span style=\"color:#000000\">Pescados azules</span></li>\r\n",
       "\t<li style=\"list-style-type:disc\"><span style=\"color:#000000\">Cereales integrales</span></li>\r\n",
       "</ul><br>\n"
      ],
      "text/plain": [
       "<IPython.core.display.HTML object>"
      ]
     },
     "metadata": {},
     "output_type": "display_data"
    },
    {
     "data": {
      "text/html": [
       "<h5>Vitamina D</h5>\n",
       "Considere tomar suplementos con vitamina D en caso de deficiencia.<br>\n",
       "<table>\n",
       "<tr>\n",
       "<th>Type</th>\n",
       "<th>Effect</th>\n",
       "<th>Evidence</th>\n",
       "</tr>\n",
       "<tr>\n",
       "<td>supplement</td>\n",
       "<td>0.4</td>\n",
       "<td>0.4</td>\n",
       "</tr>\n",
       "</table>\n",
       "<p style=\"text-align:justify\"><span style=\"color:#000000\"><strong>Su cuerpo necesita </strong></span><a href=\"https://labs.selfdecode.com/blog/35proven-health-benefits-vitamin-d-part-1/\" style=\"text-decoration:none\"><span style=\"color:#1155cc\"><strong><u>vitamina D</u></strong></span></a><span style=\"color:#000000\"><strong> para tener huesos fuertes.</strong></span><span style=\"color:#000000\"> La vitamina D tambi&eacute;n juega un papel en [</span><a href=\"https://ods.od.nih.gov/factsheets/VitaminD-HealthProfessional/\" style=\"text-decoration:none\"><span style=\"color:#1155cc\"><u>R</u></span></a><span style=\"color:#000000\">]:</span></p>\r\n",
       "\r\n",
       "<ul>\r\n",
       "\t<li style=\"list-style-type:disc\"><span style=\"color:#000000\">Estado de &aacute;nimo</span></li>\r\n",
       "\t<li style=\"list-style-type:disc\"><span style=\"color:#000000\">Inmunidad</span></li>\r\n",
       "\t<li style=\"list-style-type:disc\"><span style=\"color:#000000\">Salud del coraz&oacute;n</span></li>\r\n",
       "\t<li style=\"list-style-type:disc\"><span style=\"color:#000000\">Control del az&uacute;car en la sangre</span></li>\r\n",
       "</ul>\r\n",
       "\r\n",
       "<p>&nbsp;</p>\r\n",
       "\r\n",
       "<p style=\"text-align:justify\"><span style=\"color:#000000\"><strong>La </strong></span><a href=\"https://selfhacked.com/blog/avoiding-sun-will-kill-14-proven-science-based-health-benefits-sun/\" style=\"text-decoration:none\"><span style=\"color:#0000ff\"><strong><u>luz solar</u></strong></span></a><span style=\"color:#000000\"><strong> es nuestra principal fuente de vitamina D</strong></span><span style=\"color:#000000\">. Los expertos recomiendan tomar por lo menos </span><span style=\"color:#000000\"><strong>5-15 minutos de sol al mediod&iacute;a, 2-3 veces por semana</strong></span><span style=\"color:#000000\">. Las personas con piel m&aacute;s oscura y las que viven en latitudes altas pueden necesitar per&iacute;odos m&aacute;s prolongados de exposici&oacute;n solar [</span><a href=\"https://www.ncbi.nlm.nih.gov/pmc/articles/PMC2290997/\" style=\"text-decoration:none\"><span style=\"color:#1155cc\"><u>R</u></span></a><span style=\"color:#000000\">, </span><a href=\"https://www.ncbi.nlm.nih.gov/pmc/articles/PMC7049620/\" style=\"text-decoration:none\"><span style=\"color:#1155cc\"><u>R</u></span></a><span style=\"color:#000000\">].</span></p>\r\n",
       "\r\n",
       "<p>&nbsp;</p>\r\n",
       "\r\n",
       "<p style=\"text-align:justify\"><span style=\"color:#000000\">Los alimentos como el pescado, huevos y leche fortificada proporcionan peque&ntilde;as cantidades de vitamina D. </span><span style=\"color:#000000\"><strong>Las personas con d&eacute;ficit de vitamina D deben considerar tomar un suplemento</strong></span><span style=\"color:#000000\"> [</span><a href=\"https://ods.od.nih.gov/factsheets/VitaminD-HealthProfessional/\" style=\"text-decoration:none\"><span style=\"color:#1155cc\"><u>R</u></span></a><span style=\"color:#000000\">, </span><a href=\"https://ods.od.nih.gov/factsheets/VitaminD-Consumer/\" style=\"text-decoration:none\"><span style=\"color:#1155cc\"><u>R</u></span></a><span style=\"color:#000000\">].</span></p>\r\n",
       "\r\n",
       "<p>&nbsp;</p><br>\n"
      ],
      "text/plain": [
       "<IPython.core.display.HTML object>"
      ]
     },
     "metadata": {},
     "output_type": "display_data"
    },
    {
     "data": {
      "text/html": [
       "<h5>Vitaminas del Grupo B Dietéticas</h5>\n",
       "Consuma más alimentos ricos en ácido fólico y vitamina B12<br>\n",
       "<table>\n",
       "<tr>\n",
       "<th>Type</th>\n",
       "<th>Effect</th>\n",
       "<th>Evidence</th>\n",
       "</tr>\n",
       "<tr>\n",
       "<td>dietary</td>\n",
       "<td>0.4</td>\n",
       "<td>0.4</td>\n",
       "</tr>\n",
       "</table>\n",
       "<p><span style=\"color:#000000\">Las vitaminas del grupo B ayudan al cuerpo a funcionar correctamente. Dos ejemplos son la </span><a href=\"https://selfhacked.com/blog/16-proven-benefits-vitamin-b9-folate-folic-acid/\" style=\"text-decoration:none\"><span style=\"color:#1155cc\"><u>vitamina B9</u></span></a><span style=\"color:#000000\"> (</span><span style=\"color:#000000\"><strong>&aacute;cido f&oacute;lico</strong></span><span style=\"color:#000000\">) y la </span><a href=\"https://selfhacked.com/blog/vitamin-b12/\" style=\"text-decoration:none\"><span style=\"color:#1155cc\"><u>vitamina B12</u></span></a><span style=\"color:#000000\">. Desempe&ntilde;an papeles importantes en [</span><a href=\"https://www.ncbi.nlm.nih.gov/pmc/articles/PMC4772032/\" style=\"text-decoration:none\"><span style=\"color:#1155cc\"><u>R</u></span></a><span style=\"color:#000000\">, </span><a href=\"https://www.ncbi.nlm.nih.gov/pmc/articles/PMC5353360/\" style=\"text-decoration:none\"><span style=\"color:#1155cc\"><u>R</u></span></a><span style=\"color:#000000\">, </span><a href=\"https://ods.od.nih.gov/factsheets/Folate-HealthProfessional/\" style=\"text-decoration:none\"><span style=\"color:#1155cc\"><u>R</u></span></a><span style=\"color:#000000\">, </span><a href=\"https://ods.od.nih.gov/factsheets/VitaminB12-HealthProfessional/\" style=\"text-decoration:none\"><span style=\"color:#1155cc\"><u>R</u></span></a><span style=\"color:#000000\">]:&nbsp;&nbsp;&nbsp;</span></p>\r\n",
       "\r\n",
       "<ul>\r\n",
       "\t<li style=\"list-style-type:disc\"><span style=\"color:#000000\">La formaci&oacute;n del ADN</span></li>\r\n",
       "\t<li style=\"list-style-type:disc\"><span style=\"color:#000000\">El metabolismo</span></li>\r\n",
       "\t<li style=\"list-style-type:disc\"><span style=\"color:#000000\">La producci&oacute;n de energ&iacute;a</span></li>\r\n",
       "</ul>\r\n",
       "\r\n",
       "<p>&nbsp;</p>\r\n",
       "\r\n",
       "<p><span style=\"color:#000000\">Puede obtener estas vitaminas de [</span><a href=\"https://www.ncbi.nlm.nih.gov/pmc/articles/PMC5731688/\" style=\"text-decoration:none\"><span style=\"color:#1155cc\"><u>R</u></span></a><span style=\"color:#000000\">, </span><a href=\"https://ods.od.nih.gov/factsheets/Folate-HealthProfessional/\" style=\"text-decoration:none\"><span style=\"color:#1155cc\"><u>R</u></span></a><span style=\"color:#000000\">, </span><a href=\"https://www.ncbi.nlm.nih.gov/books/NBK114318\" style=\"text-decoration:none\"><span style=\"color:#1155cc\"><u>R</u></span></a><span style=\"color:#000000\">, </span><a href=\"https://ods.od.nih.gov/factsheets/VitaminB12-HealthProfessional/\" style=\"text-decoration:none\"><span style=\"color:#1155cc\"><u>R</u></span></a><span style=\"color:#000000\">, </span><a href=\"https://pubmed.ncbi.nlm.nih.gov/17959839/\" style=\"text-decoration:none\"><span style=\"color:#1155cc\"><u>R</u></span></a><span style=\"color:#000000\">]:</span></p>\r\n",
       "\r\n",
       "<ul>\r\n",
       "\t<li style=\"list-style-type:disc\"><span style=\"color:#000000\">Productos animales</span></li>\r\n",
       "\t<li style=\"list-style-type:disc\"><span style=\"color:#000000\">Vegetales de hoja verde</span></li>\r\n",
       "\t<li style=\"list-style-type:disc\"><span style=\"color:#000000\">Frutas c&iacute;tricas</span></li>\r\n",
       "\t<li style=\"list-style-type:disc\"><span style=\"color:#000000\">Alimentos fortificados</span></li>\r\n",
       "\t<li style=\"list-style-type:disc\"><span style=\"color:#000000\">Suplementos</span></li>\r\n",
       "</ul>\r\n",
       "\r\n",
       "<p>&nbsp;</p>\r\n",
       "\r\n",
       "<p><span style=\"color:#000000\">Los adultos deben consumir </span><span style=\"color:#000000\"><strong>400 microgramos (mcg) de &aacute;cido f&oacute;lico</strong></span><span style=\"color:#000000\"> y </span><span style=\"color:#000000\"><strong>2,4 mcg de vitamina B12</strong></span><span style=\"color:#000000\"> todos los d&iacute;as [</span><a href=\"https://ods.od.nih.gov/factsheets/Folate-HealthProfessional/\" style=\"text-decoration:none\"><span style=\"color:#1155cc\"><u>R</u></span></a><span style=\"color:#000000\">, </span><a href=\"https://ods.od.nih.gov/factsheets/VitaminB12-HealthProfessional/\" style=\"text-decoration:none\"><span style=\"color:#1155cc\"><u>R</u></span></a><span style=\"color:#000000\">].</span></p>\r\n",
       "\r\n",
       "<p>&nbsp;</p>\r\n",
       "\r\n",
       "<p><span style=\"color:#000000\">La deficiencia de &aacute;cido f&oacute;lico no es muy frecuente, pero puede ocurrir en personas que no comen suficientes frutas y verduras. Los alcoh&oacute;licos y las madres lactantes tambi&eacute;n pueden tener un mayor riesgo [</span><a href=\"https://pubmed.ncbi.nlm.nih.gov/18709879/\" style=\"text-decoration:none\"><span style=\"color:#1155cc\"><u>R</u></span></a><span style=\"color:#000000\">].</span></p>\r\n",
       "\r\n",
       "<p>&nbsp;</p>\r\n",
       "\r\n",
       "<p><span style=\"color:#000000\">La deficiencia de vitamina B12 a menudo tarda a&ntilde;os en desarrollarse, ya que el cuerpo puede almacenar grandes cantidades en el h&iacute;gado. Los grupos que pueden tener un mayor riesgo incluyen [</span><a href=\"https://www.ncbi.nlm.nih.gov/books/NBK114329/\" style=\"text-decoration:none\"><span style=\"color:#1155cc\"><u>R</u></span></a><span style=\"color:#000000\">, </span><a href=\"https://www.ncbi.nlm.nih.gov/pmc/articles/PMC3257642/\" style=\"text-decoration:none\"><span style=\"color:#1155cc\"><u>R</u></span></a><span style=\"color:#000000\">]:</span></p>\r\n",
       "\r\n",
       "<ul>\r\n",
       "\t<li style=\"list-style-type:disc\"><span style=\"color:#000000\">Veganos</span></li>\r\n",
       "\t<li style=\"list-style-type:disc\"><span style=\"color:#000000\">Mujeres embarazadas</span></li>\r\n",
       "\t<li style=\"list-style-type:disc\"><span style=\"color:#000000\">Personas mayores</span></li>\r\n",
       "\t<li style=\"list-style-type:disc\"><span style=\"color:#000000\">Personas con problemas intestinales</span></li>\r\n",
       "</ul><br>\n"
      ],
      "text/plain": [
       "<IPython.core.display.HTML object>"
      ]
     },
     "metadata": {},
     "output_type": "display_data"
    },
    {
     "data": {
      "text/html": [
       "<h5>NADH</h5>\n",
       "Consider supplementing with NADH.<br>\n",
       "<table>\n",
       "<tr>\n",
       "<th>Type</th>\n",
       "<th>Effect</th>\n",
       "<th>Evidence</th>\n",
       "</tr>\n",
       "<tr>\n",
       "<td>supplement</td>\n",
       "<td>0.4</td>\n",
       "<td>0.4</td>\n",
       "</tr>\n",
       "</table>\n",
       "<p><span style=\"color:#000000\"><strong>NADH, or reduced nicotinamide adenine dinucleotide (</strong></span><a href=\"https://health.selfdecode.com/blog/nad-important-increase/\" style=\"text-decoration:none\"><span style=\"color:#1155cc\"><strong><u>NAD+</u></strong></span></a><span style=\"color:#000000\"><strong>)</strong></span><span style=\"color:#000000\"> is a crucial compound found in all living cells. It plays a vital role in </span><span style=\"color:#000000\"><strong>energy production</strong></span><span style=\"color:#000000\"> and metabolism. NADH also supports cellular health and the production of brain chemicals [</span><a href=\"https://pubmed.ncbi.nlm.nih.gov/16720381/\" style=\"text-decoration:none\"><span style=\"color:#1155cc\"><u>R</u></span></a><span style=\"color:#000000\">].</span></p>\r\n",
       "\r\n",
       "<p>&nbsp;</p>\r\n",
       "\r\n",
       "<p><span style=\"color:#000000\">Some people take NADH as a supplement to improve energy levels and cognitive function. However, the research to back up these uses is still ongoing.</span></p><br>\n"
      ],
      "text/plain": [
       "<IPython.core.display.HTML object>"
      ]
     },
     "metadata": {},
     "output_type": "display_data"
    },
    {
     "data": {
      "text/html": [
       "<h5>Royal Jelly</h5>\n",
       "<br>\n",
       "<table>\n",
       "<tr>\n",
       "<th>Type</th>\n",
       "<th>Effect</th>\n",
       "<th>Evidence</th>\n",
       "</tr>\n",
       "<tr>\n",
       "<td>supplement</td>\n",
       "<td>0.0</td>\n",
       "<td>0.0</td>\n",
       "</tr>\n",
       "</table>\n",
       "<p>&nbsp; &nbsp;</p><br>\n"
      ],
      "text/plain": [
       "<IPython.core.display.HTML object>"
      ]
     },
     "metadata": {},
     "output_type": "display_data"
    },
    {
     "data": {
      "text/html": [
       "<h5>Beta-Alanine</h5>\n",
       "<br>\n",
       "<table>\n",
       "<tr>\n",
       "<th>Type</th>\n",
       "<th>Effect</th>\n",
       "<th>Evidence</th>\n",
       "</tr>\n",
       "<tr>\n",
       "<td>supplement</td>\n",
       "<td>0.0</td>\n",
       "<td>0.0</td>\n",
       "</tr>\n",
       "</table>\n",
       "<p>&nbsp; &nbsp;</p><br>\n"
      ],
      "text/plain": [
       "<IPython.core.display.HTML object>"
      ]
     },
     "metadata": {},
     "output_type": "display_data"
    },
    {
     "data": {
      "text/html": [
       "<h5>Ginseng</h5>\n",
       "<br>\n",
       "<table>\n",
       "<tr>\n",
       "<th>Type</th>\n",
       "<th>Effect</th>\n",
       "<th>Evidence</th>\n",
       "</tr>\n",
       "<tr>\n",
       "<td>supplement</td>\n",
       "<td>0.0</td>\n",
       "<td>0.0</td>\n",
       "</tr>\n",
       "</table>\n",
       "<p>&nbsp; &nbsp;</p><br>\n"
      ],
      "text/plain": [
       "<IPython.core.display.HTML object>"
      ]
     },
     "metadata": {},
     "output_type": "display_data"
    },
    {
     "data": {
      "text/html": [
       "<h5>Oak Wood Extract</h5>\n",
       "<br>\n",
       "<table>\n",
       "<tr>\n",
       "<th>Type</th>\n",
       "<th>Effect</th>\n",
       "<th>Evidence</th>\n",
       "</tr>\n",
       "<tr>\n",
       "<td>supplement</td>\n",
       "<td>0.0</td>\n",
       "<td>0.0</td>\n",
       "</tr>\n",
       "</table>\n",
       "<p>&nbsp; &nbsp;</p><br>\n"
      ],
      "text/plain": [
       "<IPython.core.display.HTML object>"
      ]
     },
     "metadata": {},
     "output_type": "display_data"
    },
    {
     "data": {
      "text/html": [
       "<h5>N-Acetylcysteine</h5>\n",
       "<br>\n",
       "<table>\n",
       "<tr>\n",
       "<th>Type</th>\n",
       "<th>Effect</th>\n",
       "<th>Evidence</th>\n",
       "</tr>\n",
       "<tr>\n",
       "<td>drug</td>\n",
       "<td>0.0</td>\n",
       "<td>0.0</td>\n",
       "</tr>\n",
       "</table>\n",
       "<p>&nbsp; &nbsp;</p><br>\n"
      ],
      "text/plain": [
       "<IPython.core.display.HTML object>"
      ]
     },
     "metadata": {},
     "output_type": "display_data"
    },
    {
     "data": {
      "text/html": [
       "<h5>Astragalus</h5>\n",
       "<br>\n",
       "<table>\n",
       "<tr>\n",
       "<th>Type</th>\n",
       "<th>Effect</th>\n",
       "<th>Evidence</th>\n",
       "</tr>\n",
       "<tr>\n",
       "<td>supplement</td>\n",
       "<td>0.0</td>\n",
       "<td>0.0</td>\n",
       "</tr>\n",
       "</table>\n",
       "<p>&nbsp;&nbsp;</p><br>\n"
      ],
      "text/plain": [
       "<IPython.core.display.HTML object>"
      ]
     },
     "metadata": {},
     "output_type": "display_data"
    },
    {
     "data": {
      "text/html": [
       "<h5>Melatonin</h5>\n",
       "<br>\n",
       "<table>\n",
       "<tr>\n",
       "<th>Type</th>\n",
       "<th>Effect</th>\n",
       "<th>Evidence</th>\n",
       "</tr>\n",
       "<tr>\n",
       "<td>supplement</td>\n",
       "<td>0.0</td>\n",
       "<td>0.0</td>\n",
       "</tr>\n",
       "</table>\n",
       "<p>&nbsp; &nbsp;&nbsp;</p><br>\n"
      ],
      "text/plain": [
       "<IPython.core.display.HTML object>"
      ]
     },
     "metadata": {},
     "output_type": "display_data"
    },
    {
     "data": {
      "text/html": [
       "<h5>Curcumin</h5>\n",
       "<br>\n",
       "<table>\n",
       "<tr>\n",
       "<th>Type</th>\n",
       "<th>Effect</th>\n",
       "<th>Evidence</th>\n",
       "</tr>\n",
       "<tr>\n",
       "<td>supplement</td>\n",
       "<td>0.0</td>\n",
       "<td>0.0</td>\n",
       "</tr>\n",
       "</table>\n",
       "<p>&nbsp; &nbsp;</p><br>\n"
      ],
      "text/plain": [
       "<IPython.core.display.HTML object>"
      ]
     },
     "metadata": {},
     "output_type": "display_data"
    },
    {
     "data": {
      "text/html": [
       "<h5>Eleuthero</h5>\n",
       "<br>\n",
       "<table>\n",
       "<tr>\n",
       "<th>Type</th>\n",
       "<th>Effect</th>\n",
       "<th>Evidence</th>\n",
       "</tr>\n",
       "<tr>\n",
       "<td>supplement</td>\n",
       "<td>0.0</td>\n",
       "<td>0.0</td>\n",
       "</tr>\n",
       "</table>\n",
       "<p>&nbsp; &nbsp;</p><br>\n"
      ],
      "text/plain": [
       "<IPython.core.display.HTML object>"
      ]
     },
     "metadata": {},
     "output_type": "display_data"
    },
    {
     "data": {
      "text/html": [
       "<h5>Andrographis</h5>\n",
       "<br>\n",
       "<table>\n",
       "<tr>\n",
       "<th>Type</th>\n",
       "<th>Effect</th>\n",
       "<th>Evidence</th>\n",
       "</tr>\n",
       "<tr>\n",
       "<td>supplement</td>\n",
       "<td>0.0</td>\n",
       "<td>0.0</td>\n",
       "</tr>\n",
       "</table>\n",
       "<p>&nbsp; &nbsp;&nbsp;</p><br>\n"
      ],
      "text/plain": [
       "<IPython.core.display.HTML object>"
      ]
     },
     "metadata": {},
     "output_type": "display_data"
    },
    {
     "data": {
      "text/html": [
       "<h5>Reishi</h5>\n",
       "<br>\n",
       "<table>\n",
       "<tr>\n",
       "<th>Type</th>\n",
       "<th>Effect</th>\n",
       "<th>Evidence</th>\n",
       "</tr>\n",
       "<tr>\n",
       "<td>supplement</td>\n",
       "<td>0.0</td>\n",
       "<td>0.0</td>\n",
       "</tr>\n",
       "</table>\n",
       "<p>&nbsp;&nbsp;</p><br>\n"
      ],
      "text/plain": [
       "<IPython.core.display.HTML object>"
      ]
     },
     "metadata": {},
     "output_type": "display_data"
    },
    {
     "data": {
      "text/html": [
       "<h5>Taurine and Caffeine</h5>\n",
       "<br>\n",
       "<table>\n",
       "<tr>\n",
       "<th>Type</th>\n",
       "<th>Effect</th>\n",
       "<th>Evidence</th>\n",
       "</tr>\n",
       "<tr>\n",
       "<td>supplement</td>\n",
       "<td>0.0</td>\n",
       "<td>0.0</td>\n",
       "</tr>\n",
       "</table>\n",
       "<p>&nbsp; &nbsp;</p><br>\n"
      ],
      "text/plain": [
       "<IPython.core.display.HTML object>"
      ]
     },
     "metadata": {},
     "output_type": "display_data"
    },
    {
     "data": {
      "text/html": [
       "<h5>American Ginseng</h5>\n",
       "<br>\n",
       "<table>\n",
       "<tr>\n",
       "<th>Type</th>\n",
       "<th>Effect</th>\n",
       "<th>Evidence</th>\n",
       "</tr>\n",
       "<tr>\n",
       "<td>supplement</td>\n",
       "<td>0.0</td>\n",
       "<td>0.0</td>\n",
       "</tr>\n",
       "</table>\n",
       "<p>&nbsp; &nbsp;</p><br>\n"
      ],
      "text/plain": [
       "<IPython.core.display.HTML object>"
      ]
     },
     "metadata": {},
     "output_type": "display_data"
    },
    {
     "data": {
      "text/html": [
       "<h5>Nicotinamide Mononucleotide (NMN)</h5>\n",
       "<br>\n",
       "<table>\n",
       "<tr>\n",
       "<th>Type</th>\n",
       "<th>Effect</th>\n",
       "<th>Evidence</th>\n",
       "</tr>\n",
       "<tr>\n",
       "<td>supplement</td>\n",
       "<td>0.0</td>\n",
       "<td>0.0</td>\n",
       "</tr>\n",
       "</table>\n",
       "<p>&nbsp; &nbsp;</p><br>\n"
      ],
      "text/plain": [
       "<IPython.core.display.HTML object>"
      ]
     },
     "metadata": {},
     "output_type": "display_data"
    },
    {
     "data": {
      "text/html": [
       "<h5>Progressive Muscle Relaxation</h5>\n",
       "<br>\n",
       "<table>\n",
       "<tr>\n",
       "<th>Type</th>\n",
       "<th>Effect</th>\n",
       "<th>Evidence</th>\n",
       "</tr>\n",
       "<tr>\n",
       "<td>lifestyle</td>\n",
       "<td>0.0</td>\n",
       "<td>0.0</td>\n",
       "</tr>\n",
       "</table>\n",
       "<p>&nbsp; &nbsp;</p><br>\n"
      ],
      "text/plain": [
       "<IPython.core.display.HTML object>"
      ]
     },
     "metadata": {},
     "output_type": "display_data"
    },
    {
     "data": {
      "text/html": [
       "<h5>Breathing Techniques</h5>\n",
       "<br>\n",
       "<table>\n",
       "<tr>\n",
       "<th>Type</th>\n",
       "<th>Effect</th>\n",
       "<th>Evidence</th>\n",
       "</tr>\n",
       "<tr>\n",
       "<td>lifestyle</td>\n",
       "<td>0.0</td>\n",
       "<td>0.0</td>\n",
       "</tr>\n",
       "</table>\n",
       "<p>&nbsp;&nbsp;</p><br>\n"
      ],
      "text/plain": [
       "<IPython.core.display.HTML object>"
      ]
     },
     "metadata": {},
     "output_type": "display_data"
    },
    {
     "data": {
      "text/html": [
       "<h5>Yoga</h5>\n",
       "<br>\n",
       "<table>\n",
       "<tr>\n",
       "<th>Type</th>\n",
       "<th>Effect</th>\n",
       "<th>Evidence</th>\n",
       "</tr>\n",
       "<tr>\n",
       "<td>lifestyle</td>\n",
       "<td>0.0</td>\n",
       "<td>0.0</td>\n",
       "</tr>\n",
       "</table>\n",
       "<p>&nbsp; &nbsp;</p><br>\n"
      ],
      "text/plain": [
       "<IPython.core.display.HTML object>"
      ]
     },
     "metadata": {},
     "output_type": "display_data"
    },
    {
     "data": {
      "text/html": [
       "<h5>Tai Chi</h5>\n",
       "<br>\n",
       "<table>\n",
       "<tr>\n",
       "<th>Type</th>\n",
       "<th>Effect</th>\n",
       "<th>Evidence</th>\n",
       "</tr>\n",
       "<tr>\n",
       "<td>lifestyle</td>\n",
       "<td>0.0</td>\n",
       "<td>0.0</td>\n",
       "</tr>\n",
       "</table>\n",
       "<p>&nbsp; &nbsp;</p><br>\n"
      ],
      "text/plain": [
       "<IPython.core.display.HTML object>"
      ]
     },
     "metadata": {},
     "output_type": "display_data"
    },
    {
     "data": {
      "text/html": [
       "<h5>Cold Water Immersion</h5>\n",
       "<br>\n",
       "<table>\n",
       "<tr>\n",
       "<th>Type</th>\n",
       "<th>Effect</th>\n",
       "<th>Evidence</th>\n",
       "</tr>\n",
       "<tr>\n",
       "<td>lifestyle</td>\n",
       "<td>0.0</td>\n",
       "<td>0.0</td>\n",
       "</tr>\n",
       "</table>\n",
       "<p><strong style=\"color:#000000\">Please note: rapid instead of gradual cold exposure causes dangerous, and even fatal, changes in the breath and heart rates, known as the cold shock response. Be cautious with any form of sudden temperature change in your environment, especially if you have heart disease or other chronic conditions </strong>[<a href=\"https://www.ncbi.nlm.nih.gov/pmc/articles/PMC4580772/\" style=\"text-decoration:none\"><span style=\"color:#1155cc\"><u>R</u></span></a><span style=\"color:#000000\">].</span></p><br>\n"
      ],
      "text/plain": [
       "<IPython.core.display.HTML object>"
      ]
     },
     "metadata": {},
     "output_type": "display_data"
    },
    {
     "data": {
      "text/html": [
       "<h5>Cold Exposure</h5>\n",
       "<br>\n",
       "<table>\n",
       "<tr>\n",
       "<th>Type</th>\n",
       "<th>Effect</th>\n",
       "<th>Evidence</th>\n",
       "</tr>\n",
       "<tr>\n",
       "<td>lifestyle</td>\n",
       "<td>0.0</td>\n",
       "<td>0.0</td>\n",
       "</tr>\n",
       "</table>\n",
       "<p><span style=\"color:#000000\"><strong>Please note: rapid instead of gradual cold exposure causes dangerous, and even fatal, changes in the breath and heart rates, known as the cold shock response. Be cautious with any form of sudden temperature change in your environment, especially if you have heart disease or other chronic conditions </strong>[</span><a href=\"https://www.ncbi.nlm.nih.gov/pmc/articles/PMC4580772/\" style=\"text-decoration:none\"><span style=\"color:#1155cc\"><u>R</u></span></a><span style=\"color:#000000\">].</span></p><br>\n"
      ],
      "text/plain": [
       "<IPython.core.display.HTML object>"
      ]
     },
     "metadata": {},
     "output_type": "display_data"
    },
    {
     "data": {
      "text/html": [
       "<h5>Reflexology</h5>\n",
       "<br>\n",
       "<table>\n",
       "<tr>\n",
       "<th>Type</th>\n",
       "<th>Effect</th>\n",
       "<th>Evidence</th>\n",
       "</tr>\n",
       "<tr>\n",
       "<td>lifestyle</td>\n",
       "<td>0.0</td>\n",
       "<td>0.0</td>\n",
       "</tr>\n",
       "</table>\n",
       "<p>&nbsp; &nbsp;</p><br>\n"
      ],
      "text/plain": [
       "<IPython.core.display.HTML object>"
      ]
     },
     "metadata": {},
     "output_type": "display_data"
    },
    {
     "data": {
      "text/html": [
       "<h5>Sunlight Exposure</h5>\n",
       "<br>\n",
       "<table>\n",
       "<tr>\n",
       "<th>Type</th>\n",
       "<th>Effect</th>\n",
       "<th>Evidence</th>\n",
       "</tr>\n",
       "<tr>\n",
       "<td>lifestyle</td>\n",
       "<td>0.0</td>\n",
       "<td>0.0</td>\n",
       "</tr>\n",
       "</table>\n",
       "<p>&nbsp;&nbsp;</p><br>\n"
      ],
      "text/plain": [
       "<IPython.core.display.HTML object>"
      ]
     },
     "metadata": {},
     "output_type": "display_data"
    },
    {
     "data": {
      "text/html": [
       "<h5>Acupuncture</h5>\n",
       "<br>\n",
       "<table>\n",
       "<tr>\n",
       "<th>Type</th>\n",
       "<th>Effect</th>\n",
       "<th>Evidence</th>\n",
       "</tr>\n",
       "<tr>\n",
       "<td>lifestyle</td>\n",
       "<td>0.0</td>\n",
       "<td>0.0</td>\n",
       "</tr>\n",
       "</table>\n",
       "<p>&nbsp; &nbsp;</p><br>\n"
      ],
      "text/plain": [
       "<IPython.core.display.HTML object>"
      ]
     },
     "metadata": {},
     "output_type": "display_data"
    },
    {
     "data": {
      "text/html": [
       "<h5>Cognitive-Behavioral Therapy (CBT)</h5>\n",
       "<br>\n",
       "<table>\n",
       "<tr>\n",
       "<th>Type</th>\n",
       "<th>Effect</th>\n",
       "<th>Evidence</th>\n",
       "</tr>\n",
       "<tr>\n",
       "<td>lifestyle</td>\n",
       "<td>0.0</td>\n",
       "<td>0.0</td>\n",
       "</tr>\n",
       "</table>\n",
       "<p>&nbsp;&nbsp;</p><br>\n"
      ],
      "text/plain": [
       "<IPython.core.display.HTML object>"
      ]
     },
     "metadata": {},
     "output_type": "display_data"
    },
    {
     "data": {
      "text/html": [
       "<h5>Aromatherapy</h5>\n",
       "<br>\n",
       "<table>\n",
       "<tr>\n",
       "<th>Type</th>\n",
       "<th>Effect</th>\n",
       "<th>Evidence</th>\n",
       "</tr>\n",
       "<tr>\n",
       "<td>lifestyle</td>\n",
       "<td>0.0</td>\n",
       "<td>0.0</td>\n",
       "</tr>\n",
       "</table>\n",
       "<p>&nbsp; &nbsp;</p><br>\n"
      ],
      "text/plain": [
       "<IPython.core.display.HTML object>"
      ]
     },
     "metadata": {},
     "output_type": "display_data"
    },
    {
     "data": {
      "text/html": [
       "<h5>Caffeine</h5>\n",
       "<br>\n",
       "<table>\n",
       "<tr>\n",
       "<th>Type</th>\n",
       "<th>Effect</th>\n",
       "<th>Evidence</th>\n",
       "</tr>\n",
       "<tr>\n",
       "<td>supplement</td>\n",
       "<td>0.0</td>\n",
       "<td>0.0</td>\n",
       "</tr>\n",
       "</table>\n",
       "<p><span style=\"color:#e06666\"><strong>Please note</strong></span><span style=\"color:#e06666\">:</span><span style=\"color:#e06666\"><em> Too much caffeine may lead to sleep problems, high blood pressure and cholesterol, fast heart rate, and dependence. If you&#39;re pregnant, limit caffeine to 200 mg per day </em></span><span style=\"color:#000000\">[</span><a href=\"https://health.clevelandclinic.org/caffeine-and-pregnancy-how-does-caffeine-affect-my-baby/\" style=\"text-decoration:none\"><span style=\"color:#1155cc\"><u>R</u></span></a><span style=\"color:#000000\">]<em>.</em></span></p><br>\n"
      ],
      "text/plain": [
       "<IPython.core.display.HTML object>"
      ]
     },
     "metadata": {},
     "output_type": "display_data"
    },
    {
     "data": {
      "text/html": [
       "<h5>Blackcurrant Juice</h5>\n",
       "<br>\n",
       "<table>\n",
       "<tr>\n",
       "<th>Type</th>\n",
       "<th>Effect</th>\n",
       "<th>Evidence</th>\n",
       "</tr>\n",
       "<tr>\n",
       "<td>dietary</td>\n",
       "<td>0.0</td>\n",
       "<td>0.0</td>\n",
       "</tr>\n",
       "</table>\n",
       "<p>&nbsp; &nbsp;</p><br>\n"
      ],
      "text/plain": [
       "<IPython.core.display.HTML object>"
      ]
     },
     "metadata": {},
     "output_type": "display_data"
    },
    {
     "data": {
      "text/html": [
       "<h5>Blackcurrant Supplement</h5>\n",
       "<br>\n",
       "<table>\n",
       "<tr>\n",
       "<th>Type</th>\n",
       "<th>Effect</th>\n",
       "<th>Evidence</th>\n",
       "</tr>\n",
       "<tr>\n",
       "<td>supplement</td>\n",
       "<td>0.0</td>\n",
       "<td>0.0</td>\n",
       "</tr>\n",
       "</table>\n",
       "<p>&nbsp;&nbsp;</p><br>\n"
      ],
      "text/plain": [
       "<IPython.core.display.HTML object>"
      ]
     },
     "metadata": {},
     "output_type": "display_data"
    },
    {
     "data": {
      "text/html": [
       "<h5>Avoid Sugary Foods</h5>\n",
       "<br>\n",
       "<table>\n",
       "<tr>\n",
       "<th>Type</th>\n",
       "<th>Effect</th>\n",
       "<th>Evidence</th>\n",
       "</tr>\n",
       "<tr>\n",
       "<td>dietary</td>\n",
       "<td>0.0</td>\n",
       "<td>0.0</td>\n",
       "</tr>\n",
       "</table>\n",
       "<p>&nbsp; &nbsp;</p><br>\n"
      ],
      "text/plain": [
       "<IPython.core.display.HTML object>"
      ]
     },
     "metadata": {},
     "output_type": "display_data"
    },
    {
     "data": {
      "text/html": [
       "<h5>Dietary Folate</h5>\n",
       "<br>\n",
       "<table>\n",
       "<tr>\n",
       "<th>Type</th>\n",
       "<th>Effect</th>\n",
       "<th>Evidence</th>\n",
       "</tr>\n",
       "<tr>\n",
       "<td>dietary</td>\n",
       "<td>0.0</td>\n",
       "<td>0.0</td>\n",
       "</tr>\n",
       "</table>\n",
       "<p>&nbsp; &nbsp;</p><br>\n"
      ],
      "text/plain": [
       "<IPython.core.display.HTML object>"
      ]
     },
     "metadata": {},
     "output_type": "display_data"
    },
    {
     "data": {
      "text/html": [
       "<h3>Dolor Crónico</h3>\n",
       "Your score: 0.802681992337165<br>\n",
       "Probabilidad alta de dolor crónico<br>\n",
       "<h4>Summary</h4>\n",
       "<br>\n",
       "<h4>Sobre el Dolor Crónico</h4>\n",
       "<p><span style=\"color:#000000\">El dolor es una incomodidad con un prop&oacute;sito. Nos dice, alto y claro, que algo anda mal [</span><a href=\"https://www.ncbi.nlm.nih.gov/pmc/articles/PMC4295114/\" style=\"text-decoration:none\"><span style=\"color:#1155cc\"><u>R</u></span></a><span style=\"color:#000000\">].</span></p>\r\n",
       "\r\n",
       "<p>&nbsp;</p>\r\n",
       "\r\n",
       "<p><span style=\"color:#000000\">Existen dos tipos principales de dolor [</span><a href=\"https://my.clevelandclinic.org/health/articles/12051-acute-vs-chronic-pain\" style=\"text-decoration:none\"><span style=\"color:#1155cc\"><u>R</u></span></a><span style=\"color:#000000\">]:</span></p>\r\n",
       "\r\n",
       "<ul>\r\n",
       "\t<li style=\"list-style-type:disc\"><span style=\"color:#000000\">El </span><span style=\"color:#000000\"><strong>dolor agudo</strong></span><span style=\"color:#000000\"> aparece inmediatamente despu&eacute;s de haber ocurrido el da&ntilde;o al cuerpo. Puede durar unos segundos o hasta seis meses, mientras el cuerpo se recupera.</span></li>\r\n",
       "\t<li style=\"list-style-type:disc\"><span style=\"color:#000000\">El </span><span style=\"color:#000000\"><strong>dolor cr&oacute;nico</strong></span><span style=\"color:#000000\"> puede ocurrir incluso cuando no hay da&ntilde;o. Puede durar 6 meses o m&aacute;s y no siempre tiene una causa evidente.</span></li>\r\n",
       "</ul>\r\n",
       "\r\n",
       "<p>&nbsp;</p>\r\n",
       "\r\n",
       "<p><span style=\"color:#000000\"><strong>En los Estados Unidos, 1 de cada 5 personas reporta tener alg&uacute;n tipo de dolor cr&oacute;nico</strong></span><span style=\"color:#000000\">. Los tipos de dolor cr&oacute;nico incluyen [</span><a href=\"https://www.nccih.nih.gov/research/research-results/defining-the-prevalence-of-chronic-pain-in-the-united-states\" style=\"text-decoration:none\"><span style=\"color:#1155cc\"><u>R</u></span></a><span style=\"color:#000000\">, </span><a href=\"https://www.ncbi.nlm.nih.gov/pubmed/10359427\" style=\"text-decoration:none\"><span style=\"color:#1155cc\"><u>R</u></span></a><span style=\"color:#000000\">]:</span></p>\r\n",
       "\r\n",
       "<ul>\r\n",
       "\t<li style=\"list-style-type:disc\"><span style=\"color:#000000\">Dolor lumbar</span></li>\r\n",
       "\t<li style=\"list-style-type:disc\"><a href=\"https://selfhacked.com/blog/natural-treatment-migraines/\" style=\"text-decoration:none\"><span style=\"color:#1155cc\"><u>Dolores de cabeza</u></span></a></li>\r\n",
       "\t<li style=\"list-style-type:disc\"><span style=\"color:#000000\">Dolor generalizado</span></li>\r\n",
       "\t<li style=\"list-style-type:disc\"><span style=\"color:#000000\">Neuralgia</span></li>\r\n",
       "</ul>\r\n",
       "\r\n",
       "<p>&nbsp;</p>\r\n",
       "\r\n",
       "<p><span style=\"color:#000000\">Es importante identificar y tratar el dolor cr&oacute;nico. </span><span style=\"color:#000000\"><strong>El dolor puede tener efectos importantes y duraderos en la calidad de vida</strong></span><span style=\"color:#000000\">. Incluso puede afectar a la salud mental [</span><a href=\"https://www.ncbi.nlm.nih.gov/books/NBK553030/\" style=\"text-decoration:none\"><span style=\"color:#1155cc\"><u>R</u></span></a><span style=\"color:#000000\">].</span></p>\r\n",
       "\r\n",
       "<p>&nbsp;</p>\r\n",
       "\r\n",
       "<p><span style=\"color:#000000\">Desafortunadamente, el dolor cr&oacute;nico es dif&iacute;cil de diagnosticar. Esto se debe a que las personas sienten y describen el dolor de forma diferente. Por ejemplo, las personas mayores pueden decir que est&aacute;n adoloridas o inc&oacute;modas, mientras que otras pueden decir que algo les duele [</span><a href=\"https://www.ncbi.nlm.nih.gov/books/NBK553030/\" style=\"text-decoration:none\"><span style=\"color:#1155cc\"><u>R</u></span></a><span style=\"color:#000000\">].</span></p>\r\n",
       "\r\n",
       "<p>&nbsp;</p>\r\n",
       "\r\n",
       "<p><span style=\"color:#000000\">Tambi&eacute;n puede ser dif&iacute;cil encontrar la causa subyacente, si es que la hay. Es posible que el m&eacute;dico tenga que descartar docenas de posibles causas [</span><a href=\"https://www.ncbi.nlm.nih.gov/books/NBK553030/\" style=\"text-decoration:none\"><span style=\"color:#1155cc\"><u>R</u></span></a><span style=\"color:#000000\">].</span></p>\r\n",
       "\r\n",
       "<p>&nbsp;</p>\r\n",
       "\r\n",
       "<p><span style=\"color:#000000\">El dolor cr&oacute;nico tambi&eacute;n es dif&iacute;cil de tratar. Por lo general, las personas recurren a los analg&eacute;sicos para controlar su malestar [</span><a href=\"https://www.ncbi.nlm.nih.gov/books/NBK553030/\" style=\"text-decoration:none\"><span style=\"color:#1155cc\"><u>R</u></span></a><span style=\"color:#000000\">].</span></p>\r\n",
       "\r\n",
       "<p>&nbsp;</p>\r\n",
       "\r\n",
       "<p><span style=\"color:#000000\">Los tipos m&aacute;s comunes de analg&eacute;sicos son [</span><a href=\"https://www.ncbi.nlm.nih.gov/books/NBK553030/\" style=\"text-decoration:none\"><span style=\"color:#1155cc\"><u>R</u></span></a><span style=\"color:#000000\">, </span><a href=\"https://www.ncbi.nlm.nih.gov/books/NBK547742/\" style=\"text-decoration:none\"><span style=\"color:#1155cc\"><u>R</u></span></a><span style=\"color:#000000\">, </span><a href=\"https://www.ncbi.nlm.nih.gov/books/NBK459161/\" style=\"text-decoration:none\"><span style=\"color:#1155cc\"><u>R</u></span></a><span style=\"color:#000000\">]:</span></p>\r\n",
       "\r\n",
       "<ul>\r\n",
       "\t<li style=\"list-style-type:disc\"><span style=\"color:#000000\"><strong>Antiinflamatorios no esteroideos </strong></span><span style=\"color:#000000\">(como ibuprofeno o naproxeno). Estos reducen el dolor y la inflamaci&oacute;n.</span></li>\r\n",
       "\t<li style=\"list-style-type:disc\"><span style=\"color:#000000\"><strong>Opioides </strong></span><span style=\"color:#000000\">(como oxicodona, morfina o fentanilo). Estos imitan los opioides naturales del cuerpo. Crean sensaciones agradables y bloquean el dolor.</span></li>\r\n",
       "</ul>\r\n",
       "\r\n",
       "<p>&nbsp;</p>\r\n",
       "\r\n",
       "<p><span style=\"color:#000000\">Los analg&eacute;sicos pueden funcionar mejor en algunas personas que en otras. El uso prolongado de opioides tambi&eacute;n conlleva el riesgo de adicci&oacute;n y abuso. Por tanto, muchas personas recurren a pr&aacute;cticas alternativas para controlar el dolor. La acupuntura, los masajes y el yoga son estrategias populares [</span><a href=\"https://pubmed.ncbi.nlm.nih.gov/11207392/\" style=\"text-decoration:none\"><span style=\"color:#1155cc\"><u>R</u></span></a><span style=\"color:#000000\">, </span><a href=\"https://pubmed.ncbi.nlm.nih.gov/15661442/\" style=\"text-decoration:none\"><span style=\"color:#1155cc\"><u>R</u></span></a><span style=\"color:#000000\">, </span><a href=\"https://www.nccih.nih.gov/health/chronic-pain-in-depth\" style=\"text-decoration:none\"><span style=\"color:#1155cc\"><u>R</u></span></a><span style=\"color:#000000\">, </span><a href=\"https://www.ncbi.nlm.nih.gov/books/NBK448203/\" style=\"text-decoration:none\"><span style=\"color:#1155cc\"><u>R</u></span></a><span style=\"color:#000000\">, </span><a href=\"https://pubmed.ncbi.nlm.nih.gov/28226334/\" style=\"text-decoration:none\"><span style=\"color:#1155cc\"><u>R</u></span></a><span style=\"color:#000000\">].</span></p>\r\n",
       "\r\n",
       "<p>&nbsp;</p>\r\n",
       "\r\n",
       "<p><span style=\"color:#000000\">Los factores de riesgo del dolor cr&oacute;nico incluyen [</span><a href=\"https://www.nccih.nih.gov/research/research-results/defining-the-prevalence-of-chronic-pain-in-the-united-states\" style=\"text-decoration:none\"><span style=\"color:#1155cc\"><u>R</u></span></a><span style=\"color:#000000\">, </span><a href=\"https://www.ncbi.nlm.nih.gov/pmc/articles/PMC6676152/\" style=\"text-decoration:none\"><span style=\"color:#1155cc\"><u>R</u></span></a><span style=\"color:#000000\">]:</span></p>\r\n",
       "\r\n",
       "<ul>\r\n",
       "\t<li style=\"list-style-type:disc\"><span style=\"color:#000000\">G&eacute;nero femenino</span></li>\r\n",
       "\t<li style=\"list-style-type:disc\"><span style=\"color:#000000\">Edad avanzada</span></li>\r\n",
       "\t<li style=\"list-style-type:disc\"><span style=\"color:#000000\">Pobreza</span></li>\r\n",
       "\t<li style=\"list-style-type:disc\"><span style=\"color:#000000\">Lesi&oacute;n previa</span></li>\r\n",
       "\t<li style=\"list-style-type:disc\"><span style=\"color:#000000\">Problemas de salud mental</span></li>\r\n",
       "\t<li style=\"list-style-type:disc\"><span style=\"color:#000000\"><strong>Gen&eacute;tica</strong></span></li>\r\n",
       "</ul>\r\n",
       "\r\n",
       "<p>&nbsp;</p>\r\n",
       "\r\n",
       "<p><span style=\"color:#000000\"><strong>La gen&eacute;tica juega un papel importante en el desarrollo del dolor cr&oacute;nico.</strong></span><span style=\"color:#000000\"> Los genes que contribuyen al dolor tienden a influir [</span><a href=\"https://pubmed.ncbi.nlm.nih.gov/22337623/\" style=\"text-decoration:none\"><span style=\"color:#1155cc\"><u>R</u></span></a><span style=\"color:#000000\">, </span><a href=\"https://www.ncbi.nlm.nih.gov/pmc/articles/PMC4866581/\" style=\"text-decoration:none\"><span style=\"color:#1155cc\"><u>R</u></span></a><span style=\"color:#000000\">, </span><a href=\"https://pubmed.ncbi.nlm.nih.gov/21305503/\" style=\"text-decoration:none\"><span style=\"color:#1155cc\"><u>R</u></span></a><span style=\"color:#000000\">, </span><a href=\"https://pubmed.ncbi.nlm.nih.gov/19565482/\" style=\"text-decoration:none\"><span style=\"color:#1155cc\"><u>R</u></span></a><span style=\"color:#000000\">, </span><a href=\"https://pubmed.ncbi.nlm.nih.gov/22416031/\" style=\"text-decoration:none\"><span style=\"color:#1155cc\"><u>R</u></span></a><span style=\"color:#000000\">, </span><a href=\"https://www.ncbi.nlm.nih.gov/pmc/articles/PMC6359276/\" style=\"text-decoration:none\"><span style=\"color:#1155cc\"><u>R</u></span></a><span style=\"color:#000000\">, </span><a href=\"https://www.ncbi.nlm.nih.gov/pmc/articles/PMC3310736/\" style=\"text-decoration:none\"><span style=\"color:#1155cc\"><u>R</u></span></a><span style=\"color:#000000\">, </span><a href=\"https://pubmed.ncbi.nlm.nih.gov/24582949/\" style=\"text-decoration:none\"><span style=\"color:#1155cc\"><u>R</u></span></a><span style=\"color:#000000\">]:</span></p>\r\n",
       "\r\n",
       "<ul>\r\n",
       "\t<li style=\"list-style-type:disc\"><span style=\"color:#000000\">Qu&iacute;mica cerebral (</span><a href=\"https://selfdecode.com/gene/drd2/\" style=\"text-decoration:none\"><span style=\"color:#1155cc\"><em><u>DRD2</u></em></span></a><span style=\"color:#000000\">, </span><a href=\"https://selfdecode.com/gene/htr2a/\" style=\"text-decoration:none\"><span style=\"color:#1155cc\"><em><u>HTR2A</u></em></span></a><span style=\"color:#000000\">)</span></li>\r\n",
       "\t<li style=\"list-style-type:disc\"><span style=\"color:#000000\">Estr&eacute;s y adrenalina (</span><a href=\"https://selfdecode.com/gene/adra1a/\" style=\"text-decoration:none\"><span style=\"color:#1155cc\"><em><u>ADRA1A</u></em></span></a><span style=\"color:#000000\">, </span><a href=\"https://selfdecode.com/gene/adrb2/\" style=\"text-decoration:none\"><span style=\"color:#1155cc\"><em><u>ADRB2</u></em></span></a><span style=\"color:#000000\">, </span><a href=\"https://selfdecode.com/gene/fkbp5/\" style=\"text-decoration:none\"><span style=\"color:#1155cc\"><em><u>FKBP5</u></em></span></a><span style=\"color:#000000\">)</span></li>\r\n",
       "\t<li style=\"list-style-type:disc\"><span style=\"color:#000000\">Actividad nerviosa (</span><a href=\"https://selfdecode.com/gene/scn9a/\" style=\"text-decoration:none\"><span style=\"color:#1155cc\"><em><u>SCN9A</u></em></span></a><span style=\"color:#000000\">, </span><a href=\"https://selfdecode.com/gene/myt1l/\" style=\"text-decoration:none\"><span style=\"color:#1155cc\"><em><u>MYT1L</u></em></span></a><span style=\"color:#000000\">)</span></li>\r\n",
       "</ul><br>\n",
       "<br>\n",
       "<h4>Recommendations</h4>"
      ],
      "text/plain": [
       "<IPython.core.display.HTML object>"
      ]
     },
     "metadata": {},
     "output_type": "display_data"
    },
    {
     "data": {
      "text/html": [
       "<h5>Psicoterapia</h5>\n",
       "Consulte con su médico sobre la psicoterapia.<br>\n",
       "<table>\n",
       "<tr>\n",
       "<th>Type</th>\n",
       "<th>Effect</th>\n",
       "<th>Evidence</th>\n",
       "</tr>\n",
       "<tr>\n",
       "<td>lifestyle</td>\n",
       "<td>0.6</td>\n",
       "<td>0.8</td>\n",
       "</tr>\n",
       "</table>\n",
       "<p><span style=\"color:#000000\"><strong>La psicoterapia (terapia de conversaci&oacute;n) implica hablar sobre su salud con un terapeuta profesional</strong></span><span style=\"color:#000000\">. Puede ayudar a mejorar la forma en la que reacciona frente a determinadas experiencias [</span><a href=\"https://www.ncbi.nlm.nih.gov/pmc/articles/PMC6448000/\" style=\"text-decoration:none\"><span style=\"color:#1155cc\"><u>R</u></span></a><span style=\"color:#000000\">].</span></p>\r\n",
       "\r\n",
       "<p>&nbsp;</p>\r\n",
       "\r\n",
       "<p><span style=\"color:#000000\"><strong>La psicoterapia es una gran manera de mejorar muchas enfermedades, </strong></span><span style=\"color:#000000\">que incluyen [</span><a href=\"https://www.ncbi.nlm.nih.gov/pmc/articles/PMC6448000/\" style=\"text-decoration:none\"><span style=\"color:#1155cc\"><u>R</u></span></a><span style=\"color:#000000\">, </span><a href=\"https://www.ncbi.nlm.nih.gov/pmc/articles/PMC5509639/\" style=\"text-decoration:none\"><span style=\"color:#1155cc\"><u>R</u></span></a><span style=\"color:#000000\">, </span><a href=\"https://www.mayoclinic.org/tests-procedures/cognitive-behavioral-therapy/about/pac-20384610\" style=\"text-decoration:none\"><span style=\"color:#1155cc\"><u>R</u></span></a><span style=\"color:#000000\">, </span><a href=\"https://pubmed.ncbi.nlm.nih.gov/11349476/\" style=\"text-decoration:none\"><span style=\"color:#1155cc\"><u>R</u></span></a><span style=\"color:#000000\">]:</span></p>\r\n",
       "\r\n",
       "<ul>\r\n",
       "\t<li style=\"list-style-type:disc\"><span style=\"color:#000000\">Depresi&oacute;n</span></li>\r\n",
       "\t<li style=\"list-style-type:disc\"><span style=\"color:#000000\">Trastornos de ansiedad</span></li>\r\n",
       "\t<li style=\"list-style-type:disc\"><span style=\"color:#000000\">TEPT</span></li>\r\n",
       "\t<li style=\"list-style-type:disc\"><span style=\"color:#000000\">TOC</span></li>\r\n",
       "\t<li style=\"list-style-type:disc\"><span style=\"color:#000000\">Trastorno por abuso de sustancias</span></li>\r\n",
       "\t<li style=\"list-style-type:disc\"><span style=\"color:#000000\">Trastorno bipolar</span></li>\r\n",
       "</ul>\r\n",
       "\r\n",
       "<p>&nbsp;</p>\r\n",
       "\r\n",
       "<p><span style=\"color:#000000\"><strong>La terapia cognitivo-conductual (TCC)</strong></span><span style=\"color:#000000\"> es un tipo de psicoterapia. La TCC tiene como objetivo cambiar la forma en la que piensa sobre su vida y sobre usted mismo. Mediante la TCC, un terapeuta puede ayudarlo a desarrollar estrategias de afrontamiento saludables [</span><a href=\"https://www.mayoclinic.org/tests-procedures/cognitive-behavioral-therapy/about/pac-20384610\" style=\"text-decoration:none\"><span style=\"color:#1155cc\"><u>R</u></span></a><span style=\"color:#000000\">].</span></p>\r\n",
       "\r\n",
       "<p>&nbsp;</p><br>\n"
      ],
      "text/plain": [
       "<IPython.core.display.HTML object>"
      ]
     },
     "metadata": {},
     "output_type": "display_data"
    },
    {
     "data": {
      "text/html": [
       "<h5>Ejercicio</h5>\n",
       "Realice ejercicio con regularidad.<br>\n",
       "<table>\n",
       "<tr>\n",
       "<th>Type</th>\n",
       "<th>Effect</th>\n",
       "<th>Evidence</th>\n",
       "</tr>\n",
       "<tr>\n",
       "<td>lifestyle</td>\n",
       "<td>0.6</td>\n",
       "<td>0.6</td>\n",
       "</tr>\n",
       "</table>\n",
       "<p style=\"text-align:justify\"><span style=\"color:#000000\"><strong>El </strong></span><a href=\"https://selfhacked.com/blog/top-14-proven-health-benefits-exercise-references-mechanisms/\" style=\"text-decoration:none\"><span style=\"color:#1155cc\"><strong><u>ejercicio</u></strong></span></a><span style=\"color:#000000\"><strong> puede hacer maravillas por su salud</strong></span><span style=\"color:#000000\">. Puede ayudarlo a perder peso, optimizar la salud de su coraz&oacute;n, mejorar su estado de &aacute;nimo y m&aacute;s [</span><a href=\"https://medlineplus.gov/benefitsofexercise.html\" style=\"text-decoration:none\"><span style=\"color:#1155cc\"><u>R</u></span></a><span style=\"color:#000000\">].</span></p>\r\n",
       "\r\n",
       "<p style=\"text-align:justify\"><span style=\"color:#000000\">Existen diversas maneras de mantenerse activo. Puede caminar, correr, nadar, bailar o practicar deportes en equipo</span><span style=\"color:#000000\"><strong> &iexcl;Todo cuenta y nunca es tarde para empezar!</strong></span></p>\r\n",
       "\r\n",
       "<p style=\"text-align:justify\"><span style=\"color:#000000\">Trate de combinar rutinas de cardio (al menos 150 min/semana) y de entrenamiento de fuerza (2 veces/semana) [</span><a href=\"https://health.gov/sites/default/files/2019-09/Physical_Activity_Guidelines_2nd_edition.pdf#page=56\" style=\"text-decoration:none\"><span style=\"color:#1155cc\"><u>R</u></span></a><span style=\"color:#000000\">].</span></p>\r\n",
       "\r\n",
       "<p>&nbsp;</p><br>\n"
      ],
      "text/plain": [
       "<IPython.core.display.HTML object>"
      ]
     },
     "metadata": {},
     "output_type": "display_data"
    },
    {
     "data": {
      "text/html": [
       "<h5>Capsaicina Tópica</h5>\n",
       "Consulte con su médico sobre la capsaicina tópica.<br>\n",
       "<table>\n",
       "<tr>\n",
       "<th>Type</th>\n",
       "<th>Effect</th>\n",
       "<th>Evidence</th>\n",
       "</tr>\n",
       "<tr>\n",
       "<td>drug</td>\n",
       "<td>0.4</td>\n",
       "<td>0.6</td>\n",
       "</tr>\n",
       "</table>\n",
       "<p><span style=\"color:#000000\"><strong>La </strong></span><a href=\"https://selfhacked.com/blog/capsaicin/\" style=\"text-decoration:none\"><span style=\"color:#1155cc\"><strong><u>capsaicina </u></strong></span></a><span style=\"color:#000000\"><strong>es el compuesto que hace que los chiles sean picantes</strong></span><span style=\"color:#000000\"> [</span><a href=\"https://www.ncbi.nlm.nih.gov/books/NBK459168/\" style=\"text-decoration:none\"><span style=\"color:#1155cc\"><u>R</u></span></a><span style=\"color:#000000\">].</span></p>\r\n",
       "\r\n",
       "<p>&nbsp;</p>\r\n",
       "\r\n",
       "<p><span style=\"color:#000000\">Las personas usan </span><span style=\"color:#000000\"><strong>cremas y parches m&eacute;dicos de capsaicina</strong></span><span style=\"color:#000000\"> para aliviar el dolor [</span><a href=\"https://www.ncbi.nlm.nih.gov/pmc/articles/PMC6267943/\" style=\"text-decoration:none\"><span style=\"color:#1155cc\"><u>R</u></span></a><span style=\"color:#000000\">].</span></p>\r\n",
       "\r\n",
       "<p>&nbsp;</p><br>\n"
      ],
      "text/plain": [
       "<IPython.core.display.HTML object>"
      ]
     },
     "metadata": {},
     "output_type": "display_data"
    },
    {
     "data": {
      "text/html": [
       "<h5>Fisioterapia</h5>\n",
       "Converse con su médico sobre la fisioterapia.<br>\n",
       "<table>\n",
       "<tr>\n",
       "<th>Type</th>\n",
       "<th>Effect</th>\n",
       "<th>Evidence</th>\n",
       "</tr>\n",
       "<tr>\n",
       "<td>lifestyle</td>\n",
       "<td>0.6</td>\n",
       "<td>0.6</td>\n",
       "</tr>\n",
       "</table>\n",
       "<p style=\"text-align:justify\"><span style=\"color:#000000\">La </span><span style=\"color:#000000\"><strong>fisioterapia </strong></span><span style=\"color:#000000\">(</span><span style=\"color:#000000\"><strong>terapia f&iacute;sica</strong></span><span style=\"color:#000000\">) ayuda a las personas a recuperar o mantener su habilidad para moverse [</span><a href=\"https://www.nhs.uk/conditions/physiotherapy/\" style=\"text-decoration:none\"><span style=\"color:#1155cc\"><u>R</u></span></a><span style=\"color:#000000\">].</span></p>\r\n",
       "\r\n",
       "<p>&nbsp;</p>\r\n",
       "\r\n",
       "<p style=\"text-align:justify\"><span style=\"color:#000000\">La terapia f&iacute;sica puede incluir [</span><a href=\"https://www.nhs.uk/conditions/physiotherapy/how-it-works/\" style=\"text-decoration:none\"><span style=\"color:#1155cc\"><u>R</u></span></a><span style=\"color:#000000\">]:</span></p>\r\n",
       "\r\n",
       "<ul>\r\n",
       "\t<li style=\"list-style-type:disc\"><span style=\"color:#000000\">Ejercicios para articulaciones o m&uacute;sculos</span></li>\r\n",
       "\t<li style=\"list-style-type:disc\"><span style=\"color:#000000\">Ejercicios correctivos</span></li>\r\n",
       "\t<li style=\"list-style-type:disc\"><span style=\"color:#000000\">Masajes</span></li>\r\n",
       "\t<li style=\"list-style-type:disc\"><span style=\"color:#000000\">Educaci&oacute;n y consejos</span></li>\r\n",
       "</ul>\r\n",
       "\r\n",
       "<p>&nbsp;</p>\r\n",
       "\r\n",
       "<p style=\"text-align:justify\"><span style=\"color:#000000\">Las personas usan principalmente la fisioterapia para ayudar con [</span><a href=\"https://www.nhs.uk/conditions/physiotherapy/\" style=\"text-decoration:none\"><span style=\"color:#1155cc\"><u>R</u></span></a><span style=\"color:#000000\">]:</span></p>\r\n",
       "\r\n",
       "<ul>\r\n",
       "\t<li style=\"list-style-type:disc\"><span style=\"color:#000000\">Dolor y lesiones</span></li>\r\n",
       "\t<li style=\"list-style-type:disc\"><span style=\"color:#000000\">Recuperaci&oacute;n de un accidente cerebrovascular</span></li>\r\n",
       "\t<li style=\"list-style-type:disc\"><span style=\"color:#000000\">Enfermedades cr&oacute;nicas</span></li>\r\n",
       "</ul><br>\n"
      ],
      "text/plain": [
       "<IPython.core.display.HTML object>"
      ]
     },
     "metadata": {},
     "output_type": "display_data"
    },
    {
     "data": {
      "text/html": [
       "<h5>Biorretroalimentación</h5>\n",
       "Consulte con su médico sobre la biorretroalimentación.<br>\n",
       "<table>\n",
       "<tr>\n",
       "<th>Type</th>\n",
       "<th>Effect</th>\n",
       "<th>Evidence</th>\n",
       "</tr>\n",
       "<tr>\n",
       "<td>lifestyle</td>\n",
       "<td>0.6</td>\n",
       "<td>0.5</td>\n",
       "</tr>\n",
       "</table>\n",
       "<p style=\"text-align:justify\"><span style=\"color:#000000\">La </span><span style=\"color:#000000\"><strong>biorretroalimentaci&oacute;n </strong></span><span style=\"color:#000000\">es un tipo de &quot;</span><span style=\"color:#000000\"><strong>entrenamiento cerebral</strong></span><span style=\"color:#000000\">&quot; en el que se conectan sensores a su cuerpo. Detectan informaci&oacute;n como su frecuencia card&iacute;aca, temperatura y frecuencia respiratoria. Al ver esta informaci&oacute;n, es posible que pueda controlar mejor estas funciones [</span><a href=\"http://ncbi.nlm.nih.gov/books/NBK553075/\" style=\"text-decoration:none\"><span style=\"color:#1155cc\"><u>R</u></span></a><span style=\"color:#000000\">, </span><a href=\"https://www.mayoclinic.org/tests-procedures/biofeedback/about/pac-20384664\" style=\"text-decoration:none\"><span style=\"color:#1155cc\"><u>R</u></span></a><span style=\"color:#000000\">].</span></p>\r\n",
       "\r\n",
       "<p>&nbsp;</p>\r\n",
       "\r\n",
       "<p style=\"text-align:justify\"><span style=\"color:#000000\">Por lo general, la biorretroalimentaci&oacute;n se utiliza para ayudar con [</span><a href=\"https://www.ncbi.nlm.nih.gov/books/NBK553075/\" style=\"text-decoration:none\"><span style=\"color:#1155cc\"><u>R</u></span></a><span style=\"color:#000000\">]:</span></p>\r\n",
       "\r\n",
       "<ul>\r\n",
       "\t<li style=\"list-style-type:disc\"><span style=\"color:#000000\">Problemas intestinales</span></li>\r\n",
       "\t<li style=\"list-style-type:disc\"><span style=\"color:#000000\">Dolor cr&oacute;nico</span></li>\r\n",
       "\t<li style=\"list-style-type:disc\"><span style=\"color:#000000\">Migra&ntilde;as</span></li>\r\n",
       "\t<li style=\"list-style-type:disc\"><span style=\"color:#000000\">Insomnio</span></li>\r\n",
       "</ul><br>\n"
      ],
      "text/plain": [
       "<IPython.core.display.HTML object>"
      ]
     },
     "metadata": {},
     "output_type": "display_data"
    },
    {
     "data": {
      "text/html": [
       "<h5>Mindfulness</h5>\n",
       "Practique mindfulness.<br>\n",
       "<table>\n",
       "<tr>\n",
       "<th>Type</th>\n",
       "<th>Effect</th>\n",
       "<th>Evidence</th>\n",
       "</tr>\n",
       "<tr>\n",
       "<td>lifestyle</td>\n",
       "<td>0.4</td>\n",
       "<td>0.6</td>\n",
       "</tr>\n",
       "</table>\n",
       "<p style=\"text-align:justify\"><span style=\"color:#000000\"><strong>El mindfulness es la pr&aacute;ctica de estar consciente del momento presente</strong></span><span style=\"color:#000000\">. Al practicar mindfulness, una persona reconoce sus pensamientos, sentimientos y sensaciones sin ning&uacute;n juicio [</span><a href=\"https://www.mayoclinic.org/healthy-lifestyle/consumer-health/in-depth/mindfulness-exercises/art-20046356\" style=\"text-decoration:none\"><span style=\"color:#1155cc\"><u>R</u></span></a><span style=\"color:#000000\">].</span></p>\r\n",
       "\r\n",
       "<p>&nbsp;</p>\r\n",
       "\r\n",
       "<p style=\"text-align:justify\"><span style=\"color:#000000\">El mindfulness y otros tipos de </span><span style=\"color:#1155cc\"><u>meditaci&oacute;n </u></span><span style=\"color:#000000\">pueden mejorar [</span><a href=\"https://www.mayoclinic.org/healthy-lifestyle/consumer-health/in-depth/mindfulness-exercises/art-20046356\" style=\"text-decoration:none\"><span style=\"color:#1155cc\"><u>R</u></span></a><span style=\"color:#000000\">]:</span></p>\r\n",
       "\r\n",
       "<ul>\r\n",
       "\t<li style=\"list-style-type:disc\"><span style=\"color:#000000\">Estr&eacute;s y ansiedad</span></li>\r\n",
       "\t<li style=\"list-style-type:disc\"><span style=\"color:#000000\">Estado de &aacute;nimo</span></li>\r\n",
       "\t<li style=\"list-style-type:disc\"><span style=\"color:#000000\">Trastornos del sue&ntilde;o</span></li>\r\n",
       "\t<li style=\"list-style-type:disc\"><span style=\"color:#000000\">Dolor</span></li>\r\n",
       "</ul><br>\n"
      ],
      "text/plain": [
       "<IPython.core.display.HTML object>"
      ]
     },
     "metadata": {},
     "output_type": "display_data"
    },
    {
     "data": {
      "text/html": [
       "<h5>Acupuntura</h5>\n",
       "Consulte con su médico sobre la acupuntura.<br>\n",
       "<table>\n",
       "<tr>\n",
       "<th>Type</th>\n",
       "<th>Effect</th>\n",
       "<th>Evidence</th>\n",
       "</tr>\n",
       "<tr>\n",
       "<td>lifestyle</td>\n",
       "<td>0.6</td>\n",
       "<td>0.8</td>\n",
       "</tr>\n",
       "</table>\n",
       "<p style=\"text-align:justify\"><span style=\"color:#000000\"><strong>La </strong></span><a href=\"https://selfhacked.com/blog/acupuncture-benefits-mechanisms-risks/\" style=\"text-decoration:none\"><span style=\"color:#1155cc\"><strong><u>acupuntura</u></strong></span></a><span style=\"color:#000000\"><strong> es parte de la medicina tradicional china. Se basa en insertar agujas delgadas en puntos espec&iacute;ficos del cuerpo.</strong></span><span style=\"color:#000000\"> Las personas la utilizan para [</span><a href=\"https://www.mayoclinic.org/tests-procedures/acupuncture/about/pac-20392763\" style=\"text-decoration:none\"><span style=\"color:#1155cc\"><u>R</u></span></a><span style=\"color:#000000\">, </span><a href=\"https://www.ncbi.nlm.nih.gov/pmc/articles/PMC4036643/\" style=\"text-decoration:none\"><span style=\"color:#1155cc\"><u>R</u></span></a><span style=\"color:#000000\">, </span><a href=\"https://www.ncbi.nlm.nih.gov/pmc/articles/PMC3156618/\" style=\"text-decoration:none\"><span style=\"color:#1155cc\"><u>R</u></span></a><span style=\"color:#000000\">, </span><a href=\"https://pubmed.ncbi.nlm.nih.gov/16625560/\" style=\"text-decoration:none\"><span style=\"color:#1155cc\"><u>R</u></span></a><span style=\"color:#000000\">]:</span></p>\r\n",
       "\r\n",
       "<ul>\r\n",
       "\t<li style=\"list-style-type:disc\"><span style=\"color:#000000\">Aliviar el dolor</span></li>\r\n",
       "\t<li style=\"list-style-type:disc\"><span style=\"color:#000000\">Mejorar la calidad del sue&ntilde;o</span></li>\r\n",
       "\t<li style=\"list-style-type:disc\"><span style=\"color:#000000\">Aliviar las alergias</span></li>\r\n",
       "\t<li style=\"list-style-type:disc\"><span style=\"color:#000000\">Disminuir las n&aacute;useas</span></li>\r\n",
       "</ul><br>\n"
      ],
      "text/plain": [
       "<IPython.core.display.HTML object>"
      ]
     },
     "metadata": {},
     "output_type": "display_data"
    },
    {
     "data": {
      "text/html": [
       "<h5>Vitamina D</h5>\n",
       "Consuma más vitamina D.<br>\n",
       "<table>\n",
       "<tr>\n",
       "<th>Type</th>\n",
       "<th>Effect</th>\n",
       "<th>Evidence</th>\n",
       "</tr>\n",
       "<tr>\n",
       "<td>supplement</td>\n",
       "<td>0.4</td>\n",
       "<td>0.6</td>\n",
       "</tr>\n",
       "</table>\n",
       "<p style=\"text-align:justify\"><span style=\"color:#000000\"><strong>Su cuerpo necesita</strong></span><a href=\"https://labs.selfdecode.com/blog/35proven-health-benefits-vitamin-d-part-1/\" style=\"text-decoration:none\"><span style=\"color:#000000\"><strong> </strong></span><span style=\"color:#1155cc\"><strong><u>vitamina D</u></strong></span></a><span style=\"color:#000000\"><strong> para tener huesos fuertes.</strong></span><span style=\"color:#000000\"> La vitamina D tambi&eacute;n juega un papel en [</span><a href=\"https://ods.od.nih.gov/factsheets/VitaminD-HealthProfessional/\" style=\"text-decoration:none\"><span style=\"color:#1155cc\"><u>R</u></span></a><span style=\"color:#000000\">]:</span></p>\r\n",
       "\r\n",
       "<ul>\r\n",
       "\t<li style=\"list-style-type:disc\"><span style=\"color:#000000\">Estado de &aacute;nimo</span></li>\r\n",
       "\t<li style=\"list-style-type:disc\"><span style=\"color:#000000\">Inmunidad</span></li>\r\n",
       "\t<li style=\"list-style-type:disc\"><span style=\"color:#000000\">Salud del coraz&oacute;n</span></li>\r\n",
       "\t<li style=\"list-style-type:disc\"><span style=\"color:#000000\">Control del az&uacute;car en la sangre</span></li>\r\n",
       "</ul>\r\n",
       "\r\n",
       "<p>&nbsp;</p>\r\n",
       "\r\n",
       "<p style=\"text-align:justify\"><span style=\"color:#000000\"><strong>La</strong></span><a href=\"https://selfhacked.com/blog/avoiding-sun-will-kill-14-proven-science-based-health-benefits-sun/\" style=\"text-decoration:none\"><span style=\"color:#000000\"><strong> </strong></span><span style=\"color:#1155cc\"><strong><u>luz solar</u></strong></span></a><span style=\"color:#000000\"><strong> es nuestra principal fuente de vitamina D</strong></span><span style=\"color:#000000\">. Los expertos recomiendan tomar por lo menos </span><span style=\"color:#000000\"><strong>5-15 minutos de sol al mediod&iacute;a, 2-3 veces por semana</strong></span><span style=\"color:#000000\">. Las personas con piel m&aacute;s oscura y las que viven en latitudes altas pueden necesitar per&iacute;odos m&aacute;s prolongados de exposici&oacute;n solar [</span><a href=\"https://www.ncbi.nlm.nih.gov/pmc/articles/PMC2290997/\" style=\"text-decoration:none\"><span style=\"color:#1155cc\"><u>R</u></span></a><span style=\"color:#000000\">, </span><a href=\"https://www.ncbi.nlm.nih.gov/pmc/articles/PMC7049620/\" style=\"text-decoration:none\"><span style=\"color:#1155cc\"><u>R</u></span></a><span style=\"color:#000000\">].</span></p>\r\n",
       "\r\n",
       "<p>&nbsp;</p>\r\n",
       "\r\n",
       "<p style=\"text-align:justify\"><span style=\"color:#000000\">Los alimentos como el pescado, huevos y leche fortificada proporcionan peque&ntilde;as cantidades de vitamina D. </span><span style=\"color:#000000\"><strong>Las personas con d&eacute;ficit de vitamina D deben considerar tomar un suplemento</strong></span><span style=\"color:#000000\"> [</span><a href=\"https://ods.od.nih.gov/factsheets/VitaminD-HealthProfessional/\" style=\"text-decoration:none\"><span style=\"color:#1155cc\"><u>R</u></span></a><span style=\"color:#000000\">].</span></p>\r\n",
       "\r\n",
       "<p>&nbsp;</p><br>\n"
      ],
      "text/plain": [
       "<IPython.core.display.HTML object>"
      ]
     },
     "metadata": {},
     "output_type": "display_data"
    },
    {
     "data": {
      "text/html": [
       "<h5>PEA</h5>\n",
       "Considere tomar suplementos con PEA.<br>\n",
       "<table>\n",
       "<tr>\n",
       "<th>Type</th>\n",
       "<th>Effect</th>\n",
       "<th>Evidence</th>\n",
       "</tr>\n",
       "<tr>\n",
       "<td>supplement</td>\n",
       "<td>0.4</td>\n",
       "<td>0.5</td>\n",
       "</tr>\n",
       "</table>\n",
       "<p style=\"text-align:justify\"><span style=\"color:#000000\">La </span><a href=\"https://selfhacked.com/blog/palmitoylethanolamide-pea/\" style=\"text-decoration:none\"><span style=\"color:#1155cc\"><u>palmitoiletanolamida</u></span></a><span style=\"color:#000000\"> (</span><span style=\"color:#000000\"><strong>PEA</strong></span><span style=\"color:#000000\">) es un compuesto producido naturalmente por el cuerpo para ayudar a combatir la inflamaci&oacute;n [</span><a href=\"https://www.ncbi.nlm.nih.gov/pmc/articles/PMC3771453/\" style=\"text-decoration:none\"><span style=\"color:#1155cc\"><u>R</u></span></a><span style=\"color:#000000\">].</span></p>\r\n",
       "\r\n",
       "<p>&nbsp;</p>\r\n",
       "\r\n",
       "<p style=\"text-align:justify\"><span style=\"color:#000000\">Tambi&eacute;n es producido por plantas y otros animales. Buenas fuentes de PEA incluyen [</span><a href=\"https://www.ncbi.nlm.nih.gov/pmc/articles/PMC5429331/\" style=\"text-decoration:none\"><span style=\"color:#1155cc\"><u>R</u></span></a><span style=\"color:#000000\">]:</span></p>\r\n",
       "\r\n",
       "<ul>\r\n",
       "\t<li style=\"list-style-type:disc\"><span style=\"color:#000000\">Lecitina de soya</span></li>\r\n",
       "\t<li style=\"list-style-type:disc\"><span style=\"color:#000000\">Soya</span></li>\r\n",
       "\t<li style=\"list-style-type:disc\"><span style=\"color:#000000\">Yema de huevo</span></li>\r\n",
       "\t<li style=\"list-style-type:disc\"><span style=\"color:#000000\">Man&iacute;</span></li>\r\n",
       "</ul><br>\n"
      ],
      "text/plain": [
       "<IPython.core.display.HTML object>"
      ]
     },
     "metadata": {},
     "output_type": "display_data"
    },
    {
     "data": {
      "text/html": [
       "<h5>Hipnosis</h5>\n",
       "Consulte con su médico sobre la hipnosis.<br>\n",
       "<table>\n",
       "<tr>\n",
       "<th>Type</th>\n",
       "<th>Effect</th>\n",
       "<th>Evidence</th>\n",
       "</tr>\n",
       "<tr>\n",
       "<td>lifestyle</td>\n",
       "<td>0.4</td>\n",
       "<td>0.6</td>\n",
       "</tr>\n",
       "</table>\n",
       "<p style=\"text-align:justify\"><span style=\"color:#000000\">La hipnosis es un estado de trance destinado a</span><span style=\"color:#000000\"><strong> </strong></span><span style=\"color:#000000\">[</span><a href=\"https://www.ncbi.nlm.nih.gov/pmc/articles/PMC4873672/\" style=\"text-decoration:none\"><span style=\"color:#1155cc\"><u>R</u></span></a><span style=\"color:#000000\">, </span><a href=\"https://www.mayoclinic.org/tests-procedures/hypnosis/about/pac-20394405\" style=\"text-decoration:none\"><span style=\"color:#1155cc\"><u>R</u></span></a><span style=\"color:#000000\">]:</span></p>\r\n",
       "\r\n",
       "<ul>\r\n",
       "\t<li style=\"list-style-type:disc\"><span style=\"color:#000000\">Promover la relajaci&oacute;n</span></li>\r\n",
       "\t<li style=\"list-style-type:disc\"><span style=\"color:#000000\">Mejorar la concentraci&oacute;n</span></li>\r\n",
       "\t<li style=\"list-style-type:disc\"><span style=\"color:#000000\">Hacer que una persona sea m&aacute;s abierta a sugerencias</span></li>\r\n",
       "</ul>\r\n",
       "\r\n",
       "<p>&nbsp;</p>\r\n",
       "\r\n",
       "<p style=\"text-align:justify\"><span style=\"color:#000000\">A pesar de la forma en que a menudo es presentada en los medios de comunicaci&oacute;n, la hipnosis es una pr&aacute;ctica real que se usa para apoyar la salud mental [</span><a href=\"https://www.mayoclinic.org/tests-procedures/hypnosis/about/pac-20394405\" style=\"text-decoration:none\"><span style=\"color:#1155cc\"><u>R</u></span></a><span style=\"color:#000000\">, </span><a href=\"http://www.tandfonline.com/doi/abs/10.1080/00029157.2015.1011472?journalCode=ujhy20\" style=\"text-decoration:none\"><span style=\"color:#1155cc\"><u>R</u></span></a><span style=\"color:#000000\">].</span></p>\r\n",
       "\r\n",
       "<p>&nbsp;</p>\r\n",
       "\r\n",
       "<p style=\"text-align:justify\"><span style=\"color:#000000\"><strong>Solo un profesional certificado debe ayudarlo a lograr la hipnosis.</strong></span></p>\r\n",
       "\r\n",
       "<p>&nbsp;</p><br>\n"
      ],
      "text/plain": [
       "<IPython.core.display.HTML object>"
      ]
     },
     "metadata": {},
     "output_type": "display_data"
    },
    {
     "data": {
      "text/html": [
       "<h5>Masajes</h5>\n",
       "Considere recibir un masaje.<br>\n",
       "<table>\n",
       "<tr>\n",
       "<th>Type</th>\n",
       "<th>Effect</th>\n",
       "<th>Evidence</th>\n",
       "</tr>\n",
       "<tr>\n",
       "<td>lifestyle</td>\n",
       "<td>0.4</td>\n",
       "<td>0.4</td>\n",
       "</tr>\n",
       "</table>\n",
       "<p><span style=\"color:#000000\"><strong>Si alguna vez ha recibido un </strong></span><a href=\"https://selfhacked.com/blog/massage-health-benefits/\" style=\"text-decoration:none\"><span style=\"color:#1155cc\"><strong><u>masaje </u></strong></span></a><span style=\"color:#000000\"><strong>profesional, probablemente sepa cu&aacute;nto bien puede hacer</strong></span><span style=\"color:#000000\">. Los masajes pueden ayudar con [</span><a href=\"https://www.nccih.nih.gov/health/massage-therapy-what-you-need-to-know\" style=\"text-decoration:none\"><span style=\"color:#1155cc\"><u>R</u></span></a><span style=\"color:#000000\">, </span><a href=\"https://pubmed.ncbi.nlm.nih.gov/32977216/\" style=\"text-decoration:none\"><span style=\"color:#1155cc\"><u>R</u></span></a><span style=\"color:#000000\">, </span><a href=\"https://pubmed.ncbi.nlm.nih.gov/27025688/\" style=\"text-decoration:none\"><span style=\"color:#1155cc\"><u>R</u></span></a><span style=\"color:#000000\">]:</span></p>\r\n",
       "\r\n",
       "<ul>\r\n",
       "\t<li style=\"list-style-type:disc\"><span style=\"color:#000000\">Ansiedad</span></li>\r\n",
       "\t<li style=\"list-style-type:disc\"><span style=\"color:#000000\">Dolor</span></li>\r\n",
       "\t<li style=\"list-style-type:disc\"><span style=\"color:#000000\">Fatiga</span></li>\r\n",
       "</ul><br>\n"
      ],
      "text/plain": [
       "<IPython.core.display.HTML object>"
      ]
     },
     "metadata": {},
     "output_type": "display_data"
    },
    {
     "data": {
      "text/html": [
       "<h5>Cognitive-Behavioral Therapy (CBT)</h5>\n",
       "<br>\n",
       "<table>\n",
       "<tr>\n",
       "<th>Type</th>\n",
       "<th>Effect</th>\n",
       "<th>Evidence</th>\n",
       "</tr>\n",
       "<tr>\n",
       "<td>lifestyle</td>\n",
       "<td>0.0</td>\n",
       "<td>0.0</td>\n",
       "</tr>\n",
       "</table>\n",
       "<p>&nbsp;&nbsp;</p><br>\n"
      ],
      "text/plain": [
       "<IPython.core.display.HTML object>"
      ]
     },
     "metadata": {},
     "output_type": "display_data"
    },
    {
     "data": {
      "text/html": [
       "<h5>Acceptance and Commitment Therapy (ACT)</h5>\n",
       "<br>\n",
       "<table>\n",
       "<tr>\n",
       "<th>Type</th>\n",
       "<th>Effect</th>\n",
       "<th>Evidence</th>\n",
       "</tr>\n",
       "<tr>\n",
       "<td>lifestyle</td>\n",
       "<td>0.0</td>\n",
       "<td>0.0</td>\n",
       "</tr>\n",
       "</table>\n",
       "<p>&nbsp; &nbsp;</p><br>\n"
      ],
      "text/plain": [
       "<IPython.core.display.HTML object>"
      ]
     },
     "metadata": {},
     "output_type": "display_data"
    },
    {
     "data": {
      "text/html": [
       "<h5>Graded Motor Imagery</h5>\n",
       "<br>\n",
       "<table>\n",
       "<tr>\n",
       "<th>Type</th>\n",
       "<th>Effect</th>\n",
       "<th>Evidence</th>\n",
       "</tr>\n",
       "<tr>\n",
       "<td>lifestyle</td>\n",
       "<td>0.0</td>\n",
       "<td>0.0</td>\n",
       "</tr>\n",
       "</table>\n",
       "<p>&nbsp; &nbsp;</p><br>\n"
      ],
      "text/plain": [
       "<IPython.core.display.HTML object>"
      ]
     },
     "metadata": {},
     "output_type": "display_data"
    },
    {
     "data": {
      "text/html": [
       "<h5>Pain Neuroscience Education (PNE)</h5>\n",
       "<br>\n",
       "<table>\n",
       "<tr>\n",
       "<th>Type</th>\n",
       "<th>Effect</th>\n",
       "<th>Evidence</th>\n",
       "</tr>\n",
       "<tr>\n",
       "<td>lifestyle</td>\n",
       "<td>0.0</td>\n",
       "<td>0.0</td>\n",
       "</tr>\n",
       "</table>\n",
       "<p>&nbsp; &nbsp;</p><br>\n"
      ],
      "text/plain": [
       "<IPython.core.display.HTML object>"
      ]
     },
     "metadata": {},
     "output_type": "display_data"
    },
    {
     "data": {
      "text/html": [
       "<h5>Music Therapy</h5>\n",
       "<br>\n",
       "<table>\n",
       "<tr>\n",
       "<th>Type</th>\n",
       "<th>Effect</th>\n",
       "<th>Evidence</th>\n",
       "</tr>\n",
       "<tr>\n",
       "<td>lifestyle</td>\n",
       "<td>0.0</td>\n",
       "<td>0.0</td>\n",
       "</tr>\n",
       "</table>\n",
       "<p>&nbsp;&nbsp;</p><br>\n"
      ],
      "text/plain": [
       "<IPython.core.display.HTML object>"
      ]
     },
     "metadata": {},
     "output_type": "display_data"
    },
    {
     "data": {
      "text/html": [
       "<h5>Yoga</h5>\n",
       "<br>\n",
       "<table>\n",
       "<tr>\n",
       "<th>Type</th>\n",
       "<th>Effect</th>\n",
       "<th>Evidence</th>\n",
       "</tr>\n",
       "<tr>\n",
       "<td>lifestyle</td>\n",
       "<td>0.0</td>\n",
       "<td>0.0</td>\n",
       "</tr>\n",
       "</table>\n",
       "<p>&nbsp; &nbsp;</p><br>\n"
      ],
      "text/plain": [
       "<IPython.core.display.HTML object>"
      ]
     },
     "metadata": {},
     "output_type": "display_data"
    },
    {
     "data": {
      "text/html": [
       "<h5>Magnesium</h5>\n",
       "<br>\n",
       "<table>\n",
       "<tr>\n",
       "<th>Type</th>\n",
       "<th>Effect</th>\n",
       "<th>Evidence</th>\n",
       "</tr>\n",
       "<tr>\n",
       "<td>supplement</td>\n",
       "<td>0.0</td>\n",
       "<td>0.0</td>\n",
       "</tr>\n",
       "</table>\n",
       "<p>&nbsp; &nbsp;</p><br>\n"
      ],
      "text/plain": [
       "<IPython.core.display.HTML object>"
      ]
     },
     "metadata": {},
     "output_type": "display_data"
    },
    {
     "data": {
      "text/html": [
       "<h3>Insomnio</h3>\n",
       "Your score: 0.64176245210728<br>\n",
       "Probabilidad media de insomnio<br>\n",
       "<h4>Summary</h4>\n",
       "<br>\n",
       "<h4>Sobre el Insomnio</h4>\n",
       "<p style=\"text-align:justify\"><span style=\"color:#000000\">Usted tiene un &quot;reloj&quot; dentro de su cuerpo que regula el sue&ntilde;o y otros ciclos de 24 horas. Estos ciclos se denominan </span><span style=\"color:#000000\"><em>ritmos circadianos</em></span><span style=\"color:#000000\"> [</span><a href=\"https://pubmed.ncbi.nlm.nih.gov/28777176/\" style=\"text-decoration:none\"><span style=\"color:#1155cc\"><u>R</u></span></a><span style=\"color:#000000\">].</span></p>\r\n",
       "\r\n",
       "<p>&nbsp;</p>\r\n",
       "\r\n",
       "<p style=\"text-align:justify\"><span style=\"color:#000000\"><strong>Si su reloj interno es alterado, puede causar </strong></span><span style=\"color:#000000\"><strong><em>insomnio</em></strong></span><span style=\"color:#000000\">. Las personas con insomnio tienen problemas para conciliar el sue&ntilde;o, permanecer dormidos o ambos [</span><a href=\"https://www.ncbi.nlm.nih.gov/pmc/articles/PMC6069654/\" style=\"text-decoration:none\"><span style=\"color:#1155cc\"><u>R</u></span></a><span style=\"color:#000000\">, </span><a href=\"https://www.ncbi.nlm.nih.gov/pmc/articles/PMC4970219/\" style=\"text-decoration:none\"><span style=\"color:#1155cc\"><u>R</u></span></a><span style=\"color:#000000\">].</span></p>\r\n",
       "\r\n",
       "<p>&nbsp;</p>\r\n",
       "\r\n",
       "<p style=\"text-align:justify\"><span style=\"color:#000000\"><strong>El insomnio es la enfermedad del sue&ntilde;o m&aacute;s com&uacute;n en los EE. UU.&nbsp; </strong></span><span style=\"color:#000000\">De hecho</span><span style=\"color:#000000\"><strong>, alrededor de 1 de cada 4 estadounidenses tiene problemas con &eacute;l </strong></span><span style=\"color:#000000\">[</span><a href=\"https://www.cdc.gov/sleep/index.html\" style=\"text-decoration:none\"><span style=\"color:#1155cc\"><u>R</u></span></a><span style=\"color:#000000\">, </span><a href=\"https://www.mayoclinic.org/diseases-conditions/insomnia/symptoms-causes/syc-20355167\" style=\"text-decoration:none\"><span style=\"color:#1155cc\"><u>R</u></span></a><span style=\"color:#000000\">].</span></p>\r\n",
       "\r\n",
       "<p>&nbsp;</p>\r\n",
       "\r\n",
       "<p><span style=\"color:#000000\">Si alguna vez ha tenido problemas para conciliar el sue&ntilde;o o permanecer dormido, es probable que [</span><a href=\"https://www.mayoclinic.org/diseases-conditions/insomnia/symptoms-causes/syc-20355167\" style=\"text-decoration:none\"><span style=\"color:#1155cc\"><u>R</u></span></a><span style=\"color:#000000\">, </span><a href=\"https://www.nhlbi.nih.gov/health-topics/sleep-deprivation-and-deficiency\" style=\"text-decoration:none\"><span style=\"color:#1155cc\"><u>R</u></span></a><span style=\"color:#000000\">]:</span></p>\r\n",
       "\r\n",
       "<ul>\r\n",
       "\t<li style=\"list-style-type:disc\"><span style=\"color:#000000\">Se sienta cansado</span></li>\r\n",
       "\t<li style=\"list-style-type:disc\"><span style=\"color:#000000\">Tenga problemas para concentrarse</span></li>\r\n",
       "\t<li style=\"list-style-type:disc\"><span style=\"color:#000000\">Tenga problemas para recordar cosas</span></li>\r\n",
       "\t<li style=\"list-style-type:disc\"><span style=\"color:#000000\">Se sienta irritable</span></li>\r\n",
       "</ul>\r\n",
       "\r\n",
       "<p>&nbsp;</p>\r\n",
       "\r\n",
       "<p style=\"text-align:justify\"><span style=\"color:#000000\">El insomnio tambi&eacute;n puede producir problemas m&aacute;s graves, como [</span><a href=\"https://www.ncbi.nlm.nih.gov/books/NBK526136/\" style=\"text-decoration:none\"><span style=\"color:#1155cc\"><u>R</u></span></a><span style=\"color:#000000\">]:</span></p>\r\n",
       "\r\n",
       "<ul>\r\n",
       "\t<li style=\"list-style-type:disc\"><span style=\"color:#000000\">Hipertensi&oacute;n arterial</span></li>\r\n",
       "\t<li style=\"list-style-type:disc\"><span style=\"color:#000000\">Enfermedad cardiaca</span></li>\r\n",
       "\t<li style=\"list-style-type:disc\"><span style=\"color:#000000\">Obesidad</span></li>\r\n",
       "\t<li style=\"list-style-type:disc\"><span style=\"color:#000000\">Diabetes</span></li>\r\n",
       "\t<li style=\"list-style-type:disc\"><span style=\"color:#000000\">Asma</span></li>\r\n",
       "</ul>\r\n",
       "\r\n",
       "<p>&nbsp;</p>\r\n",
       "\r\n",
       "<p><span style=\"color:#000000\">Afortunadamente, </span><span style=\"color:#000000\"><strong>existen diversas medidas que puede intentar para ayudar potencialmente con el insomnio</strong></span><span style=\"color:#000000\">. Los m&eacute;dicos suelen recomendar medicamentos, psicoterapia o cambiar sus h&aacute;bitos de sue&ntilde;o [</span><a href=\"https://www.ncbi.nlm.nih.gov/books/NBK19961/\" style=\"text-decoration:none\"><span style=\"color:#1155cc\"><u>R</u></span></a><span style=\"color:#000000\">, </span><a href=\"https://www.nhlbi.nih.gov/health-topics/insomnia\" style=\"text-decoration:none\"><span style=\"color:#1155cc\"><u>R</u></span></a><span style=\"color:#000000\">].</span></p>\r\n",
       "\r\n",
       "<p>&nbsp;</p>\r\n",
       "\r\n",
       "<p style=\"text-align:justify\"><span style=\"color:#000000\"><strong>Las personas tienen m&aacute;s probabilidades de desarrollar insomnio si se encuentran bajo mucho estr&eacute;s</strong></span><span style=\"color:#000000\">. Otros factores de riesgo para el insomnio incluyen [</span><a href=\"https://www.ncbi.nlm.nih.gov/pmc/articles/PMC3538178/\" style=\"text-decoration:none\"><span style=\"color:#1155cc\"><u>R</u></span></a><span style=\"color:#000000\">, </span><a href=\"https://www.nhlbi.nih.gov/health-topics/insomnia\" style=\"text-decoration:none\"><span style=\"color:#1155cc\"><u>R</u></span></a><span style=\"color:#000000\">]:</span></p>\r\n",
       "\r\n",
       "<ul>\r\n",
       "\t<li style=\"list-style-type:disc\"><span style=\"color:#000000\">Depresi&oacute;n</span></li>\r\n",
       "\t<li style=\"list-style-type:disc\"><span style=\"color:#000000\">Trabajo por turnos o nocturno</span></li>\r\n",
       "\t<li style=\"list-style-type:disc\"><span style=\"color:#000000\">Ruido o luz durante la noche</span></li>\r\n",
       "\t<li style=\"list-style-type:disc\"><span style=\"color:#000000\">Viajar a diferentes zonas horarias</span></li>\r\n",
       "\t<li style=\"list-style-type:disc\"><span style=\"color:#000000\">Acostarse a diferentes horas todas las noches</span></li>\r\n",
       "\t<li style=\"list-style-type:disc\"><span style=\"color:#000000\">Tomar muchas siestas durante el d&iacute;a</span></li>\r\n",
       "\t<li style=\"list-style-type:disc\"><span style=\"color:#000000\"><strong>Gen&eacute;tica</strong></span></li>\r\n",
       "</ul>\r\n",
       "\r\n",
       "<p>&nbsp;</p>\r\n",
       "\r\n",
       "<p style=\"text-align:justify\"><span style=\"color:#000000\">De hecho, </span><span style=\"color:#000000\"><strong>alrededor del 40% de las diferencias en las probabilidades de que las personas padezcan de insomnio podr&iacute;an atribuirse a la gen&eacute;tica</strong></span><span style=\"color:#000000\">. Los genes que pueden contribuir al insomnio influyen en [</span><a href=\"https://pubmed.ncbi.nlm.nih.gov/33222383/\" style=\"text-decoration:none\"><span style=\"color:#1155cc\"><u>R</u></span></a><span style=\"color:#000000\">, </span><a href=\"https://www.ncbi.nlm.nih.gov/pmc/articles/PMC5187578/\" style=\"text-decoration:none\"><span style=\"color:#1155cc\"><u>R</u></span></a><span style=\"color:#000000\">, </span><a href=\"https://www.ncbi.nlm.nih.gov/pmc/articles/PMC4388122/\" style=\"text-decoration:none\"><span style=\"color:#1155cc\"><u>R</u></span></a><span style=\"color:#000000\">, </span><a href=\"https://www.ncbi.nlm.nih.gov/books/NBK526136/\" style=\"text-decoration:none\"><span style=\"color:#1155cc\"><u>R</u></span></a><span style=\"color:#000000\">, </span><a href=\"https://pubmed.ncbi.nlm.nih.gov/30926824/\" style=\"text-decoration:none\"><span style=\"color:#1155cc\"><u>R</u></span></a><span style=\"color:#000000\">]:</span></p>\r\n",
       "\r\n",
       "<ul>\r\n",
       "\t<li style=\"list-style-type:disc\"><span style=\"color:#000000\">Ritmo circadiano (</span><a href=\"https://www.selfdecode.com/gene/clock/\" style=\"text-decoration:none\"><span style=\"color:#1155cc\"><em><u>CLOCK</u></em></span></a><span style=\"color:#000000\">, </span><a href=\"https://selfdecode.com/gene/per2/\" style=\"text-decoration:none\"><span style=\"color:#1155cc\"><em><u>PER2</u></em></span></a><span style=\"color:#000000\">, </span><a href=\"https://selfdecode.com/gene/MTNR1A/\" style=\"text-decoration:none\"><span style=\"color:#1155cc\"><em><u>MTNR1A</u></em></span></a><span style=\"color:#000000\">)</span></li>\r\n",
       "\t<li style=\"list-style-type:disc\"><span style=\"color:#000000\">Funci&oacute;n cerebral (</span><a href=\"https://selfdecode.com/gene/cacna1c/\" style=\"text-decoration:none\"><span style=\"color:#1155cc\"><em><u>CACNA1C</u></em></span></a><span style=\"color:#000000\">, </span><a href=\"https://selfdecode.com/gene/RBFOX3/\" style=\"text-decoration:none\"><span style=\"color:#1155cc\"><em><u>RBFOX3</u></em></span></a><span style=\"color:#000000\">)&nbsp;&nbsp;</span></li>\r\n",
       "\t<li style=\"list-style-type:disc\"><span style=\"color:#000000\">Respuesta al estr&eacute;s y estado de alerta (</span><a href=\"https://selfdecode.com/gene/SLC6A4/\" style=\"text-decoration:none\"><span style=\"color:#1155cc\"><em><u>SLC6A4</u></em></span></a><span style=\"color:#000000\">)</span></li>\r\n",
       "</ul><br>\n",
       "<br>\n",
       "<h4>Recommendations</h4>"
      ],
      "text/plain": [
       "<IPython.core.display.HTML object>"
      ]
     },
     "metadata": {},
     "output_type": "display_data"
    },
    {
     "data": {
      "text/html": [
       "<h5>Psicoterapia</h5>\n",
       "Consulte con su médico sobre la psicoterapia.<br>\n",
       "<table>\n",
       "<tr>\n",
       "<th>Type</th>\n",
       "<th>Effect</th>\n",
       "<th>Evidence</th>\n",
       "</tr>\n",
       "<tr>\n",
       "<td>lifestyle</td>\n",
       "<td>1.0</td>\n",
       "<td>1.0</td>\n",
       "</tr>\n",
       "</table>\n",
       "<p><span style=\"color:#000000\"><strong>La psicoterapia (terapia de conversaci&oacute;n) implica hablar sobre su salud con un terapeuta profesional</strong></span><span style=\"color:#000000\">. Puede ayudar a mejorar la forma en la que reacciona frente a determinadas experiencias [</span><a href=\"https://www.ncbi.nlm.nih.gov/pmc/articles/PMC6448000/\" style=\"text-decoration:none\"><span style=\"color:#1155cc\"><u>R</u></span></a><span style=\"color:#000000\">].</span></p>\r\n",
       "\r\n",
       "<p>&nbsp;</p>\r\n",
       "\r\n",
       "<p><span style=\"color:#000000\"><strong>La psicoterapia es una gran manera de mejorar muchas enfermedades, </strong></span><span style=\"color:#000000\">que incluyen [</span><a href=\"https://www.ncbi.nlm.nih.gov/pmc/articles/PMC6448000/\" style=\"text-decoration:none\"><span style=\"color:#1155cc\"><u>R</u></span></a><span style=\"color:#000000\">, </span><a href=\"https://www.ncbi.nlm.nih.gov/pmc/articles/PMC5509639/\" style=\"text-decoration:none\"><span style=\"color:#1155cc\"><u>R</u></span></a><span style=\"color:#000000\">, </span><a href=\"https://www.mayoclinic.org/tests-procedures/cognitive-behavioral-therapy/about/pac-20384610\" style=\"text-decoration:none\"><span style=\"color:#1155cc\"><u>R</u></span></a><span style=\"color:#000000\">, </span><a href=\"https://pubmed.ncbi.nlm.nih.gov/26054060/\" style=\"text-decoration:none\"><span style=\"color:#1155cc\"><u>R</u></span></a><span style=\"color:#000000\">]:</span></p>\r\n",
       "\r\n",
       "<ul>\r\n",
       "\t<li style=\"list-style-type:disc\"><span style=\"color:#000000\">Depresi&oacute;n</span></li>\r\n",
       "\t<li style=\"list-style-type:disc\"><span style=\"color:#000000\">Trastornos de ansiedad</span></li>\r\n",
       "\t<li style=\"list-style-type:disc\"><span style=\"color:#000000\">Insomnio</span></li>\r\n",
       "\t<li style=\"list-style-type:disc\"><span style=\"color:#000000\">TEPT</span></li>\r\n",
       "\t<li style=\"list-style-type:disc\"><span style=\"color:#000000\">TOC</span></li>\r\n",
       "\t<li style=\"list-style-type:disc\"><span style=\"color:#000000\">Trastorno por abuso de sustancias</span></li>\r\n",
       "\t<li style=\"list-style-type:disc\"><span style=\"color:#000000\">Trastorno bipolar</span></li>\r\n",
       "</ul><br>\n"
      ],
      "text/plain": [
       "<IPython.core.display.HTML object>"
      ]
     },
     "metadata": {},
     "output_type": "display_data"
    },
    {
     "data": {
      "text/html": [
       "<h5>Técnicas de Relajación</h5>\n",
       "Practique técnicas de relajación.<br>\n",
       "<table>\n",
       "<tr>\n",
       "<th>Type</th>\n",
       "<th>Effect</th>\n",
       "<th>Evidence</th>\n",
       "</tr>\n",
       "<tr>\n",
       "<td>lifestyle</td>\n",
       "<td>0.8</td>\n",
       "<td>0.6</td>\n",
       "</tr>\n",
       "</table>\n",
       "<p style=\"text-align:justify\"><span style=\"color:#000000\"><strong>Todos nos estresamos de vez en cuando.</strong></span></p>\r\n",
       "\r\n",
       "<p style=\"text-align:justify\"><span style=\"color:#000000\">El </span><a href=\"https://selfhacked.com/blog/63-factors-raising-stress-cortisol-level-backed-science/\" style=\"text-decoration:none\"><span style=\"color:#1155cc\"><u>estr&eacute;s</u></span></a><span style=\"color:#000000\"> tiene un lado positivo &mdash; puede ayudarlo a lidiar con un desaf&iacute;o o evitar el peligro.</span></p>\r\n",
       "\r\n",
       "<p style=\"text-align:justify\"><span style=\"color:#000000\">Sin embargo, </span><span style=\"color:#000000\"><strong>el estr&eacute;s prolongado o excesivo puede da&ntilde;ar su salud f&iacute;sica y mental</strong></span><span style=\"color:#000000\"> [</span><a href=\"https://www.ncbi.nlm.nih.gov/books/NBK541120/\" style=\"text-decoration:none\"><span style=\"color:#1155cc\"><u>R</u></span></a><span style=\"color:#000000\">, </span><a href=\"https://www.ncbi.nlm.nih.gov/pmc/articles/PMC2568977/\" style=\"text-decoration:none\"><span style=\"color:#1155cc\"><u>R</u></span></a><span style=\"color:#000000\">].</span></p>\r\n",
       "\r\n",
       "<p>&nbsp;</p>\r\n",
       "\r\n",
       "<p style=\"text-align:justify\"><span style=\"color:#000000\"><strong>Las t&eacute;cnicas de relajaci&oacute;n, como el </strong></span><a href=\"https://selfhacked.com/blog/health-benefits-yoga/\" style=\"text-decoration:none\"><span style=\"color:#1155cc\"><strong><u>yoga</u></strong></span></a><span style=\"color:#000000\"><strong> y la </strong></span><a href=\"https://selfhacked.com/blog/meditation/\" style=\"text-decoration:none\"><span style=\"color:#1155cc\"><strong><u>meditaci&oacute;n</u></strong></span></a><span style=\"color:#000000\"><strong>, pueden aliviar el estr&eacute;s de diferentes formas.</strong></span><span style=\"color:#000000\"> La mayor&iacute;a de ellas se centran en respirar y ayudan a deshacerse de los pensamientos y emociones negativas [</span><a href=\"https://www.mayoclinic.org/healthy-lifestyle/stress-management/in-depth/relaxation-technique/art-20045368\" style=\"text-decoration:none\"><span style=\"color:#1155cc\"><u>R</u></span></a><span style=\"color:#000000\">].</span></p>\r\n",
       "\r\n",
       "<p>&nbsp;</p>\r\n",
       "\r\n",
       "<p style=\"text-align:justify\"><span style=\"color:#000000\">Las personas usan t&eacute;cnicas de relajaci&oacute;n para mejorar enfermedades como [</span><a href=\"https://www.ncbi.nlm.nih.gov/books/NBK513238/\" style=\"text-decoration:none\"><span style=\"color:#1155cc\"><u>R</u></span></a><span style=\"color:#000000\">, </span><a href=\"https://www.mayoclinic.org/healthy-lifestyle/consumer-health/in-depth/mindfulness-exercises/art-20046356\" style=\"text-decoration:none\"><span style=\"color:#1155cc\"><u>R</u></span></a><span style=\"color:#000000\">]:&nbsp;</span></p>\r\n",
       "\r\n",
       "<ul>\r\n",
       "\t<li style=\"list-style-type:disc\"><span style=\"color:#000000\">Ansiedad&nbsp;</span></li>\r\n",
       "\t<li style=\"list-style-type:disc\"><span style=\"color:#000000\">Depresi&oacute;n&nbsp;</span></li>\r\n",
       "\t<li style=\"list-style-type:disc\"><span style=\"color:#000000\">Dolor cr&oacute;nico</span></li>\r\n",
       "\t<li style=\"list-style-type:disc\"><span style=\"color:#000000\">Insomnio</span></li>\r\n",
       "</ul><br>\n"
      ],
      "text/plain": [
       "<IPython.core.display.HTML object>"
      ]
     },
     "metadata": {},
     "output_type": "display_data"
    },
    {
     "data": {
      "text/html": [
       "<h5>Exposición a la Luz</h5>\n",
       "Incremente su exposición a la luz brillante durante el día.<br>\n",
       "<table>\n",
       "<tr>\n",
       "<th>Type</th>\n",
       "<th>Effect</th>\n",
       "<th>Evidence</th>\n",
       "</tr>\n",
       "<tr>\n",
       "<td>lifestyle</td>\n",
       "<td>0.8</td>\n",
       "<td>0.8</td>\n",
       "</tr>\n",
       "</table>\n",
       "<p style=\"text-align:justify\"><span style=\"color:#000000\"><strong>La </strong></span><a href=\"https://selfhacked.com/blog/avoiding-sun-will-kill-14-proven-science-based-health-benefits-sun/\" style=\"text-decoration:none\"><span style=\"color:#1155cc\"><strong><u>luz solar</u></strong></span></a><span style=\"color:#000000\"><strong> o luz brillante durante el d&iacute;a puede beneficiar a su cuerpo y mente. </strong></span><span style=\"color:#000000\">Podr&iacute;a [</span><a href=\"https://www.ncbi.nlm.nih.gov/pmc/articles/PMC2290997/\" style=\"text-decoration:none\"><span style=\"color:#1155cc\"><u>R</u></span></a><span style=\"color:#000000\">, </span><a href=\"https://www.ncbi.nlm.nih.gov/pmc/articles/PMC3897598/\" style=\"text-decoration:none\"><span style=\"color:#1155cc\"><u>R</u></span></a><span style=\"color:#000000\">, </span><a href=\"https://pubmed.ncbi.nlm.nih.gov/18815716/\" style=\"text-decoration:none\"><span style=\"color:#1155cc\"><u>R</u></span></a><span style=\"color:#000000\">]:</span></p>\r\n",
       "\r\n",
       "<ul>\r\n",
       "\t<li style=\"list-style-type:disc\"><span style=\"color:#000000\">Mejorar su estado de &aacute;nimo&nbsp;</span></li>\r\n",
       "\t<li style=\"list-style-type:disc\"><span style=\"color:#000000\">Estimular su rendimiento y energ&iacute;a</span></li>\r\n",
       "\t<li style=\"list-style-type:disc\"><span style=\"color:#000000\">Mejorar la calidad del sue&ntilde;o</span></li>\r\n",
       "</ul>\r\n",
       "\r\n",
       "<p style=\"text-align:justify\"><span style=\"color:#000000\">Los expertos recomiendan tomar por lo menos </span><span style=\"color:#000000\"><strong>5-15 minutos de sol al mediod&iacute;a, 2-3 veces por semana</strong></span><span style=\"color:#000000\">. Las personas con piel m&aacute;s oscura y las que viven en latitudes altas podr&iacute;an necesitar per&iacute;odos m&aacute;s prolongados de exposici&oacute;n solar [</span><a href=\"https://www.ncbi.nlm.nih.gov/pmc/articles/PMC2290997/\" style=\"text-decoration:none\"><span style=\"color:#1155cc\"><u>R</u></span></a><span style=\"color:#000000\">, </span><a href=\"https://www.ncbi.nlm.nih.gov/pmc/articles/PMC7049620/\" style=\"text-decoration:none\"><span style=\"color:#1155cc\"><u>R</u></span></a><span style=\"color:#000000\">].</span></p>\r\n",
       "\r\n",
       "<p>&nbsp;</p>\r\n",
       "\r\n",
       "<p style=\"text-align:justify\"><span style=\"color:#000000\">Sin embargo, </span><span style=\"color:#000000\"><strong>la exposici&oacute;n excesiva al sol podr&iacute;a producir quemaduras solares, envejecimiento de la piel y c&aacute;ncer de piel</strong></span><span style=\"color:#000000\">, as&iacute; que aseg&uacute;rese de encontrar el equilibrio adecuado [</span><a href=\"https://www.ncbi.nlm.nih.gov/pmc/articles/PMC5129901/\" style=\"text-decoration:none\"><span style=\"color:#1155cc\"><u>R</u></span></a><span style=\"color:#000000\">, </span><a href=\"https://pubmed.ncbi.nlm.nih.gov/16580055/\" style=\"text-decoration:none\"><span style=\"color:#1155cc\"><u>R</u></span></a><span style=\"color:#000000\">].</span></p>\r\n",
       "\r\n",
       "<p>&nbsp;</p>\r\n",
       "\r\n",
       "<p><span style=\"color:#000000\"><strong>La fototerapia es una opci&oacute;n cuando no se puede obtener suficiente luz solar.</strong></span><span style=\"color:#000000\"> Por lo general, implica colocar una &quot;caja de luz&quot; cerca durante 30 minutos cada ma&ntilde;ana. Una caja de fototerapia debe [</span><a href=\"https://www.ncbi.nlm.nih.gov/pubmed/16041296\" style=\"text-decoration:none\"><span style=\"color:#1155cc\"><u>R</u></span></a><span style=\"color:#000000\">, </span><a href=\"https://www.ncbi.nlm.nih.gov/pmc/articles/PMC4673349/\" style=\"text-decoration:none\"><span style=\"color:#1155cc\"><u>R</u></span></a><span style=\"color:#000000\">, </span><a href=\"https://www.mayoclinic.org/diseases-conditions/seasonal-affective-disorder/in-depth/seasonal-affective-disorder-treatment/art-20048298\" style=\"text-decoration:none\"><span style=\"color:#1155cc\"><u>R</u></span></a><span style=\"color:#000000\">]:</span></p>\r\n",
       "\r\n",
       "<ul>\r\n",
       "\t<li style=\"list-style-type:disc\"><span style=\"color:#000000\">Proporcionar 10,000 lux de luz</span></li>\r\n",
       "\t<li style=\"list-style-type:disc\"><span style=\"color:#000000\">Filtrar la luz ultravioleta</span></li>\r\n",
       "</ul><br>\n"
      ],
      "text/plain": [
       "<IPython.core.display.HTML object>"
      ]
     },
     "metadata": {},
     "output_type": "display_data"
    },
    {
     "data": {
      "text/html": [
       "<h5>Reducir el Consumo de Cafeína</h5>\n",
       "Disminuya su consumo de cafeína.<br>\n",
       "<table>\n",
       "<tr>\n",
       "<th>Type</th>\n",
       "<th>Effect</th>\n",
       "<th>Evidence</th>\n",
       "</tr>\n",
       "<tr>\n",
       "<td>dietary</td>\n",
       "<td>0.8</td>\n",
       "<td>0.8</td>\n",
       "</tr>\n",
       "</table>\n",
       "<p style=\"text-align:justify\"><span style=\"color:#000000\">Las personas consumen </span><a href=\"https://selfhacked.com/blog/caffeine-benefits/\" style=\"text-decoration:none\"><span style=\"color:#0000ff\"><u>cafe&iacute;na</u></span></a><span style=\"color:#000000\"> por sus efectos sobre el rendimiento y la energ&iacute;a. </span><span style=\"color:#000000\"><strong>Sin embargo, la cafe&iacute;na tambi&eacute;n trae consigo algunas desventajas.</strong></span><span style=\"color:#000000\"> Por ejemplo, grandes cantidades de cafe&iacute;na pueden dificultar conciliar el sue&ntilde;o [</span><a href=\"https://www.ncbi.nlm.nih.gov/pubmed/20888549\" style=\"text-decoration:none\"><span style=\"color:#1155cc\"><u>R</u></span></a><span style=\"color:#000000\">, </span><a href=\"https://www.ncbi.nlm.nih.gov/pmc/articles/PMC4668773/\" style=\"text-decoration:none\"><span style=\"color:#1155cc\"><u>R</u></span></a><span style=\"color:#000000\">].</span></p>\r\n",
       "\r\n",
       "<p>&nbsp;</p>\r\n",
       "\r\n",
       "<p style=\"text-align:justify\"><span style=\"color:#000000\">Para la persona promedio, </span><span style=\"color:#000000\"><strong>el caf&eacute; y el t&eacute; son las principales fuentes de cafe&iacute;na</strong></span><span style=\"color:#000000\">. Tambi&eacute;n podr&iacute;a estar ingiriendo cafe&iacute;na a trav&eacute;s del chocolate, bebidas energ&eacute;ticas o suplementos [</span><a href=\"https://www.ncbi.nlm.nih.gov/pmc/articles/PMC4462044/\" style=\"text-decoration:none\"><span style=\"color:#1155cc\"><u>R</u></span></a><span style=\"color:#000000\">].</span></p>\r\n",
       "\r\n",
       "<p>&nbsp;</p><br>\n"
      ],
      "text/plain": [
       "<IPython.core.display.HTML object>"
      ]
     },
     "metadata": {},
     "output_type": "display_data"
    },
    {
     "data": {
      "text/html": [
       "<h5>Acupuntura</h5>\n",
       "Considere intentar acupuntura.<br>\n",
       "<table>\n",
       "<tr>\n",
       "<th>Type</th>\n",
       "<th>Effect</th>\n",
       "<th>Evidence</th>\n",
       "</tr>\n",
       "<tr>\n",
       "<td>lifestyle</td>\n",
       "<td>0.6</td>\n",
       "<td>0.6</td>\n",
       "</tr>\n",
       "</table>\n",
       "<p style=\"text-align:justify\"><span style=\"color:#000000\"><strong>La </strong></span><a href=\"https://selfhacked.com/blog/acupuncture-benefits-mechanisms-risks/\" style=\"text-decoration:none\"><span style=\"color:#1155cc\"><strong><u>acupuntura</u></strong></span></a><span style=\"color:#000000\"><strong> es parte de la medicina tradicional china. Se basa en insertar agujas delgadas en puntos espec&iacute;ficos del cuerpo.</strong></span><span style=\"color:#000000\"> Las personas la utilizan para [</span><a href=\"https://www.mayoclinic.org/tests-procedures/acupuncture/about/pac-20392763\" style=\"text-decoration:none\"><span style=\"color:#1155cc\"><u>R</u></span></a><span style=\"color:#000000\">, </span><a href=\"https://www.ncbi.nlm.nih.gov/pmc/articles/PMC4036643/\" style=\"text-decoration:none\"><span style=\"color:#1155cc\"><u>R</u></span></a><span style=\"color:#000000\">, </span><a href=\"https://www.ncbi.nlm.nih.gov/pmc/articles/PMC3156618/\" style=\"text-decoration:none\"><span style=\"color:#1155cc\"><u>R</u></span></a><span style=\"color:#000000\">, </span><a href=\"https://pubmed.ncbi.nlm.nih.gov/16625560/\" style=\"text-decoration:none\"><span style=\"color:#1155cc\"><u>R</u></span></a><span style=\"color:#000000\">]:</span></p>\r\n",
       "\r\n",
       "<ul>\r\n",
       "\t<li style=\"list-style-type:disc\"><span style=\"color:#000000\">Aliviar el dolor</span></li>\r\n",
       "\t<li style=\"list-style-type:disc\"><span style=\"color:#000000\">Mejorar la calidad del sue&ntilde;o</span></li>\r\n",
       "\t<li style=\"list-style-type:disc\"><span style=\"color:#000000\">Aliviar las alergias</span></li>\r\n",
       "\t<li style=\"list-style-type:disc\"><span style=\"color:#000000\">Disminuir las n&aacute;useas</span></li>\r\n",
       "</ul><br>\n"
      ],
      "text/plain": [
       "<IPython.core.display.HTML object>"
      ]
     },
     "metadata": {},
     "output_type": "display_data"
    },
    {
     "data": {
      "text/html": [
       "<h5>Evitar Alimentos Azucarados</h5>\n",
       "Evite alimentos con alto contenido de azúcar y carbohidratos refinados.<br>\n",
       "<table>\n",
       "<tr>\n",
       "<th>Type</th>\n",
       "<th>Effect</th>\n",
       "<th>Evidence</th>\n",
       "</tr>\n",
       "<tr>\n",
       "<td>dietary</td>\n",
       "<td>0.4</td>\n",
       "<td>0.6</td>\n",
       "</tr>\n",
       "</table>\n",
       "<p><span style=\"color:#000000\"><strong>Los alimentos con alto contenido de az&uacute;car y carbohidratos refinados aumentan los niveles de az&uacute;car en la sangre.</strong></span><span style=\"color:#000000\"> Estos incluyen [</span><a href=\"https://pubmed.ncbi.nlm.nih.gov/2180214/\" style=\"text-decoration:none\"><span style=\"color:#1155cc\"><u>R</u></span></a><span style=\"color:#000000\">, </span><a href=\"https://www.nhs.uk/common-health-questions/food-and-diet/what-is-the-glycaemic-index-gi/\" style=\"text-decoration:none\"><span style=\"color:#1155cc\"><u>R</u></span></a><span style=\"color:#000000\">, </span><a href=\"https://www.health.harvard.edu/diseases-and-conditions/glycemic-index-and-glycemic-load-for-100-foods\" style=\"text-decoration:none\"><span style=\"color:#1155cc\"><u>R</u></span></a><span style=\"color:#000000\">]:</span></p>\r\n",
       "\r\n",
       "<ul>\r\n",
       "\t<li style=\"list-style-type:disc\"><span style=\"color:#000000\">Bebidas azucaradas</span></li>\r\n",
       "\t<li style=\"list-style-type:disc\"><span style=\"color:#000000\">Productos de panader&iacute;a</span></li>\r\n",
       "\t<li style=\"list-style-type:disc\"><span style=\"color:#000000\">Dulces</span></li>\r\n",
       "\t<li style=\"list-style-type:disc\"><span style=\"color:#000000\">Pan blanco</span></li>\r\n",
       "\t<li style=\"list-style-type:disc\"><span style=\"color:#000000\">Arroz blanco</span></li>\r\n",
       "\t<li style=\"list-style-type:disc\"><span style=\"color:#000000\">Pastas</span></li>\r\n",
       "</ul>\r\n",
       "\r\n",
       "<p>&nbsp;</p>\r\n",
       "\r\n",
       "<p><span style=\"color:#000000\">Comer una gran cantidad de alimentos azucarados puede producir:</span></p>\r\n",
       "\r\n",
       "<ul>\r\n",
       "\t<li style=\"list-style-type:disc\"><span style=\"color:#000000\">Aumento de peso y obesidad [</span><a href=\"https://pubmed.ncbi.nlm.nih.gov/12081852/\" style=\"text-decoration:none\"><span style=\"color:#1155cc\"><u>R</u></span></a><span style=\"color:#000000\">, </span><a href=\"https://pubmed.ncbi.nlm.nih.gov/10049982/\" style=\"text-decoration:none\"><span style=\"color:#1155cc\"><u>R</u></span></a><span style=\"color:#000000\">]</span></li>\r\n",
       "\t<li style=\"list-style-type:disc\"><span style=\"color:#000000\">Diabetes [</span><a href=\"https://www.ncbi.nlm.nih.gov/pmc/articles/PMC6627334/\" style=\"text-decoration:none\"><span style=\"color:#1155cc\"><u>R</u></span></a><span style=\"color:#000000\">, </span><a href=\"https://pubmed.ncbi.nlm.nih.gov/30321274/\" style=\"text-decoration:none\"><span style=\"color:#1155cc\"><u>R</u></span></a><span style=\"color:#000000\">, </span><a href=\"https://pubmed.ncbi.nlm.nih.gov/19079907/\" style=\"text-decoration:none\"><span style=\"color:#1155cc\"><u>R</u></span></a><span style=\"color:#000000\">]</span></li>\r\n",
       "\t<li style=\"list-style-type:disc\"><span style=\"color:#000000\">Insomnio [</span><a href=\"https://www.ncbi.nlm.nih.gov/pmc/articles/PMC6997082/\" style=\"text-decoration:none\"><span style=\"color:#1155cc\"><u>R</u></span></a><span style=\"color:#000000\">]</span></li>\r\n",
       "\t<li style=\"list-style-type:disc\"><span style=\"color:#000000\">Enfermedades cardiovasculares [</span><a href=\"https://pubmed.ncbi.nlm.nih.gov/12081853/\" style=\"text-decoration:none\"><span style=\"color:#1155cc\"><u>R</u></span></a><span style=\"color:#000000\">]</span></li>\r\n",
       "</ul><br>\n"
      ],
      "text/plain": [
       "<IPython.core.display.HTML object>"
      ]
     },
     "metadata": {},
     "output_type": "display_data"
    },
    {
     "data": {
      "text/html": [
       "<h5>Ejercicio</h5>\n",
       "Realice ejercicio con regularidad.<br>\n",
       "<table>\n",
       "<tr>\n",
       "<th>Type</th>\n",
       "<th>Effect</th>\n",
       "<th>Evidence</th>\n",
       "</tr>\n",
       "<tr>\n",
       "<td>lifestyle</td>\n",
       "<td>0.6</td>\n",
       "<td>0.6</td>\n",
       "</tr>\n",
       "</table>\n",
       "<p style=\"text-align:justify\"><span style=\"color:#000000\"><strong>El</strong></span><a href=\"https://selfhacked.com/blog/top-14-proven-health-benefits-exercise-references-mechanisms/\" style=\"text-decoration:none\"><span style=\"color:#000000\"><strong> </strong></span><span style=\"color:#1155cc\"><strong><u>ejercicio</u></strong></span></a><span style=\"color:#000000\"> </span><span style=\"color:#000000\"><strong>puede hacer maravillas por su salud</strong></span><span style=\"color:#000000\">. Puede ayudarlo a perder peso, optimizar la salud de su coraz&oacute;n, mejorar su estado de &aacute;nimo y m&aacute;s [</span><a href=\"https://medlineplus.gov/benefitsofexercise.html\" style=\"text-decoration:none\"><span style=\"color:#1155cc\"><u>R</u></span></a><span style=\"color:#000000\">].</span></p>\r\n",
       "\r\n",
       "<p style=\"text-align:justify\"><span style=\"color:#000000\">Existen diversas maneras de mantenerse activo. Puede caminar, correr, nadar, bailar o practicar deportes en equipo </span><span style=\"color:#000000\"><strong>&iexcl;Todo cuenta y nunca es tarde para empezar!</strong></span></p>\r\n",
       "\r\n",
       "<p>&nbsp;</p>\r\n",
       "\r\n",
       "<p style=\"text-align:justify\"><span style=\"color:#000000\">Trate de combinar rutinas de cardio (al menos 150 min/semana) y de entrenamiento de fuerza (2 veces/semana) [</span><a href=\"https://health.gov/sites/default/files/2019-09/Physical_Activity_Guidelines_2nd_edition.pdf#page=56\" style=\"text-decoration:none\"><span style=\"color:#1155cc\"><u>R</u></span></a><span style=\"color:#000000\">].</span></p>\r\n",
       "\r\n",
       "<p>&nbsp;</p><br>\n"
      ],
      "text/plain": [
       "<IPython.core.display.HTML object>"
      ]
     },
     "metadata": {},
     "output_type": "display_data"
    },
    {
     "data": {
      "text/html": [
       "<h5>Melatonina</h5>\n",
       "Considere tomar suplementos con melatonina antes de dormir.<br>\n",
       "<table>\n",
       "<tr>\n",
       "<th>Type</th>\n",
       "<th>Effect</th>\n",
       "<th>Evidence</th>\n",
       "</tr>\n",
       "<tr>\n",
       "<td>supplement</td>\n",
       "<td>0.4</td>\n",
       "<td>0.6</td>\n",
       "</tr>\n",
       "</table>\n",
       "<p><span style=\"color:#000000\"><strong>La </strong></span><a href=\"https://selfhacked.com/blog/melatonin/\" style=\"text-decoration:none\"><span style=\"color:#1155cc\"><strong><u>melatonina</u></strong></span></a><span style=\"color:#000000\"><strong> es una hormona del sue&ntilde;o importante.</strong></span><span style=\"color:#000000\"> La luz brillante por la noche podr&iacute;a evitar que su cuerpo produzca suficiente melatonina [</span><a href=\"https://www.ncbi.nlm.nih.gov/pmc/articles/PMC3047226/\" style=\"text-decoration:none\"><span style=\"color:#1155cc\"><u>R</u></span></a><span style=\"color:#000000\">, </span><a href=\"https://www.ncbi.nlm.nih.gov/pmc/articles/PMC3462291\" style=\"text-decoration:none\"><span style=\"color:#1155cc\"><u>R</u></span></a><span style=\"color:#000000\">].</span></p>\r\n",
       "\r\n",
       "<p>&nbsp;</p>\r\n",
       "\r\n",
       "<p><span style=\"color:#000000\">Su cuerpo produce melatonina por s&iacute; mismo. Sin embargo, algunas personas toman suplementos de melatonina para ayudarles a dormir. Podr&iacute;a ayudar en particular con el jet lag [</span><a href=\"https://www.ncbi.nlm.nih.gov/pubmed/15582288\" style=\"text-decoration:none\"><span style=\"color:#1155cc\"><u>R</u></span></a><span style=\"color:#000000\">, </span><a href=\"https://www.ncbi.nlm.nih.gov/pmc/articles/PMC3656905/\" style=\"text-decoration:none\"><span style=\"color:#1155cc\"><u>R</u></span></a><span style=\"color:#000000\">, </span><a href=\"https://pubmed.ncbi.nlm.nih.gov/12076414/\" style=\"text-decoration:none\"><span style=\"color:#1155cc\"><u>R</u></span></a><span style=\"color:#000000\">].</span></p>\r\n",
       "\r\n",
       "<p>&nbsp;</p><br>\n"
      ],
      "text/plain": [
       "<IPython.core.display.HTML object>"
      ]
     },
     "metadata": {},
     "output_type": "display_data"
    },
    {
     "data": {
      "text/html": [
       "<h5>Evitar Comer en Exceso</h5>\n",
       "Evite comer en exceso, especialmente por la noche.<br>\n",
       "<table>\n",
       "<tr>\n",
       "<th>Type</th>\n",
       "<th>Effect</th>\n",
       "<th>Evidence</th>\n",
       "</tr>\n",
       "<tr>\n",
       "<td>dietary</td>\n",
       "<td>0.6</td>\n",
       "<td>0.6</td>\n",
       "</tr>\n",
       "</table>\n",
       "<p><span style=\"color:#000000\"><strong>Las personas que comen en exceso ingieren m&aacute;s alimentos de los que su cuerpo necesita.</strong></span></p>\r\n",
       "\r\n",
       "<p>&nbsp;</p>\r\n",
       "\r\n",
       "<p><span style=\"color:#000000\">Comer en exceso podr&iacute;a contribuir a [</span><a href=\"https://pubmed.ncbi.nlm.nih.gov/11707547/\" style=\"text-decoration:none\"><span style=\"color:#1155cc\"><u>R</u></span></a><span style=\"color:#000000\">, </span><a href=\"https://www.ncbi.nlm.nih.gov/pmc/articles/PMC4259868/\" style=\"text-decoration:none\"><span style=\"color:#1155cc\"><u>R</u></span></a><span style=\"color:#000000\">, </span><a href=\"https://www.ncbi.nlm.nih.gov/pmc/articles/PMC2754813/\" style=\"text-decoration:none\"><span style=\"color:#1155cc\"><u>R</u></span></a><span style=\"color:#000000\">, </span><a href=\"https://www.ncbi.nlm.nih.gov/pmc/articles/PMC3357460/\" style=\"text-decoration:none\"><span style=\"color:#1155cc\"><u>R</u></span></a><span style=\"color:#000000\">]:</span></p>\r\n",
       "\r\n",
       "<ul>\r\n",
       "\t<li style=\"list-style-type:disc\"><span style=\"color:#000000\">Obesidad</span></li>\r\n",
       "\t<li style=\"list-style-type:disc\"><span style=\"color:#000000\">Diabetes</span></li>\r\n",
       "\t<li style=\"list-style-type:disc\"><span style=\"color:#000000\">Problemas digestivos</span></li>\r\n",
       "\t<li style=\"list-style-type:disc\"><span style=\"color:#000000\">Problemas para dormir</span></li>\r\n",
       "</ul><br>\n"
      ],
      "text/plain": [
       "<IPython.core.display.HTML object>"
      ]
     },
     "metadata": {},
     "output_type": "display_data"
    },
    {
     "data": {
      "text/html": [
       "<h5>Valeriana</h5>\n",
       "Considere tomar suplementos con valeriana.<br>\n",
       "<table>\n",
       "<tr>\n",
       "<th>Type</th>\n",
       "<th>Effect</th>\n",
       "<th>Evidence</th>\n",
       "</tr>\n",
       "<tr>\n",
       "<td>supplement</td>\n",
       "<td>0.4</td>\n",
       "<td>0.6</td>\n",
       "</tr>\n",
       "</table>\n",
       "<p><span style=\"color:#000000\"><strong>La </strong></span><a href=\"https://www.selfhacked.com/blog/valerian-root/\" style=\"text-decoration:none\"><span style=\"color:#1155cc\"><strong><u>ra&iacute;z de valeriana</u></strong></span></a><span style=\"color:#000000\"><strong> es una hierba medicinal con propiedades relajantes</strong></span><span style=\"color:#000000\">. Las personas la utilizan para mejorar [</span><a href=\"https://pubmed.ncbi.nlm.nih.gov/17145239/\" style=\"text-decoration:none\"><span style=\"color:#1155cc\"><u>R</u></span></a><span style=\"color:#000000\">, </span><a href=\"https://pubmed.ncbi.nlm.nih.gov/17054208/\" style=\"text-decoration:none\"><span style=\"color:#1155cc\"><u>R</u></span></a><span style=\"color:#000000\">, </span><a href=\"https://pubmed.ncbi.nlm.nih.gov/32523884/\" style=\"text-decoration:none\"><span style=\"color:#1155cc\"><u>R</u></span></a><span style=\"color:#000000\">, </span><a href=\"https://ods.od.nih.gov/factsheets/Valerian-HealthProfessional/\" style=\"text-decoration:none\"><span style=\"color:#1155cc\"><u>R</u></span></a><span style=\"color:#000000\">]:</span></p>\r\n",
       "\r\n",
       "<ul>\r\n",
       "\t<li style=\"list-style-type:disc\"><span style=\"color:#000000\">Sue&ntilde;o</span></li>\r\n",
       "\t<li style=\"list-style-type:disc\"><span style=\"color:#000000\">Ansiedad</span></li>\r\n",
       "\t<li style=\"list-style-type:disc\"><span style=\"color:#000000\">Dolores de cabeza</span></li>\r\n",
       "</ul>\r\n",
       "\r\n",
       "<p>&nbsp;</p>\r\n",
       "\r\n",
       "<p><span style=\"color:#000000\">Los compuestos de la valeriana podr&iacute;an ayudar a [</span><a href=\"https://pubmed.ncbi.nlm.nih.gov/11807960/\" style=\"text-decoration:none\"><span style=\"color:#1155cc\"><u>R</u></span></a><span style=\"color:#000000\">, </span><a href=\"https://www.ncbi.nlm.nih.gov/pubmed/16909443\" style=\"text-decoration:none\"><span style=\"color:#1155cc\"><u>R</u></span></a><span style=\"color:#000000\">, </span><a href=\"https://pubmed.ncbi.nlm.nih.gov/17145239/\" style=\"text-decoration:none\"><span style=\"color:#1155cc\"><u>R</u></span></a><span style=\"color:#000000\">, </span><a href=\"https://www.ncbi.nlm.nih.gov/pubmed/19178774\" style=\"text-decoration:none\"><span style=\"color:#1155cc\"><u>R</u></span></a><span style=\"color:#000000\">, </span><a href=\"https://www.ncbi.nlm.nih.gov/pmc/articles/PMC4936757/\" style=\"text-decoration:none\"><span style=\"color:#1155cc\"><u>R</u></span></a><span style=\"color:#000000\">]:</span></p>\r\n",
       "\r\n",
       "<ul>\r\n",
       "\t<li style=\"list-style-type:disc\"><span style=\"color:#000000\">Reducir el estr&eacute;s</span></li>\r\n",
       "\t<li style=\"list-style-type:disc\"><span style=\"color:#000000\">Relajar los m&uacute;sculos</span></li>\r\n",
       "</ul><br>\n"
      ],
      "text/plain": [
       "<IPython.core.display.HTML object>"
      ]
     },
     "metadata": {},
     "output_type": "display_data"
    },
    {
     "data": {
      "text/html": [
       "<h5>Biorretroalimentación</h5>\n",
       "Consulte con su médico sobre la biorretroalimentación.<br>\n",
       "<table>\n",
       "<tr>\n",
       "<th>Type</th>\n",
       "<th>Effect</th>\n",
       "<th>Evidence</th>\n",
       "</tr>\n",
       "<tr>\n",
       "<td>lifestyle</td>\n",
       "<td>0.4</td>\n",
       "<td>0.4</td>\n",
       "</tr>\n",
       "</table>\n",
       "<p style=\"text-align:justify\"><span style=\"color:#000000\">La </span><span style=\"color:#000000\"><strong>biorretroalimentaci&oacute;n (biofeedback) </strong></span><span style=\"color:#000000\">es un tipo de &quot;</span><span style=\"color:#000000\"><strong>entrenamiento cerebral</strong></span><span style=\"color:#000000\">&quot; en el que se conectan sensores a su cuerpo. Detectan informaci&oacute;n como su frecuencia card&iacute;aca, temperatura y frecuencia respiratoria. Al ver esta informaci&oacute;n, es posible que pueda controlar mejor estas funciones [</span><a href=\"http://ncbi.nlm.nih.gov/books/NBK553075/\" style=\"text-decoration:none\"><span style=\"color:#1155cc\"><u>R</u></span></a><span style=\"color:#000000\">, </span><a href=\"https://www.mayoclinic.org/tests-procedures/biofeedback/about/pac-20384664\" style=\"text-decoration:none\"><span style=\"color:#1155cc\"><u>R</u></span></a><span style=\"color:#000000\">].</span></p>\r\n",
       "\r\n",
       "<p>&nbsp;</p>\r\n",
       "\r\n",
       "<p style=\"text-align:justify\"><span style=\"color:#000000\">Por lo general, la biorretroalimentaci&oacute;n se utiliza para ayudar con [</span><a href=\"https://www.ncbi.nlm.nih.gov/books/NBK553075/\" style=\"text-decoration:none\"><span style=\"color:#1155cc\"><u>R</u></span></a><span style=\"color:#000000\">]:</span></p>\r\n",
       "\r\n",
       "<ul>\r\n",
       "\t<li style=\"list-style-type:disc\"><span style=\"color:#000000\">Problemas intestinales</span></li>\r\n",
       "\t<li style=\"list-style-type:disc\"><span style=\"color:#000000\">Dolor cr&oacute;nico</span></li>\r\n",
       "\t<li style=\"list-style-type:disc\"><span style=\"color:#000000\">Migra&ntilde;as</span></li>\r\n",
       "\t<li style=\"list-style-type:disc\"><span style=\"color:#000000\">Insomnio</span></li>\r\n",
       "</ul><br>\n"
      ],
      "text/plain": [
       "<IPython.core.display.HTML object>"
      ]
     },
     "metadata": {},
     "output_type": "display_data"
    },
    {
     "data": {
      "text/html": [
       "<h5>Triptófano</h5>\n",
       "Considere tomar suplementos con triptófano.<br>\n",
       "<table>\n",
       "<tr>\n",
       "<th>Type</th>\n",
       "<th>Effect</th>\n",
       "<th>Evidence</th>\n",
       "</tr>\n",
       "<tr>\n",
       "<td>supplement</td>\n",
       "<td>0.4</td>\n",
       "<td>0.4</td>\n",
       "</tr>\n",
       "</table>\n",
       "<p><span style=\"color:#000000\">El </span><a href=\"https://selfhacked.com/blog/tryptophan-health-benefits-tryptophan-deficiency/\" style=\"text-decoration:none\"><span style=\"color:#1155cc\"><u>tript&oacute;fano</u></span></a><span style=\"color:#000000\"> es un amino&aacute;cido o un componente b&aacute;sico de las prote&iacute;nas. </span><span style=\"color:#000000\"><strong>Los seres humanos no pueden producir tript&oacute;fano, por lo que debemos obtenerlo de alimentos ricos en prote&iacute;nas</strong></span><span style=\"color:#000000\"> [</span><a href=\"https://www.ncbi.nlm.nih.gov/books/NBK234922/\" style=\"text-decoration:none\"><span style=\"color:#1155cc\"><u>R</u></span></a><span style=\"color:#000000\">, </span><a href=\"https://www.ncbi.nlm.nih.gov/pmc/articles/PMC2908021/\" style=\"text-decoration:none\"><span style=\"color:#1155cc\"><u>R</u></span></a><span style=\"color:#000000\">].</span></p>\r\n",
       "\r\n",
       "<p>&nbsp;</p>\r\n",
       "\r\n",
       "<p><span style=\"color:#000000\">Su cuerpo utiliza el tript&oacute;fano para producir </span><a href=\"https://selfhacked.com/blog/serotonin-definition-function/\" style=\"text-decoration:none\"><span style=\"color:#1155cc\"><u>serotonina</u></span></a><span style=\"color:#000000\"> y </span><a href=\"https://selfhacked.com/blog/melatonin-benefits/\" style=\"text-decoration:none\"><span style=\"color:#1155cc\"><u>melatonina</u></span></a><span style=\"color:#000000\">. </span><span style=\"color:#000000\"><strong>Estos qu&iacute;micos cerebrales son importantes para el estado de &aacute;nimo y el sue&ntilde;o</strong></span><span style=\"color:#000000\"> [</span><a href=\"https://www.ncbi.nlm.nih.gov/pmc/articles/PMC2908021/\" style=\"text-decoration:none\"><span style=\"color:#1155cc\"><u>R</u></span></a><span style=\"color:#000000\">, </span><a href=\"https://www.ncbi.nlm.nih.gov/pmc/articles/PMC5102894/\" style=\"text-decoration:none\"><span style=\"color:#1155cc\"><u>R</u></span></a><span style=\"color:#000000\">].</span></p>\r\n",
       "\r\n",
       "<p>&nbsp;</p>\r\n",
       "\r\n",
       "<p><span style=\"color:#000000\">Un adulto promedio necesita por lo menos </span><span style=\"color:#000000\"><strong>250-425 mg</strong></span><span style=\"color:#000000\"> de tript&oacute;fano al d&iacute;a, que es la cantidad que puede obtener de [</span><a href=\"https://www.ncbi.nlm.nih.gov/pmc/articles/PMC2908021/\" style=\"text-decoration:none\"><span style=\"color:#1155cc\"><u>R</u></span></a><span style=\"color:#000000\">]:</span></p>\r\n",
       "\r\n",
       "<ul>\r\n",
       "\t<li style=\"list-style-type:disc\"><span style=\"color:#000000\">Medio kilo de pavo o pollo</span></li>\r\n",
       "\t<li style=\"list-style-type:disc\"><span style=\"color:#000000\">Medio litro de leche</span></li>\r\n",
       "\t<li style=\"list-style-type:disc\"><span style=\"color:#000000\">30 gramos de at&uacute;n enlatado</span></li>\r\n",
       "\t<li style=\"list-style-type:disc\"><span style=\"color:#000000\">150 gramos de avena</span></li>\r\n",
       "</ul>\r\n",
       "\r\n",
       "<p><br />\r\n",
       "&nbsp;</p>\r\n",
       "\r\n",
       "<p><span style=\"color:#000000\">Otros alimentos con alto contenido de tript&oacute;fano son el </span><span style=\"color:#000000\"><strong>queso cheddar, el man&iacute;, las semillas de calabaza y los mariscos</strong></span><span style=\"color:#000000\">. La mayor&iacute;a de las personas obtienen suficiente tript&oacute;fano de su alimentaci&oacute;n, pero tambi&eacute;n hay suplementos disponibles [</span><a href=\"https://www.ncbi.nlm.nih.gov/pmc/articles/PMC2908021/\" style=\"text-decoration:none\"><span style=\"color:#1155cc\"><u>R</u></span></a><span style=\"color:#000000\">].</span></p>\r\n",
       "\r\n",
       "<p>&nbsp;</p><br>\n"
      ],
      "text/plain": [
       "<IPython.core.display.HTML object>"
      ]
     },
     "metadata": {},
     "output_type": "display_data"
    },
    {
     "data": {
      "text/html": [
       "<h5>Magnesio</h5>\n",
       "Considere tomar suplementos con magnesio.<br>\n",
       "<table>\n",
       "<tr>\n",
       "<th>Type</th>\n",
       "<th>Effect</th>\n",
       "<th>Evidence</th>\n",
       "</tr>\n",
       "<tr>\n",
       "<td>supplement</td>\n",
       "<td>0.4</td>\n",
       "<td>0.4</td>\n",
       "</tr>\n",
       "</table>\n",
       "<p style=\"text-align:justify\"><span style=\"color:#000000\"><strong>El </strong></span><a href=\"https://selfhacked.com/blog/21-proven-science-based-reasons-magnesium-amazing-including-drawbacks/\" style=\"text-decoration:none\"><span style=\"color:#1155cc\"><strong><u>magnesio</u></strong></span></a><span style=\"color:#000000\"><strong> es un mineral esencial</strong></span><span style=\"color:#000000\">. Su cuerpo lo necesita para [</span><a href=\"https://www.ncbi.nlm.nih.gov/pmc/articles/PMC4455825/\" style=\"text-decoration:none\"><span style=\"color:#1155cc\"><u>R</u></span></a><span style=\"color:#000000\">, </span><a href=\"https://pubmed.ncbi.nlm.nih.gov/2472534/\" style=\"text-decoration:none\"><span style=\"color:#1155cc\"><u>R</u></span></a><span style=\"color:#000000\">, </span><a href=\"https://pubmed.ncbi.nlm.nih.gov/14506478/\" style=\"text-decoration:none\"><span style=\"color:#1155cc\"><u>R</u></span></a><span style=\"color:#000000\">]:&nbsp;</span></p>\r\n",
       "\r\n",
       "<ul>\r\n",
       "\t<li style=\"list-style-type:disc\"><span style=\"color:#000000\">Funci&oacute;n muscular, nerviosa y &oacute;sea</span></li>\r\n",
       "\t<li style=\"list-style-type:disc\"><span style=\"color:#000000\">Control del az&uacute;car en sangre y presi&oacute;n arterial</span></li>\r\n",
       "\t<li style=\"list-style-type:disc\"><span style=\"color:#000000\">Producci&oacute;n de ADN y prote&iacute;nas</span></li>\r\n",
       "\t<li style=\"list-style-type:disc\"><span style=\"color:#000000\">Fortalecer el sistema inmunol&oacute;gico</span></li>\r\n",
       "</ul>\r\n",
       "\r\n",
       "<p>&nbsp;</p>\r\n",
       "\r\n",
       "<p style=\"text-align:justify\"><span style=\"color:#000000\">Las mujeres necesitan </span><span style=\"color:#000000\"><strong>310-320 mg</strong></span><span style=\"color:#000000\"> de magnesio por d&iacute;a, mientras que los hombres necesitan </span><span style=\"color:#000000\"><strong>400-420 mg</strong></span><span style=\"color:#000000\"> [</span><a href=\"https://ods.od.nih.gov/factsheets/Magnesium-HealthProfessional/\" style=\"text-decoration:none\"><span style=\"color:#1155cc\"><u>R</u></span></a><span style=\"color:#000000\">].</span></p>\r\n",
       "\r\n",
       "<p>&nbsp;</p>\r\n",
       "\r\n",
       "<p style=\"text-align:justify\"><span style=\"color:#000000\">Los alimentos ricos en magnesio incluyen </span><span style=\"color:#000000\"><strong>frutos secos, semillas y verduras de hoja verde</strong></span><span style=\"color:#000000\">. El magnesio tambi&eacute;n se encuentra disponible como suplemento [</span><a href=\"https://ods.od.nih.gov/factsheets/Magnesium-HealthProfessional/\" style=\"text-decoration:none\"><span style=\"color:#1155cc\"><u>R</u></span></a><span style=\"color:#000000\">].</span></p>\r\n",
       "\r\n",
       "<p>&nbsp;</p><br>\n"
      ],
      "text/plain": [
       "<IPython.core.display.HTML object>"
      ]
     },
     "metadata": {},
     "output_type": "display_data"
    },
    {
     "data": {
      "text/html": [
       "<h5>Dieta Mediterránea</h5>\n",
       "Considere seguir la dieta mediterránea.<br>\n",
       "<table>\n",
       "<tr>\n",
       "<th>Type</th>\n",
       "<th>Effect</th>\n",
       "<th>Evidence</th>\n",
       "</tr>\n",
       "<tr>\n",
       "<td>dietary</td>\n",
       "<td>0.4</td>\n",
       "<td>0.2</td>\n",
       "</tr>\n",
       "</table>\n",
       "<p style=\"text-align:justify\"><span style=\"color:#000000\">La</span><a href=\"https://selfhacked.com/blog/14-mediterranean-diet-health-benefits-food-list/\" style=\"text-decoration:none\"><span style=\"color:#000000\"> </span><span style=\"color:#1155cc\"><u>dieta mediterr&aacute;nea</u></span></a><span style=\"color:#000000\"> se basa en la cocina tradicional de las regiones del Mediterr&aacute;neo. Es rica en alimentos como [</span><a href=\"https://www.ncbi.nlm.nih.gov/pmc/articles/PMC6466433/\" style=\"text-decoration:none\"><span style=\"color:#1155cc\"><u>R</u></span></a><span style=\"color:#000000\">]:</span></p>\r\n",
       "\r\n",
       "<ul>\r\n",
       "\t<li style=\"list-style-type:disc\"><span style=\"color:#000000\">Frutas y verduras</span></li>\r\n",
       "\t<li style=\"list-style-type:disc\"><span style=\"color:#000000\">Cereales integrales</span></li>\r\n",
       "\t<li style=\"list-style-type:disc\"><span style=\"color:#000000\">Grasas saludables (pescado y </span><a href=\"https://selfhacked.com/blog/olive-oil/\" style=\"text-decoration:none\"><span style=\"color:#1155cc\"><u>aceite de oliva</u></span></a><span style=\"color:#000000\">)</span></li>\r\n",
       "</ul>\r\n",
       "\r\n",
       "<p>&nbsp;</p>\r\n",
       "\r\n",
       "<p style=\"text-align:justify\"><span style=\"color:#000000\">El consumo de carnes rojas es limitado y los l&aacute;cteos se consumen con moderaci&oacute;n.</span></p>\r\n",
       "\r\n",
       "<p>&nbsp;</p><br>\n"
      ],
      "text/plain": [
       "<IPython.core.display.HTML object>"
      ]
     },
     "metadata": {},
     "output_type": "display_data"
    },
    {
     "data": {
      "text/html": [
       "<h5>Pasiflora Morada</h5>\n",
       "Considere tomar suplementos con pasiflora morada.<br>\n",
       "<table>\n",
       "<tr>\n",
       "<th>Type</th>\n",
       "<th>Effect</th>\n",
       "<th>Evidence</th>\n",
       "</tr>\n",
       "<tr>\n",
       "<td>supplement</td>\n",
       "<td>0.2</td>\n",
       "<td>0.2</td>\n",
       "</tr>\n",
       "</table>\n",
       "<p><span style=\"color:#000000\">La </span><a href=\"https://content.selfdecode.com/blog/passion-flower-benefits/\" style=\"text-decoration:none\"><span style=\"color:#0000ff\"><u>pasiflora</u></span></a><span style=\"color:#000000\"> morada (</span><span style=\"color:#000000\"><em>Passiflora incarnata) </em></span><span style=\"color:#000000\">es</span><span style=\"color:#000000\"><em> </em></span><span style=\"color:#000000\">una planta trepadora usada en la medicina tradicional [</span><a href=\"https://nccih.nih.gov/health/passionflower\" style=\"text-decoration:none\"><span style=\"color:#1155cc\"><u>R</u></span></a><span style=\"color:#000000\">].</span></p>\r\n",
       "\r\n",
       "<p>&nbsp;</p>\r\n",
       "\r\n",
       "<p><span style=\"color:#000000\">Esta planta es rica en compuestos que relajan la mente. </span><span style=\"color:#000000\"><strong>Podr&iacute;a ayudar con los problemas para dormir, estr&eacute;s y ansiedad </strong></span><span style=\"color:#000000\">[</span><a href=\"https://pubmed.ncbi.nlm.nih.gov/28407638/\" style=\"text-decoration:none\"><span style=\"color:#1155cc\"><u>R</u></span></a><span style=\"color:#000000\">, </span><a href=\"https://www.ncbi.nlm.nih.gov/pmc/articles/PMC5217504/\" style=\"text-decoration:none\"><span style=\"color:#1155cc\"><u>R</u></span></a><span style=\"color:#000000\">, </span><a href=\"https://www.ncbi.nlm.nih.gov/pubmed/21294203/\" style=\"text-decoration:none\"><span style=\"color:#1155cc\"><u>R</u></span></a><span style=\"color:#000000\">].&nbsp;&nbsp;</span></p>\r\n",
       "\r\n",
       "<p>&nbsp;</p><br>\n"
      ],
      "text/plain": [
       "<IPython.core.display.HTML object>"
      ]
     },
     "metadata": {},
     "output_type": "display_data"
    },
    {
     "data": {
      "text/html": [
       "<h5>Ashwagandha</h5>\n",
       "Considere tomar suplementos con ashwagandha.<br>\n",
       "<table>\n",
       "<tr>\n",
       "<th>Type</th>\n",
       "<th>Effect</th>\n",
       "<th>Evidence</th>\n",
       "</tr>\n",
       "<tr>\n",
       "<td>supplement</td>\n",
       "<td>0.2</td>\n",
       "<td>0.2</td>\n",
       "</tr>\n",
       "</table>\n",
       "<p><span style=\"color:#000000\">La </span><a href=\"https://selfhacked.com/blog/59-proven-scientific-benefits-ashwagandha-references/\" style=\"text-decoration:none\"><span style=\"color:#1155cc\"><strong><u>ashwagandha</u></strong></span></a><span style=\"color:#000000\"> (</span><span style=\"color:#000000\"><em>Withania somnifera</em></span><span style=\"color:#000000\">) es una hierba utilizada en la medicina tradicional de la India [</span><a href=\"https://www.ncbi.nlm.nih.gov/pmc/articles/PMC6750292/\" style=\"text-decoration:none\"><span style=\"color:#1155cc\"><u>R</u></span></a><span style=\"color:#000000\">, </span><a href=\"https://www.ncbi.nlm.nih.gov/pmc/articles/PMC3252722/\" style=\"text-decoration:none\"><span style=\"color:#1155cc\"><u>R</u></span></a><span style=\"color:#000000\">].</span></p>\r\n",
       "\r\n",
       "<p>&nbsp;</p>\r\n",
       "\r\n",
       "<p><span style=\"color:#000000\">Esta hierba es conocida como adapt&oacute;geno ya que ayuda a las personas a adaptarse al estr&eacute;s [</span><a href=\"https://www.ncbi.nlm.nih.gov/pmc/articles/PMC6750292/\" style=\"text-decoration:none\"><span style=\"color:#1155cc\"><u>R</u></span></a><span style=\"color:#000000\">, </span><a href=\"https://www.ncbi.nlm.nih.gov/pmc/articles/PMC3252722/\" style=\"text-decoration:none\"><span style=\"color:#1155cc\"><u>R</u></span></a><span style=\"color:#000000\">].</span></p>\r\n",
       "\r\n",
       "<p>&nbsp;</p><br>\n"
      ],
      "text/plain": [
       "<IPython.core.display.HTML object>"
      ]
     },
     "metadata": {},
     "output_type": "display_data"
    },
    {
     "data": {
      "text/html": [
       "<h5>Cedrón</h5>\n",
       "Considere tomar suplementos con cedrón.<br>\n",
       "<table>\n",
       "<tr>\n",
       "<th>Type</th>\n",
       "<th>Effect</th>\n",
       "<th>Evidence</th>\n",
       "</tr>\n",
       "<tr>\n",
       "<td>supplement</td>\n",
       "<td>0.2</td>\n",
       "<td>0.2</td>\n",
       "</tr>\n",
       "</table>\n",
       "<p style=\"text-align:justify\"><span style=\"color:#000000\">El </span><a href=\"https://selfhacked.com/blog/health-benefits-lemon-verbena/\" style=\"text-decoration:none\"><span style=\"color:#1155cc\"><u>cedr&oacute;n</u></span></a><span style=\"color:#000000\"> o hierba luisa es una hierba de aroma c&iacute;trico que se utiliza para cocinar y en cosm&eacute;ticos [</span><a href=\"https://pubmed.ncbi.nlm.nih.gov/29698776/\" style=\"text-decoration:none\"><span style=\"color:#1155cc\"><u>R</u></span></a><span style=\"color:#000000\">].</span></p>\r\n",
       "\r\n",
       "<p>&nbsp;</p>\r\n",
       "\r\n",
       "<p style=\"text-align:justify\"><span style=\"color:#000000\">Podr&iacute;a ayudar con [</span><a href=\"https://pubmed.ncbi.nlm.nih.gov/25617561/\" style=\"text-decoration:none\"><span style=\"color:#1155cc\"><u>R</u></span></a><span style=\"color:#000000\">, </span><a href=\"https://pubmed.ncbi.nlm.nih.gov/20967458/\" style=\"text-decoration:none\"><span style=\"color:#1155cc\"><u>R</u></span></a><span style=\"color:#000000\">, </span><a href=\"https://pubmed.ncbi.nlm.nih.gov/22087615/\" style=\"text-decoration:none\"><span style=\"color:#1155cc\"><u>R</u></span></a><span style=\"color:#000000\">, </span><a href=\"https://www.ncbi.nlm.nih.gov/pmc/articles/PMC5781260/\" style=\"text-decoration:none\"><span style=\"color:#1155cc\"><u>R</u></span></a><span style=\"color:#000000\">, </span><a href=\"https://pubmed.ncbi.nlm.nih.gov/29862395/\" style=\"text-decoration:none\"><span style=\"color:#1155cc\"><u>R</u></span></a><span style=\"color:#000000\">, </span><a href=\"https://pubmed.ncbi.nlm.nih.gov/30450627/\" style=\"text-decoration:none\"><span style=\"color:#1155cc\"><u>R</u></span></a><span style=\"color:#000000\">]:&nbsp;</span></p>\r\n",
       "\r\n",
       "<ul>\r\n",
       "\t<li style=\"list-style-type:disc\"><span style=\"color:#000000\">Inflamaci&oacute;n y dolor</span></li>\r\n",
       "\t<li style=\"list-style-type:disc\"><span style=\"color:#000000\">Da&ntilde;o muscular</span></li>\r\n",
       "\t<li style=\"list-style-type:disc\"><span style=\"color:#000000\">Obesidad</span></li>\r\n",
       "\t<li style=\"list-style-type:disc\"><span style=\"color:#000000\">Insomnio</span></li>\r\n",
       "</ul><br>\n"
      ],
      "text/plain": [
       "<IPython.core.display.HTML object>"
      ]
     },
     "metadata": {},
     "output_type": "display_data"
    },
    {
     "data": {
      "text/html": [
       "<h5>Tai Chi</h5>\n",
       "<br>\n",
       "<table>\n",
       "<tr>\n",
       "<th>Type</th>\n",
       "<th>Effect</th>\n",
       "<th>Evidence</th>\n",
       "</tr>\n",
       "<tr>\n",
       "<td>lifestyle</td>\n",
       "<td>0.0</td>\n",
       "<td>0.0</td>\n",
       "</tr>\n",
       "</table>\n",
       "<p>&nbsp;&nbsp;</p><br>\n"
      ],
      "text/plain": [
       "<IPython.core.display.HTML object>"
      ]
     },
     "metadata": {},
     "output_type": "display_data"
    },
    {
     "data": {
      "text/html": [
       "<h5>Yoga</h5>\n",
       "<br>\n",
       "<table>\n",
       "<tr>\n",
       "<th>Type</th>\n",
       "<th>Effect</th>\n",
       "<th>Evidence</th>\n",
       "</tr>\n",
       "<tr>\n",
       "<td>lifestyle</td>\n",
       "<td>0.0</td>\n",
       "<td>0.0</td>\n",
       "</tr>\n",
       "</table>\n",
       "<p>&nbsp;&nbsp;</p><br>\n"
      ],
      "text/plain": [
       "<IPython.core.display.HTML object>"
      ]
     },
     "metadata": {},
     "output_type": "display_data"
    },
    {
     "data": {
      "text/html": [
       "<h5>Tart Cherries</h5>\n",
       "<br>\n",
       "<table>\n",
       "<tr>\n",
       "<th>Type</th>\n",
       "<th>Effect</th>\n",
       "<th>Evidence</th>\n",
       "</tr>\n",
       "<tr>\n",
       "<td>dietary</td>\n",
       "<td>0.0</td>\n",
       "<td>0.0</td>\n",
       "</tr>\n",
       "</table>\n",
       "<p>&nbsp;&nbsp;</p><br>\n"
      ],
      "text/plain": [
       "<IPython.core.display.HTML object>"
      ]
     },
     "metadata": {},
     "output_type": "display_data"
    },
    {
     "data": {
      "text/html": [
       "<h5>Rice Bran Extract</h5>\n",
       "<br>\n",
       "<table>\n",
       "<tr>\n",
       "<th>Type</th>\n",
       "<th>Effect</th>\n",
       "<th>Evidence</th>\n",
       "</tr>\n",
       "<tr>\n",
       "<td>supplement</td>\n",
       "<td>0.0</td>\n",
       "<td>0.0</td>\n",
       "</tr>\n",
       "</table>\n",
       "<p>&nbsp;&nbsp;</p><br>\n"
      ],
      "text/plain": [
       "<IPython.core.display.HTML object>"
      ]
     },
     "metadata": {},
     "output_type": "display_data"
    },
    {
     "data": {
      "text/html": [
       "<h5>Cardio</h5>\n",
       "<br>\n",
       "<table>\n",
       "<tr>\n",
       "<th>Type</th>\n",
       "<th>Effect</th>\n",
       "<th>Evidence</th>\n",
       "</tr>\n",
       "<tr>\n",
       "<td>lifestyle</td>\n",
       "<td>0.0</td>\n",
       "<td>0.0</td>\n",
       "</tr>\n",
       "</table>\n",
       "<p>&nbsp;&nbsp;</p><br>\n"
      ],
      "text/plain": [
       "<IPython.core.display.HTML object>"
      ]
     },
     "metadata": {},
     "output_type": "display_data"
    },
    {
     "data": {
      "text/html": [
       "<h5>Meditation</h5>\n",
       "<br>\n",
       "<table>\n",
       "<tr>\n",
       "<th>Type</th>\n",
       "<th>Effect</th>\n",
       "<th>Evidence</th>\n",
       "</tr>\n",
       "<tr>\n",
       "<td>lifestyle</td>\n",
       "<td>0.0</td>\n",
       "<td>0.0</td>\n",
       "</tr>\n",
       "</table>\n",
       "<p>&nbsp;&nbsp;</p><br>\n"
      ],
      "text/plain": [
       "<IPython.core.display.HTML object>"
      ]
     },
     "metadata": {},
     "output_type": "display_data"
    },
    {
     "data": {
      "text/html": [
       "<h5>Aromatherapy</h5>\n",
       "<br>\n",
       "<table>\n",
       "<tr>\n",
       "<th>Type</th>\n",
       "<th>Effect</th>\n",
       "<th>Evidence</th>\n",
       "</tr>\n",
       "<tr>\n",
       "<td>lifestyle</td>\n",
       "<td>0.0</td>\n",
       "<td>0.0</td>\n",
       "</tr>\n",
       "</table>\n",
       "<p>&nbsp;&nbsp;</p><br>\n"
      ],
      "text/plain": [
       "<IPython.core.display.HTML object>"
      ]
     },
     "metadata": {},
     "output_type": "display_data"
    },
    {
     "data": {
      "text/html": [
       "<h5>Music Therapy</h5>\n",
       "<br>\n",
       "<table>\n",
       "<tr>\n",
       "<th>Type</th>\n",
       "<th>Effect</th>\n",
       "<th>Evidence</th>\n",
       "</tr>\n",
       "<tr>\n",
       "<td>lifestyle</td>\n",
       "<td>0.0</td>\n",
       "<td>0.0</td>\n",
       "</tr>\n",
       "</table>\n",
       "<p>&nbsp;&nbsp;</p><br>\n"
      ],
      "text/plain": [
       "<IPython.core.display.HTML object>"
      ]
     },
     "metadata": {},
     "output_type": "display_data"
    },
    {
     "data": {
      "text/html": [
       "<h5>Massage</h5>\n",
       "<br>\n",
       "<table>\n",
       "<tr>\n",
       "<th>Type</th>\n",
       "<th>Effect</th>\n",
       "<th>Evidence</th>\n",
       "</tr>\n",
       "<tr>\n",
       "<td>lifestyle</td>\n",
       "<td>0.0</td>\n",
       "<td>0.0</td>\n",
       "</tr>\n",
       "</table>\n",
       "<p>&nbsp;&nbsp;</p><br>\n"
      ],
      "text/plain": [
       "<IPython.core.display.HTML object>"
      ]
     },
     "metadata": {},
     "output_type": "display_data"
    },
    {
     "data": {
      "text/html": [
       "<h3>Sleep Apnea</h3>\n",
       "Your score: 0.434865900383142<br>\n",
       "Typical likelihood of sleep apnea<br>\n",
       "<h4>Summary</h4>\n",
       "<br>\n",
       "<h4>Genetics of Sleep Apnea</h4>\n",
       "<div style=\"background:#eeeeee; border:1px solid #cccccc; padding:5px 10px\"><span style=\"color:#000000\"><strong>Key Takeaways:<br />\r\n",
       "<br />\r\n",
       "&nbsp; &nbsp;&nbsp;</strong></span><span style=\"color:#000000\">●&nbsp; About 10-40% of differences in people&rsquo;s chances of<br />\r\n",
       "&nbsp; &nbsp; &nbsp; &nbsp;&nbsp;developing sleep apnea may be due to genetics.<br />\r\n",
       "&nbsp; &nbsp;&nbsp;</span><span style=\"color:#000000\">●&nbsp; Other important risk factors include being male, older,<br />\r\n",
       "&nbsp; &nbsp; &nbsp; &nbsp;&nbsp;overweight, nasal congestion issues, a smoker, and<br />\r\n",
       "&nbsp; &nbsp; &nbsp; &nbsp;&nbsp;drinking alcohol.<br />\r\n",
       "&nbsp; &nbsp;&nbsp;</span><span style=\"color:#000000\">●&nbsp; If you are at high genetic risk, be aware of symptoms<br />\r\n",
       "&nbsp; &nbsp; &nbsp; &nbsp;&nbsp;indicating sleep apnea, and take action on those risk<br />\r\n",
       "&nbsp; &nbsp; &nbsp; &nbsp;&nbsp;factors you can control.<br />\r\n",
       "&nbsp; &nbsp;&nbsp;</span><span style=\"color:#000000\">●&nbsp; Click the</span><span style=\"color:#000000\"><strong> next steps</strong></span><span style=\"color:#000000\"> tab for relevant labs.</span></div>\r\n",
       "\r\n",
       "<p><br />\r\n",
       "<span style=\"color:#000000\">Sleep apnea is a disorder that interrupts your breathing while you sleep. A person with sleep apnea might wake up dozens of times to restore normal breathing, leading to daytime sleepiness.&nbsp;Left untreated, sleep apnea can affect your health, quality of life, and driving safety [</span><a href=\"https://www.mayoclinic.org/diseases-conditions/sleep-apnea/symptoms-causes/syc-20377631\"><span style=\"color:#1155cc\"><u>R</u></span></a>, <a href=\"https://www.ncbi.nlm.nih.gov/books/NBK459252/\"><span style=\"color:#1155cc\"><u>R</u></span></a><span style=\"color:#000000\">].</span></p>\r\n",
       "\r\n",
       "<p>&nbsp;</p>\r\n",
       "\r\n",
       "<p><span style=\"color:#000000\">About 10-40% of differences in people&rsquo;s chances of developing sleep apnea may be due to genetics. Genes involved in sleep apnea may influence [</span><a href=\"https://www.ncbi.nlm.nih.gov/labs/pmc/articles/PMC7308164/\" style=\"text-decoration:none\"><span style=\"color:#1155cc\"><u>R</u></span></a><span style=\"color:#000000\">, </span><a href=\"https://pubmed.ncbi.nlm.nih.gov/31786426/\" style=\"text-decoration:none\"><span style=\"color:#1155cc\"><u>R</u></span></a><span style=\"color:#000000\">, </span><a href=\"https://www.ncbi.nlm.nih.gov/labs/pmc/articles/PMC5074655/\" style=\"text-decoration:none\"><span style=\"color:#1155cc\"><u>R</u></span></a><span style=\"color:#000000\">, </span><a href=\"https://www.biorxiv.org/content/10.1101/2020.08.04.235994v1.full#\" style=\"text-decoration:none\"><span style=\"color:#1155cc\"><u>R</u></span></a><span style=\"color:#000000\">]:</span></p>\r\n",
       "\r\n",
       "<ul>\r\n",
       "\t<li style=\"list-style-type:disc\"><span style=\"color:#000000\"><strong>Weight</strong></span></li>\r\n",
       "\t<li style=\"list-style-type:disc\"><span style=\"color:#000000\">Upper airway structure</span></li>\r\n",
       "\t<li style=\"list-style-type:disc\"><span style=\"color:#000000\">Sleep duration and quality</span></li>\r\n",
       "</ul>\r\n",
       "\r\n",
       "<p><span style=\"color:#000000\">However, keep in mind that genetics is just one of many risk factors, along with [</span><a href=\"https://www.mayoclinic.org/diseases-conditions/obstructive-sleep-apnea/symptoms-causes/syc-20352090\" style=\"text-decoration:none\"><span style=\"color:#1155cc\"><u>R</u></span></a><span style=\"color:#000000\">]:</span></p>\r\n",
       "\r\n",
       "<ul>\r\n",
       "\t<li style=\"list-style-type:disc\"><span style=\"color:#000000\">Male sex</span></li>\r\n",
       "\t<li style=\"list-style-type:disc\"><span style=\"color:#000000\">Older age</span></li>\r\n",
       "\t<li style=\"list-style-type:disc\"><span style=\"color:#000000\">Excess weight</span></li>\r\n",
       "\t<li style=\"list-style-type:disc\"><span style=\"color:#000000\">Nasal congestion</span></li>\r\n",
       "\t<li style=\"list-style-type:disc\"><span style=\"color:#000000\">Smoking</span></li>\r\n",
       "\t<li style=\"list-style-type:disc\"><span style=\"color:#000000\">Drinking alcohol</span></li>\r\n",
       "</ul><br>\n",
       "<br>\n",
       "<h4>Recommendations</h4>"
      ],
      "text/plain": [
       "<IPython.core.display.HTML object>"
      ]
     },
     "metadata": {},
     "output_type": "display_data"
    },
    {
     "data": {
      "text/html": [
       "<h5>Airflow Devices</h5>\n",
       "How Airflow Devices Help With Sleep Apnea<br>\n",
       "<table>\n",
       "<tr>\n",
       "<th>Type</th>\n",
       "<th>Effect</th>\n",
       "<th>Evidence</th>\n",
       "</tr>\n",
       "<tr>\n",
       "<td>lifestyle</td>\n",
       "<td>1.0</td>\n",
       "<td>1.0</td>\n",
       "</tr>\n",
       "</table>\n",
       "<p><span style=\"color:#000000\">Airflow devices help keep the airway open while you sleep. They include [</span><a href=\"https://my.clevelandclinic.org/health/diseases/8718-sleep-apnea\" style=\"text-decoration:none\"><span style=\"color:#1155cc\"><u>R</u></span></a><span style=\"color:#000000\">]:</span></p>\r\n",
       "\r\n",
       "<ul>\r\n",
       "\t<li style=\"list-style-type:disc\"><span style=\"color:#000000\"><strong>Positive Airway Pressure (PAP) machines:</strong></span><span style=\"color:#000000\"> a mask worn over the nose and/or mouth that blows air into your airway</span></li>\r\n",
       "\t<li style=\"list-style-type:disc\"><span style=\"color:#000000\"><strong>Oral devices</strong></span><span style=\"color:#000000\">: a mouthpiece that prevents the throat from being blocked by the tongue or jaw</span></li>\r\n",
       "</ul>\r\n",
       "\r\n",
       "<p><span style=\"color:#000000\">A doctor can help you determine if an airflow device is right for you.</span></p><br>\n"
      ],
      "text/plain": [
       "<IPython.core.display.HTML object>"
      ]
     },
     "metadata": {},
     "output_type": "display_data"
    },
    {
     "data": {
      "text/html": [
       "<h5>Maintain a Healthy Weight</h5>\n",
       "Try to maintain a healthy weight.<br>\n",
       "<table>\n",
       "<tr>\n",
       "<th>Type</th>\n",
       "<th>Effect</th>\n",
       "<th>Evidence</th>\n",
       "</tr>\n",
       "<tr>\n",
       "<td>lifestyle</td>\n",
       "<td>0.8</td>\n",
       "<td>1.0</td>\n",
       "</tr>\n",
       "</table>\n",
       "<p style=\"text-align:justify\"><span style=\"color:#000000\"><strong>People have a healthy weight when they don&#39;t have too much or too little body fat </strong></span><span style=\"color:#000000\">[</span><a href=\"https://www.ncbi.nlm.nih.gov/pmc/articles/PMC2082845/\" style=\"text-decoration:none\"><span style=\"color:#1155cc\"><u>R</u></span></a><span style=\"color:#000000\">].</span></p>\r\n",
       "\r\n",
       "<p>&nbsp;</p>\r\n",
       "\r\n",
       "<p style=\"text-align:justify\"><span style=\"color:#000000\"><em>Body mass index </em></span><span style=\"color:#000000\">(BMI) can help determine body fat levels. Your BMI is your mass (in kg) divided by the square of your height (in meters) [</span><a href=\"https://www.cdc.gov/healthyweight/assessing/bmi/index.html\" style=\"text-decoration:none\"><span style=\"color:#1155cc\"><u>R</u></span></a><span style=\"color:#000000\">].</span></p>\r\n",
       "\r\n",
       "<p>&nbsp;</p>\r\n",
       "\r\n",
       "<p style=\"text-align:justify\"><span style=\"color:#000000\">In general [</span><a href=\"https://www.cdc.gov/healthyweight/assessing/bmi/adult_bmi/index.html\" style=\"text-decoration:none\"><span style=\"color:#1155cc\"><u>R</u></span></a><span style=\"color:#000000\">]:</span></p>\r\n",
       "\r\n",
       "<ul>\r\n",
       "\t<li style=\"list-style-type:disc\"><span style=\"color:#000000\">People with a BMI </span><span style=\"color:#000000\"><strong>between 18.5 and 25</strong></span><span style=\"color:#000000\"> tend to have a </span><span style=\"color:#000000\"><strong>healthy weight</strong></span></li>\r\n",
       "\t<li style=\"list-style-type:disc\"><span style=\"color:#000000\">People with a BMI</span><span style=\"color:#000000\"><strong> between 25 and 30 </strong></span><span style=\"color:#000000\">tend to be </span><span style=\"color:#000000\"><strong>overweight</strong></span></li>\r\n",
       "\t<li style=\"list-style-type:disc\"><span style=\"color:#000000\">People with a BMI </span><span style=\"color:#000000\"><strong>over 30 </strong></span><span style=\"color:#000000\">tend to be </span><span style=\"color:#000000\"><strong>obese</strong></span></li>\r\n",
       "</ul>\r\n",
       "\r\n",
       "<p><span style=\"color:#000000\">People who are overweight or obese are more likely to have [</span><a href=\"https://www.mayoclinic.org/diseases-conditions/obesity/symptoms-causes/syc-20375742\" style=\"text-decoration:none\"><span style=\"color:#1155cc\"><u>R</u></span></a><span style=\"color:#000000\">, </span><a href=\"https://www.ncbi.nlm.nih.gov/pmc/articles/PMC2879283/\" style=\"text-decoration:none\"><span style=\"color:#1155cc\"><u>R</u></span></a><span style=\"color:#000000\">]:</span></p>\r\n",
       "\r\n",
       "<ul>\r\n",
       "\t<li style=\"list-style-type:disc\"><span style=\"color:#000000\">High blood pressure</span></li>\r\n",
       "\t<li style=\"list-style-type:disc\"><span style=\"color:#000000\">Type 2 diabetes</span></li>\r\n",
       "\t<li style=\"list-style-type:disc\"><span style=\"color:#000000\">Heart disease</span></li>\r\n",
       "\t<li style=\"list-style-type:disc\"><span style=\"color:#000000\">Joint problems</span></li>\r\n",
       "\t<li style=\"list-style-type:disc\"><span style=\"color:#000000\">Sleep problems</span></li>\r\n",
       "</ul>\r\n",
       "\r\n",
       "<p><span style=\"color:#000000\"><strong>The best ways to lose weight are to consume fewer calories and exercise regularly</strong></span><span style=\"color:#000000\"> [</span><a href=\"https://www.mayoclinic.org/diseases-conditions/obesity/diagnosis-treatment/drc-20375749\" style=\"text-decoration:none\"><span style=\"color:#1155cc\"><u>R</u></span></a><span style=\"color:#000000\">].</span></p><br>\n"
      ],
      "text/plain": [
       "<IPython.core.display.HTML object>"
      ]
     },
     "metadata": {},
     "output_type": "display_data"
    },
    {
     "data": {
      "text/html": [
       "<h5>Limit Alcohol Intake</h5>\n",
       "Drink less alcohol.<br>\n",
       "<table>\n",
       "<tr>\n",
       "<th>Type</th>\n",
       "<th>Effect</th>\n",
       "<th>Evidence</th>\n",
       "</tr>\n",
       "<tr>\n",
       "<td>dietary</td>\n",
       "<td>0.6</td>\n",
       "<td>0.6</td>\n",
       "</tr>\n",
       "</table>\n",
       "<p style=\"text-align:justify\"><span style=\"color:#000000\">Many people drink alcohol in their free time. For some, alcohol can temporarily improve their mood and mental state [</span><a href=\"https://pubmed.ncbi.nlm.nih.gov/4053968/\" style=\"text-decoration:none\"><span style=\"color:#1155cc\"><u>R</u></span></a><span style=\"color:#000000\">].</span></p>\r\n",
       "\r\n",
       "<p><br />\r\n",
       "<span style=\"color:#000000\"><strong>Experts agree that having 1-2 drinks per day likely won&rsquo;t cause harm. However, heavy drinking is bad for your health </strong></span><span style=\"color:#000000\">[</span><a href=\"https://www.mayoclinic.org/healthy-lifestyle/nutrition-and-healthy-eating/in-depth/alcohol/art-20044551\" style=\"text-decoration:none\"><span style=\"color:#1155cc\"><u>R</u></span></a><span style=\"color:#000000\">].</span></p><br>\n"
      ],
      "text/plain": [
       "<IPython.core.display.HTML object>"
      ]
     },
     "metadata": {},
     "output_type": "display_data"
    },
    {
     "data": {
      "text/html": [
       "<h5>Avoid Sleeping on Your Back</h5>\n",
       "Avoid sleeping on your back.<br>\n",
       "<table>\n",
       "<tr>\n",
       "<th>Type</th>\n",
       "<th>Effect</th>\n",
       "<th>Evidence</th>\n",
       "</tr>\n",
       "<tr>\n",
       "<td>lifestyle</td>\n",
       "<td>0.6</td>\n",
       "<td>0.8</td>\n",
       "</tr>\n",
       "</table>\n",
       "<p><span style=\"color:#000000\">Some people tend to sleep on their back, but this position may make it harder to breathe properly. Methods that prevent people from sleeping on their back (positional therapy) may help with sleep apnea [</span><a href=\"https://www.ncbi.nlm.nih.gov/pmc/articles/PMC6491901/\" style=\"text-decoration:none\"><span style=\"color:#1155cc\"><u>R</u></span></a><span style=\"color:#000000\">, </span><a href=\"http://mayoclinic.org/diseases-conditions/sleep-apnea/diagnosis-treatment/drc-20377636\" style=\"text-decoration:none\"><span style=\"color:#1155cc\"><u>R</u></span></a><span style=\"color:#000000\">].</span></p>\r\n",
       "\r\n",
       "<p>&nbsp;</p>\r\n",
       "\r\n",
       "<p style=\"text-align:justify\"><span style=\"color:#000000\">Some tips to keep you from sleeping on your back include [</span><a href=\"https://www.mayoclinic.org/diseases-conditions/sleep-apnea/diagnosis-treatment/drc-20377636\" style=\"text-decoration:none\"><span style=\"color:#1155cc\"><u>R</u></span></a><span style=\"color:#000000\">, </span><a href=\"https://www.aafp.org/afp/2016/0901/p355.html\" style=\"text-decoration:none\"><span style=\"color:#1155cc\"><u>R</u></span></a><span style=\"color:#000000\">, </span><a href=\"https://www.ncbi.nlm.nih.gov/pmc/articles/PMC5443742/\" style=\"text-decoration:none\"><span style=\"color:#1155cc\"><u>R</u></span></a><span style=\"color:#000000\">, </span><a href=\"https://www.ncbi.nlm.nih.gov/pmc/articles/PMC6491901/\" style=\"text-decoration:none\"><span style=\"color:#1155cc\"><u>R</u></span></a><span style=\"color:#000000\">]:</span></p>\r\n",
       "\r\n",
       "<ul>\r\n",
       "\t<li style=\"list-style-type:disc\"><span style=\"color:#000000\">Using a device that vibrates or makes a noise when you roll onto your back</span></li>\r\n",
       "\t<li style=\"list-style-type:disc\"><span style=\"color:#000000\">Wearing a vest with bumpers on the back</span></li>\r\n",
       "\t<li style=\"list-style-type:disc\"><span style=\"color:#000000\">Using pillows that physically block you from rolling onto your back</span></li>\r\n",
       "\t<li style=\"list-style-type:disc\"><span style=\"color:#000000\">Attaching a tennis ball to the back of your shirt</span></li>\r\n",
       "</ul><br>\n"
      ],
      "text/plain": [
       "<IPython.core.display.HTML object>"
      ]
     },
     "metadata": {},
     "output_type": "display_data"
    },
    {
     "data": {
      "text/html": [
       "<h5>Exercise</h5>\n",
       "Exercise regularly.<br>\n",
       "<table>\n",
       "<tr>\n",
       "<th>Type</th>\n",
       "<th>Effect</th>\n",
       "<th>Evidence</th>\n",
       "</tr>\n",
       "<tr>\n",
       "<td>lifestyle</td>\n",
       "<td>0.6</td>\n",
       "<td>0.6</td>\n",
       "</tr>\n",
       "</table>\n",
       "<p style=\"text-align:justify\"><a href=\"https://selfhacked.com/blog/top-14-proven-health-benefits-exercise-references-mechanisms/\" style=\"text-decoration:none\"><span style=\"color:#1155cc\"><strong><u>Exercise</u></strong></span></a><span style=\"color:#000000\"><strong> can do wonders for your health.</strong></span><span style=\"color:#000000\"> It can help you lose weight, improve your heart health, boost your mood, and more [</span><a href=\"https://medlineplus.gov/benefitsofexercise.html\" style=\"text-decoration:none\"><span style=\"color:#1155cc\"><u>R</u></span></a><span style=\"color:#000000\">].</span></p>\r\n",
       "\r\n",
       "<p>&nbsp;</p>\r\n",
       "\r\n",
       "<p style=\"text-align:justify\"><span style=\"color:#000000\">There are many ways you can be active. You can walk, run, swim, dance, or play team sports. </span><span style=\"color:#000000\"><strong>Everything counts, and it&#39;s never too late to start!</strong></span></p>\r\n",
       "\r\n",
       "<p><br />\r\n",
       "<span style=\"color:#000000\">Try going for a brisk walk or doing another moderate activity for 30 minutes/day, most days of the week [</span><a href=\"https://www.mayoclinic.org/diseases-conditions/sleep-apnea/diagnosis-treatment/drc-20377636\" style=\"text-decoration:none\"><span style=\"color:#1155cc\"><u>R</u></span></a><span style=\"color:#000000\">].</span></p><br>\n"
      ],
      "text/plain": [
       "<IPython.core.display.HTML object>"
      ]
     },
     "metadata": {},
     "output_type": "display_data"
    },
    {
     "data": {
      "text/html": [
       "<h5>Airway Muscle Training</h5>\n",
       "Try mouth and throat exercises.<br>\n",
       "<table>\n",
       "<tr>\n",
       "<th>Type</th>\n",
       "<th>Effect</th>\n",
       "<th>Evidence</th>\n",
       "</tr>\n",
       "<tr>\n",
       "<td>lifestyle</td>\n",
       "<td>0.6</td>\n",
       "<td>0.6</td>\n",
       "</tr>\n",
       "</table>\n",
       "<p><span style=\"color:#000000\">Airway muscle training is exercise that builds strength in the throat and tongue muscles. This can involve anything from controlled breathing to singing long notes. People use airway muscle training to improve [</span><a href=\"https://pubmed.ncbi.nlm.nih.gov/33141943/\" style=\"text-decoration:none\"><span style=\"color:#1155cc\"><u>R</u></span></a><span style=\"color:#000000\">, </span><a href=\"https://www.ncbi.nlm.nih.gov/pmc/articles/PMC7970593/\" style=\"text-decoration:none\"><span style=\"color:#1155cc\"><u>R</u></span></a><span style=\"color:#000000\">, </span><a href=\"https://pubmed.ncbi.nlm.nih.gov/15699786/\" style=\"text-decoration:none\"><span style=\"color:#1155cc\"><u>R</u></span></a><span style=\"color:#000000\">, </span><a href=\"https://pubmed.ncbi.nlm.nih.gov/22765281/\" style=\"text-decoration:none\"><span style=\"color:#1155cc\"><u>R</u></span></a><span style=\"color:#000000\">]:</span></p>\r\n",
       "\r\n",
       "<ul>\r\n",
       "\t<li style=\"list-style-type:disc\"><span style=\"color:#000000\">Sleep apnea</span></li>\r\n",
       "\t<li style=\"list-style-type:disc\"><span style=\"color:#000000\">Respiratory conditions like COPD</span></li>\r\n",
       "\t<li style=\"list-style-type:disc\"><span style=\"color:#000000\">Exercise performance</span></li>\r\n",
       "</ul><br>\n"
      ],
      "text/plain": [
       "<IPython.core.display.HTML object>"
      ]
     },
     "metadata": {},
     "output_type": "display_data"
    },
    {
     "data": {
      "text/html": [
       "<h5>Avoid Cigarette Smoke</h5>\n",
       "Avoid cigarette smoke.<br>\n",
       "<table>\n",
       "<tr>\n",
       "<th>Type</th>\n",
       "<th>Effect</th>\n",
       "<th>Evidence</th>\n",
       "</tr>\n",
       "<tr>\n",
       "<td>lifestyle</td>\n",
       "<td>0.4</td>\n",
       "<td>0.4</td>\n",
       "</tr>\n",
       "</table>\n",
       "<p style=\"text-align:justify\"><span style=\"color:#000000\">You already know that tobacco is not great for your health. </span><span style=\"color:#000000\"><strong>Smoking affects your entire body.</strong></span><span style=\"color:#000000\"> It can damage your brain, heart, lungs, and more [</span><a href=\"https://pubmed.ncbi.nlm.nih.gov/11980288/\" style=\"text-decoration:none\"><span style=\"color:#1155cc\"><u>R</u></span></a><span style=\"color:#000000\">].</span></p>\r\n",
       "\r\n",
       "<p>&nbsp;</p>\r\n",
       "\r\n",
       "<p style=\"text-align:justify\"><span style=\"color:#000000\">Even if you&rsquo;re not a smoker,</span><span style=\"color:#000000\"><strong> take care to avoid secondhand smoke. It can cause health issues similar to smoking </strong></span><span style=\"color:#000000\">[</span><a href=\"https://www.ncbi.nlm.nih.gov/pmc/articles/PMC4595077/\" style=\"text-decoration:none\"><span style=\"color:#1155cc\"><u>R</u></span></a><span style=\"color:#000000\">, </span><a href=\"https://www.ncbi.nlm.nih.gov/pmc/articles/PMC2553398/\" style=\"text-decoration:none\"><span style=\"color:#1155cc\"><u>R</u></span></a><span style=\"color:#000000\">].</span></p>\r\n",
       "\r\n",
       "<p><br />\r\n",
       "<span style=\"color:#000000\">But, there&rsquo;s good news: </span><span style=\"color:#000000\"><strong>avoiding cigarette smoke can reverse many of its negative effects</strong></span><span style=\"color:#000000\">. It&rsquo;s a great way to dramatically improve your health [</span><a href=\"https://www.ncbi.nlm.nih.gov/books/NBK555590/\" style=\"text-decoration:none\"><span style=\"color:#1155cc\"><u>R</u></span></a><span style=\"color:#000000\">].</span></p><br>\n"
      ],
      "text/plain": [
       "<IPython.core.display.HTML object>"
      ]
     },
     "metadata": {},
     "output_type": "display_data"
    },
    {
     "data": {
      "text/html": [
       "<h5>Acupuncture</h5>\n",
       "Ask your doctor about acupuncture.<br>\n",
       "<table>\n",
       "<tr>\n",
       "<th>Type</th>\n",
       "<th>Effect</th>\n",
       "<th>Evidence</th>\n",
       "</tr>\n",
       "<tr>\n",
       "<td>lifestyle</td>\n",
       "<td>0.0</td>\n",
       "<td>0.0</td>\n",
       "</tr>\n",
       "</table>\n",
       "<p>&nbsp;&nbsp;</p><br>\n"
      ],
      "text/plain": [
       "<IPython.core.display.HTML object>"
      ]
     },
     "metadata": {},
     "output_type": "display_data"
    },
    {
     "data": {
      "text/html": [
       "<h5>N-acetylcysteine</h5>\n",
       "Consider supplementing with n-acetylcysteine.<br>\n",
       "<table>\n",
       "<tr>\n",
       "<th>Type</th>\n",
       "<th>Effect</th>\n",
       "<th>Evidence</th>\n",
       "</tr>\n",
       "<tr>\n",
       "<td>supplement</td>\n",
       "<td>0.0</td>\n",
       "<td>0.0</td>\n",
       "</tr>\n",
       "</table>\n",
       "<p>&nbsp;&nbsp;</p><br>\n"
      ],
      "text/plain": [
       "<IPython.core.display.HTML object>"
      ]
     },
     "metadata": {},
     "output_type": "display_data"
    },
    {
     "data": {
      "text/html": [
       "<h3>Daytime Sleepiness</h3>\n",
       "Your score: 0.92911877394636<br>\n",
       "More likely to experience daytime sleepiness<br>\n",
       "<h4>Summary</h4>\n",
       "<br>\n",
       "<h4>Causes of Daytime Sleepiness</h4>\n",
       "<p><span style=\"color:#000000\">Daytime sleepiness is the feeling of excessive sleepiness during the day. People with excessive daytime sleepiness often complain of not feeling well-rested, having difficulty waking up, or accidentally falling asleep during the day, among others&nbsp;[</span><a href=\"https://pubmed.ncbi.nlm.nih.gov/31685441/\"><span style=\"color:#1155cc\"><u>R</u></span></a>, <a href=\"https://pubmed.ncbi.nlm.nih.gov/22213791/\"><span style=\"color:#1155cc\"><u>R</u></span></a>, <a href=\"https://pubmed.ncbi.nlm.nih.gov/33840518/\"><span style=\"color:#1155cc\"><u>R</u></span></a><span style=\"color:#000000\">].</span></p>\r\n",
       "\r\n",
       "<p>&nbsp;</p>\r\n",
       "\r\n",
       "<p><span style=\"color:#000000\">Daytime sleepiness is usually a consequence of poor sleep duration or quality. Other risk factors include [</span><a href=\"https://pubmed.ncbi.nlm.nih.gov/33840518/\" style=\"text-decoration:none\"><span style=\"color:#1155cc\"><u>R</u></span></a><span style=\"color:#000000\">]:</span></p>\r\n",
       "\r\n",
       "<ul>\r\n",
       "\t<li style=\"list-style-type:disc\"><span style=\"color:#000000\">Shift work [</span><a href=\"https://pubmed.ncbi.nlm.nih.gov/20640236/\" style=\"text-decoration:none\"><span style=\"color:#1155cc\"><u>R</u></span></a><span style=\"color:#000000\">]</span></li>\r\n",
       "\t<li style=\"list-style-type:disc\"><span style=\"color:#000000\">Sleep disorders (obstructive sleep apnea, narcolepsy) [</span><a href=\"https://pubmed.ncbi.nlm.nih.gov/25747430/\" style=\"text-decoration:none\"><span style=\"color:#1155cc\"><u>R</u></span></a><span style=\"color:#000000\">, </span><a href=\"https://pubmed.ncbi.nlm.nih.gov/32756227/\" style=\"text-decoration:none\"><span style=\"color:#1155cc\"><u>R</u></span></a><span style=\"color:#000000\">]</span></li>\r\n",
       "\t<li style=\"list-style-type:disc\"><span style=\"color:#000000\">Mood disorders (depression, bipolar disorder) [</span><a href=\"https://pubmed.ncbi.nlm.nih.gov/28243864/\" style=\"text-decoration:none\"><span style=\"color:#1155cc\"><u>R</u></span></a><span style=\"color:#000000\">]</span></li>\r\n",
       "\t<li style=\"list-style-type:disc\"><span style=\"color:#000000\">Allergies (asthma, hay fever) [</span><a href=\"https://pubmed.ncbi.nlm.nih.gov/27880055/\" style=\"text-decoration:none\"><span style=\"color:#1155cc\"><u>R</u></span></a><span style=\"color:#000000\">, </span><a href=\"https://pubmed.ncbi.nlm.nih.gov/14720057/\" style=\"text-decoration:none\"><span style=\"color:#1155cc\"><u>R</u></span></a><span style=\"color:#000000\">]</span></li>\r\n",
       "\t<li style=\"list-style-type:disc\"><span style=\"color:#000000\">GERD [</span><a href=\"https://pubmed.ncbi.nlm.nih.gov/23452631/\" style=\"text-decoration:none\"><span style=\"color:#1155cc\"><u>R</u></span></a><span style=\"color:#000000\">]</span></li>\r\n",
       "\t<li style=\"list-style-type:disc\"><span style=\"color:#000000\">Parkinson&rsquo;s disease [</span><a href=\"https://pubmed.ncbi.nlm.nih.gov/33029723/\" style=\"text-decoration:none\"><span style=\"color:#1155cc\"><u>R</u></span></a><span style=\"color:#000000\">]</span></li>\r\n",
       "\t<li style=\"list-style-type:disc\"><span style=\"color:#000000\">Epilepsy [</span><a href=\"https://pubmed.ncbi.nlm.nih.gov/33838598/\" style=\"text-decoration:none\"><span style=\"color:#1155cc\"><u>R</u></span></a><span style=\"color:#000000\">]&nbsp;</span></li>\r\n",
       "\t<li style=\"list-style-type:disc\"><span style=\"color:#000000\">Obesity [</span><a href=\"https://pubmed.ncbi.nlm.nih.gov/25581913/\" style=\"text-decoration:none\"><span style=\"color:#1155cc\"><u>R</u></span></a><span style=\"color:#000000\">]</span></li>\r\n",
       "\t<li style=\"list-style-type:disc\"><span style=\"color:#000000\"><strong>Genetics</strong></span></li>\r\n",
       "</ul>\r\n",
       "\r\n",
       "<p><span style=\"color:#000000\">Up to 40% of differences in people&rsquo;s chances of experiencing daytime sleepiness may be due to genetics. Genes involved may influence the sleep/wake cycle and sleep duration or quality [</span><a href=\"https://pubmed.ncbi.nlm.nih.gov/16774154/\" style=\"text-decoration:none\"><span style=\"color:#1155cc\"><u>R</u></span></a><span style=\"color:#000000\">, </span><a href=\"https://pubmed.ncbi.nlm.nih.gov/11587976/\" style=\"text-decoration:none\"><span style=\"color:#1155cc\"><u>R</u></span></a><span style=\"color:#000000\">, </span><a href=\"https://pubmed.ncbi.nlm.nih.gov/31409809/\" style=\"text-decoration:none\"><span style=\"color:#1155cc\"><u>R</u></span></a><span style=\"color:#000000\">, </span><a href=\"https://pubmed.ncbi.nlm.nih.gov/35034961/\" style=\"text-decoration:none\"><span style=\"color:#1155cc\"><u>R</u></span></a><span style=\"color:#000000\">].</span></p>\r\n",
       "\r\n",
       "<p>&nbsp;</p>\r\n",
       "\r\n",
       "<p><span style=\"color:#000000\">Interventions aimed at improving sleep duration and quality may also reduce daytime sleepiness. These include [</span><a href=\"https://pubmed.ncbi.nlm.nih.gov/23874468/\" style=\"text-decoration:none\"><span style=\"color:#1155cc\"><u>R</u></span></a><span style=\"color:#000000\">, </span><a href=\"https://pubmed.ncbi.nlm.nih.gov/24482677/\" style=\"text-decoration:none\"><span style=\"color:#1155cc\"><u>R</u></span></a><span style=\"color:#000000\">, </span><a href=\"https://pubmed.ncbi.nlm.nih.gov/24252173/\" style=\"text-decoration:none\"><span style=\"color:#1155cc\"><u>R</u></span></a><span style=\"color:#000000\">, </span><a href=\"https://pubmed.ncbi.nlm.nih.gov/23216856/\" style=\"text-decoration:none\"><span style=\"color:#1155cc\"><u>R</u></span></a><span style=\"color:#000000\">]:</span></p>\r\n",
       "\r\n",
       "<ul>\r\n",
       "\t<li style=\"list-style-type:disc\"><span style=\"color:#000000\">Reducing your bright light exposure (screen time) in the evenings</span></li>\r\n",
       "\t<li style=\"list-style-type:disc\"><span style=\"color:#000000\">Maintaining a sleep area that&rsquo;s cool, dark, and quiet</span></li>\r\n",
       "\t<li style=\"list-style-type:disc\"><span style=\"color:#000000\">Sticking to a regular sleep schedule</span></li>\r\n",
       "\t<li style=\"list-style-type:disc\"><span style=\"color:#000000\">Avoiding hunger or large meals before bed</span></li>\r\n",
       "\t<li style=\"list-style-type:disc\"><span style=\"color:#000000\">Avoiding nicotine, caffeine, and alcohol before bed</span></li>\r\n",
       "</ul><br>\n",
       "<br>\n",
       "<h4>Recommendations</h4>"
      ],
      "text/plain": [
       "<IPython.core.display.HTML object>"
      ]
     },
     "metadata": {},
     "output_type": "display_data"
    },
    {
     "data": {
      "text/html": [
       "<h5>Optimize Sleep</h5>\n",
       "Try to get 7-8 h of good-quality sleep every night.<br>\n",
       "<table>\n",
       "<tr>\n",
       "<th>Type</th>\n",
       "<th>Effect</th>\n",
       "<th>Evidence</th>\n",
       "</tr>\n",
       "<tr>\n",
       "<td>lifestyle</td>\n",
       "<td>1.0</td>\n",
       "<td>1.0</td>\n",
       "</tr>\n",
       "</table>\n",
       "<p><a href=\"https://selfhacked.com/blog/health-benefits-sleep/\" style=\"text-decoration:none\"><span style=\"color:#1155cc\"><strong><u>Sleep</u></strong></span></a><span style=\"color:#000000\"><strong> supports your body and mind</strong></span><span style=\"color:#000000\">. It helps:</span></p>\r\n",
       "\r\n",
       "<ul>\r\n",
       "\t<li style=\"list-style-type:disc\"><span style=\"color:#000000\">Support brain health [</span><a href=\"https://www.ncbi.nlm.nih.gov/pmc/articles/PMC3880190/\" style=\"text-decoration:none\"><span style=\"color:#1155cc\"><u>R</u></span></a><span style=\"color:#000000\">, </span><a href=\"https://www.ncbi.nlm.nih.gov/pubmed/24136944/\" style=\"text-decoration:none\"><span style=\"color:#1155cc\"><u>R</u></span></a><span style=\"color:#000000\">]</span></li>\r\n",
       "\t<li style=\"list-style-type:disc\"><span style=\"color:#000000\">Maintain a healthy weight and appetite [</span><a href=\"https://www.ncbi.nlm.nih.gov/pubmed/24892893\" style=\"text-decoration:none\"><span style=\"color:#1155cc\"><u>R</u></span></a><span style=\"color:#000000\">, </span><a href=\"https://www.ncbi.nlm.nih.gov/pmc/articles/PMC4394987/\" style=\"text-decoration:none\"><span style=\"color:#1155cc\"><u>R</u></span></a><span style=\"color:#000000\">, </span><a href=\"https://www.ncbi.nlm.nih.gov/pmc/articles/PMC535701/\" style=\"text-decoration:none\"><span style=\"color:#1155cc\"><u>R</u></span></a><span style=\"color:#000000\">]</span></li>\r\n",
       "\t<li style=\"list-style-type:disc\"><span style=\"color:#000000\">Regulate blood pressure [</span><a href=\"https://www.ncbi.nlm.nih.gov/pubmed/16585410/\" style=\"text-decoration:none\"><span style=\"color:#1155cc\"><u>R</u></span></a><span style=\"color:#000000\">, </span><a href=\"https://www.ncbi.nlm.nih.gov/pmc/articles/PMC2845795/\" style=\"text-decoration:none\"><span style=\"color:#1155cc\"><u>R</u></span></a><span style=\"color:#000000\">]</span></li>\r\n",
       "\t<li style=\"list-style-type:disc\"><span style=\"color:#000000\">Balance blood sugar [</span><a href=\"https://www.ncbi.nlm.nih.gov/pmc/articles/PMC3767932/\" style=\"text-decoration:none\"><span style=\"color:#1155cc\"><u>R</u></span></a><span style=\"color:#000000\">, </span><a href=\"https://www.ncbi.nlm.nih.gov/pmc/articles/PMC2927933/\" style=\"text-decoration:none\"><span style=\"color:#1155cc\"><u>R</u></span></a><span style=\"color:#000000\">]</span></li>\r\n",
       "</ul>\r\n",
       "\r\n",
       "<p><span style=\"color:#000000\">Ways to sleep better include [</span><a href=\"https://www.mayoclinic.org/healthy-lifestyle/adult-health/in-depth/sleep/art-20048379\" style=\"text-decoration:none\"><span style=\"color:#1155cc\"><u>R</u></span></a><span style=\"color:#000000\">]:</span></p>\r\n",
       "\r\n",
       "<ul>\r\n",
       "\t<li style=\"list-style-type:disc\"><span style=\"color:#000000\">Reducing your bright light exposure (screen time) in the evenings</span></li>\r\n",
       "\t<li style=\"list-style-type:disc\"><span style=\"color:#000000\">Sticking to a regular sleep schedule</span></li>\r\n",
       "\t<li style=\"list-style-type:disc\"><span style=\"color:#000000\">Avoiding hunger or large meals before bed</span></li>\r\n",
       "\t<li style=\"list-style-type:disc\"><span style=\"color:#000000\">Avoiding nicotine, caffeine, and alcohol before bed</span></li>\r\n",
       "\t<li style=\"list-style-type:disc\"><span style=\"color:#000000\">Maintaining a sleep area that&rsquo;s cool, dark, and quiet</span></li>\r\n",
       "</ul><br>\n"
      ],
      "text/plain": [
       "<IPython.core.display.HTML object>"
      ]
     },
     "metadata": {},
     "output_type": "display_data"
    },
    {
     "data": {
      "text/html": [
       "<h5>Relaxation Techniques</h5>\n",
       "Practice relaxation techniques.<br>\n",
       "<table>\n",
       "<tr>\n",
       "<th>Type</th>\n",
       "<th>Effect</th>\n",
       "<th>Evidence</th>\n",
       "</tr>\n",
       "<tr>\n",
       "<td>lifestyle</td>\n",
       "<td>0.8</td>\n",
       "<td>0.8</td>\n",
       "</tr>\n",
       "</table>\n",
       "<p style=\"text-align:justify\"><span style=\"color:#000000\"><strong>We all get stressed from time to time.</strong></span></p>\r\n",
       "\r\n",
       "<p>&nbsp;</p>\r\n",
       "\r\n",
       "<p style=\"text-align:justify\"><a href=\"https://selfhacked.com/blog/63-factors-raising-stress-cortisol-level-backed-science/\" style=\"text-decoration:none\"><span style=\"color:#1155cc\"><u>Stress</u></span></a><span style=\"color:#000000\"> has a positive side &mdash; it can help you deal with a challenge or avoid danger. However,</span><span style=\"color:#000000\"><strong> it&rsquo;s not healthy to be stressed for a long time</strong></span><span style=\"color:#000000\"> [</span><a href=\"https://www.ncbi.nlm.nih.gov/books/NBK541120/\" style=\"text-decoration:none\"><span style=\"color:#1155cc\"><u>R</u></span></a><span style=\"color:#000000\">, </span><a href=\"https://www.ncbi.nlm.nih.gov/pmc/articles/PMC2568977/\" style=\"text-decoration:none\"><span style=\"color:#1155cc\"><u>R</u></span></a><span style=\"color:#000000\">].</span></p>\r\n",
       "\r\n",
       "<p>&nbsp;</p>\r\n",
       "\r\n",
       "<p style=\"text-align:justify\"><span style=\"color:#000000\"><strong>Relaxation techniques such as </strong></span><a href=\"https://selfhacked.com/blog/health-benefits-yoga/\" style=\"text-decoration:none\"><span style=\"color:#1155cc\"><strong><u>yoga</u></strong></span></a><span style=\"color:#000000\"><strong> and </strong></span><a href=\"https://selfhacked.com/blog/meditation/\" style=\"text-decoration:none\"><span style=\"color:#1155cc\"><strong><u>meditation</u></strong></span></a><span style=\"color:#000000\"><strong> can relieve stress in different ways</strong></span><span style=\"color:#000000\">.&nbsp;</span></p>\r\n",
       "\r\n",
       "<p style=\"text-align:justify\"><span style=\"color:#000000\">Most of them focus on breathing and help you get rid of negative thoughts and emotions [</span><a href=\"https://www.mayoclinic.org/healthy-lifestyle/stress-management/in-depth/relaxation-technique/art-20045368\" style=\"text-decoration:none\"><span style=\"color:#1155cc\"><u>R</u></span></a><span style=\"color:#000000\">].</span></p>\r\n",
       "\r\n",
       "<p>&nbsp;</p>\r\n",
       "\r\n",
       "<p style=\"text-align:justify\"><span style=\"color:#000000\">People use relaxation techniques to improve conditions like [</span><a href=\"https://www.ncbi.nlm.nih.gov/books/NBK513238/\" style=\"text-decoration:none\"><span style=\"color:#1155cc\"><u>R</u></span></a><span style=\"color:#000000\">, </span><a href=\"https://www.mayoclinic.org/healthy-lifestyle/consumer-health/in-depth/mindfulness-exercises/art-20046356\" style=\"text-decoration:none\"><span style=\"color:#1155cc\"><u>R</u></span></a><span style=\"color:#000000\">]:&nbsp;</span></p>\r\n",
       "\r\n",
       "<ul>\r\n",
       "\t<li style=\"list-style-type:disc\"><span style=\"color:#000000\">Anxiety&nbsp;</span></li>\r\n",
       "\t<li style=\"list-style-type:disc\"><span style=\"color:#000000\">Depression</span></li>\r\n",
       "\t<li style=\"list-style-type:disc\"><span style=\"color:#000000\">Chronic pain</span></li>\r\n",
       "\t<li style=\"list-style-type:disc\"><span style=\"color:#000000\">Insomnia</span></li>\r\n",
       "</ul><br>\n"
      ],
      "text/plain": [
       "<IPython.core.display.HTML object>"
      ]
     },
     "metadata": {},
     "output_type": "display_data"
    },
    {
     "data": {
      "text/html": [
       "<h5>Light Exposure</h5>\n",
       "Increase your bright light exposure during the day.<br>\n",
       "<table>\n",
       "<tr>\n",
       "<th>Type</th>\n",
       "<th>Effect</th>\n",
       "<th>Evidence</th>\n",
       "</tr>\n",
       "<tr>\n",
       "<td>lifestyle</td>\n",
       "<td>0.8</td>\n",
       "<td>0.6</td>\n",
       "</tr>\n",
       "</table>\n",
       "<p style=\"text-align:justify\"><a href=\"https://selfhacked.com/blog/avoiding-sun-will-kill-14-proven-science-based-health-benefits-sun/\" style=\"text-decoration:none\"><span style=\"color:#1155cc\"><strong><u>Sunlight</u></strong></span></a><span style=\"color:#000000\"><strong> or bright light during the day can benefit your body and mind.</strong></span><span style=\"color:#000000\"> It may [</span><a href=\"https://www.ncbi.nlm.nih.gov/pmc/articles/PMC2290997/\" style=\"text-decoration:none\"><span style=\"color:#1155cc\"><u>R</u></span></a><span style=\"color:#000000\">, </span><a href=\"https://www.ncbi.nlm.nih.gov/pmc/articles/PMC3897598/\" style=\"text-decoration:none\"><span style=\"color:#1155cc\"><u>R</u></span></a><span style=\"color:#000000\">, </span><a href=\"https://pubmed.ncbi.nlm.nih.gov/18815716/\" style=\"text-decoration:none\"><span style=\"color:#1155cc\"><u>R</u></span></a><span style=\"color:#000000\">]:</span></p>\r\n",
       "\r\n",
       "<ul>\r\n",
       "\t<li style=\"list-style-type:disc\"><span style=\"color:#000000\">Boost your mood&nbsp;</span></li>\r\n",
       "\t<li style=\"list-style-type:disc\"><span style=\"color:#000000\">Boost your performance and energy</span></li>\r\n",
       "\t<li style=\"list-style-type:disc\"><span style=\"color:#000000\">Improve sleep quality</span></li>\r\n",
       "</ul>\r\n",
       "\r\n",
       "<p>&nbsp;</p>\r\n",
       "\r\n",
       "<p style=\"text-align:justify\"><span style=\"color:#000000\">Experts recommend getting </span><span style=\"color:#000000\"><strong>at least</strong></span><span style=\"color:#000000\"> </span><span style=\"color:#000000\"><strong>5-15 minutes of midday sun, 2-3 times per week</strong></span><span style=\"color:#000000\">. People with darker skin and those living at high latitudes may need longer periods of sun exposure [</span><a href=\"https://www.ncbi.nlm.nih.gov/pmc/articles/PMC2290997/\" style=\"text-decoration:none\"><span style=\"color:#1155cc\"><u>R</u></span></a><span style=\"color:#000000\">, </span><a href=\"https://www.ncbi.nlm.nih.gov/pmc/articles/PMC7049620/\" style=\"text-decoration:none\"><span style=\"color:#1155cc\"><u>R</u></span></a><span style=\"color:#000000\">].</span></p>\r\n",
       "\r\n",
       "<p>&nbsp;</p>\r\n",
       "\r\n",
       "<p style=\"text-align:justify\"><span style=\"color:#000000\">However, </span><span style=\"color:#000000\"><strong>excessive sun exposure may lead to sunburn, skin aging, and skin cancer</strong></span><span style=\"color:#000000\">, so make sure to find the right balance [</span><a href=\"https://www.ncbi.nlm.nih.gov/pmc/articles/PMC5129901/\" style=\"text-decoration:none\"><span style=\"color:#1155cc\"><u>R</u></span></a><span style=\"color:#000000\">, </span><a href=\"https://pubmed.ncbi.nlm.nih.gov/16580055/\" style=\"text-decoration:none\"><span style=\"color:#1155cc\"><u>R</u></span></a><span style=\"color:#000000\">].</span></p>\r\n",
       "\r\n",
       "<p>&nbsp;</p>\r\n",
       "\r\n",
       "<p><span style=\"color:#000000\"><strong>Light therapy is an option when you can&rsquo;t get sufficient sunlight.</strong></span><span style=\"color:#000000\"> It typically involves placing a &ldquo;light box&rdquo; nearby for 30 minutes each morning. A light therapy box should [</span><a href=\"https://www.ncbi.nlm.nih.gov/pubmed/16041296\" style=\"text-decoration:none\"><span style=\"color:#1155cc\"><u>R</u></span></a><span style=\"color:#000000\">, </span><a href=\"https://www.ncbi.nlm.nih.gov/pmc/articles/PMC4673349/\" style=\"text-decoration:none\"><span style=\"color:#1155cc\"><u>R</u></span></a><span style=\"color:#000000\">, </span><a href=\"https://www.mayoclinic.org/diseases-conditions/seasonal-affective-disorder/in-depth/seasonal-affective-disorder-treatment/art-20048298\" style=\"text-decoration:none\"><span style=\"color:#1155cc\"><u>R</u></span></a><span style=\"color:#000000\">]:</span></p>\r\n",
       "\r\n",
       "<ul>\r\n",
       "\t<li style=\"list-style-type:disc\"><span style=\"color:#000000\">Provide 10,000 lux of light</span></li>\r\n",
       "\t<li style=\"list-style-type:disc\"><span style=\"color:#000000\">Filter out UV light</span></li>\r\n",
       "</ul><br>\n"
      ],
      "text/plain": [
       "<IPython.core.display.HTML object>"
      ]
     },
     "metadata": {},
     "output_type": "display_data"
    },
    {
     "data": {
      "text/html": [
       "<h5>Reduce Caffeine Intake</h5>\n",
       "Reduce your caffeine intake.<br>\n",
       "<table>\n",
       "<tr>\n",
       "<th>Type</th>\n",
       "<th>Effect</th>\n",
       "<th>Evidence</th>\n",
       "</tr>\n",
       "<tr>\n",
       "<td>dietary</td>\n",
       "<td>0.8</td>\n",
       "<td>0.6</td>\n",
       "</tr>\n",
       "</table>\n",
       "<p style=\"text-align:justify\"><span style=\"color:#000000\">People consume </span><a href=\"https://selfhacked.com/blog/caffeine-benefits/\" style=\"text-decoration:none\"><span style=\"color:#1155cc\"><u>caffeine</u></span></a><span style=\"color:#000000\"> for its effects on mood and energy. </span><span style=\"color:#000000\"><strong>But caffeine also comes with some drawbacks. </strong></span><span style=\"color:#000000\">Large amounts of caffeine can increase blood pressure and anxiety, for example [</span><a href=\"https://www.ncbi.nlm.nih.gov/pubmed/20888549\" style=\"text-decoration:none\"><span style=\"color:#1155cc\"><u>R</u></span></a><span style=\"color:#000000\">, </span><a href=\"https://www.ncbi.nlm.nih.gov/pmc/articles/PMC4668773/\" style=\"text-decoration:none\"><span style=\"color:#1155cc\"><u>R</u></span></a><span style=\"color:#000000\">].</span></p>\r\n",
       "\r\n",
       "<p><br />\r\n",
       "<span style=\"color:#000000\">For the average person, </span><span style=\"color:#000000\"><strong>coffee and tea are the main sources of caffeine</strong></span><span style=\"color:#000000\">. You may also be ingesting caffeine in chocolate, energy drinks, or supplements [</span><a href=\"https://www.ncbi.nlm.nih.gov/pmc/articles/PMC4462044/\" style=\"text-decoration:none\"><span style=\"color:#1155cc\"><u>R</u></span></a><span style=\"color:#000000\">].</span></p><br>\n"
      ],
      "text/plain": [
       "<IPython.core.display.HTML object>"
      ]
     },
     "metadata": {},
     "output_type": "display_data"
    },
    {
     "data": {
      "text/html": [
       "<h5>Psychotherapy</h5>\n",
       "Discuss psychotherapy with your doctor.<br>\n",
       "<table>\n",
       "<tr>\n",
       "<th>Type</th>\n",
       "<th>Effect</th>\n",
       "<th>Evidence</th>\n",
       "</tr>\n",
       "<tr>\n",
       "<td>lifestyle</td>\n",
       "<td>0.6</td>\n",
       "<td>0.8</td>\n",
       "</tr>\n",
       "</table>\n",
       "<p><span style=\"color:#000000\"><strong>Psychotherapy (talk therapy) involves talking about your health with a licensed therapist</strong></span><span style=\"color:#000000\">. It may improve the way you react to certain experiences [</span><a href=\"https://www.ncbi.nlm.nih.gov/pmc/articles/PMC6448000/\" style=\"text-decoration:none\"><span style=\"color:#1155cc\"><u>R</u></span></a><span style=\"color:#000000\">].</span></p>\r\n",
       "\r\n",
       "<p>&nbsp;</p>\r\n",
       "\r\n",
       "<p><span style=\"color:#000000\"><strong>Psychotherapy is a great way to improve many conditions</strong></span><span style=\"color:#000000\">, including [</span><a href=\"https://www.ncbi.nlm.nih.gov/pmc/articles/PMC6448000/\" style=\"text-decoration:none\"><span style=\"color:#1155cc\"><u>R</u></span></a><span style=\"color:#000000\">, </span><a href=\"https://www.ncbi.nlm.nih.gov/pmc/articles/PMC5509639/\" style=\"text-decoration:none\"><span style=\"color:#1155cc\"><u>R</u></span></a><span style=\"color:#000000\">, </span><a href=\"https://www.mayoclinic.org/tests-procedures/cognitive-behavioral-therapy/about/pac-20384610\" style=\"text-decoration:none\"><span style=\"color:#1155cc\"><u>R</u></span></a><span style=\"color:#000000\">, </span><a href=\"https://pubmed.ncbi.nlm.nih.gov/26054060/\" style=\"text-decoration:none\"><span style=\"color:#1155cc\"><u>R</u></span></a><span style=\"color:#000000\">]:</span></p>\r\n",
       "\r\n",
       "<ul>\r\n",
       "\t<li style=\"list-style-type:disc\"><span style=\"color:#000000\">Depression&nbsp;</span></li>\r\n",
       "\t<li style=\"list-style-type:disc\"><span style=\"color:#000000\">Anxiety disorders</span></li>\r\n",
       "\t<li style=\"list-style-type:disc\"><span style=\"color:#000000\">Insomnia</span></li>\r\n",
       "\t<li style=\"list-style-type:disc\"><span style=\"color:#000000\">PTSD</span></li>\r\n",
       "\t<li style=\"list-style-type:disc\"><span style=\"color:#000000\">OCD</span></li>\r\n",
       "\t<li style=\"list-style-type:disc\"><span style=\"color:#000000\">Substance use disorder</span></li>\r\n",
       "\t<li style=\"list-style-type:disc\"><span style=\"color:#000000\">Bipolar disorder</span></li>\r\n",
       "</ul><br>\n"
      ],
      "text/plain": [
       "<IPython.core.display.HTML object>"
      ]
     },
     "metadata": {},
     "output_type": "display_data"
    },
    {
     "data": {
      "text/html": [
       "<h5>Limit Alcohol Intake</h5>\n",
       "Drink less alcohol.<br>\n",
       "<table>\n",
       "<tr>\n",
       "<th>Type</th>\n",
       "<th>Effect</th>\n",
       "<th>Evidence</th>\n",
       "</tr>\n",
       "<tr>\n",
       "<td>dietary</td>\n",
       "<td>0.6</td>\n",
       "<td>0.6</td>\n",
       "</tr>\n",
       "</table>\n",
       "<p style=\"text-align:justify\"><span style=\"color:#000000\">Many people drink alcohol in their free time. For some, alcohol can temporarily improve their mood and mental state [</span><a href=\"https://pubmed.ncbi.nlm.nih.gov/4053968/\" style=\"text-decoration:none\"><span style=\"color:#1155cc\"><u>R</u></span></a><span style=\"color:#000000\">].</span></p>\r\n",
       "\r\n",
       "<p><br />\r\n",
       "<span style=\"color:#000000\"><strong>Experts agree that having 1-2 drinks per day likely won&rsquo;t cause harm. However, heavy drinking is bad for your health </strong></span><span style=\"color:#000000\">[</span><a href=\"https://www.mayoclinic.org/healthy-lifestyle/nutrition-and-healthy-eating/in-depth/alcohol/art-20044551\" style=\"text-decoration:none\"><span style=\"color:#1155cc\"><u>R</u></span></a><span style=\"color:#000000\">].</span></p><br>\n"
      ],
      "text/plain": [
       "<IPython.core.display.HTML object>"
      ]
     },
     "metadata": {},
     "output_type": "display_data"
    },
    {
     "data": {
      "text/html": [
       "<h5>Exercise</h5>\n",
       "Exercise regularly.<br>\n",
       "<table>\n",
       "<tr>\n",
       "<th>Type</th>\n",
       "<th>Effect</th>\n",
       "<th>Evidence</th>\n",
       "</tr>\n",
       "<tr>\n",
       "<td>lifestyle</td>\n",
       "<td>0.6</td>\n",
       "<td>0.6</td>\n",
       "</tr>\n",
       "</table>\n",
       "<p style=\"text-align:justify\"><a href=\"https://health.selfdecode.com/blog/top-14-proven-health-benefits-exercise-references-mechanisms/\" style=\"text-decoration:none\"><span style=\"color:#1155cc\"><strong><u>Exercise</u></strong></span></a><span style=\"color:#000000\"><strong> </strong></span><span style=\"color:#000000\"><strong>can do wonders for your health.</strong> It can help you lose weight, improve your heart health, boost your mood, and more [</span><a href=\"https://medlineplus.gov/benefitsofexercise.html\" style=\"text-decoration:none\"><span style=\"color:#1155cc\"><u>R</u></span></a><span style=\"color:#000000\">].</span></p>\r\n",
       "\r\n",
       "<p>&nbsp;</p>\r\n",
       "\r\n",
       "<p style=\"text-align:justify\"><span style=\"color:#000000\">There are many ways you can be active. You can walk, run, swim, dance, or play team sports. </span><span style=\"color:#000000\"><strong>Everything counts, and it&#39;s never too late to start!</strong></span></p>\r\n",
       "\r\n",
       "<p><br />\r\n",
       "<span style=\"color:#000000\">Try going for a brisk walk or doing another moderate activity for 30 minutes/day, most days of the week [</span><a href=\"https://www.mayoclinic.org/diseases-conditions/sleep-apnea/diagnosis-treatment/drc-20377636\" style=\"text-decoration:none\"><span style=\"color:#1155cc\"><u>R</u></span></a><span style=\"color:#000000\">].</span></p><br>\n"
      ],
      "text/plain": [
       "<IPython.core.display.HTML object>"
      ]
     },
     "metadata": {},
     "output_type": "display_data"
    },
    {
     "data": {
      "text/html": [
       "<h5>Maintain a Healthy Weight</h5>\n",
       "Try to maintain a healthy weight.<br>\n",
       "<table>\n",
       "<tr>\n",
       "<th>Type</th>\n",
       "<th>Effect</th>\n",
       "<th>Evidence</th>\n",
       "</tr>\n",
       "<tr>\n",
       "<td>lifestyle</td>\n",
       "<td>0.6</td>\n",
       "<td>0.6</td>\n",
       "</tr>\n",
       "</table>\n",
       "<p style=\"text-align:justify\"><span style=\"color:#000000\"><strong>People have a healthy weight when they don&#39;t have too much or too little body fat </strong></span><span style=\"color:#000000\">[</span><a href=\"https://www.ncbi.nlm.nih.gov/pmc/articles/PMC2082845/\" style=\"text-decoration:none\"><span style=\"color:#1155cc\"><u>R</u></span></a><span style=\"color:#000000\">].</span></p>\r\n",
       "\r\n",
       "<p>&nbsp;</p>\r\n",
       "\r\n",
       "<p style=\"text-align:justify\"><span style=\"color:#000000\"><em>Body mass index </em></span><span style=\"color:#000000\">(BMI) can help determine body fat levels. Your BMI is your mass (in kg) divided by the square of your height (in meters) [</span><a href=\"https://www.cdc.gov/healthyweight/assessing/bmi/index.html\" style=\"text-decoration:none\"><span style=\"color:#1155cc\"><u>R</u></span></a><span style=\"color:#000000\">].</span></p>\r\n",
       "\r\n",
       "<p>&nbsp;</p>\r\n",
       "\r\n",
       "<p style=\"text-align:justify\"><span style=\"color:#000000\">In general [</span><a href=\"https://www.cdc.gov/healthyweight/assessing/bmi/adult_bmi/index.html\" style=\"text-decoration:none\"><span style=\"color:#1155cc\"><u>R</u></span></a><span style=\"color:#000000\">]:</span></p>\r\n",
       "\r\n",
       "<ul>\r\n",
       "\t<li style=\"list-style-type:disc\"><span style=\"color:#000000\">People with a BMI </span><span style=\"color:#000000\"><strong>under 18.5</strong></span><span style=\"color:#000000\"> tend to be </span><span style=\"color:#000000\"><strong>underweight</strong></span></li>\r\n",
       "\t<li style=\"list-style-type:disc\"><span style=\"color:#000000\">People with a BMI </span><span style=\"color:#000000\"><strong>between 18.5 and 25</strong></span><span style=\"color:#000000\"> tend to have a </span><span style=\"color:#000000\"><strong>healthy weight</strong></span></li>\r\n",
       "\t<li style=\"list-style-type:disc\"><span style=\"color:#000000\">People with a BMI</span><span style=\"color:#000000\"><strong> between 25 and 30 </strong></span><span style=\"color:#000000\">tend to be </span><span style=\"color:#000000\"><strong>overweight</strong></span></li>\r\n",
       "\t<li style=\"list-style-type:disc\"><span style=\"color:#000000\">People with a BMI </span><span style=\"color:#000000\"><strong>over 30 </strong></span><span style=\"color:#000000\">tend to be </span><span style=\"color:#000000\"><strong>obese</strong></span></li>\r\n",
       "</ul>\r\n",
       "\r\n",
       "<p><span style=\"color:#000000\">People with a BMI outside the healthy range are more likely to have [</span><a href=\"https://pubmed.ncbi.nlm.nih.gov/28077198/\" style=\"text-decoration:none\"><span style=\"color:#1155cc\"><u>R</u></span></a><span style=\"color:#000000\">, </span><a href=\"https://www.mayoclinic.org/diseases-conditions/osteoporosis/symptoms-causes/syc-20351968\" style=\"text-decoration:none\"><span style=\"color:#1155cc\"><u>R</u></span></a><span style=\"color:#000000\">, </span><a href=\"https://www.ncbi.nlm.nih.gov/pmc/articles/PMC2879283/\" style=\"text-decoration:none\"><span style=\"color:#1155cc\"><u>R</u></span></a><span style=\"color:#000000\">]:</span></p>\r\n",
       "\r\n",
       "<ul>\r\n",
       "\t<li style=\"list-style-type:disc\"><span style=\"color:#000000\">Nutrient imbalances</span></li>\r\n",
       "\t<li style=\"list-style-type:disc\"><span style=\"color:#000000\">Heart disease</span></li>\r\n",
       "\t<li style=\"list-style-type:disc\"><span style=\"color:#000000\">Bone and joint problems</span></li>\r\n",
       "</ul><br>\n"
      ],
      "text/plain": [
       "<IPython.core.display.HTML object>"
      ]
     },
     "metadata": {},
     "output_type": "display_data"
    },
    {
     "data": {
      "text/html": [
       "<h5>Melatonin</h5>\n",
       "Consider supplementing with melatonin before bed.<br>\n",
       "<table>\n",
       "<tr>\n",
       "<th>Type</th>\n",
       "<th>Effect</th>\n",
       "<th>Evidence</th>\n",
       "</tr>\n",
       "<tr>\n",
       "<td>supplement</td>\n",
       "<td>0.6</td>\n",
       "<td>0.6</td>\n",
       "</tr>\n",
       "</table>\n",
       "<p><a href=\"https://selfhacked.com/blog/melatonin/\" style=\"text-decoration:none\"><span style=\"color:#1155cc\"><strong><u>Melatonin</u></strong></span></a><span style=\"color:#000000\"><strong> is an important sleep hormone</strong></span><span style=\"color:#000000\">. Bright light at night may prevent your body from making enough melatonin [</span><a href=\"https://www.ncbi.nlm.nih.gov/pmc/articles/PMC3047226/\" style=\"text-decoration:none\"><span style=\"color:#1155cc\"><u>R</u></span></a><span style=\"color:#000000\">, </span><a href=\"https://www.ncbi.nlm.nih.gov/pmc/articles/PMC3462291\" style=\"text-decoration:none\"><span style=\"color:#1155cc\"><u>R</u></span></a><span style=\"color:#000000\">].</span></p>\r\n",
       "\r\n",
       "<p><br />\r\n",
       "<span style=\"color:#000000\">Your body makes melatonin on its own when it&rsquo;s dark. </span><span style=\"color:#000000\"><strong>This hormone tells your body that it&rsquo;s time to go to sleep. </strong></span><span style=\"color:#000000\">Some people take melatonin supplements to help them sleep. It may help with jet lag in particular [</span><a href=\"https://www.ncbi.nlm.nih.gov/pubmed/15582288\" style=\"text-decoration:none\"><span style=\"color:#1155cc\"><u>R</u></span></a><span style=\"color:#000000\">, </span><a href=\"https://www.ncbi.nlm.nih.gov/pmc/articles/PMC3656905/\" style=\"text-decoration:none\"><span style=\"color:#1155cc\"><u>R</u></span></a><span style=\"color:#000000\">, </span><a href=\"https://pubmed.ncbi.nlm.nih.gov/12076414/\" style=\"text-decoration:none\"><span style=\"color:#1155cc\"><u>R</u></span></a><span style=\"color:#000000\">].</span></p><br>\n"
      ],
      "text/plain": [
       "<IPython.core.display.HTML object>"
      ]
     },
     "metadata": {},
     "output_type": "display_data"
    },
    {
     "data": {
      "text/html": [
       "<h5>Glycine</h5>\n",
       "<br>\n",
       "<table>\n",
       "<tr>\n",
       "<th>Type</th>\n",
       "<th>Effect</th>\n",
       "<th>Evidence</th>\n",
       "</tr>\n",
       "<tr>\n",
       "<td>supplement</td>\n",
       "<td>0.0</td>\n",
       "<td>0.0</td>\n",
       "</tr>\n",
       "</table>\n",
       "<p>&nbsp;&nbsp;</p><br>\n"
      ],
      "text/plain": [
       "<IPython.core.display.HTML object>"
      ]
     },
     "metadata": {},
     "output_type": "display_data"
    },
    {
     "data": {
      "text/html": [
       "<h5>Meditation</h5>\n",
       "<br>\n",
       "<table>\n",
       "<tr>\n",
       "<th>Type</th>\n",
       "<th>Effect</th>\n",
       "<th>Evidence</th>\n",
       "</tr>\n",
       "<tr>\n",
       "<td>lifestyle</td>\n",
       "<td>0.0</td>\n",
       "<td>0.0</td>\n",
       "</tr>\n",
       "</table>\n",
       "<p>&nbsp;&nbsp;</p><br>\n"
      ],
      "text/plain": [
       "<IPython.core.display.HTML object>"
      ]
     },
     "metadata": {},
     "output_type": "display_data"
    },
    {
     "data": {
      "text/html": [
       "<h5>Mindfulness</h5>\n",
       "<br>\n",
       "<table>\n",
       "<tr>\n",
       "<th>Type</th>\n",
       "<th>Effect</th>\n",
       "<th>Evidence</th>\n",
       "</tr>\n",
       "<tr>\n",
       "<td>lifestyle</td>\n",
       "<td>0.0</td>\n",
       "<td>0.0</td>\n",
       "</tr>\n",
       "</table>\n",
       "<p>&nbsp;&nbsp;</p><br>\n"
      ],
      "text/plain": [
       "<IPython.core.display.HTML object>"
      ]
     },
     "metadata": {},
     "output_type": "display_data"
    },
    {
     "data": {
      "text/html": [
       "<h5>Yoga</h5>\n",
       "<br>\n",
       "<table>\n",
       "<tr>\n",
       "<th>Type</th>\n",
       "<th>Effect</th>\n",
       "<th>Evidence</th>\n",
       "</tr>\n",
       "<tr>\n",
       "<td>lifestyle</td>\n",
       "<td>0.0</td>\n",
       "<td>0.0</td>\n",
       "</tr>\n",
       "</table>\n",
       "<p>&nbsp;&nbsp;</p><br>\n"
      ],
      "text/plain": [
       "<IPython.core.display.HTML object>"
      ]
     },
     "metadata": {},
     "output_type": "display_data"
    },
    {
     "data": {
      "text/html": [
       "<h5>Aromatherapy</h5>\n",
       "<br>\n",
       "<table>\n",
       "<tr>\n",
       "<th>Type</th>\n",
       "<th>Effect</th>\n",
       "<th>Evidence</th>\n",
       "</tr>\n",
       "<tr>\n",
       "<td>lifestyle</td>\n",
       "<td>0.0</td>\n",
       "<td>0.0</td>\n",
       "</tr>\n",
       "</table>\n",
       "<p>&nbsp;&nbsp;</p><br>\n"
      ],
      "text/plain": [
       "<IPython.core.display.HTML object>"
      ]
     },
     "metadata": {},
     "output_type": "display_data"
    },
    {
     "data": {
      "text/html": [
       "<h5>Tai Chi</h5>\n",
       "<br>\n",
       "<table>\n",
       "<tr>\n",
       "<th>Type</th>\n",
       "<th>Effect</th>\n",
       "<th>Evidence</th>\n",
       "</tr>\n",
       "<tr>\n",
       "<td>lifestyle</td>\n",
       "<td>0.0</td>\n",
       "<td>0.0</td>\n",
       "</tr>\n",
       "</table>\n",
       "<p>&nbsp;&nbsp;</p><br>\n"
      ],
      "text/plain": [
       "<IPython.core.display.HTML object>"
      ]
     },
     "metadata": {},
     "output_type": "display_data"
    },
    {
     "data": {
      "text/html": [
       "<h5>Massage</h5>\n",
       "<br>\n",
       "<table>\n",
       "<tr>\n",
       "<th>Type</th>\n",
       "<th>Effect</th>\n",
       "<th>Evidence</th>\n",
       "</tr>\n",
       "<tr>\n",
       "<td>lifestyle</td>\n",
       "<td>0.0</td>\n",
       "<td>0.0</td>\n",
       "</tr>\n",
       "</table>\n",
       "<p>&nbsp;&nbsp;</p><br>\n"
      ],
      "text/plain": [
       "<IPython.core.display.HTML object>"
      ]
     },
     "metadata": {},
     "output_type": "display_data"
    },
    {
     "data": {
      "text/html": [
       "<h5>Mediterranean Diet</h5>\n",
       "<br>\n",
       "<table>\n",
       "<tr>\n",
       "<th>Type</th>\n",
       "<th>Effect</th>\n",
       "<th>Evidence</th>\n",
       "</tr>\n",
       "<tr>\n",
       "<td>dietary</td>\n",
       "<td>0.0</td>\n",
       "<td>0.0</td>\n",
       "</tr>\n",
       "</table>\n",
       "<p>&nbsp;&nbsp;</p><br>\n"
      ],
      "text/plain": [
       "<IPython.core.display.HTML object>"
      ]
     },
     "metadata": {},
     "output_type": "display_data"
    },
    {
     "data": {
      "text/html": [
       "<h5>DASH Diet</h5>\n",
       "<br>\n",
       "<table>\n",
       "<tr>\n",
       "<th>Type</th>\n",
       "<th>Effect</th>\n",
       "<th>Evidence</th>\n",
       "</tr>\n",
       "<tr>\n",
       "<td>dietary</td>\n",
       "<td>0.0</td>\n",
       "<td>0.0</td>\n",
       "</tr>\n",
       "</table>\n",
       "<p>&nbsp;&nbsp;</p><br>\n"
      ],
      "text/plain": [
       "<IPython.core.display.HTML object>"
      ]
     },
     "metadata": {},
     "output_type": "display_data"
    },
    {
     "data": {
      "text/html": [
       "<h2>Sistema Urinario</h2>"
      ],
      "text/plain": [
       "<IPython.core.display.HTML object>"
      ]
     },
     "metadata": {},
     "output_type": "display_data"
    },
    {
     "data": {
      "text/html": [
       "<h3>Bladder Control</h3>\n",
       "Your score: 0.542145593869732<br>\n",
       "Typical likelihood of urinary incontinence<br>\n",
       "<h4>Summary</h4>\n",
       "<br>\n",
       "<h4>About Urinary Incontinence</h4>\n",
       "<div style=\"background:#eeeeee; border:1px solid #cccccc; padding:5px 10px\"><span style=\"color:#000000\"><strong>Key Takeaways:<br />\r\n",
       "<br />\r\n",
       "&nbsp; &nbsp;&nbsp;</strong></span><span style=\"color:#000000\">●&nbsp; Urinary incontinence is not uncommon, especially for<br />\r\n",
       "&nbsp; &nbsp; &nbsp; &nbsp;&nbsp;women, due to pregnancy and menopause. It can vary in<br />\r\n",
       "&nbsp; &nbsp; &nbsp; &nbsp;&nbsp;severity from occasional to interfering with daily activities.<br />\r\n",
       "&nbsp; &nbsp;&nbsp;</span><span style=\"color:#000000\">●&nbsp; Risk factors include being older, female, overweight, a<br />\r\n",
       "&nbsp; &nbsp; &nbsp; &nbsp;&nbsp;smoker, certain health conditions, and your genetics.&nbsp;<br />\r\n",
       "&nbsp; &nbsp;&nbsp;</span><span style=\"color:#000000\">●&nbsp; If your risk is high, your overall risk is still going to be low<br />\r\n",
       "&nbsp; &nbsp; &nbsp; &nbsp;&nbsp;unless you are older or have had children. If your risk is low<br />\r\n",
       "&nbsp; &nbsp; &nbsp; &nbsp;&nbsp;and you have incontinence issues, talk with your doctor<br />\r\n",
       "&nbsp; &nbsp; &nbsp; &nbsp;&nbsp;about potential actions to take.</span></div>\r\n",
       "\r\n",
       "<p><br />\r\n",
       "<span style=\"color:#000000\">Urinary incontinence is a loss of bladder control. People with bladder control problems urinate without meaning to [</span><a href=\"https://www.mayoclinic.org/diseases-conditions/urinary-incontinence/symptoms-causes/syc-20352808\" style=\"text-decoration:none\"><span style=\"color:#1155cc\"><u>R</u></span></a><span style=\"color:#000000\">].</span></p>\r\n",
       "\r\n",
       "<p>&nbsp;</p>\r\n",
       "\r\n",
       "<p><span style=\"color:#000000\"><strong>About 50% of women and 14% of men may have bladder control problems. </strong></span><span style=\"color:#000000\">This difference may partly be due to pregnancy, childbirth, and menopause, which may all contribute to bladder control problems [</span><a href=\"https://www.ncbi.nlm.nih.gov/labs/pmc/articles/PMC3197263/\" style=\"text-decoration:none\"><span style=\"color:#1155cc\"><u>R</u></span></a><span style=\"color:#000000\">, </span><a href=\"https://www.mayoclinic.org/diseases-conditions/urinary-incontinence/symptoms-causes/syc-20352808\" style=\"text-decoration:none\"><span style=\"color:#1155cc\"><u>R</u></span></a><span style=\"color:#000000\">].</span></p>\r\n",
       "\r\n",
       "<p>&nbsp;</p>\r\n",
       "\r\n",
       "<p><span style=\"color:#000000\">Other risk factors for bladder control problems include [</span><a href=\"https://www.mayoclinic.org/diseases-conditions/urinary-incontinence/symptoms-causes/syc-20352808\" style=\"text-decoration:none\"><span style=\"color:#1155cc\"><u>R</u></span></a><span style=\"color:#000000\">]:</span></p>\r\n",
       "\r\n",
       "<ul>\r\n",
       "\t<li style=\"list-style-type:disc\"><span style=\"color:#000000\">Being older</span></li>\r\n",
       "\t<li style=\"list-style-type:disc\"><span style=\"color:#000000\">Excess weight</span></li>\r\n",
       "\t<li style=\"list-style-type:disc\"><span style=\"color:#000000\">Smoking</span></li>\r\n",
       "\t<li style=\"list-style-type:disc\"><span style=\"color:#000000\">Certain health conditions (e.g., neurological conditions, diabetes)</span></li>\r\n",
       "\t<li style=\"list-style-type:disc\"><span style=\"color:#000000\"><strong>Genetics</strong></span></li>\r\n",
       "</ul>\r\n",
       "\r\n",
       "<p><span style=\"color:#000000\">Bladder control problems can range in severity. Some people may only leak occasionally, such as during a cough or sneeze. For others, a lack of bladder control can have a major impact on daily life [</span><a href=\"https://www.mayoclinic.org/diseases-conditions/urinary-incontinence/symptoms-causes/syc-20352808\" style=\"text-decoration:none\"><span style=\"color:#1155cc\"><u>R</u></span></a><span style=\"color:#000000\">].</span></p>\r\n",
       "\r\n",
       "<p>&nbsp;</p>\r\n",
       "\r\n",
       "<p><span style=\"color:#000000\">A wide range of management and treatment options exist, depending on the severity of bladder control problems. They include [</span><a href=\"https://www.mayoclinic.org/diseases-conditions/urinary-incontinence/diagnosis-treatment/drc-20352814\" style=\"text-decoration:none\"><span style=\"color:#1155cc\"><u>R</u></span></a><span style=\"color:#000000\">]:</span></p>\r\n",
       "\r\n",
       "<ul>\r\n",
       "\t<li style=\"list-style-type:disc\"><span style=\"color:#000000\">Bladder training</span></li>\r\n",
       "\t<li style=\"list-style-type:disc\"><span style=\"color:#000000\">Pads</span></li>\r\n",
       "\t<li style=\"list-style-type:disc\"><span style=\"color:#000000\">Kegel exercises for pelvic floor muscles</span></li>\r\n",
       "\t<li style=\"list-style-type:disc\"><span style=\"color:#000000\">Medication</span></li>\r\n",
       "\t<li style=\"list-style-type:disc\"><span style=\"color:#000000\">Medical devices</span></li>\r\n",
       "\t<li style=\"list-style-type:disc\"><span style=\"color:#000000\">Surgery</span></li>\r\n",
       "</ul>\r\n",
       "\r\n",
       "<p><span style=\"color:#000000\">Left untreated, severe bladder control problems may lead to [</span><a href=\"https://www.mayoclinic.org/diseases-conditions/urinary-incontinence/symptoms-causes/syc-20352808\" style=\"text-decoration:none\"><span style=\"color:#1155cc\"><u>R</u></span></a><span style=\"color:#000000\">]:</span></p>\r\n",
       "\r\n",
       "<ul>\r\n",
       "\t<li style=\"list-style-type:disc\"><span style=\"color:#000000\">Rashes and sores due to wet skin</span></li>\r\n",
       "\t<li style=\"list-style-type:disc\"><span style=\"color:#000000\">Social and work life problems</span></li>\r\n",
       "\t<li style=\"list-style-type:disc\"><span style=\"color:#000000\">Urinary tract infections (UTIs)</span></li>\r\n",
       "</ul>\r\n",
       "\r\n",
       "<p><span style=\"color:#000000\"><strong>Up to 50% of differences in people&rsquo;s chances of developing bladder control problems may be attributed to genetics</strong></span><span style=\"color:#000000\">. Genes involved in bladder control may influence [</span><a href=\"https://www.ncbi.nlm.nih.gov/labs/pmc/articles/PMC3101479/\" style=\"text-decoration:none\"><span style=\"color:#1155cc\"><u>R</u></span></a><span style=\"color:#000000\">, </span><a href=\"https://www.ncbi.nlm.nih.gov/labs/pmc/articles/PMC7659982/\" style=\"text-decoration:none\"><span style=\"color:#1155cc\"><u>R</u></span></a><span style=\"color:#000000\">, </span><a href=\"https://pubmed.ncbi.nlm.nih.gov/33904754/\" style=\"text-decoration:none\"><span style=\"color:#1155cc\"><u>R</u></span></a><span style=\"color:#000000\">]:</span></p>\r\n",
       "\r\n",
       "<ul>\r\n",
       "\t<li style=\"list-style-type:disc\"><span style=\"color:#000000\">Pelvic support</span></li>\r\n",
       "\t<li style=\"list-style-type:disc\"><span style=\"color:#000000\">Brain activity</span></li>\r\n",
       "\t<li style=\"list-style-type:disc\"><span style=\"color:#000000\">Bladder muscle function</span></li>\r\n",
       "</ul><br>\n",
       "<br>\n",
       "<h4>Recommendations</h4>"
      ],
      "text/plain": [
       "<IPython.core.display.HTML object>"
      ]
     },
     "metadata": {},
     "output_type": "display_data"
    },
    {
     "data": {
      "text/html": [
       "<h5>Kegel Exercises</h5>\n",
       "Try practicing Kegel exercises.<br>\n",
       "<table>\n",
       "<tr>\n",
       "<th>Type</th>\n",
       "<th>Effect</th>\n",
       "<th>Evidence</th>\n",
       "</tr>\n",
       "<tr>\n",
       "<td>lifestyle</td>\n",
       "<td>0.8</td>\n",
       "<td>1.0</td>\n",
       "</tr>\n",
       "</table>\n",
       "<p><span style=\"color:#000000\">Kegel exercises are movements meant to strengthen the muscles around your bladder, anus, and genitals. They are named after the doctor who first described them [</span><a href=\"https://www.ncbi.nlm.nih.gov/books/NBK555898/\" style=\"text-decoration:none\"><span style=\"color:#1155cc\"><u>R</u></span></a><span style=\"color:#000000\">].</span></p>\r\n",
       "\r\n",
       "<p>&nbsp;</p>\r\n",
       "\r\n",
       "<p><span style=\"color:#000000\">The exercises involve flexing and holding the pelvic floor muscles in the same manner one would try to hold in urine. To start, tighten for three seconds, then relax for three seconds. Build up to doing 10-15 repetitions, three times per day [</span><a href=\"https://www.mayoclinic.org/healthy-lifestyle/mens-health/in-depth/kegel-exercises-for-men/art-20045074\" style=\"text-decoration:none\"><span style=\"color:#1155cc\"><u>R</u></span></a><span style=\"color:#000000\">].</span></p>\r\n",
       "\r\n",
       "<p><br />\r\n",
       "<span style=\"color:#000000\">Kegel exercises may help with bladder control problems and sexual health [</span><a href=\"https://www.nhs.uk/common-health-questions/womens-health/what-are-pelvic-floor-exercises/\" style=\"text-decoration:none\"><span style=\"color:#1155cc\"><u>R</u></span></a><span style=\"color:#000000\">, </span><a href=\"https://www.ncbi.nlm.nih.gov/books/NBK555898/\" style=\"text-decoration:none\"><span style=\"color:#1155cc\"><u>R</u></span></a><span style=\"color:#000000\">].</span></p><br>\n"
      ],
      "text/plain": [
       "<IPython.core.display.HTML object>"
      ]
     },
     "metadata": {},
     "output_type": "display_data"
    },
    {
     "data": {
      "text/html": [
       "<h5>Maintain a Healthy Weight</h5>\n",
       "Try to maintain a healthy weight.<br>\n",
       "<table>\n",
       "<tr>\n",
       "<th>Type</th>\n",
       "<th>Effect</th>\n",
       "<th>Evidence</th>\n",
       "</tr>\n",
       "<tr>\n",
       "<td>lifestyle</td>\n",
       "<td>0.8</td>\n",
       "<td>1.0</td>\n",
       "</tr>\n",
       "</table>\n",
       "<p style=\"text-align:justify\"><span style=\"color:#000000\"><strong>People have a healthy weight when they don&#39;t have too much or too little body fat </strong></span><span style=\"color:#000000\">[</span><a href=\"https://www.ncbi.nlm.nih.gov/pmc/articles/PMC2082845/\" style=\"text-decoration:none\"><span style=\"color:#1155cc\"><u>R</u></span></a><span style=\"color:#000000\">].</span></p>\r\n",
       "\r\n",
       "<p>&nbsp;</p>\r\n",
       "\r\n",
       "<p style=\"text-align:justify\"><span style=\"color:#000000\"><em>Body mass index </em></span><span style=\"color:#000000\">(BMI) can help determine body fat levels. Your BMI is your mass (in kg) divided by the square of your height (in meters) [</span><a href=\"https://www.cdc.gov/healthyweight/assessing/bmi/index.html\" style=\"text-decoration:none\"><span style=\"color:#1155cc\"><u>R</u></span></a><span style=\"color:#000000\">].</span></p>\r\n",
       "\r\n",
       "<p>&nbsp;</p>\r\n",
       "\r\n",
       "<p style=\"text-align:justify\"><span style=\"color:#000000\">In general [</span><a href=\"https://www.cdc.gov/healthyweight/assessing/bmi/adult_bmi/index.html\" style=\"text-decoration:none\"><span style=\"color:#1155cc\"><u>R</u></span></a><span style=\"color:#000000\">]:</span></p>\r\n",
       "\r\n",
       "<ul>\r\n",
       "\t<li style=\"list-style-type:disc\"><span style=\"color:#000000\">People with a BMI </span><span style=\"color:#000000\"><strong>between 18.5 and 25</strong></span><span style=\"color:#000000\"> tend to have a </span><span style=\"color:#000000\"><strong>healthy weight</strong></span></li>\r\n",
       "\t<li style=\"list-style-type:disc\"><span style=\"color:#000000\">People with a BMI</span><span style=\"color:#000000\"><strong> between 25 and 30 </strong></span><span style=\"color:#000000\">tend to be </span><span style=\"color:#000000\"><strong>overweight</strong></span></li>\r\n",
       "\t<li style=\"list-style-type:disc\"><span style=\"color:#000000\">People with a BMI </span><span style=\"color:#000000\"><strong>over 30 </strong></span><span style=\"color:#000000\">tend to be </span><span style=\"color:#000000\"><strong>obese</strong></span></li>\r\n",
       "</ul>\r\n",
       "\r\n",
       "<p><span style=\"color:#000000\">People who are overweight or obese are more likely to have [</span><a href=\"https://www.mayoclinic.org/diseases-conditions/obesity/symptoms-causes/syc-20375742\" style=\"text-decoration:none\"><span style=\"color:#1155cc\"><u>R</u></span></a><span style=\"color:#000000\">, </span><a href=\"https://www.ncbi.nlm.nih.gov/pmc/articles/PMC2879283/\" style=\"text-decoration:none\"><span style=\"color:#1155cc\"><u>R</u></span></a><span style=\"color:#000000\">]:</span></p>\r\n",
       "\r\n",
       "<ul>\r\n",
       "\t<li style=\"list-style-type:disc\"><span style=\"color:#000000\">High blood pressure</span></li>\r\n",
       "\t<li style=\"list-style-type:disc\"><span style=\"color:#000000\">Type 2 diabetes</span></li>\r\n",
       "\t<li style=\"list-style-type:disc\"><span style=\"color:#000000\">Heart disease</span></li>\r\n",
       "\t<li style=\"list-style-type:disc\"><span style=\"color:#000000\">Joint problems</span></li>\r\n",
       "\t<li style=\"list-style-type:disc\"><span style=\"color:#000000\">Sleep problems</span></li>\r\n",
       "</ul>\r\n",
       "\r\n",
       "<p><span style=\"color:#000000\"><strong>The best ways to lose weight are to consume fewer calories and exercise regularly</strong></span><span style=\"color:#000000\"> [</span><a href=\"https://www.mayoclinic.org/diseases-conditions/obesity/diagnosis-treatment/drc-20375749\" style=\"text-decoration:none\"><span style=\"color:#1155cc\"><u>R</u></span></a><span style=\"color:#000000\">].</span></p><br>\n"
      ],
      "text/plain": [
       "<IPython.core.display.HTML object>"
      ]
     },
     "metadata": {},
     "output_type": "display_data"
    },
    {
     "data": {
      "text/html": [
       "<h5>Exercise</h5>\n",
       "Practice gentle exercise.<br>\n",
       "<table>\n",
       "<tr>\n",
       "<th>Type</th>\n",
       "<th>Effect</th>\n",
       "<th>Evidence</th>\n",
       "</tr>\n",
       "<tr>\n",
       "<td>lifestyle</td>\n",
       "<td>0.6</td>\n",
       "<td>0.6</td>\n",
       "</tr>\n",
       "</table>\n",
       "<p style=\"text-align:justify\"><a href=\"https://selfhacked.com/blog/top-14-proven-health-benefits-exercise-references-mechanisms/\" style=\"text-decoration:none\"><span style=\"color:#1155cc\"><strong><u>Exercise</u></strong></span></a><span style=\"color:#000000\"><strong> can do wonders for your health.</strong></span><span style=\"color:#000000\"> It can help you lose weight, improve your heart health, boost your mood, and more [</span><a href=\"https://medlineplus.gov/benefitsofexercise.html\" style=\"text-decoration:none\"><span style=\"color:#1155cc\"><u>R</u></span></a><span style=\"color:#000000\">].</span></p>\r\n",
       "\r\n",
       "<p>&nbsp;</p>\r\n",
       "\r\n",
       "<p style=\"text-align:justify\"><span style=\"color:#000000\">There are many ways you can be active. You can walk, run, swim, dance, or play team sports. </span><span style=\"color:#000000\"><strong>Everything counts, and it&#39;s never too late to start!</strong></span></p>\r\n",
       "\r\n",
       "<p><br />\r\n",
       "<span style=\"color:#000000\">Try getting a mix of cardio (at least 150 min/week) and strength training (2 times/week) [</span><a href=\"https://health.gov/sites/default/files/2019-09/Physical_Activity_Guidelines_2nd_edition.pdf#page=56\" style=\"text-decoration:none\"><span style=\"color:#1155cc\"><u>R</u></span></a><span style=\"color:#000000\">].</span></p><br>\n"
      ],
      "text/plain": [
       "<IPython.core.display.HTML object>"
      ]
     },
     "metadata": {},
     "output_type": "display_data"
    },
    {
     "data": {
      "text/html": [
       "<h5>Acupuncture</h5>\n",
       "Discuss acupuncture with your doctor.<br>\n",
       "<table>\n",
       "<tr>\n",
       "<th>Type</th>\n",
       "<th>Effect</th>\n",
       "<th>Evidence</th>\n",
       "</tr>\n",
       "<tr>\n",
       "<td>lifestyle</td>\n",
       "<td>0.6</td>\n",
       "<td>0.4</td>\n",
       "</tr>\n",
       "</table>\n",
       "<p style=\"text-align:justify\"><a href=\"https://selfhacked.com/blog/acupuncture-benefits-mechanisms-risks/\" style=\"text-decoration:none\"><span style=\"color:#1155cc\"><strong><u>Acupuncture</u></strong></span></a><span style=\"color:#000000\"><strong> is a part of traditional Chinese medicine. It involves inserting thin needles at specific points on the body.</strong></span><span style=\"color:#000000\"> People use it to [</span><a href=\"https://www.mayoclinic.org/tests-procedures/acupuncture/about/pac-20392763\" style=\"text-decoration:none\"><span style=\"color:#1155cc\"><u>R</u></span></a><span style=\"color:#000000\">, </span><a href=\"https://www.ncbi.nlm.nih.gov/pmc/articles/PMC4036643/\" style=\"text-decoration:none\"><span style=\"color:#1155cc\"><u>R</u></span></a><span style=\"color:#000000\">, </span><a href=\"https://www.ncbi.nlm.nih.gov/pmc/articles/PMC3156618/\" style=\"text-decoration:none\"><span style=\"color:#1155cc\"><u>R</u></span></a><span style=\"color:#000000\">, </span><a href=\"https://pubmed.ncbi.nlm.nih.gov/16625560/\" style=\"text-decoration:none\"><span style=\"color:#1155cc\"><u>R</u></span></a><span style=\"color:#000000\">]:</span></p>\r\n",
       "\r\n",
       "<ul>\r\n",
       "\t<li style=\"list-style-type:disc\"><span style=\"color:#000000\">Relieve pain</span></li>\r\n",
       "\t<li style=\"list-style-type:disc\"><span style=\"color:#000000\">Improve sleep quality</span></li>\r\n",
       "\t<li style=\"list-style-type:disc\"><span style=\"color:#000000\">Relieve allergies</span></li>\r\n",
       "\t<li style=\"list-style-type:disc\"><span style=\"color:#000000\">Reduce nausea</span></li>\r\n",
       "</ul>\r\n",
       "\r\n",
       "<p><span style=\"color:#000000\">One form of acupuncture is known as </span><span style=\"color:#000000\"><strong>electroacupuncture</strong></span><span style=\"color:#000000\">. It involves passing small amounts of electricity through acupuncture needles [</span><a href=\"https://pubmed.ncbi.nlm.nih.gov/9646895/\" style=\"text-decoration:none\"><span style=\"color:#1155cc\"><u>R</u></span></a><span style=\"color:#000000\">].</span></p><br>\n"
      ],
      "text/plain": [
       "<IPython.core.display.HTML object>"
      ]
     },
     "metadata": {},
     "output_type": "display_data"
    },
    {
     "data": {
      "text/html": [
       "<h5>Avoid Cigarette Smoke</h5>\n",
       "Avoid cigarette smoke.<br>\n",
       "<table>\n",
       "<tr>\n",
       "<th>Type</th>\n",
       "<th>Effect</th>\n",
       "<th>Evidence</th>\n",
       "</tr>\n",
       "<tr>\n",
       "<td>lifestyle</td>\n",
       "<td>0.4</td>\n",
       "<td>0.6</td>\n",
       "</tr>\n",
       "</table>\n",
       "<p style=\"text-align:justify\"><span style=\"color:#000000\">You already know that tobacco is not great for your health. </span><span style=\"color:#000000\"><strong>Smoking affects your entire body.</strong></span><span style=\"color:#000000\"> It can damage your brain, heart, lungs, and more [</span><a href=\"https://pubmed.ncbi.nlm.nih.gov/11980288/\" style=\"text-decoration:none\"><span style=\"color:#1155cc\"><u>R</u></span></a><span style=\"color:#000000\">].</span></p>\r\n",
       "\r\n",
       "<p>&nbsp;</p>\r\n",
       "\r\n",
       "<p style=\"text-align:justify\"><span style=\"color:#000000\">Even if you&rsquo;re not a smoker,</span><span style=\"color:#000000\"><strong> take care to avoid secondhand smoke. It can cause health issues similar to smoking </strong></span><span style=\"color:#000000\">[</span><a href=\"https://www.ncbi.nlm.nih.gov/pmc/articles/PMC4595077/\" style=\"text-decoration:none\"><span style=\"color:#1155cc\"><u>R</u></span></a><span style=\"color:#000000\">, </span><a href=\"https://www.ncbi.nlm.nih.gov/pmc/articles/PMC2553398/\" style=\"text-decoration:none\"><span style=\"color:#1155cc\"><u>R</u></span></a><span style=\"color:#000000\">].</span></p>\r\n",
       "\r\n",
       "<p><br />\r\n",
       "<span style=\"color:#000000\">But, there&rsquo;s good news: </span><span style=\"color:#000000\"><strong>avoiding cigarette smoke can reverse many of its negative effects</strong></span><span style=\"color:#000000\">. It&rsquo;s a great way to dramatically improve your health [</span><a href=\"https://www.ncbi.nlm.nih.gov/books/NBK555590/\" style=\"text-decoration:none\"><span style=\"color:#1155cc\"><u>R</u></span></a><span style=\"color:#000000\">].</span></p><br>\n"
      ],
      "text/plain": [
       "<IPython.core.display.HTML object>"
      ]
     },
     "metadata": {},
     "output_type": "display_data"
    },
    {
     "data": {
      "text/html": [
       "<h5>Bladder Training</h5>\n",
       "Try bladder training.<br>\n",
       "<table>\n",
       "<tr>\n",
       "<th>Type</th>\n",
       "<th>Effect</th>\n",
       "<th>Evidence</th>\n",
       "</tr>\n",
       "<tr>\n",
       "<td>lifestyle</td>\n",
       "<td>0.6</td>\n",
       "<td>0.6</td>\n",
       "</tr>\n",
       "</table>\n",
       "<p><span style=\"color:#000000\">Behavioral strategies may help support bladder health. These are methods that are often recommended for dealing with bladder control problems [</span><a href=\"https://www.ncbi.nlm.nih.gov/books/NBK279430/\" style=\"text-decoration:none\"><span style=\"color:#1155cc\"><u>R</u></span></a><span style=\"color:#000000\">, </span><a href=\"https://uroweb.org/guideline/urinary-incontinence\" style=\"text-decoration:none\"><span style=\"color:#1155cc\"><u>R</u></span></a><span style=\"color:#000000\">, </span><a href=\"https://www.aafp.org/afp/2013/0501/p634.html\" style=\"text-decoration:none\"><span style=\"color:#1155cc\"><u>R</u></span></a><span style=\"color:#000000\">, </span><a href=\"https://www.mayoclinic.org/diseases-conditions/urinary-incontinence/diagnosis-treatment/drc-20352814\" style=\"text-decoration:none\"><span style=\"color:#1155cc\"><u>R</u></span></a><span style=\"color:#000000\">].</span></p>\r\n",
       "\r\n",
       "<p><br />\r\n",
       "<span style=\"color:#000000\">One example is </span><span style=\"color:#000000\"><strong>bladder training</strong></span><span style=\"color:#000000\">. It involves gradually increasing the time between bathroom visits. To do this, start by resisting the urge to urinate for 10 minutes. Then, slowly increase the time between visits until you can comfortably urinate every 2.5-3.5 hours [</span><a href=\"https://www.mayoclinic.org/diseases-conditions/urinary-incontinence/diagnosis-treatment/drc-20352814\" style=\"text-decoration:none\"><span style=\"color:#1155cc\"><u>R</u></span></a><span style=\"color:#000000\">, </span><a href=\"https://www.aafp.org/afp/2013/0501/p634.html\" style=\"text-decoration:none\"><span style=\"color:#1155cc\"><u>R</u></span></a><span style=\"color:#000000\">].</span></p><br>\n"
      ],
      "text/plain": [
       "<IPython.core.display.HTML object>"
      ]
     },
     "metadata": {},
     "output_type": "display_data"
    },
    {
     "data": {
      "text/html": [
       "<h5>Avoid Bladder Irritants</h5>\n",
       "Try to avoid food and drinks that may irritate the bladder.<br>\n",
       "<table>\n",
       "<tr>\n",
       "<th>Type</th>\n",
       "<th>Effect</th>\n",
       "<th>Evidence</th>\n",
       "</tr>\n",
       "<tr>\n",
       "<td>dietary</td>\n",
       "<td>0.4</td>\n",
       "<td>0.4</td>\n",
       "</tr>\n",
       "</table>\n",
       "<p><span style=\"color:#000000\"><strong>Some foods and drinks may irritate the bladder. These include </strong></span><span style=\"color:#000000\">[</span><a href=\"https://www.brighamandwomens.org/assets/BWH/obgyn/pdfs/bladder-irritants.pdf\" style=\"text-decoration:none\"><span style=\"color:#1155cc\"><u>R</u></span></a><span style=\"color:#000000\">, </span><a href=\"https://my.clevelandclinic.org/health/articles/14244-bladder-irritating-foods\" style=\"text-decoration:none\"><span style=\"color:#1155cc\"><u>R</u></span></a><span style=\"color:#000000\">, </span><a href=\"https://www.mayoclinic.org/diseases-conditions/urinary-incontinence/in-depth/bladder-control-problem/art-20046597\" style=\"text-decoration:none\"><span style=\"color:#1155cc\"><u>R</u></span></a><span style=\"color:#000000\">]:</span></p>\r\n",
       "\r\n",
       "<ul>\r\n",
       "\t<li style=\"list-style-type:disc\"><span style=\"color:#000000\">Carbonated drinks</span></li>\r\n",
       "\t<li style=\"list-style-type:disc\"><span style=\"color:#000000\">Tomato products</span></li>\r\n",
       "\t<li style=\"list-style-type:disc\"><span style=\"color:#000000\">Acidic fruits (oranges, grapefruits, lemons, limes)</span></li>\r\n",
       "\t<li style=\"list-style-type:disc\"><span style=\"color:#000000\">Alcohol</span></li>\r\n",
       "\t<li style=\"list-style-type:disc\"><span style=\"color:#000000\">Chocolate</span></li>\r\n",
       "\t<li style=\"list-style-type:disc\"><span style=\"color:#000000\">Caffeinated drinks</span></li>\r\n",
       "</ul><br>\n"
      ],
      "text/plain": [
       "<IPython.core.display.HTML object>"
      ]
     },
     "metadata": {},
     "output_type": "display_data"
    },
    {
     "data": {
      "text/html": [
       "<h5>Relaxation Techniques</h5>\n",
       "Practice relaxation techniques.<br>\n",
       "<table>\n",
       "<tr>\n",
       "<th>Type</th>\n",
       "<th>Effect</th>\n",
       "<th>Evidence</th>\n",
       "</tr>\n",
       "<tr>\n",
       "<td>lifestyle</td>\n",
       "<td>0.4</td>\n",
       "<td>0.4</td>\n",
       "</tr>\n",
       "</table>\n",
       "<p style=\"text-align:justify\"><a href=\"https://selfhacked.com/blog/63-factors-raising-stress-cortisol-level-backed-science/\" style=\"text-decoration:none\"><span style=\"color:#1155cc\"><u>Stress</u></span></a><span style=\"color:#000000\"> can help you deal with a challenge or avoid danger. However,</span><span style=\"color:#000000\"><strong> it&rsquo;s not healthy to be stressed for a long time</strong></span><span style=\"color:#000000\"> [</span><a href=\"https://www.ncbi.nlm.nih.gov/books/NBK541120/\" style=\"text-decoration:none\"><span style=\"color:#1155cc\"><u>R</u></span></a><span style=\"color:#000000\">, </span><a href=\"https://www.ncbi.nlm.nih.gov/pmc/articles/PMC2568977/\" style=\"text-decoration:none\"><span style=\"color:#1155cc\"><u>R</u></span></a><span style=\"color:#000000\">].</span></p>\r\n",
       "\r\n",
       "<p>&nbsp;</p>\r\n",
       "\r\n",
       "<p style=\"text-align:justify\"><span style=\"color:#000000\"><strong>Relaxation techniques such as </strong></span><a href=\"https://selfhacked.com/blog/health-benefits-yoga/\" style=\"text-decoration:none\"><span style=\"color:#1155cc\"><strong><u>yoga</u></strong></span></a><span style=\"color:#000000\"><strong> and </strong></span><a href=\"https://selfhacked.com/blog/meditation/\" style=\"text-decoration:none\"><span style=\"color:#1155cc\"><strong><u>meditation</u></strong></span></a><span style=\"color:#000000\"><strong> can relieve stress in different ways</strong></span><span style=\"color:#000000\">. Most of them focus on breathing and help you get rid of negative thoughts and emotions [</span><a href=\"https://www.mayoclinic.org/healthy-lifestyle/stress-management/in-depth/relaxation-technique/art-20045368\" style=\"text-decoration:none\"><span style=\"color:#1155cc\"><u>R</u></span></a><span style=\"color:#000000\">].</span></p>\r\n",
       "\r\n",
       "<p>&nbsp;</p>\r\n",
       "\r\n",
       "<p style=\"text-align:justify\"><span style=\"color:#000000\">People use relaxation techniques to improve conditions like [</span><a href=\"https://www.ncbi.nlm.nih.gov/books/NBK513238/\" style=\"text-decoration:none\"><span style=\"color:#1155cc\"><u>R</u></span></a><span style=\"color:#000000\">, </span><a href=\"https://www.mayoclinic.org/healthy-lifestyle/consumer-health/in-depth/mindfulness-exercises/art-20046356\" style=\"text-decoration:none\"><span style=\"color:#1155cc\"><u>R</u></span></a><span style=\"color:#000000\">, </span><a href=\"https://pubmed.ncbi.nlm.nih.gov/32406186/\" style=\"text-decoration:none\"><span style=\"color:#1155cc\"><u>R</u></span></a><span style=\"color:#000000\">]:</span></p>\r\n",
       "\r\n",
       "<ul>\r\n",
       "\t<li style=\"list-style-type:disc\"><span style=\"color:#000000\">Anxiety</span></li>\r\n",
       "\t<li style=\"list-style-type:disc\"><span style=\"color:#000000\">Depression</span></li>\r\n",
       "\t<li style=\"list-style-type:disc\"><span style=\"color:#000000\">Chronic pain</span></li>\r\n",
       "</ul><br>\n"
      ],
      "text/plain": [
       "<IPython.core.display.HTML object>"
      ]
     },
     "metadata": {},
     "output_type": "display_data"
    },
    {
     "data": {
      "text/html": [
       "<h5>Mace</h5>\n",
       "Consider supplementing with mace.<br>\n",
       "<table>\n",
       "<tr>\n",
       "<th>Type</th>\n",
       "<th>Effect</th>\n",
       "<th>Evidence</th>\n",
       "</tr>\n",
       "<tr>\n",
       "<td>supplement</td>\n",
       "<td>0.4</td>\n",
       "<td>0.2</td>\n",
       "</tr>\n",
       "</table>\n",
       "<p><span style=\"color:#000000\"><em>Myristica fragrans </em></span><span style=\"color:#000000\">is a tree native to Indonesia. It is the source of two spices [</span><a href=\"https://www.ncbi.nlm.nih.gov/pmc/articles/PMC5222521/\" style=\"text-decoration:none\"><span style=\"color:#1155cc\"><u>R</u></span></a><span style=\"color:#000000\">, </span><a href=\"https://www.britannica.com/topic/nutmeg\" style=\"text-decoration:none\"><span style=\"color:#1155cc\"><u>R</u></span></a><span style=\"color:#000000\">]:</span></p>\r\n",
       "\r\n",
       "<ul>\r\n",
       "\t<li style=\"list-style-type:disc\"><span style=\"color:#000000\">Nutmeg (from the seed)</span></li>\r\n",
       "\t<li style=\"list-style-type:disc\"><span style=\"color:#000000\">Mace (from the seed covering)</span></li>\r\n",
       "</ul>\r\n",
       "\r\n",
       "<p><span style=\"color:#000000\">Mace is sometimes used as a cooking spice. It may also help with bladder control problems [</span><a href=\"https://www.britannica.com/topic/mace-spice\" style=\"text-decoration:none\"><span style=\"color:#1155cc\"><u>R</u></span></a><span style=\"color:#000000\">, </span><a href=\"https://www.ncbi.nlm.nih.gov/labs/pmc/articles/PMC6260249/\" style=\"text-decoration:none\"><span style=\"color:#1155cc\"><u>R</u></span></a><span style=\"color:#000000\">].</span></p><br>\n"
      ],
      "text/plain": [
       "<IPython.core.display.HTML object>"
      ]
     },
     "metadata": {},
     "output_type": "display_data"
    },
    {
     "data": {
      "text/html": [
       "<h5>Saw Palmetto</h5>\n",
       "Consider supplementing with saw palmetto.<br>\n",
       "<table>\n",
       "<tr>\n",
       "<th>Type</th>\n",
       "<th>Effect</th>\n",
       "<th>Evidence</th>\n",
       "</tr>\n",
       "<tr>\n",
       "<td>supplement</td>\n",
       "<td>0.2</td>\n",
       "<td>0.4</td>\n",
       "</tr>\n",
       "</table>\n",
       "<p><span style=\"color:#1155cc\"><u>S</u></span><a href=\"https://selfhacked.com/blog/benefits-saw-palmetto/\" style=\"text-decoration:none\"><span style=\"color:#1155cc\"><u>aw palmetto</u></span></a><span style=\"color:#000000\"> (</span><span style=\"color:#000000\"><em>Serenoa repens</em></span><span style=\"color:#000000\">) is a small palm plant native to the US [</span><a href=\"https://www.nccih.nih.gov/health/saw-palmetto\" style=\"text-decoration:none\"><span style=\"color:#1155cc\"><u>R</u></span></a><span style=\"color:#000000\">].</span></p>\r\n",
       "\r\n",
       "<p>&nbsp;</p>\r\n",
       "\r\n",
       "<p><span style=\"color:#212529\">People use it to help with [</span><a href=\"https://www.nccih.nih.gov/health/saw-palmetto\" style=\"text-decoration:none\"><span style=\"color:#1155cc\"><u>R</u></span></a><span style=\"color:#212529\">]:</span></p>\r\n",
       "\r\n",
       "<ul>\r\n",
       "\t<li style=\"list-style-type:disc\"><span style=\"color:#212529\">Urinary problems</span></li>\r\n",
       "\t<li style=\"list-style-type:disc\"><span style=\"color:#212529\">Pain</span></li>\r\n",
       "\t<li style=\"list-style-type:disc\"><span style=\"color:#212529\">Hair loss</span></li>\r\n",
       "</ul><br>\n"
      ],
      "text/plain": [
       "<IPython.core.display.HTML object>"
      ]
     },
     "metadata": {},
     "output_type": "display_data"
    },
    {
     "data": {
      "text/html": [
       "<h5>Cardio</h5>\n",
       "<br>\n",
       "<table>\n",
       "<tr>\n",
       "<th>Type</th>\n",
       "<th>Effect</th>\n",
       "<th>Evidence</th>\n",
       "</tr>\n",
       "<tr>\n",
       "<td>lifestyle</td>\n",
       "<td>0.0</td>\n",
       "<td>0.0</td>\n",
       "</tr>\n",
       "</table>\n",
       "<p>&nbsp; &nbsp;</p><br>\n"
      ],
      "text/plain": [
       "<IPython.core.display.HTML object>"
      ]
     },
     "metadata": {},
     "output_type": "display_data"
    },
    {
     "data": {
      "text/html": [
       "<h5>Physical Therapy</h5>\n",
       "<br>\n",
       "<table>\n",
       "<tr>\n",
       "<th>Type</th>\n",
       "<th>Effect</th>\n",
       "<th>Evidence</th>\n",
       "</tr>\n",
       "<tr>\n",
       "<td>lifestyle</td>\n",
       "<td>0.0</td>\n",
       "<td>0.0</td>\n",
       "</tr>\n",
       "</table>\n",
       "<p>&nbsp;&nbsp;</p><br>\n"
      ],
      "text/plain": [
       "<IPython.core.display.HTML object>"
      ]
     },
     "metadata": {},
     "output_type": "display_data"
    },
    {
     "data": {
      "text/html": [
       "<h5>Yoga</h5>\n",
       "<br>\n",
       "<table>\n",
       "<tr>\n",
       "<th>Type</th>\n",
       "<th>Effect</th>\n",
       "<th>Evidence</th>\n",
       "</tr>\n",
       "<tr>\n",
       "<td>lifestyle</td>\n",
       "<td>0.0</td>\n",
       "<td>0.0</td>\n",
       "</tr>\n",
       "</table>\n",
       "<p>&nbsp; &nbsp;</p><br>\n"
      ],
      "text/plain": [
       "<IPython.core.display.HTML object>"
      ]
     },
     "metadata": {},
     "output_type": "display_data"
    },
    {
     "data": {
      "text/html": [
       "<h5>Mindfulness-Based Stress Reduction (MBSR)</h5>\n",
       "<br>\n",
       "<table>\n",
       "<tr>\n",
       "<th>Type</th>\n",
       "<th>Effect</th>\n",
       "<th>Evidence</th>\n",
       "</tr>\n",
       "<tr>\n",
       "<td>lifestyle</td>\n",
       "<td>0.0</td>\n",
       "<td>0.0</td>\n",
       "</tr>\n",
       "</table>\n",
       "<p>&nbsp;&nbsp;</p><br>\n"
      ],
      "text/plain": [
       "<IPython.core.display.HTML object>"
      ]
     },
     "metadata": {},
     "output_type": "display_data"
    },
    {
     "data": {
      "text/html": [
       "<h5>Moxibustion</h5>\n",
       "<br>\n",
       "<table>\n",
       "<tr>\n",
       "<th>Type</th>\n",
       "<th>Effect</th>\n",
       "<th>Evidence</th>\n",
       "</tr>\n",
       "<tr>\n",
       "<td>lifestyle</td>\n",
       "<td>0.0</td>\n",
       "<td>0.0</td>\n",
       "</tr>\n",
       "</table>\n",
       "<p>&nbsp;&nbsp;</p><br>\n"
      ],
      "text/plain": [
       "<IPython.core.display.HTML object>"
      ]
     },
     "metadata": {},
     "output_type": "display_data"
    },
    {
     "data": {
      "text/html": [
       "<h5>Reduce Caffeine Intake</h5>\n",
       "<br>\n",
       "<table>\n",
       "<tr>\n",
       "<th>Type</th>\n",
       "<th>Effect</th>\n",
       "<th>Evidence</th>\n",
       "</tr>\n",
       "<tr>\n",
       "<td>dietary</td>\n",
       "<td>0.0</td>\n",
       "<td>0.0</td>\n",
       "</tr>\n",
       "</table>\n",
       "<p>&nbsp; &nbsp;</p><br>\n"
      ],
      "text/plain": [
       "<IPython.core.display.HTML object>"
      ]
     },
     "metadata": {},
     "output_type": "display_data"
    },
    {
     "data": {
      "text/html": [
       "<h5>Avoid Carbonated Beverages</h5>\n",
       "<br>\n",
       "<table>\n",
       "<tr>\n",
       "<th>Type</th>\n",
       "<th>Effect</th>\n",
       "<th>Evidence</th>\n",
       "</tr>\n",
       "<tr>\n",
       "<td>dietary</td>\n",
       "<td>0.0</td>\n",
       "<td>0.0</td>\n",
       "</tr>\n",
       "</table>\n",
       "<p>&nbsp;&nbsp;</p><br>\n"
      ],
      "text/plain": [
       "<IPython.core.display.HTML object>"
      ]
     },
     "metadata": {},
     "output_type": "display_data"
    },
    {
     "data": {
      "text/html": [
       "<h3>Infecciones Urinarias</h3>\n",
       "Your score: 0.551724137931034<br>\n",
       "Probabilidad media de infecciones urinarias<br>\n",
       "<h4>Summary</h4>\n",
       "<br>\n",
       "<h4>Sobre las Infecciones Urinarias</h4>\n",
       "<p><span style=\"color:#000000\">Una </span><span style=\"color:#000000\"><strong>infecci&oacute;n del tracto urinario</strong></span><span style=\"color:#000000\"> es una infecci&oacute;n en el sistema que transporta la orina fuera del cuerpo. Esto incluye partes de los ri&ntilde;ones, los ur&eacute;teres, la vejiga y la uretra. Las ITU son m&aacute;s frecuentes en la </span><span style=\"color:#000000\"><strong>vejiga</strong></span><span style=\"color:#000000\"> y la </span><span style=\"color:#000000\"><strong>uretra</strong></span><span style=\"color:#000000\"> [</span><a href=\"https://www.mayoclinic.org/diseases-conditions/urinary-tract-infection/symptoms-causes/syc-20353447\" style=\"text-decoration:none\"><span style=\"color:#1155cc\"><u>R</u></span></a><span style=\"color:#000000\">].</span></p>\r\n",
       "\r\n",
       "<p>&nbsp;</p>\r\n",
       "\r\n",
       "<p><span style=\"color:#000000\"><strong>Se calcula que 150 millones de personas en todo el mundo padecen al menos una ITU al a&ntilde;o </strong></span><span style=\"color:#000000\">[</span><a href=\"https://www.ncbi.nlm.nih.gov/pmc/articles/PMC4710901/\" style=\"text-decoration:none\"><span style=\"color:#1155cc\"><u>R</u></span></a><span style=\"color:#000000\">].&nbsp;</span></p>\r\n",
       "\r\n",
       "<p>&nbsp;</p>\r\n",
       "\r\n",
       "<p><span style=\"color:#000000\">Las ITU son m&aacute;s frecuentes en las mujeres. De hecho, hasta el 60% de las mujeres padecer&aacute;n al menos una ITU en su vida. Esto puede deberse a que el tracto urinario femenino es m&aacute;s corto y est&aacute; m&aacute;s cerca del ano [</span><a href=\"https://www.mayoclinic.org/diseases-conditions/urinary-tract-infection/symptoms-causes/syc-20353447\" style=\"text-decoration:none\"><span style=\"color:#1155cc\"><u>R</u></span></a><span style=\"color:#000000\">, </span><a href=\"https://www.ncbi.nlm.nih.gov/pmc/articles/PMC6502976/\" style=\"text-decoration:none\"><span style=\"color:#1155cc\"><u>R</u></span></a><span style=\"color:#000000\">].</span></p>\r\n",
       "\r\n",
       "<p>&nbsp;</p>\r\n",
       "\r\n",
       "<p><span style=\"color:#000000\">Los signos y s&iacute;ntomas de la ITU incluyen [</span><a href=\"https://www.mayoclinic.org/diseases-conditions/urinary-tract-infection/symptoms-causes/syc-20353447\" style=\"text-decoration:none\"><span style=\"color:#1155cc\"><u>R</u></span></a><span style=\"color:#000000\">, </span><a href=\"https://www.niddk.nih.gov/health-information/urologic-diseases/bladder-infection-uti-in-adults/symptoms-causes\" style=\"text-decoration:none\"><span style=\"color:#1155cc\"><u>R</u></span></a><span style=\"color:#000000\">]:</span></p>\r\n",
       "\r\n",
       "<ul>\r\n",
       "\t<li style=\"list-style-type:disc\"><span style=\"color:#000000\">Orinar frecuentemente</span></li>\r\n",
       "\t<li style=\"list-style-type:disc\"><span style=\"color:#000000\">Sensaci&oacute;n de ardor al orinar</span></li>\r\n",
       "\t<li style=\"list-style-type:disc\"><span style=\"color:#000000\">Orina turbia, roja, rosada o muy oscura</span></li>\r\n",
       "\t<li style=\"list-style-type:disc\"><span style=\"color:#000000\">Orina con olor fuerte</span></li>\r\n",
       "\t<li style=\"list-style-type:disc\"><a href=\"https://selfhacked.com/blog/pain-management/\" style=\"text-decoration:none\"><span style=\"color:#1155cc\"><u>Dolor</u></span></a><span style=\"color:#000000\"> en la regi&oacute;n p&eacute;lvica</span></li>\r\n",
       "</ul>\r\n",
       "\r\n",
       "<p><span style=\"color:#000000\">La mayor&iacute;a de las ITU son leves y pueden tratarse con antibi&oacute;ticos. Sin embargo, las ITU no tratadas pueden tener complicaciones graves. Entre ellas est&aacute;n el da&ntilde;o renal y la sepsis, una peligrosa respuesta de todo el organismo a la infecci&oacute;n [</span><a href=\"https://www.mayoclinic.org/diseases-conditions/urinary-tract-infection/diagnosis-treatment/drc-20353453\" style=\"text-decoration:none\"><span style=\"color:#1155cc\"><u>R</u></span></a><span style=\"color:#000000\">, </span><a href=\"https://www.mayoclinic.org/diseases-conditions/urinary-tract-infection/symptoms-causes/syc-20353447\" style=\"text-decoration:none\"><span style=\"color:#1155cc\"><u>R</u></span></a><span style=\"color:#000000\">].</span></p>\r\n",
       "\r\n",
       "<p>&nbsp;</p>\r\n",
       "\r\n",
       "<p><span style=\"color:#000000\">Para prevenir las ITU, los m&eacute;dicos suelen recomendar [</span><a href=\"https://www.mayoclinic.org/diseases-conditions/urinary-tract-infection/symptoms-causes/syc-20353447\" style=\"text-decoration:none\"><span style=\"color:#1155cc\"><u>R</u></span></a><span style=\"color:#000000\">]:</span></p>\r\n",
       "\r\n",
       "<ul>\r\n",
       "\t<li style=\"list-style-type:disc\"><span style=\"color:#000000\">Beber mucha agua</span></li>\r\n",
       "\t<li style=\"list-style-type:disc\"><span style=\"color:#000000\">Beber jugo de ar&aacute;ndanos</span></li>\r\n",
       "</ul>\r\n",
       "\r\n",
       "<p><span style=\"color:#000000\">A las mujeres, en particular, se les puede aconsejar [</span><a href=\"https://www.mayoclinic.org/diseases-conditions/urinary-tract-infection/symptoms-causes/syc-20353447\" style=\"text-decoration:none\"><span style=\"color:#1155cc\"><u>R</u></span></a><span style=\"color:#000000\">]:</span></p>\r\n",
       "\r\n",
       "<ul>\r\n",
       "\t<li style=\"list-style-type:disc\"><span style=\"color:#000000\">Limpiarse de adelante hacia atr&aacute;s despu&eacute;s de ir al ba&ntilde;o</span></li>\r\n",
       "\t<li style=\"list-style-type:disc\"><span style=\"color:#000000\">Orinar despu&eacute;s del sexo para eliminar las bacterias de la uretra</span></li>\r\n",
       "\t<li style=\"list-style-type:disc\"><span style=\"color:#000000\">Evitar los desodorantes en spray o las duchas vaginales para evitar la irritaci&oacute;n</span></li>\r\n",
       "\t<li style=\"list-style-type:disc\"><span style=\"color:#000000\">Evitar los diafragmas y los preservativos espermicidas, para prevenir el crecimiento de&nbsp; bacterias</span></li>\r\n",
       "</ul>\r\n",
       "\r\n",
       "<p><span style=\"color:#000000\">Algunas personas son m&aacute;s propensas a padecer infecciones de las v&iacute;as urinarias por mucho cuidado que tengan. A estas personas, sus m&eacute;dicos les pueden prescribir otras intervenciones [</span><a href=\"https://www.mayoclinic.org/diseases-conditions/urinary-tract-infection/diagnosis-treatment/drc-20353453\" style=\"text-decoration:none\"><span style=\"color:#1155cc\"><u>R</u></span></a><span style=\"color:#000000\">].&nbsp;</span></p>\r\n",
       "\r\n",
       "<p>&nbsp;</p>\r\n",
       "\r\n",
       "<p><span style=\"color:#000000\">L</span><span style=\"color:#000000\"><strong>a gen&eacute;tica desempe&ntilde;a un papel importante en el desarrollo de las ITU</strong></span><span style=\"color:#000000\">. Los genes que intervienen en el desarrollo de las ITU tienden a influir en la respuesta inmunitaria. Entre ellos se encuentran [</span><a href=\"https://www.ncbi.nlm.nih.gov/pmc/articles/PMC2847765/\" style=\"text-decoration:none\"><span style=\"color:#1155cc\"><u>R</u></span></a><span style=\"color:#000000\">, </span><a href=\"https://pubmed.ncbi.nlm.nih.gov/21750501/\" style=\"text-decoration:none\"><span style=\"color:#1155cc\"><u>R</u></span></a><span style=\"color:#000000\">, </span><a href=\"https://www.ncbi.nlm.nih.gov/pmc/articles/PMC4286230/\" style=\"text-decoration:none\"><span style=\"color:#1155cc\"><u>R</u></span></a><span style=\"color:#000000\">, </span><a href=\"https://www.ncbi.nlm.nih.gov/pmc/articles/PMC4918704/\" style=\"text-decoration:none\"><span style=\"color:#1155cc\"><u>R</u></span></a><span style=\"color:#000000\">]:</span></p>\r\n",
       "\r\n",
       "<ul>\r\n",
       "\t<li style=\"list-style-type:disc\"><a href=\"https://selfdecode.com/gene/tlr4/\" style=\"text-decoration:none\"><span style=\"color:#1155cc\"><em><u>TLR4</u></em></span></a></li>\r\n",
       "\t<li style=\"list-style-type:disc\"><a href=\"https://selfdecode.com/gene/cxcr1/\" style=\"text-decoration:none\"><span style=\"color:#1155cc\"><em><u>CXCR1</u></em></span></a></li>\r\n",
       "\t<li style=\"list-style-type:disc\"><a href=\"https://selfdecode.com/gene/irf3/\" style=\"text-decoration:none\"><span style=\"color:#1155cc\"><em><u>IRF3</u></em></span></a></li>\r\n",
       "\t<li style=\"list-style-type:disc\"><a href=\"https://selfdecode.com/gene/myd88/\" style=\"text-decoration:none\"><span style=\"color:#1155cc\"><em><u>MYD88</u></em></span></a></li>\r\n",
       "\t<li style=\"list-style-type:disc\"><a href=\"https://selfdecode.com/gene/tgfb1/\" style=\"text-decoration:none\"><span style=\"color:#1155cc\"><em><u>TGFB1</u></em></span></a></li>\r\n",
       "</ul><br>\n",
       "<br>\n",
       "<h4>Recommendations</h4>"
      ],
      "text/plain": [
       "<IPython.core.display.HTML object>"
      ]
     },
     "metadata": {},
     "output_type": "display_data"
    },
    {
     "data": {
      "text/html": [
       "<h5>Mantenerse Hidratado</h5>\n",
       "Beba al menos 8 vasos (240 mL cada uno) de agua al día.<br>\n",
       "<table>\n",
       "<tr>\n",
       "<th>Type</th>\n",
       "<th>Effect</th>\n",
       "<th>Evidence</th>\n",
       "</tr>\n",
       "<tr>\n",
       "<td>dietary</td>\n",
       "<td>0.6</td>\n",
       "<td>0.6</td>\n",
       "</tr>\n",
       "</table>\n",
       "<p><span style=\"color:#000000\"><strong>El agua es esencial para la vida. Se encuentra en casi todos los procesos del cuerpo</strong></span><span style=\"color:#000000\"> [</span><a href=\"https://www.mayoclinic.org/healthy-lifestyle/nutrition-and-healthy-eating/in-depth/water/art-20044256\" style=\"text-decoration:none\"><span style=\"color:#1155cc\"><u>R</u></span></a><span style=\"color:#000000\">].</span></p>\r\n",
       "\r\n",
       "<p>&nbsp;</p>\r\n",
       "\r\n",
       "<p><span style=\"color:#000000\">El agua ayuda a mantener [</span><a href=\"https://www.ncbi.nlm.nih.gov/pmc/articles/PMC2908954/\" style=\"text-decoration:none\"><span style=\"color:#1155cc\"><u>R</u></span></a><span style=\"color:#000000\">]:</span></p>\r\n",
       "\r\n",
       "<ul>\r\n",
       "\t<li style=\"list-style-type:disc\"><span style=\"color:#000000\">El nivel de energ&iacute;a y rendimiento</span></li>\r\n",
       "\t<li style=\"list-style-type:disc\"><span style=\"color:#000000\">Funci&oacute;n cerebral</span></li>\r\n",
       "\t<li style=\"list-style-type:disc\"><span style=\"color:#000000\">Funci&oacute;n intestinal</span></li>\r\n",
       "\t<li style=\"list-style-type:disc\"><span style=\"color:#000000\">Peso saludable</span></li>\r\n",
       "</ul>\r\n",
       "\r\n",
       "<p><span style=\"color:#000000\">La mayor&iacute;a de los expertos recomiendan beber unos </span><span style=\"color:#000000\"><strong>8 vasos (240 mL cada uno) de agua al d&iacute;a.</strong></span><span style=\"color:#000000\"> Puede que necesite m&aacute;s o menos que esto, dependiendo de lo activo que sea, de d&oacute;nde viva o de c&oacute;mo sea su salud en general [</span><a href=\"https://www.mayoclinic.org/healthy-lifestyle/nutrition-and-healthy-eating/in-depth/water/art-20044256\" style=\"text-decoration:none\"><span style=\"color:#1155cc\"><u>R</u></span></a><span style=\"color:#000000\">].</span></p><br>\n"
      ],
      "text/plain": [
       "<IPython.core.display.HTML object>"
      ]
     },
     "metadata": {},
     "output_type": "display_data"
    },
    {
     "data": {
      "text/html": [
       "<h5>Arándanos Rojos</h5>\n",
       "Intente añadir más arándanos a su dieta.<br>\n",
       "<table>\n",
       "<tr>\n",
       "<th>Type</th>\n",
       "<th>Effect</th>\n",
       "<th>Evidence</th>\n",
       "</tr>\n",
       "<tr>\n",
       "<td>dietary</td>\n",
       "<td>0.6</td>\n",
       "<td>0.6</td>\n",
       "</tr>\n",
       "</table>\n",
       "<p style=\"text-align:justify\"><span style=\"color:#000000\">Los ar&aacute;ndanos rojos son frutas ricas en vitaminas, minerales y antioxidantes. Est&aacute;n disponibles en diferentes formas, entre ellas [</span><a href=\"https://pubmed.ncbi.nlm.nih.gov/30068438/\" style=\"text-decoration:none\"><span style=\"color:#1155cc\"><u>R</u></span></a><span style=\"color:#000000\">]:</span></p>\r\n",
       "\r\n",
       "<ul>\r\n",
       "\t<li style=\"list-style-type:disc\"><span style=\"color:#000000\">Fruta deshidratada</span></li>\r\n",
       "\t<li style=\"list-style-type:disc\"><span style=\"color:#000000\">Jugo</span></li>\r\n",
       "\t<li style=\"list-style-type:disc\"><span style=\"color:#000000\">Harinas</span></li>\r\n",
       "\t<li style=\"list-style-type:disc\"><span style=\"color:#000000\">Tabletas</span></li>\r\n",
       "</ul><br>\n"
      ],
      "text/plain": [
       "<IPython.core.display.HTML object>"
      ]
     },
     "metadata": {},
     "output_type": "display_data"
    },
    {
     "data": {
      "text/html": [
       "<h5>Evitar los Irritantes de la Vejiga</h5>\n",
       "Intente evitar las bebidas que puedan irritar la vejiga.<br>\n",
       "<table>\n",
       "<tr>\n",
       "<th>Type</th>\n",
       "<th>Effect</th>\n",
       "<th>Evidence</th>\n",
       "</tr>\n",
       "<tr>\n",
       "<td>dietary</td>\n",
       "<td>0.6</td>\n",
       "<td>0.4</td>\n",
       "</tr>\n",
       "</table>\n",
       "<p><span style=\"color:#000000\"><strong>Algunos alimentos y bebidas pueden irritar la vejiga. Entre ellos se encuentran </strong></span><span style=\"color:#000000\">[</span><a href=\"https://www.brighamandwomens.org/assets/BWH/obgyn/pdfs/bladder-irritants.pdf\" style=\"text-decoration:none\"><span style=\"color:#1155cc\"><u>R</u></span></a><span style=\"color:#000000\">, </span><a href=\"https://my.clevelandclinic.org/health/articles/14244-bladder-irritating-foods\" style=\"text-decoration:none\"><span style=\"color:#1155cc\"><u>R</u></span></a><span style=\"color:#000000\">, </span><a href=\"https://www.mayoclinic.org/diseases-conditions/urinary-incontinence/in-depth/bladder-control-problem/art-20046597\" style=\"text-decoration:none\"><span style=\"color:#1155cc\"><u>R</u></span></a><span style=\"color:#000000\">]:</span></p>\r\n",
       "\r\n",
       "<ul>\r\n",
       "\t<li style=\"list-style-type:disc\"><span style=\"color:#000000\">Bebidas carbonatadas</span></li>\r\n",
       "\t<li style=\"list-style-type:disc\"><span style=\"color:#000000\">Productos con base de tomate</span></li>\r\n",
       "\t<li style=\"list-style-type:disc\"><span style=\"color:#000000\">Frutas &aacute;cidas (naranjas, pomelos, limones, limas)</span></li>\r\n",
       "\t<li style=\"list-style-type:disc\"><span style=\"color:#000000\">Alcohol</span></li>\r\n",
       "\t<li style=\"list-style-type:disc\"><span style=\"color:#000000\">Chocolate</span></li>\r\n",
       "</ul><br>\n"
      ],
      "text/plain": [
       "<IPython.core.display.HTML object>"
      ]
     },
     "metadata": {},
     "output_type": "display_data"
    },
    {
     "data": {
      "text/html": [
       "<h5>D-Manosa</h5>\n",
       "Considere tomar suplementos con D-manosa.<br>\n",
       "<table>\n",
       "<tr>\n",
       "<th>Type</th>\n",
       "<th>Effect</th>\n",
       "<th>Evidence</th>\n",
       "</tr>\n",
       "<tr>\n",
       "<td>supplement</td>\n",
       "<td>0.8</td>\n",
       "<td>0.6</td>\n",
       "</tr>\n",
       "</table>\n",
       "<p><span style=\"color:#000000\">La </span><a href=\"https://selfhacked.com/blog/d-mannose/\" style=\"text-decoration:none\"><span style=\"color:#1155cc\"><strong><u>D-manosa</u></strong></span></a><span style=\"color:#000000\"><strong> es un az&uacute;car natural</strong></span><span style=\"color:#000000\"> similar a la </span><span style=\"color:#1155cc\"><u>glucosa</u></span><span style=\"color:#000000\">. Las personas toman D-manosa como suplemento para ayudar a prevenir o controlar las ITU [</span><a href=\"https://pubmed.ncbi.nlm.nih.gov/32972899/\" style=\"text-decoration:none\"><span style=\"color:#1155cc\"><u>R</u></span></a><span style=\"color:#000000\">, </span><a href=\"https://www.ncbi.nlm.nih.gov/labs/pmc/articles/PMC7395894/\" style=\"text-decoration:none\"><span style=\"color:#1155cc\"><u>R</u></span></a><span style=\"color:#000000\">].</span></p><br>\n"
      ],
      "text/plain": [
       "<IPython.core.display.HTML object>"
      ]
     },
     "metadata": {},
     "output_type": "display_data"
    },
    {
     "data": {
      "text/html": [
       "<h5>Vitamina D</h5>\n",
       "Consuma más vitamina D.<br>\n",
       "<table>\n",
       "<tr>\n",
       "<th>Type</th>\n",
       "<th>Effect</th>\n",
       "<th>Evidence</th>\n",
       "</tr>\n",
       "<tr>\n",
       "<td>supplement</td>\n",
       "<td>0.6</td>\n",
       "<td>0.6</td>\n",
       "</tr>\n",
       "</table>\n",
       "<p style=\"text-align:justify\"><span style=\"color:#000000\"><strong>Su cuerpo necesita </strong></span><a href=\"https://labs.selfdecode.com/blog/35proven-health-benefits-vitamin-d-part-1/\" style=\"text-decoration:none\"><span style=\"color:#1155cc\"><strong><u>vitamina D</u></strong></span></a><span style=\"color:#000000\"><strong> para crear huesos fuertes</strong></span><span style=\"color:#000000\">. La vitamina D tambi&eacute;n desempe&ntilde;a un papel en [</span><a href=\"https://ods.od.nih.gov/factsheets/VitaminD-HealthProfessional/\" style=\"text-decoration:none\"><span style=\"color:#1155cc\"><u>R</u></span></a><span style=\"color:#000000\">]:</span></p>\r\n",
       "\r\n",
       "<ul>\r\n",
       "\t<li style=\"list-style-type:disc\"><span style=\"color:#000000\">Estado de &aacute;nimo</span></li>\r\n",
       "\t<li style=\"list-style-type:disc\"><span style=\"color:#000000\">Inmunidad</span></li>\r\n",
       "\t<li style=\"list-style-type:disc\"><span style=\"color:#000000\">Salud card&iacute;aca</span></li>\r\n",
       "\t<li style=\"list-style-type:disc\"><span style=\"color:#000000\">Control del az&uacute;car en sangre</span></li>\r\n",
       "</ul>\r\n",
       "\r\n",
       "<p style=\"text-align:justify\"><span style=\"color:#000000\"><strong>La </strong></span><a href=\"https://selfhacked.com/blog/avoiding-sun-will-kill-14-proven-science-based-health-benefits-sun/\" style=\"text-decoration:none\"><span style=\"color:#1155cc\"><strong><u>luz solar</u></strong></span></a><span style=\"color:#000000\"><strong> es nuestra principal fuente de vitamina D. </strong></span><span style=\"color:#000000\">Los expertos recomiendan tomar el sol al menos entre</span><span style=\"color:#000000\"><strong> 5 y 15 minutos al mediod&iacute;a, de 2 a 3 veces por semana.</strong></span><span style=\"color:#000000\"> Las personas con piel m&aacute;s oscura y las que viven en latitudes altas</span><span style=\"color:#000000\"><strong> pueden necesitar per&iacute;odos m&aacute;s largos de exposici&oacute;n al sol</strong></span><span style=\"color:#000000\"> [</span><a href=\"https://www.ncbi.nlm.nih.gov/pmc/articles/PMC2290997/\" style=\"text-decoration:none\"><span style=\"color:#1155cc\"><u>R</u></span></a><span style=\"color:#000000\">, </span><a href=\"https://www.ncbi.nlm.nih.gov/pmc/articles/PMC7049620/\" style=\"text-decoration:none\"><span style=\"color:#1155cc\"><u>R</u></span></a><span style=\"color:#000000\">].</span></p>\r\n",
       "\r\n",
       "<p><br />\r\n",
       "<span style=\"color:#000000\">Alimentos como el pescado, los huevos y la leche enriquecida aportan peque&ntilde;as cantidades de vitamina D. Las personas con d&eacute;ficit de vitamina D deber&iacute;an considerar la posibilidad de tomar un suplemento [</span><a href=\"https://ods.od.nih.gov/factsheets/VitaminD-HealthProfessional/\" style=\"text-decoration:none\"><span style=\"color:#1155cc\"><u>R</u></span></a><span style=\"color:#000000\">].</span></p><br>\n"
      ],
      "text/plain": [
       "<IPython.core.display.HTML object>"
      ]
     },
     "metadata": {},
     "output_type": "display_data"
    },
    {
     "data": {
      "text/html": [
       "<h5>Acupuntura</h5>\n",
       "Hable de la acupuntura con su médico.<br>\n",
       "<table>\n",
       "<tr>\n",
       "<th>Type</th>\n",
       "<th>Effect</th>\n",
       "<th>Evidence</th>\n",
       "</tr>\n",
       "<tr>\n",
       "<td>lifestyle</td>\n",
       "<td>0.4</td>\n",
       "<td>0.4</td>\n",
       "</tr>\n",
       "</table>\n",
       "<p style=\"text-align:justify\"><span style=\"color:#000000\"><strong>La</strong></span><span style=\"color:#1155cc\"><strong><u> </u></strong></span><a href=\"https://selfhacked.com/blog/acupuncture-benefits-mechanisms-risks/\" style=\"text-decoration:none\"><span style=\"color:#1155cc\"><strong><u>acupuntura</u></strong></span></a><span style=\"color:#000000\"><strong> forma parte de la medicina tradicional china. Consiste en la inserci&oacute;n de finas agujas en puntos espec&iacute;ficos del cuerpo. </strong></span><span style=\"color:#000000\">La gente la utiliza para [</span><a href=\"https://www.mayoclinic.org/tests-procedures/acupuncture/about/pac-20392763\" style=\"text-decoration:none\"><span style=\"color:#1155cc\"><u>R</u></span></a><span style=\"color:#000000\">, </span><a href=\"https://www.ncbi.nlm.nih.gov/pmc/articles/PMC4036643/\" style=\"text-decoration:none\"><span style=\"color:#1155cc\"><u>R</u></span></a><span style=\"color:#000000\">, </span><a href=\"https://www.ncbi.nlm.nih.gov/pmc/articles/PMC3156618/\" style=\"text-decoration:none\"><span style=\"color:#1155cc\"><u>R</u></span></a><span style=\"color:#000000\">, </span><a href=\"https://pubmed.ncbi.nlm.nih.gov/16625560/\" style=\"text-decoration:none\"><span style=\"color:#1155cc\"><u>R</u></span></a><span style=\"color:#000000\">]:</span></p>\r\n",
       "\r\n",
       "<ul>\r\n",
       "\t<li style=\"list-style-type:disc\"><span style=\"color:#000000\">Aliviar el dolor</span></li>\r\n",
       "\t<li style=\"list-style-type:disc\"><span style=\"color:#000000\">Mejorar la calidad del sue&ntilde;o</span></li>\r\n",
       "\t<li style=\"list-style-type:disc\"><span style=\"color:#000000\">Aliviar las alergias</span></li>\r\n",
       "\t<li style=\"list-style-type:disc\"><span style=\"color:#000000\">Reducir las n&aacute;useas</span></li>\r\n",
       "</ul><br>\n"
      ],
      "text/plain": [
       "<IPython.core.display.HTML object>"
      ]
     },
     "metadata": {},
     "output_type": "display_data"
    },
    {
     "data": {
      "text/html": [
       "<h5>Hibisco</h5>\n",
       "Considere la posibilidad de tomar suplementos con extracto de hibisco.<br>\n",
       "<table>\n",
       "<tr>\n",
       "<th>Type</th>\n",
       "<th>Effect</th>\n",
       "<th>Evidence</th>\n",
       "</tr>\n",
       "<tr>\n",
       "<td>supplement</td>\n",
       "<td>0.4</td>\n",
       "<td>0.4</td>\n",
       "</tr>\n",
       "</table>\n",
       "<p style=\"text-align:justify\"><span style=\"color:#000000\">El </span><a href=\"https://selfhacked.com/blog/hibiscus/\" style=\"text-decoration:none\"><span style=\"color:#1155cc\"><u>hibiscus</u></span></a><span style=\"color:#000000\"> (</span><span style=\"color:#000000\"><em>Hibiscus sabdariffa</em></span><span style=\"color:#000000\">) es una planta floral. Otros nombres del hibisco son rosella y acedera. Tradicionalmente se utiliza para preparar un t&eacute; de color rosa intenso. [</span><a href=\"https://www.ncbi.nlm.nih.gov/pubmed/16858935\" style=\"text-decoration:none\"><span style=\"color:#1155cc\"><u>R</u></span></a><span style=\"color:#000000\">,</span><a href=\"https://www.ncbi.nlm.nih.gov/pubmed/18685605\" style=\"text-decoration:none\"><span style=\"color:#000000\"> </span><span style=\"color:#1155cc\"><u>R</u></span></a><span style=\"color:#000000\">].</span></p>\r\n",
       "\r\n",
       "<p><br />\r\n",
       "<span style=\"color:#000000\">La gente utiliza el hibisco principalmente para </span><span style=\"color:#000000\"><strong>ITU y presi&oacute;n arterial alta</strong></span><span style=\"color:#000000\"> [</span><a href=\"https://pubmed.ncbi.nlm.nih.gov/31469009/\" style=\"text-decoration:none\"><span style=\"color:#1155cc\"><u>R</u></span></a><span style=\"color:#000000\">, </span><a href=\"https://pubmed.ncbi.nlm.nih.gov/30889607/\" style=\"text-decoration:none\"><span style=\"color:#1155cc\"><u>R</u></span></a><span style=\"color:#000000\">, </span><a href=\"https://pubmed.ncbi.nlm.nih.gov/25875025/\" style=\"text-decoration:none\"><span style=\"color:#1155cc\"><u>R</u></span></a><span style=\"color:#000000\">].</span></p><br>\n"
      ],
      "text/plain": [
       "<IPython.core.display.HTML object>"
      ]
     },
     "metadata": {},
     "output_type": "display_data"
    },
    {
     "data": {
      "text/html": [
       "<h5>Probióticos</h5>\n",
       "Considere tomar suplementos con probióticos.<br>\n",
       "<table>\n",
       "<tr>\n",
       "<th>Type</th>\n",
       "<th>Effect</th>\n",
       "<th>Evidence</th>\n",
       "</tr>\n",
       "<tr>\n",
       "<td>supplement</td>\n",
       "<td>0.4</td>\n",
       "<td>0.4</td>\n",
       "</tr>\n",
       "</table>\n",
       "<p style=\"text-align:justify\"><span style=\"color:#000000\"><strong>Las bacterias probi&oacute;ticas son bacterias &quot;buenas&quot; que se encuentran principalmente en el intestino grueso.</strong></span><span style=\"color:#000000\"> Apoyan al cuerpo y a la mente al [</span><a href=\"https://pubmed.ncbi.nlm.nih.gov/29581563/\" style=\"text-decoration:none\"><span style=\"color:#1155cc\"><u>R</u></span></a><span style=\"color:#000000\">, </span><a href=\"https://www.ncbi.nlm.nih.gov/pmc/articles/PMC4045285/\" style=\"text-decoration:none\"><span style=\"color:#1155cc\"><u>R</u></span></a><span style=\"color:#000000\">, </span><a href=\"https://www.ncbi.nlm.nih.gov/pmc/articles/PMC6047317/\" style=\"text-decoration:none\"><span style=\"color:#1155cc\"><u>R</u></span></a><span style=\"color:#000000\">, </span><a href=\"https://pubmed.ncbi.nlm.nih.gov/30292888/\" style=\"text-decoration:none\"><span style=\"color:#1155cc\"><u>R</u></span></a><span style=\"color:#000000\">, </span><a href=\"https://www.ncbi.nlm.nih.gov/pmc/articles/PMC5707719/\" style=\"text-decoration:none\"><span style=\"color:#1155cc\"><u>R</u></span></a><span style=\"color:#000000\">, </span><a href=\"https://www.ncbi.nlm.nih.gov/pmc/articles/PMC5102282/\" style=\"text-decoration:none\"><span style=\"color:#1155cc\"><u>R</u></span></a><span style=\"color:#000000\">, </span><a href=\"https://pubmed.ncbi.nlm.nih.gov/26987497/\" style=\"text-decoration:none\"><span style=\"color:#1155cc\"><u>R</u></span></a><span style=\"color:#000000\">, </span><a href=\"https://www.ncbi.nlm.nih.gov/pmc/articles/PMC4735031/\" style=\"text-decoration:none\"><span style=\"color:#1155cc\"><u>R</u></span></a><span style=\"color:#000000\">]:</span></p>\r\n",
       "\r\n",
       "<ul>\r\n",
       "\t<li style=\"list-style-type:disc\"><span style=\"color:#000000\">Mantener la salud intestinal</span></li>\r\n",
       "\t<li style=\"list-style-type:disc\"><span style=\"color:#000000\">Apoyar un sistema inmunol&oacute;gico saludable</span></li>\r\n",
       "\t<li style=\"list-style-type:disc\"><span style=\"color:#000000\">Mejorar el estado de &aacute;nimo</span></li>\r\n",
       "\t<li style=\"list-style-type:disc\"><span style=\"color:#000000\">Ayuda a mantener un nivel saludable de az&uacute;car en la sangre</span></li>\r\n",
       "</ul><br>\n"
      ],
      "text/plain": [
       "<IPython.core.display.HTML object>"
      ]
     },
     "metadata": {},
     "output_type": "display_data"
    },
    {
     "data": {
      "text/html": [
       "<h5>Good Feminine Hygiene</h5>\n",
       "Practice good feminine hygiene.<br>\n",
       "<table>\n",
       "<tr>\n",
       "<th>Type</th>\n",
       "<th>Effect</th>\n",
       "<th>Evidence</th>\n",
       "</tr>\n",
       "<tr>\n",
       "<td>lifestyle</td>\n",
       "<td>0.0</td>\n",
       "<td>0.0</td>\n",
       "</tr>\n",
       "</table>\n",
       "<p>&nbsp;&nbsp;</p><br>\n"
      ],
      "text/plain": [
       "<IPython.core.display.HTML object>"
      ]
     },
     "metadata": {},
     "output_type": "display_data"
    },
    {
     "data": {
      "text/html": [
       "<h5>Green Tea</h5>\n",
       "Consider drinking green tea or supplementing with green tea extract.<br>\n",
       "<table>\n",
       "<tr>\n",
       "<th>Type</th>\n",
       "<th>Effect</th>\n",
       "<th>Evidence</th>\n",
       "</tr>\n",
       "<tr>\n",
       "<td>dietary</td>\n",
       "<td>0.0</td>\n",
       "<td>0.0</td>\n",
       "</tr>\n",
       "</table>\n",
       "<p>&nbsp;&nbsp;</p><br>\n"
      ],
      "text/plain": [
       "<IPython.core.display.HTML object>"
      ]
     },
     "metadata": {},
     "output_type": "display_data"
    },
    {
     "data": {
      "text/html": [
       "<h5>Lactobacillus Crispatus</h5>\n",
       "Consider using lactobacillus crispatus suppositories.<br>\n",
       "<table>\n",
       "<tr>\n",
       "<th>Type</th>\n",
       "<th>Effect</th>\n",
       "<th>Evidence</th>\n",
       "</tr>\n",
       "<tr>\n",
       "<td>supplement</td>\n",
       "<td>0.0</td>\n",
       "<td>0.0</td>\n",
       "</tr>\n",
       "</table>\n",
       "<p>&nbsp;&nbsp;</p><br>\n"
      ],
      "text/plain": [
       "<IPython.core.display.HTML object>"
      ]
     },
     "metadata": {},
     "output_type": "display_data"
    },
    {
     "data": {
      "text/html": [
       "<h5>Lactobacillus Rhamnosus</h5>\n",
       "Consider supplementing with lactobacillus rhamnosus.<br>\n",
       "<table>\n",
       "<tr>\n",
       "<th>Type</th>\n",
       "<th>Effect</th>\n",
       "<th>Evidence</th>\n",
       "</tr>\n",
       "<tr>\n",
       "<td>supplement</td>\n",
       "<td>0.0</td>\n",
       "<td>0.0</td>\n",
       "</tr>\n",
       "</table>\n",
       "<p>&nbsp;&nbsp;</p><br>\n"
      ],
      "text/plain": [
       "<IPython.core.display.HTML object>"
      ]
     },
     "metadata": {},
     "output_type": "display_data"
    },
    {
     "data": {
      "text/html": [
       "<h5>Lactobacillus Reuteri</h5>\n",
       "Consider supplementing with lactobacillus reuteri.<br>\n",
       "<table>\n",
       "<tr>\n",
       "<th>Type</th>\n",
       "<th>Effect</th>\n",
       "<th>Evidence</th>\n",
       "</tr>\n",
       "<tr>\n",
       "<td>supplement</td>\n",
       "<td>0.0</td>\n",
       "<td>0.0</td>\n",
       "</tr>\n",
       "</table>\n",
       "<p>&nbsp;&nbsp;</p><br>\n"
      ],
      "text/plain": [
       "<IPython.core.display.HTML object>"
      ]
     },
     "metadata": {},
     "output_type": "display_data"
    },
    {
     "data": {
      "text/html": [
       "<h5>Nasturtium Horseradish</h5>\n",
       "Consider taking a nasturtium horseradish supplement.<br>\n",
       "<table>\n",
       "<tr>\n",
       "<th>Type</th>\n",
       "<th>Effect</th>\n",
       "<th>Evidence</th>\n",
       "</tr>\n",
       "<tr>\n",
       "<td>supplement</td>\n",
       "<td>0.0</td>\n",
       "<td>0.0</td>\n",
       "</tr>\n",
       "</table>\n",
       "<p>&nbsp;&nbsp;</p><br>\n"
      ],
      "text/plain": [
       "<IPython.core.display.HTML object>"
      ]
     },
     "metadata": {},
     "output_type": "display_data"
    },
    {
     "data": {
      "text/html": [
       "<h5>Rose Hip</h5>\n",
       "Consider supplementing with rose hip.<br>\n",
       "<table>\n",
       "<tr>\n",
       "<th>Type</th>\n",
       "<th>Effect</th>\n",
       "<th>Evidence</th>\n",
       "</tr>\n",
       "<tr>\n",
       "<td>supplement</td>\n",
       "<td>0.0</td>\n",
       "<td>0.0</td>\n",
       "</tr>\n",
       "</table>\n",
       "<p>&nbsp;&nbsp;</p><br>\n"
      ],
      "text/plain": [
       "<IPython.core.display.HTML object>"
      ]
     },
     "metadata": {},
     "output_type": "display_data"
    }
   ],
   "source": [
    "profile_reports = get_profile_reports(profile_id)\n",
    "\n",
    "for section in report_structure['sections']:\n",
    "    display(HTML(f\"<h2>{section['name']}</h2>\"))\n",
    "    for report in section['reports']:\n",
    "        for profile_report in profile_reports:\n",
    "            if profile_report['report_id'] == report['id']:\n",
    "                report_status = profile_report['status']\n",
    "                break\n",
    "        \n",
    "        if report_status=='processing':\n",
    "            display(HTML(f\"<h3>{report['name']}</h3>\\n\"\n",
    "                         f\"Processing\"))\n",
    "        elif report_status=='completed':\n",
    "            profile_trait = get_profile_trait(profile_report['id'])\n",
    "            profile_recommendation = get_profile_recommendation(profile_report['id'])\n",
    "            \n",
    "            display(HTML(f\"<h3>{profile_trait[0]['trait']['name']}</h3>\\n\"\n",
    "                         f\"Your score: {profile_trait[0]['score']}<br>\\n\"\n",
    "                         f\"{profile_trait[0]['trait_score_text']}<br>\\n\"\n",
    "                         f\"<h4>Summary</h4>\\n\"\n",
    "                         f\"{profile_trait[0]['trait']['summary']}<br>\\n\"\n",
    "                         f\"<h4>{profile_trait[0]['trait']['text_header']}</h4>\\n\"\n",
    "                         f\"{profile_trait[0]['trait']['text']}<br>\\n\"\n",
    "                         f\"<br>\\n\"\n",
    "                         f\"<h4>Recommendations</h4>\"))\n",
    "            \n",
    "            for rec in profile_recommendation:\n",
    "                display(HTML(f\"<h5>{rec['recommendation']['name']}</h5>\\n\"\n",
    "                             f\"{rec['recommendation']['sentence']}<br>\\n\"\n",
    "                             f\"<table>\\n\"\n",
    "                             f\"<tr>\\n\"\n",
    "                             f\"<th>Type</th>\\n\"\n",
    "                             f\"<th>Effect</th>\\n\"\n",
    "                             f\"<th>Evidence</th>\\n\"\n",
    "                             f\"</tr>\\n\"\n",
    "                             f\"<tr>\\n\"\n",
    "                             f\"<td>{rec['recommendation']['recommendation_type']}</td>\\n\"\n",
    "                             f\"<td>{rec['effect']}</td>\\n\"\n",
    "                             f\"<td>{rec['evidence']}</td>\\n\"\n",
    "                             f\"</tr>\\n\"\n",
    "                             f\"</table>\\n\"\n",
    "                             f\"{rec['recommendation']['generic_text']}<br>\\n\"))"
   ]
  }
 ],
 "metadata": {
  "kernelspec": {
   "display_name": "Python 3 (ipykernel)",
   "language": "python",
   "name": "python3"
  },
  "language_info": {
   "codemirror_mode": {
    "name": "ipython",
    "version": 3
   },
   "file_extension": ".py",
   "mimetype": "text/x-python",
   "name": "python",
   "nbconvert_exporter": "python",
   "pygments_lexer": "ipython3",
   "version": "3.9.16"
  }
 },
 "nbformat": 4,
 "nbformat_minor": 5
}
